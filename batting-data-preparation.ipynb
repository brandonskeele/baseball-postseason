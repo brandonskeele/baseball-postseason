{
 "cells": [
  {
   "cell_type": "code",
   "execution_count": 6,
   "metadata": {},
   "outputs": [],
   "source": [
    "### Import Packages\n",
    "\n",
    "import pandas as pd\n",
    "import numpy as np\n",
    "import os\n",
    "import pickle"
   ]
  },
  {
   "cell_type": "code",
   "execution_count": 7,
   "metadata": {},
   "outputs": [
    {
     "name": "stderr",
     "output_type": "stream",
     "text": [
      "/var/folders/fh/fzyqqz2s1vzcm3v06kz1h29w0000gp/T/ipykernel_4955/802688217.py:2: DtypeWarning: Columns (30) have mixed types. Specify dtype option on import or set low_memory=False.\n",
      "  all_batting_stats = pd.read_csv('baseball_data/batting.csv')\n"
     ]
    }
   ],
   "source": [
    "### Read in all batting data\n",
    "\n",
    "teams = pd.read_csv('playoff_teams.csv')\n",
    "all_batting_stats = pd.read_csv('baseball_data/batting.csv')"
   ]
  },
  {
   "cell_type": "code",
   "execution_count": 11,
   "metadata": {},
   "outputs": [],
   "source": [
    "### Select features\n",
    "\n",
    "# Features used before feature engineering\n",
    "batting_features = ['id', 'b_pa', 'b_ab', 'b_r', 'b_h', 'b_d', 'b_t', 'b_hr', 'b_rbi', 'b_sh', 'b_sf', 'b_hbp', 'b_w', 'b_iw', 'b_k', 'b_sb', 'b_cs', 'b_gdp', 'b_xi', 'b_roe']\n",
    "# Final feature selection\n",
    "batting_features_final = ['b_pa', 'b_r', 'b_d', 'b_t', 'b_hr', 'b_rbi', 'b_sh', 'b_sf', 'b_hbp', 'b_w', 'b_iw', 'b_k', 'b_sb', 'b_cs', 'b_gdp', 'b_xi', 'b_roe', 'ba', 'ops']"
   ]
  },
  {
   "cell_type": "code",
   "execution_count": null,
   "metadata": {},
   "outputs": [],
   "source": [
    "### Loop through all playoff teams and save data\n",
    "\n",
    "# Define number of players in list\n",
    "max_players = 25\n",
    "num_features = len(batting_features_final)\n",
    "\n",
    "all_seasons = np.empty([0, max_players, num_features])\n",
    "\n",
    "## Start loop\n",
    "for index, team in teams.iterrows():\n",
    "    print(f\"Index: {index}, Year: {team['Year']} Team: {team['Team']}, Level of Success: {team['Level of Success']}\")\n",
    "    # Filter all stats to appropriate team\n",
    "    temp_stats = all_batting_stats[all_batting_stats['team'] == team['Team']][all_batting_stats['date'].astype(str).str.startswith(str(team['Year']))][all_batting_stats['gametype'] == 'regular'][batting_features]\n",
    "    temp_stats = temp_stats.groupby(by='id').sum()\n",
    "\n",
    "    ## Feature engineering\n",
    "    # Total number of hits / Total number of at-bats\n",
    "    temp_stats['ba'] = temp_stats['b_h'] / temp_stats['b_ab']\n",
    "    # Total number of trips to first base / Total at-bats\n",
    "    temp_stats['obp'] = (temp_stats['b_h'] + temp_stats['b_w'] + temp_stats['b_hbp'] + temp_stats['b_iw'] + temp_stats['b_roe'] + temp_stats['b_xi']) / temp_stats['b_ab']\n",
    "    # Total bases / Total at-bats\n",
    "    temp_stats['slg'] = ((temp_stats['b_h'] - temp_stats['b_d'] - temp_stats['b_t'] - temp_stats['b_hr']) + (temp_stats['b_d'] * 2) + (temp_stats['b_t'] * 3) + (temp_stats['b_hr'] * 4)) / temp_stats['b_ab']\n",
    "    # OBP + SLG\n",
    "    temp_stats['ops'] = temp_stats['obp'] + temp_stats['slg']\n",
    "\n",
    "    # Sort players by total number of plate appearances and then by batting average\n",
    "    # This will place the most-used players at the top of the list and then the best performing players on top in case of a tie.\n",
    "    temp_stats = temp_stats.sort_values(by=['b_pa', 'ba'], ascending=[False, False])\n",
    "    temp_stats = temp_stats.drop(columns=['b_ab', 'b_h', 'obp', 'slg'])\n",
    "    temp_stats = temp_stats.to_numpy()\n",
    "\n",
    "    # Adding padding to teams which used fewer than max_players for batting throughout the season\n",
    "    padding = max_players - temp_stats.shape[0]\n",
    "    if padding > 0:\n",
    "        temp_stats = np.pad(temp_stats, ((0, padding), (0, 0)), mode='constant')\n",
    "    elif padding < 0:\n",
    "        temp_stats = temp_stats[:max_players,]\n",
    "    temp_stats = np.reshape(temp_stats, (1, max_players, num_features))\n",
    "\n",
    "    all_seasons = np.vstack((all_seasons, temp_stats))\n",
    "\n",
    "# Save data to .pkl file\n",
    "with open('all_batting_data.pkl', 'wb') as file:\n",
    "    pickle.dump(all_seasons, file)\n",
    "\n",
    "print(\"Data saved to 'all_batting_data.pkl'\")"
   ]
  },
  {
   "cell_type": "code",
   "execution_count": null,
   "metadata": {},
   "outputs": [],
   "source": []
  }
 ],
 "metadata": {
  "kernelspec": {
   "display_name": "stat486venv",
   "language": "python",
   "name": "python3"
  },
  "language_info": {
   "codemirror_mode": {
    "name": "ipython",
    "version": 3
   },
   "file_extension": ".py",
   "mimetype": "text/x-python",
   "name": "python",
   "nbconvert_exporter": "python",
   "pygments_lexer": "ipython3",
   "version": "3.11.5"
  }
 },
 "nbformat": 4,
 "nbformat_minor": 2
}
