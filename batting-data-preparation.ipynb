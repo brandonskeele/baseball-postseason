{
 "cells": [
  {
   "cell_type": "code",
   "execution_count": 6,
   "metadata": {},
   "outputs": [],
   "source": [
    "# Import Packages\n",
    "\n",
    "import pandas as pd\n",
    "import numpy as np\n",
    "import os\n",
    "import pickle"
   ]
  },
  {
   "cell_type": "code",
   "execution_count": 7,
   "metadata": {},
   "outputs": [
    {
     "name": "stderr",
     "output_type": "stream",
     "text": [
      "/var/folders/fh/fzyqqz2s1vzcm3v06kz1h29w0000gp/T/ipykernel_4955/802688217.py:2: DtypeWarning: Columns (30) have mixed types. Specify dtype option on import or set low_memory=False.\n",
      "  all_batting_stats = pd.read_csv('baseball_data/batting.csv')\n"
     ]
    }
   ],
   "source": [
    "teams = pd.read_csv('playoff_teams.csv')\n",
    "all_batting_stats = pd.read_csv('baseball_data/batting.csv')"
   ]
  },
  {
   "cell_type": "code",
   "execution_count": 11,
   "metadata": {},
   "outputs": [],
   "source": [
    "batting_features = ['id', 'b_pa', 'b_ab', 'b_r', 'b_h', 'b_d', 'b_t', 'b_hr', 'b_rbi', 'b_sh', 'b_sf', 'b_hbp', 'b_w', 'b_iw', 'b_k', 'b_sb', 'b_cs', 'b_gdp', 'b_xi', 'b_roe']\n",
    "batting_features_final = ['b_pa', 'b_r', 'b_d', 'b_t', 'b_hr', 'b_rbi', 'b_sh', 'b_sf', 'b_hbp', 'b_w', 'b_iw', 'b_k', 'b_sb', 'b_cs', 'b_gdp', 'b_xi', 'b_roe', 'ba', 'ops']"
   ]
  },
  {
   "cell_type": "code",
   "execution_count": 12,
   "metadata": {},
   "outputs": [
    {
     "name": "stdout",
     "output_type": "stream",
     "text": [
      "Index: 0, Year: 1995 Team: BOS, Level of Success: DS\n"
     ]
    },
    {
     "name": "stderr",
     "output_type": "stream",
     "text": [
      "/var/folders/fh/fzyqqz2s1vzcm3v06kz1h29w0000gp/T/ipykernel_4955/2624505310.py:8: UserWarning: Boolean Series key will be reindexed to match DataFrame index.\n",
      "  temp_stats = all_batting_stats[all_batting_stats['team'] == team['Team']][all_batting_stats['date'].astype(str).str.startswith(str(team['Year']))][all_batting_stats['gametype'] == 'regular'][batting_features]\n",
      "/var/folders/fh/fzyqqz2s1vzcm3v06kz1h29w0000gp/T/ipykernel_4955/2624505310.py:8: UserWarning: Boolean Series key will be reindexed to match DataFrame index.\n",
      "  temp_stats = all_batting_stats[all_batting_stats['team'] == team['Team']][all_batting_stats['date'].astype(str).str.startswith(str(team['Year']))][all_batting_stats['gametype'] == 'regular'][batting_features]\n"
     ]
    },
    {
     "name": "stdout",
     "output_type": "stream",
     "text": [
      "Index: 1, Year: 1995 Team: CLE, Level of Success: WS\n"
     ]
    },
    {
     "name": "stderr",
     "output_type": "stream",
     "text": [
      "/var/folders/fh/fzyqqz2s1vzcm3v06kz1h29w0000gp/T/ipykernel_4955/2624505310.py:8: UserWarning: Boolean Series key will be reindexed to match DataFrame index.\n",
      "  temp_stats = all_batting_stats[all_batting_stats['team'] == team['Team']][all_batting_stats['date'].astype(str).str.startswith(str(team['Year']))][all_batting_stats['gametype'] == 'regular'][batting_features]\n",
      "/var/folders/fh/fzyqqz2s1vzcm3v06kz1h29w0000gp/T/ipykernel_4955/2624505310.py:8: UserWarning: Boolean Series key will be reindexed to match DataFrame index.\n",
      "  temp_stats = all_batting_stats[all_batting_stats['team'] == team['Team']][all_batting_stats['date'].astype(str).str.startswith(str(team['Year']))][all_batting_stats['gametype'] == 'regular'][batting_features]\n"
     ]
    },
    {
     "name": "stdout",
     "output_type": "stream",
     "text": [
      "Index: 2, Year: 1995 Team: SEA, Level of Success: LS\n"
     ]
    },
    {
     "name": "stderr",
     "output_type": "stream",
     "text": [
      "/var/folders/fh/fzyqqz2s1vzcm3v06kz1h29w0000gp/T/ipykernel_4955/2624505310.py:8: UserWarning: Boolean Series key will be reindexed to match DataFrame index.\n",
      "  temp_stats = all_batting_stats[all_batting_stats['team'] == team['Team']][all_batting_stats['date'].astype(str).str.startswith(str(team['Year']))][all_batting_stats['gametype'] == 'regular'][batting_features]\n",
      "/var/folders/fh/fzyqqz2s1vzcm3v06kz1h29w0000gp/T/ipykernel_4955/2624505310.py:8: UserWarning: Boolean Series key will be reindexed to match DataFrame index.\n",
      "  temp_stats = all_batting_stats[all_batting_stats['team'] == team['Team']][all_batting_stats['date'].astype(str).str.startswith(str(team['Year']))][all_batting_stats['gametype'] == 'regular'][batting_features]\n"
     ]
    },
    {
     "name": "stdout",
     "output_type": "stream",
     "text": [
      "Index: 3, Year: 1995 Team: NYA, Level of Success: DS\n"
     ]
    },
    {
     "name": "stderr",
     "output_type": "stream",
     "text": [
      "/var/folders/fh/fzyqqz2s1vzcm3v06kz1h29w0000gp/T/ipykernel_4955/2624505310.py:8: UserWarning: Boolean Series key will be reindexed to match DataFrame index.\n",
      "  temp_stats = all_batting_stats[all_batting_stats['team'] == team['Team']][all_batting_stats['date'].astype(str).str.startswith(str(team['Year']))][all_batting_stats['gametype'] == 'regular'][batting_features]\n",
      "/var/folders/fh/fzyqqz2s1vzcm3v06kz1h29w0000gp/T/ipykernel_4955/2624505310.py:8: UserWarning: Boolean Series key will be reindexed to match DataFrame index.\n",
      "  temp_stats = all_batting_stats[all_batting_stats['team'] == team['Team']][all_batting_stats['date'].astype(str).str.startswith(str(team['Year']))][all_batting_stats['gametype'] == 'regular'][batting_features]\n"
     ]
    },
    {
     "name": "stdout",
     "output_type": "stream",
     "text": [
      "Index: 4, Year: 1995 Team: ATL, Level of Success: C\n"
     ]
    },
    {
     "name": "stderr",
     "output_type": "stream",
     "text": [
      "/var/folders/fh/fzyqqz2s1vzcm3v06kz1h29w0000gp/T/ipykernel_4955/2624505310.py:8: UserWarning: Boolean Series key will be reindexed to match DataFrame index.\n",
      "  temp_stats = all_batting_stats[all_batting_stats['team'] == team['Team']][all_batting_stats['date'].astype(str).str.startswith(str(team['Year']))][all_batting_stats['gametype'] == 'regular'][batting_features]\n",
      "/var/folders/fh/fzyqqz2s1vzcm3v06kz1h29w0000gp/T/ipykernel_4955/2624505310.py:8: UserWarning: Boolean Series key will be reindexed to match DataFrame index.\n",
      "  temp_stats = all_batting_stats[all_batting_stats['team'] == team['Team']][all_batting_stats['date'].astype(str).str.startswith(str(team['Year']))][all_batting_stats['gametype'] == 'regular'][batting_features]\n"
     ]
    },
    {
     "name": "stdout",
     "output_type": "stream",
     "text": [
      "Index: 5, Year: 1995 Team: CIN, Level of Success: LS\n"
     ]
    },
    {
     "name": "stderr",
     "output_type": "stream",
     "text": [
      "/var/folders/fh/fzyqqz2s1vzcm3v06kz1h29w0000gp/T/ipykernel_4955/2624505310.py:8: UserWarning: Boolean Series key will be reindexed to match DataFrame index.\n",
      "  temp_stats = all_batting_stats[all_batting_stats['team'] == team['Team']][all_batting_stats['date'].astype(str).str.startswith(str(team['Year']))][all_batting_stats['gametype'] == 'regular'][batting_features]\n",
      "/var/folders/fh/fzyqqz2s1vzcm3v06kz1h29w0000gp/T/ipykernel_4955/2624505310.py:8: UserWarning: Boolean Series key will be reindexed to match DataFrame index.\n",
      "  temp_stats = all_batting_stats[all_batting_stats['team'] == team['Team']][all_batting_stats['date'].astype(str).str.startswith(str(team['Year']))][all_batting_stats['gametype'] == 'regular'][batting_features]\n"
     ]
    },
    {
     "name": "stdout",
     "output_type": "stream",
     "text": [
      "Index: 6, Year: 1995 Team: LAN, Level of Success: DS\n"
     ]
    },
    {
     "name": "stderr",
     "output_type": "stream",
     "text": [
      "/var/folders/fh/fzyqqz2s1vzcm3v06kz1h29w0000gp/T/ipykernel_4955/2624505310.py:8: UserWarning: Boolean Series key will be reindexed to match DataFrame index.\n",
      "  temp_stats = all_batting_stats[all_batting_stats['team'] == team['Team']][all_batting_stats['date'].astype(str).str.startswith(str(team['Year']))][all_batting_stats['gametype'] == 'regular'][batting_features]\n",
      "/var/folders/fh/fzyqqz2s1vzcm3v06kz1h29w0000gp/T/ipykernel_4955/2624505310.py:8: UserWarning: Boolean Series key will be reindexed to match DataFrame index.\n",
      "  temp_stats = all_batting_stats[all_batting_stats['team'] == team['Team']][all_batting_stats['date'].astype(str).str.startswith(str(team['Year']))][all_batting_stats['gametype'] == 'regular'][batting_features]\n"
     ]
    },
    {
     "name": "stdout",
     "output_type": "stream",
     "text": [
      "Index: 7, Year: 1995 Team: COL, Level of Success: DS\n"
     ]
    },
    {
     "name": "stderr",
     "output_type": "stream",
     "text": [
      "/var/folders/fh/fzyqqz2s1vzcm3v06kz1h29w0000gp/T/ipykernel_4955/2624505310.py:8: UserWarning: Boolean Series key will be reindexed to match DataFrame index.\n",
      "  temp_stats = all_batting_stats[all_batting_stats['team'] == team['Team']][all_batting_stats['date'].astype(str).str.startswith(str(team['Year']))][all_batting_stats['gametype'] == 'regular'][batting_features]\n",
      "/var/folders/fh/fzyqqz2s1vzcm3v06kz1h29w0000gp/T/ipykernel_4955/2624505310.py:8: UserWarning: Boolean Series key will be reindexed to match DataFrame index.\n",
      "  temp_stats = all_batting_stats[all_batting_stats['team'] == team['Team']][all_batting_stats['date'].astype(str).str.startswith(str(team['Year']))][all_batting_stats['gametype'] == 'regular'][batting_features]\n"
     ]
    },
    {
     "name": "stdout",
     "output_type": "stream",
     "text": [
      "Index: 8, Year: 1996 Team: NYA, Level of Success: C\n"
     ]
    },
    {
     "name": "stderr",
     "output_type": "stream",
     "text": [
      "/var/folders/fh/fzyqqz2s1vzcm3v06kz1h29w0000gp/T/ipykernel_4955/2624505310.py:8: UserWarning: Boolean Series key will be reindexed to match DataFrame index.\n",
      "  temp_stats = all_batting_stats[all_batting_stats['team'] == team['Team']][all_batting_stats['date'].astype(str).str.startswith(str(team['Year']))][all_batting_stats['gametype'] == 'regular'][batting_features]\n",
      "/var/folders/fh/fzyqqz2s1vzcm3v06kz1h29w0000gp/T/ipykernel_4955/2624505310.py:8: UserWarning: Boolean Series key will be reindexed to match DataFrame index.\n",
      "  temp_stats = all_batting_stats[all_batting_stats['team'] == team['Team']][all_batting_stats['date'].astype(str).str.startswith(str(team['Year']))][all_batting_stats['gametype'] == 'regular'][batting_features]\n"
     ]
    },
    {
     "name": "stdout",
     "output_type": "stream",
     "text": [
      "Index: 9, Year: 1996 Team: CLE, Level of Success: DS\n"
     ]
    },
    {
     "name": "stderr",
     "output_type": "stream",
     "text": [
      "/var/folders/fh/fzyqqz2s1vzcm3v06kz1h29w0000gp/T/ipykernel_4955/2624505310.py:8: UserWarning: Boolean Series key will be reindexed to match DataFrame index.\n",
      "  temp_stats = all_batting_stats[all_batting_stats['team'] == team['Team']][all_batting_stats['date'].astype(str).str.startswith(str(team['Year']))][all_batting_stats['gametype'] == 'regular'][batting_features]\n",
      "/var/folders/fh/fzyqqz2s1vzcm3v06kz1h29w0000gp/T/ipykernel_4955/2624505310.py:8: UserWarning: Boolean Series key will be reindexed to match DataFrame index.\n",
      "  temp_stats = all_batting_stats[all_batting_stats['team'] == team['Team']][all_batting_stats['date'].astype(str).str.startswith(str(team['Year']))][all_batting_stats['gametype'] == 'regular'][batting_features]\n"
     ]
    },
    {
     "name": "stdout",
     "output_type": "stream",
     "text": [
      "Index: 10, Year: 1996 Team: TEX, Level of Success: DS\n"
     ]
    },
    {
     "name": "stderr",
     "output_type": "stream",
     "text": [
      "/var/folders/fh/fzyqqz2s1vzcm3v06kz1h29w0000gp/T/ipykernel_4955/2624505310.py:8: UserWarning: Boolean Series key will be reindexed to match DataFrame index.\n",
      "  temp_stats = all_batting_stats[all_batting_stats['team'] == team['Team']][all_batting_stats['date'].astype(str).str.startswith(str(team['Year']))][all_batting_stats['gametype'] == 'regular'][batting_features]\n",
      "/var/folders/fh/fzyqqz2s1vzcm3v06kz1h29w0000gp/T/ipykernel_4955/2624505310.py:8: UserWarning: Boolean Series key will be reindexed to match DataFrame index.\n",
      "  temp_stats = all_batting_stats[all_batting_stats['team'] == team['Team']][all_batting_stats['date'].astype(str).str.startswith(str(team['Year']))][all_batting_stats['gametype'] == 'regular'][batting_features]\n"
     ]
    },
    {
     "name": "stdout",
     "output_type": "stream",
     "text": [
      "Index: 11, Year: 1996 Team: BAL, Level of Success: LS\n"
     ]
    },
    {
     "name": "stderr",
     "output_type": "stream",
     "text": [
      "/var/folders/fh/fzyqqz2s1vzcm3v06kz1h29w0000gp/T/ipykernel_4955/2624505310.py:8: UserWarning: Boolean Series key will be reindexed to match DataFrame index.\n",
      "  temp_stats = all_batting_stats[all_batting_stats['team'] == team['Team']][all_batting_stats['date'].astype(str).str.startswith(str(team['Year']))][all_batting_stats['gametype'] == 'regular'][batting_features]\n",
      "/var/folders/fh/fzyqqz2s1vzcm3v06kz1h29w0000gp/T/ipykernel_4955/2624505310.py:8: UserWarning: Boolean Series key will be reindexed to match DataFrame index.\n",
      "  temp_stats = all_batting_stats[all_batting_stats['team'] == team['Team']][all_batting_stats['date'].astype(str).str.startswith(str(team['Year']))][all_batting_stats['gametype'] == 'regular'][batting_features]\n"
     ]
    },
    {
     "name": "stdout",
     "output_type": "stream",
     "text": [
      "Index: 12, Year: 1996 Team: ATL, Level of Success: WS\n"
     ]
    },
    {
     "name": "stderr",
     "output_type": "stream",
     "text": [
      "/var/folders/fh/fzyqqz2s1vzcm3v06kz1h29w0000gp/T/ipykernel_4955/2624505310.py:8: UserWarning: Boolean Series key will be reindexed to match DataFrame index.\n",
      "  temp_stats = all_batting_stats[all_batting_stats['team'] == team['Team']][all_batting_stats['date'].astype(str).str.startswith(str(team['Year']))][all_batting_stats['gametype'] == 'regular'][batting_features]\n",
      "/var/folders/fh/fzyqqz2s1vzcm3v06kz1h29w0000gp/T/ipykernel_4955/2624505310.py:8: UserWarning: Boolean Series key will be reindexed to match DataFrame index.\n",
      "  temp_stats = all_batting_stats[all_batting_stats['team'] == team['Team']][all_batting_stats['date'].astype(str).str.startswith(str(team['Year']))][all_batting_stats['gametype'] == 'regular'][batting_features]\n"
     ]
    },
    {
     "name": "stdout",
     "output_type": "stream",
     "text": [
      "Index: 13, Year: 1996 Team: SLN, Level of Success: LS\n"
     ]
    },
    {
     "name": "stderr",
     "output_type": "stream",
     "text": [
      "/var/folders/fh/fzyqqz2s1vzcm3v06kz1h29w0000gp/T/ipykernel_4955/2624505310.py:8: UserWarning: Boolean Series key will be reindexed to match DataFrame index.\n",
      "  temp_stats = all_batting_stats[all_batting_stats['team'] == team['Team']][all_batting_stats['date'].astype(str).str.startswith(str(team['Year']))][all_batting_stats['gametype'] == 'regular'][batting_features]\n",
      "/var/folders/fh/fzyqqz2s1vzcm3v06kz1h29w0000gp/T/ipykernel_4955/2624505310.py:8: UserWarning: Boolean Series key will be reindexed to match DataFrame index.\n",
      "  temp_stats = all_batting_stats[all_batting_stats['team'] == team['Team']][all_batting_stats['date'].astype(str).str.startswith(str(team['Year']))][all_batting_stats['gametype'] == 'regular'][batting_features]\n"
     ]
    },
    {
     "name": "stdout",
     "output_type": "stream",
     "text": [
      "Index: 14, Year: 1996 Team: SDN, Level of Success: DS\n"
     ]
    },
    {
     "name": "stderr",
     "output_type": "stream",
     "text": [
      "/var/folders/fh/fzyqqz2s1vzcm3v06kz1h29w0000gp/T/ipykernel_4955/2624505310.py:8: UserWarning: Boolean Series key will be reindexed to match DataFrame index.\n",
      "  temp_stats = all_batting_stats[all_batting_stats['team'] == team['Team']][all_batting_stats['date'].astype(str).str.startswith(str(team['Year']))][all_batting_stats['gametype'] == 'regular'][batting_features]\n",
      "/var/folders/fh/fzyqqz2s1vzcm3v06kz1h29w0000gp/T/ipykernel_4955/2624505310.py:8: UserWarning: Boolean Series key will be reindexed to match DataFrame index.\n",
      "  temp_stats = all_batting_stats[all_batting_stats['team'] == team['Team']][all_batting_stats['date'].astype(str).str.startswith(str(team['Year']))][all_batting_stats['gametype'] == 'regular'][batting_features]\n"
     ]
    },
    {
     "name": "stdout",
     "output_type": "stream",
     "text": [
      "Index: 15, Year: 1996 Team: LAN, Level of Success: DS\n"
     ]
    },
    {
     "name": "stderr",
     "output_type": "stream",
     "text": [
      "/var/folders/fh/fzyqqz2s1vzcm3v06kz1h29w0000gp/T/ipykernel_4955/2624505310.py:8: UserWarning: Boolean Series key will be reindexed to match DataFrame index.\n",
      "  temp_stats = all_batting_stats[all_batting_stats['team'] == team['Team']][all_batting_stats['date'].astype(str).str.startswith(str(team['Year']))][all_batting_stats['gametype'] == 'regular'][batting_features]\n",
      "/var/folders/fh/fzyqqz2s1vzcm3v06kz1h29w0000gp/T/ipykernel_4955/2624505310.py:8: UserWarning: Boolean Series key will be reindexed to match DataFrame index.\n",
      "  temp_stats = all_batting_stats[all_batting_stats['team'] == team['Team']][all_batting_stats['date'].astype(str).str.startswith(str(team['Year']))][all_batting_stats['gametype'] == 'regular'][batting_features]\n"
     ]
    },
    {
     "name": "stdout",
     "output_type": "stream",
     "text": [
      "Index: 16, Year: 1997 Team: BAL, Level of Success: LS\n"
     ]
    },
    {
     "name": "stderr",
     "output_type": "stream",
     "text": [
      "/var/folders/fh/fzyqqz2s1vzcm3v06kz1h29w0000gp/T/ipykernel_4955/2624505310.py:8: UserWarning: Boolean Series key will be reindexed to match DataFrame index.\n",
      "  temp_stats = all_batting_stats[all_batting_stats['team'] == team['Team']][all_batting_stats['date'].astype(str).str.startswith(str(team['Year']))][all_batting_stats['gametype'] == 'regular'][batting_features]\n",
      "/var/folders/fh/fzyqqz2s1vzcm3v06kz1h29w0000gp/T/ipykernel_4955/2624505310.py:8: UserWarning: Boolean Series key will be reindexed to match DataFrame index.\n",
      "  temp_stats = all_batting_stats[all_batting_stats['team'] == team['Team']][all_batting_stats['date'].astype(str).str.startswith(str(team['Year']))][all_batting_stats['gametype'] == 'regular'][batting_features]\n"
     ]
    },
    {
     "name": "stdout",
     "output_type": "stream",
     "text": [
      "Index: 17, Year: 1997 Team: CLE, Level of Success: WS\n"
     ]
    },
    {
     "name": "stderr",
     "output_type": "stream",
     "text": [
      "/var/folders/fh/fzyqqz2s1vzcm3v06kz1h29w0000gp/T/ipykernel_4955/2624505310.py:8: UserWarning: Boolean Series key will be reindexed to match DataFrame index.\n",
      "  temp_stats = all_batting_stats[all_batting_stats['team'] == team['Team']][all_batting_stats['date'].astype(str).str.startswith(str(team['Year']))][all_batting_stats['gametype'] == 'regular'][batting_features]\n",
      "/var/folders/fh/fzyqqz2s1vzcm3v06kz1h29w0000gp/T/ipykernel_4955/2624505310.py:8: UserWarning: Boolean Series key will be reindexed to match DataFrame index.\n",
      "  temp_stats = all_batting_stats[all_batting_stats['team'] == team['Team']][all_batting_stats['date'].astype(str).str.startswith(str(team['Year']))][all_batting_stats['gametype'] == 'regular'][batting_features]\n"
     ]
    },
    {
     "name": "stdout",
     "output_type": "stream",
     "text": [
      "Index: 18, Year: 1997 Team: SEA, Level of Success: DS\n"
     ]
    },
    {
     "name": "stderr",
     "output_type": "stream",
     "text": [
      "/var/folders/fh/fzyqqz2s1vzcm3v06kz1h29w0000gp/T/ipykernel_4955/2624505310.py:8: UserWarning: Boolean Series key will be reindexed to match DataFrame index.\n",
      "  temp_stats = all_batting_stats[all_batting_stats['team'] == team['Team']][all_batting_stats['date'].astype(str).str.startswith(str(team['Year']))][all_batting_stats['gametype'] == 'regular'][batting_features]\n",
      "/var/folders/fh/fzyqqz2s1vzcm3v06kz1h29w0000gp/T/ipykernel_4955/2624505310.py:8: UserWarning: Boolean Series key will be reindexed to match DataFrame index.\n",
      "  temp_stats = all_batting_stats[all_batting_stats['team'] == team['Team']][all_batting_stats['date'].astype(str).str.startswith(str(team['Year']))][all_batting_stats['gametype'] == 'regular'][batting_features]\n"
     ]
    },
    {
     "name": "stdout",
     "output_type": "stream",
     "text": [
      "Index: 19, Year: 1997 Team: NYA, Level of Success: DS\n"
     ]
    },
    {
     "name": "stderr",
     "output_type": "stream",
     "text": [
      "/var/folders/fh/fzyqqz2s1vzcm3v06kz1h29w0000gp/T/ipykernel_4955/2624505310.py:8: UserWarning: Boolean Series key will be reindexed to match DataFrame index.\n",
      "  temp_stats = all_batting_stats[all_batting_stats['team'] == team['Team']][all_batting_stats['date'].astype(str).str.startswith(str(team['Year']))][all_batting_stats['gametype'] == 'regular'][batting_features]\n",
      "/var/folders/fh/fzyqqz2s1vzcm3v06kz1h29w0000gp/T/ipykernel_4955/2624505310.py:8: UserWarning: Boolean Series key will be reindexed to match DataFrame index.\n",
      "  temp_stats = all_batting_stats[all_batting_stats['team'] == team['Team']][all_batting_stats['date'].astype(str).str.startswith(str(team['Year']))][all_batting_stats['gametype'] == 'regular'][batting_features]\n"
     ]
    },
    {
     "name": "stdout",
     "output_type": "stream",
     "text": [
      "Index: 20, Year: 1997 Team: ATL, Level of Success: LS\n"
     ]
    },
    {
     "name": "stderr",
     "output_type": "stream",
     "text": [
      "/var/folders/fh/fzyqqz2s1vzcm3v06kz1h29w0000gp/T/ipykernel_4955/2624505310.py:8: UserWarning: Boolean Series key will be reindexed to match DataFrame index.\n",
      "  temp_stats = all_batting_stats[all_batting_stats['team'] == team['Team']][all_batting_stats['date'].astype(str).str.startswith(str(team['Year']))][all_batting_stats['gametype'] == 'regular'][batting_features]\n",
      "/var/folders/fh/fzyqqz2s1vzcm3v06kz1h29w0000gp/T/ipykernel_4955/2624505310.py:8: UserWarning: Boolean Series key will be reindexed to match DataFrame index.\n",
      "  temp_stats = all_batting_stats[all_batting_stats['team'] == team['Team']][all_batting_stats['date'].astype(str).str.startswith(str(team['Year']))][all_batting_stats['gametype'] == 'regular'][batting_features]\n"
     ]
    },
    {
     "name": "stdout",
     "output_type": "stream",
     "text": [
      "Index: 21, Year: 1997 Team: HOU, Level of Success: DS\n"
     ]
    },
    {
     "name": "stderr",
     "output_type": "stream",
     "text": [
      "/var/folders/fh/fzyqqz2s1vzcm3v06kz1h29w0000gp/T/ipykernel_4955/2624505310.py:8: UserWarning: Boolean Series key will be reindexed to match DataFrame index.\n",
      "  temp_stats = all_batting_stats[all_batting_stats['team'] == team['Team']][all_batting_stats['date'].astype(str).str.startswith(str(team['Year']))][all_batting_stats['gametype'] == 'regular'][batting_features]\n",
      "/var/folders/fh/fzyqqz2s1vzcm3v06kz1h29w0000gp/T/ipykernel_4955/2624505310.py:8: UserWarning: Boolean Series key will be reindexed to match DataFrame index.\n",
      "  temp_stats = all_batting_stats[all_batting_stats['team'] == team['Team']][all_batting_stats['date'].astype(str).str.startswith(str(team['Year']))][all_batting_stats['gametype'] == 'regular'][batting_features]\n"
     ]
    },
    {
     "name": "stdout",
     "output_type": "stream",
     "text": [
      "Index: 22, Year: 1997 Team: SFN, Level of Success: DS\n"
     ]
    },
    {
     "name": "stderr",
     "output_type": "stream",
     "text": [
      "/var/folders/fh/fzyqqz2s1vzcm3v06kz1h29w0000gp/T/ipykernel_4955/2624505310.py:8: UserWarning: Boolean Series key will be reindexed to match DataFrame index.\n",
      "  temp_stats = all_batting_stats[all_batting_stats['team'] == team['Team']][all_batting_stats['date'].astype(str).str.startswith(str(team['Year']))][all_batting_stats['gametype'] == 'regular'][batting_features]\n",
      "/var/folders/fh/fzyqqz2s1vzcm3v06kz1h29w0000gp/T/ipykernel_4955/2624505310.py:8: UserWarning: Boolean Series key will be reindexed to match DataFrame index.\n",
      "  temp_stats = all_batting_stats[all_batting_stats['team'] == team['Team']][all_batting_stats['date'].astype(str).str.startswith(str(team['Year']))][all_batting_stats['gametype'] == 'regular'][batting_features]\n"
     ]
    },
    {
     "name": "stdout",
     "output_type": "stream",
     "text": [
      "Index: 23, Year: 1997 Team: FLO, Level of Success: C\n"
     ]
    },
    {
     "name": "stderr",
     "output_type": "stream",
     "text": [
      "/var/folders/fh/fzyqqz2s1vzcm3v06kz1h29w0000gp/T/ipykernel_4955/2624505310.py:8: UserWarning: Boolean Series key will be reindexed to match DataFrame index.\n",
      "  temp_stats = all_batting_stats[all_batting_stats['team'] == team['Team']][all_batting_stats['date'].astype(str).str.startswith(str(team['Year']))][all_batting_stats['gametype'] == 'regular'][batting_features]\n",
      "/var/folders/fh/fzyqqz2s1vzcm3v06kz1h29w0000gp/T/ipykernel_4955/2624505310.py:8: UserWarning: Boolean Series key will be reindexed to match DataFrame index.\n",
      "  temp_stats = all_batting_stats[all_batting_stats['team'] == team['Team']][all_batting_stats['date'].astype(str).str.startswith(str(team['Year']))][all_batting_stats['gametype'] == 'regular'][batting_features]\n"
     ]
    },
    {
     "name": "stdout",
     "output_type": "stream",
     "text": [
      "Index: 24, Year: 1998 Team: NYA, Level of Success: C\n"
     ]
    },
    {
     "name": "stderr",
     "output_type": "stream",
     "text": [
      "/var/folders/fh/fzyqqz2s1vzcm3v06kz1h29w0000gp/T/ipykernel_4955/2624505310.py:8: UserWarning: Boolean Series key will be reindexed to match DataFrame index.\n",
      "  temp_stats = all_batting_stats[all_batting_stats['team'] == team['Team']][all_batting_stats['date'].astype(str).str.startswith(str(team['Year']))][all_batting_stats['gametype'] == 'regular'][batting_features]\n",
      "/var/folders/fh/fzyqqz2s1vzcm3v06kz1h29w0000gp/T/ipykernel_4955/2624505310.py:8: UserWarning: Boolean Series key will be reindexed to match DataFrame index.\n",
      "  temp_stats = all_batting_stats[all_batting_stats['team'] == team['Team']][all_batting_stats['date'].astype(str).str.startswith(str(team['Year']))][all_batting_stats['gametype'] == 'regular'][batting_features]\n"
     ]
    },
    {
     "name": "stdout",
     "output_type": "stream",
     "text": [
      "Index: 25, Year: 1998 Team: CLE, Level of Success: LS\n"
     ]
    },
    {
     "name": "stderr",
     "output_type": "stream",
     "text": [
      "/var/folders/fh/fzyqqz2s1vzcm3v06kz1h29w0000gp/T/ipykernel_4955/2624505310.py:8: UserWarning: Boolean Series key will be reindexed to match DataFrame index.\n",
      "  temp_stats = all_batting_stats[all_batting_stats['team'] == team['Team']][all_batting_stats['date'].astype(str).str.startswith(str(team['Year']))][all_batting_stats['gametype'] == 'regular'][batting_features]\n",
      "/var/folders/fh/fzyqqz2s1vzcm3v06kz1h29w0000gp/T/ipykernel_4955/2624505310.py:8: UserWarning: Boolean Series key will be reindexed to match DataFrame index.\n",
      "  temp_stats = all_batting_stats[all_batting_stats['team'] == team['Team']][all_batting_stats['date'].astype(str).str.startswith(str(team['Year']))][all_batting_stats['gametype'] == 'regular'][batting_features]\n"
     ]
    },
    {
     "name": "stdout",
     "output_type": "stream",
     "text": [
      "Index: 26, Year: 1998 Team: TEX, Level of Success: DS\n"
     ]
    },
    {
     "name": "stderr",
     "output_type": "stream",
     "text": [
      "/var/folders/fh/fzyqqz2s1vzcm3v06kz1h29w0000gp/T/ipykernel_4955/2624505310.py:8: UserWarning: Boolean Series key will be reindexed to match DataFrame index.\n",
      "  temp_stats = all_batting_stats[all_batting_stats['team'] == team['Team']][all_batting_stats['date'].astype(str).str.startswith(str(team['Year']))][all_batting_stats['gametype'] == 'regular'][batting_features]\n",
      "/var/folders/fh/fzyqqz2s1vzcm3v06kz1h29w0000gp/T/ipykernel_4955/2624505310.py:8: UserWarning: Boolean Series key will be reindexed to match DataFrame index.\n",
      "  temp_stats = all_batting_stats[all_batting_stats['team'] == team['Team']][all_batting_stats['date'].astype(str).str.startswith(str(team['Year']))][all_batting_stats['gametype'] == 'regular'][batting_features]\n"
     ]
    },
    {
     "name": "stdout",
     "output_type": "stream",
     "text": [
      "Index: 27, Year: 1998 Team: BOS, Level of Success: DS\n"
     ]
    },
    {
     "name": "stderr",
     "output_type": "stream",
     "text": [
      "/var/folders/fh/fzyqqz2s1vzcm3v06kz1h29w0000gp/T/ipykernel_4955/2624505310.py:8: UserWarning: Boolean Series key will be reindexed to match DataFrame index.\n",
      "  temp_stats = all_batting_stats[all_batting_stats['team'] == team['Team']][all_batting_stats['date'].astype(str).str.startswith(str(team['Year']))][all_batting_stats['gametype'] == 'regular'][batting_features]\n",
      "/var/folders/fh/fzyqqz2s1vzcm3v06kz1h29w0000gp/T/ipykernel_4955/2624505310.py:8: UserWarning: Boolean Series key will be reindexed to match DataFrame index.\n",
      "  temp_stats = all_batting_stats[all_batting_stats['team'] == team['Team']][all_batting_stats['date'].astype(str).str.startswith(str(team['Year']))][all_batting_stats['gametype'] == 'regular'][batting_features]\n"
     ]
    },
    {
     "name": "stdout",
     "output_type": "stream",
     "text": [
      "Index: 28, Year: 1998 Team: ATL, Level of Success: LS\n"
     ]
    },
    {
     "name": "stderr",
     "output_type": "stream",
     "text": [
      "/var/folders/fh/fzyqqz2s1vzcm3v06kz1h29w0000gp/T/ipykernel_4955/2624505310.py:8: UserWarning: Boolean Series key will be reindexed to match DataFrame index.\n",
      "  temp_stats = all_batting_stats[all_batting_stats['team'] == team['Team']][all_batting_stats['date'].astype(str).str.startswith(str(team['Year']))][all_batting_stats['gametype'] == 'regular'][batting_features]\n",
      "/var/folders/fh/fzyqqz2s1vzcm3v06kz1h29w0000gp/T/ipykernel_4955/2624505310.py:8: UserWarning: Boolean Series key will be reindexed to match DataFrame index.\n",
      "  temp_stats = all_batting_stats[all_batting_stats['team'] == team['Team']][all_batting_stats['date'].astype(str).str.startswith(str(team['Year']))][all_batting_stats['gametype'] == 'regular'][batting_features]\n"
     ]
    },
    {
     "name": "stdout",
     "output_type": "stream",
     "text": [
      "Index: 29, Year: 1998 Team: HOU, Level of Success: DS\n"
     ]
    },
    {
     "name": "stderr",
     "output_type": "stream",
     "text": [
      "/var/folders/fh/fzyqqz2s1vzcm3v06kz1h29w0000gp/T/ipykernel_4955/2624505310.py:8: UserWarning: Boolean Series key will be reindexed to match DataFrame index.\n",
      "  temp_stats = all_batting_stats[all_batting_stats['team'] == team['Team']][all_batting_stats['date'].astype(str).str.startswith(str(team['Year']))][all_batting_stats['gametype'] == 'regular'][batting_features]\n",
      "/var/folders/fh/fzyqqz2s1vzcm3v06kz1h29w0000gp/T/ipykernel_4955/2624505310.py:8: UserWarning: Boolean Series key will be reindexed to match DataFrame index.\n",
      "  temp_stats = all_batting_stats[all_batting_stats['team'] == team['Team']][all_batting_stats['date'].astype(str).str.startswith(str(team['Year']))][all_batting_stats['gametype'] == 'regular'][batting_features]\n"
     ]
    },
    {
     "name": "stdout",
     "output_type": "stream",
     "text": [
      "Index: 30, Year: 1998 Team: SDN, Level of Success: WS\n"
     ]
    },
    {
     "name": "stderr",
     "output_type": "stream",
     "text": [
      "/var/folders/fh/fzyqqz2s1vzcm3v06kz1h29w0000gp/T/ipykernel_4955/2624505310.py:8: UserWarning: Boolean Series key will be reindexed to match DataFrame index.\n",
      "  temp_stats = all_batting_stats[all_batting_stats['team'] == team['Team']][all_batting_stats['date'].astype(str).str.startswith(str(team['Year']))][all_batting_stats['gametype'] == 'regular'][batting_features]\n",
      "/var/folders/fh/fzyqqz2s1vzcm3v06kz1h29w0000gp/T/ipykernel_4955/2624505310.py:8: UserWarning: Boolean Series key will be reindexed to match DataFrame index.\n",
      "  temp_stats = all_batting_stats[all_batting_stats['team'] == team['Team']][all_batting_stats['date'].astype(str).str.startswith(str(team['Year']))][all_batting_stats['gametype'] == 'regular'][batting_features]\n"
     ]
    },
    {
     "name": "stdout",
     "output_type": "stream",
     "text": [
      "Index: 31, Year: 1998 Team: CHN, Level of Success: DS\n"
     ]
    },
    {
     "name": "stderr",
     "output_type": "stream",
     "text": [
      "/var/folders/fh/fzyqqz2s1vzcm3v06kz1h29w0000gp/T/ipykernel_4955/2624505310.py:8: UserWarning: Boolean Series key will be reindexed to match DataFrame index.\n",
      "  temp_stats = all_batting_stats[all_batting_stats['team'] == team['Team']][all_batting_stats['date'].astype(str).str.startswith(str(team['Year']))][all_batting_stats['gametype'] == 'regular'][batting_features]\n",
      "/var/folders/fh/fzyqqz2s1vzcm3v06kz1h29w0000gp/T/ipykernel_4955/2624505310.py:8: UserWarning: Boolean Series key will be reindexed to match DataFrame index.\n",
      "  temp_stats = all_batting_stats[all_batting_stats['team'] == team['Team']][all_batting_stats['date'].astype(str).str.startswith(str(team['Year']))][all_batting_stats['gametype'] == 'regular'][batting_features]\n"
     ]
    },
    {
     "name": "stdout",
     "output_type": "stream",
     "text": [
      "Index: 32, Year: 1999 Team: NYA, Level of Success: C\n"
     ]
    },
    {
     "name": "stderr",
     "output_type": "stream",
     "text": [
      "/var/folders/fh/fzyqqz2s1vzcm3v06kz1h29w0000gp/T/ipykernel_4955/2624505310.py:8: UserWarning: Boolean Series key will be reindexed to match DataFrame index.\n",
      "  temp_stats = all_batting_stats[all_batting_stats['team'] == team['Team']][all_batting_stats['date'].astype(str).str.startswith(str(team['Year']))][all_batting_stats['gametype'] == 'regular'][batting_features]\n",
      "/var/folders/fh/fzyqqz2s1vzcm3v06kz1h29w0000gp/T/ipykernel_4955/2624505310.py:8: UserWarning: Boolean Series key will be reindexed to match DataFrame index.\n",
      "  temp_stats = all_batting_stats[all_batting_stats['team'] == team['Team']][all_batting_stats['date'].astype(str).str.startswith(str(team['Year']))][all_batting_stats['gametype'] == 'regular'][batting_features]\n"
     ]
    },
    {
     "name": "stdout",
     "output_type": "stream",
     "text": [
      "Index: 33, Year: 1999 Team: CLE, Level of Success: DS\n"
     ]
    },
    {
     "name": "stderr",
     "output_type": "stream",
     "text": [
      "/var/folders/fh/fzyqqz2s1vzcm3v06kz1h29w0000gp/T/ipykernel_4955/2624505310.py:8: UserWarning: Boolean Series key will be reindexed to match DataFrame index.\n",
      "  temp_stats = all_batting_stats[all_batting_stats['team'] == team['Team']][all_batting_stats['date'].astype(str).str.startswith(str(team['Year']))][all_batting_stats['gametype'] == 'regular'][batting_features]\n",
      "/var/folders/fh/fzyqqz2s1vzcm3v06kz1h29w0000gp/T/ipykernel_4955/2624505310.py:8: UserWarning: Boolean Series key will be reindexed to match DataFrame index.\n",
      "  temp_stats = all_batting_stats[all_batting_stats['team'] == team['Team']][all_batting_stats['date'].astype(str).str.startswith(str(team['Year']))][all_batting_stats['gametype'] == 'regular'][batting_features]\n"
     ]
    },
    {
     "name": "stdout",
     "output_type": "stream",
     "text": [
      "Index: 34, Year: 1999 Team: TEX, Level of Success: DS\n"
     ]
    },
    {
     "name": "stderr",
     "output_type": "stream",
     "text": [
      "/var/folders/fh/fzyqqz2s1vzcm3v06kz1h29w0000gp/T/ipykernel_4955/2624505310.py:8: UserWarning: Boolean Series key will be reindexed to match DataFrame index.\n",
      "  temp_stats = all_batting_stats[all_batting_stats['team'] == team['Team']][all_batting_stats['date'].astype(str).str.startswith(str(team['Year']))][all_batting_stats['gametype'] == 'regular'][batting_features]\n",
      "/var/folders/fh/fzyqqz2s1vzcm3v06kz1h29w0000gp/T/ipykernel_4955/2624505310.py:8: UserWarning: Boolean Series key will be reindexed to match DataFrame index.\n",
      "  temp_stats = all_batting_stats[all_batting_stats['team'] == team['Team']][all_batting_stats['date'].astype(str).str.startswith(str(team['Year']))][all_batting_stats['gametype'] == 'regular'][batting_features]\n"
     ]
    },
    {
     "name": "stdout",
     "output_type": "stream",
     "text": [
      "Index: 35, Year: 1999 Team: BOS, Level of Success: LS\n"
     ]
    },
    {
     "name": "stderr",
     "output_type": "stream",
     "text": [
      "/var/folders/fh/fzyqqz2s1vzcm3v06kz1h29w0000gp/T/ipykernel_4955/2624505310.py:8: UserWarning: Boolean Series key will be reindexed to match DataFrame index.\n",
      "  temp_stats = all_batting_stats[all_batting_stats['team'] == team['Team']][all_batting_stats['date'].astype(str).str.startswith(str(team['Year']))][all_batting_stats['gametype'] == 'regular'][batting_features]\n",
      "/var/folders/fh/fzyqqz2s1vzcm3v06kz1h29w0000gp/T/ipykernel_4955/2624505310.py:8: UserWarning: Boolean Series key will be reindexed to match DataFrame index.\n",
      "  temp_stats = all_batting_stats[all_batting_stats['team'] == team['Team']][all_batting_stats['date'].astype(str).str.startswith(str(team['Year']))][all_batting_stats['gametype'] == 'regular'][batting_features]\n"
     ]
    },
    {
     "name": "stdout",
     "output_type": "stream",
     "text": [
      "Index: 36, Year: 1999 Team: ATL, Level of Success: WS\n"
     ]
    },
    {
     "name": "stderr",
     "output_type": "stream",
     "text": [
      "/var/folders/fh/fzyqqz2s1vzcm3v06kz1h29w0000gp/T/ipykernel_4955/2624505310.py:8: UserWarning: Boolean Series key will be reindexed to match DataFrame index.\n",
      "  temp_stats = all_batting_stats[all_batting_stats['team'] == team['Team']][all_batting_stats['date'].astype(str).str.startswith(str(team['Year']))][all_batting_stats['gametype'] == 'regular'][batting_features]\n",
      "/var/folders/fh/fzyqqz2s1vzcm3v06kz1h29w0000gp/T/ipykernel_4955/2624505310.py:8: UserWarning: Boolean Series key will be reindexed to match DataFrame index.\n",
      "  temp_stats = all_batting_stats[all_batting_stats['team'] == team['Team']][all_batting_stats['date'].astype(str).str.startswith(str(team['Year']))][all_batting_stats['gametype'] == 'regular'][batting_features]\n"
     ]
    },
    {
     "name": "stdout",
     "output_type": "stream",
     "text": [
      "Index: 37, Year: 1999 Team: ARI, Level of Success: DS\n"
     ]
    },
    {
     "name": "stderr",
     "output_type": "stream",
     "text": [
      "/var/folders/fh/fzyqqz2s1vzcm3v06kz1h29w0000gp/T/ipykernel_4955/2624505310.py:8: UserWarning: Boolean Series key will be reindexed to match DataFrame index.\n",
      "  temp_stats = all_batting_stats[all_batting_stats['team'] == team['Team']][all_batting_stats['date'].astype(str).str.startswith(str(team['Year']))][all_batting_stats['gametype'] == 'regular'][batting_features]\n",
      "/var/folders/fh/fzyqqz2s1vzcm3v06kz1h29w0000gp/T/ipykernel_4955/2624505310.py:8: UserWarning: Boolean Series key will be reindexed to match DataFrame index.\n",
      "  temp_stats = all_batting_stats[all_batting_stats['team'] == team['Team']][all_batting_stats['date'].astype(str).str.startswith(str(team['Year']))][all_batting_stats['gametype'] == 'regular'][batting_features]\n"
     ]
    },
    {
     "name": "stdout",
     "output_type": "stream",
     "text": [
      "Index: 38, Year: 1999 Team: HOU, Level of Success: DS\n"
     ]
    },
    {
     "name": "stderr",
     "output_type": "stream",
     "text": [
      "/var/folders/fh/fzyqqz2s1vzcm3v06kz1h29w0000gp/T/ipykernel_4955/2624505310.py:8: UserWarning: Boolean Series key will be reindexed to match DataFrame index.\n",
      "  temp_stats = all_batting_stats[all_batting_stats['team'] == team['Team']][all_batting_stats['date'].astype(str).str.startswith(str(team['Year']))][all_batting_stats['gametype'] == 'regular'][batting_features]\n",
      "/var/folders/fh/fzyqqz2s1vzcm3v06kz1h29w0000gp/T/ipykernel_4955/2624505310.py:8: UserWarning: Boolean Series key will be reindexed to match DataFrame index.\n",
      "  temp_stats = all_batting_stats[all_batting_stats['team'] == team['Team']][all_batting_stats['date'].astype(str).str.startswith(str(team['Year']))][all_batting_stats['gametype'] == 'regular'][batting_features]\n"
     ]
    },
    {
     "name": "stdout",
     "output_type": "stream",
     "text": [
      "Index: 39, Year: 1999 Team: NYN, Level of Success: LS\n"
     ]
    },
    {
     "name": "stderr",
     "output_type": "stream",
     "text": [
      "/var/folders/fh/fzyqqz2s1vzcm3v06kz1h29w0000gp/T/ipykernel_4955/2624505310.py:8: UserWarning: Boolean Series key will be reindexed to match DataFrame index.\n",
      "  temp_stats = all_batting_stats[all_batting_stats['team'] == team['Team']][all_batting_stats['date'].astype(str).str.startswith(str(team['Year']))][all_batting_stats['gametype'] == 'regular'][batting_features]\n",
      "/var/folders/fh/fzyqqz2s1vzcm3v06kz1h29w0000gp/T/ipykernel_4955/2624505310.py:8: UserWarning: Boolean Series key will be reindexed to match DataFrame index.\n",
      "  temp_stats = all_batting_stats[all_batting_stats['team'] == team['Team']][all_batting_stats['date'].astype(str).str.startswith(str(team['Year']))][all_batting_stats['gametype'] == 'regular'][batting_features]\n"
     ]
    },
    {
     "name": "stdout",
     "output_type": "stream",
     "text": [
      "Index: 40, Year: 2000 Team: CHA, Level of Success: DS\n"
     ]
    },
    {
     "name": "stderr",
     "output_type": "stream",
     "text": [
      "/var/folders/fh/fzyqqz2s1vzcm3v06kz1h29w0000gp/T/ipykernel_4955/2624505310.py:8: UserWarning: Boolean Series key will be reindexed to match DataFrame index.\n",
      "  temp_stats = all_batting_stats[all_batting_stats['team'] == team['Team']][all_batting_stats['date'].astype(str).str.startswith(str(team['Year']))][all_batting_stats['gametype'] == 'regular'][batting_features]\n",
      "/var/folders/fh/fzyqqz2s1vzcm3v06kz1h29w0000gp/T/ipykernel_4955/2624505310.py:8: UserWarning: Boolean Series key will be reindexed to match DataFrame index.\n",
      "  temp_stats = all_batting_stats[all_batting_stats['team'] == team['Team']][all_batting_stats['date'].astype(str).str.startswith(str(team['Year']))][all_batting_stats['gametype'] == 'regular'][batting_features]\n"
     ]
    },
    {
     "name": "stdout",
     "output_type": "stream",
     "text": [
      "Index: 41, Year: 2000 Team: OAK, Level of Success: DS\n"
     ]
    },
    {
     "name": "stderr",
     "output_type": "stream",
     "text": [
      "/var/folders/fh/fzyqqz2s1vzcm3v06kz1h29w0000gp/T/ipykernel_4955/2624505310.py:8: UserWarning: Boolean Series key will be reindexed to match DataFrame index.\n",
      "  temp_stats = all_batting_stats[all_batting_stats['team'] == team['Team']][all_batting_stats['date'].astype(str).str.startswith(str(team['Year']))][all_batting_stats['gametype'] == 'regular'][batting_features]\n",
      "/var/folders/fh/fzyqqz2s1vzcm3v06kz1h29w0000gp/T/ipykernel_4955/2624505310.py:8: UserWarning: Boolean Series key will be reindexed to match DataFrame index.\n",
      "  temp_stats = all_batting_stats[all_batting_stats['team'] == team['Team']][all_batting_stats['date'].astype(str).str.startswith(str(team['Year']))][all_batting_stats['gametype'] == 'regular'][batting_features]\n"
     ]
    },
    {
     "name": "stdout",
     "output_type": "stream",
     "text": [
      "Index: 42, Year: 2000 Team: NYA, Level of Success: C\n"
     ]
    },
    {
     "name": "stderr",
     "output_type": "stream",
     "text": [
      "/var/folders/fh/fzyqqz2s1vzcm3v06kz1h29w0000gp/T/ipykernel_4955/2624505310.py:8: UserWarning: Boolean Series key will be reindexed to match DataFrame index.\n",
      "  temp_stats = all_batting_stats[all_batting_stats['team'] == team['Team']][all_batting_stats['date'].astype(str).str.startswith(str(team['Year']))][all_batting_stats['gametype'] == 'regular'][batting_features]\n",
      "/var/folders/fh/fzyqqz2s1vzcm3v06kz1h29w0000gp/T/ipykernel_4955/2624505310.py:8: UserWarning: Boolean Series key will be reindexed to match DataFrame index.\n",
      "  temp_stats = all_batting_stats[all_batting_stats['team'] == team['Team']][all_batting_stats['date'].astype(str).str.startswith(str(team['Year']))][all_batting_stats['gametype'] == 'regular'][batting_features]\n"
     ]
    },
    {
     "name": "stdout",
     "output_type": "stream",
     "text": [
      "Index: 43, Year: 2000 Team: SEA, Level of Success: LS\n"
     ]
    },
    {
     "name": "stderr",
     "output_type": "stream",
     "text": [
      "/var/folders/fh/fzyqqz2s1vzcm3v06kz1h29w0000gp/T/ipykernel_4955/2624505310.py:8: UserWarning: Boolean Series key will be reindexed to match DataFrame index.\n",
      "  temp_stats = all_batting_stats[all_batting_stats['team'] == team['Team']][all_batting_stats['date'].astype(str).str.startswith(str(team['Year']))][all_batting_stats['gametype'] == 'regular'][batting_features]\n",
      "/var/folders/fh/fzyqqz2s1vzcm3v06kz1h29w0000gp/T/ipykernel_4955/2624505310.py:8: UserWarning: Boolean Series key will be reindexed to match DataFrame index.\n",
      "  temp_stats = all_batting_stats[all_batting_stats['team'] == team['Team']][all_batting_stats['date'].astype(str).str.startswith(str(team['Year']))][all_batting_stats['gametype'] == 'regular'][batting_features]\n"
     ]
    },
    {
     "name": "stdout",
     "output_type": "stream",
     "text": [
      "Index: 44, Year: 2000 Team: SFN, Level of Success: DS\n"
     ]
    },
    {
     "name": "stderr",
     "output_type": "stream",
     "text": [
      "/var/folders/fh/fzyqqz2s1vzcm3v06kz1h29w0000gp/T/ipykernel_4955/2624505310.py:8: UserWarning: Boolean Series key will be reindexed to match DataFrame index.\n",
      "  temp_stats = all_batting_stats[all_batting_stats['team'] == team['Team']][all_batting_stats['date'].astype(str).str.startswith(str(team['Year']))][all_batting_stats['gametype'] == 'regular'][batting_features]\n",
      "/var/folders/fh/fzyqqz2s1vzcm3v06kz1h29w0000gp/T/ipykernel_4955/2624505310.py:8: UserWarning: Boolean Series key will be reindexed to match DataFrame index.\n",
      "  temp_stats = all_batting_stats[all_batting_stats['team'] == team['Team']][all_batting_stats['date'].astype(str).str.startswith(str(team['Year']))][all_batting_stats['gametype'] == 'regular'][batting_features]\n"
     ]
    },
    {
     "name": "stdout",
     "output_type": "stream",
     "text": [
      "Index: 45, Year: 2000 Team: SLN, Level of Success: LS\n"
     ]
    },
    {
     "name": "stderr",
     "output_type": "stream",
     "text": [
      "/var/folders/fh/fzyqqz2s1vzcm3v06kz1h29w0000gp/T/ipykernel_4955/2624505310.py:8: UserWarning: Boolean Series key will be reindexed to match DataFrame index.\n",
      "  temp_stats = all_batting_stats[all_batting_stats['team'] == team['Team']][all_batting_stats['date'].astype(str).str.startswith(str(team['Year']))][all_batting_stats['gametype'] == 'regular'][batting_features]\n",
      "/var/folders/fh/fzyqqz2s1vzcm3v06kz1h29w0000gp/T/ipykernel_4955/2624505310.py:8: UserWarning: Boolean Series key will be reindexed to match DataFrame index.\n",
      "  temp_stats = all_batting_stats[all_batting_stats['team'] == team['Team']][all_batting_stats['date'].astype(str).str.startswith(str(team['Year']))][all_batting_stats['gametype'] == 'regular'][batting_features]\n"
     ]
    },
    {
     "name": "stdout",
     "output_type": "stream",
     "text": [
      "Index: 46, Year: 2000 Team: ATL, Level of Success: DS\n"
     ]
    },
    {
     "name": "stderr",
     "output_type": "stream",
     "text": [
      "/var/folders/fh/fzyqqz2s1vzcm3v06kz1h29w0000gp/T/ipykernel_4955/2624505310.py:8: UserWarning: Boolean Series key will be reindexed to match DataFrame index.\n",
      "  temp_stats = all_batting_stats[all_batting_stats['team'] == team['Team']][all_batting_stats['date'].astype(str).str.startswith(str(team['Year']))][all_batting_stats['gametype'] == 'regular'][batting_features]\n",
      "/var/folders/fh/fzyqqz2s1vzcm3v06kz1h29w0000gp/T/ipykernel_4955/2624505310.py:8: UserWarning: Boolean Series key will be reindexed to match DataFrame index.\n",
      "  temp_stats = all_batting_stats[all_batting_stats['team'] == team['Team']][all_batting_stats['date'].astype(str).str.startswith(str(team['Year']))][all_batting_stats['gametype'] == 'regular'][batting_features]\n"
     ]
    },
    {
     "name": "stdout",
     "output_type": "stream",
     "text": [
      "Index: 47, Year: 2000 Team: NYN, Level of Success: WS\n"
     ]
    },
    {
     "name": "stderr",
     "output_type": "stream",
     "text": [
      "/var/folders/fh/fzyqqz2s1vzcm3v06kz1h29w0000gp/T/ipykernel_4955/2624505310.py:8: UserWarning: Boolean Series key will be reindexed to match DataFrame index.\n",
      "  temp_stats = all_batting_stats[all_batting_stats['team'] == team['Team']][all_batting_stats['date'].astype(str).str.startswith(str(team['Year']))][all_batting_stats['gametype'] == 'regular'][batting_features]\n",
      "/var/folders/fh/fzyqqz2s1vzcm3v06kz1h29w0000gp/T/ipykernel_4955/2624505310.py:8: UserWarning: Boolean Series key will be reindexed to match DataFrame index.\n",
      "  temp_stats = all_batting_stats[all_batting_stats['team'] == team['Team']][all_batting_stats['date'].astype(str).str.startswith(str(team['Year']))][all_batting_stats['gametype'] == 'regular'][batting_features]\n"
     ]
    },
    {
     "name": "stdout",
     "output_type": "stream",
     "text": [
      "Index: 48, Year: 2001 Team: SEA, Level of Success: LS\n"
     ]
    },
    {
     "name": "stderr",
     "output_type": "stream",
     "text": [
      "/var/folders/fh/fzyqqz2s1vzcm3v06kz1h29w0000gp/T/ipykernel_4955/2624505310.py:8: UserWarning: Boolean Series key will be reindexed to match DataFrame index.\n",
      "  temp_stats = all_batting_stats[all_batting_stats['team'] == team['Team']][all_batting_stats['date'].astype(str).str.startswith(str(team['Year']))][all_batting_stats['gametype'] == 'regular'][batting_features]\n",
      "/var/folders/fh/fzyqqz2s1vzcm3v06kz1h29w0000gp/T/ipykernel_4955/2624505310.py:8: UserWarning: Boolean Series key will be reindexed to match DataFrame index.\n",
      "  temp_stats = all_batting_stats[all_batting_stats['team'] == team['Team']][all_batting_stats['date'].astype(str).str.startswith(str(team['Year']))][all_batting_stats['gametype'] == 'regular'][batting_features]\n"
     ]
    },
    {
     "name": "stdout",
     "output_type": "stream",
     "text": [
      "Index: 49, Year: 2001 Team: CLE, Level of Success: DS\n"
     ]
    },
    {
     "name": "stderr",
     "output_type": "stream",
     "text": [
      "/var/folders/fh/fzyqqz2s1vzcm3v06kz1h29w0000gp/T/ipykernel_4955/2624505310.py:8: UserWarning: Boolean Series key will be reindexed to match DataFrame index.\n",
      "  temp_stats = all_batting_stats[all_batting_stats['team'] == team['Team']][all_batting_stats['date'].astype(str).str.startswith(str(team['Year']))][all_batting_stats['gametype'] == 'regular'][batting_features]\n",
      "/var/folders/fh/fzyqqz2s1vzcm3v06kz1h29w0000gp/T/ipykernel_4955/2624505310.py:8: UserWarning: Boolean Series key will be reindexed to match DataFrame index.\n",
      "  temp_stats = all_batting_stats[all_batting_stats['team'] == team['Team']][all_batting_stats['date'].astype(str).str.startswith(str(team['Year']))][all_batting_stats['gametype'] == 'regular'][batting_features]\n"
     ]
    },
    {
     "name": "stdout",
     "output_type": "stream",
     "text": [
      "Index: 50, Year: 2001 Team: NYA, Level of Success: WS\n"
     ]
    },
    {
     "name": "stderr",
     "output_type": "stream",
     "text": [
      "/var/folders/fh/fzyqqz2s1vzcm3v06kz1h29w0000gp/T/ipykernel_4955/2624505310.py:8: UserWarning: Boolean Series key will be reindexed to match DataFrame index.\n",
      "  temp_stats = all_batting_stats[all_batting_stats['team'] == team['Team']][all_batting_stats['date'].astype(str).str.startswith(str(team['Year']))][all_batting_stats['gametype'] == 'regular'][batting_features]\n",
      "/var/folders/fh/fzyqqz2s1vzcm3v06kz1h29w0000gp/T/ipykernel_4955/2624505310.py:8: UserWarning: Boolean Series key will be reindexed to match DataFrame index.\n",
      "  temp_stats = all_batting_stats[all_batting_stats['team'] == team['Team']][all_batting_stats['date'].astype(str).str.startswith(str(team['Year']))][all_batting_stats['gametype'] == 'regular'][batting_features]\n"
     ]
    },
    {
     "name": "stdout",
     "output_type": "stream",
     "text": [
      "Index: 51, Year: 2001 Team: OAK, Level of Success: DS\n"
     ]
    },
    {
     "name": "stderr",
     "output_type": "stream",
     "text": [
      "/var/folders/fh/fzyqqz2s1vzcm3v06kz1h29w0000gp/T/ipykernel_4955/2624505310.py:8: UserWarning: Boolean Series key will be reindexed to match DataFrame index.\n",
      "  temp_stats = all_batting_stats[all_batting_stats['team'] == team['Team']][all_batting_stats['date'].astype(str).str.startswith(str(team['Year']))][all_batting_stats['gametype'] == 'regular'][batting_features]\n",
      "/var/folders/fh/fzyqqz2s1vzcm3v06kz1h29w0000gp/T/ipykernel_4955/2624505310.py:8: UserWarning: Boolean Series key will be reindexed to match DataFrame index.\n",
      "  temp_stats = all_batting_stats[all_batting_stats['team'] == team['Team']][all_batting_stats['date'].astype(str).str.startswith(str(team['Year']))][all_batting_stats['gametype'] == 'regular'][batting_features]\n"
     ]
    },
    {
     "name": "stdout",
     "output_type": "stream",
     "text": [
      "Index: 52, Year: 2001 Team: HOU, Level of Success: DS\n"
     ]
    },
    {
     "name": "stderr",
     "output_type": "stream",
     "text": [
      "/var/folders/fh/fzyqqz2s1vzcm3v06kz1h29w0000gp/T/ipykernel_4955/2624505310.py:8: UserWarning: Boolean Series key will be reindexed to match DataFrame index.\n",
      "  temp_stats = all_batting_stats[all_batting_stats['team'] == team['Team']][all_batting_stats['date'].astype(str).str.startswith(str(team['Year']))][all_batting_stats['gametype'] == 'regular'][batting_features]\n",
      "/var/folders/fh/fzyqqz2s1vzcm3v06kz1h29w0000gp/T/ipykernel_4955/2624505310.py:8: UserWarning: Boolean Series key will be reindexed to match DataFrame index.\n",
      "  temp_stats = all_batting_stats[all_batting_stats['team'] == team['Team']][all_batting_stats['date'].astype(str).str.startswith(str(team['Year']))][all_batting_stats['gametype'] == 'regular'][batting_features]\n"
     ]
    },
    {
     "name": "stdout",
     "output_type": "stream",
     "text": [
      "Index: 53, Year: 2001 Team: ARI, Level of Success: C\n"
     ]
    },
    {
     "name": "stderr",
     "output_type": "stream",
     "text": [
      "/var/folders/fh/fzyqqz2s1vzcm3v06kz1h29w0000gp/T/ipykernel_4955/2624505310.py:8: UserWarning: Boolean Series key will be reindexed to match DataFrame index.\n",
      "  temp_stats = all_batting_stats[all_batting_stats['team'] == team['Team']][all_batting_stats['date'].astype(str).str.startswith(str(team['Year']))][all_batting_stats['gametype'] == 'regular'][batting_features]\n",
      "/var/folders/fh/fzyqqz2s1vzcm3v06kz1h29w0000gp/T/ipykernel_4955/2624505310.py:8: UserWarning: Boolean Series key will be reindexed to match DataFrame index.\n",
      "  temp_stats = all_batting_stats[all_batting_stats['team'] == team['Team']][all_batting_stats['date'].astype(str).str.startswith(str(team['Year']))][all_batting_stats['gametype'] == 'regular'][batting_features]\n"
     ]
    },
    {
     "name": "stdout",
     "output_type": "stream",
     "text": [
      "Index: 54, Year: 2001 Team: ATL, Level of Success: LS\n"
     ]
    },
    {
     "name": "stderr",
     "output_type": "stream",
     "text": [
      "/var/folders/fh/fzyqqz2s1vzcm3v06kz1h29w0000gp/T/ipykernel_4955/2624505310.py:8: UserWarning: Boolean Series key will be reindexed to match DataFrame index.\n",
      "  temp_stats = all_batting_stats[all_batting_stats['team'] == team['Team']][all_batting_stats['date'].astype(str).str.startswith(str(team['Year']))][all_batting_stats['gametype'] == 'regular'][batting_features]\n",
      "/var/folders/fh/fzyqqz2s1vzcm3v06kz1h29w0000gp/T/ipykernel_4955/2624505310.py:8: UserWarning: Boolean Series key will be reindexed to match DataFrame index.\n",
      "  temp_stats = all_batting_stats[all_batting_stats['team'] == team['Team']][all_batting_stats['date'].astype(str).str.startswith(str(team['Year']))][all_batting_stats['gametype'] == 'regular'][batting_features]\n"
     ]
    },
    {
     "name": "stdout",
     "output_type": "stream",
     "text": [
      "Index: 55, Year: 2001 Team: SLN, Level of Success: DS\n"
     ]
    },
    {
     "name": "stderr",
     "output_type": "stream",
     "text": [
      "/var/folders/fh/fzyqqz2s1vzcm3v06kz1h29w0000gp/T/ipykernel_4955/2624505310.py:8: UserWarning: Boolean Series key will be reindexed to match DataFrame index.\n",
      "  temp_stats = all_batting_stats[all_batting_stats['team'] == team['Team']][all_batting_stats['date'].astype(str).str.startswith(str(team['Year']))][all_batting_stats['gametype'] == 'regular'][batting_features]\n",
      "/var/folders/fh/fzyqqz2s1vzcm3v06kz1h29w0000gp/T/ipykernel_4955/2624505310.py:8: UserWarning: Boolean Series key will be reindexed to match DataFrame index.\n",
      "  temp_stats = all_batting_stats[all_batting_stats['team'] == team['Team']][all_batting_stats['date'].astype(str).str.startswith(str(team['Year']))][all_batting_stats['gametype'] == 'regular'][batting_features]\n"
     ]
    },
    {
     "name": "stdout",
     "output_type": "stream",
     "text": [
      "Index: 56, Year: 2002 Team: NYA, Level of Success: DS\n"
     ]
    },
    {
     "name": "stderr",
     "output_type": "stream",
     "text": [
      "/var/folders/fh/fzyqqz2s1vzcm3v06kz1h29w0000gp/T/ipykernel_4955/2624505310.py:8: UserWarning: Boolean Series key will be reindexed to match DataFrame index.\n",
      "  temp_stats = all_batting_stats[all_batting_stats['team'] == team['Team']][all_batting_stats['date'].astype(str).str.startswith(str(team['Year']))][all_batting_stats['gametype'] == 'regular'][batting_features]\n",
      "/var/folders/fh/fzyqqz2s1vzcm3v06kz1h29w0000gp/T/ipykernel_4955/2624505310.py:8: UserWarning: Boolean Series key will be reindexed to match DataFrame index.\n",
      "  temp_stats = all_batting_stats[all_batting_stats['team'] == team['Team']][all_batting_stats['date'].astype(str).str.startswith(str(team['Year']))][all_batting_stats['gametype'] == 'regular'][batting_features]\n"
     ]
    },
    {
     "name": "stdout",
     "output_type": "stream",
     "text": [
      "Index: 57, Year: 2002 Team: OAK, Level of Success: DS\n"
     ]
    },
    {
     "name": "stderr",
     "output_type": "stream",
     "text": [
      "/var/folders/fh/fzyqqz2s1vzcm3v06kz1h29w0000gp/T/ipykernel_4955/2624505310.py:8: UserWarning: Boolean Series key will be reindexed to match DataFrame index.\n",
      "  temp_stats = all_batting_stats[all_batting_stats['team'] == team['Team']][all_batting_stats['date'].astype(str).str.startswith(str(team['Year']))][all_batting_stats['gametype'] == 'regular'][batting_features]\n",
      "/var/folders/fh/fzyqqz2s1vzcm3v06kz1h29w0000gp/T/ipykernel_4955/2624505310.py:8: UserWarning: Boolean Series key will be reindexed to match DataFrame index.\n",
      "  temp_stats = all_batting_stats[all_batting_stats['team'] == team['Team']][all_batting_stats['date'].astype(str).str.startswith(str(team['Year']))][all_batting_stats['gametype'] == 'regular'][batting_features]\n"
     ]
    },
    {
     "name": "stdout",
     "output_type": "stream",
     "text": [
      "Index: 58, Year: 2002 Team: MIN, Level of Success: LS\n"
     ]
    },
    {
     "name": "stderr",
     "output_type": "stream",
     "text": [
      "/var/folders/fh/fzyqqz2s1vzcm3v06kz1h29w0000gp/T/ipykernel_4955/2624505310.py:8: UserWarning: Boolean Series key will be reindexed to match DataFrame index.\n",
      "  temp_stats = all_batting_stats[all_batting_stats['team'] == team['Team']][all_batting_stats['date'].astype(str).str.startswith(str(team['Year']))][all_batting_stats['gametype'] == 'regular'][batting_features]\n",
      "/var/folders/fh/fzyqqz2s1vzcm3v06kz1h29w0000gp/T/ipykernel_4955/2624505310.py:8: UserWarning: Boolean Series key will be reindexed to match DataFrame index.\n",
      "  temp_stats = all_batting_stats[all_batting_stats['team'] == team['Team']][all_batting_stats['date'].astype(str).str.startswith(str(team['Year']))][all_batting_stats['gametype'] == 'regular'][batting_features]\n"
     ]
    },
    {
     "name": "stdout",
     "output_type": "stream",
     "text": [
      "Index: 59, Year: 2002 Team: ANA, Level of Success: C\n"
     ]
    },
    {
     "name": "stderr",
     "output_type": "stream",
     "text": [
      "/var/folders/fh/fzyqqz2s1vzcm3v06kz1h29w0000gp/T/ipykernel_4955/2624505310.py:8: UserWarning: Boolean Series key will be reindexed to match DataFrame index.\n",
      "  temp_stats = all_batting_stats[all_batting_stats['team'] == team['Team']][all_batting_stats['date'].astype(str).str.startswith(str(team['Year']))][all_batting_stats['gametype'] == 'regular'][batting_features]\n",
      "/var/folders/fh/fzyqqz2s1vzcm3v06kz1h29w0000gp/T/ipykernel_4955/2624505310.py:8: UserWarning: Boolean Series key will be reindexed to match DataFrame index.\n",
      "  temp_stats = all_batting_stats[all_batting_stats['team'] == team['Team']][all_batting_stats['date'].astype(str).str.startswith(str(team['Year']))][all_batting_stats['gametype'] == 'regular'][batting_features]\n"
     ]
    },
    {
     "name": "stdout",
     "output_type": "stream",
     "text": [
      "Index: 60, Year: 2002 Team: ATL, Level of Success: DS\n"
     ]
    },
    {
     "name": "stderr",
     "output_type": "stream",
     "text": [
      "/var/folders/fh/fzyqqz2s1vzcm3v06kz1h29w0000gp/T/ipykernel_4955/2624505310.py:8: UserWarning: Boolean Series key will be reindexed to match DataFrame index.\n",
      "  temp_stats = all_batting_stats[all_batting_stats['team'] == team['Team']][all_batting_stats['date'].astype(str).str.startswith(str(team['Year']))][all_batting_stats['gametype'] == 'regular'][batting_features]\n",
      "/var/folders/fh/fzyqqz2s1vzcm3v06kz1h29w0000gp/T/ipykernel_4955/2624505310.py:8: UserWarning: Boolean Series key will be reindexed to match DataFrame index.\n",
      "  temp_stats = all_batting_stats[all_batting_stats['team'] == team['Team']][all_batting_stats['date'].astype(str).str.startswith(str(team['Year']))][all_batting_stats['gametype'] == 'regular'][batting_features]\n"
     ]
    },
    {
     "name": "stdout",
     "output_type": "stream",
     "text": [
      "Index: 61, Year: 2002 Team: ARI, Level of Success: DS\n"
     ]
    },
    {
     "name": "stderr",
     "output_type": "stream",
     "text": [
      "/var/folders/fh/fzyqqz2s1vzcm3v06kz1h29w0000gp/T/ipykernel_4955/2624505310.py:8: UserWarning: Boolean Series key will be reindexed to match DataFrame index.\n",
      "  temp_stats = all_batting_stats[all_batting_stats['team'] == team['Team']][all_batting_stats['date'].astype(str).str.startswith(str(team['Year']))][all_batting_stats['gametype'] == 'regular'][batting_features]\n",
      "/var/folders/fh/fzyqqz2s1vzcm3v06kz1h29w0000gp/T/ipykernel_4955/2624505310.py:8: UserWarning: Boolean Series key will be reindexed to match DataFrame index.\n",
      "  temp_stats = all_batting_stats[all_batting_stats['team'] == team['Team']][all_batting_stats['date'].astype(str).str.startswith(str(team['Year']))][all_batting_stats['gametype'] == 'regular'][batting_features]\n"
     ]
    },
    {
     "name": "stdout",
     "output_type": "stream",
     "text": [
      "Index: 62, Year: 2002 Team: SLN, Level of Success: LS\n"
     ]
    },
    {
     "name": "stderr",
     "output_type": "stream",
     "text": [
      "/var/folders/fh/fzyqqz2s1vzcm3v06kz1h29w0000gp/T/ipykernel_4955/2624505310.py:8: UserWarning: Boolean Series key will be reindexed to match DataFrame index.\n",
      "  temp_stats = all_batting_stats[all_batting_stats['team'] == team['Team']][all_batting_stats['date'].astype(str).str.startswith(str(team['Year']))][all_batting_stats['gametype'] == 'regular'][batting_features]\n",
      "/var/folders/fh/fzyqqz2s1vzcm3v06kz1h29w0000gp/T/ipykernel_4955/2624505310.py:8: UserWarning: Boolean Series key will be reindexed to match DataFrame index.\n",
      "  temp_stats = all_batting_stats[all_batting_stats['team'] == team['Team']][all_batting_stats['date'].astype(str).str.startswith(str(team['Year']))][all_batting_stats['gametype'] == 'regular'][batting_features]\n"
     ]
    },
    {
     "name": "stdout",
     "output_type": "stream",
     "text": [
      "Index: 63, Year: 2002 Team: SFN, Level of Success: WS\n"
     ]
    },
    {
     "name": "stderr",
     "output_type": "stream",
     "text": [
      "/var/folders/fh/fzyqqz2s1vzcm3v06kz1h29w0000gp/T/ipykernel_4955/2624505310.py:8: UserWarning: Boolean Series key will be reindexed to match DataFrame index.\n",
      "  temp_stats = all_batting_stats[all_batting_stats['team'] == team['Team']][all_batting_stats['date'].astype(str).str.startswith(str(team['Year']))][all_batting_stats['gametype'] == 'regular'][batting_features]\n",
      "/var/folders/fh/fzyqqz2s1vzcm3v06kz1h29w0000gp/T/ipykernel_4955/2624505310.py:8: UserWarning: Boolean Series key will be reindexed to match DataFrame index.\n",
      "  temp_stats = all_batting_stats[all_batting_stats['team'] == team['Team']][all_batting_stats['date'].astype(str).str.startswith(str(team['Year']))][all_batting_stats['gametype'] == 'regular'][batting_features]\n"
     ]
    },
    {
     "name": "stdout",
     "output_type": "stream",
     "text": [
      "Index: 64, Year: 2003 Team: NYA, Level of Success: WS\n"
     ]
    },
    {
     "name": "stderr",
     "output_type": "stream",
     "text": [
      "/var/folders/fh/fzyqqz2s1vzcm3v06kz1h29w0000gp/T/ipykernel_4955/2624505310.py:8: UserWarning: Boolean Series key will be reindexed to match DataFrame index.\n",
      "  temp_stats = all_batting_stats[all_batting_stats['team'] == team['Team']][all_batting_stats['date'].astype(str).str.startswith(str(team['Year']))][all_batting_stats['gametype'] == 'regular'][batting_features]\n",
      "/var/folders/fh/fzyqqz2s1vzcm3v06kz1h29w0000gp/T/ipykernel_4955/2624505310.py:8: UserWarning: Boolean Series key will be reindexed to match DataFrame index.\n",
      "  temp_stats = all_batting_stats[all_batting_stats['team'] == team['Team']][all_batting_stats['date'].astype(str).str.startswith(str(team['Year']))][all_batting_stats['gametype'] == 'regular'][batting_features]\n"
     ]
    },
    {
     "name": "stdout",
     "output_type": "stream",
     "text": [
      "Index: 65, Year: 2003 Team: OAK, Level of Success: DS\n"
     ]
    },
    {
     "name": "stderr",
     "output_type": "stream",
     "text": [
      "/var/folders/fh/fzyqqz2s1vzcm3v06kz1h29w0000gp/T/ipykernel_4955/2624505310.py:8: UserWarning: Boolean Series key will be reindexed to match DataFrame index.\n",
      "  temp_stats = all_batting_stats[all_batting_stats['team'] == team['Team']][all_batting_stats['date'].astype(str).str.startswith(str(team['Year']))][all_batting_stats['gametype'] == 'regular'][batting_features]\n",
      "/var/folders/fh/fzyqqz2s1vzcm3v06kz1h29w0000gp/T/ipykernel_4955/2624505310.py:8: UserWarning: Boolean Series key will be reindexed to match DataFrame index.\n",
      "  temp_stats = all_batting_stats[all_batting_stats['team'] == team['Team']][all_batting_stats['date'].astype(str).str.startswith(str(team['Year']))][all_batting_stats['gametype'] == 'regular'][batting_features]\n"
     ]
    },
    {
     "name": "stdout",
     "output_type": "stream",
     "text": [
      "Index: 66, Year: 2003 Team: MIN, Level of Success: DS\n"
     ]
    },
    {
     "name": "stderr",
     "output_type": "stream",
     "text": [
      "/var/folders/fh/fzyqqz2s1vzcm3v06kz1h29w0000gp/T/ipykernel_4955/2624505310.py:8: UserWarning: Boolean Series key will be reindexed to match DataFrame index.\n",
      "  temp_stats = all_batting_stats[all_batting_stats['team'] == team['Team']][all_batting_stats['date'].astype(str).str.startswith(str(team['Year']))][all_batting_stats['gametype'] == 'regular'][batting_features]\n",
      "/var/folders/fh/fzyqqz2s1vzcm3v06kz1h29w0000gp/T/ipykernel_4955/2624505310.py:8: UserWarning: Boolean Series key will be reindexed to match DataFrame index.\n",
      "  temp_stats = all_batting_stats[all_batting_stats['team'] == team['Team']][all_batting_stats['date'].astype(str).str.startswith(str(team['Year']))][all_batting_stats['gametype'] == 'regular'][batting_features]\n"
     ]
    },
    {
     "name": "stdout",
     "output_type": "stream",
     "text": [
      "Index: 67, Year: 2003 Team: BOS, Level of Success: LS\n"
     ]
    },
    {
     "name": "stderr",
     "output_type": "stream",
     "text": [
      "/var/folders/fh/fzyqqz2s1vzcm3v06kz1h29w0000gp/T/ipykernel_4955/2624505310.py:8: UserWarning: Boolean Series key will be reindexed to match DataFrame index.\n",
      "  temp_stats = all_batting_stats[all_batting_stats['team'] == team['Team']][all_batting_stats['date'].astype(str).str.startswith(str(team['Year']))][all_batting_stats['gametype'] == 'regular'][batting_features]\n",
      "/var/folders/fh/fzyqqz2s1vzcm3v06kz1h29w0000gp/T/ipykernel_4955/2624505310.py:8: UserWarning: Boolean Series key will be reindexed to match DataFrame index.\n",
      "  temp_stats = all_batting_stats[all_batting_stats['team'] == team['Team']][all_batting_stats['date'].astype(str).str.startswith(str(team['Year']))][all_batting_stats['gametype'] == 'regular'][batting_features]\n"
     ]
    },
    {
     "name": "stdout",
     "output_type": "stream",
     "text": [
      "Index: 68, Year: 2003 Team: ATL, Level of Success: DS\n"
     ]
    },
    {
     "name": "stderr",
     "output_type": "stream",
     "text": [
      "/var/folders/fh/fzyqqz2s1vzcm3v06kz1h29w0000gp/T/ipykernel_4955/2624505310.py:8: UserWarning: Boolean Series key will be reindexed to match DataFrame index.\n",
      "  temp_stats = all_batting_stats[all_batting_stats['team'] == team['Team']][all_batting_stats['date'].astype(str).str.startswith(str(team['Year']))][all_batting_stats['gametype'] == 'regular'][batting_features]\n",
      "/var/folders/fh/fzyqqz2s1vzcm3v06kz1h29w0000gp/T/ipykernel_4955/2624505310.py:8: UserWarning: Boolean Series key will be reindexed to match DataFrame index.\n",
      "  temp_stats = all_batting_stats[all_batting_stats['team'] == team['Team']][all_batting_stats['date'].astype(str).str.startswith(str(team['Year']))][all_batting_stats['gametype'] == 'regular'][batting_features]\n"
     ]
    },
    {
     "name": "stdout",
     "output_type": "stream",
     "text": [
      "Index: 69, Year: 2003 Team: SFN, Level of Success: DS\n"
     ]
    },
    {
     "name": "stderr",
     "output_type": "stream",
     "text": [
      "/var/folders/fh/fzyqqz2s1vzcm3v06kz1h29w0000gp/T/ipykernel_4955/2624505310.py:8: UserWarning: Boolean Series key will be reindexed to match DataFrame index.\n",
      "  temp_stats = all_batting_stats[all_batting_stats['team'] == team['Team']][all_batting_stats['date'].astype(str).str.startswith(str(team['Year']))][all_batting_stats['gametype'] == 'regular'][batting_features]\n",
      "/var/folders/fh/fzyqqz2s1vzcm3v06kz1h29w0000gp/T/ipykernel_4955/2624505310.py:8: UserWarning: Boolean Series key will be reindexed to match DataFrame index.\n",
      "  temp_stats = all_batting_stats[all_batting_stats['team'] == team['Team']][all_batting_stats['date'].astype(str).str.startswith(str(team['Year']))][all_batting_stats['gametype'] == 'regular'][batting_features]\n"
     ]
    },
    {
     "name": "stdout",
     "output_type": "stream",
     "text": [
      "Index: 70, Year: 2003 Team: CHN, Level of Success: LS\n"
     ]
    },
    {
     "name": "stderr",
     "output_type": "stream",
     "text": [
      "/var/folders/fh/fzyqqz2s1vzcm3v06kz1h29w0000gp/T/ipykernel_4955/2624505310.py:8: UserWarning: Boolean Series key will be reindexed to match DataFrame index.\n",
      "  temp_stats = all_batting_stats[all_batting_stats['team'] == team['Team']][all_batting_stats['date'].astype(str).str.startswith(str(team['Year']))][all_batting_stats['gametype'] == 'regular'][batting_features]\n",
      "/var/folders/fh/fzyqqz2s1vzcm3v06kz1h29w0000gp/T/ipykernel_4955/2624505310.py:8: UserWarning: Boolean Series key will be reindexed to match DataFrame index.\n",
      "  temp_stats = all_batting_stats[all_batting_stats['team'] == team['Team']][all_batting_stats['date'].astype(str).str.startswith(str(team['Year']))][all_batting_stats['gametype'] == 'regular'][batting_features]\n"
     ]
    },
    {
     "name": "stdout",
     "output_type": "stream",
     "text": [
      "Index: 71, Year: 2003 Team: FLO, Level of Success: C\n"
     ]
    },
    {
     "name": "stderr",
     "output_type": "stream",
     "text": [
      "/var/folders/fh/fzyqqz2s1vzcm3v06kz1h29w0000gp/T/ipykernel_4955/2624505310.py:8: UserWarning: Boolean Series key will be reindexed to match DataFrame index.\n",
      "  temp_stats = all_batting_stats[all_batting_stats['team'] == team['Team']][all_batting_stats['date'].astype(str).str.startswith(str(team['Year']))][all_batting_stats['gametype'] == 'regular'][batting_features]\n",
      "/var/folders/fh/fzyqqz2s1vzcm3v06kz1h29w0000gp/T/ipykernel_4955/2624505310.py:8: UserWarning: Boolean Series key will be reindexed to match DataFrame index.\n",
      "  temp_stats = all_batting_stats[all_batting_stats['team'] == team['Team']][all_batting_stats['date'].astype(str).str.startswith(str(team['Year']))][all_batting_stats['gametype'] == 'regular'][batting_features]\n"
     ]
    },
    {
     "name": "stdout",
     "output_type": "stream",
     "text": [
      "Index: 72, Year: 2004 Team: NYA, Level of Success: LS\n"
     ]
    },
    {
     "name": "stderr",
     "output_type": "stream",
     "text": [
      "/var/folders/fh/fzyqqz2s1vzcm3v06kz1h29w0000gp/T/ipykernel_4955/2624505310.py:8: UserWarning: Boolean Series key will be reindexed to match DataFrame index.\n",
      "  temp_stats = all_batting_stats[all_batting_stats['team'] == team['Team']][all_batting_stats['date'].astype(str).str.startswith(str(team['Year']))][all_batting_stats['gametype'] == 'regular'][batting_features]\n",
      "/var/folders/fh/fzyqqz2s1vzcm3v06kz1h29w0000gp/T/ipykernel_4955/2624505310.py:8: UserWarning: Boolean Series key will be reindexed to match DataFrame index.\n",
      "  temp_stats = all_batting_stats[all_batting_stats['team'] == team['Team']][all_batting_stats['date'].astype(str).str.startswith(str(team['Year']))][all_batting_stats['gametype'] == 'regular'][batting_features]\n"
     ]
    },
    {
     "name": "stdout",
     "output_type": "stream",
     "text": [
      "Index: 73, Year: 2004 Team: ANA, Level of Success: DS\n"
     ]
    },
    {
     "name": "stderr",
     "output_type": "stream",
     "text": [
      "/var/folders/fh/fzyqqz2s1vzcm3v06kz1h29w0000gp/T/ipykernel_4955/2624505310.py:8: UserWarning: Boolean Series key will be reindexed to match DataFrame index.\n",
      "  temp_stats = all_batting_stats[all_batting_stats['team'] == team['Team']][all_batting_stats['date'].astype(str).str.startswith(str(team['Year']))][all_batting_stats['gametype'] == 'regular'][batting_features]\n",
      "/var/folders/fh/fzyqqz2s1vzcm3v06kz1h29w0000gp/T/ipykernel_4955/2624505310.py:8: UserWarning: Boolean Series key will be reindexed to match DataFrame index.\n",
      "  temp_stats = all_batting_stats[all_batting_stats['team'] == team['Team']][all_batting_stats['date'].astype(str).str.startswith(str(team['Year']))][all_batting_stats['gametype'] == 'regular'][batting_features]\n"
     ]
    },
    {
     "name": "stdout",
     "output_type": "stream",
     "text": [
      "Index: 74, Year: 2004 Team: MIN, Level of Success: DS\n"
     ]
    },
    {
     "name": "stderr",
     "output_type": "stream",
     "text": [
      "/var/folders/fh/fzyqqz2s1vzcm3v06kz1h29w0000gp/T/ipykernel_4955/2624505310.py:8: UserWarning: Boolean Series key will be reindexed to match DataFrame index.\n",
      "  temp_stats = all_batting_stats[all_batting_stats['team'] == team['Team']][all_batting_stats['date'].astype(str).str.startswith(str(team['Year']))][all_batting_stats['gametype'] == 'regular'][batting_features]\n",
      "/var/folders/fh/fzyqqz2s1vzcm3v06kz1h29w0000gp/T/ipykernel_4955/2624505310.py:8: UserWarning: Boolean Series key will be reindexed to match DataFrame index.\n",
      "  temp_stats = all_batting_stats[all_batting_stats['team'] == team['Team']][all_batting_stats['date'].astype(str).str.startswith(str(team['Year']))][all_batting_stats['gametype'] == 'regular'][batting_features]\n"
     ]
    },
    {
     "name": "stdout",
     "output_type": "stream",
     "text": [
      "Index: 75, Year: 2004 Team: BOS, Level of Success: C\n"
     ]
    },
    {
     "name": "stderr",
     "output_type": "stream",
     "text": [
      "/var/folders/fh/fzyqqz2s1vzcm3v06kz1h29w0000gp/T/ipykernel_4955/2624505310.py:8: UserWarning: Boolean Series key will be reindexed to match DataFrame index.\n",
      "  temp_stats = all_batting_stats[all_batting_stats['team'] == team['Team']][all_batting_stats['date'].astype(str).str.startswith(str(team['Year']))][all_batting_stats['gametype'] == 'regular'][batting_features]\n",
      "/var/folders/fh/fzyqqz2s1vzcm3v06kz1h29w0000gp/T/ipykernel_4955/2624505310.py:8: UserWarning: Boolean Series key will be reindexed to match DataFrame index.\n",
      "  temp_stats = all_batting_stats[all_batting_stats['team'] == team['Team']][all_batting_stats['date'].astype(str).str.startswith(str(team['Year']))][all_batting_stats['gametype'] == 'regular'][batting_features]\n"
     ]
    },
    {
     "name": "stdout",
     "output_type": "stream",
     "text": [
      "Index: 76, Year: 2004 Team: SLN, Level of Success: WS\n"
     ]
    },
    {
     "name": "stderr",
     "output_type": "stream",
     "text": [
      "/var/folders/fh/fzyqqz2s1vzcm3v06kz1h29w0000gp/T/ipykernel_4955/2624505310.py:8: UserWarning: Boolean Series key will be reindexed to match DataFrame index.\n",
      "  temp_stats = all_batting_stats[all_batting_stats['team'] == team['Team']][all_batting_stats['date'].astype(str).str.startswith(str(team['Year']))][all_batting_stats['gametype'] == 'regular'][batting_features]\n",
      "/var/folders/fh/fzyqqz2s1vzcm3v06kz1h29w0000gp/T/ipykernel_4955/2624505310.py:8: UserWarning: Boolean Series key will be reindexed to match DataFrame index.\n",
      "  temp_stats = all_batting_stats[all_batting_stats['team'] == team['Team']][all_batting_stats['date'].astype(str).str.startswith(str(team['Year']))][all_batting_stats['gametype'] == 'regular'][batting_features]\n"
     ]
    },
    {
     "name": "stdout",
     "output_type": "stream",
     "text": [
      "Index: 77, Year: 2004 Team: ATL, Level of Success: DS\n"
     ]
    },
    {
     "name": "stderr",
     "output_type": "stream",
     "text": [
      "/var/folders/fh/fzyqqz2s1vzcm3v06kz1h29w0000gp/T/ipykernel_4955/2624505310.py:8: UserWarning: Boolean Series key will be reindexed to match DataFrame index.\n",
      "  temp_stats = all_batting_stats[all_batting_stats['team'] == team['Team']][all_batting_stats['date'].astype(str).str.startswith(str(team['Year']))][all_batting_stats['gametype'] == 'regular'][batting_features]\n",
      "/var/folders/fh/fzyqqz2s1vzcm3v06kz1h29w0000gp/T/ipykernel_4955/2624505310.py:8: UserWarning: Boolean Series key will be reindexed to match DataFrame index.\n",
      "  temp_stats = all_batting_stats[all_batting_stats['team'] == team['Team']][all_batting_stats['date'].astype(str).str.startswith(str(team['Year']))][all_batting_stats['gametype'] == 'regular'][batting_features]\n"
     ]
    },
    {
     "name": "stdout",
     "output_type": "stream",
     "text": [
      "Index: 78, Year: 2004 Team: LAN, Level of Success: DS\n"
     ]
    },
    {
     "name": "stderr",
     "output_type": "stream",
     "text": [
      "/var/folders/fh/fzyqqz2s1vzcm3v06kz1h29w0000gp/T/ipykernel_4955/2624505310.py:8: UserWarning: Boolean Series key will be reindexed to match DataFrame index.\n",
      "  temp_stats = all_batting_stats[all_batting_stats['team'] == team['Team']][all_batting_stats['date'].astype(str).str.startswith(str(team['Year']))][all_batting_stats['gametype'] == 'regular'][batting_features]\n",
      "/var/folders/fh/fzyqqz2s1vzcm3v06kz1h29w0000gp/T/ipykernel_4955/2624505310.py:8: UserWarning: Boolean Series key will be reindexed to match DataFrame index.\n",
      "  temp_stats = all_batting_stats[all_batting_stats['team'] == team['Team']][all_batting_stats['date'].astype(str).str.startswith(str(team['Year']))][all_batting_stats['gametype'] == 'regular'][batting_features]\n"
     ]
    },
    {
     "name": "stdout",
     "output_type": "stream",
     "text": [
      "Index: 79, Year: 2004 Team: HOU, Level of Success: LS\n"
     ]
    },
    {
     "name": "stderr",
     "output_type": "stream",
     "text": [
      "/var/folders/fh/fzyqqz2s1vzcm3v06kz1h29w0000gp/T/ipykernel_4955/2624505310.py:8: UserWarning: Boolean Series key will be reindexed to match DataFrame index.\n",
      "  temp_stats = all_batting_stats[all_batting_stats['team'] == team['Team']][all_batting_stats['date'].astype(str).str.startswith(str(team['Year']))][all_batting_stats['gametype'] == 'regular'][batting_features]\n",
      "/var/folders/fh/fzyqqz2s1vzcm3v06kz1h29w0000gp/T/ipykernel_4955/2624505310.py:8: UserWarning: Boolean Series key will be reindexed to match DataFrame index.\n",
      "  temp_stats = all_batting_stats[all_batting_stats['team'] == team['Team']][all_batting_stats['date'].astype(str).str.startswith(str(team['Year']))][all_batting_stats['gametype'] == 'regular'][batting_features]\n"
     ]
    },
    {
     "name": "stdout",
     "output_type": "stream",
     "text": [
      "Index: 80, Year: 2005 Team: CHA, Level of Success: C\n"
     ]
    },
    {
     "name": "stderr",
     "output_type": "stream",
     "text": [
      "/var/folders/fh/fzyqqz2s1vzcm3v06kz1h29w0000gp/T/ipykernel_4955/2624505310.py:8: UserWarning: Boolean Series key will be reindexed to match DataFrame index.\n",
      "  temp_stats = all_batting_stats[all_batting_stats['team'] == team['Team']][all_batting_stats['date'].astype(str).str.startswith(str(team['Year']))][all_batting_stats['gametype'] == 'regular'][batting_features]\n",
      "/var/folders/fh/fzyqqz2s1vzcm3v06kz1h29w0000gp/T/ipykernel_4955/2624505310.py:8: UserWarning: Boolean Series key will be reindexed to match DataFrame index.\n",
      "  temp_stats = all_batting_stats[all_batting_stats['team'] == team['Team']][all_batting_stats['date'].astype(str).str.startswith(str(team['Year']))][all_batting_stats['gametype'] == 'regular'][batting_features]\n"
     ]
    },
    {
     "name": "stdout",
     "output_type": "stream",
     "text": [
      "Index: 81, Year: 2005 Team: ANA, Level of Success: LS\n"
     ]
    },
    {
     "name": "stderr",
     "output_type": "stream",
     "text": [
      "/var/folders/fh/fzyqqz2s1vzcm3v06kz1h29w0000gp/T/ipykernel_4955/2624505310.py:8: UserWarning: Boolean Series key will be reindexed to match DataFrame index.\n",
      "  temp_stats = all_batting_stats[all_batting_stats['team'] == team['Team']][all_batting_stats['date'].astype(str).str.startswith(str(team['Year']))][all_batting_stats['gametype'] == 'regular'][batting_features]\n",
      "/var/folders/fh/fzyqqz2s1vzcm3v06kz1h29w0000gp/T/ipykernel_4955/2624505310.py:8: UserWarning: Boolean Series key will be reindexed to match DataFrame index.\n",
      "  temp_stats = all_batting_stats[all_batting_stats['team'] == team['Team']][all_batting_stats['date'].astype(str).str.startswith(str(team['Year']))][all_batting_stats['gametype'] == 'regular'][batting_features]\n"
     ]
    },
    {
     "name": "stdout",
     "output_type": "stream",
     "text": [
      "Index: 82, Year: 2005 Team: NYA, Level of Success: DS\n"
     ]
    },
    {
     "name": "stderr",
     "output_type": "stream",
     "text": [
      "/var/folders/fh/fzyqqz2s1vzcm3v06kz1h29w0000gp/T/ipykernel_4955/2624505310.py:8: UserWarning: Boolean Series key will be reindexed to match DataFrame index.\n",
      "  temp_stats = all_batting_stats[all_batting_stats['team'] == team['Team']][all_batting_stats['date'].astype(str).str.startswith(str(team['Year']))][all_batting_stats['gametype'] == 'regular'][batting_features]\n",
      "/var/folders/fh/fzyqqz2s1vzcm3v06kz1h29w0000gp/T/ipykernel_4955/2624505310.py:8: UserWarning: Boolean Series key will be reindexed to match DataFrame index.\n",
      "  temp_stats = all_batting_stats[all_batting_stats['team'] == team['Team']][all_batting_stats['date'].astype(str).str.startswith(str(team['Year']))][all_batting_stats['gametype'] == 'regular'][batting_features]\n"
     ]
    },
    {
     "name": "stdout",
     "output_type": "stream",
     "text": [
      "Index: 83, Year: 2005 Team: BOS, Level of Success: DS\n"
     ]
    },
    {
     "name": "stderr",
     "output_type": "stream",
     "text": [
      "/var/folders/fh/fzyqqz2s1vzcm3v06kz1h29w0000gp/T/ipykernel_4955/2624505310.py:8: UserWarning: Boolean Series key will be reindexed to match DataFrame index.\n",
      "  temp_stats = all_batting_stats[all_batting_stats['team'] == team['Team']][all_batting_stats['date'].astype(str).str.startswith(str(team['Year']))][all_batting_stats['gametype'] == 'regular'][batting_features]\n",
      "/var/folders/fh/fzyqqz2s1vzcm3v06kz1h29w0000gp/T/ipykernel_4955/2624505310.py:8: UserWarning: Boolean Series key will be reindexed to match DataFrame index.\n",
      "  temp_stats = all_batting_stats[all_batting_stats['team'] == team['Team']][all_batting_stats['date'].astype(str).str.startswith(str(team['Year']))][all_batting_stats['gametype'] == 'regular'][batting_features]\n"
     ]
    },
    {
     "name": "stdout",
     "output_type": "stream",
     "text": [
      "Index: 84, Year: 2005 Team: SLN, Level of Success: LS\n"
     ]
    },
    {
     "name": "stderr",
     "output_type": "stream",
     "text": [
      "/var/folders/fh/fzyqqz2s1vzcm3v06kz1h29w0000gp/T/ipykernel_4955/2624505310.py:8: UserWarning: Boolean Series key will be reindexed to match DataFrame index.\n",
      "  temp_stats = all_batting_stats[all_batting_stats['team'] == team['Team']][all_batting_stats['date'].astype(str).str.startswith(str(team['Year']))][all_batting_stats['gametype'] == 'regular'][batting_features]\n",
      "/var/folders/fh/fzyqqz2s1vzcm3v06kz1h29w0000gp/T/ipykernel_4955/2624505310.py:8: UserWarning: Boolean Series key will be reindexed to match DataFrame index.\n",
      "  temp_stats = all_batting_stats[all_batting_stats['team'] == team['Team']][all_batting_stats['date'].astype(str).str.startswith(str(team['Year']))][all_batting_stats['gametype'] == 'regular'][batting_features]\n"
     ]
    },
    {
     "name": "stdout",
     "output_type": "stream",
     "text": [
      "Index: 85, Year: 2005 Team: ATL, Level of Success: DS\n"
     ]
    },
    {
     "name": "stderr",
     "output_type": "stream",
     "text": [
      "/var/folders/fh/fzyqqz2s1vzcm3v06kz1h29w0000gp/T/ipykernel_4955/2624505310.py:8: UserWarning: Boolean Series key will be reindexed to match DataFrame index.\n",
      "  temp_stats = all_batting_stats[all_batting_stats['team'] == team['Team']][all_batting_stats['date'].astype(str).str.startswith(str(team['Year']))][all_batting_stats['gametype'] == 'regular'][batting_features]\n",
      "/var/folders/fh/fzyqqz2s1vzcm3v06kz1h29w0000gp/T/ipykernel_4955/2624505310.py:8: UserWarning: Boolean Series key will be reindexed to match DataFrame index.\n",
      "  temp_stats = all_batting_stats[all_batting_stats['team'] == team['Team']][all_batting_stats['date'].astype(str).str.startswith(str(team['Year']))][all_batting_stats['gametype'] == 'regular'][batting_features]\n"
     ]
    },
    {
     "name": "stdout",
     "output_type": "stream",
     "text": [
      "Index: 86, Year: 2005 Team: SDN, Level of Success: DS\n"
     ]
    },
    {
     "name": "stderr",
     "output_type": "stream",
     "text": [
      "/var/folders/fh/fzyqqz2s1vzcm3v06kz1h29w0000gp/T/ipykernel_4955/2624505310.py:8: UserWarning: Boolean Series key will be reindexed to match DataFrame index.\n",
      "  temp_stats = all_batting_stats[all_batting_stats['team'] == team['Team']][all_batting_stats['date'].astype(str).str.startswith(str(team['Year']))][all_batting_stats['gametype'] == 'regular'][batting_features]\n",
      "/var/folders/fh/fzyqqz2s1vzcm3v06kz1h29w0000gp/T/ipykernel_4955/2624505310.py:8: UserWarning: Boolean Series key will be reindexed to match DataFrame index.\n",
      "  temp_stats = all_batting_stats[all_batting_stats['team'] == team['Team']][all_batting_stats['date'].astype(str).str.startswith(str(team['Year']))][all_batting_stats['gametype'] == 'regular'][batting_features]\n"
     ]
    },
    {
     "name": "stdout",
     "output_type": "stream",
     "text": [
      "Index: 87, Year: 2005 Team: HOU, Level of Success: WS\n"
     ]
    },
    {
     "name": "stderr",
     "output_type": "stream",
     "text": [
      "/var/folders/fh/fzyqqz2s1vzcm3v06kz1h29w0000gp/T/ipykernel_4955/2624505310.py:8: UserWarning: Boolean Series key will be reindexed to match DataFrame index.\n",
      "  temp_stats = all_batting_stats[all_batting_stats['team'] == team['Team']][all_batting_stats['date'].astype(str).str.startswith(str(team['Year']))][all_batting_stats['gametype'] == 'regular'][batting_features]\n",
      "/var/folders/fh/fzyqqz2s1vzcm3v06kz1h29w0000gp/T/ipykernel_4955/2624505310.py:8: UserWarning: Boolean Series key will be reindexed to match DataFrame index.\n",
      "  temp_stats = all_batting_stats[all_batting_stats['team'] == team['Team']][all_batting_stats['date'].astype(str).str.startswith(str(team['Year']))][all_batting_stats['gametype'] == 'regular'][batting_features]\n"
     ]
    },
    {
     "name": "stdout",
     "output_type": "stream",
     "text": [
      "Index: 88, Year: 2006 Team: NYA, Level of Success: DS\n"
     ]
    },
    {
     "name": "stderr",
     "output_type": "stream",
     "text": [
      "/var/folders/fh/fzyqqz2s1vzcm3v06kz1h29w0000gp/T/ipykernel_4955/2624505310.py:8: UserWarning: Boolean Series key will be reindexed to match DataFrame index.\n",
      "  temp_stats = all_batting_stats[all_batting_stats['team'] == team['Team']][all_batting_stats['date'].astype(str).str.startswith(str(team['Year']))][all_batting_stats['gametype'] == 'regular'][batting_features]\n",
      "/var/folders/fh/fzyqqz2s1vzcm3v06kz1h29w0000gp/T/ipykernel_4955/2624505310.py:8: UserWarning: Boolean Series key will be reindexed to match DataFrame index.\n",
      "  temp_stats = all_batting_stats[all_batting_stats['team'] == team['Team']][all_batting_stats['date'].astype(str).str.startswith(str(team['Year']))][all_batting_stats['gametype'] == 'regular'][batting_features]\n"
     ]
    },
    {
     "name": "stdout",
     "output_type": "stream",
     "text": [
      "Index: 89, Year: 2006 Team: MIN, Level of Success: DS\n"
     ]
    },
    {
     "name": "stderr",
     "output_type": "stream",
     "text": [
      "/var/folders/fh/fzyqqz2s1vzcm3v06kz1h29w0000gp/T/ipykernel_4955/2624505310.py:8: UserWarning: Boolean Series key will be reindexed to match DataFrame index.\n",
      "  temp_stats = all_batting_stats[all_batting_stats['team'] == team['Team']][all_batting_stats['date'].astype(str).str.startswith(str(team['Year']))][all_batting_stats['gametype'] == 'regular'][batting_features]\n",
      "/var/folders/fh/fzyqqz2s1vzcm3v06kz1h29w0000gp/T/ipykernel_4955/2624505310.py:8: UserWarning: Boolean Series key will be reindexed to match DataFrame index.\n",
      "  temp_stats = all_batting_stats[all_batting_stats['team'] == team['Team']][all_batting_stats['date'].astype(str).str.startswith(str(team['Year']))][all_batting_stats['gametype'] == 'regular'][batting_features]\n"
     ]
    },
    {
     "name": "stdout",
     "output_type": "stream",
     "text": [
      "Index: 90, Year: 2006 Team: OAK, Level of Success: LS\n"
     ]
    },
    {
     "name": "stderr",
     "output_type": "stream",
     "text": [
      "/var/folders/fh/fzyqqz2s1vzcm3v06kz1h29w0000gp/T/ipykernel_4955/2624505310.py:8: UserWarning: Boolean Series key will be reindexed to match DataFrame index.\n",
      "  temp_stats = all_batting_stats[all_batting_stats['team'] == team['Team']][all_batting_stats['date'].astype(str).str.startswith(str(team['Year']))][all_batting_stats['gametype'] == 'regular'][batting_features]\n",
      "/var/folders/fh/fzyqqz2s1vzcm3v06kz1h29w0000gp/T/ipykernel_4955/2624505310.py:8: UserWarning: Boolean Series key will be reindexed to match DataFrame index.\n",
      "  temp_stats = all_batting_stats[all_batting_stats['team'] == team['Team']][all_batting_stats['date'].astype(str).str.startswith(str(team['Year']))][all_batting_stats['gametype'] == 'regular'][batting_features]\n"
     ]
    },
    {
     "name": "stdout",
     "output_type": "stream",
     "text": [
      "Index: 91, Year: 2006 Team: DET, Level of Success: WS\n"
     ]
    },
    {
     "name": "stderr",
     "output_type": "stream",
     "text": [
      "/var/folders/fh/fzyqqz2s1vzcm3v06kz1h29w0000gp/T/ipykernel_4955/2624505310.py:8: UserWarning: Boolean Series key will be reindexed to match DataFrame index.\n",
      "  temp_stats = all_batting_stats[all_batting_stats['team'] == team['Team']][all_batting_stats['date'].astype(str).str.startswith(str(team['Year']))][all_batting_stats['gametype'] == 'regular'][batting_features]\n",
      "/var/folders/fh/fzyqqz2s1vzcm3v06kz1h29w0000gp/T/ipykernel_4955/2624505310.py:8: UserWarning: Boolean Series key will be reindexed to match DataFrame index.\n",
      "  temp_stats = all_batting_stats[all_batting_stats['team'] == team['Team']][all_batting_stats['date'].astype(str).str.startswith(str(team['Year']))][all_batting_stats['gametype'] == 'regular'][batting_features]\n"
     ]
    },
    {
     "name": "stdout",
     "output_type": "stream",
     "text": [
      "Index: 92, Year: 2006 Team: NYN, Level of Success: LS\n"
     ]
    },
    {
     "name": "stderr",
     "output_type": "stream",
     "text": [
      "/var/folders/fh/fzyqqz2s1vzcm3v06kz1h29w0000gp/T/ipykernel_4955/2624505310.py:8: UserWarning: Boolean Series key will be reindexed to match DataFrame index.\n",
      "  temp_stats = all_batting_stats[all_batting_stats['team'] == team['Team']][all_batting_stats['date'].astype(str).str.startswith(str(team['Year']))][all_batting_stats['gametype'] == 'regular'][batting_features]\n",
      "/var/folders/fh/fzyqqz2s1vzcm3v06kz1h29w0000gp/T/ipykernel_4955/2624505310.py:8: UserWarning: Boolean Series key will be reindexed to match DataFrame index.\n",
      "  temp_stats = all_batting_stats[all_batting_stats['team'] == team['Team']][all_batting_stats['date'].astype(str).str.startswith(str(team['Year']))][all_batting_stats['gametype'] == 'regular'][batting_features]\n"
     ]
    },
    {
     "name": "stdout",
     "output_type": "stream",
     "text": [
      "Index: 93, Year: 2006 Team: SDN, Level of Success: DS\n"
     ]
    },
    {
     "name": "stderr",
     "output_type": "stream",
     "text": [
      "/var/folders/fh/fzyqqz2s1vzcm3v06kz1h29w0000gp/T/ipykernel_4955/2624505310.py:8: UserWarning: Boolean Series key will be reindexed to match DataFrame index.\n",
      "  temp_stats = all_batting_stats[all_batting_stats['team'] == team['Team']][all_batting_stats['date'].astype(str).str.startswith(str(team['Year']))][all_batting_stats['gametype'] == 'regular'][batting_features]\n",
      "/var/folders/fh/fzyqqz2s1vzcm3v06kz1h29w0000gp/T/ipykernel_4955/2624505310.py:8: UserWarning: Boolean Series key will be reindexed to match DataFrame index.\n",
      "  temp_stats = all_batting_stats[all_batting_stats['team'] == team['Team']][all_batting_stats['date'].astype(str).str.startswith(str(team['Year']))][all_batting_stats['gametype'] == 'regular'][batting_features]\n"
     ]
    },
    {
     "name": "stdout",
     "output_type": "stream",
     "text": [
      "Index: 94, Year: 2006 Team: SLN, Level of Success: C\n"
     ]
    },
    {
     "name": "stderr",
     "output_type": "stream",
     "text": [
      "/var/folders/fh/fzyqqz2s1vzcm3v06kz1h29w0000gp/T/ipykernel_4955/2624505310.py:8: UserWarning: Boolean Series key will be reindexed to match DataFrame index.\n",
      "  temp_stats = all_batting_stats[all_batting_stats['team'] == team['Team']][all_batting_stats['date'].astype(str).str.startswith(str(team['Year']))][all_batting_stats['gametype'] == 'regular'][batting_features]\n",
      "/var/folders/fh/fzyqqz2s1vzcm3v06kz1h29w0000gp/T/ipykernel_4955/2624505310.py:8: UserWarning: Boolean Series key will be reindexed to match DataFrame index.\n",
      "  temp_stats = all_batting_stats[all_batting_stats['team'] == team['Team']][all_batting_stats['date'].astype(str).str.startswith(str(team['Year']))][all_batting_stats['gametype'] == 'regular'][batting_features]\n"
     ]
    },
    {
     "name": "stdout",
     "output_type": "stream",
     "text": [
      "Index: 95, Year: 2006 Team: LAN, Level of Success: DS\n"
     ]
    },
    {
     "name": "stderr",
     "output_type": "stream",
     "text": [
      "/var/folders/fh/fzyqqz2s1vzcm3v06kz1h29w0000gp/T/ipykernel_4955/2624505310.py:8: UserWarning: Boolean Series key will be reindexed to match DataFrame index.\n",
      "  temp_stats = all_batting_stats[all_batting_stats['team'] == team['Team']][all_batting_stats['date'].astype(str).str.startswith(str(team['Year']))][all_batting_stats['gametype'] == 'regular'][batting_features]\n",
      "/var/folders/fh/fzyqqz2s1vzcm3v06kz1h29w0000gp/T/ipykernel_4955/2624505310.py:8: UserWarning: Boolean Series key will be reindexed to match DataFrame index.\n",
      "  temp_stats = all_batting_stats[all_batting_stats['team'] == team['Team']][all_batting_stats['date'].astype(str).str.startswith(str(team['Year']))][all_batting_stats['gametype'] == 'regular'][batting_features]\n"
     ]
    },
    {
     "name": "stdout",
     "output_type": "stream",
     "text": [
      "Index: 96, Year: 2007 Team: BOS, Level of Success: C\n"
     ]
    },
    {
     "name": "stderr",
     "output_type": "stream",
     "text": [
      "/var/folders/fh/fzyqqz2s1vzcm3v06kz1h29w0000gp/T/ipykernel_4955/2624505310.py:8: UserWarning: Boolean Series key will be reindexed to match DataFrame index.\n",
      "  temp_stats = all_batting_stats[all_batting_stats['team'] == team['Team']][all_batting_stats['date'].astype(str).str.startswith(str(team['Year']))][all_batting_stats['gametype'] == 'regular'][batting_features]\n",
      "/var/folders/fh/fzyqqz2s1vzcm3v06kz1h29w0000gp/T/ipykernel_4955/2624505310.py:8: UserWarning: Boolean Series key will be reindexed to match DataFrame index.\n",
      "  temp_stats = all_batting_stats[all_batting_stats['team'] == team['Team']][all_batting_stats['date'].astype(str).str.startswith(str(team['Year']))][all_batting_stats['gametype'] == 'regular'][batting_features]\n"
     ]
    },
    {
     "name": "stdout",
     "output_type": "stream",
     "text": [
      "Index: 97, Year: 2007 Team: CLE, Level of Success: LS\n"
     ]
    },
    {
     "name": "stderr",
     "output_type": "stream",
     "text": [
      "/var/folders/fh/fzyqqz2s1vzcm3v06kz1h29w0000gp/T/ipykernel_4955/2624505310.py:8: UserWarning: Boolean Series key will be reindexed to match DataFrame index.\n",
      "  temp_stats = all_batting_stats[all_batting_stats['team'] == team['Team']][all_batting_stats['date'].astype(str).str.startswith(str(team['Year']))][all_batting_stats['gametype'] == 'regular'][batting_features]\n",
      "/var/folders/fh/fzyqqz2s1vzcm3v06kz1h29w0000gp/T/ipykernel_4955/2624505310.py:8: UserWarning: Boolean Series key will be reindexed to match DataFrame index.\n",
      "  temp_stats = all_batting_stats[all_batting_stats['team'] == team['Team']][all_batting_stats['date'].astype(str).str.startswith(str(team['Year']))][all_batting_stats['gametype'] == 'regular'][batting_features]\n"
     ]
    },
    {
     "name": "stdout",
     "output_type": "stream",
     "text": [
      "Index: 98, Year: 2007 Team: ANA, Level of Success: DS\n"
     ]
    },
    {
     "name": "stderr",
     "output_type": "stream",
     "text": [
      "/var/folders/fh/fzyqqz2s1vzcm3v06kz1h29w0000gp/T/ipykernel_4955/2624505310.py:8: UserWarning: Boolean Series key will be reindexed to match DataFrame index.\n",
      "  temp_stats = all_batting_stats[all_batting_stats['team'] == team['Team']][all_batting_stats['date'].astype(str).str.startswith(str(team['Year']))][all_batting_stats['gametype'] == 'regular'][batting_features]\n",
      "/var/folders/fh/fzyqqz2s1vzcm3v06kz1h29w0000gp/T/ipykernel_4955/2624505310.py:8: UserWarning: Boolean Series key will be reindexed to match DataFrame index.\n",
      "  temp_stats = all_batting_stats[all_batting_stats['team'] == team['Team']][all_batting_stats['date'].astype(str).str.startswith(str(team['Year']))][all_batting_stats['gametype'] == 'regular'][batting_features]\n"
     ]
    },
    {
     "name": "stdout",
     "output_type": "stream",
     "text": [
      "Index: 99, Year: 2007 Team: NYA, Level of Success: DS\n"
     ]
    },
    {
     "name": "stderr",
     "output_type": "stream",
     "text": [
      "/var/folders/fh/fzyqqz2s1vzcm3v06kz1h29w0000gp/T/ipykernel_4955/2624505310.py:8: UserWarning: Boolean Series key will be reindexed to match DataFrame index.\n",
      "  temp_stats = all_batting_stats[all_batting_stats['team'] == team['Team']][all_batting_stats['date'].astype(str).str.startswith(str(team['Year']))][all_batting_stats['gametype'] == 'regular'][batting_features]\n",
      "/var/folders/fh/fzyqqz2s1vzcm3v06kz1h29w0000gp/T/ipykernel_4955/2624505310.py:8: UserWarning: Boolean Series key will be reindexed to match DataFrame index.\n",
      "  temp_stats = all_batting_stats[all_batting_stats['team'] == team['Team']][all_batting_stats['date'].astype(str).str.startswith(str(team['Year']))][all_batting_stats['gametype'] == 'regular'][batting_features]\n"
     ]
    },
    {
     "name": "stdout",
     "output_type": "stream",
     "text": [
      "Index: 100, Year: 2007 Team: ARI, Level of Success: LS\n"
     ]
    },
    {
     "name": "stderr",
     "output_type": "stream",
     "text": [
      "/var/folders/fh/fzyqqz2s1vzcm3v06kz1h29w0000gp/T/ipykernel_4955/2624505310.py:8: UserWarning: Boolean Series key will be reindexed to match DataFrame index.\n",
      "  temp_stats = all_batting_stats[all_batting_stats['team'] == team['Team']][all_batting_stats['date'].astype(str).str.startswith(str(team['Year']))][all_batting_stats['gametype'] == 'regular'][batting_features]\n",
      "/var/folders/fh/fzyqqz2s1vzcm3v06kz1h29w0000gp/T/ipykernel_4955/2624505310.py:8: UserWarning: Boolean Series key will be reindexed to match DataFrame index.\n",
      "  temp_stats = all_batting_stats[all_batting_stats['team'] == team['Team']][all_batting_stats['date'].astype(str).str.startswith(str(team['Year']))][all_batting_stats['gametype'] == 'regular'][batting_features]\n"
     ]
    },
    {
     "name": "stdout",
     "output_type": "stream",
     "text": [
      "Index: 101, Year: 2007 Team: PHI, Level of Success: DS\n"
     ]
    },
    {
     "name": "stderr",
     "output_type": "stream",
     "text": [
      "/var/folders/fh/fzyqqz2s1vzcm3v06kz1h29w0000gp/T/ipykernel_4955/2624505310.py:8: UserWarning: Boolean Series key will be reindexed to match DataFrame index.\n",
      "  temp_stats = all_batting_stats[all_batting_stats['team'] == team['Team']][all_batting_stats['date'].astype(str).str.startswith(str(team['Year']))][all_batting_stats['gametype'] == 'regular'][batting_features]\n",
      "/var/folders/fh/fzyqqz2s1vzcm3v06kz1h29w0000gp/T/ipykernel_4955/2624505310.py:8: UserWarning: Boolean Series key will be reindexed to match DataFrame index.\n",
      "  temp_stats = all_batting_stats[all_batting_stats['team'] == team['Team']][all_batting_stats['date'].astype(str).str.startswith(str(team['Year']))][all_batting_stats['gametype'] == 'regular'][batting_features]\n"
     ]
    },
    {
     "name": "stdout",
     "output_type": "stream",
     "text": [
      "Index: 102, Year: 2007 Team: CHN, Level of Success: DS\n"
     ]
    },
    {
     "name": "stderr",
     "output_type": "stream",
     "text": [
      "/var/folders/fh/fzyqqz2s1vzcm3v06kz1h29w0000gp/T/ipykernel_4955/2624505310.py:8: UserWarning: Boolean Series key will be reindexed to match DataFrame index.\n",
      "  temp_stats = all_batting_stats[all_batting_stats['team'] == team['Team']][all_batting_stats['date'].astype(str).str.startswith(str(team['Year']))][all_batting_stats['gametype'] == 'regular'][batting_features]\n",
      "/var/folders/fh/fzyqqz2s1vzcm3v06kz1h29w0000gp/T/ipykernel_4955/2624505310.py:8: UserWarning: Boolean Series key will be reindexed to match DataFrame index.\n",
      "  temp_stats = all_batting_stats[all_batting_stats['team'] == team['Team']][all_batting_stats['date'].astype(str).str.startswith(str(team['Year']))][all_batting_stats['gametype'] == 'regular'][batting_features]\n"
     ]
    },
    {
     "name": "stdout",
     "output_type": "stream",
     "text": [
      "Index: 103, Year: 2007 Team: COL, Level of Success: WS\n"
     ]
    },
    {
     "name": "stderr",
     "output_type": "stream",
     "text": [
      "/var/folders/fh/fzyqqz2s1vzcm3v06kz1h29w0000gp/T/ipykernel_4955/2624505310.py:8: UserWarning: Boolean Series key will be reindexed to match DataFrame index.\n",
      "  temp_stats = all_batting_stats[all_batting_stats['team'] == team['Team']][all_batting_stats['date'].astype(str).str.startswith(str(team['Year']))][all_batting_stats['gametype'] == 'regular'][batting_features]\n",
      "/var/folders/fh/fzyqqz2s1vzcm3v06kz1h29w0000gp/T/ipykernel_4955/2624505310.py:8: UserWarning: Boolean Series key will be reindexed to match DataFrame index.\n",
      "  temp_stats = all_batting_stats[all_batting_stats['team'] == team['Team']][all_batting_stats['date'].astype(str).str.startswith(str(team['Year']))][all_batting_stats['gametype'] == 'regular'][batting_features]\n"
     ]
    },
    {
     "name": "stdout",
     "output_type": "stream",
     "text": [
      "Index: 104, Year: 2008 Team: ANA, Level of Success: DS\n"
     ]
    },
    {
     "name": "stderr",
     "output_type": "stream",
     "text": [
      "/var/folders/fh/fzyqqz2s1vzcm3v06kz1h29w0000gp/T/ipykernel_4955/2624505310.py:8: UserWarning: Boolean Series key will be reindexed to match DataFrame index.\n",
      "  temp_stats = all_batting_stats[all_batting_stats['team'] == team['Team']][all_batting_stats['date'].astype(str).str.startswith(str(team['Year']))][all_batting_stats['gametype'] == 'regular'][batting_features]\n",
      "/var/folders/fh/fzyqqz2s1vzcm3v06kz1h29w0000gp/T/ipykernel_4955/2624505310.py:8: UserWarning: Boolean Series key will be reindexed to match DataFrame index.\n",
      "  temp_stats = all_batting_stats[all_batting_stats['team'] == team['Team']][all_batting_stats['date'].astype(str).str.startswith(str(team['Year']))][all_batting_stats['gametype'] == 'regular'][batting_features]\n"
     ]
    },
    {
     "name": "stdout",
     "output_type": "stream",
     "text": [
      "Index: 105, Year: 2008 Team: TBA, Level of Success: WS\n"
     ]
    },
    {
     "name": "stderr",
     "output_type": "stream",
     "text": [
      "/var/folders/fh/fzyqqz2s1vzcm3v06kz1h29w0000gp/T/ipykernel_4955/2624505310.py:8: UserWarning: Boolean Series key will be reindexed to match DataFrame index.\n",
      "  temp_stats = all_batting_stats[all_batting_stats['team'] == team['Team']][all_batting_stats['date'].astype(str).str.startswith(str(team['Year']))][all_batting_stats['gametype'] == 'regular'][batting_features]\n",
      "/var/folders/fh/fzyqqz2s1vzcm3v06kz1h29w0000gp/T/ipykernel_4955/2624505310.py:8: UserWarning: Boolean Series key will be reindexed to match DataFrame index.\n",
      "  temp_stats = all_batting_stats[all_batting_stats['team'] == team['Team']][all_batting_stats['date'].astype(str).str.startswith(str(team['Year']))][all_batting_stats['gametype'] == 'regular'][batting_features]\n"
     ]
    },
    {
     "name": "stdout",
     "output_type": "stream",
     "text": [
      "Index: 106, Year: 2008 Team: CHA, Level of Success: DS\n"
     ]
    },
    {
     "name": "stderr",
     "output_type": "stream",
     "text": [
      "/var/folders/fh/fzyqqz2s1vzcm3v06kz1h29w0000gp/T/ipykernel_4955/2624505310.py:8: UserWarning: Boolean Series key will be reindexed to match DataFrame index.\n",
      "  temp_stats = all_batting_stats[all_batting_stats['team'] == team['Team']][all_batting_stats['date'].astype(str).str.startswith(str(team['Year']))][all_batting_stats['gametype'] == 'regular'][batting_features]\n",
      "/var/folders/fh/fzyqqz2s1vzcm3v06kz1h29w0000gp/T/ipykernel_4955/2624505310.py:8: UserWarning: Boolean Series key will be reindexed to match DataFrame index.\n",
      "  temp_stats = all_batting_stats[all_batting_stats['team'] == team['Team']][all_batting_stats['date'].astype(str).str.startswith(str(team['Year']))][all_batting_stats['gametype'] == 'regular'][batting_features]\n"
     ]
    },
    {
     "name": "stdout",
     "output_type": "stream",
     "text": [
      "Index: 107, Year: 2008 Team: BOS, Level of Success: LS\n"
     ]
    },
    {
     "name": "stderr",
     "output_type": "stream",
     "text": [
      "/var/folders/fh/fzyqqz2s1vzcm3v06kz1h29w0000gp/T/ipykernel_4955/2624505310.py:8: UserWarning: Boolean Series key will be reindexed to match DataFrame index.\n",
      "  temp_stats = all_batting_stats[all_batting_stats['team'] == team['Team']][all_batting_stats['date'].astype(str).str.startswith(str(team['Year']))][all_batting_stats['gametype'] == 'regular'][batting_features]\n",
      "/var/folders/fh/fzyqqz2s1vzcm3v06kz1h29w0000gp/T/ipykernel_4955/2624505310.py:8: UserWarning: Boolean Series key will be reindexed to match DataFrame index.\n",
      "  temp_stats = all_batting_stats[all_batting_stats['team'] == team['Team']][all_batting_stats['date'].astype(str).str.startswith(str(team['Year']))][all_batting_stats['gametype'] == 'regular'][batting_features]\n"
     ]
    },
    {
     "name": "stdout",
     "output_type": "stream",
     "text": [
      "Index: 108, Year: 2008 Team: CHN, Level of Success: DS\n"
     ]
    },
    {
     "name": "stderr",
     "output_type": "stream",
     "text": [
      "/var/folders/fh/fzyqqz2s1vzcm3v06kz1h29w0000gp/T/ipykernel_4955/2624505310.py:8: UserWarning: Boolean Series key will be reindexed to match DataFrame index.\n",
      "  temp_stats = all_batting_stats[all_batting_stats['team'] == team['Team']][all_batting_stats['date'].astype(str).str.startswith(str(team['Year']))][all_batting_stats['gametype'] == 'regular'][batting_features]\n",
      "/var/folders/fh/fzyqqz2s1vzcm3v06kz1h29w0000gp/T/ipykernel_4955/2624505310.py:8: UserWarning: Boolean Series key will be reindexed to match DataFrame index.\n",
      "  temp_stats = all_batting_stats[all_batting_stats['team'] == team['Team']][all_batting_stats['date'].astype(str).str.startswith(str(team['Year']))][all_batting_stats['gametype'] == 'regular'][batting_features]\n"
     ]
    },
    {
     "name": "stdout",
     "output_type": "stream",
     "text": [
      "Index: 109, Year: 2008 Team: PHI, Level of Success: C\n"
     ]
    },
    {
     "name": "stderr",
     "output_type": "stream",
     "text": [
      "/var/folders/fh/fzyqqz2s1vzcm3v06kz1h29w0000gp/T/ipykernel_4955/2624505310.py:8: UserWarning: Boolean Series key will be reindexed to match DataFrame index.\n",
      "  temp_stats = all_batting_stats[all_batting_stats['team'] == team['Team']][all_batting_stats['date'].astype(str).str.startswith(str(team['Year']))][all_batting_stats['gametype'] == 'regular'][batting_features]\n",
      "/var/folders/fh/fzyqqz2s1vzcm3v06kz1h29w0000gp/T/ipykernel_4955/2624505310.py:8: UserWarning: Boolean Series key will be reindexed to match DataFrame index.\n",
      "  temp_stats = all_batting_stats[all_batting_stats['team'] == team['Team']][all_batting_stats['date'].astype(str).str.startswith(str(team['Year']))][all_batting_stats['gametype'] == 'regular'][batting_features]\n"
     ]
    },
    {
     "name": "stdout",
     "output_type": "stream",
     "text": [
      "Index: 110, Year: 2008 Team: LAN, Level of Success: LS\n"
     ]
    },
    {
     "name": "stderr",
     "output_type": "stream",
     "text": [
      "/var/folders/fh/fzyqqz2s1vzcm3v06kz1h29w0000gp/T/ipykernel_4955/2624505310.py:8: UserWarning: Boolean Series key will be reindexed to match DataFrame index.\n",
      "  temp_stats = all_batting_stats[all_batting_stats['team'] == team['Team']][all_batting_stats['date'].astype(str).str.startswith(str(team['Year']))][all_batting_stats['gametype'] == 'regular'][batting_features]\n",
      "/var/folders/fh/fzyqqz2s1vzcm3v06kz1h29w0000gp/T/ipykernel_4955/2624505310.py:8: UserWarning: Boolean Series key will be reindexed to match DataFrame index.\n",
      "  temp_stats = all_batting_stats[all_batting_stats['team'] == team['Team']][all_batting_stats['date'].astype(str).str.startswith(str(team['Year']))][all_batting_stats['gametype'] == 'regular'][batting_features]\n"
     ]
    },
    {
     "name": "stdout",
     "output_type": "stream",
     "text": [
      "Index: 111, Year: 2008 Team: MIL, Level of Success: DS\n"
     ]
    },
    {
     "name": "stderr",
     "output_type": "stream",
     "text": [
      "/var/folders/fh/fzyqqz2s1vzcm3v06kz1h29w0000gp/T/ipykernel_4955/2624505310.py:8: UserWarning: Boolean Series key will be reindexed to match DataFrame index.\n",
      "  temp_stats = all_batting_stats[all_batting_stats['team'] == team['Team']][all_batting_stats['date'].astype(str).str.startswith(str(team['Year']))][all_batting_stats['gametype'] == 'regular'][batting_features]\n",
      "/var/folders/fh/fzyqqz2s1vzcm3v06kz1h29w0000gp/T/ipykernel_4955/2624505310.py:8: UserWarning: Boolean Series key will be reindexed to match DataFrame index.\n",
      "  temp_stats = all_batting_stats[all_batting_stats['team'] == team['Team']][all_batting_stats['date'].astype(str).str.startswith(str(team['Year']))][all_batting_stats['gametype'] == 'regular'][batting_features]\n"
     ]
    },
    {
     "name": "stdout",
     "output_type": "stream",
     "text": [
      "Index: 112, Year: 2009 Team: NYA, Level of Success: C\n"
     ]
    },
    {
     "name": "stderr",
     "output_type": "stream",
     "text": [
      "/var/folders/fh/fzyqqz2s1vzcm3v06kz1h29w0000gp/T/ipykernel_4955/2624505310.py:8: UserWarning: Boolean Series key will be reindexed to match DataFrame index.\n",
      "  temp_stats = all_batting_stats[all_batting_stats['team'] == team['Team']][all_batting_stats['date'].astype(str).str.startswith(str(team['Year']))][all_batting_stats['gametype'] == 'regular'][batting_features]\n",
      "/var/folders/fh/fzyqqz2s1vzcm3v06kz1h29w0000gp/T/ipykernel_4955/2624505310.py:8: UserWarning: Boolean Series key will be reindexed to match DataFrame index.\n",
      "  temp_stats = all_batting_stats[all_batting_stats['team'] == team['Team']][all_batting_stats['date'].astype(str).str.startswith(str(team['Year']))][all_batting_stats['gametype'] == 'regular'][batting_features]\n"
     ]
    },
    {
     "name": "stdout",
     "output_type": "stream",
     "text": [
      "Index: 113, Year: 2009 Team: ANA, Level of Success: LS\n"
     ]
    },
    {
     "name": "stderr",
     "output_type": "stream",
     "text": [
      "/var/folders/fh/fzyqqz2s1vzcm3v06kz1h29w0000gp/T/ipykernel_4955/2624505310.py:8: UserWarning: Boolean Series key will be reindexed to match DataFrame index.\n",
      "  temp_stats = all_batting_stats[all_batting_stats['team'] == team['Team']][all_batting_stats['date'].astype(str).str.startswith(str(team['Year']))][all_batting_stats['gametype'] == 'regular'][batting_features]\n",
      "/var/folders/fh/fzyqqz2s1vzcm3v06kz1h29w0000gp/T/ipykernel_4955/2624505310.py:8: UserWarning: Boolean Series key will be reindexed to match DataFrame index.\n",
      "  temp_stats = all_batting_stats[all_batting_stats['team'] == team['Team']][all_batting_stats['date'].astype(str).str.startswith(str(team['Year']))][all_batting_stats['gametype'] == 'regular'][batting_features]\n"
     ]
    },
    {
     "name": "stdout",
     "output_type": "stream",
     "text": [
      "Index: 114, Year: 2009 Team: MIN, Level of Success: DS\n"
     ]
    },
    {
     "name": "stderr",
     "output_type": "stream",
     "text": [
      "/var/folders/fh/fzyqqz2s1vzcm3v06kz1h29w0000gp/T/ipykernel_4955/2624505310.py:8: UserWarning: Boolean Series key will be reindexed to match DataFrame index.\n",
      "  temp_stats = all_batting_stats[all_batting_stats['team'] == team['Team']][all_batting_stats['date'].astype(str).str.startswith(str(team['Year']))][all_batting_stats['gametype'] == 'regular'][batting_features]\n",
      "/var/folders/fh/fzyqqz2s1vzcm3v06kz1h29w0000gp/T/ipykernel_4955/2624505310.py:8: UserWarning: Boolean Series key will be reindexed to match DataFrame index.\n",
      "  temp_stats = all_batting_stats[all_batting_stats['team'] == team['Team']][all_batting_stats['date'].astype(str).str.startswith(str(team['Year']))][all_batting_stats['gametype'] == 'regular'][batting_features]\n"
     ]
    },
    {
     "name": "stdout",
     "output_type": "stream",
     "text": [
      "Index: 115, Year: 2009 Team: BOS, Level of Success: DS\n"
     ]
    },
    {
     "name": "stderr",
     "output_type": "stream",
     "text": [
      "/var/folders/fh/fzyqqz2s1vzcm3v06kz1h29w0000gp/T/ipykernel_4955/2624505310.py:8: UserWarning: Boolean Series key will be reindexed to match DataFrame index.\n",
      "  temp_stats = all_batting_stats[all_batting_stats['team'] == team['Team']][all_batting_stats['date'].astype(str).str.startswith(str(team['Year']))][all_batting_stats['gametype'] == 'regular'][batting_features]\n",
      "/var/folders/fh/fzyqqz2s1vzcm3v06kz1h29w0000gp/T/ipykernel_4955/2624505310.py:8: UserWarning: Boolean Series key will be reindexed to match DataFrame index.\n",
      "  temp_stats = all_batting_stats[all_batting_stats['team'] == team['Team']][all_batting_stats['date'].astype(str).str.startswith(str(team['Year']))][all_batting_stats['gametype'] == 'regular'][batting_features]\n"
     ]
    },
    {
     "name": "stdout",
     "output_type": "stream",
     "text": [
      "Index: 116, Year: 2009 Team: LAN, Level of Success: LS\n"
     ]
    },
    {
     "name": "stderr",
     "output_type": "stream",
     "text": [
      "/var/folders/fh/fzyqqz2s1vzcm3v06kz1h29w0000gp/T/ipykernel_4955/2624505310.py:8: UserWarning: Boolean Series key will be reindexed to match DataFrame index.\n",
      "  temp_stats = all_batting_stats[all_batting_stats['team'] == team['Team']][all_batting_stats['date'].astype(str).str.startswith(str(team['Year']))][all_batting_stats['gametype'] == 'regular'][batting_features]\n",
      "/var/folders/fh/fzyqqz2s1vzcm3v06kz1h29w0000gp/T/ipykernel_4955/2624505310.py:8: UserWarning: Boolean Series key will be reindexed to match DataFrame index.\n",
      "  temp_stats = all_batting_stats[all_batting_stats['team'] == team['Team']][all_batting_stats['date'].astype(str).str.startswith(str(team['Year']))][all_batting_stats['gametype'] == 'regular'][batting_features]\n"
     ]
    },
    {
     "name": "stdout",
     "output_type": "stream",
     "text": [
      "Index: 117, Year: 2009 Team: PHI, Level of Success: WS\n"
     ]
    },
    {
     "name": "stderr",
     "output_type": "stream",
     "text": [
      "/var/folders/fh/fzyqqz2s1vzcm3v06kz1h29w0000gp/T/ipykernel_4955/2624505310.py:8: UserWarning: Boolean Series key will be reindexed to match DataFrame index.\n",
      "  temp_stats = all_batting_stats[all_batting_stats['team'] == team['Team']][all_batting_stats['date'].astype(str).str.startswith(str(team['Year']))][all_batting_stats['gametype'] == 'regular'][batting_features]\n",
      "/var/folders/fh/fzyqqz2s1vzcm3v06kz1h29w0000gp/T/ipykernel_4955/2624505310.py:8: UserWarning: Boolean Series key will be reindexed to match DataFrame index.\n",
      "  temp_stats = all_batting_stats[all_batting_stats['team'] == team['Team']][all_batting_stats['date'].astype(str).str.startswith(str(team['Year']))][all_batting_stats['gametype'] == 'regular'][batting_features]\n"
     ]
    },
    {
     "name": "stdout",
     "output_type": "stream",
     "text": [
      "Index: 118, Year: 2009 Team: SLN, Level of Success: DS\n"
     ]
    },
    {
     "name": "stderr",
     "output_type": "stream",
     "text": [
      "/var/folders/fh/fzyqqz2s1vzcm3v06kz1h29w0000gp/T/ipykernel_4955/2624505310.py:8: UserWarning: Boolean Series key will be reindexed to match DataFrame index.\n",
      "  temp_stats = all_batting_stats[all_batting_stats['team'] == team['Team']][all_batting_stats['date'].astype(str).str.startswith(str(team['Year']))][all_batting_stats['gametype'] == 'regular'][batting_features]\n",
      "/var/folders/fh/fzyqqz2s1vzcm3v06kz1h29w0000gp/T/ipykernel_4955/2624505310.py:8: UserWarning: Boolean Series key will be reindexed to match DataFrame index.\n",
      "  temp_stats = all_batting_stats[all_batting_stats['team'] == team['Team']][all_batting_stats['date'].astype(str).str.startswith(str(team['Year']))][all_batting_stats['gametype'] == 'regular'][batting_features]\n"
     ]
    },
    {
     "name": "stdout",
     "output_type": "stream",
     "text": [
      "Index: 119, Year: 2009 Team: COL, Level of Success: DS\n"
     ]
    },
    {
     "name": "stderr",
     "output_type": "stream",
     "text": [
      "/var/folders/fh/fzyqqz2s1vzcm3v06kz1h29w0000gp/T/ipykernel_4955/2624505310.py:8: UserWarning: Boolean Series key will be reindexed to match DataFrame index.\n",
      "  temp_stats = all_batting_stats[all_batting_stats['team'] == team['Team']][all_batting_stats['date'].astype(str).str.startswith(str(team['Year']))][all_batting_stats['gametype'] == 'regular'][batting_features]\n",
      "/var/folders/fh/fzyqqz2s1vzcm3v06kz1h29w0000gp/T/ipykernel_4955/2624505310.py:8: UserWarning: Boolean Series key will be reindexed to match DataFrame index.\n",
      "  temp_stats = all_batting_stats[all_batting_stats['team'] == team['Team']][all_batting_stats['date'].astype(str).str.startswith(str(team['Year']))][all_batting_stats['gametype'] == 'regular'][batting_features]\n"
     ]
    },
    {
     "name": "stdout",
     "output_type": "stream",
     "text": [
      "Index: 120, Year: 2010 Team: TBA, Level of Success: DS\n"
     ]
    },
    {
     "name": "stderr",
     "output_type": "stream",
     "text": [
      "/var/folders/fh/fzyqqz2s1vzcm3v06kz1h29w0000gp/T/ipykernel_4955/2624505310.py:8: UserWarning: Boolean Series key will be reindexed to match DataFrame index.\n",
      "  temp_stats = all_batting_stats[all_batting_stats['team'] == team['Team']][all_batting_stats['date'].astype(str).str.startswith(str(team['Year']))][all_batting_stats['gametype'] == 'regular'][batting_features]\n",
      "/var/folders/fh/fzyqqz2s1vzcm3v06kz1h29w0000gp/T/ipykernel_4955/2624505310.py:8: UserWarning: Boolean Series key will be reindexed to match DataFrame index.\n",
      "  temp_stats = all_batting_stats[all_batting_stats['team'] == team['Team']][all_batting_stats['date'].astype(str).str.startswith(str(team['Year']))][all_batting_stats['gametype'] == 'regular'][batting_features]\n"
     ]
    },
    {
     "name": "stdout",
     "output_type": "stream",
     "text": [
      "Index: 121, Year: 2010 Team: MIN, Level of Success: DS\n"
     ]
    },
    {
     "name": "stderr",
     "output_type": "stream",
     "text": [
      "/var/folders/fh/fzyqqz2s1vzcm3v06kz1h29w0000gp/T/ipykernel_4955/2624505310.py:8: UserWarning: Boolean Series key will be reindexed to match DataFrame index.\n",
      "  temp_stats = all_batting_stats[all_batting_stats['team'] == team['Team']][all_batting_stats['date'].astype(str).str.startswith(str(team['Year']))][all_batting_stats['gametype'] == 'regular'][batting_features]\n",
      "/var/folders/fh/fzyqqz2s1vzcm3v06kz1h29w0000gp/T/ipykernel_4955/2624505310.py:8: UserWarning: Boolean Series key will be reindexed to match DataFrame index.\n",
      "  temp_stats = all_batting_stats[all_batting_stats['team'] == team['Team']][all_batting_stats['date'].astype(str).str.startswith(str(team['Year']))][all_batting_stats['gametype'] == 'regular'][batting_features]\n"
     ]
    },
    {
     "name": "stdout",
     "output_type": "stream",
     "text": [
      "Index: 122, Year: 2010 Team: TEX, Level of Success: WS\n"
     ]
    },
    {
     "name": "stderr",
     "output_type": "stream",
     "text": [
      "/var/folders/fh/fzyqqz2s1vzcm3v06kz1h29w0000gp/T/ipykernel_4955/2624505310.py:8: UserWarning: Boolean Series key will be reindexed to match DataFrame index.\n",
      "  temp_stats = all_batting_stats[all_batting_stats['team'] == team['Team']][all_batting_stats['date'].astype(str).str.startswith(str(team['Year']))][all_batting_stats['gametype'] == 'regular'][batting_features]\n",
      "/var/folders/fh/fzyqqz2s1vzcm3v06kz1h29w0000gp/T/ipykernel_4955/2624505310.py:8: UserWarning: Boolean Series key will be reindexed to match DataFrame index.\n",
      "  temp_stats = all_batting_stats[all_batting_stats['team'] == team['Team']][all_batting_stats['date'].astype(str).str.startswith(str(team['Year']))][all_batting_stats['gametype'] == 'regular'][batting_features]\n"
     ]
    },
    {
     "name": "stdout",
     "output_type": "stream",
     "text": [
      "Index: 123, Year: 2010 Team: NYA, Level of Success: LS\n"
     ]
    },
    {
     "name": "stderr",
     "output_type": "stream",
     "text": [
      "/var/folders/fh/fzyqqz2s1vzcm3v06kz1h29w0000gp/T/ipykernel_4955/2624505310.py:8: UserWarning: Boolean Series key will be reindexed to match DataFrame index.\n",
      "  temp_stats = all_batting_stats[all_batting_stats['team'] == team['Team']][all_batting_stats['date'].astype(str).str.startswith(str(team['Year']))][all_batting_stats['gametype'] == 'regular'][batting_features]\n",
      "/var/folders/fh/fzyqqz2s1vzcm3v06kz1h29w0000gp/T/ipykernel_4955/2624505310.py:8: UserWarning: Boolean Series key will be reindexed to match DataFrame index.\n",
      "  temp_stats = all_batting_stats[all_batting_stats['team'] == team['Team']][all_batting_stats['date'].astype(str).str.startswith(str(team['Year']))][all_batting_stats['gametype'] == 'regular'][batting_features]\n"
     ]
    },
    {
     "name": "stdout",
     "output_type": "stream",
     "text": [
      "Index: 124, Year: 2010 Team: PHI, Level of Success: LS\n"
     ]
    },
    {
     "name": "stderr",
     "output_type": "stream",
     "text": [
      "/var/folders/fh/fzyqqz2s1vzcm3v06kz1h29w0000gp/T/ipykernel_4955/2624505310.py:8: UserWarning: Boolean Series key will be reindexed to match DataFrame index.\n",
      "  temp_stats = all_batting_stats[all_batting_stats['team'] == team['Team']][all_batting_stats['date'].astype(str).str.startswith(str(team['Year']))][all_batting_stats['gametype'] == 'regular'][batting_features]\n",
      "/var/folders/fh/fzyqqz2s1vzcm3v06kz1h29w0000gp/T/ipykernel_4955/2624505310.py:8: UserWarning: Boolean Series key will be reindexed to match DataFrame index.\n",
      "  temp_stats = all_batting_stats[all_batting_stats['team'] == team['Team']][all_batting_stats['date'].astype(str).str.startswith(str(team['Year']))][all_batting_stats['gametype'] == 'regular'][batting_features]\n"
     ]
    },
    {
     "name": "stdout",
     "output_type": "stream",
     "text": [
      "Index: 125, Year: 2010 Team: SFN, Level of Success: C\n"
     ]
    },
    {
     "name": "stderr",
     "output_type": "stream",
     "text": [
      "/var/folders/fh/fzyqqz2s1vzcm3v06kz1h29w0000gp/T/ipykernel_4955/2624505310.py:8: UserWarning: Boolean Series key will be reindexed to match DataFrame index.\n",
      "  temp_stats = all_batting_stats[all_batting_stats['team'] == team['Team']][all_batting_stats['date'].astype(str).str.startswith(str(team['Year']))][all_batting_stats['gametype'] == 'regular'][batting_features]\n",
      "/var/folders/fh/fzyqqz2s1vzcm3v06kz1h29w0000gp/T/ipykernel_4955/2624505310.py:8: UserWarning: Boolean Series key will be reindexed to match DataFrame index.\n",
      "  temp_stats = all_batting_stats[all_batting_stats['team'] == team['Team']][all_batting_stats['date'].astype(str).str.startswith(str(team['Year']))][all_batting_stats['gametype'] == 'regular'][batting_features]\n"
     ]
    },
    {
     "name": "stdout",
     "output_type": "stream",
     "text": [
      "Index: 126, Year: 2010 Team: CIN, Level of Success: DS\n"
     ]
    },
    {
     "name": "stderr",
     "output_type": "stream",
     "text": [
      "/var/folders/fh/fzyqqz2s1vzcm3v06kz1h29w0000gp/T/ipykernel_4955/2624505310.py:8: UserWarning: Boolean Series key will be reindexed to match DataFrame index.\n",
      "  temp_stats = all_batting_stats[all_batting_stats['team'] == team['Team']][all_batting_stats['date'].astype(str).str.startswith(str(team['Year']))][all_batting_stats['gametype'] == 'regular'][batting_features]\n",
      "/var/folders/fh/fzyqqz2s1vzcm3v06kz1h29w0000gp/T/ipykernel_4955/2624505310.py:8: UserWarning: Boolean Series key will be reindexed to match DataFrame index.\n",
      "  temp_stats = all_batting_stats[all_batting_stats['team'] == team['Team']][all_batting_stats['date'].astype(str).str.startswith(str(team['Year']))][all_batting_stats['gametype'] == 'regular'][batting_features]\n"
     ]
    },
    {
     "name": "stdout",
     "output_type": "stream",
     "text": [
      "Index: 127, Year: 2010 Team: ATL, Level of Success: DS\n"
     ]
    },
    {
     "name": "stderr",
     "output_type": "stream",
     "text": [
      "/var/folders/fh/fzyqqz2s1vzcm3v06kz1h29w0000gp/T/ipykernel_4955/2624505310.py:8: UserWarning: Boolean Series key will be reindexed to match DataFrame index.\n",
      "  temp_stats = all_batting_stats[all_batting_stats['team'] == team['Team']][all_batting_stats['date'].astype(str).str.startswith(str(team['Year']))][all_batting_stats['gametype'] == 'regular'][batting_features]\n",
      "/var/folders/fh/fzyqqz2s1vzcm3v06kz1h29w0000gp/T/ipykernel_4955/2624505310.py:8: UserWarning: Boolean Series key will be reindexed to match DataFrame index.\n",
      "  temp_stats = all_batting_stats[all_batting_stats['team'] == team['Team']][all_batting_stats['date'].astype(str).str.startswith(str(team['Year']))][all_batting_stats['gametype'] == 'regular'][batting_features]\n"
     ]
    },
    {
     "name": "stdout",
     "output_type": "stream",
     "text": [
      "Index: 128, Year: 2011 Team: NYA, Level of Success: DS\n"
     ]
    },
    {
     "name": "stderr",
     "output_type": "stream",
     "text": [
      "/var/folders/fh/fzyqqz2s1vzcm3v06kz1h29w0000gp/T/ipykernel_4955/2624505310.py:8: UserWarning: Boolean Series key will be reindexed to match DataFrame index.\n",
      "  temp_stats = all_batting_stats[all_batting_stats['team'] == team['Team']][all_batting_stats['date'].astype(str).str.startswith(str(team['Year']))][all_batting_stats['gametype'] == 'regular'][batting_features]\n",
      "/var/folders/fh/fzyqqz2s1vzcm3v06kz1h29w0000gp/T/ipykernel_4955/2624505310.py:8: UserWarning: Boolean Series key will be reindexed to match DataFrame index.\n",
      "  temp_stats = all_batting_stats[all_batting_stats['team'] == team['Team']][all_batting_stats['date'].astype(str).str.startswith(str(team['Year']))][all_batting_stats['gametype'] == 'regular'][batting_features]\n"
     ]
    },
    {
     "name": "stdout",
     "output_type": "stream",
     "text": [
      "Index: 129, Year: 2011 Team: TEX, Level of Success: WS\n"
     ]
    },
    {
     "name": "stderr",
     "output_type": "stream",
     "text": [
      "/var/folders/fh/fzyqqz2s1vzcm3v06kz1h29w0000gp/T/ipykernel_4955/2624505310.py:8: UserWarning: Boolean Series key will be reindexed to match DataFrame index.\n",
      "  temp_stats = all_batting_stats[all_batting_stats['team'] == team['Team']][all_batting_stats['date'].astype(str).str.startswith(str(team['Year']))][all_batting_stats['gametype'] == 'regular'][batting_features]\n",
      "/var/folders/fh/fzyqqz2s1vzcm3v06kz1h29w0000gp/T/ipykernel_4955/2624505310.py:8: UserWarning: Boolean Series key will be reindexed to match DataFrame index.\n",
      "  temp_stats = all_batting_stats[all_batting_stats['team'] == team['Team']][all_batting_stats['date'].astype(str).str.startswith(str(team['Year']))][all_batting_stats['gametype'] == 'regular'][batting_features]\n"
     ]
    },
    {
     "name": "stdout",
     "output_type": "stream",
     "text": [
      "Index: 130, Year: 2011 Team: DET, Level of Success: LS\n"
     ]
    },
    {
     "name": "stderr",
     "output_type": "stream",
     "text": [
      "/var/folders/fh/fzyqqz2s1vzcm3v06kz1h29w0000gp/T/ipykernel_4955/2624505310.py:8: UserWarning: Boolean Series key will be reindexed to match DataFrame index.\n",
      "  temp_stats = all_batting_stats[all_batting_stats['team'] == team['Team']][all_batting_stats['date'].astype(str).str.startswith(str(team['Year']))][all_batting_stats['gametype'] == 'regular'][batting_features]\n",
      "/var/folders/fh/fzyqqz2s1vzcm3v06kz1h29w0000gp/T/ipykernel_4955/2624505310.py:8: UserWarning: Boolean Series key will be reindexed to match DataFrame index.\n",
      "  temp_stats = all_batting_stats[all_batting_stats['team'] == team['Team']][all_batting_stats['date'].astype(str).str.startswith(str(team['Year']))][all_batting_stats['gametype'] == 'regular'][batting_features]\n"
     ]
    },
    {
     "name": "stdout",
     "output_type": "stream",
     "text": [
      "Index: 131, Year: 2011 Team: TBA, Level of Success: DS\n"
     ]
    },
    {
     "name": "stderr",
     "output_type": "stream",
     "text": [
      "/var/folders/fh/fzyqqz2s1vzcm3v06kz1h29w0000gp/T/ipykernel_4955/2624505310.py:8: UserWarning: Boolean Series key will be reindexed to match DataFrame index.\n",
      "  temp_stats = all_batting_stats[all_batting_stats['team'] == team['Team']][all_batting_stats['date'].astype(str).str.startswith(str(team['Year']))][all_batting_stats['gametype'] == 'regular'][batting_features]\n",
      "/var/folders/fh/fzyqqz2s1vzcm3v06kz1h29w0000gp/T/ipykernel_4955/2624505310.py:8: UserWarning: Boolean Series key will be reindexed to match DataFrame index.\n",
      "  temp_stats = all_batting_stats[all_batting_stats['team'] == team['Team']][all_batting_stats['date'].astype(str).str.startswith(str(team['Year']))][all_batting_stats['gametype'] == 'regular'][batting_features]\n"
     ]
    },
    {
     "name": "stdout",
     "output_type": "stream",
     "text": [
      "Index: 132, Year: 2011 Team: PHI, Level of Success: DS\n"
     ]
    },
    {
     "name": "stderr",
     "output_type": "stream",
     "text": [
      "/var/folders/fh/fzyqqz2s1vzcm3v06kz1h29w0000gp/T/ipykernel_4955/2624505310.py:8: UserWarning: Boolean Series key will be reindexed to match DataFrame index.\n",
      "  temp_stats = all_batting_stats[all_batting_stats['team'] == team['Team']][all_batting_stats['date'].astype(str).str.startswith(str(team['Year']))][all_batting_stats['gametype'] == 'regular'][batting_features]\n",
      "/var/folders/fh/fzyqqz2s1vzcm3v06kz1h29w0000gp/T/ipykernel_4955/2624505310.py:8: UserWarning: Boolean Series key will be reindexed to match DataFrame index.\n",
      "  temp_stats = all_batting_stats[all_batting_stats['team'] == team['Team']][all_batting_stats['date'].astype(str).str.startswith(str(team['Year']))][all_batting_stats['gametype'] == 'regular'][batting_features]\n"
     ]
    },
    {
     "name": "stdout",
     "output_type": "stream",
     "text": [
      "Index: 133, Year: 2011 Team: MIL, Level of Success: LS\n"
     ]
    },
    {
     "name": "stderr",
     "output_type": "stream",
     "text": [
      "/var/folders/fh/fzyqqz2s1vzcm3v06kz1h29w0000gp/T/ipykernel_4955/2624505310.py:8: UserWarning: Boolean Series key will be reindexed to match DataFrame index.\n",
      "  temp_stats = all_batting_stats[all_batting_stats['team'] == team['Team']][all_batting_stats['date'].astype(str).str.startswith(str(team['Year']))][all_batting_stats['gametype'] == 'regular'][batting_features]\n",
      "/var/folders/fh/fzyqqz2s1vzcm3v06kz1h29w0000gp/T/ipykernel_4955/2624505310.py:8: UserWarning: Boolean Series key will be reindexed to match DataFrame index.\n",
      "  temp_stats = all_batting_stats[all_batting_stats['team'] == team['Team']][all_batting_stats['date'].astype(str).str.startswith(str(team['Year']))][all_batting_stats['gametype'] == 'regular'][batting_features]\n"
     ]
    },
    {
     "name": "stdout",
     "output_type": "stream",
     "text": [
      "Index: 134, Year: 2011 Team: ARI, Level of Success: DS\n"
     ]
    },
    {
     "name": "stderr",
     "output_type": "stream",
     "text": [
      "/var/folders/fh/fzyqqz2s1vzcm3v06kz1h29w0000gp/T/ipykernel_4955/2624505310.py:8: UserWarning: Boolean Series key will be reindexed to match DataFrame index.\n",
      "  temp_stats = all_batting_stats[all_batting_stats['team'] == team['Team']][all_batting_stats['date'].astype(str).str.startswith(str(team['Year']))][all_batting_stats['gametype'] == 'regular'][batting_features]\n",
      "/var/folders/fh/fzyqqz2s1vzcm3v06kz1h29w0000gp/T/ipykernel_4955/2624505310.py:8: UserWarning: Boolean Series key will be reindexed to match DataFrame index.\n",
      "  temp_stats = all_batting_stats[all_batting_stats['team'] == team['Team']][all_batting_stats['date'].astype(str).str.startswith(str(team['Year']))][all_batting_stats['gametype'] == 'regular'][batting_features]\n"
     ]
    },
    {
     "name": "stdout",
     "output_type": "stream",
     "text": [
      "Index: 135, Year: 2011 Team: SLN, Level of Success: C\n"
     ]
    },
    {
     "name": "stderr",
     "output_type": "stream",
     "text": [
      "/var/folders/fh/fzyqqz2s1vzcm3v06kz1h29w0000gp/T/ipykernel_4955/2624505310.py:8: UserWarning: Boolean Series key will be reindexed to match DataFrame index.\n",
      "  temp_stats = all_batting_stats[all_batting_stats['team'] == team['Team']][all_batting_stats['date'].astype(str).str.startswith(str(team['Year']))][all_batting_stats['gametype'] == 'regular'][batting_features]\n",
      "/var/folders/fh/fzyqqz2s1vzcm3v06kz1h29w0000gp/T/ipykernel_4955/2624505310.py:8: UserWarning: Boolean Series key will be reindexed to match DataFrame index.\n",
      "  temp_stats = all_batting_stats[all_batting_stats['team'] == team['Team']][all_batting_stats['date'].astype(str).str.startswith(str(team['Year']))][all_batting_stats['gametype'] == 'regular'][batting_features]\n"
     ]
    },
    {
     "name": "stdout",
     "output_type": "stream",
     "text": [
      "Index: 136, Year: 2012 Team: NYA, Level of Success: LS\n"
     ]
    },
    {
     "name": "stderr",
     "output_type": "stream",
     "text": [
      "/var/folders/fh/fzyqqz2s1vzcm3v06kz1h29w0000gp/T/ipykernel_4955/2624505310.py:8: UserWarning: Boolean Series key will be reindexed to match DataFrame index.\n",
      "  temp_stats = all_batting_stats[all_batting_stats['team'] == team['Team']][all_batting_stats['date'].astype(str).str.startswith(str(team['Year']))][all_batting_stats['gametype'] == 'regular'][batting_features]\n",
      "/var/folders/fh/fzyqqz2s1vzcm3v06kz1h29w0000gp/T/ipykernel_4955/2624505310.py:8: UserWarning: Boolean Series key will be reindexed to match DataFrame index.\n",
      "  temp_stats = all_batting_stats[all_batting_stats['team'] == team['Team']][all_batting_stats['date'].astype(str).str.startswith(str(team['Year']))][all_batting_stats['gametype'] == 'regular'][batting_features]\n"
     ]
    },
    {
     "name": "stdout",
     "output_type": "stream",
     "text": [
      "Index: 137, Year: 2012 Team: OAK, Level of Success: DS\n"
     ]
    },
    {
     "name": "stderr",
     "output_type": "stream",
     "text": [
      "/var/folders/fh/fzyqqz2s1vzcm3v06kz1h29w0000gp/T/ipykernel_4955/2624505310.py:8: UserWarning: Boolean Series key will be reindexed to match DataFrame index.\n",
      "  temp_stats = all_batting_stats[all_batting_stats['team'] == team['Team']][all_batting_stats['date'].astype(str).str.startswith(str(team['Year']))][all_batting_stats['gametype'] == 'regular'][batting_features]\n",
      "/var/folders/fh/fzyqqz2s1vzcm3v06kz1h29w0000gp/T/ipykernel_4955/2624505310.py:8: UserWarning: Boolean Series key will be reindexed to match DataFrame index.\n",
      "  temp_stats = all_batting_stats[all_batting_stats['team'] == team['Team']][all_batting_stats['date'].astype(str).str.startswith(str(team['Year']))][all_batting_stats['gametype'] == 'regular'][batting_features]\n"
     ]
    },
    {
     "name": "stdout",
     "output_type": "stream",
     "text": [
      "Index: 138, Year: 2012 Team: DET, Level of Success: WS\n"
     ]
    },
    {
     "name": "stderr",
     "output_type": "stream",
     "text": [
      "/var/folders/fh/fzyqqz2s1vzcm3v06kz1h29w0000gp/T/ipykernel_4955/2624505310.py:8: UserWarning: Boolean Series key will be reindexed to match DataFrame index.\n",
      "  temp_stats = all_batting_stats[all_batting_stats['team'] == team['Team']][all_batting_stats['date'].astype(str).str.startswith(str(team['Year']))][all_batting_stats['gametype'] == 'regular'][batting_features]\n",
      "/var/folders/fh/fzyqqz2s1vzcm3v06kz1h29w0000gp/T/ipykernel_4955/2624505310.py:8: UserWarning: Boolean Series key will be reindexed to match DataFrame index.\n",
      "  temp_stats = all_batting_stats[all_batting_stats['team'] == team['Team']][all_batting_stats['date'].astype(str).str.startswith(str(team['Year']))][all_batting_stats['gametype'] == 'regular'][batting_features]\n"
     ]
    },
    {
     "name": "stdout",
     "output_type": "stream",
     "text": [
      "Index: 139, Year: 2012 Team: TEX, Level of Success: WC\n"
     ]
    },
    {
     "name": "stderr",
     "output_type": "stream",
     "text": [
      "/var/folders/fh/fzyqqz2s1vzcm3v06kz1h29w0000gp/T/ipykernel_4955/2624505310.py:8: UserWarning: Boolean Series key will be reindexed to match DataFrame index.\n",
      "  temp_stats = all_batting_stats[all_batting_stats['team'] == team['Team']][all_batting_stats['date'].astype(str).str.startswith(str(team['Year']))][all_batting_stats['gametype'] == 'regular'][batting_features]\n",
      "/var/folders/fh/fzyqqz2s1vzcm3v06kz1h29w0000gp/T/ipykernel_4955/2624505310.py:8: UserWarning: Boolean Series key will be reindexed to match DataFrame index.\n",
      "  temp_stats = all_batting_stats[all_batting_stats['team'] == team['Team']][all_batting_stats['date'].astype(str).str.startswith(str(team['Year']))][all_batting_stats['gametype'] == 'regular'][batting_features]\n"
     ]
    },
    {
     "name": "stdout",
     "output_type": "stream",
     "text": [
      "Index: 140, Year: 2012 Team: BAL, Level of Success: DS\n"
     ]
    },
    {
     "name": "stderr",
     "output_type": "stream",
     "text": [
      "/var/folders/fh/fzyqqz2s1vzcm3v06kz1h29w0000gp/T/ipykernel_4955/2624505310.py:8: UserWarning: Boolean Series key will be reindexed to match DataFrame index.\n",
      "  temp_stats = all_batting_stats[all_batting_stats['team'] == team['Team']][all_batting_stats['date'].astype(str).str.startswith(str(team['Year']))][all_batting_stats['gametype'] == 'regular'][batting_features]\n",
      "/var/folders/fh/fzyqqz2s1vzcm3v06kz1h29w0000gp/T/ipykernel_4955/2624505310.py:8: UserWarning: Boolean Series key will be reindexed to match DataFrame index.\n",
      "  temp_stats = all_batting_stats[all_batting_stats['team'] == team['Team']][all_batting_stats['date'].astype(str).str.startswith(str(team['Year']))][all_batting_stats['gametype'] == 'regular'][batting_features]\n"
     ]
    },
    {
     "name": "stdout",
     "output_type": "stream",
     "text": [
      "Index: 141, Year: 2012 Team: WAS, Level of Success: DS\n"
     ]
    },
    {
     "name": "stderr",
     "output_type": "stream",
     "text": [
      "/var/folders/fh/fzyqqz2s1vzcm3v06kz1h29w0000gp/T/ipykernel_4955/2624505310.py:8: UserWarning: Boolean Series key will be reindexed to match DataFrame index.\n",
      "  temp_stats = all_batting_stats[all_batting_stats['team'] == team['Team']][all_batting_stats['date'].astype(str).str.startswith(str(team['Year']))][all_batting_stats['gametype'] == 'regular'][batting_features]\n",
      "/var/folders/fh/fzyqqz2s1vzcm3v06kz1h29w0000gp/T/ipykernel_4955/2624505310.py:8: UserWarning: Boolean Series key will be reindexed to match DataFrame index.\n",
      "  temp_stats = all_batting_stats[all_batting_stats['team'] == team['Team']][all_batting_stats['date'].astype(str).str.startswith(str(team['Year']))][all_batting_stats['gametype'] == 'regular'][batting_features]\n"
     ]
    },
    {
     "name": "stdout",
     "output_type": "stream",
     "text": [
      "Index: 142, Year: 2012 Team: CIN, Level of Success: DS\n"
     ]
    },
    {
     "name": "stderr",
     "output_type": "stream",
     "text": [
      "/var/folders/fh/fzyqqz2s1vzcm3v06kz1h29w0000gp/T/ipykernel_4955/2624505310.py:8: UserWarning: Boolean Series key will be reindexed to match DataFrame index.\n",
      "  temp_stats = all_batting_stats[all_batting_stats['team'] == team['Team']][all_batting_stats['date'].astype(str).str.startswith(str(team['Year']))][all_batting_stats['gametype'] == 'regular'][batting_features]\n",
      "/var/folders/fh/fzyqqz2s1vzcm3v06kz1h29w0000gp/T/ipykernel_4955/2624505310.py:8: UserWarning: Boolean Series key will be reindexed to match DataFrame index.\n",
      "  temp_stats = all_batting_stats[all_batting_stats['team'] == team['Team']][all_batting_stats['date'].astype(str).str.startswith(str(team['Year']))][all_batting_stats['gametype'] == 'regular'][batting_features]\n"
     ]
    },
    {
     "name": "stdout",
     "output_type": "stream",
     "text": [
      "Index: 143, Year: 2012 Team: SFN, Level of Success: C\n"
     ]
    },
    {
     "name": "stderr",
     "output_type": "stream",
     "text": [
      "/var/folders/fh/fzyqqz2s1vzcm3v06kz1h29w0000gp/T/ipykernel_4955/2624505310.py:8: UserWarning: Boolean Series key will be reindexed to match DataFrame index.\n",
      "  temp_stats = all_batting_stats[all_batting_stats['team'] == team['Team']][all_batting_stats['date'].astype(str).str.startswith(str(team['Year']))][all_batting_stats['gametype'] == 'regular'][batting_features]\n",
      "/var/folders/fh/fzyqqz2s1vzcm3v06kz1h29w0000gp/T/ipykernel_4955/2624505310.py:8: UserWarning: Boolean Series key will be reindexed to match DataFrame index.\n",
      "  temp_stats = all_batting_stats[all_batting_stats['team'] == team['Team']][all_batting_stats['date'].astype(str).str.startswith(str(team['Year']))][all_batting_stats['gametype'] == 'regular'][batting_features]\n"
     ]
    },
    {
     "name": "stdout",
     "output_type": "stream",
     "text": [
      "Index: 144, Year: 2012 Team: ATL, Level of Success: WC\n"
     ]
    },
    {
     "name": "stderr",
     "output_type": "stream",
     "text": [
      "/var/folders/fh/fzyqqz2s1vzcm3v06kz1h29w0000gp/T/ipykernel_4955/2624505310.py:8: UserWarning: Boolean Series key will be reindexed to match DataFrame index.\n",
      "  temp_stats = all_batting_stats[all_batting_stats['team'] == team['Team']][all_batting_stats['date'].astype(str).str.startswith(str(team['Year']))][all_batting_stats['gametype'] == 'regular'][batting_features]\n",
      "/var/folders/fh/fzyqqz2s1vzcm3v06kz1h29w0000gp/T/ipykernel_4955/2624505310.py:8: UserWarning: Boolean Series key will be reindexed to match DataFrame index.\n",
      "  temp_stats = all_batting_stats[all_batting_stats['team'] == team['Team']][all_batting_stats['date'].astype(str).str.startswith(str(team['Year']))][all_batting_stats['gametype'] == 'regular'][batting_features]\n"
     ]
    },
    {
     "name": "stdout",
     "output_type": "stream",
     "text": [
      "Index: 145, Year: 2012 Team: SLN, Level of Success: LS\n"
     ]
    },
    {
     "name": "stderr",
     "output_type": "stream",
     "text": [
      "/var/folders/fh/fzyqqz2s1vzcm3v06kz1h29w0000gp/T/ipykernel_4955/2624505310.py:8: UserWarning: Boolean Series key will be reindexed to match DataFrame index.\n",
      "  temp_stats = all_batting_stats[all_batting_stats['team'] == team['Team']][all_batting_stats['date'].astype(str).str.startswith(str(team['Year']))][all_batting_stats['gametype'] == 'regular'][batting_features]\n",
      "/var/folders/fh/fzyqqz2s1vzcm3v06kz1h29w0000gp/T/ipykernel_4955/2624505310.py:8: UserWarning: Boolean Series key will be reindexed to match DataFrame index.\n",
      "  temp_stats = all_batting_stats[all_batting_stats['team'] == team['Team']][all_batting_stats['date'].astype(str).str.startswith(str(team['Year']))][all_batting_stats['gametype'] == 'regular'][batting_features]\n"
     ]
    },
    {
     "name": "stdout",
     "output_type": "stream",
     "text": [
      "Index: 146, Year: 2013 Team: BOS, Level of Success: C\n"
     ]
    },
    {
     "name": "stderr",
     "output_type": "stream",
     "text": [
      "/var/folders/fh/fzyqqz2s1vzcm3v06kz1h29w0000gp/T/ipykernel_4955/2624505310.py:8: UserWarning: Boolean Series key will be reindexed to match DataFrame index.\n",
      "  temp_stats = all_batting_stats[all_batting_stats['team'] == team['Team']][all_batting_stats['date'].astype(str).str.startswith(str(team['Year']))][all_batting_stats['gametype'] == 'regular'][batting_features]\n",
      "/var/folders/fh/fzyqqz2s1vzcm3v06kz1h29w0000gp/T/ipykernel_4955/2624505310.py:8: UserWarning: Boolean Series key will be reindexed to match DataFrame index.\n",
      "  temp_stats = all_batting_stats[all_batting_stats['team'] == team['Team']][all_batting_stats['date'].astype(str).str.startswith(str(team['Year']))][all_batting_stats['gametype'] == 'regular'][batting_features]\n"
     ]
    },
    {
     "name": "stdout",
     "output_type": "stream",
     "text": [
      "Index: 147, Year: 2013 Team: OAK, Level of Success: DS\n"
     ]
    },
    {
     "name": "stderr",
     "output_type": "stream",
     "text": [
      "/var/folders/fh/fzyqqz2s1vzcm3v06kz1h29w0000gp/T/ipykernel_4955/2624505310.py:8: UserWarning: Boolean Series key will be reindexed to match DataFrame index.\n",
      "  temp_stats = all_batting_stats[all_batting_stats['team'] == team['Team']][all_batting_stats['date'].astype(str).str.startswith(str(team['Year']))][all_batting_stats['gametype'] == 'regular'][batting_features]\n",
      "/var/folders/fh/fzyqqz2s1vzcm3v06kz1h29w0000gp/T/ipykernel_4955/2624505310.py:8: UserWarning: Boolean Series key will be reindexed to match DataFrame index.\n",
      "  temp_stats = all_batting_stats[all_batting_stats['team'] == team['Team']][all_batting_stats['date'].astype(str).str.startswith(str(team['Year']))][all_batting_stats['gametype'] == 'regular'][batting_features]\n"
     ]
    },
    {
     "name": "stdout",
     "output_type": "stream",
     "text": [
      "Index: 148, Year: 2013 Team: DET, Level of Success: LS\n"
     ]
    },
    {
     "name": "stderr",
     "output_type": "stream",
     "text": [
      "/var/folders/fh/fzyqqz2s1vzcm3v06kz1h29w0000gp/T/ipykernel_4955/2624505310.py:8: UserWarning: Boolean Series key will be reindexed to match DataFrame index.\n",
      "  temp_stats = all_batting_stats[all_batting_stats['team'] == team['Team']][all_batting_stats['date'].astype(str).str.startswith(str(team['Year']))][all_batting_stats['gametype'] == 'regular'][batting_features]\n",
      "/var/folders/fh/fzyqqz2s1vzcm3v06kz1h29w0000gp/T/ipykernel_4955/2624505310.py:8: UserWarning: Boolean Series key will be reindexed to match DataFrame index.\n",
      "  temp_stats = all_batting_stats[all_batting_stats['team'] == team['Team']][all_batting_stats['date'].astype(str).str.startswith(str(team['Year']))][all_batting_stats['gametype'] == 'regular'][batting_features]\n"
     ]
    },
    {
     "name": "stdout",
     "output_type": "stream",
     "text": [
      "Index: 149, Year: 2013 Team: CLE, Level of Success: WC\n"
     ]
    },
    {
     "name": "stderr",
     "output_type": "stream",
     "text": [
      "/var/folders/fh/fzyqqz2s1vzcm3v06kz1h29w0000gp/T/ipykernel_4955/2624505310.py:8: UserWarning: Boolean Series key will be reindexed to match DataFrame index.\n",
      "  temp_stats = all_batting_stats[all_batting_stats['team'] == team['Team']][all_batting_stats['date'].astype(str).str.startswith(str(team['Year']))][all_batting_stats['gametype'] == 'regular'][batting_features]\n",
      "/var/folders/fh/fzyqqz2s1vzcm3v06kz1h29w0000gp/T/ipykernel_4955/2624505310.py:8: UserWarning: Boolean Series key will be reindexed to match DataFrame index.\n",
      "  temp_stats = all_batting_stats[all_batting_stats['team'] == team['Team']][all_batting_stats['date'].astype(str).str.startswith(str(team['Year']))][all_batting_stats['gametype'] == 'regular'][batting_features]\n"
     ]
    },
    {
     "name": "stdout",
     "output_type": "stream",
     "text": [
      "Index: 150, Year: 2013 Team: TBA, Level of Success: DS\n"
     ]
    },
    {
     "name": "stderr",
     "output_type": "stream",
     "text": [
      "/var/folders/fh/fzyqqz2s1vzcm3v06kz1h29w0000gp/T/ipykernel_4955/2624505310.py:8: UserWarning: Boolean Series key will be reindexed to match DataFrame index.\n",
      "  temp_stats = all_batting_stats[all_batting_stats['team'] == team['Team']][all_batting_stats['date'].astype(str).str.startswith(str(team['Year']))][all_batting_stats['gametype'] == 'regular'][batting_features]\n",
      "/var/folders/fh/fzyqqz2s1vzcm3v06kz1h29w0000gp/T/ipykernel_4955/2624505310.py:8: UserWarning: Boolean Series key will be reindexed to match DataFrame index.\n",
      "  temp_stats = all_batting_stats[all_batting_stats['team'] == team['Team']][all_batting_stats['date'].astype(str).str.startswith(str(team['Year']))][all_batting_stats['gametype'] == 'regular'][batting_features]\n"
     ]
    },
    {
     "name": "stdout",
     "output_type": "stream",
     "text": [
      "Index: 151, Year: 2013 Team: SLN, Level of Success: WS\n"
     ]
    },
    {
     "name": "stderr",
     "output_type": "stream",
     "text": [
      "/var/folders/fh/fzyqqz2s1vzcm3v06kz1h29w0000gp/T/ipykernel_4955/2624505310.py:8: UserWarning: Boolean Series key will be reindexed to match DataFrame index.\n",
      "  temp_stats = all_batting_stats[all_batting_stats['team'] == team['Team']][all_batting_stats['date'].astype(str).str.startswith(str(team['Year']))][all_batting_stats['gametype'] == 'regular'][batting_features]\n",
      "/var/folders/fh/fzyqqz2s1vzcm3v06kz1h29w0000gp/T/ipykernel_4955/2624505310.py:8: UserWarning: Boolean Series key will be reindexed to match DataFrame index.\n",
      "  temp_stats = all_batting_stats[all_batting_stats['team'] == team['Team']][all_batting_stats['date'].astype(str).str.startswith(str(team['Year']))][all_batting_stats['gametype'] == 'regular'][batting_features]\n"
     ]
    },
    {
     "name": "stdout",
     "output_type": "stream",
     "text": [
      "Index: 152, Year: 2013 Team: ATL, Level of Success: DS\n"
     ]
    },
    {
     "name": "stderr",
     "output_type": "stream",
     "text": [
      "/var/folders/fh/fzyqqz2s1vzcm3v06kz1h29w0000gp/T/ipykernel_4955/2624505310.py:8: UserWarning: Boolean Series key will be reindexed to match DataFrame index.\n",
      "  temp_stats = all_batting_stats[all_batting_stats['team'] == team['Team']][all_batting_stats['date'].astype(str).str.startswith(str(team['Year']))][all_batting_stats['gametype'] == 'regular'][batting_features]\n",
      "/var/folders/fh/fzyqqz2s1vzcm3v06kz1h29w0000gp/T/ipykernel_4955/2624505310.py:8: UserWarning: Boolean Series key will be reindexed to match DataFrame index.\n",
      "  temp_stats = all_batting_stats[all_batting_stats['team'] == team['Team']][all_batting_stats['date'].astype(str).str.startswith(str(team['Year']))][all_batting_stats['gametype'] == 'regular'][batting_features]\n"
     ]
    },
    {
     "name": "stdout",
     "output_type": "stream",
     "text": [
      "Index: 153, Year: 2013 Team: LAN, Level of Success: LS\n"
     ]
    },
    {
     "name": "stderr",
     "output_type": "stream",
     "text": [
      "/var/folders/fh/fzyqqz2s1vzcm3v06kz1h29w0000gp/T/ipykernel_4955/2624505310.py:8: UserWarning: Boolean Series key will be reindexed to match DataFrame index.\n",
      "  temp_stats = all_batting_stats[all_batting_stats['team'] == team['Team']][all_batting_stats['date'].astype(str).str.startswith(str(team['Year']))][all_batting_stats['gametype'] == 'regular'][batting_features]\n",
      "/var/folders/fh/fzyqqz2s1vzcm3v06kz1h29w0000gp/T/ipykernel_4955/2624505310.py:8: UserWarning: Boolean Series key will be reindexed to match DataFrame index.\n",
      "  temp_stats = all_batting_stats[all_batting_stats['team'] == team['Team']][all_batting_stats['date'].astype(str).str.startswith(str(team['Year']))][all_batting_stats['gametype'] == 'regular'][batting_features]\n"
     ]
    },
    {
     "name": "stdout",
     "output_type": "stream",
     "text": [
      "Index: 154, Year: 2013 Team: PIT, Level of Success: DS\n"
     ]
    },
    {
     "name": "stderr",
     "output_type": "stream",
     "text": [
      "/var/folders/fh/fzyqqz2s1vzcm3v06kz1h29w0000gp/T/ipykernel_4955/2624505310.py:8: UserWarning: Boolean Series key will be reindexed to match DataFrame index.\n",
      "  temp_stats = all_batting_stats[all_batting_stats['team'] == team['Team']][all_batting_stats['date'].astype(str).str.startswith(str(team['Year']))][all_batting_stats['gametype'] == 'regular'][batting_features]\n",
      "/var/folders/fh/fzyqqz2s1vzcm3v06kz1h29w0000gp/T/ipykernel_4955/2624505310.py:8: UserWarning: Boolean Series key will be reindexed to match DataFrame index.\n",
      "  temp_stats = all_batting_stats[all_batting_stats['team'] == team['Team']][all_batting_stats['date'].astype(str).str.startswith(str(team['Year']))][all_batting_stats['gametype'] == 'regular'][batting_features]\n"
     ]
    },
    {
     "name": "stdout",
     "output_type": "stream",
     "text": [
      "Index: 155, Year: 2013 Team: CIN, Level of Success: WC\n"
     ]
    },
    {
     "name": "stderr",
     "output_type": "stream",
     "text": [
      "/var/folders/fh/fzyqqz2s1vzcm3v06kz1h29w0000gp/T/ipykernel_4955/2624505310.py:8: UserWarning: Boolean Series key will be reindexed to match DataFrame index.\n",
      "  temp_stats = all_batting_stats[all_batting_stats['team'] == team['Team']][all_batting_stats['date'].astype(str).str.startswith(str(team['Year']))][all_batting_stats['gametype'] == 'regular'][batting_features]\n",
      "/var/folders/fh/fzyqqz2s1vzcm3v06kz1h29w0000gp/T/ipykernel_4955/2624505310.py:8: UserWarning: Boolean Series key will be reindexed to match DataFrame index.\n",
      "  temp_stats = all_batting_stats[all_batting_stats['team'] == team['Team']][all_batting_stats['date'].astype(str).str.startswith(str(team['Year']))][all_batting_stats['gametype'] == 'regular'][batting_features]\n"
     ]
    },
    {
     "name": "stdout",
     "output_type": "stream",
     "text": [
      "Index: 156, Year: 2014 Team: ANA, Level of Success: DS\n"
     ]
    },
    {
     "name": "stderr",
     "output_type": "stream",
     "text": [
      "/var/folders/fh/fzyqqz2s1vzcm3v06kz1h29w0000gp/T/ipykernel_4955/2624505310.py:8: UserWarning: Boolean Series key will be reindexed to match DataFrame index.\n",
      "  temp_stats = all_batting_stats[all_batting_stats['team'] == team['Team']][all_batting_stats['date'].astype(str).str.startswith(str(team['Year']))][all_batting_stats['gametype'] == 'regular'][batting_features]\n",
      "/var/folders/fh/fzyqqz2s1vzcm3v06kz1h29w0000gp/T/ipykernel_4955/2624505310.py:8: UserWarning: Boolean Series key will be reindexed to match DataFrame index.\n",
      "  temp_stats = all_batting_stats[all_batting_stats['team'] == team['Team']][all_batting_stats['date'].astype(str).str.startswith(str(team['Year']))][all_batting_stats['gametype'] == 'regular'][batting_features]\n"
     ]
    },
    {
     "name": "stdout",
     "output_type": "stream",
     "text": [
      "Index: 157, Year: 2014 Team: BAL, Level of Success: LS\n"
     ]
    },
    {
     "name": "stderr",
     "output_type": "stream",
     "text": [
      "/var/folders/fh/fzyqqz2s1vzcm3v06kz1h29w0000gp/T/ipykernel_4955/2624505310.py:8: UserWarning: Boolean Series key will be reindexed to match DataFrame index.\n",
      "  temp_stats = all_batting_stats[all_batting_stats['team'] == team['Team']][all_batting_stats['date'].astype(str).str.startswith(str(team['Year']))][all_batting_stats['gametype'] == 'regular'][batting_features]\n",
      "/var/folders/fh/fzyqqz2s1vzcm3v06kz1h29w0000gp/T/ipykernel_4955/2624505310.py:8: UserWarning: Boolean Series key will be reindexed to match DataFrame index.\n",
      "  temp_stats = all_batting_stats[all_batting_stats['team'] == team['Team']][all_batting_stats['date'].astype(str).str.startswith(str(team['Year']))][all_batting_stats['gametype'] == 'regular'][batting_features]\n"
     ]
    },
    {
     "name": "stdout",
     "output_type": "stream",
     "text": [
      "Index: 158, Year: 2014 Team: DET, Level of Success: DS\n"
     ]
    },
    {
     "name": "stderr",
     "output_type": "stream",
     "text": [
      "/var/folders/fh/fzyqqz2s1vzcm3v06kz1h29w0000gp/T/ipykernel_4955/2624505310.py:8: UserWarning: Boolean Series key will be reindexed to match DataFrame index.\n",
      "  temp_stats = all_batting_stats[all_batting_stats['team'] == team['Team']][all_batting_stats['date'].astype(str).str.startswith(str(team['Year']))][all_batting_stats['gametype'] == 'regular'][batting_features]\n",
      "/var/folders/fh/fzyqqz2s1vzcm3v06kz1h29w0000gp/T/ipykernel_4955/2624505310.py:8: UserWarning: Boolean Series key will be reindexed to match DataFrame index.\n",
      "  temp_stats = all_batting_stats[all_batting_stats['team'] == team['Team']][all_batting_stats['date'].astype(str).str.startswith(str(team['Year']))][all_batting_stats['gametype'] == 'regular'][batting_features]\n"
     ]
    },
    {
     "name": "stdout",
     "output_type": "stream",
     "text": [
      "Index: 159, Year: 2014 Team: KCA, Level of Success: WS\n"
     ]
    },
    {
     "name": "stderr",
     "output_type": "stream",
     "text": [
      "/var/folders/fh/fzyqqz2s1vzcm3v06kz1h29w0000gp/T/ipykernel_4955/2624505310.py:8: UserWarning: Boolean Series key will be reindexed to match DataFrame index.\n",
      "  temp_stats = all_batting_stats[all_batting_stats['team'] == team['Team']][all_batting_stats['date'].astype(str).str.startswith(str(team['Year']))][all_batting_stats['gametype'] == 'regular'][batting_features]\n",
      "/var/folders/fh/fzyqqz2s1vzcm3v06kz1h29w0000gp/T/ipykernel_4955/2624505310.py:8: UserWarning: Boolean Series key will be reindexed to match DataFrame index.\n",
      "  temp_stats = all_batting_stats[all_batting_stats['team'] == team['Team']][all_batting_stats['date'].astype(str).str.startswith(str(team['Year']))][all_batting_stats['gametype'] == 'regular'][batting_features]\n"
     ]
    },
    {
     "name": "stdout",
     "output_type": "stream",
     "text": [
      "Index: 160, Year: 2014 Team: OAK, Level of Success: WC\n"
     ]
    },
    {
     "name": "stderr",
     "output_type": "stream",
     "text": [
      "/var/folders/fh/fzyqqz2s1vzcm3v06kz1h29w0000gp/T/ipykernel_4955/2624505310.py:8: UserWarning: Boolean Series key will be reindexed to match DataFrame index.\n",
      "  temp_stats = all_batting_stats[all_batting_stats['team'] == team['Team']][all_batting_stats['date'].astype(str).str.startswith(str(team['Year']))][all_batting_stats['gametype'] == 'regular'][batting_features]\n",
      "/var/folders/fh/fzyqqz2s1vzcm3v06kz1h29w0000gp/T/ipykernel_4955/2624505310.py:8: UserWarning: Boolean Series key will be reindexed to match DataFrame index.\n",
      "  temp_stats = all_batting_stats[all_batting_stats['team'] == team['Team']][all_batting_stats['date'].astype(str).str.startswith(str(team['Year']))][all_batting_stats['gametype'] == 'regular'][batting_features]\n"
     ]
    },
    {
     "name": "stdout",
     "output_type": "stream",
     "text": [
      "Index: 161, Year: 2014 Team: WAS, Level of Success: DS\n"
     ]
    },
    {
     "name": "stderr",
     "output_type": "stream",
     "text": [
      "/var/folders/fh/fzyqqz2s1vzcm3v06kz1h29w0000gp/T/ipykernel_4955/2624505310.py:8: UserWarning: Boolean Series key will be reindexed to match DataFrame index.\n",
      "  temp_stats = all_batting_stats[all_batting_stats['team'] == team['Team']][all_batting_stats['date'].astype(str).str.startswith(str(team['Year']))][all_batting_stats['gametype'] == 'regular'][batting_features]\n",
      "/var/folders/fh/fzyqqz2s1vzcm3v06kz1h29w0000gp/T/ipykernel_4955/2624505310.py:8: UserWarning: Boolean Series key will be reindexed to match DataFrame index.\n",
      "  temp_stats = all_batting_stats[all_batting_stats['team'] == team['Team']][all_batting_stats['date'].astype(str).str.startswith(str(team['Year']))][all_batting_stats['gametype'] == 'regular'][batting_features]\n"
     ]
    },
    {
     "name": "stdout",
     "output_type": "stream",
     "text": [
      "Index: 162, Year: 2014 Team: LAN, Level of Success: DS\n"
     ]
    },
    {
     "name": "stderr",
     "output_type": "stream",
     "text": [
      "/var/folders/fh/fzyqqz2s1vzcm3v06kz1h29w0000gp/T/ipykernel_4955/2624505310.py:8: UserWarning: Boolean Series key will be reindexed to match DataFrame index.\n",
      "  temp_stats = all_batting_stats[all_batting_stats['team'] == team['Team']][all_batting_stats['date'].astype(str).str.startswith(str(team['Year']))][all_batting_stats['gametype'] == 'regular'][batting_features]\n",
      "/var/folders/fh/fzyqqz2s1vzcm3v06kz1h29w0000gp/T/ipykernel_4955/2624505310.py:8: UserWarning: Boolean Series key will be reindexed to match DataFrame index.\n",
      "  temp_stats = all_batting_stats[all_batting_stats['team'] == team['Team']][all_batting_stats['date'].astype(str).str.startswith(str(team['Year']))][all_batting_stats['gametype'] == 'regular'][batting_features]\n"
     ]
    },
    {
     "name": "stdout",
     "output_type": "stream",
     "text": [
      "Index: 163, Year: 2014 Team: SLN, Level of Success: LS\n"
     ]
    },
    {
     "name": "stderr",
     "output_type": "stream",
     "text": [
      "/var/folders/fh/fzyqqz2s1vzcm3v06kz1h29w0000gp/T/ipykernel_4955/2624505310.py:8: UserWarning: Boolean Series key will be reindexed to match DataFrame index.\n",
      "  temp_stats = all_batting_stats[all_batting_stats['team'] == team['Team']][all_batting_stats['date'].astype(str).str.startswith(str(team['Year']))][all_batting_stats['gametype'] == 'regular'][batting_features]\n",
      "/var/folders/fh/fzyqqz2s1vzcm3v06kz1h29w0000gp/T/ipykernel_4955/2624505310.py:8: UserWarning: Boolean Series key will be reindexed to match DataFrame index.\n",
      "  temp_stats = all_batting_stats[all_batting_stats['team'] == team['Team']][all_batting_stats['date'].astype(str).str.startswith(str(team['Year']))][all_batting_stats['gametype'] == 'regular'][batting_features]\n"
     ]
    },
    {
     "name": "stdout",
     "output_type": "stream",
     "text": [
      "Index: 164, Year: 2014 Team: PIT, Level of Success: WC\n"
     ]
    },
    {
     "name": "stderr",
     "output_type": "stream",
     "text": [
      "/var/folders/fh/fzyqqz2s1vzcm3v06kz1h29w0000gp/T/ipykernel_4955/2624505310.py:8: UserWarning: Boolean Series key will be reindexed to match DataFrame index.\n",
      "  temp_stats = all_batting_stats[all_batting_stats['team'] == team['Team']][all_batting_stats['date'].astype(str).str.startswith(str(team['Year']))][all_batting_stats['gametype'] == 'regular'][batting_features]\n",
      "/var/folders/fh/fzyqqz2s1vzcm3v06kz1h29w0000gp/T/ipykernel_4955/2624505310.py:8: UserWarning: Boolean Series key will be reindexed to match DataFrame index.\n",
      "  temp_stats = all_batting_stats[all_batting_stats['team'] == team['Team']][all_batting_stats['date'].astype(str).str.startswith(str(team['Year']))][all_batting_stats['gametype'] == 'regular'][batting_features]\n"
     ]
    },
    {
     "name": "stdout",
     "output_type": "stream",
     "text": [
      "Index: 165, Year: 2014 Team: SFN, Level of Success: C\n"
     ]
    },
    {
     "name": "stderr",
     "output_type": "stream",
     "text": [
      "/var/folders/fh/fzyqqz2s1vzcm3v06kz1h29w0000gp/T/ipykernel_4955/2624505310.py:8: UserWarning: Boolean Series key will be reindexed to match DataFrame index.\n",
      "  temp_stats = all_batting_stats[all_batting_stats['team'] == team['Team']][all_batting_stats['date'].astype(str).str.startswith(str(team['Year']))][all_batting_stats['gametype'] == 'regular'][batting_features]\n",
      "/var/folders/fh/fzyqqz2s1vzcm3v06kz1h29w0000gp/T/ipykernel_4955/2624505310.py:8: UserWarning: Boolean Series key will be reindexed to match DataFrame index.\n",
      "  temp_stats = all_batting_stats[all_batting_stats['team'] == team['Team']][all_batting_stats['date'].astype(str).str.startswith(str(team['Year']))][all_batting_stats['gametype'] == 'regular'][batting_features]\n"
     ]
    },
    {
     "name": "stdout",
     "output_type": "stream",
     "text": [
      "Index: 166, Year: 2015 Team: KCA, Level of Success: C\n"
     ]
    },
    {
     "name": "stderr",
     "output_type": "stream",
     "text": [
      "/var/folders/fh/fzyqqz2s1vzcm3v06kz1h29w0000gp/T/ipykernel_4955/2624505310.py:8: UserWarning: Boolean Series key will be reindexed to match DataFrame index.\n",
      "  temp_stats = all_batting_stats[all_batting_stats['team'] == team['Team']][all_batting_stats['date'].astype(str).str.startswith(str(team['Year']))][all_batting_stats['gametype'] == 'regular'][batting_features]\n",
      "/var/folders/fh/fzyqqz2s1vzcm3v06kz1h29w0000gp/T/ipykernel_4955/2624505310.py:8: UserWarning: Boolean Series key will be reindexed to match DataFrame index.\n",
      "  temp_stats = all_batting_stats[all_batting_stats['team'] == team['Team']][all_batting_stats['date'].astype(str).str.startswith(str(team['Year']))][all_batting_stats['gametype'] == 'regular'][batting_features]\n"
     ]
    },
    {
     "name": "stdout",
     "output_type": "stream",
     "text": [
      "Index: 167, Year: 2015 Team: TOR, Level of Success: LS\n"
     ]
    },
    {
     "name": "stderr",
     "output_type": "stream",
     "text": [
      "/var/folders/fh/fzyqqz2s1vzcm3v06kz1h29w0000gp/T/ipykernel_4955/2624505310.py:8: UserWarning: Boolean Series key will be reindexed to match DataFrame index.\n",
      "  temp_stats = all_batting_stats[all_batting_stats['team'] == team['Team']][all_batting_stats['date'].astype(str).str.startswith(str(team['Year']))][all_batting_stats['gametype'] == 'regular'][batting_features]\n",
      "/var/folders/fh/fzyqqz2s1vzcm3v06kz1h29w0000gp/T/ipykernel_4955/2624505310.py:8: UserWarning: Boolean Series key will be reindexed to match DataFrame index.\n",
      "  temp_stats = all_batting_stats[all_batting_stats['team'] == team['Team']][all_batting_stats['date'].astype(str).str.startswith(str(team['Year']))][all_batting_stats['gametype'] == 'regular'][batting_features]\n"
     ]
    },
    {
     "name": "stdout",
     "output_type": "stream",
     "text": [
      "Index: 168, Year: 2015 Team: TEX, Level of Success: DS\n"
     ]
    },
    {
     "name": "stderr",
     "output_type": "stream",
     "text": [
      "/var/folders/fh/fzyqqz2s1vzcm3v06kz1h29w0000gp/T/ipykernel_4955/2624505310.py:8: UserWarning: Boolean Series key will be reindexed to match DataFrame index.\n",
      "  temp_stats = all_batting_stats[all_batting_stats['team'] == team['Team']][all_batting_stats['date'].astype(str).str.startswith(str(team['Year']))][all_batting_stats['gametype'] == 'regular'][batting_features]\n",
      "/var/folders/fh/fzyqqz2s1vzcm3v06kz1h29w0000gp/T/ipykernel_4955/2624505310.py:8: UserWarning: Boolean Series key will be reindexed to match DataFrame index.\n",
      "  temp_stats = all_batting_stats[all_batting_stats['team'] == team['Team']][all_batting_stats['date'].astype(str).str.startswith(str(team['Year']))][all_batting_stats['gametype'] == 'regular'][batting_features]\n"
     ]
    },
    {
     "name": "stdout",
     "output_type": "stream",
     "text": [
      "Index: 169, Year: 2015 Team: NYA, Level of Success: WC\n"
     ]
    },
    {
     "name": "stderr",
     "output_type": "stream",
     "text": [
      "/var/folders/fh/fzyqqz2s1vzcm3v06kz1h29w0000gp/T/ipykernel_4955/2624505310.py:8: UserWarning: Boolean Series key will be reindexed to match DataFrame index.\n",
      "  temp_stats = all_batting_stats[all_batting_stats['team'] == team['Team']][all_batting_stats['date'].astype(str).str.startswith(str(team['Year']))][all_batting_stats['gametype'] == 'regular'][batting_features]\n",
      "/var/folders/fh/fzyqqz2s1vzcm3v06kz1h29w0000gp/T/ipykernel_4955/2624505310.py:8: UserWarning: Boolean Series key will be reindexed to match DataFrame index.\n",
      "  temp_stats = all_batting_stats[all_batting_stats['team'] == team['Team']][all_batting_stats['date'].astype(str).str.startswith(str(team['Year']))][all_batting_stats['gametype'] == 'regular'][batting_features]\n"
     ]
    },
    {
     "name": "stdout",
     "output_type": "stream",
     "text": [
      "Index: 170, Year: 2015 Team: HOU, Level of Success: DS\n"
     ]
    },
    {
     "name": "stderr",
     "output_type": "stream",
     "text": [
      "/var/folders/fh/fzyqqz2s1vzcm3v06kz1h29w0000gp/T/ipykernel_4955/2624505310.py:8: UserWarning: Boolean Series key will be reindexed to match DataFrame index.\n",
      "  temp_stats = all_batting_stats[all_batting_stats['team'] == team['Team']][all_batting_stats['date'].astype(str).str.startswith(str(team['Year']))][all_batting_stats['gametype'] == 'regular'][batting_features]\n",
      "/var/folders/fh/fzyqqz2s1vzcm3v06kz1h29w0000gp/T/ipykernel_4955/2624505310.py:8: UserWarning: Boolean Series key will be reindexed to match DataFrame index.\n",
      "  temp_stats = all_batting_stats[all_batting_stats['team'] == team['Team']][all_batting_stats['date'].astype(str).str.startswith(str(team['Year']))][all_batting_stats['gametype'] == 'regular'][batting_features]\n"
     ]
    },
    {
     "name": "stdout",
     "output_type": "stream",
     "text": [
      "Index: 171, Year: 2015 Team: SLN, Level of Success: DS\n"
     ]
    },
    {
     "name": "stderr",
     "output_type": "stream",
     "text": [
      "/var/folders/fh/fzyqqz2s1vzcm3v06kz1h29w0000gp/T/ipykernel_4955/2624505310.py:8: UserWarning: Boolean Series key will be reindexed to match DataFrame index.\n",
      "  temp_stats = all_batting_stats[all_batting_stats['team'] == team['Team']][all_batting_stats['date'].astype(str).str.startswith(str(team['Year']))][all_batting_stats['gametype'] == 'regular'][batting_features]\n",
      "/var/folders/fh/fzyqqz2s1vzcm3v06kz1h29w0000gp/T/ipykernel_4955/2624505310.py:8: UserWarning: Boolean Series key will be reindexed to match DataFrame index.\n",
      "  temp_stats = all_batting_stats[all_batting_stats['team'] == team['Team']][all_batting_stats['date'].astype(str).str.startswith(str(team['Year']))][all_batting_stats['gametype'] == 'regular'][batting_features]\n"
     ]
    },
    {
     "name": "stdout",
     "output_type": "stream",
     "text": [
      "Index: 172, Year: 2015 Team: LAN, Level of Success: DS\n"
     ]
    },
    {
     "name": "stderr",
     "output_type": "stream",
     "text": [
      "/var/folders/fh/fzyqqz2s1vzcm3v06kz1h29w0000gp/T/ipykernel_4955/2624505310.py:8: UserWarning: Boolean Series key will be reindexed to match DataFrame index.\n",
      "  temp_stats = all_batting_stats[all_batting_stats['team'] == team['Team']][all_batting_stats['date'].astype(str).str.startswith(str(team['Year']))][all_batting_stats['gametype'] == 'regular'][batting_features]\n",
      "/var/folders/fh/fzyqqz2s1vzcm3v06kz1h29w0000gp/T/ipykernel_4955/2624505310.py:8: UserWarning: Boolean Series key will be reindexed to match DataFrame index.\n",
      "  temp_stats = all_batting_stats[all_batting_stats['team'] == team['Team']][all_batting_stats['date'].astype(str).str.startswith(str(team['Year']))][all_batting_stats['gametype'] == 'regular'][batting_features]\n"
     ]
    },
    {
     "name": "stdout",
     "output_type": "stream",
     "text": [
      "Index: 173, Year: 2015 Team: NYN, Level of Success: WS\n"
     ]
    },
    {
     "name": "stderr",
     "output_type": "stream",
     "text": [
      "/var/folders/fh/fzyqqz2s1vzcm3v06kz1h29w0000gp/T/ipykernel_4955/2624505310.py:8: UserWarning: Boolean Series key will be reindexed to match DataFrame index.\n",
      "  temp_stats = all_batting_stats[all_batting_stats['team'] == team['Team']][all_batting_stats['date'].astype(str).str.startswith(str(team['Year']))][all_batting_stats['gametype'] == 'regular'][batting_features]\n",
      "/var/folders/fh/fzyqqz2s1vzcm3v06kz1h29w0000gp/T/ipykernel_4955/2624505310.py:8: UserWarning: Boolean Series key will be reindexed to match DataFrame index.\n",
      "  temp_stats = all_batting_stats[all_batting_stats['team'] == team['Team']][all_batting_stats['date'].astype(str).str.startswith(str(team['Year']))][all_batting_stats['gametype'] == 'regular'][batting_features]\n"
     ]
    },
    {
     "name": "stdout",
     "output_type": "stream",
     "text": [
      "Index: 174, Year: 2015 Team: PIT, Level of Success: WC\n"
     ]
    },
    {
     "name": "stderr",
     "output_type": "stream",
     "text": [
      "/var/folders/fh/fzyqqz2s1vzcm3v06kz1h29w0000gp/T/ipykernel_4955/2624505310.py:8: UserWarning: Boolean Series key will be reindexed to match DataFrame index.\n",
      "  temp_stats = all_batting_stats[all_batting_stats['team'] == team['Team']][all_batting_stats['date'].astype(str).str.startswith(str(team['Year']))][all_batting_stats['gametype'] == 'regular'][batting_features]\n",
      "/var/folders/fh/fzyqqz2s1vzcm3v06kz1h29w0000gp/T/ipykernel_4955/2624505310.py:8: UserWarning: Boolean Series key will be reindexed to match DataFrame index.\n",
      "  temp_stats = all_batting_stats[all_batting_stats['team'] == team['Team']][all_batting_stats['date'].astype(str).str.startswith(str(team['Year']))][all_batting_stats['gametype'] == 'regular'][batting_features]\n"
     ]
    },
    {
     "name": "stdout",
     "output_type": "stream",
     "text": [
      "Index: 175, Year: 2015 Team: CHN, Level of Success: LS\n"
     ]
    },
    {
     "name": "stderr",
     "output_type": "stream",
     "text": [
      "/var/folders/fh/fzyqqz2s1vzcm3v06kz1h29w0000gp/T/ipykernel_4955/2624505310.py:8: UserWarning: Boolean Series key will be reindexed to match DataFrame index.\n",
      "  temp_stats = all_batting_stats[all_batting_stats['team'] == team['Team']][all_batting_stats['date'].astype(str).str.startswith(str(team['Year']))][all_batting_stats['gametype'] == 'regular'][batting_features]\n",
      "/var/folders/fh/fzyqqz2s1vzcm3v06kz1h29w0000gp/T/ipykernel_4955/2624505310.py:8: UserWarning: Boolean Series key will be reindexed to match DataFrame index.\n",
      "  temp_stats = all_batting_stats[all_batting_stats['team'] == team['Team']][all_batting_stats['date'].astype(str).str.startswith(str(team['Year']))][all_batting_stats['gametype'] == 'regular'][batting_features]\n"
     ]
    },
    {
     "name": "stdout",
     "output_type": "stream",
     "text": [
      "Index: 176, Year: 2016 Team: TEX, Level of Success: DS\n"
     ]
    },
    {
     "name": "stderr",
     "output_type": "stream",
     "text": [
      "/var/folders/fh/fzyqqz2s1vzcm3v06kz1h29w0000gp/T/ipykernel_4955/2624505310.py:8: UserWarning: Boolean Series key will be reindexed to match DataFrame index.\n",
      "  temp_stats = all_batting_stats[all_batting_stats['team'] == team['Team']][all_batting_stats['date'].astype(str).str.startswith(str(team['Year']))][all_batting_stats['gametype'] == 'regular'][batting_features]\n",
      "/var/folders/fh/fzyqqz2s1vzcm3v06kz1h29w0000gp/T/ipykernel_4955/2624505310.py:8: UserWarning: Boolean Series key will be reindexed to match DataFrame index.\n",
      "  temp_stats = all_batting_stats[all_batting_stats['team'] == team['Team']][all_batting_stats['date'].astype(str).str.startswith(str(team['Year']))][all_batting_stats['gametype'] == 'regular'][batting_features]\n"
     ]
    },
    {
     "name": "stdout",
     "output_type": "stream",
     "text": [
      "Index: 177, Year: 2016 Team: CLE, Level of Success: WS\n"
     ]
    },
    {
     "name": "stderr",
     "output_type": "stream",
     "text": [
      "/var/folders/fh/fzyqqz2s1vzcm3v06kz1h29w0000gp/T/ipykernel_4955/2624505310.py:8: UserWarning: Boolean Series key will be reindexed to match DataFrame index.\n",
      "  temp_stats = all_batting_stats[all_batting_stats['team'] == team['Team']][all_batting_stats['date'].astype(str).str.startswith(str(team['Year']))][all_batting_stats['gametype'] == 'regular'][batting_features]\n",
      "/var/folders/fh/fzyqqz2s1vzcm3v06kz1h29w0000gp/T/ipykernel_4955/2624505310.py:8: UserWarning: Boolean Series key will be reindexed to match DataFrame index.\n",
      "  temp_stats = all_batting_stats[all_batting_stats['team'] == team['Team']][all_batting_stats['date'].astype(str).str.startswith(str(team['Year']))][all_batting_stats['gametype'] == 'regular'][batting_features]\n"
     ]
    },
    {
     "name": "stdout",
     "output_type": "stream",
     "text": [
      "Index: 178, Year: 2016 Team: BOS, Level of Success: DS\n"
     ]
    },
    {
     "name": "stderr",
     "output_type": "stream",
     "text": [
      "/var/folders/fh/fzyqqz2s1vzcm3v06kz1h29w0000gp/T/ipykernel_4955/2624505310.py:8: UserWarning: Boolean Series key will be reindexed to match DataFrame index.\n",
      "  temp_stats = all_batting_stats[all_batting_stats['team'] == team['Team']][all_batting_stats['date'].astype(str).str.startswith(str(team['Year']))][all_batting_stats['gametype'] == 'regular'][batting_features]\n",
      "/var/folders/fh/fzyqqz2s1vzcm3v06kz1h29w0000gp/T/ipykernel_4955/2624505310.py:8: UserWarning: Boolean Series key will be reindexed to match DataFrame index.\n",
      "  temp_stats = all_batting_stats[all_batting_stats['team'] == team['Team']][all_batting_stats['date'].astype(str).str.startswith(str(team['Year']))][all_batting_stats['gametype'] == 'regular'][batting_features]\n"
     ]
    },
    {
     "name": "stdout",
     "output_type": "stream",
     "text": [
      "Index: 179, Year: 2016 Team: TOR, Level of Success: LS\n"
     ]
    },
    {
     "name": "stderr",
     "output_type": "stream",
     "text": [
      "/var/folders/fh/fzyqqz2s1vzcm3v06kz1h29w0000gp/T/ipykernel_4955/2624505310.py:8: UserWarning: Boolean Series key will be reindexed to match DataFrame index.\n",
      "  temp_stats = all_batting_stats[all_batting_stats['team'] == team['Team']][all_batting_stats['date'].astype(str).str.startswith(str(team['Year']))][all_batting_stats['gametype'] == 'regular'][batting_features]\n",
      "/var/folders/fh/fzyqqz2s1vzcm3v06kz1h29w0000gp/T/ipykernel_4955/2624505310.py:8: UserWarning: Boolean Series key will be reindexed to match DataFrame index.\n",
      "  temp_stats = all_batting_stats[all_batting_stats['team'] == team['Team']][all_batting_stats['date'].astype(str).str.startswith(str(team['Year']))][all_batting_stats['gametype'] == 'regular'][batting_features]\n"
     ]
    },
    {
     "name": "stdout",
     "output_type": "stream",
     "text": [
      "Index: 180, Year: 2016 Team: BAL, Level of Success: WC\n"
     ]
    },
    {
     "name": "stderr",
     "output_type": "stream",
     "text": [
      "/var/folders/fh/fzyqqz2s1vzcm3v06kz1h29w0000gp/T/ipykernel_4955/2624505310.py:8: UserWarning: Boolean Series key will be reindexed to match DataFrame index.\n",
      "  temp_stats = all_batting_stats[all_batting_stats['team'] == team['Team']][all_batting_stats['date'].astype(str).str.startswith(str(team['Year']))][all_batting_stats['gametype'] == 'regular'][batting_features]\n",
      "/var/folders/fh/fzyqqz2s1vzcm3v06kz1h29w0000gp/T/ipykernel_4955/2624505310.py:8: UserWarning: Boolean Series key will be reindexed to match DataFrame index.\n",
      "  temp_stats = all_batting_stats[all_batting_stats['team'] == team['Team']][all_batting_stats['date'].astype(str).str.startswith(str(team['Year']))][all_batting_stats['gametype'] == 'regular'][batting_features]\n"
     ]
    },
    {
     "name": "stdout",
     "output_type": "stream",
     "text": [
      "Index: 181, Year: 2016 Team: CHN, Level of Success: C\n"
     ]
    },
    {
     "name": "stderr",
     "output_type": "stream",
     "text": [
      "/var/folders/fh/fzyqqz2s1vzcm3v06kz1h29w0000gp/T/ipykernel_4955/2624505310.py:8: UserWarning: Boolean Series key will be reindexed to match DataFrame index.\n",
      "  temp_stats = all_batting_stats[all_batting_stats['team'] == team['Team']][all_batting_stats['date'].astype(str).str.startswith(str(team['Year']))][all_batting_stats['gametype'] == 'regular'][batting_features]\n",
      "/var/folders/fh/fzyqqz2s1vzcm3v06kz1h29w0000gp/T/ipykernel_4955/2624505310.py:8: UserWarning: Boolean Series key will be reindexed to match DataFrame index.\n",
      "  temp_stats = all_batting_stats[all_batting_stats['team'] == team['Team']][all_batting_stats['date'].astype(str).str.startswith(str(team['Year']))][all_batting_stats['gametype'] == 'regular'][batting_features]\n"
     ]
    },
    {
     "name": "stdout",
     "output_type": "stream",
     "text": [
      "Index: 182, Year: 2016 Team: WAS, Level of Success: DS\n"
     ]
    },
    {
     "name": "stderr",
     "output_type": "stream",
     "text": [
      "/var/folders/fh/fzyqqz2s1vzcm3v06kz1h29w0000gp/T/ipykernel_4955/2624505310.py:8: UserWarning: Boolean Series key will be reindexed to match DataFrame index.\n",
      "  temp_stats = all_batting_stats[all_batting_stats['team'] == team['Team']][all_batting_stats['date'].astype(str).str.startswith(str(team['Year']))][all_batting_stats['gametype'] == 'regular'][batting_features]\n",
      "/var/folders/fh/fzyqqz2s1vzcm3v06kz1h29w0000gp/T/ipykernel_4955/2624505310.py:8: UserWarning: Boolean Series key will be reindexed to match DataFrame index.\n",
      "  temp_stats = all_batting_stats[all_batting_stats['team'] == team['Team']][all_batting_stats['date'].astype(str).str.startswith(str(team['Year']))][all_batting_stats['gametype'] == 'regular'][batting_features]\n"
     ]
    },
    {
     "name": "stdout",
     "output_type": "stream",
     "text": [
      "Index: 183, Year: 2016 Team: LAN, Level of Success: LS\n"
     ]
    },
    {
     "name": "stderr",
     "output_type": "stream",
     "text": [
      "/var/folders/fh/fzyqqz2s1vzcm3v06kz1h29w0000gp/T/ipykernel_4955/2624505310.py:8: UserWarning: Boolean Series key will be reindexed to match DataFrame index.\n",
      "  temp_stats = all_batting_stats[all_batting_stats['team'] == team['Team']][all_batting_stats['date'].astype(str).str.startswith(str(team['Year']))][all_batting_stats['gametype'] == 'regular'][batting_features]\n",
      "/var/folders/fh/fzyqqz2s1vzcm3v06kz1h29w0000gp/T/ipykernel_4955/2624505310.py:8: UserWarning: Boolean Series key will be reindexed to match DataFrame index.\n",
      "  temp_stats = all_batting_stats[all_batting_stats['team'] == team['Team']][all_batting_stats['date'].astype(str).str.startswith(str(team['Year']))][all_batting_stats['gametype'] == 'regular'][batting_features]\n"
     ]
    },
    {
     "name": "stdout",
     "output_type": "stream",
     "text": [
      "Index: 184, Year: 2016 Team: NYN, Level of Success: WC\n"
     ]
    },
    {
     "name": "stderr",
     "output_type": "stream",
     "text": [
      "/var/folders/fh/fzyqqz2s1vzcm3v06kz1h29w0000gp/T/ipykernel_4955/2624505310.py:8: UserWarning: Boolean Series key will be reindexed to match DataFrame index.\n",
      "  temp_stats = all_batting_stats[all_batting_stats['team'] == team['Team']][all_batting_stats['date'].astype(str).str.startswith(str(team['Year']))][all_batting_stats['gametype'] == 'regular'][batting_features]\n",
      "/var/folders/fh/fzyqqz2s1vzcm3v06kz1h29w0000gp/T/ipykernel_4955/2624505310.py:8: UserWarning: Boolean Series key will be reindexed to match DataFrame index.\n",
      "  temp_stats = all_batting_stats[all_batting_stats['team'] == team['Team']][all_batting_stats['date'].astype(str).str.startswith(str(team['Year']))][all_batting_stats['gametype'] == 'regular'][batting_features]\n"
     ]
    },
    {
     "name": "stdout",
     "output_type": "stream",
     "text": [
      "Index: 185, Year: 2016 Team: SFN, Level of Success: DS\n"
     ]
    },
    {
     "name": "stderr",
     "output_type": "stream",
     "text": [
      "/var/folders/fh/fzyqqz2s1vzcm3v06kz1h29w0000gp/T/ipykernel_4955/2624505310.py:8: UserWarning: Boolean Series key will be reindexed to match DataFrame index.\n",
      "  temp_stats = all_batting_stats[all_batting_stats['team'] == team['Team']][all_batting_stats['date'].astype(str).str.startswith(str(team['Year']))][all_batting_stats['gametype'] == 'regular'][batting_features]\n",
      "/var/folders/fh/fzyqqz2s1vzcm3v06kz1h29w0000gp/T/ipykernel_4955/2624505310.py:8: UserWarning: Boolean Series key will be reindexed to match DataFrame index.\n",
      "  temp_stats = all_batting_stats[all_batting_stats['team'] == team['Team']][all_batting_stats['date'].astype(str).str.startswith(str(team['Year']))][all_batting_stats['gametype'] == 'regular'][batting_features]\n"
     ]
    },
    {
     "name": "stdout",
     "output_type": "stream",
     "text": [
      "Index: 186, Year: 2017 Team: CLE, Level of Success: DS\n"
     ]
    },
    {
     "name": "stderr",
     "output_type": "stream",
     "text": [
      "/var/folders/fh/fzyqqz2s1vzcm3v06kz1h29w0000gp/T/ipykernel_4955/2624505310.py:8: UserWarning: Boolean Series key will be reindexed to match DataFrame index.\n",
      "  temp_stats = all_batting_stats[all_batting_stats['team'] == team['Team']][all_batting_stats['date'].astype(str).str.startswith(str(team['Year']))][all_batting_stats['gametype'] == 'regular'][batting_features]\n",
      "/var/folders/fh/fzyqqz2s1vzcm3v06kz1h29w0000gp/T/ipykernel_4955/2624505310.py:8: UserWarning: Boolean Series key will be reindexed to match DataFrame index.\n",
      "  temp_stats = all_batting_stats[all_batting_stats['team'] == team['Team']][all_batting_stats['date'].astype(str).str.startswith(str(team['Year']))][all_batting_stats['gametype'] == 'regular'][batting_features]\n"
     ]
    },
    {
     "name": "stdout",
     "output_type": "stream",
     "text": [
      "Index: 187, Year: 2017 Team: HOU, Level of Success: C\n"
     ]
    },
    {
     "name": "stderr",
     "output_type": "stream",
     "text": [
      "/var/folders/fh/fzyqqz2s1vzcm3v06kz1h29w0000gp/T/ipykernel_4955/2624505310.py:8: UserWarning: Boolean Series key will be reindexed to match DataFrame index.\n",
      "  temp_stats = all_batting_stats[all_batting_stats['team'] == team['Team']][all_batting_stats['date'].astype(str).str.startswith(str(team['Year']))][all_batting_stats['gametype'] == 'regular'][batting_features]\n",
      "/var/folders/fh/fzyqqz2s1vzcm3v06kz1h29w0000gp/T/ipykernel_4955/2624505310.py:8: UserWarning: Boolean Series key will be reindexed to match DataFrame index.\n",
      "  temp_stats = all_batting_stats[all_batting_stats['team'] == team['Team']][all_batting_stats['date'].astype(str).str.startswith(str(team['Year']))][all_batting_stats['gametype'] == 'regular'][batting_features]\n"
     ]
    },
    {
     "name": "stdout",
     "output_type": "stream",
     "text": [
      "Index: 188, Year: 2017 Team: BOS, Level of Success: DS\n"
     ]
    },
    {
     "name": "stderr",
     "output_type": "stream",
     "text": [
      "/var/folders/fh/fzyqqz2s1vzcm3v06kz1h29w0000gp/T/ipykernel_4955/2624505310.py:8: UserWarning: Boolean Series key will be reindexed to match DataFrame index.\n",
      "  temp_stats = all_batting_stats[all_batting_stats['team'] == team['Team']][all_batting_stats['date'].astype(str).str.startswith(str(team['Year']))][all_batting_stats['gametype'] == 'regular'][batting_features]\n",
      "/var/folders/fh/fzyqqz2s1vzcm3v06kz1h29w0000gp/T/ipykernel_4955/2624505310.py:8: UserWarning: Boolean Series key will be reindexed to match DataFrame index.\n",
      "  temp_stats = all_batting_stats[all_batting_stats['team'] == team['Team']][all_batting_stats['date'].astype(str).str.startswith(str(team['Year']))][all_batting_stats['gametype'] == 'regular'][batting_features]\n"
     ]
    },
    {
     "name": "stdout",
     "output_type": "stream",
     "text": [
      "Index: 189, Year: 2017 Team: NYA, Level of Success: LS\n"
     ]
    },
    {
     "name": "stderr",
     "output_type": "stream",
     "text": [
      "/var/folders/fh/fzyqqz2s1vzcm3v06kz1h29w0000gp/T/ipykernel_4955/2624505310.py:8: UserWarning: Boolean Series key will be reindexed to match DataFrame index.\n",
      "  temp_stats = all_batting_stats[all_batting_stats['team'] == team['Team']][all_batting_stats['date'].astype(str).str.startswith(str(team['Year']))][all_batting_stats['gametype'] == 'regular'][batting_features]\n",
      "/var/folders/fh/fzyqqz2s1vzcm3v06kz1h29w0000gp/T/ipykernel_4955/2624505310.py:8: UserWarning: Boolean Series key will be reindexed to match DataFrame index.\n",
      "  temp_stats = all_batting_stats[all_batting_stats['team'] == team['Team']][all_batting_stats['date'].astype(str).str.startswith(str(team['Year']))][all_batting_stats['gametype'] == 'regular'][batting_features]\n"
     ]
    },
    {
     "name": "stdout",
     "output_type": "stream",
     "text": [
      "Index: 190, Year: 2017 Team: MIN, Level of Success: WC\n"
     ]
    },
    {
     "name": "stderr",
     "output_type": "stream",
     "text": [
      "/var/folders/fh/fzyqqz2s1vzcm3v06kz1h29w0000gp/T/ipykernel_4955/2624505310.py:8: UserWarning: Boolean Series key will be reindexed to match DataFrame index.\n",
      "  temp_stats = all_batting_stats[all_batting_stats['team'] == team['Team']][all_batting_stats['date'].astype(str).str.startswith(str(team['Year']))][all_batting_stats['gametype'] == 'regular'][batting_features]\n",
      "/var/folders/fh/fzyqqz2s1vzcm3v06kz1h29w0000gp/T/ipykernel_4955/2624505310.py:8: UserWarning: Boolean Series key will be reindexed to match DataFrame index.\n",
      "  temp_stats = all_batting_stats[all_batting_stats['team'] == team['Team']][all_batting_stats['date'].astype(str).str.startswith(str(team['Year']))][all_batting_stats['gametype'] == 'regular'][batting_features]\n"
     ]
    },
    {
     "name": "stdout",
     "output_type": "stream",
     "text": [
      "Index: 191, Year: 2017 Team: LAN, Level of Success: WS\n"
     ]
    },
    {
     "name": "stderr",
     "output_type": "stream",
     "text": [
      "/var/folders/fh/fzyqqz2s1vzcm3v06kz1h29w0000gp/T/ipykernel_4955/2624505310.py:8: UserWarning: Boolean Series key will be reindexed to match DataFrame index.\n",
      "  temp_stats = all_batting_stats[all_batting_stats['team'] == team['Team']][all_batting_stats['date'].astype(str).str.startswith(str(team['Year']))][all_batting_stats['gametype'] == 'regular'][batting_features]\n",
      "/var/folders/fh/fzyqqz2s1vzcm3v06kz1h29w0000gp/T/ipykernel_4955/2624505310.py:8: UserWarning: Boolean Series key will be reindexed to match DataFrame index.\n",
      "  temp_stats = all_batting_stats[all_batting_stats['team'] == team['Team']][all_batting_stats['date'].astype(str).str.startswith(str(team['Year']))][all_batting_stats['gametype'] == 'regular'][batting_features]\n"
     ]
    },
    {
     "name": "stdout",
     "output_type": "stream",
     "text": [
      "Index: 192, Year: 2017 Team: WAS, Level of Success: DS\n"
     ]
    },
    {
     "name": "stderr",
     "output_type": "stream",
     "text": [
      "/var/folders/fh/fzyqqz2s1vzcm3v06kz1h29w0000gp/T/ipykernel_4955/2624505310.py:8: UserWarning: Boolean Series key will be reindexed to match DataFrame index.\n",
      "  temp_stats = all_batting_stats[all_batting_stats['team'] == team['Team']][all_batting_stats['date'].astype(str).str.startswith(str(team['Year']))][all_batting_stats['gametype'] == 'regular'][batting_features]\n",
      "/var/folders/fh/fzyqqz2s1vzcm3v06kz1h29w0000gp/T/ipykernel_4955/2624505310.py:8: UserWarning: Boolean Series key will be reindexed to match DataFrame index.\n",
      "  temp_stats = all_batting_stats[all_batting_stats['team'] == team['Team']][all_batting_stats['date'].astype(str).str.startswith(str(team['Year']))][all_batting_stats['gametype'] == 'regular'][batting_features]\n"
     ]
    },
    {
     "name": "stdout",
     "output_type": "stream",
     "text": [
      "Index: 193, Year: 2017 Team: CHN, Level of Success: LS\n"
     ]
    },
    {
     "name": "stderr",
     "output_type": "stream",
     "text": [
      "/var/folders/fh/fzyqqz2s1vzcm3v06kz1h29w0000gp/T/ipykernel_4955/2624505310.py:8: UserWarning: Boolean Series key will be reindexed to match DataFrame index.\n",
      "  temp_stats = all_batting_stats[all_batting_stats['team'] == team['Team']][all_batting_stats['date'].astype(str).str.startswith(str(team['Year']))][all_batting_stats['gametype'] == 'regular'][batting_features]\n",
      "/var/folders/fh/fzyqqz2s1vzcm3v06kz1h29w0000gp/T/ipykernel_4955/2624505310.py:8: UserWarning: Boolean Series key will be reindexed to match DataFrame index.\n",
      "  temp_stats = all_batting_stats[all_batting_stats['team'] == team['Team']][all_batting_stats['date'].astype(str).str.startswith(str(team['Year']))][all_batting_stats['gametype'] == 'regular'][batting_features]\n"
     ]
    },
    {
     "name": "stdout",
     "output_type": "stream",
     "text": [
      "Index: 194, Year: 2017 Team: ARI, Level of Success: DS\n"
     ]
    },
    {
     "name": "stderr",
     "output_type": "stream",
     "text": [
      "/var/folders/fh/fzyqqz2s1vzcm3v06kz1h29w0000gp/T/ipykernel_4955/2624505310.py:8: UserWarning: Boolean Series key will be reindexed to match DataFrame index.\n",
      "  temp_stats = all_batting_stats[all_batting_stats['team'] == team['Team']][all_batting_stats['date'].astype(str).str.startswith(str(team['Year']))][all_batting_stats['gametype'] == 'regular'][batting_features]\n",
      "/var/folders/fh/fzyqqz2s1vzcm3v06kz1h29w0000gp/T/ipykernel_4955/2624505310.py:8: UserWarning: Boolean Series key will be reindexed to match DataFrame index.\n",
      "  temp_stats = all_batting_stats[all_batting_stats['team'] == team['Team']][all_batting_stats['date'].astype(str).str.startswith(str(team['Year']))][all_batting_stats['gametype'] == 'regular'][batting_features]\n"
     ]
    },
    {
     "name": "stdout",
     "output_type": "stream",
     "text": [
      "Index: 195, Year: 2017 Team: COL, Level of Success: WC\n"
     ]
    },
    {
     "name": "stderr",
     "output_type": "stream",
     "text": [
      "/var/folders/fh/fzyqqz2s1vzcm3v06kz1h29w0000gp/T/ipykernel_4955/2624505310.py:8: UserWarning: Boolean Series key will be reindexed to match DataFrame index.\n",
      "  temp_stats = all_batting_stats[all_batting_stats['team'] == team['Team']][all_batting_stats['date'].astype(str).str.startswith(str(team['Year']))][all_batting_stats['gametype'] == 'regular'][batting_features]\n",
      "/var/folders/fh/fzyqqz2s1vzcm3v06kz1h29w0000gp/T/ipykernel_4955/2624505310.py:8: UserWarning: Boolean Series key will be reindexed to match DataFrame index.\n",
      "  temp_stats = all_batting_stats[all_batting_stats['team'] == team['Team']][all_batting_stats['date'].astype(str).str.startswith(str(team['Year']))][all_batting_stats['gametype'] == 'regular'][batting_features]\n"
     ]
    },
    {
     "name": "stdout",
     "output_type": "stream",
     "text": [
      "Index: 196, Year: 2018 Team: BOS, Level of Success: C\n"
     ]
    },
    {
     "name": "stderr",
     "output_type": "stream",
     "text": [
      "/var/folders/fh/fzyqqz2s1vzcm3v06kz1h29w0000gp/T/ipykernel_4955/2624505310.py:8: UserWarning: Boolean Series key will be reindexed to match DataFrame index.\n",
      "  temp_stats = all_batting_stats[all_batting_stats['team'] == team['Team']][all_batting_stats['date'].astype(str).str.startswith(str(team['Year']))][all_batting_stats['gametype'] == 'regular'][batting_features]\n",
      "/var/folders/fh/fzyqqz2s1vzcm3v06kz1h29w0000gp/T/ipykernel_4955/2624505310.py:8: UserWarning: Boolean Series key will be reindexed to match DataFrame index.\n",
      "  temp_stats = all_batting_stats[all_batting_stats['team'] == team['Team']][all_batting_stats['date'].astype(str).str.startswith(str(team['Year']))][all_batting_stats['gametype'] == 'regular'][batting_features]\n"
     ]
    },
    {
     "name": "stdout",
     "output_type": "stream",
     "text": [
      "Index: 197, Year: 2018 Team: HOU, Level of Success: LS\n"
     ]
    },
    {
     "name": "stderr",
     "output_type": "stream",
     "text": [
      "/var/folders/fh/fzyqqz2s1vzcm3v06kz1h29w0000gp/T/ipykernel_4955/2624505310.py:8: UserWarning: Boolean Series key will be reindexed to match DataFrame index.\n",
      "  temp_stats = all_batting_stats[all_batting_stats['team'] == team['Team']][all_batting_stats['date'].astype(str).str.startswith(str(team['Year']))][all_batting_stats['gametype'] == 'regular'][batting_features]\n",
      "/var/folders/fh/fzyqqz2s1vzcm3v06kz1h29w0000gp/T/ipykernel_4955/2624505310.py:8: UserWarning: Boolean Series key will be reindexed to match DataFrame index.\n",
      "  temp_stats = all_batting_stats[all_batting_stats['team'] == team['Team']][all_batting_stats['date'].astype(str).str.startswith(str(team['Year']))][all_batting_stats['gametype'] == 'regular'][batting_features]\n"
     ]
    },
    {
     "name": "stdout",
     "output_type": "stream",
     "text": [
      "Index: 198, Year: 2018 Team: CLE, Level of Success: DS\n"
     ]
    },
    {
     "name": "stderr",
     "output_type": "stream",
     "text": [
      "/var/folders/fh/fzyqqz2s1vzcm3v06kz1h29w0000gp/T/ipykernel_4955/2624505310.py:8: UserWarning: Boolean Series key will be reindexed to match DataFrame index.\n",
      "  temp_stats = all_batting_stats[all_batting_stats['team'] == team['Team']][all_batting_stats['date'].astype(str).str.startswith(str(team['Year']))][all_batting_stats['gametype'] == 'regular'][batting_features]\n",
      "/var/folders/fh/fzyqqz2s1vzcm3v06kz1h29w0000gp/T/ipykernel_4955/2624505310.py:8: UserWarning: Boolean Series key will be reindexed to match DataFrame index.\n",
      "  temp_stats = all_batting_stats[all_batting_stats['team'] == team['Team']][all_batting_stats['date'].astype(str).str.startswith(str(team['Year']))][all_batting_stats['gametype'] == 'regular'][batting_features]\n"
     ]
    },
    {
     "name": "stdout",
     "output_type": "stream",
     "text": [
      "Index: 199, Year: 2018 Team: NYA, Level of Success: DS\n"
     ]
    },
    {
     "name": "stderr",
     "output_type": "stream",
     "text": [
      "/var/folders/fh/fzyqqz2s1vzcm3v06kz1h29w0000gp/T/ipykernel_4955/2624505310.py:8: UserWarning: Boolean Series key will be reindexed to match DataFrame index.\n",
      "  temp_stats = all_batting_stats[all_batting_stats['team'] == team['Team']][all_batting_stats['date'].astype(str).str.startswith(str(team['Year']))][all_batting_stats['gametype'] == 'regular'][batting_features]\n",
      "/var/folders/fh/fzyqqz2s1vzcm3v06kz1h29w0000gp/T/ipykernel_4955/2624505310.py:8: UserWarning: Boolean Series key will be reindexed to match DataFrame index.\n",
      "  temp_stats = all_batting_stats[all_batting_stats['team'] == team['Team']][all_batting_stats['date'].astype(str).str.startswith(str(team['Year']))][all_batting_stats['gametype'] == 'regular'][batting_features]\n"
     ]
    },
    {
     "name": "stdout",
     "output_type": "stream",
     "text": [
      "Index: 200, Year: 2018 Team: OAK, Level of Success: WC\n"
     ]
    },
    {
     "name": "stderr",
     "output_type": "stream",
     "text": [
      "/var/folders/fh/fzyqqz2s1vzcm3v06kz1h29w0000gp/T/ipykernel_4955/2624505310.py:8: UserWarning: Boolean Series key will be reindexed to match DataFrame index.\n",
      "  temp_stats = all_batting_stats[all_batting_stats['team'] == team['Team']][all_batting_stats['date'].astype(str).str.startswith(str(team['Year']))][all_batting_stats['gametype'] == 'regular'][batting_features]\n",
      "/var/folders/fh/fzyqqz2s1vzcm3v06kz1h29w0000gp/T/ipykernel_4955/2624505310.py:8: UserWarning: Boolean Series key will be reindexed to match DataFrame index.\n",
      "  temp_stats = all_batting_stats[all_batting_stats['team'] == team['Team']][all_batting_stats['date'].astype(str).str.startswith(str(team['Year']))][all_batting_stats['gametype'] == 'regular'][batting_features]\n"
     ]
    },
    {
     "name": "stdout",
     "output_type": "stream",
     "text": [
      "Index: 201, Year: 2018 Team: MIL, Level of Success: LS\n"
     ]
    },
    {
     "name": "stderr",
     "output_type": "stream",
     "text": [
      "/var/folders/fh/fzyqqz2s1vzcm3v06kz1h29w0000gp/T/ipykernel_4955/2624505310.py:8: UserWarning: Boolean Series key will be reindexed to match DataFrame index.\n",
      "  temp_stats = all_batting_stats[all_batting_stats['team'] == team['Team']][all_batting_stats['date'].astype(str).str.startswith(str(team['Year']))][all_batting_stats['gametype'] == 'regular'][batting_features]\n",
      "/var/folders/fh/fzyqqz2s1vzcm3v06kz1h29w0000gp/T/ipykernel_4955/2624505310.py:8: UserWarning: Boolean Series key will be reindexed to match DataFrame index.\n",
      "  temp_stats = all_batting_stats[all_batting_stats['team'] == team['Team']][all_batting_stats['date'].astype(str).str.startswith(str(team['Year']))][all_batting_stats['gametype'] == 'regular'][batting_features]\n"
     ]
    },
    {
     "name": "stdout",
     "output_type": "stream",
     "text": [
      "Index: 202, Year: 2018 Team: LAN, Level of Success: WS\n"
     ]
    },
    {
     "name": "stderr",
     "output_type": "stream",
     "text": [
      "/var/folders/fh/fzyqqz2s1vzcm3v06kz1h29w0000gp/T/ipykernel_4955/2624505310.py:8: UserWarning: Boolean Series key will be reindexed to match DataFrame index.\n",
      "  temp_stats = all_batting_stats[all_batting_stats['team'] == team['Team']][all_batting_stats['date'].astype(str).str.startswith(str(team['Year']))][all_batting_stats['gametype'] == 'regular'][batting_features]\n",
      "/var/folders/fh/fzyqqz2s1vzcm3v06kz1h29w0000gp/T/ipykernel_4955/2624505310.py:8: UserWarning: Boolean Series key will be reindexed to match DataFrame index.\n",
      "  temp_stats = all_batting_stats[all_batting_stats['team'] == team['Team']][all_batting_stats['date'].astype(str).str.startswith(str(team['Year']))][all_batting_stats['gametype'] == 'regular'][batting_features]\n"
     ]
    },
    {
     "name": "stdout",
     "output_type": "stream",
     "text": [
      "Index: 203, Year: 2018 Team: ATL, Level of Success: DS\n"
     ]
    },
    {
     "name": "stderr",
     "output_type": "stream",
     "text": [
      "/var/folders/fh/fzyqqz2s1vzcm3v06kz1h29w0000gp/T/ipykernel_4955/2624505310.py:8: UserWarning: Boolean Series key will be reindexed to match DataFrame index.\n",
      "  temp_stats = all_batting_stats[all_batting_stats['team'] == team['Team']][all_batting_stats['date'].astype(str).str.startswith(str(team['Year']))][all_batting_stats['gametype'] == 'regular'][batting_features]\n",
      "/var/folders/fh/fzyqqz2s1vzcm3v06kz1h29w0000gp/T/ipykernel_4955/2624505310.py:8: UserWarning: Boolean Series key will be reindexed to match DataFrame index.\n",
      "  temp_stats = all_batting_stats[all_batting_stats['team'] == team['Team']][all_batting_stats['date'].astype(str).str.startswith(str(team['Year']))][all_batting_stats['gametype'] == 'regular'][batting_features]\n"
     ]
    },
    {
     "name": "stdout",
     "output_type": "stream",
     "text": [
      "Index: 204, Year: 2018 Team: CHN, Level of Success: WC\n"
     ]
    },
    {
     "name": "stderr",
     "output_type": "stream",
     "text": [
      "/var/folders/fh/fzyqqz2s1vzcm3v06kz1h29w0000gp/T/ipykernel_4955/2624505310.py:8: UserWarning: Boolean Series key will be reindexed to match DataFrame index.\n",
      "  temp_stats = all_batting_stats[all_batting_stats['team'] == team['Team']][all_batting_stats['date'].astype(str).str.startswith(str(team['Year']))][all_batting_stats['gametype'] == 'regular'][batting_features]\n",
      "/var/folders/fh/fzyqqz2s1vzcm3v06kz1h29w0000gp/T/ipykernel_4955/2624505310.py:8: UserWarning: Boolean Series key will be reindexed to match DataFrame index.\n",
      "  temp_stats = all_batting_stats[all_batting_stats['team'] == team['Team']][all_batting_stats['date'].astype(str).str.startswith(str(team['Year']))][all_batting_stats['gametype'] == 'regular'][batting_features]\n"
     ]
    },
    {
     "name": "stdout",
     "output_type": "stream",
     "text": [
      "Index: 205, Year: 2018 Team: COL, Level of Success: DS\n"
     ]
    },
    {
     "name": "stderr",
     "output_type": "stream",
     "text": [
      "/var/folders/fh/fzyqqz2s1vzcm3v06kz1h29w0000gp/T/ipykernel_4955/2624505310.py:8: UserWarning: Boolean Series key will be reindexed to match DataFrame index.\n",
      "  temp_stats = all_batting_stats[all_batting_stats['team'] == team['Team']][all_batting_stats['date'].astype(str).str.startswith(str(team['Year']))][all_batting_stats['gametype'] == 'regular'][batting_features]\n",
      "/var/folders/fh/fzyqqz2s1vzcm3v06kz1h29w0000gp/T/ipykernel_4955/2624505310.py:8: UserWarning: Boolean Series key will be reindexed to match DataFrame index.\n",
      "  temp_stats = all_batting_stats[all_batting_stats['team'] == team['Team']][all_batting_stats['date'].astype(str).str.startswith(str(team['Year']))][all_batting_stats['gametype'] == 'regular'][batting_features]\n"
     ]
    },
    {
     "name": "stdout",
     "output_type": "stream",
     "text": [
      "Index: 206, Year: 2019 Team: HOU, Level of Success: WS\n"
     ]
    },
    {
     "name": "stderr",
     "output_type": "stream",
     "text": [
      "/var/folders/fh/fzyqqz2s1vzcm3v06kz1h29w0000gp/T/ipykernel_4955/2624505310.py:8: UserWarning: Boolean Series key will be reindexed to match DataFrame index.\n",
      "  temp_stats = all_batting_stats[all_batting_stats['team'] == team['Team']][all_batting_stats['date'].astype(str).str.startswith(str(team['Year']))][all_batting_stats['gametype'] == 'regular'][batting_features]\n",
      "/var/folders/fh/fzyqqz2s1vzcm3v06kz1h29w0000gp/T/ipykernel_4955/2624505310.py:8: UserWarning: Boolean Series key will be reindexed to match DataFrame index.\n",
      "  temp_stats = all_batting_stats[all_batting_stats['team'] == team['Team']][all_batting_stats['date'].astype(str).str.startswith(str(team['Year']))][all_batting_stats['gametype'] == 'regular'][batting_features]\n"
     ]
    },
    {
     "name": "stdout",
     "output_type": "stream",
     "text": [
      "Index: 207, Year: 2019 Team: NYA, Level of Success: LS\n"
     ]
    },
    {
     "name": "stderr",
     "output_type": "stream",
     "text": [
      "/var/folders/fh/fzyqqz2s1vzcm3v06kz1h29w0000gp/T/ipykernel_4955/2624505310.py:8: UserWarning: Boolean Series key will be reindexed to match DataFrame index.\n",
      "  temp_stats = all_batting_stats[all_batting_stats['team'] == team['Team']][all_batting_stats['date'].astype(str).str.startswith(str(team['Year']))][all_batting_stats['gametype'] == 'regular'][batting_features]\n",
      "/var/folders/fh/fzyqqz2s1vzcm3v06kz1h29w0000gp/T/ipykernel_4955/2624505310.py:8: UserWarning: Boolean Series key will be reindexed to match DataFrame index.\n",
      "  temp_stats = all_batting_stats[all_batting_stats['team'] == team['Team']][all_batting_stats['date'].astype(str).str.startswith(str(team['Year']))][all_batting_stats['gametype'] == 'regular'][batting_features]\n"
     ]
    },
    {
     "name": "stdout",
     "output_type": "stream",
     "text": [
      "Index: 208, Year: 2019 Team: MIN, Level of Success: DS\n"
     ]
    },
    {
     "name": "stderr",
     "output_type": "stream",
     "text": [
      "/var/folders/fh/fzyqqz2s1vzcm3v06kz1h29w0000gp/T/ipykernel_4955/2624505310.py:8: UserWarning: Boolean Series key will be reindexed to match DataFrame index.\n",
      "  temp_stats = all_batting_stats[all_batting_stats['team'] == team['Team']][all_batting_stats['date'].astype(str).str.startswith(str(team['Year']))][all_batting_stats['gametype'] == 'regular'][batting_features]\n",
      "/var/folders/fh/fzyqqz2s1vzcm3v06kz1h29w0000gp/T/ipykernel_4955/2624505310.py:8: UserWarning: Boolean Series key will be reindexed to match DataFrame index.\n",
      "  temp_stats = all_batting_stats[all_batting_stats['team'] == team['Team']][all_batting_stats['date'].astype(str).str.startswith(str(team['Year']))][all_batting_stats['gametype'] == 'regular'][batting_features]\n"
     ]
    },
    {
     "name": "stdout",
     "output_type": "stream",
     "text": [
      "Index: 209, Year: 2019 Team: OAK, Level of Success: WC\n"
     ]
    },
    {
     "name": "stderr",
     "output_type": "stream",
     "text": [
      "/var/folders/fh/fzyqqz2s1vzcm3v06kz1h29w0000gp/T/ipykernel_4955/2624505310.py:8: UserWarning: Boolean Series key will be reindexed to match DataFrame index.\n",
      "  temp_stats = all_batting_stats[all_batting_stats['team'] == team['Team']][all_batting_stats['date'].astype(str).str.startswith(str(team['Year']))][all_batting_stats['gametype'] == 'regular'][batting_features]\n",
      "/var/folders/fh/fzyqqz2s1vzcm3v06kz1h29w0000gp/T/ipykernel_4955/2624505310.py:8: UserWarning: Boolean Series key will be reindexed to match DataFrame index.\n",
      "  temp_stats = all_batting_stats[all_batting_stats['team'] == team['Team']][all_batting_stats['date'].astype(str).str.startswith(str(team['Year']))][all_batting_stats['gametype'] == 'regular'][batting_features]\n"
     ]
    },
    {
     "name": "stdout",
     "output_type": "stream",
     "text": [
      "Index: 210, Year: 2019 Team: TBA, Level of Success: DS\n"
     ]
    },
    {
     "name": "stderr",
     "output_type": "stream",
     "text": [
      "/var/folders/fh/fzyqqz2s1vzcm3v06kz1h29w0000gp/T/ipykernel_4955/2624505310.py:8: UserWarning: Boolean Series key will be reindexed to match DataFrame index.\n",
      "  temp_stats = all_batting_stats[all_batting_stats['team'] == team['Team']][all_batting_stats['date'].astype(str).str.startswith(str(team['Year']))][all_batting_stats['gametype'] == 'regular'][batting_features]\n",
      "/var/folders/fh/fzyqqz2s1vzcm3v06kz1h29w0000gp/T/ipykernel_4955/2624505310.py:8: UserWarning: Boolean Series key will be reindexed to match DataFrame index.\n",
      "  temp_stats = all_batting_stats[all_batting_stats['team'] == team['Team']][all_batting_stats['date'].astype(str).str.startswith(str(team['Year']))][all_batting_stats['gametype'] == 'regular'][batting_features]\n"
     ]
    },
    {
     "name": "stdout",
     "output_type": "stream",
     "text": [
      "Index: 211, Year: 2019 Team: LAN, Level of Success: DS\n"
     ]
    },
    {
     "name": "stderr",
     "output_type": "stream",
     "text": [
      "/var/folders/fh/fzyqqz2s1vzcm3v06kz1h29w0000gp/T/ipykernel_4955/2624505310.py:8: UserWarning: Boolean Series key will be reindexed to match DataFrame index.\n",
      "  temp_stats = all_batting_stats[all_batting_stats['team'] == team['Team']][all_batting_stats['date'].astype(str).str.startswith(str(team['Year']))][all_batting_stats['gametype'] == 'regular'][batting_features]\n",
      "/var/folders/fh/fzyqqz2s1vzcm3v06kz1h29w0000gp/T/ipykernel_4955/2624505310.py:8: UserWarning: Boolean Series key will be reindexed to match DataFrame index.\n",
      "  temp_stats = all_batting_stats[all_batting_stats['team'] == team['Team']][all_batting_stats['date'].astype(str).str.startswith(str(team['Year']))][all_batting_stats['gametype'] == 'regular'][batting_features]\n"
     ]
    },
    {
     "name": "stdout",
     "output_type": "stream",
     "text": [
      "Index: 212, Year: 2019 Team: ATL, Level of Success: DS\n"
     ]
    },
    {
     "name": "stderr",
     "output_type": "stream",
     "text": [
      "/var/folders/fh/fzyqqz2s1vzcm3v06kz1h29w0000gp/T/ipykernel_4955/2624505310.py:8: UserWarning: Boolean Series key will be reindexed to match DataFrame index.\n",
      "  temp_stats = all_batting_stats[all_batting_stats['team'] == team['Team']][all_batting_stats['date'].astype(str).str.startswith(str(team['Year']))][all_batting_stats['gametype'] == 'regular'][batting_features]\n",
      "/var/folders/fh/fzyqqz2s1vzcm3v06kz1h29w0000gp/T/ipykernel_4955/2624505310.py:8: UserWarning: Boolean Series key will be reindexed to match DataFrame index.\n",
      "  temp_stats = all_batting_stats[all_batting_stats['team'] == team['Team']][all_batting_stats['date'].astype(str).str.startswith(str(team['Year']))][all_batting_stats['gametype'] == 'regular'][batting_features]\n"
     ]
    },
    {
     "name": "stdout",
     "output_type": "stream",
     "text": [
      "Index: 213, Year: 2019 Team: SLN, Level of Success: LS\n"
     ]
    },
    {
     "name": "stderr",
     "output_type": "stream",
     "text": [
      "/var/folders/fh/fzyqqz2s1vzcm3v06kz1h29w0000gp/T/ipykernel_4955/2624505310.py:8: UserWarning: Boolean Series key will be reindexed to match DataFrame index.\n",
      "  temp_stats = all_batting_stats[all_batting_stats['team'] == team['Team']][all_batting_stats['date'].astype(str).str.startswith(str(team['Year']))][all_batting_stats['gametype'] == 'regular'][batting_features]\n",
      "/var/folders/fh/fzyqqz2s1vzcm3v06kz1h29w0000gp/T/ipykernel_4955/2624505310.py:8: UserWarning: Boolean Series key will be reindexed to match DataFrame index.\n",
      "  temp_stats = all_batting_stats[all_batting_stats['team'] == team['Team']][all_batting_stats['date'].astype(str).str.startswith(str(team['Year']))][all_batting_stats['gametype'] == 'regular'][batting_features]\n"
     ]
    },
    {
     "name": "stdout",
     "output_type": "stream",
     "text": [
      "Index: 214, Year: 2019 Team: WAS, Level of Success: C\n"
     ]
    },
    {
     "name": "stderr",
     "output_type": "stream",
     "text": [
      "/var/folders/fh/fzyqqz2s1vzcm3v06kz1h29w0000gp/T/ipykernel_4955/2624505310.py:8: UserWarning: Boolean Series key will be reindexed to match DataFrame index.\n",
      "  temp_stats = all_batting_stats[all_batting_stats['team'] == team['Team']][all_batting_stats['date'].astype(str).str.startswith(str(team['Year']))][all_batting_stats['gametype'] == 'regular'][batting_features]\n",
      "/var/folders/fh/fzyqqz2s1vzcm3v06kz1h29w0000gp/T/ipykernel_4955/2624505310.py:8: UserWarning: Boolean Series key will be reindexed to match DataFrame index.\n",
      "  temp_stats = all_batting_stats[all_batting_stats['team'] == team['Team']][all_batting_stats['date'].astype(str).str.startswith(str(team['Year']))][all_batting_stats['gametype'] == 'regular'][batting_features]\n"
     ]
    },
    {
     "name": "stdout",
     "output_type": "stream",
     "text": [
      "Index: 215, Year: 2019 Team: MIL, Level of Success: WC\n"
     ]
    },
    {
     "name": "stderr",
     "output_type": "stream",
     "text": [
      "/var/folders/fh/fzyqqz2s1vzcm3v06kz1h29w0000gp/T/ipykernel_4955/2624505310.py:8: UserWarning: Boolean Series key will be reindexed to match DataFrame index.\n",
      "  temp_stats = all_batting_stats[all_batting_stats['team'] == team['Team']][all_batting_stats['date'].astype(str).str.startswith(str(team['Year']))][all_batting_stats['gametype'] == 'regular'][batting_features]\n",
      "/var/folders/fh/fzyqqz2s1vzcm3v06kz1h29w0000gp/T/ipykernel_4955/2624505310.py:8: UserWarning: Boolean Series key will be reindexed to match DataFrame index.\n",
      "  temp_stats = all_batting_stats[all_batting_stats['team'] == team['Team']][all_batting_stats['date'].astype(str).str.startswith(str(team['Year']))][all_batting_stats['gametype'] == 'regular'][batting_features]\n"
     ]
    },
    {
     "name": "stdout",
     "output_type": "stream",
     "text": [
      "Index: 216, Year: 2020 Team: TBA, Level of Success: WS\n"
     ]
    },
    {
     "name": "stderr",
     "output_type": "stream",
     "text": [
      "/var/folders/fh/fzyqqz2s1vzcm3v06kz1h29w0000gp/T/ipykernel_4955/2624505310.py:8: UserWarning: Boolean Series key will be reindexed to match DataFrame index.\n",
      "  temp_stats = all_batting_stats[all_batting_stats['team'] == team['Team']][all_batting_stats['date'].astype(str).str.startswith(str(team['Year']))][all_batting_stats['gametype'] == 'regular'][batting_features]\n",
      "/var/folders/fh/fzyqqz2s1vzcm3v06kz1h29w0000gp/T/ipykernel_4955/2624505310.py:8: UserWarning: Boolean Series key will be reindexed to match DataFrame index.\n",
      "  temp_stats = all_batting_stats[all_batting_stats['team'] == team['Team']][all_batting_stats['date'].astype(str).str.startswith(str(team['Year']))][all_batting_stats['gametype'] == 'regular'][batting_features]\n"
     ]
    },
    {
     "name": "stdout",
     "output_type": "stream",
     "text": [
      "Index: 217, Year: 2020 Team: OAK, Level of Success: DS\n"
     ]
    },
    {
     "name": "stderr",
     "output_type": "stream",
     "text": [
      "/var/folders/fh/fzyqqz2s1vzcm3v06kz1h29w0000gp/T/ipykernel_4955/2624505310.py:8: UserWarning: Boolean Series key will be reindexed to match DataFrame index.\n",
      "  temp_stats = all_batting_stats[all_batting_stats['team'] == team['Team']][all_batting_stats['date'].astype(str).str.startswith(str(team['Year']))][all_batting_stats['gametype'] == 'regular'][batting_features]\n",
      "/var/folders/fh/fzyqqz2s1vzcm3v06kz1h29w0000gp/T/ipykernel_4955/2624505310.py:8: UserWarning: Boolean Series key will be reindexed to match DataFrame index.\n",
      "  temp_stats = all_batting_stats[all_batting_stats['team'] == team['Team']][all_batting_stats['date'].astype(str).str.startswith(str(team['Year']))][all_batting_stats['gametype'] == 'regular'][batting_features]\n"
     ]
    },
    {
     "name": "stdout",
     "output_type": "stream",
     "text": [
      "Index: 218, Year: 2020 Team: MIN, Level of Success: WC\n"
     ]
    },
    {
     "name": "stderr",
     "output_type": "stream",
     "text": [
      "/var/folders/fh/fzyqqz2s1vzcm3v06kz1h29w0000gp/T/ipykernel_4955/2624505310.py:8: UserWarning: Boolean Series key will be reindexed to match DataFrame index.\n",
      "  temp_stats = all_batting_stats[all_batting_stats['team'] == team['Team']][all_batting_stats['date'].astype(str).str.startswith(str(team['Year']))][all_batting_stats['gametype'] == 'regular'][batting_features]\n",
      "/var/folders/fh/fzyqqz2s1vzcm3v06kz1h29w0000gp/T/ipykernel_4955/2624505310.py:8: UserWarning: Boolean Series key will be reindexed to match DataFrame index.\n",
      "  temp_stats = all_batting_stats[all_batting_stats['team'] == team['Team']][all_batting_stats['date'].astype(str).str.startswith(str(team['Year']))][all_batting_stats['gametype'] == 'regular'][batting_features]\n"
     ]
    },
    {
     "name": "stdout",
     "output_type": "stream",
     "text": [
      "Index: 219, Year: 2020 Team: CLE, Level of Success: WC\n"
     ]
    },
    {
     "name": "stderr",
     "output_type": "stream",
     "text": [
      "/var/folders/fh/fzyqqz2s1vzcm3v06kz1h29w0000gp/T/ipykernel_4955/2624505310.py:8: UserWarning: Boolean Series key will be reindexed to match DataFrame index.\n",
      "  temp_stats = all_batting_stats[all_batting_stats['team'] == team['Team']][all_batting_stats['date'].astype(str).str.startswith(str(team['Year']))][all_batting_stats['gametype'] == 'regular'][batting_features]\n",
      "/var/folders/fh/fzyqqz2s1vzcm3v06kz1h29w0000gp/T/ipykernel_4955/2624505310.py:8: UserWarning: Boolean Series key will be reindexed to match DataFrame index.\n",
      "  temp_stats = all_batting_stats[all_batting_stats['team'] == team['Team']][all_batting_stats['date'].astype(str).str.startswith(str(team['Year']))][all_batting_stats['gametype'] == 'regular'][batting_features]\n"
     ]
    },
    {
     "name": "stdout",
     "output_type": "stream",
     "text": [
      "Index: 220, Year: 2020 Team: NYA, Level of Success: DS\n"
     ]
    },
    {
     "name": "stderr",
     "output_type": "stream",
     "text": [
      "/var/folders/fh/fzyqqz2s1vzcm3v06kz1h29w0000gp/T/ipykernel_4955/2624505310.py:8: UserWarning: Boolean Series key will be reindexed to match DataFrame index.\n",
      "  temp_stats = all_batting_stats[all_batting_stats['team'] == team['Team']][all_batting_stats['date'].astype(str).str.startswith(str(team['Year']))][all_batting_stats['gametype'] == 'regular'][batting_features]\n",
      "/var/folders/fh/fzyqqz2s1vzcm3v06kz1h29w0000gp/T/ipykernel_4955/2624505310.py:8: UserWarning: Boolean Series key will be reindexed to match DataFrame index.\n",
      "  temp_stats = all_batting_stats[all_batting_stats['team'] == team['Team']][all_batting_stats['date'].astype(str).str.startswith(str(team['Year']))][all_batting_stats['gametype'] == 'regular'][batting_features]\n"
     ]
    },
    {
     "name": "stdout",
     "output_type": "stream",
     "text": [
      "Index: 221, Year: 2020 Team: HOU, Level of Success: LS\n"
     ]
    },
    {
     "name": "stderr",
     "output_type": "stream",
     "text": [
      "/var/folders/fh/fzyqqz2s1vzcm3v06kz1h29w0000gp/T/ipykernel_4955/2624505310.py:8: UserWarning: Boolean Series key will be reindexed to match DataFrame index.\n",
      "  temp_stats = all_batting_stats[all_batting_stats['team'] == team['Team']][all_batting_stats['date'].astype(str).str.startswith(str(team['Year']))][all_batting_stats['gametype'] == 'regular'][batting_features]\n",
      "/var/folders/fh/fzyqqz2s1vzcm3v06kz1h29w0000gp/T/ipykernel_4955/2624505310.py:8: UserWarning: Boolean Series key will be reindexed to match DataFrame index.\n",
      "  temp_stats = all_batting_stats[all_batting_stats['team'] == team['Team']][all_batting_stats['date'].astype(str).str.startswith(str(team['Year']))][all_batting_stats['gametype'] == 'regular'][batting_features]\n"
     ]
    },
    {
     "name": "stdout",
     "output_type": "stream",
     "text": [
      "Index: 222, Year: 2020 Team: CHA, Level of Success: WC\n"
     ]
    },
    {
     "name": "stderr",
     "output_type": "stream",
     "text": [
      "/var/folders/fh/fzyqqz2s1vzcm3v06kz1h29w0000gp/T/ipykernel_4955/2624505310.py:8: UserWarning: Boolean Series key will be reindexed to match DataFrame index.\n",
      "  temp_stats = all_batting_stats[all_batting_stats['team'] == team['Team']][all_batting_stats['date'].astype(str).str.startswith(str(team['Year']))][all_batting_stats['gametype'] == 'regular'][batting_features]\n",
      "/var/folders/fh/fzyqqz2s1vzcm3v06kz1h29w0000gp/T/ipykernel_4955/2624505310.py:8: UserWarning: Boolean Series key will be reindexed to match DataFrame index.\n",
      "  temp_stats = all_batting_stats[all_batting_stats['team'] == team['Team']][all_batting_stats['date'].astype(str).str.startswith(str(team['Year']))][all_batting_stats['gametype'] == 'regular'][batting_features]\n"
     ]
    },
    {
     "name": "stdout",
     "output_type": "stream",
     "text": [
      "Index: 223, Year: 2020 Team: TOR, Level of Success: WC\n"
     ]
    },
    {
     "name": "stderr",
     "output_type": "stream",
     "text": [
      "/var/folders/fh/fzyqqz2s1vzcm3v06kz1h29w0000gp/T/ipykernel_4955/2624505310.py:8: UserWarning: Boolean Series key will be reindexed to match DataFrame index.\n",
      "  temp_stats = all_batting_stats[all_batting_stats['team'] == team['Team']][all_batting_stats['date'].astype(str).str.startswith(str(team['Year']))][all_batting_stats['gametype'] == 'regular'][batting_features]\n",
      "/var/folders/fh/fzyqqz2s1vzcm3v06kz1h29w0000gp/T/ipykernel_4955/2624505310.py:8: UserWarning: Boolean Series key will be reindexed to match DataFrame index.\n",
      "  temp_stats = all_batting_stats[all_batting_stats['team'] == team['Team']][all_batting_stats['date'].astype(str).str.startswith(str(team['Year']))][all_batting_stats['gametype'] == 'regular'][batting_features]\n"
     ]
    },
    {
     "name": "stdout",
     "output_type": "stream",
     "text": [
      "Index: 224, Year: 2020 Team: LAN, Level of Success: C\n"
     ]
    },
    {
     "name": "stderr",
     "output_type": "stream",
     "text": [
      "/var/folders/fh/fzyqqz2s1vzcm3v06kz1h29w0000gp/T/ipykernel_4955/2624505310.py:8: UserWarning: Boolean Series key will be reindexed to match DataFrame index.\n",
      "  temp_stats = all_batting_stats[all_batting_stats['team'] == team['Team']][all_batting_stats['date'].astype(str).str.startswith(str(team['Year']))][all_batting_stats['gametype'] == 'regular'][batting_features]\n",
      "/var/folders/fh/fzyqqz2s1vzcm3v06kz1h29w0000gp/T/ipykernel_4955/2624505310.py:8: UserWarning: Boolean Series key will be reindexed to match DataFrame index.\n",
      "  temp_stats = all_batting_stats[all_batting_stats['team'] == team['Team']][all_batting_stats['date'].astype(str).str.startswith(str(team['Year']))][all_batting_stats['gametype'] == 'regular'][batting_features]\n"
     ]
    },
    {
     "name": "stdout",
     "output_type": "stream",
     "text": [
      "Index: 225, Year: 2020 Team: ATL, Level of Success: LS\n"
     ]
    },
    {
     "name": "stderr",
     "output_type": "stream",
     "text": [
      "/var/folders/fh/fzyqqz2s1vzcm3v06kz1h29w0000gp/T/ipykernel_4955/2624505310.py:8: UserWarning: Boolean Series key will be reindexed to match DataFrame index.\n",
      "  temp_stats = all_batting_stats[all_batting_stats['team'] == team['Team']][all_batting_stats['date'].astype(str).str.startswith(str(team['Year']))][all_batting_stats['gametype'] == 'regular'][batting_features]\n",
      "/var/folders/fh/fzyqqz2s1vzcm3v06kz1h29w0000gp/T/ipykernel_4955/2624505310.py:8: UserWarning: Boolean Series key will be reindexed to match DataFrame index.\n",
      "  temp_stats = all_batting_stats[all_batting_stats['team'] == team['Team']][all_batting_stats['date'].astype(str).str.startswith(str(team['Year']))][all_batting_stats['gametype'] == 'regular'][batting_features]\n"
     ]
    },
    {
     "name": "stdout",
     "output_type": "stream",
     "text": [
      "Index: 226, Year: 2020 Team: CHN, Level of Success: WC\n"
     ]
    },
    {
     "name": "stderr",
     "output_type": "stream",
     "text": [
      "/var/folders/fh/fzyqqz2s1vzcm3v06kz1h29w0000gp/T/ipykernel_4955/2624505310.py:8: UserWarning: Boolean Series key will be reindexed to match DataFrame index.\n",
      "  temp_stats = all_batting_stats[all_batting_stats['team'] == team['Team']][all_batting_stats['date'].astype(str).str.startswith(str(team['Year']))][all_batting_stats['gametype'] == 'regular'][batting_features]\n",
      "/var/folders/fh/fzyqqz2s1vzcm3v06kz1h29w0000gp/T/ipykernel_4955/2624505310.py:8: UserWarning: Boolean Series key will be reindexed to match DataFrame index.\n",
      "  temp_stats = all_batting_stats[all_batting_stats['team'] == team['Team']][all_batting_stats['date'].astype(str).str.startswith(str(team['Year']))][all_batting_stats['gametype'] == 'regular'][batting_features]\n"
     ]
    },
    {
     "name": "stdout",
     "output_type": "stream",
     "text": [
      "Index: 227, Year: 2020 Team: SDN, Level of Success: DS\n"
     ]
    },
    {
     "name": "stderr",
     "output_type": "stream",
     "text": [
      "/var/folders/fh/fzyqqz2s1vzcm3v06kz1h29w0000gp/T/ipykernel_4955/2624505310.py:8: UserWarning: Boolean Series key will be reindexed to match DataFrame index.\n",
      "  temp_stats = all_batting_stats[all_batting_stats['team'] == team['Team']][all_batting_stats['date'].astype(str).str.startswith(str(team['Year']))][all_batting_stats['gametype'] == 'regular'][batting_features]\n",
      "/var/folders/fh/fzyqqz2s1vzcm3v06kz1h29w0000gp/T/ipykernel_4955/2624505310.py:8: UserWarning: Boolean Series key will be reindexed to match DataFrame index.\n",
      "  temp_stats = all_batting_stats[all_batting_stats['team'] == team['Team']][all_batting_stats['date'].astype(str).str.startswith(str(team['Year']))][all_batting_stats['gametype'] == 'regular'][batting_features]\n"
     ]
    },
    {
     "name": "stdout",
     "output_type": "stream",
     "text": [
      "Index: 228, Year: 2020 Team: SLN, Level of Success: WC\n"
     ]
    },
    {
     "name": "stderr",
     "output_type": "stream",
     "text": [
      "/var/folders/fh/fzyqqz2s1vzcm3v06kz1h29w0000gp/T/ipykernel_4955/2624505310.py:8: UserWarning: Boolean Series key will be reindexed to match DataFrame index.\n",
      "  temp_stats = all_batting_stats[all_batting_stats['team'] == team['Team']][all_batting_stats['date'].astype(str).str.startswith(str(team['Year']))][all_batting_stats['gametype'] == 'regular'][batting_features]\n",
      "/var/folders/fh/fzyqqz2s1vzcm3v06kz1h29w0000gp/T/ipykernel_4955/2624505310.py:8: UserWarning: Boolean Series key will be reindexed to match DataFrame index.\n",
      "  temp_stats = all_batting_stats[all_batting_stats['team'] == team['Team']][all_batting_stats['date'].astype(str).str.startswith(str(team['Year']))][all_batting_stats['gametype'] == 'regular'][batting_features]\n"
     ]
    },
    {
     "name": "stdout",
     "output_type": "stream",
     "text": [
      "Index: 229, Year: 2020 Team: MIA, Level of Success: DS\n"
     ]
    },
    {
     "name": "stderr",
     "output_type": "stream",
     "text": [
      "/var/folders/fh/fzyqqz2s1vzcm3v06kz1h29w0000gp/T/ipykernel_4955/2624505310.py:8: UserWarning: Boolean Series key will be reindexed to match DataFrame index.\n",
      "  temp_stats = all_batting_stats[all_batting_stats['team'] == team['Team']][all_batting_stats['date'].astype(str).str.startswith(str(team['Year']))][all_batting_stats['gametype'] == 'regular'][batting_features]\n",
      "/var/folders/fh/fzyqqz2s1vzcm3v06kz1h29w0000gp/T/ipykernel_4955/2624505310.py:8: UserWarning: Boolean Series key will be reindexed to match DataFrame index.\n",
      "  temp_stats = all_batting_stats[all_batting_stats['team'] == team['Team']][all_batting_stats['date'].astype(str).str.startswith(str(team['Year']))][all_batting_stats['gametype'] == 'regular'][batting_features]\n"
     ]
    },
    {
     "name": "stdout",
     "output_type": "stream",
     "text": [
      "Index: 230, Year: 2020 Team: CIN, Level of Success: WC\n"
     ]
    },
    {
     "name": "stderr",
     "output_type": "stream",
     "text": [
      "/var/folders/fh/fzyqqz2s1vzcm3v06kz1h29w0000gp/T/ipykernel_4955/2624505310.py:8: UserWarning: Boolean Series key will be reindexed to match DataFrame index.\n",
      "  temp_stats = all_batting_stats[all_batting_stats['team'] == team['Team']][all_batting_stats['date'].astype(str).str.startswith(str(team['Year']))][all_batting_stats['gametype'] == 'regular'][batting_features]\n",
      "/var/folders/fh/fzyqqz2s1vzcm3v06kz1h29w0000gp/T/ipykernel_4955/2624505310.py:8: UserWarning: Boolean Series key will be reindexed to match DataFrame index.\n",
      "  temp_stats = all_batting_stats[all_batting_stats['team'] == team['Team']][all_batting_stats['date'].astype(str).str.startswith(str(team['Year']))][all_batting_stats['gametype'] == 'regular'][batting_features]\n"
     ]
    },
    {
     "name": "stdout",
     "output_type": "stream",
     "text": [
      "Index: 231, Year: 2020 Team: MIL, Level of Success: WC\n"
     ]
    },
    {
     "name": "stderr",
     "output_type": "stream",
     "text": [
      "/var/folders/fh/fzyqqz2s1vzcm3v06kz1h29w0000gp/T/ipykernel_4955/2624505310.py:8: UserWarning: Boolean Series key will be reindexed to match DataFrame index.\n",
      "  temp_stats = all_batting_stats[all_batting_stats['team'] == team['Team']][all_batting_stats['date'].astype(str).str.startswith(str(team['Year']))][all_batting_stats['gametype'] == 'regular'][batting_features]\n",
      "/var/folders/fh/fzyqqz2s1vzcm3v06kz1h29w0000gp/T/ipykernel_4955/2624505310.py:8: UserWarning: Boolean Series key will be reindexed to match DataFrame index.\n",
      "  temp_stats = all_batting_stats[all_batting_stats['team'] == team['Team']][all_batting_stats['date'].astype(str).str.startswith(str(team['Year']))][all_batting_stats['gametype'] == 'regular'][batting_features]\n"
     ]
    },
    {
     "name": "stdout",
     "output_type": "stream",
     "text": [
      "Index: 232, Year: 2021 Team: TBA, Level of Success: DS\n"
     ]
    },
    {
     "name": "stderr",
     "output_type": "stream",
     "text": [
      "/var/folders/fh/fzyqqz2s1vzcm3v06kz1h29w0000gp/T/ipykernel_4955/2624505310.py:8: UserWarning: Boolean Series key will be reindexed to match DataFrame index.\n",
      "  temp_stats = all_batting_stats[all_batting_stats['team'] == team['Team']][all_batting_stats['date'].astype(str).str.startswith(str(team['Year']))][all_batting_stats['gametype'] == 'regular'][batting_features]\n",
      "/var/folders/fh/fzyqqz2s1vzcm3v06kz1h29w0000gp/T/ipykernel_4955/2624505310.py:8: UserWarning: Boolean Series key will be reindexed to match DataFrame index.\n",
      "  temp_stats = all_batting_stats[all_batting_stats['team'] == team['Team']][all_batting_stats['date'].astype(str).str.startswith(str(team['Year']))][all_batting_stats['gametype'] == 'regular'][batting_features]\n"
     ]
    },
    {
     "name": "stdout",
     "output_type": "stream",
     "text": [
      "Index: 233, Year: 2021 Team: HOU, Level of Success: WS\n"
     ]
    },
    {
     "name": "stderr",
     "output_type": "stream",
     "text": [
      "/var/folders/fh/fzyqqz2s1vzcm3v06kz1h29w0000gp/T/ipykernel_4955/2624505310.py:8: UserWarning: Boolean Series key will be reindexed to match DataFrame index.\n",
      "  temp_stats = all_batting_stats[all_batting_stats['team'] == team['Team']][all_batting_stats['date'].astype(str).str.startswith(str(team['Year']))][all_batting_stats['gametype'] == 'regular'][batting_features]\n",
      "/var/folders/fh/fzyqqz2s1vzcm3v06kz1h29w0000gp/T/ipykernel_4955/2624505310.py:8: UserWarning: Boolean Series key will be reindexed to match DataFrame index.\n",
      "  temp_stats = all_batting_stats[all_batting_stats['team'] == team['Team']][all_batting_stats['date'].astype(str).str.startswith(str(team['Year']))][all_batting_stats['gametype'] == 'regular'][batting_features]\n"
     ]
    },
    {
     "name": "stdout",
     "output_type": "stream",
     "text": [
      "Index: 234, Year: 2021 Team: CHA, Level of Success: DS\n"
     ]
    },
    {
     "name": "stderr",
     "output_type": "stream",
     "text": [
      "/var/folders/fh/fzyqqz2s1vzcm3v06kz1h29w0000gp/T/ipykernel_4955/2624505310.py:8: UserWarning: Boolean Series key will be reindexed to match DataFrame index.\n",
      "  temp_stats = all_batting_stats[all_batting_stats['team'] == team['Team']][all_batting_stats['date'].astype(str).str.startswith(str(team['Year']))][all_batting_stats['gametype'] == 'regular'][batting_features]\n",
      "/var/folders/fh/fzyqqz2s1vzcm3v06kz1h29w0000gp/T/ipykernel_4955/2624505310.py:8: UserWarning: Boolean Series key will be reindexed to match DataFrame index.\n",
      "  temp_stats = all_batting_stats[all_batting_stats['team'] == team['Team']][all_batting_stats['date'].astype(str).str.startswith(str(team['Year']))][all_batting_stats['gametype'] == 'regular'][batting_features]\n"
     ]
    },
    {
     "name": "stdout",
     "output_type": "stream",
     "text": [
      "Index: 235, Year: 2021 Team: BOS, Level of Success: LS\n"
     ]
    },
    {
     "name": "stderr",
     "output_type": "stream",
     "text": [
      "/var/folders/fh/fzyqqz2s1vzcm3v06kz1h29w0000gp/T/ipykernel_4955/2624505310.py:8: UserWarning: Boolean Series key will be reindexed to match DataFrame index.\n",
      "  temp_stats = all_batting_stats[all_batting_stats['team'] == team['Team']][all_batting_stats['date'].astype(str).str.startswith(str(team['Year']))][all_batting_stats['gametype'] == 'regular'][batting_features]\n",
      "/var/folders/fh/fzyqqz2s1vzcm3v06kz1h29w0000gp/T/ipykernel_4955/2624505310.py:8: UserWarning: Boolean Series key will be reindexed to match DataFrame index.\n",
      "  temp_stats = all_batting_stats[all_batting_stats['team'] == team['Team']][all_batting_stats['date'].astype(str).str.startswith(str(team['Year']))][all_batting_stats['gametype'] == 'regular'][batting_features]\n"
     ]
    },
    {
     "name": "stdout",
     "output_type": "stream",
     "text": [
      "Index: 236, Year: 2021 Team: NYA, Level of Success: WC\n"
     ]
    },
    {
     "name": "stderr",
     "output_type": "stream",
     "text": [
      "/var/folders/fh/fzyqqz2s1vzcm3v06kz1h29w0000gp/T/ipykernel_4955/2624505310.py:8: UserWarning: Boolean Series key will be reindexed to match DataFrame index.\n",
      "  temp_stats = all_batting_stats[all_batting_stats['team'] == team['Team']][all_batting_stats['date'].astype(str).str.startswith(str(team['Year']))][all_batting_stats['gametype'] == 'regular'][batting_features]\n",
      "/var/folders/fh/fzyqqz2s1vzcm3v06kz1h29w0000gp/T/ipykernel_4955/2624505310.py:8: UserWarning: Boolean Series key will be reindexed to match DataFrame index.\n",
      "  temp_stats = all_batting_stats[all_batting_stats['team'] == team['Team']][all_batting_stats['date'].astype(str).str.startswith(str(team['Year']))][all_batting_stats['gametype'] == 'regular'][batting_features]\n"
     ]
    },
    {
     "name": "stdout",
     "output_type": "stream",
     "text": [
      "Index: 237, Year: 2021 Team: SFN, Level of Success: DS\n"
     ]
    },
    {
     "name": "stderr",
     "output_type": "stream",
     "text": [
      "/var/folders/fh/fzyqqz2s1vzcm3v06kz1h29w0000gp/T/ipykernel_4955/2624505310.py:8: UserWarning: Boolean Series key will be reindexed to match DataFrame index.\n",
      "  temp_stats = all_batting_stats[all_batting_stats['team'] == team['Team']][all_batting_stats['date'].astype(str).str.startswith(str(team['Year']))][all_batting_stats['gametype'] == 'regular'][batting_features]\n",
      "/var/folders/fh/fzyqqz2s1vzcm3v06kz1h29w0000gp/T/ipykernel_4955/2624505310.py:8: UserWarning: Boolean Series key will be reindexed to match DataFrame index.\n",
      "  temp_stats = all_batting_stats[all_batting_stats['team'] == team['Team']][all_batting_stats['date'].astype(str).str.startswith(str(team['Year']))][all_batting_stats['gametype'] == 'regular'][batting_features]\n"
     ]
    },
    {
     "name": "stdout",
     "output_type": "stream",
     "text": [
      "Index: 238, Year: 2021 Team: MIL, Level of Success: DS\n"
     ]
    },
    {
     "name": "stderr",
     "output_type": "stream",
     "text": [
      "/var/folders/fh/fzyqqz2s1vzcm3v06kz1h29w0000gp/T/ipykernel_4955/2624505310.py:8: UserWarning: Boolean Series key will be reindexed to match DataFrame index.\n",
      "  temp_stats = all_batting_stats[all_batting_stats['team'] == team['Team']][all_batting_stats['date'].astype(str).str.startswith(str(team['Year']))][all_batting_stats['gametype'] == 'regular'][batting_features]\n",
      "/var/folders/fh/fzyqqz2s1vzcm3v06kz1h29w0000gp/T/ipykernel_4955/2624505310.py:8: UserWarning: Boolean Series key will be reindexed to match DataFrame index.\n",
      "  temp_stats = all_batting_stats[all_batting_stats['team'] == team['Team']][all_batting_stats['date'].astype(str).str.startswith(str(team['Year']))][all_batting_stats['gametype'] == 'regular'][batting_features]\n"
     ]
    },
    {
     "name": "stdout",
     "output_type": "stream",
     "text": [
      "Index: 239, Year: 2021 Team: ATL, Level of Success: C\n"
     ]
    },
    {
     "name": "stderr",
     "output_type": "stream",
     "text": [
      "/var/folders/fh/fzyqqz2s1vzcm3v06kz1h29w0000gp/T/ipykernel_4955/2624505310.py:8: UserWarning: Boolean Series key will be reindexed to match DataFrame index.\n",
      "  temp_stats = all_batting_stats[all_batting_stats['team'] == team['Team']][all_batting_stats['date'].astype(str).str.startswith(str(team['Year']))][all_batting_stats['gametype'] == 'regular'][batting_features]\n",
      "/var/folders/fh/fzyqqz2s1vzcm3v06kz1h29w0000gp/T/ipykernel_4955/2624505310.py:8: UserWarning: Boolean Series key will be reindexed to match DataFrame index.\n",
      "  temp_stats = all_batting_stats[all_batting_stats['team'] == team['Team']][all_batting_stats['date'].astype(str).str.startswith(str(team['Year']))][all_batting_stats['gametype'] == 'regular'][batting_features]\n"
     ]
    },
    {
     "name": "stdout",
     "output_type": "stream",
     "text": [
      "Index: 240, Year: 2021 Team: LAN, Level of Success: LS\n"
     ]
    },
    {
     "name": "stderr",
     "output_type": "stream",
     "text": [
      "/var/folders/fh/fzyqqz2s1vzcm3v06kz1h29w0000gp/T/ipykernel_4955/2624505310.py:8: UserWarning: Boolean Series key will be reindexed to match DataFrame index.\n",
      "  temp_stats = all_batting_stats[all_batting_stats['team'] == team['Team']][all_batting_stats['date'].astype(str).str.startswith(str(team['Year']))][all_batting_stats['gametype'] == 'regular'][batting_features]\n",
      "/var/folders/fh/fzyqqz2s1vzcm3v06kz1h29w0000gp/T/ipykernel_4955/2624505310.py:8: UserWarning: Boolean Series key will be reindexed to match DataFrame index.\n",
      "  temp_stats = all_batting_stats[all_batting_stats['team'] == team['Team']][all_batting_stats['date'].astype(str).str.startswith(str(team['Year']))][all_batting_stats['gametype'] == 'regular'][batting_features]\n"
     ]
    },
    {
     "name": "stdout",
     "output_type": "stream",
     "text": [
      "Index: 241, Year: 2021 Team: SLN, Level of Success: WC\n"
     ]
    },
    {
     "name": "stderr",
     "output_type": "stream",
     "text": [
      "/var/folders/fh/fzyqqz2s1vzcm3v06kz1h29w0000gp/T/ipykernel_4955/2624505310.py:8: UserWarning: Boolean Series key will be reindexed to match DataFrame index.\n",
      "  temp_stats = all_batting_stats[all_batting_stats['team'] == team['Team']][all_batting_stats['date'].astype(str).str.startswith(str(team['Year']))][all_batting_stats['gametype'] == 'regular'][batting_features]\n",
      "/var/folders/fh/fzyqqz2s1vzcm3v06kz1h29w0000gp/T/ipykernel_4955/2624505310.py:8: UserWarning: Boolean Series key will be reindexed to match DataFrame index.\n",
      "  temp_stats = all_batting_stats[all_batting_stats['team'] == team['Team']][all_batting_stats['date'].astype(str).str.startswith(str(team['Year']))][all_batting_stats['gametype'] == 'regular'][batting_features]\n"
     ]
    },
    {
     "name": "stdout",
     "output_type": "stream",
     "text": [
      "Index: 242, Year: 2022 Team: HOU, Level of Success: C\n"
     ]
    },
    {
     "name": "stderr",
     "output_type": "stream",
     "text": [
      "/var/folders/fh/fzyqqz2s1vzcm3v06kz1h29w0000gp/T/ipykernel_4955/2624505310.py:8: UserWarning: Boolean Series key will be reindexed to match DataFrame index.\n",
      "  temp_stats = all_batting_stats[all_batting_stats['team'] == team['Team']][all_batting_stats['date'].astype(str).str.startswith(str(team['Year']))][all_batting_stats['gametype'] == 'regular'][batting_features]\n",
      "/var/folders/fh/fzyqqz2s1vzcm3v06kz1h29w0000gp/T/ipykernel_4955/2624505310.py:8: UserWarning: Boolean Series key will be reindexed to match DataFrame index.\n",
      "  temp_stats = all_batting_stats[all_batting_stats['team'] == team['Team']][all_batting_stats['date'].astype(str).str.startswith(str(team['Year']))][all_batting_stats['gametype'] == 'regular'][batting_features]\n"
     ]
    },
    {
     "name": "stdout",
     "output_type": "stream",
     "text": [
      "Index: 243, Year: 2022 Team: NYA, Level of Success: LS\n"
     ]
    },
    {
     "name": "stderr",
     "output_type": "stream",
     "text": [
      "/var/folders/fh/fzyqqz2s1vzcm3v06kz1h29w0000gp/T/ipykernel_4955/2624505310.py:8: UserWarning: Boolean Series key will be reindexed to match DataFrame index.\n",
      "  temp_stats = all_batting_stats[all_batting_stats['team'] == team['Team']][all_batting_stats['date'].astype(str).str.startswith(str(team['Year']))][all_batting_stats['gametype'] == 'regular'][batting_features]\n",
      "/var/folders/fh/fzyqqz2s1vzcm3v06kz1h29w0000gp/T/ipykernel_4955/2624505310.py:8: UserWarning: Boolean Series key will be reindexed to match DataFrame index.\n",
      "  temp_stats = all_batting_stats[all_batting_stats['team'] == team['Team']][all_batting_stats['date'].astype(str).str.startswith(str(team['Year']))][all_batting_stats['gametype'] == 'regular'][batting_features]\n"
     ]
    },
    {
     "name": "stdout",
     "output_type": "stream",
     "text": [
      "Index: 244, Year: 2022 Team: CLE, Level of Success: DS\n"
     ]
    },
    {
     "name": "stderr",
     "output_type": "stream",
     "text": [
      "/var/folders/fh/fzyqqz2s1vzcm3v06kz1h29w0000gp/T/ipykernel_4955/2624505310.py:8: UserWarning: Boolean Series key will be reindexed to match DataFrame index.\n",
      "  temp_stats = all_batting_stats[all_batting_stats['team'] == team['Team']][all_batting_stats['date'].astype(str).str.startswith(str(team['Year']))][all_batting_stats['gametype'] == 'regular'][batting_features]\n",
      "/var/folders/fh/fzyqqz2s1vzcm3v06kz1h29w0000gp/T/ipykernel_4955/2624505310.py:8: UserWarning: Boolean Series key will be reindexed to match DataFrame index.\n",
      "  temp_stats = all_batting_stats[all_batting_stats['team'] == team['Team']][all_batting_stats['date'].astype(str).str.startswith(str(team['Year']))][all_batting_stats['gametype'] == 'regular'][batting_features]\n"
     ]
    },
    {
     "name": "stdout",
     "output_type": "stream",
     "text": [
      "Index: 245, Year: 2022 Team: TOR, Level of Success: WC\n"
     ]
    },
    {
     "name": "stderr",
     "output_type": "stream",
     "text": [
      "/var/folders/fh/fzyqqz2s1vzcm3v06kz1h29w0000gp/T/ipykernel_4955/2624505310.py:8: UserWarning: Boolean Series key will be reindexed to match DataFrame index.\n",
      "  temp_stats = all_batting_stats[all_batting_stats['team'] == team['Team']][all_batting_stats['date'].astype(str).str.startswith(str(team['Year']))][all_batting_stats['gametype'] == 'regular'][batting_features]\n",
      "/var/folders/fh/fzyqqz2s1vzcm3v06kz1h29w0000gp/T/ipykernel_4955/2624505310.py:8: UserWarning: Boolean Series key will be reindexed to match DataFrame index.\n",
      "  temp_stats = all_batting_stats[all_batting_stats['team'] == team['Team']][all_batting_stats['date'].astype(str).str.startswith(str(team['Year']))][all_batting_stats['gametype'] == 'regular'][batting_features]\n"
     ]
    },
    {
     "name": "stdout",
     "output_type": "stream",
     "text": [
      "Index: 246, Year: 2022 Team: SEA, Level of Success: DS\n"
     ]
    },
    {
     "name": "stderr",
     "output_type": "stream",
     "text": [
      "/var/folders/fh/fzyqqz2s1vzcm3v06kz1h29w0000gp/T/ipykernel_4955/2624505310.py:8: UserWarning: Boolean Series key will be reindexed to match DataFrame index.\n",
      "  temp_stats = all_batting_stats[all_batting_stats['team'] == team['Team']][all_batting_stats['date'].astype(str).str.startswith(str(team['Year']))][all_batting_stats['gametype'] == 'regular'][batting_features]\n",
      "/var/folders/fh/fzyqqz2s1vzcm3v06kz1h29w0000gp/T/ipykernel_4955/2624505310.py:8: UserWarning: Boolean Series key will be reindexed to match DataFrame index.\n",
      "  temp_stats = all_batting_stats[all_batting_stats['team'] == team['Team']][all_batting_stats['date'].astype(str).str.startswith(str(team['Year']))][all_batting_stats['gametype'] == 'regular'][batting_features]\n"
     ]
    },
    {
     "name": "stdout",
     "output_type": "stream",
     "text": [
      "Index: 247, Year: 2022 Team: TBA, Level of Success: WC\n"
     ]
    },
    {
     "name": "stderr",
     "output_type": "stream",
     "text": [
      "/var/folders/fh/fzyqqz2s1vzcm3v06kz1h29w0000gp/T/ipykernel_4955/2624505310.py:8: UserWarning: Boolean Series key will be reindexed to match DataFrame index.\n",
      "  temp_stats = all_batting_stats[all_batting_stats['team'] == team['Team']][all_batting_stats['date'].astype(str).str.startswith(str(team['Year']))][all_batting_stats['gametype'] == 'regular'][batting_features]\n",
      "/var/folders/fh/fzyqqz2s1vzcm3v06kz1h29w0000gp/T/ipykernel_4955/2624505310.py:8: UserWarning: Boolean Series key will be reindexed to match DataFrame index.\n",
      "  temp_stats = all_batting_stats[all_batting_stats['team'] == team['Team']][all_batting_stats['date'].astype(str).str.startswith(str(team['Year']))][all_batting_stats['gametype'] == 'regular'][batting_features]\n"
     ]
    },
    {
     "name": "stdout",
     "output_type": "stream",
     "text": [
      "Index: 248, Year: 2022 Team: LAN, Level of Success: DS\n"
     ]
    },
    {
     "name": "stderr",
     "output_type": "stream",
     "text": [
      "/var/folders/fh/fzyqqz2s1vzcm3v06kz1h29w0000gp/T/ipykernel_4955/2624505310.py:8: UserWarning: Boolean Series key will be reindexed to match DataFrame index.\n",
      "  temp_stats = all_batting_stats[all_batting_stats['team'] == team['Team']][all_batting_stats['date'].astype(str).str.startswith(str(team['Year']))][all_batting_stats['gametype'] == 'regular'][batting_features]\n",
      "/var/folders/fh/fzyqqz2s1vzcm3v06kz1h29w0000gp/T/ipykernel_4955/2624505310.py:8: UserWarning: Boolean Series key will be reindexed to match DataFrame index.\n",
      "  temp_stats = all_batting_stats[all_batting_stats['team'] == team['Team']][all_batting_stats['date'].astype(str).str.startswith(str(team['Year']))][all_batting_stats['gametype'] == 'regular'][batting_features]\n"
     ]
    },
    {
     "name": "stdout",
     "output_type": "stream",
     "text": [
      "Index: 249, Year: 2022 Team: ATL, Level of Success: DS\n"
     ]
    },
    {
     "name": "stderr",
     "output_type": "stream",
     "text": [
      "/var/folders/fh/fzyqqz2s1vzcm3v06kz1h29w0000gp/T/ipykernel_4955/2624505310.py:8: UserWarning: Boolean Series key will be reindexed to match DataFrame index.\n",
      "  temp_stats = all_batting_stats[all_batting_stats['team'] == team['Team']][all_batting_stats['date'].astype(str).str.startswith(str(team['Year']))][all_batting_stats['gametype'] == 'regular'][batting_features]\n",
      "/var/folders/fh/fzyqqz2s1vzcm3v06kz1h29w0000gp/T/ipykernel_4955/2624505310.py:8: UserWarning: Boolean Series key will be reindexed to match DataFrame index.\n",
      "  temp_stats = all_batting_stats[all_batting_stats['team'] == team['Team']][all_batting_stats['date'].astype(str).str.startswith(str(team['Year']))][all_batting_stats['gametype'] == 'regular'][batting_features]\n"
     ]
    },
    {
     "name": "stdout",
     "output_type": "stream",
     "text": [
      "Index: 250, Year: 2022 Team: SLN, Level of Success: WC\n"
     ]
    },
    {
     "name": "stderr",
     "output_type": "stream",
     "text": [
      "/var/folders/fh/fzyqqz2s1vzcm3v06kz1h29w0000gp/T/ipykernel_4955/2624505310.py:8: UserWarning: Boolean Series key will be reindexed to match DataFrame index.\n",
      "  temp_stats = all_batting_stats[all_batting_stats['team'] == team['Team']][all_batting_stats['date'].astype(str).str.startswith(str(team['Year']))][all_batting_stats['gametype'] == 'regular'][batting_features]\n",
      "/var/folders/fh/fzyqqz2s1vzcm3v06kz1h29w0000gp/T/ipykernel_4955/2624505310.py:8: UserWarning: Boolean Series key will be reindexed to match DataFrame index.\n",
      "  temp_stats = all_batting_stats[all_batting_stats['team'] == team['Team']][all_batting_stats['date'].astype(str).str.startswith(str(team['Year']))][all_batting_stats['gametype'] == 'regular'][batting_features]\n"
     ]
    },
    {
     "name": "stdout",
     "output_type": "stream",
     "text": [
      "Index: 251, Year: 2022 Team: NYN, Level of Success: WC\n"
     ]
    },
    {
     "name": "stderr",
     "output_type": "stream",
     "text": [
      "/var/folders/fh/fzyqqz2s1vzcm3v06kz1h29w0000gp/T/ipykernel_4955/2624505310.py:8: UserWarning: Boolean Series key will be reindexed to match DataFrame index.\n",
      "  temp_stats = all_batting_stats[all_batting_stats['team'] == team['Team']][all_batting_stats['date'].astype(str).str.startswith(str(team['Year']))][all_batting_stats['gametype'] == 'regular'][batting_features]\n",
      "/var/folders/fh/fzyqqz2s1vzcm3v06kz1h29w0000gp/T/ipykernel_4955/2624505310.py:8: UserWarning: Boolean Series key will be reindexed to match DataFrame index.\n",
      "  temp_stats = all_batting_stats[all_batting_stats['team'] == team['Team']][all_batting_stats['date'].astype(str).str.startswith(str(team['Year']))][all_batting_stats['gametype'] == 'regular'][batting_features]\n"
     ]
    },
    {
     "name": "stdout",
     "output_type": "stream",
     "text": [
      "Index: 252, Year: 2022 Team: SDN, Level of Success: LS\n"
     ]
    },
    {
     "name": "stderr",
     "output_type": "stream",
     "text": [
      "/var/folders/fh/fzyqqz2s1vzcm3v06kz1h29w0000gp/T/ipykernel_4955/2624505310.py:8: UserWarning: Boolean Series key will be reindexed to match DataFrame index.\n",
      "  temp_stats = all_batting_stats[all_batting_stats['team'] == team['Team']][all_batting_stats['date'].astype(str).str.startswith(str(team['Year']))][all_batting_stats['gametype'] == 'regular'][batting_features]\n",
      "/var/folders/fh/fzyqqz2s1vzcm3v06kz1h29w0000gp/T/ipykernel_4955/2624505310.py:8: UserWarning: Boolean Series key will be reindexed to match DataFrame index.\n",
      "  temp_stats = all_batting_stats[all_batting_stats['team'] == team['Team']][all_batting_stats['date'].astype(str).str.startswith(str(team['Year']))][all_batting_stats['gametype'] == 'regular'][batting_features]\n"
     ]
    },
    {
     "name": "stdout",
     "output_type": "stream",
     "text": [
      "Index: 253, Year: 2022 Team: PHI, Level of Success: WS\n"
     ]
    },
    {
     "name": "stderr",
     "output_type": "stream",
     "text": [
      "/var/folders/fh/fzyqqz2s1vzcm3v06kz1h29w0000gp/T/ipykernel_4955/2624505310.py:8: UserWarning: Boolean Series key will be reindexed to match DataFrame index.\n",
      "  temp_stats = all_batting_stats[all_batting_stats['team'] == team['Team']][all_batting_stats['date'].astype(str).str.startswith(str(team['Year']))][all_batting_stats['gametype'] == 'regular'][batting_features]\n",
      "/var/folders/fh/fzyqqz2s1vzcm3v06kz1h29w0000gp/T/ipykernel_4955/2624505310.py:8: UserWarning: Boolean Series key will be reindexed to match DataFrame index.\n",
      "  temp_stats = all_batting_stats[all_batting_stats['team'] == team['Team']][all_batting_stats['date'].astype(str).str.startswith(str(team['Year']))][all_batting_stats['gametype'] == 'regular'][batting_features]\n"
     ]
    },
    {
     "name": "stdout",
     "output_type": "stream",
     "text": [
      "Index: 254, Year: 2023 Team: BAL, Level of Success: DS\n"
     ]
    },
    {
     "name": "stderr",
     "output_type": "stream",
     "text": [
      "/var/folders/fh/fzyqqz2s1vzcm3v06kz1h29w0000gp/T/ipykernel_4955/2624505310.py:8: UserWarning: Boolean Series key will be reindexed to match DataFrame index.\n",
      "  temp_stats = all_batting_stats[all_batting_stats['team'] == team['Team']][all_batting_stats['date'].astype(str).str.startswith(str(team['Year']))][all_batting_stats['gametype'] == 'regular'][batting_features]\n",
      "/var/folders/fh/fzyqqz2s1vzcm3v06kz1h29w0000gp/T/ipykernel_4955/2624505310.py:8: UserWarning: Boolean Series key will be reindexed to match DataFrame index.\n",
      "  temp_stats = all_batting_stats[all_batting_stats['team'] == team['Team']][all_batting_stats['date'].astype(str).str.startswith(str(team['Year']))][all_batting_stats['gametype'] == 'regular'][batting_features]\n"
     ]
    },
    {
     "name": "stdout",
     "output_type": "stream",
     "text": [
      "Index: 255, Year: 2023 Team: HOU, Level of Success: LS\n"
     ]
    },
    {
     "name": "stderr",
     "output_type": "stream",
     "text": [
      "/var/folders/fh/fzyqqz2s1vzcm3v06kz1h29w0000gp/T/ipykernel_4955/2624505310.py:8: UserWarning: Boolean Series key will be reindexed to match DataFrame index.\n",
      "  temp_stats = all_batting_stats[all_batting_stats['team'] == team['Team']][all_batting_stats['date'].astype(str).str.startswith(str(team['Year']))][all_batting_stats['gametype'] == 'regular'][batting_features]\n",
      "/var/folders/fh/fzyqqz2s1vzcm3v06kz1h29w0000gp/T/ipykernel_4955/2624505310.py:8: UserWarning: Boolean Series key will be reindexed to match DataFrame index.\n",
      "  temp_stats = all_batting_stats[all_batting_stats['team'] == team['Team']][all_batting_stats['date'].astype(str).str.startswith(str(team['Year']))][all_batting_stats['gametype'] == 'regular'][batting_features]\n"
     ]
    },
    {
     "name": "stdout",
     "output_type": "stream",
     "text": [
      "Index: 256, Year: 2023 Team: MIN, Level of Success: DS\n"
     ]
    },
    {
     "name": "stderr",
     "output_type": "stream",
     "text": [
      "/var/folders/fh/fzyqqz2s1vzcm3v06kz1h29w0000gp/T/ipykernel_4955/2624505310.py:8: UserWarning: Boolean Series key will be reindexed to match DataFrame index.\n",
      "  temp_stats = all_batting_stats[all_batting_stats['team'] == team['Team']][all_batting_stats['date'].astype(str).str.startswith(str(team['Year']))][all_batting_stats['gametype'] == 'regular'][batting_features]\n",
      "/var/folders/fh/fzyqqz2s1vzcm3v06kz1h29w0000gp/T/ipykernel_4955/2624505310.py:8: UserWarning: Boolean Series key will be reindexed to match DataFrame index.\n",
      "  temp_stats = all_batting_stats[all_batting_stats['team'] == team['Team']][all_batting_stats['date'].astype(str).str.startswith(str(team['Year']))][all_batting_stats['gametype'] == 'regular'][batting_features]\n"
     ]
    },
    {
     "name": "stdout",
     "output_type": "stream",
     "text": [
      "Index: 257, Year: 2023 Team: TBA, Level of Success: WC\n"
     ]
    },
    {
     "name": "stderr",
     "output_type": "stream",
     "text": [
      "/var/folders/fh/fzyqqz2s1vzcm3v06kz1h29w0000gp/T/ipykernel_4955/2624505310.py:8: UserWarning: Boolean Series key will be reindexed to match DataFrame index.\n",
      "  temp_stats = all_batting_stats[all_batting_stats['team'] == team['Team']][all_batting_stats['date'].astype(str).str.startswith(str(team['Year']))][all_batting_stats['gametype'] == 'regular'][batting_features]\n",
      "/var/folders/fh/fzyqqz2s1vzcm3v06kz1h29w0000gp/T/ipykernel_4955/2624505310.py:8: UserWarning: Boolean Series key will be reindexed to match DataFrame index.\n",
      "  temp_stats = all_batting_stats[all_batting_stats['team'] == team['Team']][all_batting_stats['date'].astype(str).str.startswith(str(team['Year']))][all_batting_stats['gametype'] == 'regular'][batting_features]\n"
     ]
    },
    {
     "name": "stdout",
     "output_type": "stream",
     "text": [
      "Index: 258, Year: 2023 Team: TEX, Level of Success: C\n"
     ]
    },
    {
     "name": "stderr",
     "output_type": "stream",
     "text": [
      "/var/folders/fh/fzyqqz2s1vzcm3v06kz1h29w0000gp/T/ipykernel_4955/2624505310.py:8: UserWarning: Boolean Series key will be reindexed to match DataFrame index.\n",
      "  temp_stats = all_batting_stats[all_batting_stats['team'] == team['Team']][all_batting_stats['date'].astype(str).str.startswith(str(team['Year']))][all_batting_stats['gametype'] == 'regular'][batting_features]\n",
      "/var/folders/fh/fzyqqz2s1vzcm3v06kz1h29w0000gp/T/ipykernel_4955/2624505310.py:8: UserWarning: Boolean Series key will be reindexed to match DataFrame index.\n",
      "  temp_stats = all_batting_stats[all_batting_stats['team'] == team['Team']][all_batting_stats['date'].astype(str).str.startswith(str(team['Year']))][all_batting_stats['gametype'] == 'regular'][batting_features]\n"
     ]
    },
    {
     "name": "stdout",
     "output_type": "stream",
     "text": [
      "Index: 259, Year: 2023 Team: TOR, Level of Success: WC\n"
     ]
    },
    {
     "name": "stderr",
     "output_type": "stream",
     "text": [
      "/var/folders/fh/fzyqqz2s1vzcm3v06kz1h29w0000gp/T/ipykernel_4955/2624505310.py:8: UserWarning: Boolean Series key will be reindexed to match DataFrame index.\n",
      "  temp_stats = all_batting_stats[all_batting_stats['team'] == team['Team']][all_batting_stats['date'].astype(str).str.startswith(str(team['Year']))][all_batting_stats['gametype'] == 'regular'][batting_features]\n",
      "/var/folders/fh/fzyqqz2s1vzcm3v06kz1h29w0000gp/T/ipykernel_4955/2624505310.py:8: UserWarning: Boolean Series key will be reindexed to match DataFrame index.\n",
      "  temp_stats = all_batting_stats[all_batting_stats['team'] == team['Team']][all_batting_stats['date'].astype(str).str.startswith(str(team['Year']))][all_batting_stats['gametype'] == 'regular'][batting_features]\n"
     ]
    },
    {
     "name": "stdout",
     "output_type": "stream",
     "text": [
      "Index: 260, Year: 2023 Team: ATL, Level of Success: DS\n"
     ]
    },
    {
     "name": "stderr",
     "output_type": "stream",
     "text": [
      "/var/folders/fh/fzyqqz2s1vzcm3v06kz1h29w0000gp/T/ipykernel_4955/2624505310.py:8: UserWarning: Boolean Series key will be reindexed to match DataFrame index.\n",
      "  temp_stats = all_batting_stats[all_batting_stats['team'] == team['Team']][all_batting_stats['date'].astype(str).str.startswith(str(team['Year']))][all_batting_stats['gametype'] == 'regular'][batting_features]\n",
      "/var/folders/fh/fzyqqz2s1vzcm3v06kz1h29w0000gp/T/ipykernel_4955/2624505310.py:8: UserWarning: Boolean Series key will be reindexed to match DataFrame index.\n",
      "  temp_stats = all_batting_stats[all_batting_stats['team'] == team['Team']][all_batting_stats['date'].astype(str).str.startswith(str(team['Year']))][all_batting_stats['gametype'] == 'regular'][batting_features]\n"
     ]
    },
    {
     "name": "stdout",
     "output_type": "stream",
     "text": [
      "Index: 261, Year: 2023 Team: LAN, Level of Success: DS\n"
     ]
    },
    {
     "name": "stderr",
     "output_type": "stream",
     "text": [
      "/var/folders/fh/fzyqqz2s1vzcm3v06kz1h29w0000gp/T/ipykernel_4955/2624505310.py:8: UserWarning: Boolean Series key will be reindexed to match DataFrame index.\n",
      "  temp_stats = all_batting_stats[all_batting_stats['team'] == team['Team']][all_batting_stats['date'].astype(str).str.startswith(str(team['Year']))][all_batting_stats['gametype'] == 'regular'][batting_features]\n",
      "/var/folders/fh/fzyqqz2s1vzcm3v06kz1h29w0000gp/T/ipykernel_4955/2624505310.py:8: UserWarning: Boolean Series key will be reindexed to match DataFrame index.\n",
      "  temp_stats = all_batting_stats[all_batting_stats['team'] == team['Team']][all_batting_stats['date'].astype(str).str.startswith(str(team['Year']))][all_batting_stats['gametype'] == 'regular'][batting_features]\n"
     ]
    },
    {
     "name": "stdout",
     "output_type": "stream",
     "text": [
      "Index: 262, Year: 2023 Team: MIL, Level of Success: WC\n"
     ]
    },
    {
     "name": "stderr",
     "output_type": "stream",
     "text": [
      "/var/folders/fh/fzyqqz2s1vzcm3v06kz1h29w0000gp/T/ipykernel_4955/2624505310.py:8: UserWarning: Boolean Series key will be reindexed to match DataFrame index.\n",
      "  temp_stats = all_batting_stats[all_batting_stats['team'] == team['Team']][all_batting_stats['date'].astype(str).str.startswith(str(team['Year']))][all_batting_stats['gametype'] == 'regular'][batting_features]\n",
      "/var/folders/fh/fzyqqz2s1vzcm3v06kz1h29w0000gp/T/ipykernel_4955/2624505310.py:8: UserWarning: Boolean Series key will be reindexed to match DataFrame index.\n",
      "  temp_stats = all_batting_stats[all_batting_stats['team'] == team['Team']][all_batting_stats['date'].astype(str).str.startswith(str(team['Year']))][all_batting_stats['gametype'] == 'regular'][batting_features]\n"
     ]
    },
    {
     "name": "stdout",
     "output_type": "stream",
     "text": [
      "Index: 263, Year: 2023 Team: PHI, Level of Success: LS\n"
     ]
    },
    {
     "name": "stderr",
     "output_type": "stream",
     "text": [
      "/var/folders/fh/fzyqqz2s1vzcm3v06kz1h29w0000gp/T/ipykernel_4955/2624505310.py:8: UserWarning: Boolean Series key will be reindexed to match DataFrame index.\n",
      "  temp_stats = all_batting_stats[all_batting_stats['team'] == team['Team']][all_batting_stats['date'].astype(str).str.startswith(str(team['Year']))][all_batting_stats['gametype'] == 'regular'][batting_features]\n",
      "/var/folders/fh/fzyqqz2s1vzcm3v06kz1h29w0000gp/T/ipykernel_4955/2624505310.py:8: UserWarning: Boolean Series key will be reindexed to match DataFrame index.\n",
      "  temp_stats = all_batting_stats[all_batting_stats['team'] == team['Team']][all_batting_stats['date'].astype(str).str.startswith(str(team['Year']))][all_batting_stats['gametype'] == 'regular'][batting_features]\n"
     ]
    },
    {
     "name": "stdout",
     "output_type": "stream",
     "text": [
      "Index: 264, Year: 2023 Team: MIA, Level of Success: WC\n"
     ]
    },
    {
     "name": "stderr",
     "output_type": "stream",
     "text": [
      "/var/folders/fh/fzyqqz2s1vzcm3v06kz1h29w0000gp/T/ipykernel_4955/2624505310.py:8: UserWarning: Boolean Series key will be reindexed to match DataFrame index.\n",
      "  temp_stats = all_batting_stats[all_batting_stats['team'] == team['Team']][all_batting_stats['date'].astype(str).str.startswith(str(team['Year']))][all_batting_stats['gametype'] == 'regular'][batting_features]\n",
      "/var/folders/fh/fzyqqz2s1vzcm3v06kz1h29w0000gp/T/ipykernel_4955/2624505310.py:8: UserWarning: Boolean Series key will be reindexed to match DataFrame index.\n",
      "  temp_stats = all_batting_stats[all_batting_stats['team'] == team['Team']][all_batting_stats['date'].astype(str).str.startswith(str(team['Year']))][all_batting_stats['gametype'] == 'regular'][batting_features]\n"
     ]
    },
    {
     "name": "stdout",
     "output_type": "stream",
     "text": [
      "Index: 265, Year: 2023 Team: ARI, Level of Success: WS\n"
     ]
    },
    {
     "name": "stderr",
     "output_type": "stream",
     "text": [
      "/var/folders/fh/fzyqqz2s1vzcm3v06kz1h29w0000gp/T/ipykernel_4955/2624505310.py:8: UserWarning: Boolean Series key will be reindexed to match DataFrame index.\n",
      "  temp_stats = all_batting_stats[all_batting_stats['team'] == team['Team']][all_batting_stats['date'].astype(str).str.startswith(str(team['Year']))][all_batting_stats['gametype'] == 'regular'][batting_features]\n"
     ]
    },
    {
     "name": "stdout",
     "output_type": "stream",
     "text": [
      "Data saved to 'all_batting_data.pkl'\n"
     ]
    },
    {
     "name": "stderr",
     "output_type": "stream",
     "text": [
      "/var/folders/fh/fzyqqz2s1vzcm3v06kz1h29w0000gp/T/ipykernel_4955/2624505310.py:8: UserWarning: Boolean Series key will be reindexed to match DataFrame index.\n",
      "  temp_stats = all_batting_stats[all_batting_stats['team'] == team['Team']][all_batting_stats['date'].astype(str).str.startswith(str(team['Year']))][all_batting_stats['gametype'] == 'regular'][batting_features]\n"
     ]
    }
   ],
   "source": [
    "max_players = 25\n",
    "num_features = len(batting_features_final)\n",
    "\n",
    "all_seasons = np.empty([0, max_players, num_features])\n",
    "\n",
    "for index, team in teams.iterrows():\n",
    "    print(f\"Index: {index}, Year: {team['Year']} Team: {team['Team']}, Level of Success: {team['Level of Success']}\")\n",
    "    temp_stats = all_batting_stats[all_batting_stats['team'] == team['Team']][all_batting_stats['date'].astype(str).str.startswith(str(team['Year']))][all_batting_stats['gametype'] == 'regular'][batting_features]\n",
    "    temp_stats = temp_stats.groupby(by='id').sum()\n",
    "\n",
    "    # Total number of hits / Total number of at-bats\n",
    "    temp_stats['ba'] = temp_stats['b_h'] / temp_stats['b_ab']\n",
    "    # Total number of trips to first base / Total at-bats\n",
    "    temp_stats['obp'] = (temp_stats['b_h'] + temp_stats['b_w'] + temp_stats['b_hbp'] + temp_stats['b_iw'] + temp_stats['b_roe'] + temp_stats['b_xi']) / temp_stats['b_ab']\n",
    "    # Total bases / Total at-bats\n",
    "    temp_stats['slg'] = ((temp_stats['b_h'] - temp_stats['b_d'] - temp_stats['b_t'] - temp_stats['b_hr']) + (temp_stats['b_d'] * 2) + (temp_stats['b_t'] * 3) + (temp_stats['b_hr'] * 4)) / temp_stats['b_ab']\n",
    "    # OBP + SLG\n",
    "    temp_stats['ops'] = temp_stats['obp'] + temp_stats['slg']\n",
    "\n",
    "    temp_stats = temp_stats.sort_values(by=['b_pa', 'ba'], ascending=[False, False])\n",
    "    temp_stats = temp_stats.drop(columns=['b_ab', 'b_h', 'obp', 'slg'])\n",
    "    temp_stats = temp_stats.to_numpy()\n",
    "\n",
    "    padding = max_players - temp_stats.shape[0]\n",
    "    if padding > 0:\n",
    "        temp_stats = np.pad(temp_stats, ((0, padding), (0, 0)), mode='constant')\n",
    "    elif padding < 0:\n",
    "        temp_stats = temp_stats[:max_players,]\n",
    "    temp_stats = np.reshape(temp_stats, (1, max_players, num_features))\n",
    "\n",
    "    all_seasons = np.vstack((all_seasons, temp_stats))\n",
    "\n",
    "with open('all_batting_data.pkl', 'wb') as file:\n",
    "    pickle.dump(all_seasons, file)\n",
    "\n",
    "print(\"Data saved to 'all_batting_data.pkl'\")"
   ]
  },
  {
   "cell_type": "code",
   "execution_count": 5,
   "metadata": {},
   "outputs": [
    {
     "data": {
      "text/plain": [
       "(53, 19)"
      ]
     },
     "execution_count": 5,
     "metadata": {},
     "output_type": "execute_result"
    }
   ],
   "source": [
    "temp_stats.shape"
   ]
  },
  {
   "cell_type": "code",
   "execution_count": null,
   "metadata": {},
   "outputs": [],
   "source": []
  }
 ],
 "metadata": {
  "kernelspec": {
   "display_name": "stat486venv",
   "language": "python",
   "name": "python3"
  },
  "language_info": {
   "codemirror_mode": {
    "name": "ipython",
    "version": 3
   },
   "file_extension": ".py",
   "mimetype": "text/x-python",
   "name": "python",
   "nbconvert_exporter": "python",
   "pygments_lexer": "ipython3",
   "version": "3.11.5"
  }
 },
 "nbformat": 4,
 "nbformat_minor": 2
}
