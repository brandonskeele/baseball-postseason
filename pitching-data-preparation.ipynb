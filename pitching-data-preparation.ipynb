{
 "cells": [
  {
   "cell_type": "code",
   "execution_count": 48,
   "metadata": {},
   "outputs": [],
   "source": [
    "# Import Packages\n",
    "\n",
    "import pandas as pd\n",
    "import numpy as np\n",
    "import os\n",
    "import pickle"
   ]
  },
  {
   "cell_type": "code",
   "execution_count": 49,
   "metadata": {},
   "outputs": [],
   "source": [
    "### Read in all pitching data\n",
    "\n",
    "teams = pd.read_csv('playoff_teams.csv')\n",
    "all_pitching_stats = pd.read_csv('baseball_data/pitching.csv')"
   ]
  },
  {
   "cell_type": "code",
   "execution_count": 61,
   "metadata": {},
   "outputs": [],
   "source": [
    "### Select features\n",
    "\n",
    "# Features used before feature engineering\n",
    "pitching_features = ['id', 'p_ipouts', 'p_h', 'p_d', 'p_t', 'p_hr', 'p_r', 'p_er', 'p_w', 'p_k', 'p_hbp', 'p_wp', 'p_bk', 'p_sh', 'p_sf', 'wp', 'lp', 'save', 'p_cg']\n",
    "# Final feature selection\n",
    "pitching_features_final = ['p_d', 'p_t', 'p_hr', 'p_r', 'p_k', 'p_hbp', 'p_wp', 'p_bk', 'psh', 'p_sf', 'wp', 'lp', 'save', 'p_cg', 'whip', 'era']"
   ]
  },
  {
   "cell_type": "code",
   "execution_count": null,
   "metadata": {},
   "outputs": [],
   "source": [
    "### Loop through all playoff teams and save data\n",
    "\n",
    "# Define number of players in list\n",
    "max_players = 25\n",
    "num_features = len(pitching_features_final)\n",
    "\n",
    "all_seasons = np.empty([0, max_players, num_features])\n",
    "\n",
    "## Start loop\n",
    "for index, team in teams.iterrows():\n",
    "    print(f\"Index: {index}, Year: {team['Year']} Team: {team['Team']}, Level of Success: {team['Level of Success']}\")\n",
    "    # Filter all stats to appropriate team\n",
    "    temp_stats = all_pitching_stats[all_pitching_stats['team'] == team['Team']][all_pitching_stats['date'].astype(str).str.startswith(str(team['Year']))][all_pitching_stats['gametype'] == 'regular'][pitching_features]\n",
    "    temp_stats = temp_stats.groupby(by='id').sum()\n",
    "\n",
    "    ## Feature engineering\n",
    "    # (Total number of walks + Total number of hits) / Total number of innings pitched\n",
    "    temp_stats['whip'] = (temp_stats['p_w'] + temp_stats['p_h']) / temp_stats['p_ipouts']\n",
    "    # (Earned Runs / Innings Pitched) x 9\n",
    "    temp_stats['era'] = (temp_stats['p_er'] / temp_stats['p_ipouts']) * 9\n",
    "\n",
    "    # Sort players by total number of outs pitched and then by era\n",
    "    # This will palce the most-used players at the top of the list and then the best performing players on top in case of a tie.\n",
    "    temp_stats = temp_stats.sort_values(by=['p_ipouts', 'era'], ascending=[False, True])\n",
    "    temp_stats = temp_stats.drop(columns=['p_ipouts', 'p_er', 'p_h', 'p_w']) \n",
    "    temp_stats = temp_stats.to_numpy()\n",
    "\n",
    "    # Adding padding to teams which used fewer than max_players for batting throughout the season\n",
    "    padding = max_players - temp_stats.shape[0]\n",
    "    if padding > 0:\n",
    "        temp_stats = np.pad(temp_stats, ((0, padding), (0, 0)), mode='constant')\n",
    "    elif padding < 0:\n",
    "        temp_stats = temp_stats[:max_players,]\n",
    "    temp_stats = np.reshape(temp_stats, (1, max_players, num_features))\n",
    "\n",
    "    all_seasons = np.vstack((all_seasons, temp_stats))\n",
    "\n",
    "# Save data to .pkl file\n",
    "with open('all_pitching_data.pkl', 'wb') as file:\n",
    "    pickle.dump(all_seasons, file)\n",
    "\n",
    "print(\"Data saved to 'all_pitching_data.pkl'\")"
   ]
  },
  {
   "cell_type": "code",
   "execution_count": null,
   "metadata": {},
   "outputs": [],
   "source": []
  }
 ],
 "metadata": {
  "kernelspec": {
   "display_name": "stat486venv",
   "language": "python",
   "name": "python3"
  },
  "language_info": {
   "codemirror_mode": {
    "name": "ipython",
    "version": 3
   },
   "file_extension": ".py",
   "mimetype": "text/x-python",
   "name": "python",
   "nbconvert_exporter": "python",
   "pygments_lexer": "ipython3",
   "version": "3.11.5"
  }
 },
 "nbformat": 4,
 "nbformat_minor": 2
}
