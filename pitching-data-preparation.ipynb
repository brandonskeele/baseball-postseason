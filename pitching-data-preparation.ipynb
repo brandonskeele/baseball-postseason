{
 "cells": [
  {
   "cell_type": "code",
   "execution_count": 48,
   "metadata": {},
   "outputs": [],
   "source": [
    "# Import Packages\n",
    "\n",
    "import pandas as pd\n",
    "import numpy as np\n",
    "import os\n",
    "import pickle"
   ]
  },
  {
   "cell_type": "code",
   "execution_count": 49,
   "metadata": {},
   "outputs": [],
   "source": [
    "teams = pd.read_csv('playoff_teams.csv')\n",
    "all_pitching_stats = pd.read_csv('baseball_data/pitching.csv')"
   ]
  },
  {
   "cell_type": "code",
   "execution_count": 61,
   "metadata": {},
   "outputs": [],
   "source": [
    "pitching_features = ['id', 'p_ipouts', 'p_h', 'p_d', 'p_t', 'p_hr', 'p_r', 'p_er', 'p_w', 'p_k', 'p_hbp', 'p_wp', 'p_bk', 'p_sh', 'p_sf', 'wp', 'lp', 'save', 'p_cg']\n",
    "pitching_features_final = ['p_d', 'p_t', 'p_hr', 'p_r', 'p_k', 'p_hbp', 'p_wp', 'p_bk', 'psh', 'p_sf', 'wp', 'lp', 'save', 'p_cg', 'whip', 'era']"
   ]
  },
  {
   "cell_type": "code",
   "execution_count": 70,
   "metadata": {},
   "outputs": [
    {
     "name": "stdout",
     "output_type": "stream",
     "text": [
      "Index: 0, Year: 1995 Team: BOS, Level of Success: DS\n"
     ]
    },
    {
     "name": "stderr",
     "output_type": "stream",
     "text": [
      "/var/folders/fh/fzyqqz2s1vzcm3v06kz1h29w0000gp/T/ipykernel_2244/85417958.py:8: UserWarning: Boolean Series key will be reindexed to match DataFrame index.\n",
      "  temp_stats = all_pitching_stats[all_pitching_stats['team'] == team['Team']][all_pitching_stats['date'].astype(str).str.startswith(str(team['Year']))][all_pitching_stats['gametype'] == 'regular'][pitching_features]\n",
      "/var/folders/fh/fzyqqz2s1vzcm3v06kz1h29w0000gp/T/ipykernel_2244/85417958.py:8: UserWarning: Boolean Series key will be reindexed to match DataFrame index.\n",
      "  temp_stats = all_pitching_stats[all_pitching_stats['team'] == team['Team']][all_pitching_stats['date'].astype(str).str.startswith(str(team['Year']))][all_pitching_stats['gametype'] == 'regular'][pitching_features]\n"
     ]
    },
    {
     "name": "stdout",
     "output_type": "stream",
     "text": [
      "Max WHIP: 2.0\n",
      "Min WHIP: 0.3626373626373626\n",
      "Max ERA: 12.0\n",
      "Min ERA: 0.0\n",
      "(26, 16)\n",
      "(1, 25, 16)\n",
      "Max WHIP: 1.4\n",
      "Min WHIP: 0.3626373626373626\n",
      "Max ERA: 6.3\n",
      "Min ERA: 0.0\n",
      "Index: 1, Year: 1995 Team: CLE, Level of Success: WS\n"
     ]
    },
    {
     "name": "stderr",
     "output_type": "stream",
     "text": [
      "/var/folders/fh/fzyqqz2s1vzcm3v06kz1h29w0000gp/T/ipykernel_2244/85417958.py:8: UserWarning: Boolean Series key will be reindexed to match DataFrame index.\n",
      "  temp_stats = all_pitching_stats[all_pitching_stats['team'] == team['Team']][all_pitching_stats['date'].astype(str).str.startswith(str(team['Year']))][all_pitching_stats['gametype'] == 'regular'][pitching_features]\n",
      "/var/folders/fh/fzyqqz2s1vzcm3v06kz1h29w0000gp/T/ipykernel_2244/85417958.py:8: UserWarning: Boolean Series key will be reindexed to match DataFrame index.\n",
      "  temp_stats = all_pitching_stats[all_pitching_stats['team'] == team['Team']][all_pitching_stats['date'].astype(str).str.startswith(str(team['Year']))][all_pitching_stats['gametype'] == 'regular'][pitching_features]\n"
     ]
    },
    {
     "name": "stdout",
     "output_type": "stream",
     "text": [
      "Max WHIP: 0.875\n",
      "Min WHIP: 0.34375\n",
      "Max ERA: 4.5\n",
      "Min ERA: 0.375\n",
      "(20, 16)\n",
      "(1, 25, 16)\n",
      "Max WHIP: 0.875\n",
      "Min WHIP: 0.0\n",
      "Max ERA: 4.5\n",
      "Min ERA: 0.0\n",
      "Index: 2, Year: 1995 Team: SEA, Level of Success: LS\n"
     ]
    },
    {
     "name": "stderr",
     "output_type": "stream",
     "text": [
      "/var/folders/fh/fzyqqz2s1vzcm3v06kz1h29w0000gp/T/ipykernel_2244/85417958.py:8: UserWarning: Boolean Series key will be reindexed to match DataFrame index.\n",
      "  temp_stats = all_pitching_stats[all_pitching_stats['team'] == team['Team']][all_pitching_stats['date'].astype(str).str.startswith(str(team['Year']))][all_pitching_stats['gametype'] == 'regular'][pitching_features]\n",
      "/var/folders/fh/fzyqqz2s1vzcm3v06kz1h29w0000gp/T/ipykernel_2244/85417958.py:8: UserWarning: Boolean Series key will be reindexed to match DataFrame index.\n",
      "  temp_stats = all_pitching_stats[all_pitching_stats['team'] == team['Team']][all_pitching_stats['date'].astype(str).str.startswith(str(team['Year']))][all_pitching_stats['gametype'] == 'regular'][pitching_features]\n"
     ]
    },
    {
     "name": "stdout",
     "output_type": "stream",
     "text": [
      "Max WHIP: 0.9375\n",
      "Min WHIP: 0.2727272727272727\n",
      "Max ERA: 5.3999999999999995\n",
      "Min ERA: 0.0\n",
      "(24, 16)\n",
      "(1, 25, 16)\n",
      "Max WHIP: 0.9375\n",
      "Min WHIP: 0.0\n",
      "Max ERA: 5.3999999999999995\n",
      "Min ERA: 0.0\n",
      "Index: 3, Year: 1995 Team: NYA, Level of Success: DS\n"
     ]
    },
    {
     "name": "stderr",
     "output_type": "stream",
     "text": [
      "/var/folders/fh/fzyqqz2s1vzcm3v06kz1h29w0000gp/T/ipykernel_2244/85417958.py:8: UserWarning: Boolean Series key will be reindexed to match DataFrame index.\n",
      "  temp_stats = all_pitching_stats[all_pitching_stats['team'] == team['Team']][all_pitching_stats['date'].astype(str).str.startswith(str(team['Year']))][all_pitching_stats['gametype'] == 'regular'][pitching_features]\n",
      "/var/folders/fh/fzyqqz2s1vzcm3v06kz1h29w0000gp/T/ipykernel_2244/85417958.py:8: UserWarning: Boolean Series key will be reindexed to match DataFrame index.\n",
      "  temp_stats = all_pitching_stats[all_pitching_stats['team'] == team['Team']][all_pitching_stats['date'].astype(str).str.startswith(str(team['Year']))][all_pitching_stats['gametype'] == 'regular'][pitching_features]\n"
     ]
    },
    {
     "name": "stdout",
     "output_type": "stream",
     "text": [
      "Max WHIP: 1.0\n",
      "Min WHIP: 0.29347826086956524\n",
      "Max ERA: 9.0\n",
      "Min ERA: 0.6923076923076923\n",
      "(20, 16)\n",
      "(1, 25, 16)\n",
      "Max WHIP: 1.0\n",
      "Min WHIP: 0.0\n",
      "Max ERA: 9.0\n",
      "Min ERA: 0.0\n",
      "Index: 4, Year: 1995 Team: ATL, Level of Success: C\n"
     ]
    },
    {
     "name": "stderr",
     "output_type": "stream",
     "text": [
      "/var/folders/fh/fzyqqz2s1vzcm3v06kz1h29w0000gp/T/ipykernel_2244/85417958.py:8: UserWarning: Boolean Series key will be reindexed to match DataFrame index.\n",
      "  temp_stats = all_pitching_stats[all_pitching_stats['team'] == team['Team']][all_pitching_stats['date'].astype(str).str.startswith(str(team['Year']))][all_pitching_stats['gametype'] == 'regular'][pitching_features]\n",
      "/var/folders/fh/fzyqqz2s1vzcm3v06kz1h29w0000gp/T/ipykernel_2244/85417958.py:8: UserWarning: Boolean Series key will be reindexed to match DataFrame index.\n",
      "  temp_stats = all_pitching_stats[all_pitching_stats['team'] == team['Team']][all_pitching_stats['date'].astype(str).str.startswith(str(team['Year']))][all_pitching_stats['gametype'] == 'regular'][pitching_features]\n"
     ]
    },
    {
     "name": "stdout",
     "output_type": "stream",
     "text": [
      "Max WHIP: 0.95\n",
      "Min WHIP: 0.2702702702702703\n",
      "Max ERA: 3.75\n",
      "Min ERA: 0.5437201907790143\n",
      "(20, 16)\n",
      "(1, 25, 16)\n",
      "Max WHIP: 0.95\n",
      "Min WHIP: 0.0\n",
      "Max ERA: 3.75\n",
      "Min ERA: 0.0\n",
      "Index: 5, Year: 1995 Team: CIN, Level of Success: LS\n"
     ]
    },
    {
     "name": "stderr",
     "output_type": "stream",
     "text": [
      "/var/folders/fh/fzyqqz2s1vzcm3v06kz1h29w0000gp/T/ipykernel_2244/85417958.py:8: UserWarning: Boolean Series key will be reindexed to match DataFrame index.\n",
      "  temp_stats = all_pitching_stats[all_pitching_stats['team'] == team['Team']][all_pitching_stats['date'].astype(str).str.startswith(str(team['Year']))][all_pitching_stats['gametype'] == 'regular'][pitching_features]\n",
      "/var/folders/fh/fzyqqz2s1vzcm3v06kz1h29w0000gp/T/ipykernel_2244/85417958.py:8: UserWarning: Boolean Series key will be reindexed to match DataFrame index.\n",
      "  temp_stats = all_pitching_stats[all_pitching_stats['team'] == team['Team']][all_pitching_stats['date'].astype(str).str.startswith(str(team['Year']))][all_pitching_stats['gametype'] == 'regular'][pitching_features]\n"
     ]
    },
    {
     "name": "stdout",
     "output_type": "stream",
     "text": [
      "Max WHIP: 1.6666666666666667\n",
      "Min WHIP: 0.3459715639810427\n",
      "Max ERA: 7.2\n",
      "Min ERA: 0.45\n",
      "(24, 16)\n",
      "(1, 25, 16)\n",
      "Max WHIP: 1.6666666666666667\n",
      "Min WHIP: 0.0\n",
      "Max ERA: 7.2\n",
      "Min ERA: 0.0\n",
      "Index: 6, Year: 1995 Team: LAN, Level of Success: DS\n"
     ]
    },
    {
     "name": "stderr",
     "output_type": "stream",
     "text": [
      "/var/folders/fh/fzyqqz2s1vzcm3v06kz1h29w0000gp/T/ipykernel_2244/85417958.py:8: UserWarning: Boolean Series key will be reindexed to match DataFrame index.\n",
      "  temp_stats = all_pitching_stats[all_pitching_stats['team'] == team['Team']][all_pitching_stats['date'].astype(str).str.startswith(str(team['Year']))][all_pitching_stats['gametype'] == 'regular'][pitching_features]\n",
      "/var/folders/fh/fzyqqz2s1vzcm3v06kz1h29w0000gp/T/ipykernel_2244/85417958.py:8: UserWarning: Boolean Series key will be reindexed to match DataFrame index.\n",
      "  temp_stats = all_pitching_stats[all_pitching_stats['team'] == team['Team']][all_pitching_stats['date'].astype(str).str.startswith(str(team['Year']))][all_pitching_stats['gametype'] == 'regular'][pitching_features]\n"
     ]
    },
    {
     "name": "stdout",
     "output_type": "stream",
     "text": [
      "Max WHIP: 0.7333333333333333\n",
      "Min WHIP: 0.3333333333333333\n",
      "Max ERA: 4.2\n",
      "Min ERA: 0.6737967914438502\n",
      "(21, 16)\n",
      "(1, 25, 16)\n",
      "Max WHIP: 0.7333333333333333\n",
      "Min WHIP: 0.0\n",
      "Max ERA: 4.2\n",
      "Min ERA: 0.0\n",
      "Index: 7, Year: 1995 Team: COL, Level of Success: DS\n"
     ]
    },
    {
     "name": "stderr",
     "output_type": "stream",
     "text": [
      "/var/folders/fh/fzyqqz2s1vzcm3v06kz1h29w0000gp/T/ipykernel_2244/85417958.py:8: UserWarning: Boolean Series key will be reindexed to match DataFrame index.\n",
      "  temp_stats = all_pitching_stats[all_pitching_stats['team'] == team['Team']][all_pitching_stats['date'].astype(str).str.startswith(str(team['Year']))][all_pitching_stats['gametype'] == 'regular'][pitching_features]\n",
      "/var/folders/fh/fzyqqz2s1vzcm3v06kz1h29w0000gp/T/ipykernel_2244/85417958.py:8: UserWarning: Boolean Series key will be reindexed to match DataFrame index.\n",
      "  temp_stats = all_pitching_stats[all_pitching_stats['team'] == team['Team']][all_pitching_stats['date'].astype(str).str.startswith(str(team['Year']))][all_pitching_stats['gametype'] == 'regular'][pitching_features]\n"
     ]
    },
    {
     "name": "stdout",
     "output_type": "stream",
     "text": [
      "Max WHIP: 1.0769230769230769\n",
      "Min WHIP: 0.3253968253968254\n",
      "Max ERA: 6.923076923076923\n",
      "Min ERA: 0.7058823529411764\n",
      "(20, 16)\n",
      "(1, 25, 16)\n",
      "Max WHIP: 1.0769230769230769\n",
      "Min WHIP: 0.0\n",
      "Max ERA: 6.923076923076923\n",
      "Min ERA: 0.0\n",
      "Index: 8, Year: 1996 Team: NYA, Level of Success: C\n"
     ]
    },
    {
     "name": "stderr",
     "output_type": "stream",
     "text": [
      "/var/folders/fh/fzyqqz2s1vzcm3v06kz1h29w0000gp/T/ipykernel_2244/85417958.py:8: UserWarning: Boolean Series key will be reindexed to match DataFrame index.\n",
      "  temp_stats = all_pitching_stats[all_pitching_stats['team'] == team['Team']][all_pitching_stats['date'].astype(str).str.startswith(str(team['Year']))][all_pitching_stats['gametype'] == 'regular'][pitching_features]\n",
      "/var/folders/fh/fzyqqz2s1vzcm3v06kz1h29w0000gp/T/ipykernel_2244/85417958.py:8: UserWarning: Boolean Series key will be reindexed to match DataFrame index.\n",
      "  temp_stats = all_pitching_stats[all_pitching_stats['team'] == team['Team']][all_pitching_stats['date'].astype(str).str.startswith(str(team['Year']))][all_pitching_stats['gametype'] == 'regular'][pitching_features]\n"
     ]
    },
    {
     "name": "stdout",
     "output_type": "stream",
     "text": [
      "Max WHIP: 1.0\n",
      "Min WHIP: 0.33126934984520123\n",
      "Max ERA: 5.8235294117647065\n",
      "Min ERA: 0.0\n",
      "(24, 16)\n",
      "(1, 25, 16)\n",
      "Max WHIP: 1.0\n",
      "Min WHIP: 0.0\n",
      "Max ERA: 5.8235294117647065\n",
      "Min ERA: 0.0\n",
      "Index: 9, Year: 1996 Team: CLE, Level of Success: DS\n"
     ]
    },
    {
     "name": "stderr",
     "output_type": "stream",
     "text": [
      "/var/folders/fh/fzyqqz2s1vzcm3v06kz1h29w0000gp/T/ipykernel_2244/85417958.py:8: UserWarning: Boolean Series key will be reindexed to match DataFrame index.\n",
      "  temp_stats = all_pitching_stats[all_pitching_stats['team'] == team['Team']][all_pitching_stats['date'].astype(str).str.startswith(str(team['Year']))][all_pitching_stats['gametype'] == 'regular'][pitching_features]\n",
      "/var/folders/fh/fzyqqz2s1vzcm3v06kz1h29w0000gp/T/ipykernel_2244/85417958.py:8: UserWarning: Boolean Series key will be reindexed to match DataFrame index.\n",
      "  temp_stats = all_pitching_stats[all_pitching_stats['team'] == team['Team']][all_pitching_stats['date'].astype(str).str.startswith(str(team['Year']))][all_pitching_stats['gametype'] == 'regular'][pitching_features]\n"
     ]
    },
    {
     "name": "stdout",
     "output_type": "stream",
     "text": [
      "Max WHIP: 1.4\n",
      "Min WHIP: 0.37142857142857144\n",
      "Max ERA: 3.6\n",
      "Min ERA: 0.8111587982832619\n",
      "(18, 16)\n",
      "(1, 25, 16)\n",
      "Max WHIP: 1.4\n",
      "Min WHIP: 0.0\n",
      "Max ERA: 3.6\n",
      "Min ERA: 0.0\n",
      "Index: 10, Year: 1996 Team: TEX, Level of Success: DS\n"
     ]
    },
    {
     "name": "stderr",
     "output_type": "stream",
     "text": [
      "/var/folders/fh/fzyqqz2s1vzcm3v06kz1h29w0000gp/T/ipykernel_2244/85417958.py:8: UserWarning: Boolean Series key will be reindexed to match DataFrame index.\n",
      "  temp_stats = all_pitching_stats[all_pitching_stats['team'] == team['Team']][all_pitching_stats['date'].astype(str).str.startswith(str(team['Year']))][all_pitching_stats['gametype'] == 'regular'][pitching_features]\n",
      "/var/folders/fh/fzyqqz2s1vzcm3v06kz1h29w0000gp/T/ipykernel_2244/85417958.py:8: UserWarning: Boolean Series key will be reindexed to match DataFrame index.\n",
      "  temp_stats = all_pitching_stats[all_pitching_stats['team'] == team['Team']][all_pitching_stats['date'].astype(str).str.startswith(str(team['Year']))][all_pitching_stats['gametype'] == 'regular'][pitching_features]\n"
     ]
    },
    {
     "name": "stdout",
     "output_type": "stream",
     "text": [
      "Max WHIP: 0.75\n",
      "Min WHIP: 0.3582089552238806\n",
      "Max ERA: 2.5081967213114753\n",
      "Min ERA: 0.0\n",
      "(17, 16)\n",
      "(1, 25, 16)\n",
      "Max WHIP: 0.75\n",
      "Min WHIP: 0.0\n",
      "Max ERA: 2.5081967213114753\n",
      "Min ERA: 0.0\n",
      "Index: 11, Year: 1996 Team: BAL, Level of Success: LS\n"
     ]
    },
    {
     "name": "stderr",
     "output_type": "stream",
     "text": [
      "/var/folders/fh/fzyqqz2s1vzcm3v06kz1h29w0000gp/T/ipykernel_2244/85417958.py:8: UserWarning: Boolean Series key will be reindexed to match DataFrame index.\n",
      "  temp_stats = all_pitching_stats[all_pitching_stats['team'] == team['Team']][all_pitching_stats['date'].astype(str).str.startswith(str(team['Year']))][all_pitching_stats['gametype'] == 'regular'][pitching_features]\n",
      "/var/folders/fh/fzyqqz2s1vzcm3v06kz1h29w0000gp/T/ipykernel_2244/85417958.py:8: UserWarning: Boolean Series key will be reindexed to match DataFrame index.\n",
      "  temp_stats = all_pitching_stats[all_pitching_stats['team'] == team['Team']][all_pitching_stats['date'].astype(str).str.startswith(str(team['Year']))][all_pitching_stats['gametype'] == 'regular'][pitching_features]\n"
     ]
    },
    {
     "name": "stdout",
     "output_type": "stream",
     "text": [
      "Max WHIP: 2.5\n",
      "Min WHIP: 0.3023255813953488\n",
      "Max ERA: 22.5\n",
      "Min ERA: 0.7682926829268293\n",
      "(23, 16)\n",
      "(1, 25, 16)\n",
      "Max WHIP: 2.5\n",
      "Min WHIP: 0.0\n",
      "Max ERA: 22.5\n",
      "Min ERA: 0.0\n",
      "Index: 12, Year: 1996 Team: ATL, Level of Success: WS\n"
     ]
    },
    {
     "name": "stderr",
     "output_type": "stream",
     "text": [
      "/var/folders/fh/fzyqqz2s1vzcm3v06kz1h29w0000gp/T/ipykernel_2244/85417958.py:8: UserWarning: Boolean Series key will be reindexed to match DataFrame index.\n",
      "  temp_stats = all_pitching_stats[all_pitching_stats['team'] == team['Team']][all_pitching_stats['date'].astype(str).str.startswith(str(team['Year']))][all_pitching_stats['gametype'] == 'regular'][pitching_features]\n",
      "/var/folders/fh/fzyqqz2s1vzcm3v06kz1h29w0000gp/T/ipykernel_2244/85417958.py:8: UserWarning: Boolean Series key will be reindexed to match DataFrame index.\n",
      "  temp_stats = all_pitching_stats[all_pitching_stats['team'] == team['Team']][all_pitching_stats['date'].astype(str).str.startswith(str(team['Year']))][all_pitching_stats['gametype'] == 'regular'][pitching_features]\n"
     ]
    },
    {
     "name": "stdout",
     "output_type": "stream",
     "text": [
      "Max WHIP: 0.5897435897435898\n",
      "Min WHIP: 0.2777777777777778\n",
      "Max ERA: 2.440677966101695\n",
      "Min ERA: 0.5\n",
      "(18, 16)\n",
      "(1, 25, 16)\n",
      "Max WHIP: 0.5897435897435898\n",
      "Min WHIP: 0.0\n",
      "Max ERA: 2.440677966101695\n",
      "Min ERA: 0.0\n",
      "Index: 13, Year: 1996 Team: SLN, Level of Success: LS\n"
     ]
    },
    {
     "name": "stderr",
     "output_type": "stream",
     "text": [
      "/var/folders/fh/fzyqqz2s1vzcm3v06kz1h29w0000gp/T/ipykernel_2244/85417958.py:8: UserWarning: Boolean Series key will be reindexed to match DataFrame index.\n",
      "  temp_stats = all_pitching_stats[all_pitching_stats['team'] == team['Team']][all_pitching_stats['date'].astype(str).str.startswith(str(team['Year']))][all_pitching_stats['gametype'] == 'regular'][pitching_features]\n",
      "/var/folders/fh/fzyqqz2s1vzcm3v06kz1h29w0000gp/T/ipykernel_2244/85417958.py:8: UserWarning: Boolean Series key will be reindexed to match DataFrame index.\n",
      "  temp_stats = all_pitching_stats[all_pitching_stats['team'] == team['Team']][all_pitching_stats['date'].astype(str).str.startswith(str(team['Year']))][all_pitching_stats['gametype'] == 'regular'][pitching_features]\n"
     ]
    },
    {
     "name": "stdout",
     "output_type": "stream",
     "text": [
      "Max WHIP: 1.1111111111111112\n",
      "Min WHIP: 0.2222222222222222\n",
      "Max ERA: 6.0\n",
      "Min ERA: 0.4\n",
      "(18, 16)\n",
      "(1, 25, 16)\n",
      "Max WHIP: 1.1111111111111112\n",
      "Min WHIP: 0.0\n",
      "Max ERA: 6.0\n",
      "Min ERA: 0.0\n",
      "Index: 14, Year: 1996 Team: SDN, Level of Success: DS\n"
     ]
    },
    {
     "name": "stderr",
     "output_type": "stream",
     "text": [
      "/var/folders/fh/fzyqqz2s1vzcm3v06kz1h29w0000gp/T/ipykernel_2244/85417958.py:8: UserWarning: Boolean Series key will be reindexed to match DataFrame index.\n",
      "  temp_stats = all_pitching_stats[all_pitching_stats['team'] == team['Team']][all_pitching_stats['date'].astype(str).str.startswith(str(team['Year']))][all_pitching_stats['gametype'] == 'regular'][pitching_features]\n",
      "/var/folders/fh/fzyqqz2s1vzcm3v06kz1h29w0000gp/T/ipykernel_2244/85417958.py:8: UserWarning: Boolean Series key will be reindexed to match DataFrame index.\n",
      "  temp_stats = all_pitching_stats[all_pitching_stats['team'] == team['Team']][all_pitching_stats['date'].astype(str).str.startswith(str(team['Year']))][all_pitching_stats['gametype'] == 'regular'][pitching_features]\n"
     ]
    },
    {
     "name": "stdout",
     "output_type": "stream",
     "text": [
      "Max WHIP: 1.5\n",
      "Min WHIP: 0.3068181818181818\n",
      "Max ERA: 2.8536585365853657\n",
      "Min ERA: 0.0\n",
      "(19, 16)\n",
      "(1, 25, 16)\n",
      "Max WHIP: 1.5\n",
      "Min WHIP: 0.0\n",
      "Max ERA: 2.8536585365853657\n",
      "Min ERA: 0.0\n",
      "Index: 15, Year: 1996 Team: LAN, Level of Success: DS\n"
     ]
    },
    {
     "name": "stderr",
     "output_type": "stream",
     "text": [
      "/var/folders/fh/fzyqqz2s1vzcm3v06kz1h29w0000gp/T/ipykernel_2244/85417958.py:8: UserWarning: Boolean Series key will be reindexed to match DataFrame index.\n",
      "  temp_stats = all_pitching_stats[all_pitching_stats['team'] == team['Team']][all_pitching_stats['date'].astype(str).str.startswith(str(team['Year']))][all_pitching_stats['gametype'] == 'regular'][pitching_features]\n",
      "/var/folders/fh/fzyqqz2s1vzcm3v06kz1h29w0000gp/T/ipykernel_2244/85417958.py:8: UserWarning: Boolean Series key will be reindexed to match DataFrame index.\n",
      "  temp_stats = all_pitching_stats[all_pitching_stats['team'] == team['Team']][all_pitching_stats['date'].astype(str).str.startswith(str(team['Year']))][all_pitching_stats['gametype'] == 'regular'][pitching_features]\n"
     ]
    },
    {
     "name": "stdout",
     "output_type": "stream",
     "text": [
      "Max WHIP: 0.875\n",
      "Min WHIP: 0.38492063492063494\n",
      "Max ERA: 2.25\n",
      "Min ERA: 0.7397260273972602\n",
      "(15, 16)\n",
      "(1, 25, 16)\n",
      "Max WHIP: 0.875\n",
      "Min WHIP: 0.0\n",
      "Max ERA: 2.25\n",
      "Min ERA: 0.0\n",
      "Index: 16, Year: 1997 Team: BAL, Level of Success: LS\n"
     ]
    },
    {
     "name": "stderr",
     "output_type": "stream",
     "text": [
      "/var/folders/fh/fzyqqz2s1vzcm3v06kz1h29w0000gp/T/ipykernel_2244/85417958.py:8: UserWarning: Boolean Series key will be reindexed to match DataFrame index.\n",
      "  temp_stats = all_pitching_stats[all_pitching_stats['team'] == team['Team']][all_pitching_stats['date'].astype(str).str.startswith(str(team['Year']))][all_pitching_stats['gametype'] == 'regular'][pitching_features]\n",
      "/var/folders/fh/fzyqqz2s1vzcm3v06kz1h29w0000gp/T/ipykernel_2244/85417958.py:8: UserWarning: Boolean Series key will be reindexed to match DataFrame index.\n",
      "  temp_stats = all_pitching_stats[all_pitching_stats['team'] == team['Team']][all_pitching_stats['date'].astype(str).str.startswith(str(team['Year']))][all_pitching_stats['gametype'] == 'regular'][pitching_features]\n"
     ]
    },
    {
     "name": "stdout",
     "output_type": "stream",
     "text": [
      "Max WHIP: 0.9310344827586207\n",
      "Min WHIP: 0.3531468531468531\n",
      "Max ERA: 5.275862068965517\n",
      "Min ERA: 0.5027932960893855\n",
      "(17, 16)\n",
      "(1, 25, 16)\n",
      "Max WHIP: 0.9310344827586207\n",
      "Min WHIP: 0.0\n",
      "Max ERA: 5.275862068965517\n",
      "Min ERA: 0.0\n",
      "Index: 17, Year: 1997 Team: CLE, Level of Success: WS\n"
     ]
    },
    {
     "name": "stderr",
     "output_type": "stream",
     "text": [
      "/var/folders/fh/fzyqqz2s1vzcm3v06kz1h29w0000gp/T/ipykernel_2244/85417958.py:8: UserWarning: Boolean Series key will be reindexed to match DataFrame index.\n",
      "  temp_stats = all_pitching_stats[all_pitching_stats['team'] == team['Team']][all_pitching_stats['date'].astype(str).str.startswith(str(team['Year']))][all_pitching_stats['gametype'] == 'regular'][pitching_features]\n",
      "/var/folders/fh/fzyqqz2s1vzcm3v06kz1h29w0000gp/T/ipykernel_2244/85417958.py:8: UserWarning: Boolean Series key will be reindexed to match DataFrame index.\n",
      "  temp_stats = all_pitching_stats[all_pitching_stats['team'] == team['Team']][all_pitching_stats['date'].astype(str).str.startswith(str(team['Year']))][all_pitching_stats['gametype'] == 'regular'][pitching_features]\n"
     ]
    },
    {
     "name": "stdout",
     "output_type": "stream",
     "text": [
      "Max WHIP: 0.7058823529411765\n",
      "Min WHIP: 0.39111111111111113\n",
      "Max ERA: 2.5200000000000005\n",
      "Min ERA: 0.8016194331983805\n",
      "(21, 16)\n",
      "(1, 25, 16)\n",
      "Max WHIP: 0.7058823529411765\n",
      "Min WHIP: 0.0\n",
      "Max ERA: 2.5200000000000005\n",
      "Min ERA: 0.0\n",
      "Index: 18, Year: 1997 Team: SEA, Level of Success: DS\n"
     ]
    },
    {
     "name": "stderr",
     "output_type": "stream",
     "text": [
      "/var/folders/fh/fzyqqz2s1vzcm3v06kz1h29w0000gp/T/ipykernel_2244/85417958.py:8: UserWarning: Boolean Series key will be reindexed to match DataFrame index.\n",
      "  temp_stats = all_pitching_stats[all_pitching_stats['team'] == team['Team']][all_pitching_stats['date'].astype(str).str.startswith(str(team['Year']))][all_pitching_stats['gametype'] == 'regular'][pitching_features]\n",
      "/var/folders/fh/fzyqqz2s1vzcm3v06kz1h29w0000gp/T/ipykernel_2244/85417958.py:8: UserWarning: Boolean Series key will be reindexed to match DataFrame index.\n",
      "  temp_stats = all_pitching_stats[all_pitching_stats['team'] == team['Team']][all_pitching_stats['date'].astype(str).str.startswith(str(team['Year']))][all_pitching_stats['gametype'] == 'regular'][pitching_features]\n"
     ]
    },
    {
     "name": "stdout",
     "output_type": "stream",
     "text": [
      "Max WHIP: 1.0\n",
      "Min WHIP: 0.29411764705882354\n",
      "Max ERA: 9.0\n",
      "Min ERA: 0.7605633802816901\n",
      "(24, 16)\n",
      "(1, 25, 16)\n",
      "Max WHIP: 1.0\n",
      "Min WHIP: 0.0\n",
      "Max ERA: 9.0\n",
      "Min ERA: 0.0\n",
      "Index: 19, Year: 1997 Team: NYA, Level of Success: DS\n"
     ]
    },
    {
     "name": "stderr",
     "output_type": "stream",
     "text": [
      "/var/folders/fh/fzyqqz2s1vzcm3v06kz1h29w0000gp/T/ipykernel_2244/85417958.py:8: UserWarning: Boolean Series key will be reindexed to match DataFrame index.\n",
      "  temp_stats = all_pitching_stats[all_pitching_stats['team'] == team['Team']][all_pitching_stats['date'].astype(str).str.startswith(str(team['Year']))][all_pitching_stats['gametype'] == 'regular'][pitching_features]\n",
      "/var/folders/fh/fzyqqz2s1vzcm3v06kz1h29w0000gp/T/ipykernel_2244/85417958.py:8: UserWarning: Boolean Series key will be reindexed to match DataFrame index.\n",
      "  temp_stats = all_pitching_stats[all_pitching_stats['team'] == team['Team']][all_pitching_stats['date'].astype(str).str.startswith(str(team['Year']))][all_pitching_stats['gametype'] == 'regular'][pitching_features]\n"
     ]
    },
    {
     "name": "stdout",
     "output_type": "stream",
     "text": [
      "Max WHIP: 1.5714285714285714\n",
      "Min WHIP: 0.3333333333333333\n",
      "Max ERA: 6.428571428571429\n",
      "Min ERA: 0.0\n",
      "(18, 16)\n",
      "(1, 25, 16)\n",
      "Max WHIP: 1.5714285714285714\n",
      "Min WHIP: 0.0\n",
      "Max ERA: 6.428571428571429\n",
      "Min ERA: 0.0\n",
      "Index: 20, Year: 1997 Team: ATL, Level of Success: LS\n"
     ]
    },
    {
     "name": "stderr",
     "output_type": "stream",
     "text": [
      "/var/folders/fh/fzyqqz2s1vzcm3v06kz1h29w0000gp/T/ipykernel_2244/85417958.py:8: UserWarning: Boolean Series key will be reindexed to match DataFrame index.\n",
      "  temp_stats = all_pitching_stats[all_pitching_stats['team'] == team['Team']][all_pitching_stats['date'].astype(str).str.startswith(str(team['Year']))][all_pitching_stats['gametype'] == 'regular'][pitching_features]\n",
      "/var/folders/fh/fzyqqz2s1vzcm3v06kz1h29w0000gp/T/ipykernel_2244/85417958.py:8: UserWarning: Boolean Series key will be reindexed to match DataFrame index.\n",
      "  temp_stats = all_pitching_stats[all_pitching_stats['team'] == team['Team']][all_pitching_stats['date'].astype(str).str.startswith(str(team['Year']))][all_pitching_stats['gametype'] == 'regular'][pitching_features]\n"
     ]
    },
    {
     "name": "stdout",
     "output_type": "stream",
     "text": [
      "Max WHIP: 0.6666666666666666\n",
      "Min WHIP: 0.3151862464183381\n",
      "Max ERA: 1.858695652173913\n",
      "Min ERA: 0.0\n",
      "(17, 16)\n",
      "(1, 25, 16)\n",
      "Max WHIP: 0.6666666666666666\n",
      "Min WHIP: 0.0\n",
      "Max ERA: 1.858695652173913\n",
      "Min ERA: 0.0\n",
      "Index: 21, Year: 1997 Team: HOU, Level of Success: DS\n"
     ]
    },
    {
     "name": "stderr",
     "output_type": "stream",
     "text": [
      "/var/folders/fh/fzyqqz2s1vzcm3v06kz1h29w0000gp/T/ipykernel_2244/85417958.py:8: UserWarning: Boolean Series key will be reindexed to match DataFrame index.\n",
      "  temp_stats = all_pitching_stats[all_pitching_stats['team'] == team['Team']][all_pitching_stats['date'].astype(str).str.startswith(str(team['Year']))][all_pitching_stats['gametype'] == 'regular'][pitching_features]\n",
      "/var/folders/fh/fzyqqz2s1vzcm3v06kz1h29w0000gp/T/ipykernel_2244/85417958.py:8: UserWarning: Boolean Series key will be reindexed to match DataFrame index.\n",
      "  temp_stats = all_pitching_stats[all_pitching_stats['team'] == team['Team']][all_pitching_stats['date'].astype(str).str.startswith(str(team['Year']))][all_pitching_stats['gametype'] == 'regular'][pitching_features]\n"
     ]
    },
    {
     "name": "stdout",
     "output_type": "stream",
     "text": [
      "Max WHIP: 1.0\n",
      "Min WHIP: 0.2608695652173913\n",
      "Max ERA: 4.0\n",
      "Min ERA: 0.3913043478260869\n",
      "(18, 16)\n",
      "(1, 25, 16)\n",
      "Max WHIP: 1.0\n",
      "Min WHIP: 0.0\n",
      "Max ERA: 4.0\n",
      "Min ERA: 0.0\n",
      "Index: 22, Year: 1997 Team: SFN, Level of Success: DS\n"
     ]
    },
    {
     "name": "stderr",
     "output_type": "stream",
     "text": [
      "/var/folders/fh/fzyqqz2s1vzcm3v06kz1h29w0000gp/T/ipykernel_2244/85417958.py:8: UserWarning: Boolean Series key will be reindexed to match DataFrame index.\n",
      "  temp_stats = all_pitching_stats[all_pitching_stats['team'] == team['Team']][all_pitching_stats['date'].astype(str).str.startswith(str(team['Year']))][all_pitching_stats['gametype'] == 'regular'][pitching_features]\n",
      "/var/folders/fh/fzyqqz2s1vzcm3v06kz1h29w0000gp/T/ipykernel_2244/85417958.py:8: UserWarning: Boolean Series key will be reindexed to match DataFrame index.\n",
      "  temp_stats = all_pitching_stats[all_pitching_stats['team'] == team['Team']][all_pitching_stats['date'].astype(str).str.startswith(str(team['Year']))][all_pitching_stats['gametype'] == 'regular'][pitching_features]\n"
     ]
    },
    {
     "name": "stdout",
     "output_type": "stream",
     "text": [
      "Max WHIP: 1.2\n",
      "Min WHIP: 0.35714285714285715\n",
      "Max ERA: 3.774193548387097\n",
      "Min ERA: 0.826530612244898\n",
      "(23, 16)\n",
      "(1, 25, 16)\n",
      "Max WHIP: 1.2\n",
      "Min WHIP: 0.0\n",
      "Max ERA: 3.774193548387097\n",
      "Min ERA: 0.0\n",
      "Index: 23, Year: 1997 Team: FLO, Level of Success: C\n"
     ]
    },
    {
     "name": "stderr",
     "output_type": "stream",
     "text": [
      "/var/folders/fh/fzyqqz2s1vzcm3v06kz1h29w0000gp/T/ipykernel_2244/85417958.py:8: UserWarning: Boolean Series key will be reindexed to match DataFrame index.\n",
      "  temp_stats = all_pitching_stats[all_pitching_stats['team'] == team['Team']][all_pitching_stats['date'].astype(str).str.startswith(str(team['Year']))][all_pitching_stats['gametype'] == 'regular'][pitching_features]\n",
      "/var/folders/fh/fzyqqz2s1vzcm3v06kz1h29w0000gp/T/ipykernel_2244/85417958.py:8: UserWarning: Boolean Series key will be reindexed to match DataFrame index.\n",
      "  temp_stats = all_pitching_stats[all_pitching_stats['team'] == team['Team']][all_pitching_stats['date'].astype(str).str.startswith(str(team['Year']))][all_pitching_stats['gametype'] == 'regular'][pitching_features]\n"
     ]
    },
    {
     "name": "stdout",
     "output_type": "stream",
     "text": [
      "Max WHIP: 1.25\n",
      "Min WHIP: 0.3333333333333333\n",
      "Max ERA: 5.625\n",
      "Min ERA: 0.0\n",
      "(20, 16)\n",
      "(1, 25, 16)\n",
      "Max WHIP: 1.25\n",
      "Min WHIP: 0.0\n",
      "Max ERA: 5.625\n",
      "Min ERA: 0.0\n",
      "Index: 24, Year: 1998 Team: NYA, Level of Success: C\n"
     ]
    },
    {
     "name": "stderr",
     "output_type": "stream",
     "text": [
      "/var/folders/fh/fzyqqz2s1vzcm3v06kz1h29w0000gp/T/ipykernel_2244/85417958.py:8: UserWarning: Boolean Series key will be reindexed to match DataFrame index.\n",
      "  temp_stats = all_pitching_stats[all_pitching_stats['team'] == team['Team']][all_pitching_stats['date'].astype(str).str.startswith(str(team['Year']))][all_pitching_stats['gametype'] == 'regular'][pitching_features]\n",
      "/var/folders/fh/fzyqqz2s1vzcm3v06kz1h29w0000gp/T/ipykernel_2244/85417958.py:8: UserWarning: Boolean Series key will be reindexed to match DataFrame index.\n",
      "  temp_stats = all_pitching_stats[all_pitching_stats['team'] == team['Team']][all_pitching_stats['date'].astype(str).str.startswith(str(team['Year']))][all_pitching_stats['gametype'] == 'regular'][pitching_features]\n"
     ]
    },
    {
     "name": "stdout",
     "output_type": "stream",
     "text": [
      "Max WHIP: 1.0\n",
      "Min WHIP: 0.2831858407079646\n",
      "Max ERA: 4.263157894736842\n",
      "Min ERA: 0.5575221238938053\n",
      "(19, 16)\n",
      "(1, 25, 16)\n",
      "Max WHIP: 1.0\n",
      "Min WHIP: 0.0\n",
      "Max ERA: 4.263157894736842\n",
      "Min ERA: 0.0\n",
      "Index: 25, Year: 1998 Team: CLE, Level of Success: LS\n"
     ]
    },
    {
     "name": "stderr",
     "output_type": "stream",
     "text": [
      "/var/folders/fh/fzyqqz2s1vzcm3v06kz1h29w0000gp/T/ipykernel_2244/85417958.py:8: UserWarning: Boolean Series key will be reindexed to match DataFrame index.\n",
      "  temp_stats = all_pitching_stats[all_pitching_stats['team'] == team['Team']][all_pitching_stats['date'].astype(str).str.startswith(str(team['Year']))][all_pitching_stats['gametype'] == 'regular'][pitching_features]\n",
      "/var/folders/fh/fzyqqz2s1vzcm3v06kz1h29w0000gp/T/ipykernel_2244/85417958.py:8: UserWarning: Boolean Series key will be reindexed to match DataFrame index.\n",
      "  temp_stats = all_pitching_stats[all_pitching_stats['team'] == team['Team']][all_pitching_stats['date'].astype(str).str.startswith(str(team['Year']))][all_pitching_stats['gametype'] == 'regular'][pitching_features]\n"
     ]
    },
    {
     "name": "stdout",
     "output_type": "stream",
     "text": [
      "Max WHIP: 1.0\n",
      "Min WHIP: 0.2916666666666667\n",
      "Max ERA: 4.8\n",
      "Min ERA: 0.515625\n",
      "(23, 16)\n",
      "(1, 25, 16)\n",
      "Max WHIP: 1.0\n",
      "Min WHIP: 0.0\n",
      "Max ERA: 4.8\n",
      "Min ERA: 0.0\n",
      "Index: 26, Year: 1998 Team: TEX, Level of Success: DS\n"
     ]
    },
    {
     "name": "stderr",
     "output_type": "stream",
     "text": [
      "/var/folders/fh/fzyqqz2s1vzcm3v06kz1h29w0000gp/T/ipykernel_2244/85417958.py:8: UserWarning: Boolean Series key will be reindexed to match DataFrame index.\n",
      "  temp_stats = all_pitching_stats[all_pitching_stats['team'] == team['Team']][all_pitching_stats['date'].astype(str).str.startswith(str(team['Year']))][all_pitching_stats['gametype'] == 'regular'][pitching_features]\n",
      "/var/folders/fh/fzyqqz2s1vzcm3v06kz1h29w0000gp/T/ipykernel_2244/85417958.py:8: UserWarning: Boolean Series key will be reindexed to match DataFrame index.\n",
      "  temp_stats = all_pitching_stats[all_pitching_stats['team'] == team['Team']][all_pitching_stats['date'].astype(str).str.startswith(str(team['Year']))][all_pitching_stats['gametype'] == 'regular'][pitching_features]\n"
     ]
    },
    {
     "name": "stdout",
     "output_type": "stream",
     "text": [
      "Max WHIP: 1.5333333333333334\n",
      "Min WHIP: 0.3181818181818182\n",
      "Max ERA: 9.0\n",
      "Min ERA: 0.0\n",
      "(21, 16)\n",
      "(1, 25, 16)\n",
      "Max WHIP: 1.5333333333333334\n",
      "Min WHIP: 0.0\n",
      "Max ERA: 9.0\n",
      "Min ERA: 0.0\n",
      "Index: 27, Year: 1998 Team: BOS, Level of Success: DS\n"
     ]
    },
    {
     "name": "stderr",
     "output_type": "stream",
     "text": [
      "/var/folders/fh/fzyqqz2s1vzcm3v06kz1h29w0000gp/T/ipykernel_2244/85417958.py:8: UserWarning: Boolean Series key will be reindexed to match DataFrame index.\n",
      "  temp_stats = all_pitching_stats[all_pitching_stats['team'] == team['Team']][all_pitching_stats['date'].astype(str).str.startswith(str(team['Year']))][all_pitching_stats['gametype'] == 'regular'][pitching_features]\n",
      "/var/folders/fh/fzyqqz2s1vzcm3v06kz1h29w0000gp/T/ipykernel_2244/85417958.py:8: UserWarning: Boolean Series key will be reindexed to match DataFrame index.\n",
      "  temp_stats = all_pitching_stats[all_pitching_stats['team'] == team['Team']][all_pitching_stats['date'].astype(str).str.startswith(str(team['Year']))][all_pitching_stats['gametype'] == 'regular'][pitching_features]\n"
     ]
    },
    {
     "name": "stdout",
     "output_type": "stream",
     "text": [
      "Max WHIP: 2.3333333333333335\n",
      "Min WHIP: 0.33613445378151263\n",
      "Max ERA: 9.0\n",
      "Min ERA: 0.0\n",
      "(23, 16)\n",
      "(1, 25, 16)\n",
      "Max WHIP: 2.3333333333333335\n",
      "Min WHIP: 0.0\n",
      "Max ERA: 9.0\n",
      "Min ERA: 0.0\n",
      "Index: 28, Year: 1998 Team: ATL, Level of Success: LS\n"
     ]
    },
    {
     "name": "stderr",
     "output_type": "stream",
     "text": [
      "/var/folders/fh/fzyqqz2s1vzcm3v06kz1h29w0000gp/T/ipykernel_2244/85417958.py:8: UserWarning: Boolean Series key will be reindexed to match DataFrame index.\n",
      "  temp_stats = all_pitching_stats[all_pitching_stats['team'] == team['Team']][all_pitching_stats['date'].astype(str).str.startswith(str(team['Year']))][all_pitching_stats['gametype'] == 'regular'][pitching_features]\n",
      "/var/folders/fh/fzyqqz2s1vzcm3v06kz1h29w0000gp/T/ipykernel_2244/85417958.py:8: UserWarning: Boolean Series key will be reindexed to match DataFrame index.\n",
      "  temp_stats = all_pitching_stats[all_pitching_stats['team'] == team['Team']][all_pitching_stats['date'].astype(str).str.startswith(str(team['Year']))][all_pitching_stats['gametype'] == 'regular'][pitching_features]\n"
     ]
    },
    {
     "name": "stdout",
     "output_type": "stream",
     "text": [
      "Max WHIP: 0.8360655737704918\n",
      "Min WHIP: 0.32669322709163345\n",
      "Max ERA: 4.5\n",
      "Min ERA: 0.4615384615384615\n",
      "(19, 16)\n",
      "(1, 25, 16)\n",
      "Max WHIP: 0.8360655737704918\n",
      "Min WHIP: 0.0\n",
      "Max ERA: 4.5\n",
      "Min ERA: 0.0\n",
      "Index: 29, Year: 1998 Team: HOU, Level of Success: DS\n"
     ]
    },
    {
     "name": "stderr",
     "output_type": "stream",
     "text": [
      "/var/folders/fh/fzyqqz2s1vzcm3v06kz1h29w0000gp/T/ipykernel_2244/85417958.py:8: UserWarning: Boolean Series key will be reindexed to match DataFrame index.\n",
      "  temp_stats = all_pitching_stats[all_pitching_stats['team'] == team['Team']][all_pitching_stats['date'].astype(str).str.startswith(str(team['Year']))][all_pitching_stats['gametype'] == 'regular'][pitching_features]\n",
      "/var/folders/fh/fzyqqz2s1vzcm3v06kz1h29w0000gp/T/ipykernel_2244/85417958.py:8: UserWarning: Boolean Series key will be reindexed to match DataFrame index.\n",
      "  temp_stats = all_pitching_stats[all_pitching_stats['team'] == team['Team']][all_pitching_stats['date'].astype(str).str.startswith(str(team['Year']))][all_pitching_stats['gametype'] == 'regular'][pitching_features]\n"
     ]
    },
    {
     "name": "stdout",
     "output_type": "stream",
     "text": [
      "Max WHIP: 1.0\n",
      "Min WHIP: 0.32806324110671936\n",
      "Max ERA: 6.0\n",
      "Min ERA: 0.4268774703557312\n",
      "(18, 16)\n",
      "(1, 25, 16)\n",
      "Max WHIP: 1.0\n",
      "Min WHIP: 0.0\n",
      "Max ERA: 6.0\n",
      "Min ERA: 0.0\n",
      "Index: 30, Year: 1998 Team: SDN, Level of Success: WS\n"
     ]
    },
    {
     "name": "stderr",
     "output_type": "stream",
     "text": [
      "/var/folders/fh/fzyqqz2s1vzcm3v06kz1h29w0000gp/T/ipykernel_2244/85417958.py:8: UserWarning: Boolean Series key will be reindexed to match DataFrame index.\n",
      "  temp_stats = all_pitching_stats[all_pitching_stats['team'] == team['Team']][all_pitching_stats['date'].astype(str).str.startswith(str(team['Year']))][all_pitching_stats['gametype'] == 'regular'][pitching_features]\n",
      "/var/folders/fh/fzyqqz2s1vzcm3v06kz1h29w0000gp/T/ipykernel_2244/85417958.py:8: UserWarning: Boolean Series key will be reindexed to match DataFrame index.\n",
      "  temp_stats = all_pitching_stats[all_pitching_stats['team'] == team['Team']][all_pitching_stats['date'].astype(str).str.startswith(str(team['Year']))][all_pitching_stats['gametype'] == 'regular'][pitching_features]\n"
     ]
    },
    {
     "name": "stdout",
     "output_type": "stream",
     "text": [
      "Max WHIP: 0.875\n",
      "Min WHIP: 0.14285714285714285\n",
      "Max ERA: 3.375\n",
      "Min ERA: 0.0\n",
      "(21, 16)\n",
      "(1, 25, 16)\n",
      "Max WHIP: 0.875\n",
      "Min WHIP: 0.0\n",
      "Max ERA: 3.375\n",
      "Min ERA: 0.0\n",
      "Index: 31, Year: 1998 Team: CHN, Level of Success: DS\n"
     ]
    },
    {
     "name": "stderr",
     "output_type": "stream",
     "text": [
      "/var/folders/fh/fzyqqz2s1vzcm3v06kz1h29w0000gp/T/ipykernel_2244/85417958.py:8: UserWarning: Boolean Series key will be reindexed to match DataFrame index.\n",
      "  temp_stats = all_pitching_stats[all_pitching_stats['team'] == team['Team']][all_pitching_stats['date'].astype(str).str.startswith(str(team['Year']))][all_pitching_stats['gametype'] == 'regular'][pitching_features]\n",
      "/var/folders/fh/fzyqqz2s1vzcm3v06kz1h29w0000gp/T/ipykernel_2244/85417958.py:8: UserWarning: Boolean Series key will be reindexed to match DataFrame index.\n",
      "  temp_stats = all_pitching_stats[all_pitching_stats['team'] == team['Team']][all_pitching_stats['date'].astype(str).str.startswith(str(team['Year']))][all_pitching_stats['gametype'] == 'regular'][pitching_features]\n"
     ]
    },
    {
     "name": "stdout",
     "output_type": "stream",
     "text": [
      "Max WHIP: 1.1666666666666667\n",
      "Min WHIP: 0.25\n",
      "Max ERA: 5.3999999999999995\n",
      "Min ERA: 0.0\n",
      "(24, 16)\n",
      "(1, 25, 16)\n",
      "Max WHIP: 1.1666666666666667\n",
      "Min WHIP: 0.0\n",
      "Max ERA: 5.3999999999999995\n",
      "Min ERA: 0.0\n",
      "Index: 32, Year: 1999 Team: NYA, Level of Success: C\n"
     ]
    },
    {
     "name": "stderr",
     "output_type": "stream",
     "text": [
      "/var/folders/fh/fzyqqz2s1vzcm3v06kz1h29w0000gp/T/ipykernel_2244/85417958.py:8: UserWarning: Boolean Series key will be reindexed to match DataFrame index.\n",
      "  temp_stats = all_pitching_stats[all_pitching_stats['team'] == team['Team']][all_pitching_stats['date'].astype(str).str.startswith(str(team['Year']))][all_pitching_stats['gametype'] == 'regular'][pitching_features]\n",
      "/var/folders/fh/fzyqqz2s1vzcm3v06kz1h29w0000gp/T/ipykernel_2244/85417958.py:8: UserWarning: Boolean Series key will be reindexed to match DataFrame index.\n",
      "  temp_stats = all_pitching_stats[all_pitching_stats['team'] == team['Team']][all_pitching_stats['date'].astype(str).str.startswith(str(team['Year']))][all_pitching_stats['gametype'] == 'regular'][pitching_features]\n"
     ]
    },
    {
     "name": "stdout",
     "output_type": "stream",
     "text": [
      "Max WHIP: 2.3333333333333335\n",
      "Min WHIP: 0.2946859903381642\n",
      "Max ERA: 12.0\n",
      "Min ERA: 0.5294117647058824\n",
      "(18, 16)\n",
      "(1, 25, 16)\n",
      "Max WHIP: 2.3333333333333335\n",
      "Min WHIP: 0.0\n",
      "Max ERA: 12.0\n",
      "Min ERA: 0.0\n",
      "Index: 33, Year: 1999 Team: CLE, Level of Success: DS\n"
     ]
    },
    {
     "name": "stderr",
     "output_type": "stream",
     "text": [
      "/var/folders/fh/fzyqqz2s1vzcm3v06kz1h29w0000gp/T/ipykernel_2244/85417958.py:8: UserWarning: Boolean Series key will be reindexed to match DataFrame index.\n",
      "  temp_stats = all_pitching_stats[all_pitching_stats['team'] == team['Team']][all_pitching_stats['date'].astype(str).str.startswith(str(team['Year']))][all_pitching_stats['gametype'] == 'regular'][pitching_features]\n",
      "/var/folders/fh/fzyqqz2s1vzcm3v06kz1h29w0000gp/T/ipykernel_2244/85417958.py:8: UserWarning: Boolean Series key will be reindexed to match DataFrame index.\n",
      "  temp_stats = all_pitching_stats[all_pitching_stats['team'] == team['Team']][all_pitching_stats['date'].astype(str).str.startswith(str(team['Year']))][all_pitching_stats['gametype'] == 'regular'][pitching_features]\n"
     ]
    },
    {
     "name": "stdout",
     "output_type": "stream",
     "text": [
      "Max WHIP: 3.0\n",
      "Min WHIP: 0.3142857142857143\n",
      "Max ERA: 27.0\n",
      "Min ERA: 0.9915254237288136\n",
      "(25, 16)\n",
      "(1, 25, 16)\n",
      "Max WHIP: 3.0\n",
      "Min WHIP: 0.3142857142857143\n",
      "Max ERA: 27.0\n",
      "Min ERA: 0.9915254237288136\n",
      "Index: 34, Year: 1999 Team: TEX, Level of Success: DS\n"
     ]
    },
    {
     "name": "stderr",
     "output_type": "stream",
     "text": [
      "/var/folders/fh/fzyqqz2s1vzcm3v06kz1h29w0000gp/T/ipykernel_2244/85417958.py:8: UserWarning: Boolean Series key will be reindexed to match DataFrame index.\n",
      "  temp_stats = all_pitching_stats[all_pitching_stats['team'] == team['Team']][all_pitching_stats['date'].astype(str).str.startswith(str(team['Year']))][all_pitching_stats['gametype'] == 'regular'][pitching_features]\n",
      "/var/folders/fh/fzyqqz2s1vzcm3v06kz1h29w0000gp/T/ipykernel_2244/85417958.py:8: UserWarning: Boolean Series key will be reindexed to match DataFrame index.\n",
      "  temp_stats = all_pitching_stats[all_pitching_stats['team'] == team['Team']][all_pitching_stats['date'].astype(str).str.startswith(str(team['Year']))][all_pitching_stats['gametype'] == 'regular'][pitching_features]\n"
     ]
    },
    {
     "name": "stdout",
     "output_type": "stream",
     "text": [
      "Max WHIP: 1.5\n",
      "Min WHIP: 0.27756653992395436\n",
      "Max ERA: 11.25\n",
      "Min ERA: 0.7870722433460076\n",
      "(20, 16)\n",
      "(1, 25, 16)\n",
      "Max WHIP: 1.5\n",
      "Min WHIP: 0.0\n",
      "Max ERA: 11.25\n",
      "Min ERA: 0.0\n",
      "Index: 35, Year: 1999 Team: BOS, Level of Success: LS\n"
     ]
    },
    {
     "name": "stderr",
     "output_type": "stream",
     "text": [
      "/var/folders/fh/fzyqqz2s1vzcm3v06kz1h29w0000gp/T/ipykernel_2244/85417958.py:8: UserWarning: Boolean Series key will be reindexed to match DataFrame index.\n",
      "  temp_stats = all_pitching_stats[all_pitching_stats['team'] == team['Team']][all_pitching_stats['date'].astype(str).str.startswith(str(team['Year']))][all_pitching_stats['gametype'] == 'regular'][pitching_features]\n",
      "/var/folders/fh/fzyqqz2s1vzcm3v06kz1h29w0000gp/T/ipykernel_2244/85417958.py:8: UserWarning: Boolean Series key will be reindexed to match DataFrame index.\n",
      "  temp_stats = all_pitching_stats[all_pitching_stats['team'] == team['Team']][all_pitching_stats['date'].astype(str).str.startswith(str(team['Year']))][all_pitching_stats['gametype'] == 'regular'][pitching_features]\n"
     ]
    },
    {
     "name": "stdout",
     "output_type": "stream",
     "text": [
      "Max WHIP: 0.9166666666666666\n",
      "Min WHIP: 0.3076923076923077\n",
      "Max ERA: 5.25\n",
      "Min ERA: 0.23076923076923075\n",
      "(25, 16)\n",
      "(1, 25, 16)\n",
      "Max WHIP: 0.9166666666666666\n",
      "Min WHIP: 0.3076923076923077\n",
      "Max ERA: 5.25\n",
      "Min ERA: 0.23076923076923075\n",
      "Index: 36, Year: 1999 Team: ATL, Level of Success: WS\n"
     ]
    },
    {
     "name": "stderr",
     "output_type": "stream",
     "text": [
      "/var/folders/fh/fzyqqz2s1vzcm3v06kz1h29w0000gp/T/ipykernel_2244/85417958.py:8: UserWarning: Boolean Series key will be reindexed to match DataFrame index.\n",
      "  temp_stats = all_pitching_stats[all_pitching_stats['team'] == team['Team']][all_pitching_stats['date'].astype(str).str.startswith(str(team['Year']))][all_pitching_stats['gametype'] == 'regular'][pitching_features]\n",
      "/var/folders/fh/fzyqqz2s1vzcm3v06kz1h29w0000gp/T/ipykernel_2244/85417958.py:8: UserWarning: Boolean Series key will be reindexed to match DataFrame index.\n",
      "  temp_stats = all_pitching_stats[all_pitching_stats['team'] == team['Team']][all_pitching_stats['date'].astype(str).str.startswith(str(team['Year']))][all_pitching_stats['gametype'] == 'regular'][pitching_features]\n"
     ]
    },
    {
     "name": "stdout",
     "output_type": "stream",
     "text": [
      "Max WHIP: 5.0\n",
      "Min WHIP: 0.33187134502923976\n",
      "Max ERA: 18.0\n",
      "Min ERA: 0.7888446215139443\n",
      "(22, 16)\n",
      "(1, 25, 16)\n",
      "Max WHIP: 5.0\n",
      "Min WHIP: 0.0\n",
      "Max ERA: 18.0\n",
      "Min ERA: 0.0\n",
      "Index: 37, Year: 1999 Team: ARI, Level of Success: DS\n"
     ]
    },
    {
     "name": "stderr",
     "output_type": "stream",
     "text": [
      "/var/folders/fh/fzyqqz2s1vzcm3v06kz1h29w0000gp/T/ipykernel_2244/85417958.py:8: UserWarning: Boolean Series key will be reindexed to match DataFrame index.\n",
      "  temp_stats = all_pitching_stats[all_pitching_stats['team'] == team['Team']][all_pitching_stats['date'].astype(str).str.startswith(str(team['Year']))][all_pitching_stats['gametype'] == 'regular'][pitching_features]\n",
      "/var/folders/fh/fzyqqz2s1vzcm3v06kz1h29w0000gp/T/ipykernel_2244/85417958.py:8: UserWarning: Boolean Series key will be reindexed to match DataFrame index.\n",
      "  temp_stats = all_pitching_stats[all_pitching_stats['team'] == team['Team']][all_pitching_stats['date'].astype(str).str.startswith(str(team['Year']))][all_pitching_stats['gametype'] == 'regular'][pitching_features]\n"
     ]
    },
    {
     "name": "stdout",
     "output_type": "stream",
     "text": [
      "Max WHIP: 1.25\n",
      "Min WHIP: 0.3398773006134969\n",
      "Max ERA: 5.625\n",
      "Min ERA: 0.8282208588957055\n",
      "(20, 16)\n",
      "(1, 25, 16)\n",
      "Max WHIP: 1.25\n",
      "Min WHIP: 0.0\n",
      "Max ERA: 5.625\n",
      "Min ERA: 0.0\n",
      "Index: 38, Year: 1999 Team: HOU, Level of Success: DS\n"
     ]
    },
    {
     "name": "stderr",
     "output_type": "stream",
     "text": [
      "/var/folders/fh/fzyqqz2s1vzcm3v06kz1h29w0000gp/T/ipykernel_2244/85417958.py:8: UserWarning: Boolean Series key will be reindexed to match DataFrame index.\n",
      "  temp_stats = all_pitching_stats[all_pitching_stats['team'] == team['Team']][all_pitching_stats['date'].astype(str).str.startswith(str(team['Year']))][all_pitching_stats['gametype'] == 'regular'][pitching_features]\n",
      "/var/folders/fh/fzyqqz2s1vzcm3v06kz1h29w0000gp/T/ipykernel_2244/85417958.py:8: UserWarning: Boolean Series key will be reindexed to match DataFrame index.\n",
      "  temp_stats = all_pitching_stats[all_pitching_stats['team'] == team['Team']][all_pitching_stats['date'].astype(str).str.startswith(str(team['Year']))][all_pitching_stats['gametype'] == 'regular'][pitching_features]\n"
     ]
    },
    {
     "name": "stdout",
     "output_type": "stream",
     "text": [
      "Max WHIP: 1.0833333333333333\n",
      "Min WHIP: 0.25892857142857145\n",
      "Max ERA: 5.25\n",
      "Min ERA: 0.0\n",
      "(15, 16)\n",
      "(1, 25, 16)\n",
      "Max WHIP: 1.0833333333333333\n",
      "Min WHIP: 0.0\n",
      "Max ERA: 5.25\n",
      "Min ERA: 0.0\n",
      "Index: 39, Year: 1999 Team: NYN, Level of Success: LS\n"
     ]
    },
    {
     "name": "stderr",
     "output_type": "stream",
     "text": [
      "/var/folders/fh/fzyqqz2s1vzcm3v06kz1h29w0000gp/T/ipykernel_2244/85417958.py:8: UserWarning: Boolean Series key will be reindexed to match DataFrame index.\n",
      "  temp_stats = all_pitching_stats[all_pitching_stats['team'] == team['Team']][all_pitching_stats['date'].astype(str).str.startswith(str(team['Year']))][all_pitching_stats['gametype'] == 'regular'][pitching_features]\n",
      "/var/folders/fh/fzyqqz2s1vzcm3v06kz1h29w0000gp/T/ipykernel_2244/85417958.py:8: UserWarning: Boolean Series key will be reindexed to match DataFrame index.\n",
      "  temp_stats = all_pitching_stats[all_pitching_stats['team'] == team['Team']][all_pitching_stats['date'].astype(str).str.startswith(str(team['Year']))][all_pitching_stats['gametype'] == 'regular'][pitching_features]\n"
     ]
    },
    {
     "name": "stdout",
     "output_type": "stream",
     "text": [
      "Max WHIP: 1.5\n",
      "Min WHIP: 0.2647058823529412\n",
      "Max ERA: 4.5\n",
      "Min ERA: 0.0\n",
      "(23, 16)\n",
      "(1, 25, 16)\n",
      "Max WHIP: 1.5\n",
      "Min WHIP: 0.0\n",
      "Max ERA: 4.5\n",
      "Min ERA: 0.0\n",
      "Index: 40, Year: 2000 Team: CHA, Level of Success: DS\n"
     ]
    },
    {
     "name": "stderr",
     "output_type": "stream",
     "text": [
      "/var/folders/fh/fzyqqz2s1vzcm3v06kz1h29w0000gp/T/ipykernel_2244/85417958.py:8: UserWarning: Boolean Series key will be reindexed to match DataFrame index.\n",
      "  temp_stats = all_pitching_stats[all_pitching_stats['team'] == team['Team']][all_pitching_stats['date'].astype(str).str.startswith(str(team['Year']))][all_pitching_stats['gametype'] == 'regular'][pitching_features]\n",
      "/var/folders/fh/fzyqqz2s1vzcm3v06kz1h29w0000gp/T/ipykernel_2244/85417958.py:8: UserWarning: Boolean Series key will be reindexed to match DataFrame index.\n",
      "  temp_stats = all_pitching_stats[all_pitching_stats['team'] == team['Team']][all_pitching_stats['date'].astype(str).str.startswith(str(team['Year']))][all_pitching_stats['gametype'] == 'regular'][pitching_features]\n"
     ]
    },
    {
     "name": "stdout",
     "output_type": "stream",
     "text": [
      "Max WHIP: 1.2222222222222223\n",
      "Min WHIP: 0.3333333333333333\n",
      "Max ERA: 8.0\n",
      "Min ERA: 0.0\n",
      "(22, 16)\n",
      "(1, 25, 16)\n",
      "Max WHIP: 1.2222222222222223\n",
      "Min WHIP: 0.0\n",
      "Max ERA: 8.0\n",
      "Min ERA: 0.0\n",
      "Index: 41, Year: 2000 Team: OAK, Level of Success: DS\n"
     ]
    },
    {
     "name": "stderr",
     "output_type": "stream",
     "text": [
      "/var/folders/fh/fzyqqz2s1vzcm3v06kz1h29w0000gp/T/ipykernel_2244/85417958.py:8: UserWarning: Boolean Series key will be reindexed to match DataFrame index.\n",
      "  temp_stats = all_pitching_stats[all_pitching_stats['team'] == team['Team']][all_pitching_stats['date'].astype(str).str.startswith(str(team['Year']))][all_pitching_stats['gametype'] == 'regular'][pitching_features]\n",
      "/var/folders/fh/fzyqqz2s1vzcm3v06kz1h29w0000gp/T/ipykernel_2244/85417958.py:8: UserWarning: Boolean Series key will be reindexed to match DataFrame index.\n",
      "  temp_stats = all_pitching_stats[all_pitching_stats['team'] == team['Team']][all_pitching_stats['date'].astype(str).str.startswith(str(team['Year']))][all_pitching_stats['gametype'] == 'regular'][pitching_features]\n"
     ]
    },
    {
     "name": "stdout",
     "output_type": "stream",
     "text": [
      "Max WHIP: 2.0\n",
      "Min WHIP: 0.0\n",
      "Max ERA: 12.0\n",
      "Min ERA: 0.0\n",
      "(21, 16)\n",
      "(1, 25, 16)\n",
      "Max WHIP: 2.0\n",
      "Min WHIP: 0.0\n",
      "Max ERA: 12.0\n",
      "Min ERA: 0.0\n",
      "Index: 42, Year: 2000 Team: NYA, Level of Success: C\n"
     ]
    },
    {
     "name": "stderr",
     "output_type": "stream",
     "text": [
      "/var/folders/fh/fzyqqz2s1vzcm3v06kz1h29w0000gp/T/ipykernel_2244/85417958.py:8: UserWarning: Boolean Series key will be reindexed to match DataFrame index.\n",
      "  temp_stats = all_pitching_stats[all_pitching_stats['team'] == team['Team']][all_pitching_stats['date'].astype(str).str.startswith(str(team['Year']))][all_pitching_stats['gametype'] == 'regular'][pitching_features]\n",
      "/var/folders/fh/fzyqqz2s1vzcm3v06kz1h29w0000gp/T/ipykernel_2244/85417958.py:8: UserWarning: Boolean Series key will be reindexed to match DataFrame index.\n",
      "  temp_stats = all_pitching_stats[all_pitching_stats['team'] == team['Team']][all_pitching_stats['date'].astype(str).str.startswith(str(team['Year']))][all_pitching_stats['gametype'] == 'regular'][pitching_features]\n"
     ]
    },
    {
     "name": "stdout",
     "output_type": "stream",
     "text": [
      "Max WHIP: 0.95\n",
      "Min WHIP: 0.3656387665198238\n",
      "Max ERA: 5.0\n",
      "Min ERA: 0.8181818181818182\n",
      "(22, 16)\n",
      "(1, 25, 16)\n",
      "Max WHIP: 0.95\n",
      "Min WHIP: 0.0\n",
      "Max ERA: 5.0\n",
      "Min ERA: 0.0\n",
      "Index: 43, Year: 2000 Team: SEA, Level of Success: LS\n"
     ]
    },
    {
     "name": "stderr",
     "output_type": "stream",
     "text": [
      "/var/folders/fh/fzyqqz2s1vzcm3v06kz1h29w0000gp/T/ipykernel_2244/85417958.py:8: UserWarning: Boolean Series key will be reindexed to match DataFrame index.\n",
      "  temp_stats = all_pitching_stats[all_pitching_stats['team'] == team['Team']][all_pitching_stats['date'].astype(str).str.startswith(str(team['Year']))][all_pitching_stats['gametype'] == 'regular'][pitching_features]\n",
      "/var/folders/fh/fzyqqz2s1vzcm3v06kz1h29w0000gp/T/ipykernel_2244/85417958.py:8: UserWarning: Boolean Series key will be reindexed to match DataFrame index.\n",
      "  temp_stats = all_pitching_stats[all_pitching_stats['team'] == team['Team']][all_pitching_stats['date'].astype(str).str.startswith(str(team['Year']))][all_pitching_stats['gametype'] == 'regular'][pitching_features]\n"
     ]
    },
    {
     "name": "stdout",
     "output_type": "stream",
     "text": [
      "Max WHIP: 2.0\n",
      "Min WHIP: 0.38461538461538464\n",
      "Max ERA: 9.0\n",
      "Min ERA: 1.0531914893617023\n",
      "(16, 16)\n",
      "(1, 25, 16)\n",
      "Max WHIP: 2.0\n",
      "Min WHIP: 0.0\n",
      "Max ERA: 9.0\n",
      "Min ERA: 0.0\n",
      "Index: 44, Year: 2000 Team: SFN, Level of Success: DS\n"
     ]
    },
    {
     "name": "stderr",
     "output_type": "stream",
     "text": [
      "/var/folders/fh/fzyqqz2s1vzcm3v06kz1h29w0000gp/T/ipykernel_2244/85417958.py:8: UserWarning: Boolean Series key will be reindexed to match DataFrame index.\n",
      "  temp_stats = all_pitching_stats[all_pitching_stats['team'] == team['Team']][all_pitching_stats['date'].astype(str).str.startswith(str(team['Year']))][all_pitching_stats['gametype'] == 'regular'][pitching_features]\n",
      "/var/folders/fh/fzyqqz2s1vzcm3v06kz1h29w0000gp/T/ipykernel_2244/85417958.py:8: UserWarning: Boolean Series key will be reindexed to match DataFrame index.\n",
      "  temp_stats = all_pitching_stats[all_pitching_stats['team'] == team['Team']][all_pitching_stats['date'].astype(str).str.startswith(str(team['Year']))][all_pitching_stats['gametype'] == 'regular'][pitching_features]\n"
     ]
    },
    {
     "name": "stdout",
     "output_type": "stream",
     "text": [
      "Max WHIP: 1.2857142857142858\n",
      "Min WHIP: 0.2828282828282828\n",
      "Max ERA: 4.875\n",
      "Min ERA: 0.0\n",
      "(17, 16)\n",
      "(1, 25, 16)\n",
      "Max WHIP: 1.2857142857142858\n",
      "Min WHIP: 0.0\n",
      "Max ERA: 4.875\n",
      "Min ERA: 0.0\n",
      "Index: 45, Year: 2000 Team: SLN, Level of Success: LS\n"
     ]
    },
    {
     "name": "stderr",
     "output_type": "stream",
     "text": [
      "/var/folders/fh/fzyqqz2s1vzcm3v06kz1h29w0000gp/T/ipykernel_2244/85417958.py:8: UserWarning: Boolean Series key will be reindexed to match DataFrame index.\n",
      "  temp_stats = all_pitching_stats[all_pitching_stats['team'] == team['Team']][all_pitching_stats['date'].astype(str).str.startswith(str(team['Year']))][all_pitching_stats['gametype'] == 'regular'][pitching_features]\n",
      "/var/folders/fh/fzyqqz2s1vzcm3v06kz1h29w0000gp/T/ipykernel_2244/85417958.py:8: UserWarning: Boolean Series key will be reindexed to match DataFrame index.\n",
      "  temp_stats = all_pitching_stats[all_pitching_stats['team'] == team['Team']][all_pitching_stats['date'].astype(str).str.startswith(str(team['Year']))][all_pitching_stats['gametype'] == 'regular'][pitching_features]\n"
     ]
    },
    {
     "name": "stdout",
     "output_type": "stream",
     "text": [
      "Max WHIP: inf\n",
      "Min WHIP: 0.3916786226685796\n",
      "Max ERA: 3.8571428571428568\n",
      "Min ERA: 0.0\n",
      "(24, 16)\n",
      "(1, 25, 16)\n",
      "Max WHIP: inf\n",
      "Min WHIP: 0.0\n",
      "Max ERA: nan\n",
      "Min ERA: nan\n",
      "Index: 46, Year: 2000 Team: ATL, Level of Success: DS\n"
     ]
    },
    {
     "name": "stderr",
     "output_type": "stream",
     "text": [
      "/var/folders/fh/fzyqqz2s1vzcm3v06kz1h29w0000gp/T/ipykernel_2244/85417958.py:8: UserWarning: Boolean Series key will be reindexed to match DataFrame index.\n",
      "  temp_stats = all_pitching_stats[all_pitching_stats['team'] == team['Team']][all_pitching_stats['date'].astype(str).str.startswith(str(team['Year']))][all_pitching_stats['gametype'] == 'regular'][pitching_features]\n",
      "/var/folders/fh/fzyqqz2s1vzcm3v06kz1h29w0000gp/T/ipykernel_2244/85417958.py:8: UserWarning: Boolean Series key will be reindexed to match DataFrame index.\n",
      "  temp_stats = all_pitching_stats[all_pitching_stats['team'] == team['Team']][all_pitching_stats['date'].astype(str).str.startswith(str(team['Year']))][all_pitching_stats['gametype'] == 'regular'][pitching_features]\n"
     ]
    },
    {
     "name": "stdout",
     "output_type": "stream",
     "text": [
      "Max WHIP: 0.75\n",
      "Min WHIP: 0.32653061224489793\n",
      "Max ERA: 4.5\n",
      "Min ERA: 0.45\n",
      "(22, 16)\n",
      "(1, 25, 16)\n",
      "Max WHIP: 0.75\n",
      "Min WHIP: 0.0\n",
      "Max ERA: 4.5\n",
      "Min ERA: 0.0\n",
      "Index: 47, Year: 2000 Team: NYN, Level of Success: WS\n"
     ]
    },
    {
     "name": "stderr",
     "output_type": "stream",
     "text": [
      "/var/folders/fh/fzyqqz2s1vzcm3v06kz1h29w0000gp/T/ipykernel_2244/85417958.py:8: UserWarning: Boolean Series key will be reindexed to match DataFrame index.\n",
      "  temp_stats = all_pitching_stats[all_pitching_stats['team'] == team['Team']][all_pitching_stats['date'].astype(str).str.startswith(str(team['Year']))][all_pitching_stats['gametype'] == 'regular'][pitching_features]\n",
      "/var/folders/fh/fzyqqz2s1vzcm3v06kz1h29w0000gp/T/ipykernel_2244/85417958.py:8: UserWarning: Boolean Series key will be reindexed to match DataFrame index.\n",
      "  temp_stats = all_pitching_stats[all_pitching_stats['team'] == team['Team']][all_pitching_stats['date'].astype(str).str.startswith(str(team['Year']))][all_pitching_stats['gametype'] == 'regular'][pitching_features]\n"
     ]
    },
    {
     "name": "stdout",
     "output_type": "stream",
     "text": [
      "Max WHIP: 2.0\n",
      "Min WHIP: 0.33771929824561403\n",
      "Max ERA: 12.0\n",
      "Min ERA: 0.0\n",
      "(20, 16)\n",
      "(1, 25, 16)\n",
      "Max WHIP: 2.0\n",
      "Min WHIP: 0.0\n",
      "Max ERA: 12.0\n",
      "Min ERA: 0.0\n",
      "Index: 48, Year: 2001 Team: SEA, Level of Success: LS\n"
     ]
    },
    {
     "name": "stderr",
     "output_type": "stream",
     "text": [
      "/var/folders/fh/fzyqqz2s1vzcm3v06kz1h29w0000gp/T/ipykernel_2244/85417958.py:8: UserWarning: Boolean Series key will be reindexed to match DataFrame index.\n",
      "  temp_stats = all_pitching_stats[all_pitching_stats['team'] == team['Team']][all_pitching_stats['date'].astype(str).str.startswith(str(team['Year']))][all_pitching_stats['gametype'] == 'regular'][pitching_features]\n",
      "/var/folders/fh/fzyqqz2s1vzcm3v06kz1h29w0000gp/T/ipykernel_2244/85417958.py:8: UserWarning: Boolean Series key will be reindexed to match DataFrame index.\n",
      "  temp_stats = all_pitching_stats[all_pitching_stats['team'] == team['Team']][all_pitching_stats['date'].astype(str).str.startswith(str(team['Year']))][all_pitching_stats['gametype'] == 'regular'][pitching_features]\n"
     ]
    },
    {
     "name": "stdout",
     "output_type": "stream",
     "text": [
      "Max WHIP: 0.5681818181818182\n",
      "Min WHIP: 0.28431372549019607\n",
      "Max ERA: 3.068181818181818\n",
      "Min ERA: 0.5735294117647058\n",
      "(15, 16)\n",
      "(1, 25, 16)\n",
      "Max WHIP: 0.5681818181818182\n",
      "Min WHIP: 0.0\n",
      "Max ERA: 3.068181818181818\n",
      "Min ERA: 0.0\n",
      "Index: 49, Year: 2001 Team: CLE, Level of Success: DS\n"
     ]
    },
    {
     "name": "stderr",
     "output_type": "stream",
     "text": [
      "/var/folders/fh/fzyqqz2s1vzcm3v06kz1h29w0000gp/T/ipykernel_2244/85417958.py:8: UserWarning: Boolean Series key will be reindexed to match DataFrame index.\n",
      "  temp_stats = all_pitching_stats[all_pitching_stats['team'] == team['Team']][all_pitching_stats['date'].astype(str).str.startswith(str(team['Year']))][all_pitching_stats['gametype'] == 'regular'][pitching_features]\n",
      "/var/folders/fh/fzyqqz2s1vzcm3v06kz1h29w0000gp/T/ipykernel_2244/85417958.py:8: UserWarning: Boolean Series key will be reindexed to match DataFrame index.\n",
      "  temp_stats = all_pitching_stats[all_pitching_stats['team'] == team['Team']][all_pitching_stats['date'].astype(str).str.startswith(str(team['Year']))][all_pitching_stats['gametype'] == 'regular'][pitching_features]\n"
     ]
    },
    {
     "name": "stdout",
     "output_type": "stream",
     "text": [
      "Max WHIP: 1.1666666666666667\n",
      "Min WHIP: 0.2846153846153846\n",
      "Max ERA: 9.0\n",
      "Min ERA: 0.0\n",
      "(24, 16)\n",
      "(1, 25, 16)\n",
      "Max WHIP: 1.1666666666666667\n",
      "Min WHIP: 0.0\n",
      "Max ERA: 9.0\n",
      "Min ERA: 0.0\n",
      "Index: 50, Year: 2001 Team: NYA, Level of Success: WS\n"
     ]
    },
    {
     "name": "stderr",
     "output_type": "stream",
     "text": [
      "/var/folders/fh/fzyqqz2s1vzcm3v06kz1h29w0000gp/T/ipykernel_2244/85417958.py:8: UserWarning: Boolean Series key will be reindexed to match DataFrame index.\n",
      "  temp_stats = all_pitching_stats[all_pitching_stats['team'] == team['Team']][all_pitching_stats['date'].astype(str).str.startswith(str(team['Year']))][all_pitching_stats['gametype'] == 'regular'][pitching_features]\n",
      "/var/folders/fh/fzyqqz2s1vzcm3v06kz1h29w0000gp/T/ipykernel_2244/85417958.py:8: UserWarning: Boolean Series key will be reindexed to match DataFrame index.\n",
      "  temp_stats = all_pitching_stats[all_pitching_stats['team'] == team['Team']][all_pitching_stats['date'].astype(str).str.startswith(str(team['Year']))][all_pitching_stats['gametype'] == 'regular'][pitching_features]\n"
     ]
    },
    {
     "name": "stdout",
     "output_type": "stream",
     "text": [
      "Max WHIP: 1.3333333333333333\n",
      "Min WHIP: 0.30165289256198347\n",
      "Max ERA: 9.0\n",
      "Min ERA: 0.7809917355371901\n",
      "(20, 16)\n",
      "(1, 25, 16)\n",
      "Max WHIP: 1.3333333333333333\n",
      "Min WHIP: 0.0\n",
      "Max ERA: 9.0\n",
      "Min ERA: 0.0\n",
      "Index: 51, Year: 2001 Team: OAK, Level of Success: DS\n"
     ]
    },
    {
     "name": "stderr",
     "output_type": "stream",
     "text": [
      "/var/folders/fh/fzyqqz2s1vzcm3v06kz1h29w0000gp/T/ipykernel_2244/85417958.py:8: UserWarning: Boolean Series key will be reindexed to match DataFrame index.\n",
      "  temp_stats = all_pitching_stats[all_pitching_stats['team'] == team['Team']][all_pitching_stats['date'].astype(str).str.startswith(str(team['Year']))][all_pitching_stats['gametype'] == 'regular'][pitching_features]\n",
      "/var/folders/fh/fzyqqz2s1vzcm3v06kz1h29w0000gp/T/ipykernel_2244/85417958.py:8: UserWarning: Boolean Series key will be reindexed to match DataFrame index.\n",
      "  temp_stats = all_pitching_stats[all_pitching_stats['team'] == team['Team']][all_pitching_stats['date'].astype(str).str.startswith(str(team['Year']))][all_pitching_stats['gametype'] == 'regular'][pitching_features]\n"
     ]
    },
    {
     "name": "stdout",
     "output_type": "stream",
     "text": [
      "Max WHIP: 0.5652173913043478\n",
      "Min WHIP: 0.2\n",
      "Max ERA: 1.8601823708206686\n",
      "Min ERA: 0.0\n",
      "(16, 16)\n",
      "(1, 25, 16)\n",
      "Max WHIP: 0.5652173913043478\n",
      "Min WHIP: 0.0\n",
      "Max ERA: 1.8601823708206686\n",
      "Min ERA: 0.0\n",
      "Index: 52, Year: 2001 Team: HOU, Level of Success: DS\n"
     ]
    },
    {
     "name": "stderr",
     "output_type": "stream",
     "text": [
      "/var/folders/fh/fzyqqz2s1vzcm3v06kz1h29w0000gp/T/ipykernel_2244/85417958.py:8: UserWarning: Boolean Series key will be reindexed to match DataFrame index.\n",
      "  temp_stats = all_pitching_stats[all_pitching_stats['team'] == team['Team']][all_pitching_stats['date'].astype(str).str.startswith(str(team['Year']))][all_pitching_stats['gametype'] == 'regular'][pitching_features]\n",
      "/var/folders/fh/fzyqqz2s1vzcm3v06kz1h29w0000gp/T/ipykernel_2244/85417958.py:8: UserWarning: Boolean Series key will be reindexed to match DataFrame index.\n",
      "  temp_stats = all_pitching_stats[all_pitching_stats['team'] == team['Team']][all_pitching_stats['date'].astype(str).str.startswith(str(team['Year']))][all_pitching_stats['gametype'] == 'regular'][pitching_features]\n"
     ]
    },
    {
     "name": "stdout",
     "output_type": "stream",
     "text": [
      "Max WHIP: 0.8888888888888888\n",
      "Min WHIP: 0.33962264150943394\n",
      "Max ERA: 6.0\n",
      "Min ERA: 0.33962264150943394\n",
      "(25, 16)\n",
      "(1, 25, 16)\n",
      "Max WHIP: 0.8888888888888888\n",
      "Min WHIP: 0.33962264150943394\n",
      "Max ERA: 6.0\n",
      "Min ERA: 0.33962264150943394\n",
      "Index: 53, Year: 2001 Team: ARI, Level of Success: C\n"
     ]
    },
    {
     "name": "stderr",
     "output_type": "stream",
     "text": [
      "/var/folders/fh/fzyqqz2s1vzcm3v06kz1h29w0000gp/T/ipykernel_2244/85417958.py:8: UserWarning: Boolean Series key will be reindexed to match DataFrame index.\n",
      "  temp_stats = all_pitching_stats[all_pitching_stats['team'] == team['Team']][all_pitching_stats['date'].astype(str).str.startswith(str(team['Year']))][all_pitching_stats['gametype'] == 'regular'][pitching_features]\n",
      "/var/folders/fh/fzyqqz2s1vzcm3v06kz1h29w0000gp/T/ipykernel_2244/85417958.py:8: UserWarning: Boolean Series key will be reindexed to match DataFrame index.\n",
      "  temp_stats = all_pitching_stats[all_pitching_stats['team'] == team['Team']][all_pitching_stats['date'].astype(str).str.startswith(str(team['Year']))][all_pitching_stats['gametype'] == 'regular'][pitching_features]\n"
     ]
    },
    {
     "name": "stdout",
     "output_type": "stream",
     "text": [
      "Max WHIP: 0.5942028985507246\n",
      "Min WHIP: 0.3333333333333333\n",
      "Max ERA: 2.739130434782609\n",
      "Min ERA: 0.0\n",
      "(22, 16)\n",
      "(1, 25, 16)\n",
      "Max WHIP: 0.5942028985507246\n",
      "Min WHIP: 0.0\n",
      "Max ERA: 2.739130434782609\n",
      "Min ERA: 0.0\n",
      "Index: 54, Year: 2001 Team: ATL, Level of Success: LS\n"
     ]
    },
    {
     "name": "stderr",
     "output_type": "stream",
     "text": [
      "/var/folders/fh/fzyqqz2s1vzcm3v06kz1h29w0000gp/T/ipykernel_2244/85417958.py:8: UserWarning: Boolean Series key will be reindexed to match DataFrame index.\n",
      "  temp_stats = all_pitching_stats[all_pitching_stats['team'] == team['Team']][all_pitching_stats['date'].astype(str).str.startswith(str(team['Year']))][all_pitching_stats['gametype'] == 'regular'][pitching_features]\n",
      "/var/folders/fh/fzyqqz2s1vzcm3v06kz1h29w0000gp/T/ipykernel_2244/85417958.py:8: UserWarning: Boolean Series key will be reindexed to match DataFrame index.\n",
      "  temp_stats = all_pitching_stats[all_pitching_stats['team'] == team['Team']][all_pitching_stats['date'].astype(str).str.startswith(str(team['Year']))][all_pitching_stats['gametype'] == 'regular'][pitching_features]\n"
     ]
    },
    {
     "name": "stdout",
     "output_type": "stream",
     "text": [
      "Max WHIP: 1.5\n",
      "Min WHIP: 0.3333333333333333\n",
      "Max ERA: 12.0\n",
      "Min ERA: 0.75\n",
      "(23, 16)\n",
      "(1, 25, 16)\n",
      "Max WHIP: 1.5\n",
      "Min WHIP: 0.0\n",
      "Max ERA: 12.0\n",
      "Min ERA: 0.0\n",
      "Index: 55, Year: 2001 Team: SLN, Level of Success: DS\n"
     ]
    },
    {
     "name": "stderr",
     "output_type": "stream",
     "text": [
      "/var/folders/fh/fzyqqz2s1vzcm3v06kz1h29w0000gp/T/ipykernel_2244/85417958.py:8: UserWarning: Boolean Series key will be reindexed to match DataFrame index.\n",
      "  temp_stats = all_pitching_stats[all_pitching_stats['team'] == team['Team']][all_pitching_stats['date'].astype(str).str.startswith(str(team['Year']))][all_pitching_stats['gametype'] == 'regular'][pitching_features]\n",
      "/var/folders/fh/fzyqqz2s1vzcm3v06kz1h29w0000gp/T/ipykernel_2244/85417958.py:8: UserWarning: Boolean Series key will be reindexed to match DataFrame index.\n",
      "  temp_stats = all_pitching_stats[all_pitching_stats['team'] == team['Team']][all_pitching_stats['date'].astype(str).str.startswith(str(team['Year']))][all_pitching_stats['gametype'] == 'regular'][pitching_features]\n"
     ]
    },
    {
     "name": "stdout",
     "output_type": "stream",
     "text": [
      "Max WHIP: 1.3333333333333333\n",
      "Min WHIP: 0.2727272727272727\n",
      "Max ERA: 8.25\n",
      "Min ERA: 0.6\n",
      "(21, 16)\n",
      "(1, 25, 16)\n",
      "Max WHIP: 1.3333333333333333\n",
      "Min WHIP: 0.0\n",
      "Max ERA: 8.25\n",
      "Min ERA: 0.0\n",
      "Index: 56, Year: 2002 Team: NYA, Level of Success: DS\n"
     ]
    },
    {
     "name": "stderr",
     "output_type": "stream",
     "text": [
      "/var/folders/fh/fzyqqz2s1vzcm3v06kz1h29w0000gp/T/ipykernel_2244/85417958.py:8: UserWarning: Boolean Series key will be reindexed to match DataFrame index.\n",
      "  temp_stats = all_pitching_stats[all_pitching_stats['team'] == team['Team']][all_pitching_stats['date'].astype(str).str.startswith(str(team['Year']))][all_pitching_stats['gametype'] == 'regular'][pitching_features]\n",
      "/var/folders/fh/fzyqqz2s1vzcm3v06kz1h29w0000gp/T/ipykernel_2244/85417958.py:8: UserWarning: Boolean Series key will be reindexed to match DataFrame index.\n",
      "  temp_stats = all_pitching_stats[all_pitching_stats['team'] == team['Team']][all_pitching_stats['date'].astype(str).str.startswith(str(team['Year']))][all_pitching_stats['gametype'] == 'regular'][pitching_features]\n"
     ]
    },
    {
     "name": "stdout",
     "output_type": "stream",
     "text": [
      "Max WHIP: 0.8888888888888888\n",
      "Min WHIP: 0.3333333333333333\n",
      "Max ERA: 4.0\n",
      "Min ERA: 0.9130434782608696\n",
      "(17, 16)\n",
      "(1, 25, 16)\n",
      "Max WHIP: 0.8888888888888888\n",
      "Min WHIP: 0.0\n",
      "Max ERA: 4.0\n",
      "Min ERA: 0.0\n",
      "Index: 57, Year: 2002 Team: OAK, Level of Success: DS\n"
     ]
    },
    {
     "name": "stderr",
     "output_type": "stream",
     "text": [
      "/var/folders/fh/fzyqqz2s1vzcm3v06kz1h29w0000gp/T/ipykernel_2244/85417958.py:8: UserWarning: Boolean Series key will be reindexed to match DataFrame index.\n",
      "  temp_stats = all_pitching_stats[all_pitching_stats['team'] == team['Team']][all_pitching_stats['date'].astype(str).str.startswith(str(team['Year']))][all_pitching_stats['gametype'] == 'regular'][pitching_features]\n",
      "/var/folders/fh/fzyqqz2s1vzcm3v06kz1h29w0000gp/T/ipykernel_2244/85417958.py:8: UserWarning: Boolean Series key will be reindexed to match DataFrame index.\n",
      "  temp_stats = all_pitching_stats[all_pitching_stats['team'] == team['Team']][all_pitching_stats['date'].astype(str).str.startswith(str(team['Year']))][all_pitching_stats['gametype'] == 'regular'][pitching_features]\n"
     ]
    },
    {
     "name": "stdout",
     "output_type": "stream",
     "text": [
      "Max WHIP: 0.7857142857142857\n",
      "Min WHIP: 0.22950819672131148\n",
      "Max ERA: 2.167883211678832\n",
      "Min ERA: 0.5\n",
      "(17, 16)\n",
      "(1, 25, 16)\n",
      "Max WHIP: 0.7857142857142857\n",
      "Min WHIP: 0.0\n",
      "Max ERA: 2.167883211678832\n",
      "Min ERA: 0.0\n",
      "Index: 58, Year: 2002 Team: MIN, Level of Success: LS\n"
     ]
    },
    {
     "name": "stderr",
     "output_type": "stream",
     "text": [
      "/var/folders/fh/fzyqqz2s1vzcm3v06kz1h29w0000gp/T/ipykernel_2244/85417958.py:8: UserWarning: Boolean Series key will be reindexed to match DataFrame index.\n",
      "  temp_stats = all_pitching_stats[all_pitching_stats['team'] == team['Team']][all_pitching_stats['date'].astype(str).str.startswith(str(team['Year']))][all_pitching_stats['gametype'] == 'regular'][pitching_features]\n",
      "/var/folders/fh/fzyqqz2s1vzcm3v06kz1h29w0000gp/T/ipykernel_2244/85417958.py:8: UserWarning: Boolean Series key will be reindexed to match DataFrame index.\n",
      "  temp_stats = all_pitching_stats[all_pitching_stats['team'] == team['Team']][all_pitching_stats['date'].astype(str).str.startswith(str(team['Year']))][all_pitching_stats['gametype'] == 'regular'][pitching_features]\n"
     ]
    },
    {
     "name": "stdout",
     "output_type": "stream",
     "text": [
      "Max WHIP: 1.0909090909090908\n",
      "Min WHIP: 0.3236514522821577\n",
      "Max ERA: 5.25\n",
      "Min ERA: 0.6296296296296297\n",
      "(19, 16)\n",
      "(1, 25, 16)\n",
      "Max WHIP: 1.0909090909090908\n",
      "Min WHIP: 0.0\n",
      "Max ERA: 5.25\n",
      "Min ERA: 0.0\n",
      "Index: 59, Year: 2002 Team: ANA, Level of Success: C\n"
     ]
    },
    {
     "name": "stderr",
     "output_type": "stream",
     "text": [
      "/var/folders/fh/fzyqqz2s1vzcm3v06kz1h29w0000gp/T/ipykernel_2244/85417958.py:8: UserWarning: Boolean Series key will be reindexed to match DataFrame index.\n",
      "  temp_stats = all_pitching_stats[all_pitching_stats['team'] == team['Team']][all_pitching_stats['date'].astype(str).str.startswith(str(team['Year']))][all_pitching_stats['gametype'] == 'regular'][pitching_features]\n",
      "/var/folders/fh/fzyqqz2s1vzcm3v06kz1h29w0000gp/T/ipykernel_2244/85417958.py:8: UserWarning: Boolean Series key will be reindexed to match DataFrame index.\n",
      "  temp_stats = all_pitching_stats[all_pitching_stats['team'] == team['Team']][all_pitching_stats['date'].astype(str).str.startswith(str(team['Year']))][all_pitching_stats['gametype'] == 'regular'][pitching_features]\n"
     ]
    },
    {
     "name": "stdout",
     "output_type": "stream",
     "text": [
      "Max WHIP: 0.6190476190476191\n",
      "Min WHIP: 0.29411764705882354\n",
      "Max ERA: 2.142857142857143\n",
      "Min ERA: 0.0\n",
      "(18, 16)\n",
      "(1, 25, 16)\n",
      "Max WHIP: 0.6190476190476191\n",
      "Min WHIP: 0.0\n",
      "Max ERA: 2.142857142857143\n",
      "Min ERA: 0.0\n",
      "Index: 60, Year: 2002 Team: ATL, Level of Success: DS\n"
     ]
    },
    {
     "name": "stderr",
     "output_type": "stream",
     "text": [
      "/var/folders/fh/fzyqqz2s1vzcm3v06kz1h29w0000gp/T/ipykernel_2244/85417958.py:8: UserWarning: Boolean Series key will be reindexed to match DataFrame index.\n",
      "  temp_stats = all_pitching_stats[all_pitching_stats['team'] == team['Team']][all_pitching_stats['date'].astype(str).str.startswith(str(team['Year']))][all_pitching_stats['gametype'] == 'regular'][pitching_features]\n",
      "/var/folders/fh/fzyqqz2s1vzcm3v06kz1h29w0000gp/T/ipykernel_2244/85417958.py:8: UserWarning: Boolean Series key will be reindexed to match DataFrame index.\n",
      "  temp_stats = all_pitching_stats[all_pitching_stats['team'] == team['Team']][all_pitching_stats['date'].astype(str).str.startswith(str(team['Year']))][all_pitching_stats['gametype'] == 'regular'][pitching_features]\n"
     ]
    },
    {
     "name": "stdout",
     "output_type": "stream",
     "text": [
      "Max WHIP: 4.0\n",
      "Min WHIP: 0.0\n",
      "Max ERA: 9.0\n",
      "Min ERA: 0.0\n",
      "(20, 16)\n",
      "(1, 25, 16)\n",
      "Max WHIP: 4.0\n",
      "Min WHIP: 0.0\n",
      "Max ERA: 9.0\n",
      "Min ERA: 0.0\n",
      "Index: 61, Year: 2002 Team: ARI, Level of Success: DS\n"
     ]
    },
    {
     "name": "stderr",
     "output_type": "stream",
     "text": [
      "/var/folders/fh/fzyqqz2s1vzcm3v06kz1h29w0000gp/T/ipykernel_2244/85417958.py:8: UserWarning: Boolean Series key will be reindexed to match DataFrame index.\n",
      "  temp_stats = all_pitching_stats[all_pitching_stats['team'] == team['Team']][all_pitching_stats['date'].astype(str).str.startswith(str(team['Year']))][all_pitching_stats['gametype'] == 'regular'][pitching_features]\n",
      "/var/folders/fh/fzyqqz2s1vzcm3v06kz1h29w0000gp/T/ipykernel_2244/85417958.py:8: UserWarning: Boolean Series key will be reindexed to match DataFrame index.\n",
      "  temp_stats = all_pitching_stats[all_pitching_stats['team'] == team['Team']][all_pitching_stats['date'].astype(str).str.startswith(str(team['Year']))][all_pitching_stats['gametype'] == 'regular'][pitching_features]\n"
     ]
    },
    {
     "name": "stdout",
     "output_type": "stream",
     "text": [
      "Max WHIP: 0.825\n",
      "Min WHIP: 0.3226221079691517\n",
      "Max ERA: 3.6\n",
      "Min ERA: 0.6785714285714285\n",
      "(20, 16)\n",
      "(1, 25, 16)\n",
      "Max WHIP: 0.825\n",
      "Min WHIP: 0.0\n",
      "Max ERA: 3.6\n",
      "Min ERA: 0.0\n",
      "Index: 62, Year: 2002 Team: SLN, Level of Success: LS\n"
     ]
    },
    {
     "name": "stderr",
     "output_type": "stream",
     "text": [
      "/var/folders/fh/fzyqqz2s1vzcm3v06kz1h29w0000gp/T/ipykernel_2244/85417958.py:8: UserWarning: Boolean Series key will be reindexed to match DataFrame index.\n",
      "  temp_stats = all_pitching_stats[all_pitching_stats['team'] == team['Team']][all_pitching_stats['date'].astype(str).str.startswith(str(team['Year']))][all_pitching_stats['gametype'] == 'regular'][pitching_features]\n",
      "/var/folders/fh/fzyqqz2s1vzcm3v06kz1h29w0000gp/T/ipykernel_2244/85417958.py:8: UserWarning: Boolean Series key will be reindexed to match DataFrame index.\n",
      "  temp_stats = all_pitching_stats[all_pitching_stats['team'] == team['Team']][all_pitching_stats['date'].astype(str).str.startswith(str(team['Year']))][all_pitching_stats['gametype'] == 'regular'][pitching_features]\n"
     ]
    },
    {
     "name": "stdout",
     "output_type": "stream",
     "text": [
      "Max WHIP: 6.0\n",
      "Min WHIP: 0.24242424242424243\n",
      "Max ERA: 18.0\n",
      "Min ERA: 0.2727272727272727\n",
      "(26, 16)\n",
      "(1, 25, 16)\n",
      "Max WHIP: 0.717948717948718\n",
      "Min WHIP: 0.24242424242424243\n",
      "Max ERA: 2.5384615384615383\n",
      "Min ERA: 0.2727272727272727\n",
      "Index: 63, Year: 2002 Team: SFN, Level of Success: WS\n"
     ]
    },
    {
     "name": "stderr",
     "output_type": "stream",
     "text": [
      "/var/folders/fh/fzyqqz2s1vzcm3v06kz1h29w0000gp/T/ipykernel_2244/85417958.py:8: UserWarning: Boolean Series key will be reindexed to match DataFrame index.\n",
      "  temp_stats = all_pitching_stats[all_pitching_stats['team'] == team['Team']][all_pitching_stats['date'].astype(str).str.startswith(str(team['Year']))][all_pitching_stats['gametype'] == 'regular'][pitching_features]\n",
      "/var/folders/fh/fzyqqz2s1vzcm3v06kz1h29w0000gp/T/ipykernel_2244/85417958.py:8: UserWarning: Boolean Series key will be reindexed to match DataFrame index.\n",
      "  temp_stats = all_pitching_stats[all_pitching_stats['team'] == team['Team']][all_pitching_stats['date'].astype(str).str.startswith(str(team['Year']))][all_pitching_stats['gametype'] == 'regular'][pitching_features]\n"
     ]
    },
    {
     "name": "stdout",
     "output_type": "stream",
     "text": [
      "Max WHIP: 0.5333333333333333\n",
      "Min WHIP: 0.09090909090909091\n",
      "Max ERA: 2.1176470588235294\n",
      "Min ERA: 0.0\n",
      "(17, 16)\n",
      "(1, 25, 16)\n",
      "Max WHIP: 0.5333333333333333\n",
      "Min WHIP: 0.0\n",
      "Max ERA: 2.1176470588235294\n",
      "Min ERA: 0.0\n",
      "Index: 64, Year: 2003 Team: NYA, Level of Success: WS\n"
     ]
    },
    {
     "name": "stderr",
     "output_type": "stream",
     "text": [
      "/var/folders/fh/fzyqqz2s1vzcm3v06kz1h29w0000gp/T/ipykernel_2244/85417958.py:8: UserWarning: Boolean Series key will be reindexed to match DataFrame index.\n",
      "  temp_stats = all_pitching_stats[all_pitching_stats['team'] == team['Team']][all_pitching_stats['date'].astype(str).str.startswith(str(team['Year']))][all_pitching_stats['gametype'] == 'regular'][pitching_features]\n",
      "/var/folders/fh/fzyqqz2s1vzcm3v06kz1h29w0000gp/T/ipykernel_2244/85417958.py:8: UserWarning: Boolean Series key will be reindexed to match DataFrame index.\n",
      "  temp_stats = all_pitching_stats[all_pitching_stats['team'] == team['Team']][all_pitching_stats['date'].astype(str).str.startswith(str(team['Year']))][all_pitching_stats['gametype'] == 'regular'][pitching_features]\n"
     ]
    },
    {
     "name": "stdout",
     "output_type": "stream",
     "text": [
      "Max WHIP: 1.5\n",
      "Min WHIP: 0.11764705882352941\n",
      "Max ERA: 6.0\n",
      "Min ERA: 0.2647058823529412\n",
      "(23, 16)\n",
      "(1, 25, 16)\n",
      "Max WHIP: 1.5\n",
      "Min WHIP: 0.0\n",
      "Max ERA: 6.0\n",
      "Min ERA: 0.0\n",
      "Index: 65, Year: 2003 Team: OAK, Level of Success: DS\n"
     ]
    },
    {
     "name": "stderr",
     "output_type": "stream",
     "text": [
      "/var/folders/fh/fzyqqz2s1vzcm3v06kz1h29w0000gp/T/ipykernel_2244/85417958.py:8: UserWarning: Boolean Series key will be reindexed to match DataFrame index.\n",
      "  temp_stats = all_pitching_stats[all_pitching_stats['team'] == team['Team']][all_pitching_stats['date'].astype(str).str.startswith(str(team['Year']))][all_pitching_stats['gametype'] == 'regular'][pitching_features]\n",
      "/var/folders/fh/fzyqqz2s1vzcm3v06kz1h29w0000gp/T/ipykernel_2244/85417958.py:8: UserWarning: Boolean Series key will be reindexed to match DataFrame index.\n",
      "  temp_stats = all_pitching_stats[all_pitching_stats['team'] == team['Team']][all_pitching_stats['date'].astype(str).str.startswith(str(team['Year']))][all_pitching_stats['gametype'] == 'regular'][pitching_features]\n"
     ]
    },
    {
     "name": "stdout",
     "output_type": "stream",
     "text": [
      "Max WHIP: 0.7560975609756098\n",
      "Min WHIP: 0.29615384615384616\n",
      "Max ERA: 3.5121951219512195\n",
      "Min ERA: 0.6923076923076923\n",
      "(18, 16)\n",
      "(1, 25, 16)\n",
      "Max WHIP: 0.7560975609756098\n",
      "Min WHIP: 0.0\n",
      "Max ERA: 3.5121951219512195\n",
      "Min ERA: 0.0\n",
      "Index: 66, Year: 2003 Team: MIN, Level of Success: DS\n"
     ]
    },
    {
     "name": "stderr",
     "output_type": "stream",
     "text": [
      "/var/folders/fh/fzyqqz2s1vzcm3v06kz1h29w0000gp/T/ipykernel_2244/85417958.py:8: UserWarning: Boolean Series key will be reindexed to match DataFrame index.\n",
      "  temp_stats = all_pitching_stats[all_pitching_stats['team'] == team['Team']][all_pitching_stats['date'].astype(str).str.startswith(str(team['Year']))][all_pitching_stats['gametype'] == 'regular'][pitching_features]\n",
      "/var/folders/fh/fzyqqz2s1vzcm3v06kz1h29w0000gp/T/ipykernel_2244/85417958.py:8: UserWarning: Boolean Series key will be reindexed to match DataFrame index.\n",
      "  temp_stats = all_pitching_stats[all_pitching_stats['team'] == team['Team']][all_pitching_stats['date'].astype(str).str.startswith(str(team['Year']))][all_pitching_stats['gametype'] == 'regular'][pitching_features]\n"
     ]
    },
    {
     "name": "stdout",
     "output_type": "stream",
     "text": [
      "Max WHIP: 2.25\n",
      "Min WHIP: 0.16666666666666666\n",
      "Max ERA: 15.75\n",
      "Min ERA: 0.0\n",
      "(20, 16)\n",
      "(1, 25, 16)\n",
      "Max WHIP: 2.25\n",
      "Min WHIP: 0.0\n",
      "Max ERA: 15.75\n",
      "Min ERA: 0.0\n",
      "Index: 67, Year: 2003 Team: BOS, Level of Success: LS\n"
     ]
    },
    {
     "name": "stderr",
     "output_type": "stream",
     "text": [
      "/var/folders/fh/fzyqqz2s1vzcm3v06kz1h29w0000gp/T/ipykernel_2244/85417958.py:8: UserWarning: Boolean Series key will be reindexed to match DataFrame index.\n",
      "  temp_stats = all_pitching_stats[all_pitching_stats['team'] == team['Team']][all_pitching_stats['date'].astype(str).str.startswith(str(team['Year']))][all_pitching_stats['gametype'] == 'regular'][pitching_features]\n",
      "/var/folders/fh/fzyqqz2s1vzcm3v06kz1h29w0000gp/T/ipykernel_2244/85417958.py:8: UserWarning: Boolean Series key will be reindexed to match DataFrame index.\n",
      "  temp_stats = all_pitching_stats[all_pitching_stats['team'] == team['Team']][all_pitching_stats['date'].astype(str).str.startswith(str(team['Year']))][all_pitching_stats['gametype'] == 'regular'][pitching_features]\n"
     ]
    },
    {
     "name": "stdout",
     "output_type": "stream",
     "text": [
      "Max WHIP: 1.1818181818181819\n",
      "Min WHIP: 0.2692307692307692\n",
      "Max ERA: 9.0\n",
      "Min ERA: 0.6923076923076923\n",
      "(26, 16)\n",
      "(1, 25, 16)\n",
      "Max WHIP: 1.0769230769230769\n",
      "Min WHIP: 0.2692307692307692\n",
      "Max ERA: 4.153846153846154\n",
      "Min ERA: 0.6923076923076923\n",
      "Index: 68, Year: 2003 Team: ATL, Level of Success: DS\n"
     ]
    },
    {
     "name": "stderr",
     "output_type": "stream",
     "text": [
      "/var/folders/fh/fzyqqz2s1vzcm3v06kz1h29w0000gp/T/ipykernel_2244/85417958.py:8: UserWarning: Boolean Series key will be reindexed to match DataFrame index.\n",
      "  temp_stats = all_pitching_stats[all_pitching_stats['team'] == team['Team']][all_pitching_stats['date'].astype(str).str.startswith(str(team['Year']))][all_pitching_stats['gametype'] == 'regular'][pitching_features]\n",
      "/var/folders/fh/fzyqqz2s1vzcm3v06kz1h29w0000gp/T/ipykernel_2244/85417958.py:8: UserWarning: Boolean Series key will be reindexed to match DataFrame index.\n",
      "  temp_stats = all_pitching_stats[all_pitching_stats['team'] == team['Team']][all_pitching_stats['date'].astype(str).str.startswith(str(team['Year']))][all_pitching_stats['gametype'] == 'regular'][pitching_features]\n"
     ]
    },
    {
     "name": "stdout",
     "output_type": "stream",
     "text": [
      "Max WHIP: 0.8571428571428571\n",
      "Min WHIP: 0.29015544041450775\n",
      "Max ERA: 6.0\n",
      "Min ERA: 0.3529411764705882\n",
      "(17, 16)\n",
      "(1, 25, 16)\n",
      "Max WHIP: 0.8571428571428571\n",
      "Min WHIP: 0.0\n",
      "Max ERA: 6.0\n",
      "Min ERA: 0.0\n",
      "Index: 69, Year: 2003 Team: SFN, Level of Success: DS\n"
     ]
    },
    {
     "name": "stderr",
     "output_type": "stream",
     "text": [
      "/var/folders/fh/fzyqqz2s1vzcm3v06kz1h29w0000gp/T/ipykernel_2244/85417958.py:8: UserWarning: Boolean Series key will be reindexed to match DataFrame index.\n",
      "  temp_stats = all_pitching_stats[all_pitching_stats['team'] == team['Team']][all_pitching_stats['date'].astype(str).str.startswith(str(team['Year']))][all_pitching_stats['gametype'] == 'regular'][pitching_features]\n",
      "/var/folders/fh/fzyqqz2s1vzcm3v06kz1h29w0000gp/T/ipykernel_2244/85417958.py:8: UserWarning: Boolean Series key will be reindexed to match DataFrame index.\n",
      "  temp_stats = all_pitching_stats[all_pitching_stats['team'] == team['Team']][all_pitching_stats['date'].astype(str).str.startswith(str(team['Year']))][all_pitching_stats['gametype'] == 'regular'][pitching_features]\n"
     ]
    },
    {
     "name": "stdout",
     "output_type": "stream",
     "text": [
      "Max WHIP: 0.7777777777777778\n",
      "Min WHIP: 0.15789473684210525\n",
      "Max ERA: 4.5\n",
      "Min ERA: 0.0\n",
      "(21, 16)\n",
      "(1, 25, 16)\n",
      "Max WHIP: 0.7777777777777778\n",
      "Min WHIP: 0.0\n",
      "Max ERA: 4.5\n",
      "Min ERA: 0.0\n",
      "Index: 70, Year: 2003 Team: CHN, Level of Success: LS\n"
     ]
    },
    {
     "name": "stderr",
     "output_type": "stream",
     "text": [
      "/var/folders/fh/fzyqqz2s1vzcm3v06kz1h29w0000gp/T/ipykernel_2244/85417958.py:8: UserWarning: Boolean Series key will be reindexed to match DataFrame index.\n",
      "  temp_stats = all_pitching_stats[all_pitching_stats['team'] == team['Team']][all_pitching_stats['date'].astype(str).str.startswith(str(team['Year']))][all_pitching_stats['gametype'] == 'regular'][pitching_features]\n",
      "/var/folders/fh/fzyqqz2s1vzcm3v06kz1h29w0000gp/T/ipykernel_2244/85417958.py:8: UserWarning: Boolean Series key will be reindexed to match DataFrame index.\n",
      "  temp_stats = all_pitching_stats[all_pitching_stats['team'] == team['Team']][all_pitching_stats['date'].astype(str).str.startswith(str(team['Year']))][all_pitching_stats['gametype'] == 'regular'][pitching_features]\n"
     ]
    },
    {
     "name": "stdout",
     "output_type": "stream",
     "text": [
      "Max WHIP: 1.0\n",
      "Min WHIP: 0.35121951219512193\n",
      "Max ERA: 3.6\n",
      "Min ERA: 0.72\n",
      "(17, 16)\n",
      "(1, 25, 16)\n",
      "Max WHIP: 1.0\n",
      "Min WHIP: 0.0\n",
      "Max ERA: 3.6\n",
      "Min ERA: 0.0\n",
      "Index: 71, Year: 2003 Team: FLO, Level of Success: C\n"
     ]
    },
    {
     "name": "stderr",
     "output_type": "stream",
     "text": [
      "/var/folders/fh/fzyqqz2s1vzcm3v06kz1h29w0000gp/T/ipykernel_2244/85417958.py:8: UserWarning: Boolean Series key will be reindexed to match DataFrame index.\n",
      "  temp_stats = all_pitching_stats[all_pitching_stats['team'] == team['Team']][all_pitching_stats['date'].astype(str).str.startswith(str(team['Year']))][all_pitching_stats['gametype'] == 'regular'][pitching_features]\n",
      "/var/folders/fh/fzyqqz2s1vzcm3v06kz1h29w0000gp/T/ipykernel_2244/85417958.py:8: UserWarning: Boolean Series key will be reindexed to match DataFrame index.\n",
      "  temp_stats = all_pitching_stats[all_pitching_stats['team'] == team['Team']][all_pitching_stats['date'].astype(str).str.startswith(str(team['Year']))][all_pitching_stats['gametype'] == 'regular'][pitching_features]\n"
     ]
    },
    {
     "name": "stdout",
     "output_type": "stream",
     "text": [
      "Max WHIP: 0.875\n",
      "Min WHIP: 0.30158730158730157\n",
      "Max ERA: 5.34375\n",
      "Min ERA: 0.18367346938775508\n",
      "(22, 16)\n",
      "(1, 25, 16)\n",
      "Max WHIP: 0.875\n",
      "Min WHIP: 0.0\n",
      "Max ERA: 5.34375\n",
      "Min ERA: 0.0\n",
      "Index: 72, Year: 2004 Team: NYA, Level of Success: LS\n"
     ]
    },
    {
     "name": "stderr",
     "output_type": "stream",
     "text": [
      "/var/folders/fh/fzyqqz2s1vzcm3v06kz1h29w0000gp/T/ipykernel_2244/85417958.py:8: UserWarning: Boolean Series key will be reindexed to match DataFrame index.\n",
      "  temp_stats = all_pitching_stats[all_pitching_stats['team'] == team['Team']][all_pitching_stats['date'].astype(str).str.startswith(str(team['Year']))][all_pitching_stats['gametype'] == 'regular'][pitching_features]\n",
      "/var/folders/fh/fzyqqz2s1vzcm3v06kz1h29w0000gp/T/ipykernel_2244/85417958.py:8: UserWarning: Boolean Series key will be reindexed to match DataFrame index.\n",
      "  temp_stats = all_pitching_stats[all_pitching_stats['team'] == team['Team']][all_pitching_stats['date'].astype(str).str.startswith(str(team['Year']))][all_pitching_stats['gametype'] == 'regular'][pitching_features]\n"
     ]
    },
    {
     "name": "stdout",
     "output_type": "stream",
     "text": [
      "Max WHIP: 1.0666666666666667\n",
      "Min WHIP: 0.2936802973977695\n",
      "Max ERA: 6.6\n",
      "Min ERA: 0.0\n",
      "(23, 16)\n",
      "(1, 25, 16)\n",
      "Max WHIP: 1.0666666666666667\n",
      "Min WHIP: 0.0\n",
      "Max ERA: 6.6\n",
      "Min ERA: 0.0\n",
      "Index: 73, Year: 2004 Team: ANA, Level of Success: DS\n"
     ]
    },
    {
     "name": "stderr",
     "output_type": "stream",
     "text": [
      "/var/folders/fh/fzyqqz2s1vzcm3v06kz1h29w0000gp/T/ipykernel_2244/85417958.py:8: UserWarning: Boolean Series key will be reindexed to match DataFrame index.\n",
      "  temp_stats = all_pitching_stats[all_pitching_stats['team'] == team['Team']][all_pitching_stats['date'].astype(str).str.startswith(str(team['Year']))][all_pitching_stats['gametype'] == 'regular'][pitching_features]\n",
      "/var/folders/fh/fzyqqz2s1vzcm3v06kz1h29w0000gp/T/ipykernel_2244/85417958.py:8: UserWarning: Boolean Series key will be reindexed to match DataFrame index.\n",
      "  temp_stats = all_pitching_stats[all_pitching_stats['team'] == team['Team']][all_pitching_stats['date'].astype(str).str.startswith(str(team['Year']))][all_pitching_stats['gametype'] == 'regular'][pitching_features]\n"
     ]
    },
    {
     "name": "stdout",
     "output_type": "stream",
     "text": [
      "Max WHIP: 0.8888888888888888\n",
      "Min WHIP: 0.3333333333333333\n",
      "Max ERA: 4.5\n",
      "Min ERA: 0.0\n",
      "(16, 16)\n",
      "(1, 25, 16)\n",
      "Max WHIP: 0.8888888888888888\n",
      "Min WHIP: 0.0\n",
      "Max ERA: 4.5\n",
      "Min ERA: 0.0\n",
      "Index: 74, Year: 2004 Team: MIN, Level of Success: DS\n"
     ]
    },
    {
     "name": "stderr",
     "output_type": "stream",
     "text": [
      "/var/folders/fh/fzyqqz2s1vzcm3v06kz1h29w0000gp/T/ipykernel_2244/85417958.py:8: UserWarning: Boolean Series key will be reindexed to match DataFrame index.\n",
      "  temp_stats = all_pitching_stats[all_pitching_stats['team'] == team['Team']][all_pitching_stats['date'].astype(str).str.startswith(str(team['Year']))][all_pitching_stats['gametype'] == 'regular'][pitching_features]\n",
      "/var/folders/fh/fzyqqz2s1vzcm3v06kz1h29w0000gp/T/ipykernel_2244/85417958.py:8: UserWarning: Boolean Series key will be reindexed to match DataFrame index.\n",
      "  temp_stats = all_pitching_stats[all_pitching_stats['team'] == team['Team']][all_pitching_stats['date'].astype(str).str.startswith(str(team['Year']))][all_pitching_stats['gametype'] == 'regular'][pitching_features]\n"
     ]
    },
    {
     "name": "stdout",
     "output_type": "stream",
     "text": [
      "Max WHIP: 2.0\n",
      "Min WHIP: 0.30701754385964913\n",
      "Max ERA: 14.4\n",
      "Min ERA: 0.5391705069124424\n",
      "(18, 16)\n",
      "(1, 25, 16)\n",
      "Max WHIP: 2.0\n",
      "Min WHIP: 0.0\n",
      "Max ERA: 14.4\n",
      "Min ERA: 0.0\n",
      "Index: 75, Year: 2004 Team: BOS, Level of Success: C\n"
     ]
    },
    {
     "name": "stderr",
     "output_type": "stream",
     "text": [
      "/var/folders/fh/fzyqqz2s1vzcm3v06kz1h29w0000gp/T/ipykernel_2244/85417958.py:8: UserWarning: Boolean Series key will be reindexed to match DataFrame index.\n",
      "  temp_stats = all_pitching_stats[all_pitching_stats['team'] == team['Team']][all_pitching_stats['date'].astype(str).str.startswith(str(team['Year']))][all_pitching_stats['gametype'] == 'regular'][pitching_features]\n",
      "/var/folders/fh/fzyqqz2s1vzcm3v06kz1h29w0000gp/T/ipykernel_2244/85417958.py:8: UserWarning: Boolean Series key will be reindexed to match DataFrame index.\n",
      "  temp_stats = all_pitching_stats[all_pitching_stats['team'] == team['Team']][all_pitching_stats['date'].astype(str).str.startswith(str(team['Year']))][all_pitching_stats['gametype'] == 'regular'][pitching_features]\n"
     ]
    },
    {
     "name": "stdout",
     "output_type": "stream",
     "text": [
      "Max WHIP: 1.1\n",
      "Min WHIP: 0.2727272727272727\n",
      "Max ERA: 5.625\n",
      "Min ERA: 0.0\n",
      "(26, 16)\n",
      "(1, 25, 16)\n",
      "Max WHIP: 1.1\n",
      "Min WHIP: 0.2727272727272727\n",
      "Max ERA: 5.625\n",
      "Min ERA: 0.0\n",
      "Index: 76, Year: 2004 Team: SLN, Level of Success: WS\n"
     ]
    },
    {
     "name": "stderr",
     "output_type": "stream",
     "text": [
      "/var/folders/fh/fzyqqz2s1vzcm3v06kz1h29w0000gp/T/ipykernel_2244/85417958.py:8: UserWarning: Boolean Series key will be reindexed to match DataFrame index.\n",
      "  temp_stats = all_pitching_stats[all_pitching_stats['team'] == team['Team']][all_pitching_stats['date'].astype(str).str.startswith(str(team['Year']))][all_pitching_stats['gametype'] == 'regular'][pitching_features]\n",
      "/var/folders/fh/fzyqqz2s1vzcm3v06kz1h29w0000gp/T/ipykernel_2244/85417958.py:8: UserWarning: Boolean Series key will be reindexed to match DataFrame index.\n",
      "  temp_stats = all_pitching_stats[all_pitching_stats['team'] == team['Team']][all_pitching_stats['date'].astype(str).str.startswith(str(team['Year']))][all_pitching_stats['gametype'] == 'regular'][pitching_features]\n"
     ]
    },
    {
     "name": "stdout",
     "output_type": "stream",
     "text": [
      "Max WHIP: 0.8636363636363636\n",
      "Min WHIP: 0.1388888888888889\n",
      "Max ERA: 2.8636363636363638\n",
      "Min ERA: 0.0\n",
      "(20, 16)\n",
      "(1, 25, 16)\n",
      "Max WHIP: 0.8636363636363636\n",
      "Min WHIP: 0.0\n",
      "Max ERA: 2.8636363636363638\n",
      "Min ERA: 0.0\n",
      "Index: 77, Year: 2004 Team: ATL, Level of Success: DS\n"
     ]
    },
    {
     "name": "stderr",
     "output_type": "stream",
     "text": [
      "/var/folders/fh/fzyqqz2s1vzcm3v06kz1h29w0000gp/T/ipykernel_2244/85417958.py:8: UserWarning: Boolean Series key will be reindexed to match DataFrame index.\n",
      "  temp_stats = all_pitching_stats[all_pitching_stats['team'] == team['Team']][all_pitching_stats['date'].astype(str).str.startswith(str(team['Year']))][all_pitching_stats['gametype'] == 'regular'][pitching_features]\n",
      "/var/folders/fh/fzyqqz2s1vzcm3v06kz1h29w0000gp/T/ipykernel_2244/85417958.py:8: UserWarning: Boolean Series key will be reindexed to match DataFrame index.\n",
      "  temp_stats = all_pitching_stats[all_pitching_stats['team'] == team['Team']][all_pitching_stats['date'].astype(str).str.startswith(str(team['Year']))][all_pitching_stats['gametype'] == 'regular'][pitching_features]\n"
     ]
    },
    {
     "name": "stdout",
     "output_type": "stream",
     "text": [
      "Max WHIP: 0.7916666666666666\n",
      "Min WHIP: 0.35918367346938773\n",
      "Max ERA: 3.75\n",
      "Min ERA: 0.0\n",
      "(21, 16)\n",
      "(1, 25, 16)\n",
      "Max WHIP: 0.7916666666666666\n",
      "Min WHIP: 0.0\n",
      "Max ERA: 3.75\n",
      "Min ERA: 0.0\n",
      "Index: 78, Year: 2004 Team: LAN, Level of Success: DS\n"
     ]
    },
    {
     "name": "stderr",
     "output_type": "stream",
     "text": [
      "/var/folders/fh/fzyqqz2s1vzcm3v06kz1h29w0000gp/T/ipykernel_2244/85417958.py:8: UserWarning: Boolean Series key will be reindexed to match DataFrame index.\n",
      "  temp_stats = all_pitching_stats[all_pitching_stats['team'] == team['Team']][all_pitching_stats['date'].astype(str).str.startswith(str(team['Year']))][all_pitching_stats['gametype'] == 'regular'][pitching_features]\n",
      "/var/folders/fh/fzyqqz2s1vzcm3v06kz1h29w0000gp/T/ipykernel_2244/85417958.py:8: UserWarning: Boolean Series key will be reindexed to match DataFrame index.\n",
      "  temp_stats = all_pitching_stats[all_pitching_stats['team'] == team['Team']][all_pitching_stats['date'].astype(str).str.startswith(str(team['Year']))][all_pitching_stats['gametype'] == 'regular'][pitching_features]\n"
     ]
    },
    {
     "name": "stdout",
     "output_type": "stream",
     "text": [
      "Max WHIP: 0.7027027027027027\n",
      "Min WHIP: 0.16666666666666666\n",
      "Max ERA: 2.75\n",
      "Min ERA: 0.0\n",
      "(22, 16)\n",
      "(1, 25, 16)\n",
      "Max WHIP: 0.7027027027027027\n",
      "Min WHIP: 0.0\n",
      "Max ERA: 2.75\n",
      "Min ERA: 0.0\n",
      "Index: 79, Year: 2004 Team: HOU, Level of Success: LS\n"
     ]
    },
    {
     "name": "stderr",
     "output_type": "stream",
     "text": [
      "/var/folders/fh/fzyqqz2s1vzcm3v06kz1h29w0000gp/T/ipykernel_2244/85417958.py:8: UserWarning: Boolean Series key will be reindexed to match DataFrame index.\n",
      "  temp_stats = all_pitching_stats[all_pitching_stats['team'] == team['Team']][all_pitching_stats['date'].astype(str).str.startswith(str(team['Year']))][all_pitching_stats['gametype'] == 'regular'][pitching_features]\n",
      "/var/folders/fh/fzyqqz2s1vzcm3v06kz1h29w0000gp/T/ipykernel_2244/85417958.py:8: UserWarning: Boolean Series key will be reindexed to match DataFrame index.\n",
      "  temp_stats = all_pitching_stats[all_pitching_stats['team'] == team['Team']][all_pitching_stats['date'].astype(str).str.startswith(str(team['Year']))][all_pitching_stats['gametype'] == 'regular'][pitching_features]\n"
     ]
    },
    {
     "name": "stdout",
     "output_type": "stream",
     "text": [
      "Max WHIP: 3.6666666666666665\n",
      "Min WHIP: 0.30633802816901406\n",
      "Max ERA: 18.0\n",
      "Min ERA: 0.6338028169014085\n",
      "(23, 16)\n",
      "(1, 25, 16)\n",
      "Max WHIP: 3.6666666666666665\n",
      "Min WHIP: 0.0\n",
      "Max ERA: 18.0\n",
      "Min ERA: 0.0\n",
      "Index: 80, Year: 2005 Team: CHA, Level of Success: C\n"
     ]
    },
    {
     "name": "stderr",
     "output_type": "stream",
     "text": [
      "/var/folders/fh/fzyqqz2s1vzcm3v06kz1h29w0000gp/T/ipykernel_2244/85417958.py:8: UserWarning: Boolean Series key will be reindexed to match DataFrame index.\n",
      "  temp_stats = all_pitching_stats[all_pitching_stats['team'] == team['Team']][all_pitching_stats['date'].astype(str).str.startswith(str(team['Year']))][all_pitching_stats['gametype'] == 'regular'][pitching_features]\n",
      "/var/folders/fh/fzyqqz2s1vzcm3v06kz1h29w0000gp/T/ipykernel_2244/85417958.py:8: UserWarning: Boolean Series key will be reindexed to match DataFrame index.\n",
      "  temp_stats = all_pitching_stats[all_pitching_stats['team'] == team['Team']][all_pitching_stats['date'].astype(str).str.startswith(str(team['Year']))][all_pitching_stats['gametype'] == 'regular'][pitching_features]\n"
     ]
    },
    {
     "name": "stdout",
     "output_type": "stream",
     "text": [
      "Max WHIP: 0.7142857142857143\n",
      "Min WHIP: 0.3076923076923077\n",
      "Max ERA: 4.5\n",
      "Min ERA: 0.6464088397790055\n",
      "(17, 16)\n",
      "(1, 25, 16)\n",
      "Max WHIP: 0.7142857142857143\n",
      "Min WHIP: 0.0\n",
      "Max ERA: 4.5\n",
      "Min ERA: 0.0\n",
      "Index: 81, Year: 2005 Team: ANA, Level of Success: LS\n"
     ]
    },
    {
     "name": "stderr",
     "output_type": "stream",
     "text": [
      "/var/folders/fh/fzyqqz2s1vzcm3v06kz1h29w0000gp/T/ipykernel_2244/85417958.py:8: UserWarning: Boolean Series key will be reindexed to match DataFrame index.\n",
      "  temp_stats = all_pitching_stats[all_pitching_stats['team'] == team['Team']][all_pitching_stats['date'].astype(str).str.startswith(str(team['Year']))][all_pitching_stats['gametype'] == 'regular'][pitching_features]\n",
      "/var/folders/fh/fzyqqz2s1vzcm3v06kz1h29w0000gp/T/ipykernel_2244/85417958.py:8: UserWarning: Boolean Series key will be reindexed to match DataFrame index.\n",
      "  temp_stats = all_pitching_stats[all_pitching_stats['team'] == team['Team']][all_pitching_stats['date'].astype(str).str.startswith(str(team['Year']))][all_pitching_stats['gametype'] == 'regular'][pitching_features]\n"
     ]
    },
    {
     "name": "stdout",
     "output_type": "stream",
     "text": [
      "Max WHIP: 0.8181818181818182\n",
      "Min WHIP: 0.3687150837988827\n",
      "Max ERA: 2.571428571428571\n",
      "Min ERA: 0.8181818181818182\n",
      "(18, 16)\n",
      "(1, 25, 16)\n",
      "Max WHIP: 0.8181818181818182\n",
      "Min WHIP: 0.0\n",
      "Max ERA: 2.571428571428571\n",
      "Min ERA: 0.0\n",
      "Index: 82, Year: 2005 Team: NYA, Level of Success: DS\n"
     ]
    },
    {
     "name": "stderr",
     "output_type": "stream",
     "text": [
      "/var/folders/fh/fzyqqz2s1vzcm3v06kz1h29w0000gp/T/ipykernel_2244/85417958.py:8: UserWarning: Boolean Series key will be reindexed to match DataFrame index.\n",
      "  temp_stats = all_pitching_stats[all_pitching_stats['team'] == team['Team']][all_pitching_stats['date'].astype(str).str.startswith(str(team['Year']))][all_pitching_stats['gametype'] == 'regular'][pitching_features]\n",
      "/var/folders/fh/fzyqqz2s1vzcm3v06kz1h29w0000gp/T/ipykernel_2244/85417958.py:8: UserWarning: Boolean Series key will be reindexed to match DataFrame index.\n",
      "  temp_stats = all_pitching_stats[all_pitching_stats['team'] == team['Team']][all_pitching_stats['date'].astype(str).str.startswith(str(team['Year']))][all_pitching_stats['gametype'] == 'regular'][pitching_features]\n"
     ]
    },
    {
     "name": "stdout",
     "output_type": "stream",
     "text": [
      "Max WHIP: 2.6666666666666665\n",
      "Min WHIP: 0.28936170212765955\n",
      "Max ERA: 18.0\n",
      "Min ERA: 0.4595744680851064\n",
      "(28, 16)\n",
      "(1, 25, 16)\n",
      "Max WHIP: 0.8529411764705882\n",
      "Min WHIP: 0.28936170212765955\n",
      "Max ERA: 5.571428571428571\n",
      "Min ERA: 0.4595744680851064\n",
      "Index: 83, Year: 2005 Team: BOS, Level of Success: DS\n"
     ]
    },
    {
     "name": "stderr",
     "output_type": "stream",
     "text": [
      "/var/folders/fh/fzyqqz2s1vzcm3v06kz1h29w0000gp/T/ipykernel_2244/85417958.py:8: UserWarning: Boolean Series key will be reindexed to match DataFrame index.\n",
      "  temp_stats = all_pitching_stats[all_pitching_stats['team'] == team['Team']][all_pitching_stats['date'].astype(str).str.startswith(str(team['Year']))][all_pitching_stats['gametype'] == 'regular'][pitching_features]\n",
      "/var/folders/fh/fzyqqz2s1vzcm3v06kz1h29w0000gp/T/ipykernel_2244/85417958.py:8: UserWarning: Boolean Series key will be reindexed to match DataFrame index.\n",
      "  temp_stats = all_pitching_stats[all_pitching_stats['team'] == team['Team']][all_pitching_stats['date'].astype(str).str.startswith(str(team['Year']))][all_pitching_stats['gametype'] == 'regular'][pitching_features]\n"
     ]
    },
    {
     "name": "stdout",
     "output_type": "stream",
     "text": [
      "Max WHIP: inf\n",
      "Min WHIP: 0.3333333333333333\n",
      "Max ERA: inf\n",
      "Min ERA: 0.0\n",
      "(26, 16)\n",
      "(1, 25, 16)\n",
      "Max WHIP: 2.0\n",
      "Min WHIP: 0.3333333333333333\n",
      "Max ERA: 13.5\n",
      "Min ERA: 0.0\n",
      "Index: 84, Year: 2005 Team: SLN, Level of Success: LS\n"
     ]
    },
    {
     "name": "stderr",
     "output_type": "stream",
     "text": [
      "/var/folders/fh/fzyqqz2s1vzcm3v06kz1h29w0000gp/T/ipykernel_2244/85417958.py:8: UserWarning: Boolean Series key will be reindexed to match DataFrame index.\n",
      "  temp_stats = all_pitching_stats[all_pitching_stats['team'] == team['Team']][all_pitching_stats['date'].astype(str).str.startswith(str(team['Year']))][all_pitching_stats['gametype'] == 'regular'][pitching_features]\n",
      "/var/folders/fh/fzyqqz2s1vzcm3v06kz1h29w0000gp/T/ipykernel_2244/85417958.py:8: UserWarning: Boolean Series key will be reindexed to match DataFrame index.\n",
      "  temp_stats = all_pitching_stats[all_pitching_stats['team'] == team['Team']][all_pitching_stats['date'].astype(str).str.startswith(str(team['Year']))][all_pitching_stats['gametype'] == 'regular'][pitching_features]\n"
     ]
    },
    {
     "name": "stdout",
     "output_type": "stream",
     "text": [
      "Max WHIP: 0.8888888888888888\n",
      "Min WHIP: 0.25\n",
      "Max ERA: 4.5\n",
      "Min ERA: 0.0\n",
      "(20, 16)\n",
      "(1, 25, 16)\n",
      "Max WHIP: 0.8888888888888888\n",
      "Min WHIP: 0.0\n",
      "Max ERA: 4.5\n",
      "Min ERA: 0.0\n",
      "Index: 85, Year: 2005 Team: ATL, Level of Success: DS\n"
     ]
    },
    {
     "name": "stderr",
     "output_type": "stream",
     "text": [
      "/var/folders/fh/fzyqqz2s1vzcm3v06kz1h29w0000gp/T/ipykernel_2244/85417958.py:8: UserWarning: Boolean Series key will be reindexed to match DataFrame index.\n",
      "  temp_stats = all_pitching_stats[all_pitching_stats['team'] == team['Team']][all_pitching_stats['date'].astype(str).str.startswith(str(team['Year']))][all_pitching_stats['gametype'] == 'regular'][pitching_features]\n",
      "/var/folders/fh/fzyqqz2s1vzcm3v06kz1h29w0000gp/T/ipykernel_2244/85417958.py:8: UserWarning: Boolean Series key will be reindexed to match DataFrame index.\n",
      "  temp_stats = all_pitching_stats[all_pitching_stats['team'] == team['Team']][all_pitching_stats['date'].astype(str).str.startswith(str(team['Year']))][all_pitching_stats['gametype'] == 'regular'][pitching_features]\n"
     ]
    },
    {
     "name": "stdout",
     "output_type": "stream",
     "text": [
      "Max WHIP: 1.1428571428571428\n",
      "Min WHIP: 0.2682926829268293\n",
      "Max ERA: 6.428571428571429\n",
      "Min ERA: 0.0\n",
      "(26, 16)\n",
      "(1, 25, 16)\n",
      "Max WHIP: 1.1428571428571428\n",
      "Min WHIP: 0.2682926829268293\n",
      "Max ERA: 6.428571428571429\n",
      "Min ERA: 0.0\n",
      "Index: 86, Year: 2005 Team: SDN, Level of Success: DS\n"
     ]
    },
    {
     "name": "stderr",
     "output_type": "stream",
     "text": [
      "/var/folders/fh/fzyqqz2s1vzcm3v06kz1h29w0000gp/T/ipykernel_2244/85417958.py:8: UserWarning: Boolean Series key will be reindexed to match DataFrame index.\n",
      "  temp_stats = all_pitching_stats[all_pitching_stats['team'] == team['Team']][all_pitching_stats['date'].astype(str).str.startswith(str(team['Year']))][all_pitching_stats['gametype'] == 'regular'][pitching_features]\n",
      "/var/folders/fh/fzyqqz2s1vzcm3v06kz1h29w0000gp/T/ipykernel_2244/85417958.py:8: UserWarning: Boolean Series key will be reindexed to match DataFrame index.\n",
      "  temp_stats = all_pitching_stats[all_pitching_stats['team'] == team['Team']][all_pitching_stats['date'].astype(str).str.startswith(str(team['Year']))][all_pitching_stats['gametype'] == 'regular'][pitching_features]\n"
     ]
    },
    {
     "name": "stdout",
     "output_type": "stream",
     "text": [
      "Max WHIP: 1.3333333333333333\n",
      "Min WHIP: 0.34811165845648606\n",
      "Max ERA: 9.0\n",
      "Min ERA: 0.5664335664335665\n",
      "(23, 16)\n",
      "(1, 25, 16)\n",
      "Max WHIP: 1.3333333333333333\n",
      "Min WHIP: 0.0\n",
      "Max ERA: 9.0\n",
      "Min ERA: 0.0\n",
      "Index: 87, Year: 2005 Team: HOU, Level of Success: WS\n"
     ]
    },
    {
     "name": "stderr",
     "output_type": "stream",
     "text": [
      "/var/folders/fh/fzyqqz2s1vzcm3v06kz1h29w0000gp/T/ipykernel_2244/85417958.py:8: UserWarning: Boolean Series key will be reindexed to match DataFrame index.\n",
      "  temp_stats = all_pitching_stats[all_pitching_stats['team'] == team['Team']][all_pitching_stats['date'].astype(str).str.startswith(str(team['Year']))][all_pitching_stats['gametype'] == 'regular'][pitching_features]\n",
      "/var/folders/fh/fzyqqz2s1vzcm3v06kz1h29w0000gp/T/ipykernel_2244/85417958.py:8: UserWarning: Boolean Series key will be reindexed to match DataFrame index.\n",
      "  temp_stats = all_pitching_stats[all_pitching_stats['team'] == team['Team']][all_pitching_stats['date'].astype(str).str.startswith(str(team['Year']))][all_pitching_stats['gametype'] == 'regular'][pitching_features]\n"
     ]
    },
    {
     "name": "stdout",
     "output_type": "stream",
     "text": [
      "Max WHIP: 0.7111111111111111\n",
      "Min WHIP: 0.32727272727272727\n",
      "Max ERA: 3.673469387755102\n",
      "Min ERA: 0.0\n",
      "(17, 16)\n",
      "(1, 25, 16)\n",
      "Max WHIP: 0.7111111111111111\n",
      "Min WHIP: 0.0\n",
      "Max ERA: 3.673469387755102\n",
      "Min ERA: 0.0\n",
      "Index: 88, Year: 2006 Team: NYA, Level of Success: DS\n"
     ]
    },
    {
     "name": "stderr",
     "output_type": "stream",
     "text": [
      "/var/folders/fh/fzyqqz2s1vzcm3v06kz1h29w0000gp/T/ipykernel_2244/85417958.py:8: UserWarning: Boolean Series key will be reindexed to match DataFrame index.\n",
      "  temp_stats = all_pitching_stats[all_pitching_stats['team'] == team['Team']][all_pitching_stats['date'].astype(str).str.startswith(str(team['Year']))][all_pitching_stats['gametype'] == 'regular'][pitching_features]\n",
      "/var/folders/fh/fzyqqz2s1vzcm3v06kz1h29w0000gp/T/ipykernel_2244/85417958.py:8: UserWarning: Boolean Series key will be reindexed to match DataFrame index.\n",
      "  temp_stats = all_pitching_stats[all_pitching_stats['team'] == team['Team']][all_pitching_stats['date'].astype(str).str.startswith(str(team['Year']))][all_pitching_stats['gametype'] == 'regular'][pitching_features]\n"
     ]
    },
    {
     "name": "stdout",
     "output_type": "stream",
     "text": [
      "Max WHIP: 0.9666666666666667\n",
      "Min WHIP: 0.32\n",
      "Max ERA: 3.6\n",
      "Min ERA: 0.0\n",
      "(25, 16)\n",
      "(1, 25, 16)\n",
      "Max WHIP: 0.9666666666666667\n",
      "Min WHIP: 0.32\n",
      "Max ERA: 3.6\n",
      "Min ERA: 0.0\n",
      "Index: 89, Year: 2006 Team: MIN, Level of Success: DS\n"
     ]
    },
    {
     "name": "stderr",
     "output_type": "stream",
     "text": [
      "/var/folders/fh/fzyqqz2s1vzcm3v06kz1h29w0000gp/T/ipykernel_2244/85417958.py:8: UserWarning: Boolean Series key will be reindexed to match DataFrame index.\n",
      "  temp_stats = all_pitching_stats[all_pitching_stats['team'] == team['Team']][all_pitching_stats['date'].astype(str).str.startswith(str(team['Year']))][all_pitching_stats['gametype'] == 'regular'][pitching_features]\n",
      "/var/folders/fh/fzyqqz2s1vzcm3v06kz1h29w0000gp/T/ipykernel_2244/85417958.py:8: UserWarning: Boolean Series key will be reindexed to match DataFrame index.\n",
      "  temp_stats = all_pitching_stats[all_pitching_stats['team'] == team['Team']][all_pitching_stats['date'].astype(str).str.startswith(str(team['Year']))][all_pitching_stats['gametype'] == 'regular'][pitching_features]\n"
     ]
    },
    {
     "name": "stdout",
     "output_type": "stream",
     "text": [
      "Max WHIP: 0.8888888888888888\n",
      "Min WHIP: 0.17647058823529413\n",
      "Max ERA: 4.0\n",
      "Min ERA: 0.29605263157894735\n",
      "(17, 16)\n",
      "(1, 25, 16)\n",
      "Max WHIP: 0.8888888888888888\n",
      "Min WHIP: 0.0\n",
      "Max ERA: 4.0\n",
      "Min ERA: 0.0\n",
      "Index: 90, Year: 2006 Team: OAK, Level of Success: LS\n"
     ]
    },
    {
     "name": "stderr",
     "output_type": "stream",
     "text": [
      "/var/folders/fh/fzyqqz2s1vzcm3v06kz1h29w0000gp/T/ipykernel_2244/85417958.py:8: UserWarning: Boolean Series key will be reindexed to match DataFrame index.\n",
      "  temp_stats = all_pitching_stats[all_pitching_stats['team'] == team['Team']][all_pitching_stats['date'].astype(str).str.startswith(str(team['Year']))][all_pitching_stats['gametype'] == 'regular'][pitching_features]\n",
      "/var/folders/fh/fzyqqz2s1vzcm3v06kz1h29w0000gp/T/ipykernel_2244/85417958.py:8: UserWarning: Boolean Series key will be reindexed to match DataFrame index.\n",
      "  temp_stats = all_pitching_stats[all_pitching_stats['team'] == team['Team']][all_pitching_stats['date'].astype(str).str.startswith(str(team['Year']))][all_pitching_stats['gametype'] == 'regular'][pitching_features]\n"
     ]
    },
    {
     "name": "stdout",
     "output_type": "stream",
     "text": [
      "Max WHIP: 0.6764705882352942\n",
      "Min WHIP: 0.3632075471698113\n",
      "Max ERA: 3.8571428571428568\n",
      "Min ERA: 0.7714285714285715\n",
      "(21, 16)\n",
      "(1, 25, 16)\n",
      "Max WHIP: 0.6764705882352942\n",
      "Min WHIP: 0.0\n",
      "Max ERA: 3.8571428571428568\n",
      "Min ERA: 0.0\n",
      "Index: 91, Year: 2006 Team: DET, Level of Success: WS\n"
     ]
    },
    {
     "name": "stderr",
     "output_type": "stream",
     "text": [
      "/var/folders/fh/fzyqqz2s1vzcm3v06kz1h29w0000gp/T/ipykernel_2244/85417958.py:8: UserWarning: Boolean Series key will be reindexed to match DataFrame index.\n",
      "  temp_stats = all_pitching_stats[all_pitching_stats['team'] == team['Team']][all_pitching_stats['date'].astype(str).str.startswith(str(team['Year']))][all_pitching_stats['gametype'] == 'regular'][pitching_features]\n",
      "/var/folders/fh/fzyqqz2s1vzcm3v06kz1h29w0000gp/T/ipykernel_2244/85417958.py:8: UserWarning: Boolean Series key will be reindexed to match DataFrame index.\n",
      "  temp_stats = all_pitching_stats[all_pitching_stats['team'] == team['Team']][all_pitching_stats['date'].astype(str).str.startswith(str(team['Year']))][all_pitching_stats['gametype'] == 'regular'][pitching_features]\n"
     ]
    },
    {
     "name": "stdout",
     "output_type": "stream",
     "text": [
      "Max WHIP: 1.0\n",
      "Min WHIP: 0.3333333333333333\n",
      "Max ERA: 2.1521739130434785\n",
      "Min ERA: 0.5\n",
      "(19, 16)\n",
      "(1, 25, 16)\n",
      "Max WHIP: 1.0\n",
      "Min WHIP: 0.0\n",
      "Max ERA: 2.1521739130434785\n",
      "Min ERA: 0.0\n",
      "Index: 92, Year: 2006 Team: NYN, Level of Success: LS\n"
     ]
    },
    {
     "name": "stderr",
     "output_type": "stream",
     "text": [
      "/var/folders/fh/fzyqqz2s1vzcm3v06kz1h29w0000gp/T/ipykernel_2244/85417958.py:8: UserWarning: Boolean Series key will be reindexed to match DataFrame index.\n",
      "  temp_stats = all_pitching_stats[all_pitching_stats['team'] == team['Team']][all_pitching_stats['date'].astype(str).str.startswith(str(team['Year']))][all_pitching_stats['gametype'] == 'regular'][pitching_features]\n",
      "/var/folders/fh/fzyqqz2s1vzcm3v06kz1h29w0000gp/T/ipykernel_2244/85417958.py:8: UserWarning: Boolean Series key will be reindexed to match DataFrame index.\n",
      "  temp_stats = all_pitching_stats[all_pitching_stats['team'] == team['Team']][all_pitching_stats['date'].astype(str).str.startswith(str(team['Year']))][all_pitching_stats['gametype'] == 'regular'][pitching_features]\n"
     ]
    },
    {
     "name": "stdout",
     "output_type": "stream",
     "text": [
      "Max WHIP: 1.0\n",
      "Min WHIP: 0.16666666666666666\n",
      "Max ERA: 9.0\n",
      "Min ERA: 0.0\n",
      "(27, 16)\n",
      "(1, 25, 16)\n",
      "Max WHIP: 0.6730769230769231\n",
      "Min WHIP: 0.2631578947368421\n",
      "Max ERA: 3.2884615384615383\n",
      "Min ERA: 0.3333333333333333\n",
      "Index: 93, Year: 2006 Team: SDN, Level of Success: DS\n"
     ]
    },
    {
     "name": "stderr",
     "output_type": "stream",
     "text": [
      "/var/folders/fh/fzyqqz2s1vzcm3v06kz1h29w0000gp/T/ipykernel_2244/85417958.py:8: UserWarning: Boolean Series key will be reindexed to match DataFrame index.\n",
      "  temp_stats = all_pitching_stats[all_pitching_stats['team'] == team['Team']][all_pitching_stats['date'].astype(str).str.startswith(str(team['Year']))][all_pitching_stats['gametype'] == 'regular'][pitching_features]\n",
      "/var/folders/fh/fzyqqz2s1vzcm3v06kz1h29w0000gp/T/ipykernel_2244/85417958.py:8: UserWarning: Boolean Series key will be reindexed to match DataFrame index.\n",
      "  temp_stats = all_pitching_stats[all_pitching_stats['team'] == team['Team']][all_pitching_stats['date'].astype(str).str.startswith(str(team['Year']))][all_pitching_stats['gametype'] == 'regular'][pitching_features]\n"
     ]
    },
    {
     "name": "stdout",
     "output_type": "stream",
     "text": [
      "Max WHIP: 0.6851851851851852\n",
      "Min WHIP: 0.2222222222222222\n",
      "Max ERA: 4.0\n",
      "Min ERA: 0.35526315789473684\n",
      "(22, 16)\n",
      "(1, 25, 16)\n",
      "Max WHIP: 0.6851851851851852\n",
      "Min WHIP: 0.0\n",
      "Max ERA: 4.0\n",
      "Min ERA: 0.0\n",
      "Index: 94, Year: 2006 Team: SLN, Level of Success: C\n"
     ]
    },
    {
     "name": "stderr",
     "output_type": "stream",
     "text": [
      "/var/folders/fh/fzyqqz2s1vzcm3v06kz1h29w0000gp/T/ipykernel_2244/85417958.py:8: UserWarning: Boolean Series key will be reindexed to match DataFrame index.\n",
      "  temp_stats = all_pitching_stats[all_pitching_stats['team'] == team['Team']][all_pitching_stats['date'].astype(str).str.startswith(str(team['Year']))][all_pitching_stats['gametype'] == 'regular'][pitching_features]\n",
      "/var/folders/fh/fzyqqz2s1vzcm3v06kz1h29w0000gp/T/ipykernel_2244/85417958.py:8: UserWarning: Boolean Series key will be reindexed to match DataFrame index.\n",
      "  temp_stats = all_pitching_stats[all_pitching_stats['team'] == team['Team']][all_pitching_stats['date'].astype(str).str.startswith(str(team['Year']))][all_pitching_stats['gametype'] == 'regular'][pitching_features]\n"
     ]
    },
    {
     "name": "stdout",
     "output_type": "stream",
     "text": [
      "Max WHIP: 1.0\n",
      "Min WHIP: 0.2631578947368421\n",
      "Max ERA: 3.6\n",
      "Min ERA: 0.9473684210526315\n",
      "(19, 16)\n",
      "(1, 25, 16)\n",
      "Max WHIP: 1.0\n",
      "Min WHIP: 0.0\n",
      "Max ERA: 3.6\n",
      "Min ERA: 0.0\n",
      "Index: 95, Year: 2006 Team: LAN, Level of Success: DS\n"
     ]
    },
    {
     "name": "stderr",
     "output_type": "stream",
     "text": [
      "/var/folders/fh/fzyqqz2s1vzcm3v06kz1h29w0000gp/T/ipykernel_2244/85417958.py:8: UserWarning: Boolean Series key will be reindexed to match DataFrame index.\n",
      "  temp_stats = all_pitching_stats[all_pitching_stats['team'] == team['Team']][all_pitching_stats['date'].astype(str).str.startswith(str(team['Year']))][all_pitching_stats['gametype'] == 'regular'][pitching_features]\n",
      "/var/folders/fh/fzyqqz2s1vzcm3v06kz1h29w0000gp/T/ipykernel_2244/85417958.py:8: UserWarning: Boolean Series key will be reindexed to match DataFrame index.\n",
      "  temp_stats = all_pitching_stats[all_pitching_stats['team'] == team['Team']][all_pitching_stats['date'].astype(str).str.startswith(str(team['Year']))][all_pitching_stats['gametype'] == 'regular'][pitching_features]\n"
     ]
    },
    {
     "name": "stdout",
     "output_type": "stream",
     "text": [
      "Max WHIP: 0.7142857142857143\n",
      "Min WHIP: 0.16666666666666666\n",
      "Max ERA: 2.8285714285714283\n",
      "Min ERA: 0.0\n",
      "(22, 16)\n",
      "(1, 25, 16)\n",
      "Max WHIP: 0.7142857142857143\n",
      "Min WHIP: 0.0\n",
      "Max ERA: 2.8285714285714283\n",
      "Min ERA: 0.0\n",
      "Index: 96, Year: 2007 Team: BOS, Level of Success: C\n"
     ]
    },
    {
     "name": "stderr",
     "output_type": "stream",
     "text": [
      "/var/folders/fh/fzyqqz2s1vzcm3v06kz1h29w0000gp/T/ipykernel_2244/85417958.py:8: UserWarning: Boolean Series key will be reindexed to match DataFrame index.\n",
      "  temp_stats = all_pitching_stats[all_pitching_stats['team'] == team['Team']][all_pitching_stats['date'].astype(str).str.startswith(str(team['Year']))][all_pitching_stats['gametype'] == 'regular'][pitching_features]\n",
      "/var/folders/fh/fzyqqz2s1vzcm3v06kz1h29w0000gp/T/ipykernel_2244/85417958.py:8: UserWarning: Boolean Series key will be reindexed to match DataFrame index.\n",
      "  temp_stats = all_pitching_stats[all_pitching_stats['team'] == team['Team']][all_pitching_stats['date'].astype(str).str.startswith(str(team['Year']))][all_pitching_stats['gametype'] == 'regular'][pitching_features]\n"
     ]
    },
    {
     "name": "stdout",
     "output_type": "stream",
     "text": [
      "Max WHIP: 0.65\n",
      "Min WHIP: 0.2571428571428571\n",
      "Max ERA: 2.25\n",
      "Min ERA: 0.5294117647058824\n",
      "(20, 16)\n",
      "(1, 25, 16)\n",
      "Max WHIP: 0.65\n",
      "Min WHIP: 0.0\n",
      "Max ERA: 2.25\n",
      "Min ERA: 0.0\n",
      "Index: 97, Year: 2007 Team: CLE, Level of Success: LS\n"
     ]
    },
    {
     "name": "stderr",
     "output_type": "stream",
     "text": [
      "/var/folders/fh/fzyqqz2s1vzcm3v06kz1h29w0000gp/T/ipykernel_2244/85417958.py:8: UserWarning: Boolean Series key will be reindexed to match DataFrame index.\n",
      "  temp_stats = all_pitching_stats[all_pitching_stats['team'] == team['Team']][all_pitching_stats['date'].astype(str).str.startswith(str(team['Year']))][all_pitching_stats['gametype'] == 'regular'][pitching_features]\n",
      "/var/folders/fh/fzyqqz2s1vzcm3v06kz1h29w0000gp/T/ipykernel_2244/85417958.py:8: UserWarning: Boolean Series key will be reindexed to match DataFrame index.\n",
      "  temp_stats = all_pitching_stats[all_pitching_stats['team'] == team['Team']][all_pitching_stats['date'].astype(str).str.startswith(str(team['Year']))][all_pitching_stats['gametype'] == 'regular'][pitching_features]\n"
     ]
    },
    {
     "name": "stdout",
     "output_type": "stream",
     "text": [
      "Max WHIP: 0.75\n",
      "Min WHIP: 0.25210084033613445\n",
      "Max ERA: 4.5\n",
      "Min ERA: 0.0\n",
      "(21, 16)\n",
      "(1, 25, 16)\n",
      "Max WHIP: 0.75\n",
      "Min WHIP: 0.0\n",
      "Max ERA: 4.5\n",
      "Min ERA: 0.0\n",
      "Index: 98, Year: 2007 Team: ANA, Level of Success: DS\n"
     ]
    },
    {
     "name": "stderr",
     "output_type": "stream",
     "text": [
      "/var/folders/fh/fzyqqz2s1vzcm3v06kz1h29w0000gp/T/ipykernel_2244/85417958.py:8: UserWarning: Boolean Series key will be reindexed to match DataFrame index.\n",
      "  temp_stats = all_pitching_stats[all_pitching_stats['team'] == team['Team']][all_pitching_stats['date'].astype(str).str.startswith(str(team['Year']))][all_pitching_stats['gametype'] == 'regular'][pitching_features]\n",
      "/var/folders/fh/fzyqqz2s1vzcm3v06kz1h29w0000gp/T/ipykernel_2244/85417958.py:8: UserWarning: Boolean Series key will be reindexed to match DataFrame index.\n",
      "  temp_stats = all_pitching_stats[all_pitching_stats['team'] == team['Team']][all_pitching_stats['date'].astype(str).str.startswith(str(team['Year']))][all_pitching_stats['gametype'] == 'regular'][pitching_features]\n"
     ]
    },
    {
     "name": "stdout",
     "output_type": "stream",
     "text": [
      "Max WHIP: 0.875\n",
      "Min WHIP: 0.32\n",
      "Max ERA: 3.9375\n",
      "Min ERA: 0.9356435643564356\n",
      "(18, 16)\n",
      "(1, 25, 16)\n",
      "Max WHIP: 0.875\n",
      "Min WHIP: 0.0\n",
      "Max ERA: 3.9375\n",
      "Min ERA: 0.0\n",
      "Index: 99, Year: 2007 Team: NYA, Level of Success: DS\n"
     ]
    },
    {
     "name": "stderr",
     "output_type": "stream",
     "text": [
      "/var/folders/fh/fzyqqz2s1vzcm3v06kz1h29w0000gp/T/ipykernel_2244/85417958.py:8: UserWarning: Boolean Series key will be reindexed to match DataFrame index.\n",
      "  temp_stats = all_pitching_stats[all_pitching_stats['team'] == team['Team']][all_pitching_stats['date'].astype(str).str.startswith(str(team['Year']))][all_pitching_stats['gametype'] == 'regular'][pitching_features]\n",
      "/var/folders/fh/fzyqqz2s1vzcm3v06kz1h29w0000gp/T/ipykernel_2244/85417958.py:8: UserWarning: Boolean Series key will be reindexed to match DataFrame index.\n",
      "  temp_stats = all_pitching_stats[all_pitching_stats['team'] == team['Team']][all_pitching_stats['date'].astype(str).str.startswith(str(team['Year']))][all_pitching_stats['gametype'] == 'regular'][pitching_features]\n"
     ]
    },
    {
     "name": "stdout",
     "output_type": "stream",
     "text": [
      "Max WHIP: 1.1111111111111112\n",
      "Min WHIP: 0.25\n",
      "Max ERA: 4.5\n",
      "Min ERA: 0.125\n",
      "(28, 16)\n",
      "(1, 25, 16)\n",
      "Max WHIP: 0.8181818181818182\n",
      "Min WHIP: 0.25\n",
      "Max ERA: 3.681818181818182\n",
      "Min ERA: 0.125\n",
      "Index: 100, Year: 2007 Team: ARI, Level of Success: LS\n"
     ]
    },
    {
     "name": "stderr",
     "output_type": "stream",
     "text": [
      "/var/folders/fh/fzyqqz2s1vzcm3v06kz1h29w0000gp/T/ipykernel_2244/85417958.py:8: UserWarning: Boolean Series key will be reindexed to match DataFrame index.\n",
      "  temp_stats = all_pitching_stats[all_pitching_stats['team'] == team['Team']][all_pitching_stats['date'].astype(str).str.startswith(str(team['Year']))][all_pitching_stats['gametype'] == 'regular'][pitching_features]\n",
      "/var/folders/fh/fzyqqz2s1vzcm3v06kz1h29w0000gp/T/ipykernel_2244/85417958.py:8: UserWarning: Boolean Series key will be reindexed to match DataFrame index.\n",
      "  temp_stats = all_pitching_stats[all_pitching_stats['team'] == team['Team']][all_pitching_stats['date'].astype(str).str.startswith(str(team['Year']))][all_pitching_stats['gametype'] == 'regular'][pitching_features]\n"
     ]
    },
    {
     "name": "stdout",
     "output_type": "stream",
     "text": [
      "Max WHIP: inf\n",
      "Min WHIP: 0.0\n",
      "Max ERA: 31.5\n",
      "Min ERA: 0.0\n",
      "(26, 16)\n",
      "(1, 25, 16)\n",
      "Max WHIP: 4.0\n",
      "Min WHIP: 0.0\n",
      "Max ERA: 31.5\n",
      "Min ERA: 0.0\n",
      "Index: 101, Year: 2007 Team: PHI, Level of Success: DS\n"
     ]
    },
    {
     "name": "stderr",
     "output_type": "stream",
     "text": [
      "/var/folders/fh/fzyqqz2s1vzcm3v06kz1h29w0000gp/T/ipykernel_2244/85417958.py:8: UserWarning: Boolean Series key will be reindexed to match DataFrame index.\n",
      "  temp_stats = all_pitching_stats[all_pitching_stats['team'] == team['Team']][all_pitching_stats['date'].astype(str).str.startswith(str(team['Year']))][all_pitching_stats['gametype'] == 'regular'][pitching_features]\n",
      "/var/folders/fh/fzyqqz2s1vzcm3v06kz1h29w0000gp/T/ipykernel_2244/85417958.py:8: UserWarning: Boolean Series key will be reindexed to match DataFrame index.\n",
      "  temp_stats = all_pitching_stats[all_pitching_stats['team'] == team['Team']][all_pitching_stats['date'].astype(str).str.startswith(str(team['Year']))][all_pitching_stats['gametype'] == 'regular'][pitching_features]\n"
     ]
    },
    {
     "name": "stdout",
     "output_type": "stream",
     "text": [
      "Max WHIP: 1.25\n",
      "Min WHIP: 0.3669724770642202\n",
      "Max ERA: 4.5\n",
      "Min ERA: 0.0\n",
      "(28, 16)\n",
      "(1, 25, 16)\n",
      "Max WHIP: 0.75\n",
      "Min WHIP: 0.3669724770642202\n",
      "Max ERA: 3.75\n",
      "Min ERA: 0.41284403669724773\n",
      "Index: 102, Year: 2007 Team: CHN, Level of Success: DS\n"
     ]
    },
    {
     "name": "stderr",
     "output_type": "stream",
     "text": [
      "/var/folders/fh/fzyqqz2s1vzcm3v06kz1h29w0000gp/T/ipykernel_2244/85417958.py:8: UserWarning: Boolean Series key will be reindexed to match DataFrame index.\n",
      "  temp_stats = all_pitching_stats[all_pitching_stats['team'] == team['Team']][all_pitching_stats['date'].astype(str).str.startswith(str(team['Year']))][all_pitching_stats['gametype'] == 'regular'][pitching_features]\n",
      "/var/folders/fh/fzyqqz2s1vzcm3v06kz1h29w0000gp/T/ipykernel_2244/85417958.py:8: UserWarning: Boolean Series key will be reindexed to match DataFrame index.\n",
      "  temp_stats = all_pitching_stats[all_pitching_stats['team'] == team['Team']][all_pitching_stats['date'].astype(str).str.startswith(str(team['Year']))][all_pitching_stats['gametype'] == 'regular'][pitching_features]\n"
     ]
    },
    {
     "name": "stdout",
     "output_type": "stream",
     "text": [
      "Max WHIP: 0.7317073170731707\n",
      "Min WHIP: 0.0\n",
      "Max ERA: 3.5121951219512195\n",
      "Min ERA: 0.0\n",
      "(22, 16)\n",
      "(1, 25, 16)\n",
      "Max WHIP: 0.7317073170731707\n",
      "Min WHIP: 0.0\n",
      "Max ERA: 3.5121951219512195\n",
      "Min ERA: 0.0\n",
      "Index: 103, Year: 2007 Team: COL, Level of Success: WS\n"
     ]
    },
    {
     "name": "stderr",
     "output_type": "stream",
     "text": [
      "/var/folders/fh/fzyqqz2s1vzcm3v06kz1h29w0000gp/T/ipykernel_2244/85417958.py:8: UserWarning: Boolean Series key will be reindexed to match DataFrame index.\n",
      "  temp_stats = all_pitching_stats[all_pitching_stats['team'] == team['Team']][all_pitching_stats['date'].astype(str).str.startswith(str(team['Year']))][all_pitching_stats['gametype'] == 'regular'][pitching_features]\n",
      "/var/folders/fh/fzyqqz2s1vzcm3v06kz1h29w0000gp/T/ipykernel_2244/85417958.py:8: UserWarning: Boolean Series key will be reindexed to match DataFrame index.\n",
      "  temp_stats = all_pitching_stats[all_pitching_stats['team'] == team['Team']][all_pitching_stats['date'].astype(str).str.startswith(str(team['Year']))][all_pitching_stats['gametype'] == 'regular'][pitching_features]\n"
     ]
    },
    {
     "name": "stdout",
     "output_type": "stream",
     "text": [
      "Max WHIP: 2.0\n",
      "Min WHIP: 0.3284671532846715\n",
      "Max ERA: 18.0\n",
      "Min ERA: 0.0\n",
      "(30, 16)\n",
      "(1, 25, 16)\n",
      "Max WHIP: 0.8461538461538461\n",
      "Min WHIP: 0.3284671532846715\n",
      "Max ERA: 4.153846153846154\n",
      "Min ERA: 0.7012987012987013\n",
      "Index: 104, Year: 2008 Team: ANA, Level of Success: DS\n"
     ]
    },
    {
     "name": "stderr",
     "output_type": "stream",
     "text": [
      "/var/folders/fh/fzyqqz2s1vzcm3v06kz1h29w0000gp/T/ipykernel_2244/85417958.py:8: UserWarning: Boolean Series key will be reindexed to match DataFrame index.\n",
      "  temp_stats = all_pitching_stats[all_pitching_stats['team'] == team['Team']][all_pitching_stats['date'].astype(str).str.startswith(str(team['Year']))][all_pitching_stats['gametype'] == 'regular'][pitching_features]\n",
      "/var/folders/fh/fzyqqz2s1vzcm3v06kz1h29w0000gp/T/ipykernel_2244/85417958.py:8: UserWarning: Boolean Series key will be reindexed to match DataFrame index.\n",
      "  temp_stats = all_pitching_stats[all_pitching_stats['team'] == team['Team']][all_pitching_stats['date'].astype(str).str.startswith(str(team['Year']))][all_pitching_stats['gametype'] == 'regular'][pitching_features]\n"
     ]
    },
    {
     "name": "stdout",
     "output_type": "stream",
     "text": [
      "Max WHIP: 1.0\n",
      "Min WHIP: 0.3333333333333333\n",
      "Max ERA: 7.5\n",
      "Min ERA: 0.0\n",
      "(19, 16)\n",
      "(1, 25, 16)\n",
      "Max WHIP: 1.0\n",
      "Min WHIP: 0.0\n",
      "Max ERA: 7.5\n",
      "Min ERA: 0.0\n",
      "Index: 105, Year: 2008 Team: TBA, Level of Success: WS\n"
     ]
    },
    {
     "name": "stderr",
     "output_type": "stream",
     "text": [
      "/var/folders/fh/fzyqqz2s1vzcm3v06kz1h29w0000gp/T/ipykernel_2244/85417958.py:8: UserWarning: Boolean Series key will be reindexed to match DataFrame index.\n",
      "  temp_stats = all_pitching_stats[all_pitching_stats['team'] == team['Team']][all_pitching_stats['date'].astype(str).str.startswith(str(team['Year']))][all_pitching_stats['gametype'] == 'regular'][pitching_features]\n",
      "/var/folders/fh/fzyqqz2s1vzcm3v06kz1h29w0000gp/T/ipykernel_2244/85417958.py:8: UserWarning: Boolean Series key will be reindexed to match DataFrame index.\n",
      "  temp_stats = all_pitching_stats[all_pitching_stats['team'] == team['Team']][all_pitching_stats['date'].astype(str).str.startswith(str(team['Year']))][all_pitching_stats['gametype'] == 'regular'][pitching_features]\n"
     ]
    },
    {
     "name": "stdout",
     "output_type": "stream",
     "text": [
      "Max WHIP: 0.9310344827586207\n",
      "Min WHIP: 0.25\n",
      "Max ERA: 3.7241379310344827\n",
      "Min ERA: 0.0\n",
      "(21, 16)\n",
      "(1, 25, 16)\n",
      "Max WHIP: 0.9310344827586207\n",
      "Min WHIP: 0.0\n",
      "Max ERA: 3.7241379310344827\n",
      "Min ERA: 0.0\n",
      "Index: 106, Year: 2008 Team: CHA, Level of Success: DS\n"
     ]
    },
    {
     "name": "stderr",
     "output_type": "stream",
     "text": [
      "/var/folders/fh/fzyqqz2s1vzcm3v06kz1h29w0000gp/T/ipykernel_2244/85417958.py:8: UserWarning: Boolean Series key will be reindexed to match DataFrame index.\n",
      "  temp_stats = all_pitching_stats[all_pitching_stats['team'] == team['Team']][all_pitching_stats['date'].astype(str).str.startswith(str(team['Year']))][all_pitching_stats['gametype'] == 'regular'][pitching_features]\n",
      "/var/folders/fh/fzyqqz2s1vzcm3v06kz1h29w0000gp/T/ipykernel_2244/85417958.py:8: UserWarning: Boolean Series key will be reindexed to match DataFrame index.\n",
      "  temp_stats = all_pitching_stats[all_pitching_stats['team'] == team['Team']][all_pitching_stats['date'].astype(str).str.startswith(str(team['Year']))][all_pitching_stats['gametype'] == 'regular'][pitching_features]\n"
     ]
    },
    {
     "name": "stdout",
     "output_type": "stream",
     "text": [
      "Max WHIP: 0.8205128205128205\n",
      "Min WHIP: 0.3316831683168317\n",
      "Max ERA: 2.593220338983051\n",
      "Min ERA: 0.7058823529411764\n",
      "(19, 16)\n",
      "(1, 25, 16)\n",
      "Max WHIP: 0.8205128205128205\n",
      "Min WHIP: 0.0\n",
      "Max ERA: 2.593220338983051\n",
      "Min ERA: 0.0\n",
      "Index: 107, Year: 2008 Team: BOS, Level of Success: LS\n"
     ]
    },
    {
     "name": "stderr",
     "output_type": "stream",
     "text": [
      "/var/folders/fh/fzyqqz2s1vzcm3v06kz1h29w0000gp/T/ipykernel_2244/85417958.py:8: UserWarning: Boolean Series key will be reindexed to match DataFrame index.\n",
      "  temp_stats = all_pitching_stats[all_pitching_stats['team'] == team['Team']][all_pitching_stats['date'].astype(str).str.startswith(str(team['Year']))][all_pitching_stats['gametype'] == 'regular'][pitching_features]\n",
      "/var/folders/fh/fzyqqz2s1vzcm3v06kz1h29w0000gp/T/ipykernel_2244/85417958.py:8: UserWarning: Boolean Series key will be reindexed to match DataFrame index.\n",
      "  temp_stats = all_pitching_stats[all_pitching_stats['team'] == team['Team']][all_pitching_stats['date'].astype(str).str.startswith(str(team['Year']))][all_pitching_stats['gametype'] == 'regular'][pitching_features]\n"
     ]
    },
    {
     "name": "stdout",
     "output_type": "stream",
     "text": [
      "Max WHIP: 0.9230769230769231\n",
      "Min WHIP: 0.3173076923076923\n",
      "Max ERA: 7.2\n",
      "Min ERA: 0.7788461538461539\n",
      "(23, 16)\n",
      "(1, 25, 16)\n",
      "Max WHIP: 0.9230769230769231\n",
      "Min WHIP: 0.0\n",
      "Max ERA: 7.2\n",
      "Min ERA: 0.0\n",
      "Index: 108, Year: 2008 Team: CHN, Level of Success: DS\n"
     ]
    },
    {
     "name": "stderr",
     "output_type": "stream",
     "text": [
      "/var/folders/fh/fzyqqz2s1vzcm3v06kz1h29w0000gp/T/ipykernel_2244/85417958.py:8: UserWarning: Boolean Series key will be reindexed to match DataFrame index.\n",
      "  temp_stats = all_pitching_stats[all_pitching_stats['team'] == team['Team']][all_pitching_stats['date'].astype(str).str.startswith(str(team['Year']))][all_pitching_stats['gametype'] == 'regular'][pitching_features]\n",
      "/var/folders/fh/fzyqqz2s1vzcm3v06kz1h29w0000gp/T/ipykernel_2244/85417958.py:8: UserWarning: Boolean Series key will be reindexed to match DataFrame index.\n",
      "  temp_stats = all_pitching_stats[all_pitching_stats['team'] == team['Team']][all_pitching_stats['date'].astype(str).str.startswith(str(team['Year']))][all_pitching_stats['gametype'] == 'regular'][pitching_features]\n"
     ]
    },
    {
     "name": "stdout",
     "output_type": "stream",
     "text": [
      "Max WHIP: 2.0\n",
      "Min WHIP: 0.15384615384615385\n",
      "Max ERA: 4.5\n",
      "Min ERA: 0.0\n",
      "(23, 16)\n",
      "(1, 25, 16)\n",
      "Max WHIP: 2.0\n",
      "Min WHIP: 0.0\n",
      "Max ERA: 4.5\n",
      "Min ERA: 0.0\n",
      "Index: 109, Year: 2008 Team: PHI, Level of Success: C\n"
     ]
    },
    {
     "name": "stderr",
     "output_type": "stream",
     "text": [
      "/var/folders/fh/fzyqqz2s1vzcm3v06kz1h29w0000gp/T/ipykernel_2244/85417958.py:8: UserWarning: Boolean Series key will be reindexed to match DataFrame index.\n",
      "  temp_stats = all_pitching_stats[all_pitching_stats['team'] == team['Team']][all_pitching_stats['date'].astype(str).str.startswith(str(team['Year']))][all_pitching_stats['gametype'] == 'regular'][pitching_features]\n",
      "/var/folders/fh/fzyqqz2s1vzcm3v06kz1h29w0000gp/T/ipykernel_2244/85417958.py:8: UserWarning: Boolean Series key will be reindexed to match DataFrame index.\n",
      "  temp_stats = all_pitching_stats[all_pitching_stats['team'] == team['Team']][all_pitching_stats['date'].astype(str).str.startswith(str(team['Year']))][all_pitching_stats['gametype'] == 'regular'][pitching_features]\n"
     ]
    },
    {
     "name": "stdout",
     "output_type": "stream",
     "text": [
      "Max WHIP: 0.7857142857142857\n",
      "Min WHIP: 0.2558139534883721\n",
      "Max ERA: 2.571428571428571\n",
      "Min ERA: 0.0\n",
      "(18, 16)\n",
      "(1, 25, 16)\n",
      "Max WHIP: 0.7857142857142857\n",
      "Min WHIP: 0.0\n",
      "Max ERA: 2.571428571428571\n",
      "Min ERA: 0.0\n",
      "Index: 110, Year: 2008 Team: LAN, Level of Success: LS\n"
     ]
    },
    {
     "name": "stderr",
     "output_type": "stream",
     "text": [
      "/var/folders/fh/fzyqqz2s1vzcm3v06kz1h29w0000gp/T/ipykernel_2244/85417958.py:8: UserWarning: Boolean Series key will be reindexed to match DataFrame index.\n",
      "  temp_stats = all_pitching_stats[all_pitching_stats['team'] == team['Team']][all_pitching_stats['date'].astype(str).str.startswith(str(team['Year']))][all_pitching_stats['gametype'] == 'regular'][pitching_features]\n",
      "/var/folders/fh/fzyqqz2s1vzcm3v06kz1h29w0000gp/T/ipykernel_2244/85417958.py:8: UserWarning: Boolean Series key will be reindexed to match DataFrame index.\n",
      "  temp_stats = all_pitching_stats[all_pitching_stats['team'] == team['Team']][all_pitching_stats['date'].astype(str).str.startswith(str(team['Year']))][all_pitching_stats['gametype'] == 'regular'][pitching_features]\n"
     ]
    },
    {
     "name": "stdout",
     "output_type": "stream",
     "text": [
      "Max WHIP: 0.7777777777777778\n",
      "Min WHIP: 0.2857142857142857\n",
      "Max ERA: 4.0\n",
      "Min ERA: 0.0\n",
      "(22, 16)\n",
      "(1, 25, 16)\n",
      "Max WHIP: 0.7777777777777778\n",
      "Min WHIP: 0.0\n",
      "Max ERA: 4.0\n",
      "Min ERA: 0.0\n",
      "Index: 111, Year: 2008 Team: MIL, Level of Success: DS\n"
     ]
    },
    {
     "name": "stderr",
     "output_type": "stream",
     "text": [
      "/var/folders/fh/fzyqqz2s1vzcm3v06kz1h29w0000gp/T/ipykernel_2244/85417958.py:8: UserWarning: Boolean Series key will be reindexed to match DataFrame index.\n",
      "  temp_stats = all_pitching_stats[all_pitching_stats['team'] == team['Team']][all_pitching_stats['date'].astype(str).str.startswith(str(team['Year']))][all_pitching_stats['gametype'] == 'regular'][pitching_features]\n",
      "/var/folders/fh/fzyqqz2s1vzcm3v06kz1h29w0000gp/T/ipykernel_2244/85417958.py:8: UserWarning: Boolean Series key will be reindexed to match DataFrame index.\n",
      "  temp_stats = all_pitching_stats[all_pitching_stats['team'] == team['Team']][all_pitching_stats['date'].astype(str).str.startswith(str(team['Year']))][all_pitching_stats['gametype'] == 'regular'][pitching_features]\n"
     ]
    },
    {
     "name": "stdout",
     "output_type": "stream",
     "text": [
      "Max WHIP: 1.3157894736842106\n",
      "Min WHIP: 0.33418367346938777\n",
      "Max ERA: 5.210526315789474\n",
      "Min ERA: 0.0\n",
      "(20, 16)\n",
      "(1, 25, 16)\n",
      "Max WHIP: 1.3157894736842106\n",
      "Min WHIP: 0.0\n",
      "Max ERA: 5.210526315789474\n",
      "Min ERA: 0.0\n",
      "Index: 112, Year: 2009 Team: NYA, Level of Success: C\n"
     ]
    },
    {
     "name": "stderr",
     "output_type": "stream",
     "text": [
      "/var/folders/fh/fzyqqz2s1vzcm3v06kz1h29w0000gp/T/ipykernel_2244/85417958.py:8: UserWarning: Boolean Series key will be reindexed to match DataFrame index.\n",
      "  temp_stats = all_pitching_stats[all_pitching_stats['team'] == team['Team']][all_pitching_stats['date'].astype(str).str.startswith(str(team['Year']))][all_pitching_stats['gametype'] == 'regular'][pitching_features]\n",
      "/var/folders/fh/fzyqqz2s1vzcm3v06kz1h29w0000gp/T/ipykernel_2244/85417958.py:8: UserWarning: Boolean Series key will be reindexed to match DataFrame index.\n",
      "  temp_stats = all_pitching_stats[all_pitching_stats['team'] == team['Team']][all_pitching_stats['date'].astype(str).str.startswith(str(team['Year']))][all_pitching_stats['gametype'] == 'regular'][pitching_features]\n"
     ]
    },
    {
     "name": "stdout",
     "output_type": "stream",
     "text": [
      "Max WHIP: 1.875\n",
      "Min WHIP: 0.3015075376884422\n",
      "Max ERA: 11.25\n",
      "Min ERA: 0.0\n",
      "(24, 16)\n",
      "(1, 25, 16)\n",
      "Max WHIP: 1.875\n",
      "Min WHIP: 0.0\n",
      "Max ERA: 11.25\n",
      "Min ERA: 0.0\n",
      "Index: 113, Year: 2009 Team: ANA, Level of Success: LS\n"
     ]
    },
    {
     "name": "stderr",
     "output_type": "stream",
     "text": [
      "/var/folders/fh/fzyqqz2s1vzcm3v06kz1h29w0000gp/T/ipykernel_2244/85417958.py:8: UserWarning: Boolean Series key will be reindexed to match DataFrame index.\n",
      "  temp_stats = all_pitching_stats[all_pitching_stats['team'] == team['Team']][all_pitching_stats['date'].astype(str).str.startswith(str(team['Year']))][all_pitching_stats['gametype'] == 'regular'][pitching_features]\n",
      "/var/folders/fh/fzyqqz2s1vzcm3v06kz1h29w0000gp/T/ipykernel_2244/85417958.py:8: UserWarning: Boolean Series key will be reindexed to match DataFrame index.\n",
      "  temp_stats = all_pitching_stats[all_pitching_stats['team'] == team['Team']][all_pitching_stats['date'].astype(str).str.startswith(str(team['Year']))][all_pitching_stats['gametype'] == 'regular'][pitching_features]\n"
     ]
    },
    {
     "name": "stdout",
     "output_type": "stream",
     "text": [
      "Max WHIP: 1.5\n",
      "Min WHIP: 0.3486238532110092\n",
      "Max ERA: 9.0\n",
      "Min ERA: 0.0\n",
      "(25, 16)\n",
      "(1, 25, 16)\n",
      "Max WHIP: 1.5\n",
      "Min WHIP: 0.3486238532110092\n",
      "Max ERA: 9.0\n",
      "Min ERA: 0.0\n",
      "Index: 114, Year: 2009 Team: MIN, Level of Success: DS\n"
     ]
    },
    {
     "name": "stderr",
     "output_type": "stream",
     "text": [
      "/var/folders/fh/fzyqqz2s1vzcm3v06kz1h29w0000gp/T/ipykernel_2244/85417958.py:8: UserWarning: Boolean Series key will be reindexed to match DataFrame index.\n",
      "  temp_stats = all_pitching_stats[all_pitching_stats['team'] == team['Team']][all_pitching_stats['date'].astype(str).str.startswith(str(team['Year']))][all_pitching_stats['gametype'] == 'regular'][pitching_features]\n",
      "/var/folders/fh/fzyqqz2s1vzcm3v06kz1h29w0000gp/T/ipykernel_2244/85417958.py:8: UserWarning: Boolean Series key will be reindexed to match DataFrame index.\n",
      "  temp_stats = all_pitching_stats[all_pitching_stats['team'] == team['Team']][all_pitching_stats['date'].astype(str).str.startswith(str(team['Year']))][all_pitching_stats['gametype'] == 'regular'][pitching_features]\n"
     ]
    },
    {
     "name": "stdout",
     "output_type": "stream",
     "text": [
      "Max WHIP: 1.5\n",
      "Min WHIP: 0.30845771144278605\n",
      "Max ERA: 9.0\n",
      "Min ERA: 0.6\n",
      "(24, 16)\n",
      "(1, 25, 16)\n",
      "Max WHIP: 1.5\n",
      "Min WHIP: 0.0\n",
      "Max ERA: 9.0\n",
      "Min ERA: 0.0\n",
      "Index: 115, Year: 2009 Team: BOS, Level of Success: DS\n"
     ]
    },
    {
     "name": "stderr",
     "output_type": "stream",
     "text": [
      "/var/folders/fh/fzyqqz2s1vzcm3v06kz1h29w0000gp/T/ipykernel_2244/85417958.py:8: UserWarning: Boolean Series key will be reindexed to match DataFrame index.\n",
      "  temp_stats = all_pitching_stats[all_pitching_stats['team'] == team['Team']][all_pitching_stats['date'].astype(str).str.startswith(str(team['Year']))][all_pitching_stats['gametype'] == 'regular'][pitching_features]\n",
      "/var/folders/fh/fzyqqz2s1vzcm3v06kz1h29w0000gp/T/ipykernel_2244/85417958.py:8: UserWarning: Boolean Series key will be reindexed to match DataFrame index.\n",
      "  temp_stats = all_pitching_stats[all_pitching_stats['team'] == team['Team']][all_pitching_stats['date'].astype(str).str.startswith(str(team['Year']))][all_pitching_stats['gametype'] == 'regular'][pitching_features]\n"
     ]
    },
    {
     "name": "stdout",
     "output_type": "stream",
     "text": [
      "Max WHIP: 1.0\n",
      "Min WHIP: 0.36585365853658536\n",
      "Max ERA: 4.090909090909091\n",
      "Min ERA: 0.0\n",
      "(27, 16)\n",
      "(1, 25, 16)\n",
      "Max WHIP: 0.9090909090909091\n",
      "Min WHIP: 0.36585365853658536\n",
      "Max ERA: 4.090909090909091\n",
      "Min ERA: 0.0\n",
      "Index: 116, Year: 2009 Team: LAN, Level of Success: LS\n"
     ]
    },
    {
     "name": "stderr",
     "output_type": "stream",
     "text": [
      "/var/folders/fh/fzyqqz2s1vzcm3v06kz1h29w0000gp/T/ipykernel_2244/85417958.py:8: UserWarning: Boolean Series key will be reindexed to match DataFrame index.\n",
      "  temp_stats = all_pitching_stats[all_pitching_stats['team'] == team['Team']][all_pitching_stats['date'].astype(str).str.startswith(str(team['Year']))][all_pitching_stats['gametype'] == 'regular'][pitching_features]\n",
      "/var/folders/fh/fzyqqz2s1vzcm3v06kz1h29w0000gp/T/ipykernel_2244/85417958.py:8: UserWarning: Boolean Series key will be reindexed to match DataFrame index.\n",
      "  temp_stats = all_pitching_stats[all_pitching_stats['team'] == team['Team']][all_pitching_stats['date'].astype(str).str.startswith(str(team['Year']))][all_pitching_stats['gametype'] == 'regular'][pitching_features]\n"
     ]
    },
    {
     "name": "stdout",
     "output_type": "stream",
     "text": [
      "Max WHIP: 0.75\n",
      "Min WHIP: 0.0\n",
      "Max ERA: 1.945945945945946\n",
      "Min ERA: 0.0\n",
      "(25, 16)\n",
      "(1, 25, 16)\n",
      "Max WHIP: 0.75\n",
      "Min WHIP: 0.0\n",
      "Max ERA: 1.945945945945946\n",
      "Min ERA: 0.0\n",
      "Index: 117, Year: 2009 Team: PHI, Level of Success: WS\n"
     ]
    },
    {
     "name": "stderr",
     "output_type": "stream",
     "text": [
      "/var/folders/fh/fzyqqz2s1vzcm3v06kz1h29w0000gp/T/ipykernel_2244/85417958.py:8: UserWarning: Boolean Series key will be reindexed to match DataFrame index.\n",
      "  temp_stats = all_pitching_stats[all_pitching_stats['team'] == team['Team']][all_pitching_stats['date'].astype(str).str.startswith(str(team['Year']))][all_pitching_stats['gametype'] == 'regular'][pitching_features]\n",
      "/var/folders/fh/fzyqqz2s1vzcm3v06kz1h29w0000gp/T/ipykernel_2244/85417958.py:8: UserWarning: Boolean Series key will be reindexed to match DataFrame index.\n",
      "  temp_stats = all_pitching_stats[all_pitching_stats['team'] == team['Team']][all_pitching_stats['date'].astype(str).str.startswith(str(team['Year']))][all_pitching_stats['gametype'] == 'regular'][pitching_features]\n"
     ]
    },
    {
     "name": "stdout",
     "output_type": "stream",
     "text": [
      "Max WHIP: 0.8823529411764706\n",
      "Min WHIP: 0.37656903765690375\n",
      "Max ERA: 3.705882352941176\n",
      "Min ERA: 0.5\n",
      "(22, 16)\n",
      "(1, 25, 16)\n",
      "Max WHIP: 0.8823529411764706\n",
      "Min WHIP: 0.0\n",
      "Max ERA: 3.705882352941176\n",
      "Min ERA: 0.0\n",
      "Index: 118, Year: 2009 Team: SLN, Level of Success: DS\n"
     ]
    },
    {
     "name": "stderr",
     "output_type": "stream",
     "text": [
      "/var/folders/fh/fzyqqz2s1vzcm3v06kz1h29w0000gp/T/ipykernel_2244/85417958.py:8: UserWarning: Boolean Series key will be reindexed to match DataFrame index.\n",
      "  temp_stats = all_pitching_stats[all_pitching_stats['team'] == team['Team']][all_pitching_stats['date'].astype(str).str.startswith(str(team['Year']))][all_pitching_stats['gametype'] == 'regular'][pitching_features]\n",
      "/var/folders/fh/fzyqqz2s1vzcm3v06kz1h29w0000gp/T/ipykernel_2244/85417958.py:8: UserWarning: Boolean Series key will be reindexed to match DataFrame index.\n",
      "  temp_stats = all_pitching_stats[all_pitching_stats['team'] == team['Team']][all_pitching_stats['date'].astype(str).str.startswith(str(team['Year']))][all_pitching_stats['gametype'] == 'regular'][pitching_features]\n"
     ]
    },
    {
     "name": "stdout",
     "output_type": "stream",
     "text": [
      "Max WHIP: 1.0\n",
      "Min WHIP: 0.32061068702290074\n",
      "Max ERA: 3.6\n",
      "Min ERA: 0.6393442622950819\n",
      "(20, 16)\n",
      "(1, 25, 16)\n",
      "Max WHIP: 1.0\n",
      "Min WHIP: 0.0\n",
      "Max ERA: 3.6\n",
      "Min ERA: 0.0\n",
      "Index: 119, Year: 2009 Team: COL, Level of Success: DS\n"
     ]
    },
    {
     "name": "stderr",
     "output_type": "stream",
     "text": [
      "/var/folders/fh/fzyqqz2s1vzcm3v06kz1h29w0000gp/T/ipykernel_2244/85417958.py:8: UserWarning: Boolean Series key will be reindexed to match DataFrame index.\n",
      "  temp_stats = all_pitching_stats[all_pitching_stats['team'] == team['Team']][all_pitching_stats['date'].astype(str).str.startswith(str(team['Year']))][all_pitching_stats['gametype'] == 'regular'][pitching_features]\n",
      "/var/folders/fh/fzyqqz2s1vzcm3v06kz1h29w0000gp/T/ipykernel_2244/85417958.py:8: UserWarning: Boolean Series key will be reindexed to match DataFrame index.\n",
      "  temp_stats = all_pitching_stats[all_pitching_stats['team'] == team['Team']][all_pitching_stats['date'].astype(str).str.startswith(str(team['Year']))][all_pitching_stats['gametype'] == 'regular'][pitching_features]\n"
     ]
    },
    {
     "name": "stdout",
     "output_type": "stream",
     "text": [
      "Max WHIP: 0.7241379310344828\n",
      "Min WHIP: 0.2894736842105263\n",
      "Max ERA: 2.5063291139240507\n",
      "Min ERA: 0.5294117647058824\n",
      "(25, 16)\n",
      "(1, 25, 16)\n",
      "Max WHIP: 0.7241379310344828\n",
      "Min WHIP: 0.2894736842105263\n",
      "Max ERA: 2.5063291139240507\n",
      "Min ERA: 0.5294117647058824\n",
      "Index: 120, Year: 2010 Team: TBA, Level of Success: DS\n"
     ]
    },
    {
     "name": "stderr",
     "output_type": "stream",
     "text": [
      "/var/folders/fh/fzyqqz2s1vzcm3v06kz1h29w0000gp/T/ipykernel_2244/85417958.py:8: UserWarning: Boolean Series key will be reindexed to match DataFrame index.\n",
      "  temp_stats = all_pitching_stats[all_pitching_stats['team'] == team['Team']][all_pitching_stats['date'].astype(str).str.startswith(str(team['Year']))][all_pitching_stats['gametype'] == 'regular'][pitching_features]\n",
      "/var/folders/fh/fzyqqz2s1vzcm3v06kz1h29w0000gp/T/ipykernel_2244/85417958.py:8: UserWarning: Boolean Series key will be reindexed to match DataFrame index.\n",
      "  temp_stats = all_pitching_stats[all_pitching_stats['team'] == team['Team']][all_pitching_stats['date'].astype(str).str.startswith(str(team['Year']))][all_pitching_stats['gametype'] == 'regular'][pitching_features]\n"
     ]
    },
    {
     "name": "stdout",
     "output_type": "stream",
     "text": [
      "Max WHIP: 1.1666666666666667\n",
      "Min WHIP: 0.2265193370165746\n",
      "Max ERA: 9.0\n",
      "Min ERA: 0.4475138121546961\n",
      "(17, 16)\n",
      "(1, 25, 16)\n",
      "Max WHIP: 1.1666666666666667\n",
      "Min WHIP: 0.0\n",
      "Max ERA: 9.0\n",
      "Min ERA: 0.0\n",
      "Index: 121, Year: 2010 Team: MIN, Level of Success: DS\n"
     ]
    },
    {
     "name": "stderr",
     "output_type": "stream",
     "text": [
      "/var/folders/fh/fzyqqz2s1vzcm3v06kz1h29w0000gp/T/ipykernel_2244/85417958.py:8: UserWarning: Boolean Series key will be reindexed to match DataFrame index.\n",
      "  temp_stats = all_pitching_stats[all_pitching_stats['team'] == team['Team']][all_pitching_stats['date'].astype(str).str.startswith(str(team['Year']))][all_pitching_stats['gametype'] == 'regular'][pitching_features]\n",
      "/var/folders/fh/fzyqqz2s1vzcm3v06kz1h29w0000gp/T/ipykernel_2244/85417958.py:8: UserWarning: Boolean Series key will be reindexed to match DataFrame index.\n",
      "  temp_stats = all_pitching_stats[all_pitching_stats['team'] == team['Team']][all_pitching_stats['date'].astype(str).str.startswith(str(team['Year']))][all_pitching_stats['gametype'] == 'regular'][pitching_features]\n"
     ]
    },
    {
     "name": "stdout",
     "output_type": "stream",
     "text": [
      "Max WHIP: 1.0909090909090908\n",
      "Min WHIP: 0.1724137931034483\n",
      "Max ERA: 3.0\n",
      "Min ERA: 0.0\n",
      "(21, 16)\n",
      "(1, 25, 16)\n",
      "Max WHIP: 1.0909090909090908\n",
      "Min WHIP: 0.0\n",
      "Max ERA: 3.0\n",
      "Min ERA: 0.0\n",
      "Index: 122, Year: 2010 Team: TEX, Level of Success: WS\n"
     ]
    },
    {
     "name": "stderr",
     "output_type": "stream",
     "text": [
      "/var/folders/fh/fzyqqz2s1vzcm3v06kz1h29w0000gp/T/ipykernel_2244/85417958.py:8: UserWarning: Boolean Series key will be reindexed to match DataFrame index.\n",
      "  temp_stats = all_pitching_stats[all_pitching_stats['team'] == team['Team']][all_pitching_stats['date'].astype(str).str.startswith(str(team['Year']))][all_pitching_stats['gametype'] == 'regular'][pitching_features]\n",
      "/var/folders/fh/fzyqqz2s1vzcm3v06kz1h29w0000gp/T/ipykernel_2244/85417958.py:8: UserWarning: Boolean Series key will be reindexed to match DataFrame index.\n",
      "  temp_stats = all_pitching_stats[all_pitching_stats['team'] == team['Team']][all_pitching_stats['date'].astype(str).str.startswith(str(team['Year']))][all_pitching_stats['gametype'] == 'regular'][pitching_features]\n"
     ]
    },
    {
     "name": "stdout",
     "output_type": "stream",
     "text": [
      "Max WHIP: 2.0\n",
      "Min WHIP: 0.2932692307692308\n",
      "Max ERA: 9.0\n",
      "Min ERA: 0.432\n",
      "(22, 16)\n",
      "(1, 25, 16)\n",
      "Max WHIP: 2.0\n",
      "Min WHIP: 0.0\n",
      "Max ERA: 9.0\n",
      "Min ERA: 0.0\n",
      "Index: 123, Year: 2010 Team: NYA, Level of Success: LS\n"
     ]
    },
    {
     "name": "stderr",
     "output_type": "stream",
     "text": [
      "/var/folders/fh/fzyqqz2s1vzcm3v06kz1h29w0000gp/T/ipykernel_2244/85417958.py:8: UserWarning: Boolean Series key will be reindexed to match DataFrame index.\n",
      "  temp_stats = all_pitching_stats[all_pitching_stats['team'] == team['Team']][all_pitching_stats['date'].astype(str).str.startswith(str(team['Year']))][all_pitching_stats['gametype'] == 'regular'][pitching_features]\n",
      "/var/folders/fh/fzyqqz2s1vzcm3v06kz1h29w0000gp/T/ipykernel_2244/85417958.py:8: UserWarning: Boolean Series key will be reindexed to match DataFrame index.\n",
      "  temp_stats = all_pitching_stats[all_pitching_stats['team'] == team['Team']][all_pitching_stats['date'].astype(str).str.startswith(str(team['Year']))][all_pitching_stats['gametype'] == 'regular'][pitching_features]\n"
     ]
    },
    {
     "name": "stdout",
     "output_type": "stream",
     "text": [
      "Max WHIP: 0.7142857142857143\n",
      "Min WHIP: 0.2777777777777778\n",
      "Max ERA: 5.142857142857142\n",
      "Min ERA: 0.0\n",
      "(21, 16)\n",
      "(1, 25, 16)\n",
      "Max WHIP: 0.7142857142857143\n",
      "Min WHIP: 0.0\n",
      "Max ERA: 5.142857142857142\n",
      "Min ERA: 0.0\n",
      "Index: 124, Year: 2010 Team: PHI, Level of Success: LS\n"
     ]
    },
    {
     "name": "stderr",
     "output_type": "stream",
     "text": [
      "/var/folders/fh/fzyqqz2s1vzcm3v06kz1h29w0000gp/T/ipykernel_2244/85417958.py:8: UserWarning: Boolean Series key will be reindexed to match DataFrame index.\n",
      "  temp_stats = all_pitching_stats[all_pitching_stats['team'] == team['Team']][all_pitching_stats['date'].astype(str).str.startswith(str(team['Year']))][all_pitching_stats['gametype'] == 'regular'][pitching_features]\n",
      "/var/folders/fh/fzyqqz2s1vzcm3v06kz1h29w0000gp/T/ipykernel_2244/85417958.py:8: UserWarning: Boolean Series key will be reindexed to match DataFrame index.\n",
      "  temp_stats = all_pitching_stats[all_pitching_stats['team'] == team['Team']][all_pitching_stats['date'].astype(str).str.startswith(str(team['Year']))][all_pitching_stats['gametype'] == 'regular'][pitching_features]\n"
     ]
    },
    {
     "name": "stdout",
     "output_type": "stream",
     "text": [
      "Max WHIP: 2.3333333333333335\n",
      "Min WHIP: 0.29838709677419356\n",
      "Max ERA: 18.0\n",
      "Min ERA: 0.4615384615384615\n",
      "(21, 16)\n",
      "(1, 25, 16)\n",
      "Max WHIP: 2.3333333333333335\n",
      "Min WHIP: 0.0\n",
      "Max ERA: 18.0\n",
      "Min ERA: 0.0\n",
      "Index: 125, Year: 2010 Team: SFN, Level of Success: C\n"
     ]
    },
    {
     "name": "stderr",
     "output_type": "stream",
     "text": [
      "/var/folders/fh/fzyqqz2s1vzcm3v06kz1h29w0000gp/T/ipykernel_2244/85417958.py:8: UserWarning: Boolean Series key will be reindexed to match DataFrame index.\n",
      "  temp_stats = all_pitching_stats[all_pitching_stats['team'] == team['Team']][all_pitching_stats['date'].astype(str).str.startswith(str(team['Year']))][all_pitching_stats['gametype'] == 'regular'][pitching_features]\n",
      "/var/folders/fh/fzyqqz2s1vzcm3v06kz1h29w0000gp/T/ipykernel_2244/85417958.py:8: UserWarning: Boolean Series key will be reindexed to match DataFrame index.\n",
      "  temp_stats = all_pitching_stats[all_pitching_stats['team'] == team['Team']][all_pitching_stats['date'].astype(str).str.startswith(str(team['Year']))][all_pitching_stats['gametype'] == 'regular'][pitching_features]\n"
     ]
    },
    {
     "name": "stdout",
     "output_type": "stream",
     "text": [
      "Max WHIP: 0.9285714285714286\n",
      "Min WHIP: 0.22807017543859648\n",
      "Max ERA: 3.2142857142857144\n",
      "Min ERA: 0.2222222222222222\n",
      "(19, 16)\n",
      "(1, 25, 16)\n",
      "Max WHIP: 0.9285714285714286\n",
      "Min WHIP: 0.0\n",
      "Max ERA: 3.2142857142857144\n",
      "Min ERA: 0.0\n",
      "Index: 126, Year: 2010 Team: CIN, Level of Success: DS\n"
     ]
    },
    {
     "name": "stderr",
     "output_type": "stream",
     "text": [
      "/var/folders/fh/fzyqqz2s1vzcm3v06kz1h29w0000gp/T/ipykernel_2244/85417958.py:8: UserWarning: Boolean Series key will be reindexed to match DataFrame index.\n",
      "  temp_stats = all_pitching_stats[all_pitching_stats['team'] == team['Team']][all_pitching_stats['date'].astype(str).str.startswith(str(team['Year']))][all_pitching_stats['gametype'] == 'regular'][pitching_features]\n",
      "/var/folders/fh/fzyqqz2s1vzcm3v06kz1h29w0000gp/T/ipykernel_2244/85417958.py:8: UserWarning: Boolean Series key will be reindexed to match DataFrame index.\n",
      "  temp_stats = all_pitching_stats[all_pitching_stats['team'] == team['Team']][all_pitching_stats['date'].astype(str).str.startswith(str(team['Year']))][all_pitching_stats['gametype'] == 'regular'][pitching_features]\n"
     ]
    },
    {
     "name": "stdout",
     "output_type": "stream",
     "text": [
      "Max WHIP: 0.6538461538461539\n",
      "Min WHIP: 0.0\n",
      "Max ERA: 2.440677966101695\n",
      "Min ERA: 0.0\n",
      "(23, 16)\n",
      "(1, 25, 16)\n",
      "Max WHIP: 0.6538461538461539\n",
      "Min WHIP: 0.0\n",
      "Max ERA: 2.440677966101695\n",
      "Min ERA: 0.0\n",
      "Index: 127, Year: 2010 Team: ATL, Level of Success: DS\n"
     ]
    },
    {
     "name": "stderr",
     "output_type": "stream",
     "text": [
      "/var/folders/fh/fzyqqz2s1vzcm3v06kz1h29w0000gp/T/ipykernel_2244/85417958.py:8: UserWarning: Boolean Series key will be reindexed to match DataFrame index.\n",
      "  temp_stats = all_pitching_stats[all_pitching_stats['team'] == team['Team']][all_pitching_stats['date'].astype(str).str.startswith(str(team['Year']))][all_pitching_stats['gametype'] == 'regular'][pitching_features]\n",
      "/var/folders/fh/fzyqqz2s1vzcm3v06kz1h29w0000gp/T/ipykernel_2244/85417958.py:8: UserWarning: Boolean Series key will be reindexed to match DataFrame index.\n",
      "  temp_stats = all_pitching_stats[all_pitching_stats['team'] == team['Team']][all_pitching_stats['date'].astype(str).str.startswith(str(team['Year']))][all_pitching_stats['gametype'] == 'regular'][pitching_features]\n"
     ]
    },
    {
     "name": "stdout",
     "output_type": "stream",
     "text": [
      "Max WHIP: 1.3333333333333333\n",
      "Min WHIP: 0.28846153846153844\n",
      "Max ERA: 8.1\n",
      "Min ERA: 0.14516129032258063\n",
      "(21, 16)\n",
      "(1, 25, 16)\n",
      "Max WHIP: 1.3333333333333333\n",
      "Min WHIP: 0.0\n",
      "Max ERA: 8.1\n",
      "Min ERA: 0.0\n",
      "Index: 128, Year: 2011 Team: NYA, Level of Success: DS\n"
     ]
    },
    {
     "name": "stderr",
     "output_type": "stream",
     "text": [
      "/var/folders/fh/fzyqqz2s1vzcm3v06kz1h29w0000gp/T/ipykernel_2244/85417958.py:8: UserWarning: Boolean Series key will be reindexed to match DataFrame index.\n",
      "  temp_stats = all_pitching_stats[all_pitching_stats['team'] == team['Team']][all_pitching_stats['date'].astype(str).str.startswith(str(team['Year']))][all_pitching_stats['gametype'] == 'regular'][pitching_features]\n",
      "/var/folders/fh/fzyqqz2s1vzcm3v06kz1h29w0000gp/T/ipykernel_2244/85417958.py:8: UserWarning: Boolean Series key will be reindexed to match DataFrame index.\n",
      "  temp_stats = all_pitching_stats[all_pitching_stats['team'] == team['Team']][all_pitching_stats['date'].astype(str).str.startswith(str(team['Year']))][all_pitching_stats['gametype'] == 'regular'][pitching_features]\n"
     ]
    },
    {
     "name": "stdout",
     "output_type": "stream",
     "text": [
      "Max WHIP: 1.0\n",
      "Min WHIP: 0.0\n",
      "Max ERA: 4.285714285714286\n",
      "Min ERA: 0.0\n",
      "(28, 16)\n",
      "(1, 25, 16)\n",
      "Max WHIP: 0.9393939393939394\n",
      "Min WHIP: 0.29891304347826086\n",
      "Max ERA: 4.285714285714286\n",
      "Min ERA: 0.36\n",
      "Index: 129, Year: 2011 Team: TEX, Level of Success: WS\n"
     ]
    },
    {
     "name": "stderr",
     "output_type": "stream",
     "text": [
      "/var/folders/fh/fzyqqz2s1vzcm3v06kz1h29w0000gp/T/ipykernel_2244/85417958.py:8: UserWarning: Boolean Series key will be reindexed to match DataFrame index.\n",
      "  temp_stats = all_pitching_stats[all_pitching_stats['team'] == team['Team']][all_pitching_stats['date'].astype(str).str.startswith(str(team['Year']))][all_pitching_stats['gametype'] == 'regular'][pitching_features]\n",
      "/var/folders/fh/fzyqqz2s1vzcm3v06kz1h29w0000gp/T/ipykernel_2244/85417958.py:8: UserWarning: Boolean Series key will be reindexed to match DataFrame index.\n",
      "  temp_stats = all_pitching_stats[all_pitching_stats['team'] == team['Team']][all_pitching_stats['date'].astype(str).str.startswith(str(team['Year']))][all_pitching_stats['gametype'] == 'regular'][pitching_features]\n"
     ]
    },
    {
     "name": "stdout",
     "output_type": "stream",
     "text": [
      "Max WHIP: 0.6666666666666666\n",
      "Min WHIP: 0.25925925925925924\n",
      "Max ERA: 2.6666666666666665\n",
      "Min ERA: 0.7012987012987013\n",
      "(25, 16)\n",
      "(1, 25, 16)\n",
      "Max WHIP: 0.6666666666666666\n",
      "Min WHIP: 0.25925925925925924\n",
      "Max ERA: 2.6666666666666665\n",
      "Min ERA: 0.7012987012987013\n",
      "Index: 130, Year: 2011 Team: DET, Level of Success: LS\n"
     ]
    },
    {
     "name": "stderr",
     "output_type": "stream",
     "text": [
      "/var/folders/fh/fzyqqz2s1vzcm3v06kz1h29w0000gp/T/ipykernel_2244/85417958.py:8: UserWarning: Boolean Series key will be reindexed to match DataFrame index.\n",
      "  temp_stats = all_pitching_stats[all_pitching_stats['team'] == team['Team']][all_pitching_stats['date'].astype(str).str.startswith(str(team['Year']))][all_pitching_stats['gametype'] == 'regular'][pitching_features]\n",
      "/var/folders/fh/fzyqqz2s1vzcm3v06kz1h29w0000gp/T/ipykernel_2244/85417958.py:8: UserWarning: Boolean Series key will be reindexed to match DataFrame index.\n",
      "  temp_stats = all_pitching_stats[all_pitching_stats['team'] == team['Team']][all_pitching_stats['date'].astype(str).str.startswith(str(team['Year']))][all_pitching_stats['gametype'] == 'regular'][pitching_features]\n"
     ]
    },
    {
     "name": "stdout",
     "output_type": "stream",
     "text": [
      "Max WHIP: 0.8\n",
      "Min WHIP: 0.0\n",
      "Max ERA: 3.6\n",
      "Min ERA: 0.0\n",
      "(26, 16)\n",
      "(1, 25, 16)\n",
      "Max WHIP: 0.8\n",
      "Min WHIP: 0.2796208530805687\n",
      "Max ERA: 3.6\n",
      "Min ERA: 0.5971563981042655\n",
      "Index: 131, Year: 2011 Team: TBA, Level of Success: DS\n"
     ]
    },
    {
     "name": "stderr",
     "output_type": "stream",
     "text": [
      "/var/folders/fh/fzyqqz2s1vzcm3v06kz1h29w0000gp/T/ipykernel_2244/85417958.py:8: UserWarning: Boolean Series key will be reindexed to match DataFrame index.\n",
      "  temp_stats = all_pitching_stats[all_pitching_stats['team'] == team['Team']][all_pitching_stats['date'].astype(str).str.startswith(str(team['Year']))][all_pitching_stats['gametype'] == 'regular'][pitching_features]\n",
      "/var/folders/fh/fzyqqz2s1vzcm3v06kz1h29w0000gp/T/ipykernel_2244/85417958.py:8: UserWarning: Boolean Series key will be reindexed to match DataFrame index.\n",
      "  temp_stats = all_pitching_stats[all_pitching_stats['team'] == team['Team']][all_pitching_stats['date'].astype(str).str.startswith(str(team['Year']))][all_pitching_stats['gametype'] == 'regular'][pitching_features]\n"
     ]
    },
    {
     "name": "stdout",
     "output_type": "stream",
     "text": [
      "Max WHIP: 0.7333333333333333\n",
      "Min WHIP: 0.3054187192118227\n",
      "Max ERA: 3.6\n",
      "Min ERA: 0.0\n",
      "(21, 16)\n",
      "(1, 25, 16)\n",
      "Max WHIP: 0.7333333333333333\n",
      "Min WHIP: 0.0\n",
      "Max ERA: 3.6\n",
      "Min ERA: 0.0\n",
      "Index: 132, Year: 2011 Team: PHI, Level of Success: DS\n"
     ]
    },
    {
     "name": "stderr",
     "output_type": "stream",
     "text": [
      "/var/folders/fh/fzyqqz2s1vzcm3v06kz1h29w0000gp/T/ipykernel_2244/85417958.py:8: UserWarning: Boolean Series key will be reindexed to match DataFrame index.\n",
      "  temp_stats = all_pitching_stats[all_pitching_stats['team'] == team['Team']][all_pitching_stats['date'].astype(str).str.startswith(str(team['Year']))][all_pitching_stats['gametype'] == 'regular'][pitching_features]\n",
      "/var/folders/fh/fzyqqz2s1vzcm3v06kz1h29w0000gp/T/ipykernel_2244/85417958.py:8: UserWarning: Boolean Series key will be reindexed to match DataFrame index.\n",
      "  temp_stats = all_pitching_stats[all_pitching_stats['team'] == team['Team']][all_pitching_stats['date'].astype(str).str.startswith(str(team['Year']))][all_pitching_stats['gametype'] == 'regular'][pitching_features]\n"
     ]
    },
    {
     "name": "stdout",
     "output_type": "stream",
     "text": [
      "Max WHIP: 0.8\n",
      "Min WHIP: 0.0\n",
      "Max ERA: 2.571428571428571\n",
      "Min ERA: 0.0\n",
      "(23, 16)\n",
      "(1, 25, 16)\n",
      "Max WHIP: 0.8\n",
      "Min WHIP: 0.0\n",
      "Max ERA: 2.571428571428571\n",
      "Min ERA: 0.0\n",
      "Index: 133, Year: 2011 Team: MIL, Level of Success: LS\n"
     ]
    },
    {
     "name": "stderr",
     "output_type": "stream",
     "text": [
      "/var/folders/fh/fzyqqz2s1vzcm3v06kz1h29w0000gp/T/ipykernel_2244/85417958.py:8: UserWarning: Boolean Series key will be reindexed to match DataFrame index.\n",
      "  temp_stats = all_pitching_stats[all_pitching_stats['team'] == team['Team']][all_pitching_stats['date'].astype(str).str.startswith(str(team['Year']))][all_pitching_stats['gametype'] == 'regular'][pitching_features]\n",
      "/var/folders/fh/fzyqqz2s1vzcm3v06kz1h29w0000gp/T/ipykernel_2244/85417958.py:8: UserWarning: Boolean Series key will be reindexed to match DataFrame index.\n",
      "  temp_stats = all_pitching_stats[all_pitching_stats['team'] == team['Team']][all_pitching_stats['date'].astype(str).str.startswith(str(team['Year']))][all_pitching_stats['gametype'] == 'regular'][pitching_features]\n"
     ]
    },
    {
     "name": "stdout",
     "output_type": "stream",
     "text": [
      "Max WHIP: 1.4\n",
      "Min WHIP: 0.3488372093023256\n",
      "Max ERA: 7.2\n",
      "Min ERA: 0.0\n",
      "(22, 16)\n",
      "(1, 25, 16)\n",
      "Max WHIP: 1.4\n",
      "Min WHIP: 0.0\n",
      "Max ERA: 7.2\n",
      "Min ERA: 0.0\n",
      "Index: 134, Year: 2011 Team: ARI, Level of Success: DS\n"
     ]
    },
    {
     "name": "stderr",
     "output_type": "stream",
     "text": [
      "/var/folders/fh/fzyqqz2s1vzcm3v06kz1h29w0000gp/T/ipykernel_2244/85417958.py:8: UserWarning: Boolean Series key will be reindexed to match DataFrame index.\n",
      "  temp_stats = all_pitching_stats[all_pitching_stats['team'] == team['Team']][all_pitching_stats['date'].astype(str).str.startswith(str(team['Year']))][all_pitching_stats['gametype'] == 'regular'][pitching_features]\n",
      "/var/folders/fh/fzyqqz2s1vzcm3v06kz1h29w0000gp/T/ipykernel_2244/85417958.py:8: UserWarning: Boolean Series key will be reindexed to match DataFrame index.\n",
      "  temp_stats = all_pitching_stats[all_pitching_stats['team'] == team['Team']][all_pitching_stats['date'].astype(str).str.startswith(str(team['Year']))][all_pitching_stats['gametype'] == 'regular'][pitching_features]\n"
     ]
    },
    {
     "name": "stdout",
     "output_type": "stream",
     "text": [
      "Max WHIP: 0.8260869565217391\n",
      "Min WHIP: 0.29411764705882354\n",
      "Max ERA: 3.1764705882352944\n",
      "Min ERA: 0.0\n",
      "(25, 16)\n",
      "(1, 25, 16)\n",
      "Max WHIP: 0.8260869565217391\n",
      "Min WHIP: 0.29411764705882354\n",
      "Max ERA: 3.1764705882352944\n",
      "Min ERA: 0.0\n",
      "Index: 135, Year: 2011 Team: SLN, Level of Success: C\n"
     ]
    },
    {
     "name": "stderr",
     "output_type": "stream",
     "text": [
      "/var/folders/fh/fzyqqz2s1vzcm3v06kz1h29w0000gp/T/ipykernel_2244/85417958.py:8: UserWarning: Boolean Series key will be reindexed to match DataFrame index.\n",
      "  temp_stats = all_pitching_stats[all_pitching_stats['team'] == team['Team']][all_pitching_stats['date'].astype(str).str.startswith(str(team['Year']))][all_pitching_stats['gametype'] == 'regular'][pitching_features]\n",
      "/var/folders/fh/fzyqqz2s1vzcm3v06kz1h29w0000gp/T/ipykernel_2244/85417958.py:8: UserWarning: Boolean Series key will be reindexed to match DataFrame index.\n",
      "  temp_stats = all_pitching_stats[all_pitching_stats['team'] == team['Team']][all_pitching_stats['date'].astype(str).str.startswith(str(team['Year']))][all_pitching_stats['gametype'] == 'regular'][pitching_features]\n"
     ]
    },
    {
     "name": "stdout",
     "output_type": "stream",
     "text": [
      "Max WHIP: 0.8461538461538461\n",
      "Min WHIP: 0.28378378378378377\n",
      "Max ERA: 6.0\n",
      "Min ERA: 0.6\n",
      "(24, 16)\n",
      "(1, 25, 16)\n",
      "Max WHIP: 0.8461538461538461\n",
      "Min WHIP: 0.0\n",
      "Max ERA: 6.0\n",
      "Min ERA: 0.0\n",
      "Index: 136, Year: 2012 Team: NYA, Level of Success: LS\n"
     ]
    },
    {
     "name": "stderr",
     "output_type": "stream",
     "text": [
      "/var/folders/fh/fzyqqz2s1vzcm3v06kz1h29w0000gp/T/ipykernel_2244/85417958.py:8: UserWarning: Boolean Series key will be reindexed to match DataFrame index.\n",
      "  temp_stats = all_pitching_stats[all_pitching_stats['team'] == team['Team']][all_pitching_stats['date'].astype(str).str.startswith(str(team['Year']))][all_pitching_stats['gametype'] == 'regular'][pitching_features]\n",
      "/var/folders/fh/fzyqqz2s1vzcm3v06kz1h29w0000gp/T/ipykernel_2244/85417958.py:8: UserWarning: Boolean Series key will be reindexed to match DataFrame index.\n",
      "  temp_stats = all_pitching_stats[all_pitching_stats['team'] == team['Team']][all_pitching_stats['date'].astype(str).str.startswith(str(team['Year']))][all_pitching_stats['gametype'] == 'regular'][pitching_features]\n"
     ]
    },
    {
     "name": "stdout",
     "output_type": "stream",
     "text": [
      "Max WHIP: 1.4285714285714286\n",
      "Min WHIP: 0.0\n",
      "Max ERA: 7.7142857142857135\n",
      "Min ERA: 0.0\n",
      "(23, 16)\n",
      "(1, 25, 16)\n",
      "Max WHIP: 1.4285714285714286\n",
      "Min WHIP: 0.0\n",
      "Max ERA: 7.7142857142857135\n",
      "Min ERA: 0.0\n",
      "Index: 137, Year: 2012 Team: OAK, Level of Success: DS\n"
     ]
    },
    {
     "name": "stderr",
     "output_type": "stream",
     "text": [
      "/var/folders/fh/fzyqqz2s1vzcm3v06kz1h29w0000gp/T/ipykernel_2244/85417958.py:8: UserWarning: Boolean Series key will be reindexed to match DataFrame index.\n",
      "  temp_stats = all_pitching_stats[all_pitching_stats['team'] == team['Team']][all_pitching_stats['date'].astype(str).str.startswith(str(team['Year']))][all_pitching_stats['gametype'] == 'regular'][pitching_features]\n",
      "/var/folders/fh/fzyqqz2s1vzcm3v06kz1h29w0000gp/T/ipykernel_2244/85417958.py:8: UserWarning: Boolean Series key will be reindexed to match DataFrame index.\n",
      "  temp_stats = all_pitching_stats[all_pitching_stats['team'] == team['Team']][all_pitching_stats['date'].astype(str).str.startswith(str(team['Year']))][all_pitching_stats['gametype'] == 'regular'][pitching_features]\n"
     ]
    },
    {
     "name": "stdout",
     "output_type": "stream",
     "text": [
      "Max WHIP: 1.1111111111111112\n",
      "Min WHIP: 0.2711864406779661\n",
      "Max ERA: 6.3\n",
      "Min ERA: 0.0\n",
      "(25, 16)\n",
      "(1, 25, 16)\n",
      "Max WHIP: 1.1111111111111112\n",
      "Min WHIP: 0.2711864406779661\n",
      "Max ERA: 6.3\n",
      "Min ERA: 0.0\n",
      "Index: 138, Year: 2012 Team: DET, Level of Success: WS\n"
     ]
    },
    {
     "name": "stderr",
     "output_type": "stream",
     "text": [
      "/var/folders/fh/fzyqqz2s1vzcm3v06kz1h29w0000gp/T/ipykernel_2244/85417958.py:8: UserWarning: Boolean Series key will be reindexed to match DataFrame index.\n",
      "  temp_stats = all_pitching_stats[all_pitching_stats['team'] == team['Team']][all_pitching_stats['date'].astype(str).str.startswith(str(team['Year']))][all_pitching_stats['gametype'] == 'regular'][pitching_features]\n",
      "/var/folders/fh/fzyqqz2s1vzcm3v06kz1h29w0000gp/T/ipykernel_2244/85417958.py:8: UserWarning: Boolean Series key will be reindexed to match DataFrame index.\n",
      "  temp_stats = all_pitching_stats[all_pitching_stats['team'] == team['Team']][all_pitching_stats['date'].astype(str).str.startswith(str(team['Year']))][all_pitching_stats['gametype'] == 'regular'][pitching_features]\n"
     ]
    },
    {
     "name": "stdout",
     "output_type": "stream",
     "text": [
      "Max WHIP: 1.0\n",
      "Min WHIP: 0.35\n",
      "Max ERA: 3.4285714285714284\n",
      "Min ERA: 0.225\n",
      "(23, 16)\n",
      "(1, 25, 16)\n",
      "Max WHIP: 1.0\n",
      "Min WHIP: 0.0\n",
      "Max ERA: 3.4285714285714284\n",
      "Min ERA: 0.0\n",
      "Index: 139, Year: 2012 Team: TEX, Level of Success: WC\n"
     ]
    },
    {
     "name": "stderr",
     "output_type": "stream",
     "text": [
      "/var/folders/fh/fzyqqz2s1vzcm3v06kz1h29w0000gp/T/ipykernel_2244/85417958.py:8: UserWarning: Boolean Series key will be reindexed to match DataFrame index.\n",
      "  temp_stats = all_pitching_stats[all_pitching_stats['team'] == team['Team']][all_pitching_stats['date'].astype(str).str.startswith(str(team['Year']))][all_pitching_stats['gametype'] == 'regular'][pitching_features]\n",
      "/var/folders/fh/fzyqqz2s1vzcm3v06kz1h29w0000gp/T/ipykernel_2244/85417958.py:8: UserWarning: Boolean Series key will be reindexed to match DataFrame index.\n",
      "  temp_stats = all_pitching_stats[all_pitching_stats['team'] == team['Team']][all_pitching_stats['date'].astype(str).str.startswith(str(team['Year']))][all_pitching_stats['gametype'] == 'regular'][pitching_features]\n"
     ]
    },
    {
     "name": "stdout",
     "output_type": "stream",
     "text": [
      "Max WHIP: 1.3333333333333333\n",
      "Min WHIP: 0.21296296296296297\n",
      "Max ERA: 6.0\n",
      "Min ERA: 0.5833333333333333\n",
      "(21, 16)\n",
      "(1, 25, 16)\n",
      "Max WHIP: 1.3333333333333333\n",
      "Min WHIP: 0.0\n",
      "Max ERA: 6.0\n",
      "Min ERA: 0.0\n",
      "Index: 140, Year: 2012 Team: BAL, Level of Success: DS\n"
     ]
    },
    {
     "name": "stderr",
     "output_type": "stream",
     "text": [
      "/var/folders/fh/fzyqqz2s1vzcm3v06kz1h29w0000gp/T/ipykernel_2244/85417958.py:8: UserWarning: Boolean Series key will be reindexed to match DataFrame index.\n",
      "  temp_stats = all_pitching_stats[all_pitching_stats['team'] == team['Team']][all_pitching_stats['date'].astype(str).str.startswith(str(team['Year']))][all_pitching_stats['gametype'] == 'regular'][pitching_features]\n",
      "/var/folders/fh/fzyqqz2s1vzcm3v06kz1h29w0000gp/T/ipykernel_2244/85417958.py:8: UserWarning: Boolean Series key will be reindexed to match DataFrame index.\n",
      "  temp_stats = all_pitching_stats[all_pitching_stats['team'] == team['Team']][all_pitching_stats['date'].astype(str).str.startswith(str(team['Year']))][all_pitching_stats['gametype'] == 'regular'][pitching_features]\n"
     ]
    },
    {
     "name": "stdout",
     "output_type": "stream",
     "text": [
      "Max WHIP: 2.3333333333333335\n",
      "Min WHIP: 0.31343283582089554\n",
      "Max ERA: 6.0\n",
      "Min ERA: 0.0\n",
      "(26, 16)\n",
      "(1, 25, 16)\n",
      "Max WHIP: 0.6666666666666666\n",
      "Min WHIP: 0.31343283582089554\n",
      "Max ERA: 2.32258064516129\n",
      "Min ERA: 0.0\n",
      "Index: 141, Year: 2012 Team: WAS, Level of Success: DS\n"
     ]
    },
    {
     "name": "stderr",
     "output_type": "stream",
     "text": [
      "/var/folders/fh/fzyqqz2s1vzcm3v06kz1h29w0000gp/T/ipykernel_2244/85417958.py:8: UserWarning: Boolean Series key will be reindexed to match DataFrame index.\n",
      "  temp_stats = all_pitching_stats[all_pitching_stats['team'] == team['Team']][all_pitching_stats['date'].astype(str).str.startswith(str(team['Year']))][all_pitching_stats['gametype'] == 'regular'][pitching_features]\n",
      "/var/folders/fh/fzyqqz2s1vzcm3v06kz1h29w0000gp/T/ipykernel_2244/85417958.py:8: UserWarning: Boolean Series key will be reindexed to match DataFrame index.\n",
      "  temp_stats = all_pitching_stats[all_pitching_stats['team'] == team['Team']][all_pitching_stats['date'].astype(str).str.startswith(str(team['Year']))][all_pitching_stats['gametype'] == 'regular'][pitching_features]\n"
     ]
    },
    {
     "name": "stdout",
     "output_type": "stream",
     "text": [
      "Max WHIP: 0.8214285714285714\n",
      "Min WHIP: 0.2631578947368421\n",
      "Max ERA: 3.375\n",
      "Min ERA: 0.43902439024390244\n",
      "(19, 16)\n",
      "(1, 25, 16)\n",
      "Max WHIP: 0.8214285714285714\n",
      "Min WHIP: 0.0\n",
      "Max ERA: 3.375\n",
      "Min ERA: 0.0\n",
      "Index: 142, Year: 2012 Team: CIN, Level of Success: DS\n"
     ]
    },
    {
     "name": "stderr",
     "output_type": "stream",
     "text": [
      "/var/folders/fh/fzyqqz2s1vzcm3v06kz1h29w0000gp/T/ipykernel_2244/85417958.py:8: UserWarning: Boolean Series key will be reindexed to match DataFrame index.\n",
      "  temp_stats = all_pitching_stats[all_pitching_stats['team'] == team['Team']][all_pitching_stats['date'].astype(str).str.startswith(str(team['Year']))][all_pitching_stats['gametype'] == 'regular'][pitching_features]\n",
      "/var/folders/fh/fzyqqz2s1vzcm3v06kz1h29w0000gp/T/ipykernel_2244/85417958.py:8: UserWarning: Boolean Series key will be reindexed to match DataFrame index.\n",
      "  temp_stats = all_pitching_stats[all_pitching_stats['team'] == team['Team']][all_pitching_stats['date'].astype(str).str.startswith(str(team['Year']))][all_pitching_stats['gametype'] == 'regular'][pitching_features]\n"
     ]
    },
    {
     "name": "stdout",
     "output_type": "stream",
     "text": [
      "Max WHIP: 1.2\n",
      "Min WHIP: 0.0\n",
      "Max ERA: 3.6\n",
      "Min ERA: 0.0\n",
      "(17, 16)\n",
      "(1, 25, 16)\n",
      "Max WHIP: 1.2\n",
      "Min WHIP: 0.0\n",
      "Max ERA: 3.6\n",
      "Min ERA: 0.0\n",
      "Index: 143, Year: 2012 Team: SFN, Level of Success: C\n"
     ]
    },
    {
     "name": "stderr",
     "output_type": "stream",
     "text": [
      "/var/folders/fh/fzyqqz2s1vzcm3v06kz1h29w0000gp/T/ipykernel_2244/85417958.py:8: UserWarning: Boolean Series key will be reindexed to match DataFrame index.\n",
      "  temp_stats = all_pitching_stats[all_pitching_stats['team'] == team['Team']][all_pitching_stats['date'].astype(str).str.startswith(str(team['Year']))][all_pitching_stats['gametype'] == 'regular'][pitching_features]\n",
      "/var/folders/fh/fzyqqz2s1vzcm3v06kz1h29w0000gp/T/ipykernel_2244/85417958.py:8: UserWarning: Boolean Series key will be reindexed to match DataFrame index.\n",
      "  temp_stats = all_pitching_stats[all_pitching_stats['team'] == team['Team']][all_pitching_stats['date'].astype(str).str.startswith(str(team['Year']))][all_pitching_stats['gametype'] == 'regular'][pitching_features]\n"
     ]
    },
    {
     "name": "stdout",
     "output_type": "stream",
     "text": [
      "Max WHIP: 1.0\n",
      "Min WHIP: 0.28313253012048195\n",
      "Max ERA: 3.0\n",
      "Min ERA: 0.0\n",
      "(23, 16)\n",
      "(1, 25, 16)\n",
      "Max WHIP: 1.0\n",
      "Min WHIP: 0.0\n",
      "Max ERA: 3.0\n",
      "Min ERA: 0.0\n",
      "Index: 144, Year: 2012 Team: ATL, Level of Success: WC\n"
     ]
    },
    {
     "name": "stderr",
     "output_type": "stream",
     "text": [
      "/var/folders/fh/fzyqqz2s1vzcm3v06kz1h29w0000gp/T/ipykernel_2244/85417958.py:8: UserWarning: Boolean Series key will be reindexed to match DataFrame index.\n",
      "  temp_stats = all_pitching_stats[all_pitching_stats['team'] == team['Team']][all_pitching_stats['date'].astype(str).str.startswith(str(team['Year']))][all_pitching_stats['gametype'] == 'regular'][pitching_features]\n",
      "/var/folders/fh/fzyqqz2s1vzcm3v06kz1h29w0000gp/T/ipykernel_2244/85417958.py:8: UserWarning: Boolean Series key will be reindexed to match DataFrame index.\n",
      "  temp_stats = all_pitching_stats[all_pitching_stats['team'] == team['Team']][all_pitching_stats['date'].astype(str).str.startswith(str(team['Year']))][all_pitching_stats['gametype'] == 'regular'][pitching_features]\n"
     ]
    },
    {
     "name": "stdout",
     "output_type": "stream",
     "text": [
      "Max WHIP: 0.6206896551724138\n",
      "Min WHIP: 0.21808510638297873\n",
      "Max ERA: 2.296551724137931\n",
      "Min ERA: 0.3351063829787234\n",
      "(21, 16)\n",
      "(1, 25, 16)\n",
      "Max WHIP: 0.6206896551724138\n",
      "Min WHIP: 0.0\n",
      "Max ERA: 2.296551724137931\n",
      "Min ERA: 0.0\n",
      "Index: 145, Year: 2012 Team: SLN, Level of Success: LS\n"
     ]
    },
    {
     "name": "stderr",
     "output_type": "stream",
     "text": [
      "/var/folders/fh/fzyqqz2s1vzcm3v06kz1h29w0000gp/T/ipykernel_2244/85417958.py:8: UserWarning: Boolean Series key will be reindexed to match DataFrame index.\n",
      "  temp_stats = all_pitching_stats[all_pitching_stats['team'] == team['Team']][all_pitching_stats['date'].astype(str).str.startswith(str(team['Year']))][all_pitching_stats['gametype'] == 'regular'][pitching_features]\n",
      "/var/folders/fh/fzyqqz2s1vzcm3v06kz1h29w0000gp/T/ipykernel_2244/85417958.py:8: UserWarning: Boolean Series key will be reindexed to match DataFrame index.\n",
      "  temp_stats = all_pitching_stats[all_pitching_stats['team'] == team['Team']][all_pitching_stats['date'].astype(str).str.startswith(str(team['Year']))][all_pitching_stats['gametype'] == 'regular'][pitching_features]\n"
     ]
    },
    {
     "name": "stdout",
     "output_type": "stream",
     "text": [
      "Max WHIP: 0.8\n",
      "Min WHIP: 0.2911392405063291\n",
      "Max ERA: 3.375\n",
      "Min ERA: 0.34177215189873417\n",
      "(24, 16)\n",
      "(1, 25, 16)\n",
      "Max WHIP: 0.8\n",
      "Min WHIP: 0.0\n",
      "Max ERA: 3.375\n",
      "Min ERA: 0.0\n",
      "Index: 146, Year: 2013 Team: BOS, Level of Success: C\n"
     ]
    },
    {
     "name": "stderr",
     "output_type": "stream",
     "text": [
      "/var/folders/fh/fzyqqz2s1vzcm3v06kz1h29w0000gp/T/ipykernel_2244/85417958.py:8: UserWarning: Boolean Series key will be reindexed to match DataFrame index.\n",
      "  temp_stats = all_pitching_stats[all_pitching_stats['team'] == team['Team']][all_pitching_stats['date'].astype(str).str.startswith(str(team['Year']))][all_pitching_stats['gametype'] == 'regular'][pitching_features]\n",
      "/var/folders/fh/fzyqqz2s1vzcm3v06kz1h29w0000gp/T/ipykernel_2244/85417958.py:8: UserWarning: Boolean Series key will be reindexed to match DataFrame index.\n",
      "  temp_stats = all_pitching_stats[all_pitching_stats['team'] == team['Team']][all_pitching_stats['date'].astype(str).str.startswith(str(team['Year']))][all_pitching_stats['gametype'] == 'regular'][pitching_features]\n"
     ]
    },
    {
     "name": "stdout",
     "output_type": "stream",
     "text": [
      "Max WHIP: inf\n",
      "Min WHIP: 0.18834080717488788\n",
      "Max ERA: 3.272727272727273\n",
      "Min ERA: 0.3632286995515695\n",
      "(26, 16)\n",
      "(1, 25, 16)\n",
      "Max WHIP: 1.0\n",
      "Min WHIP: 0.18834080717488788\n",
      "Max ERA: 3.272727272727273\n",
      "Min ERA: 0.3632286995515695\n",
      "Index: 147, Year: 2013 Team: OAK, Level of Success: DS\n"
     ]
    },
    {
     "name": "stderr",
     "output_type": "stream",
     "text": [
      "/var/folders/fh/fzyqqz2s1vzcm3v06kz1h29w0000gp/T/ipykernel_2244/85417958.py:8: UserWarning: Boolean Series key will be reindexed to match DataFrame index.\n",
      "  temp_stats = all_pitching_stats[all_pitching_stats['team'] == team['Team']][all_pitching_stats['date'].astype(str).str.startswith(str(team['Year']))][all_pitching_stats['gametype'] == 'regular'][pitching_features]\n",
      "/var/folders/fh/fzyqqz2s1vzcm3v06kz1h29w0000gp/T/ipykernel_2244/85417958.py:8: UserWarning: Boolean Series key will be reindexed to match DataFrame index.\n",
      "  temp_stats = all_pitching_stats[all_pitching_stats['team'] == team['Team']][all_pitching_stats['date'].astype(str).str.startswith(str(team['Year']))][all_pitching_stats['gametype'] == 'regular'][pitching_features]\n"
     ]
    },
    {
     "name": "stdout",
     "output_type": "stream",
     "text": [
      "Max WHIP: 1.0\n",
      "Min WHIP: 0.3188405797101449\n",
      "Max ERA: 4.0\n",
      "Min ERA: 0.4615384615384615\n",
      "(18, 16)\n",
      "(1, 25, 16)\n",
      "Max WHIP: 1.0\n",
      "Min WHIP: 0.0\n",
      "Max ERA: 4.0\n",
      "Min ERA: 0.0\n",
      "Index: 148, Year: 2013 Team: DET, Level of Success: LS\n"
     ]
    },
    {
     "name": "stderr",
     "output_type": "stream",
     "text": [
      "/var/folders/fh/fzyqqz2s1vzcm3v06kz1h29w0000gp/T/ipykernel_2244/85417958.py:8: UserWarning: Boolean Series key will be reindexed to match DataFrame index.\n",
      "  temp_stats = all_pitching_stats[all_pitching_stats['team'] == team['Team']][all_pitching_stats['date'].astype(str).str.startswith(str(team['Year']))][all_pitching_stats['gametype'] == 'regular'][pitching_features]\n",
      "/var/folders/fh/fzyqqz2s1vzcm3v06kz1h29w0000gp/T/ipykernel_2244/85417958.py:8: UserWarning: Boolean Series key will be reindexed to match DataFrame index.\n",
      "  temp_stats = all_pitching_stats[all_pitching_stats['team'] == team['Team']][all_pitching_stats['date'].astype(str).str.startswith(str(team['Year']))][all_pitching_stats['gametype'] == 'regular'][pitching_features]\n"
     ]
    },
    {
     "name": "stdout",
     "output_type": "stream",
     "text": [
      "Max WHIP: 1.2307692307692308\n",
      "Min WHIP: 0.3234836702954899\n",
      "Max ERA: 6.923076923076923\n",
      "Min ERA: 0.6716417910447761\n",
      "(20, 16)\n",
      "(1, 25, 16)\n",
      "Max WHIP: 1.2307692307692308\n",
      "Min WHIP: 0.0\n",
      "Max ERA: 6.923076923076923\n",
      "Min ERA: 0.0\n",
      "Index: 149, Year: 2013 Team: CLE, Level of Success: WC\n"
     ]
    },
    {
     "name": "stderr",
     "output_type": "stream",
     "text": [
      "/var/folders/fh/fzyqqz2s1vzcm3v06kz1h29w0000gp/T/ipykernel_2244/85417958.py:8: UserWarning: Boolean Series key will be reindexed to match DataFrame index.\n",
      "  temp_stats = all_pitching_stats[all_pitching_stats['team'] == team['Team']][all_pitching_stats['date'].astype(str).str.startswith(str(team['Year']))][all_pitching_stats['gametype'] == 'regular'][pitching_features]\n",
      "/var/folders/fh/fzyqqz2s1vzcm3v06kz1h29w0000gp/T/ipykernel_2244/85417958.py:8: UserWarning: Boolean Series key will be reindexed to match DataFrame index.\n",
      "  temp_stats = all_pitching_stats[all_pitching_stats['team'] == team['Team']][all_pitching_stats['date'].astype(str).str.startswith(str(team['Year']))][all_pitching_stats['gametype'] == 'regular'][pitching_features]\n"
     ]
    },
    {
     "name": "stdout",
     "output_type": "stream",
     "text": [
      "Max WHIP: 1.0\n",
      "Min WHIP: 0.0\n",
      "Max ERA: 5.0\n",
      "Min ERA: 0.0\n",
      "(28, 16)\n",
      "(1, 25, 16)\n",
      "Max WHIP: 0.8888888888888888\n",
      "Min WHIP: 0.26666666666666666\n",
      "Max ERA: 5.0\n",
      "Min ERA: 0.0\n",
      "Index: 150, Year: 2013 Team: TBA, Level of Success: DS\n"
     ]
    },
    {
     "name": "stderr",
     "output_type": "stream",
     "text": [
      "/var/folders/fh/fzyqqz2s1vzcm3v06kz1h29w0000gp/T/ipykernel_2244/85417958.py:8: UserWarning: Boolean Series key will be reindexed to match DataFrame index.\n",
      "  temp_stats = all_pitching_stats[all_pitching_stats['team'] == team['Team']][all_pitching_stats['date'].astype(str).str.startswith(str(team['Year']))][all_pitching_stats['gametype'] == 'regular'][pitching_features]\n",
      "/var/folders/fh/fzyqqz2s1vzcm3v06kz1h29w0000gp/T/ipykernel_2244/85417958.py:8: UserWarning: Boolean Series key will be reindexed to match DataFrame index.\n",
      "  temp_stats = all_pitching_stats[all_pitching_stats['team'] == team['Team']][all_pitching_stats['date'].astype(str).str.startswith(str(team['Year']))][all_pitching_stats['gametype'] == 'regular'][pitching_features]\n"
     ]
    },
    {
     "name": "stdout",
     "output_type": "stream",
     "text": [
      "Max WHIP: 1.0\n",
      "Min WHIP: 0.0\n",
      "Max ERA: 2.1724137931034484\n",
      "Min ERA: 0.0\n",
      "(21, 16)\n",
      "(1, 25, 16)\n",
      "Max WHIP: 1.0\n",
      "Min WHIP: 0.0\n",
      "Max ERA: 2.1724137931034484\n",
      "Min ERA: 0.0\n",
      "Index: 151, Year: 2013 Team: SLN, Level of Success: WS\n"
     ]
    },
    {
     "name": "stderr",
     "output_type": "stream",
     "text": [
      "/var/folders/fh/fzyqqz2s1vzcm3v06kz1h29w0000gp/T/ipykernel_2244/85417958.py:8: UserWarning: Boolean Series key will be reindexed to match DataFrame index.\n",
      "  temp_stats = all_pitching_stats[all_pitching_stats['team'] == team['Team']][all_pitching_stats['date'].astype(str).str.startswith(str(team['Year']))][all_pitching_stats['gametype'] == 'regular'][pitching_features]\n",
      "/var/folders/fh/fzyqqz2s1vzcm3v06kz1h29w0000gp/T/ipykernel_2244/85417958.py:8: UserWarning: Boolean Series key will be reindexed to match DataFrame index.\n",
      "  temp_stats = all_pitching_stats[all_pitching_stats['team'] == team['Team']][all_pitching_stats['date'].astype(str).str.startswith(str(team['Year']))][all_pitching_stats['gametype'] == 'regular'][pitching_features]\n"
     ]
    },
    {
     "name": "stdout",
     "output_type": "stream",
     "text": [
      "Max WHIP: 0.8571428571428571\n",
      "Min WHIP: 0.0\n",
      "Max ERA: 6.428571428571429\n",
      "Min ERA: 0.0\n",
      "(25, 16)\n",
      "(1, 25, 16)\n",
      "Max WHIP: 0.8571428571428571\n",
      "Min WHIP: 0.0\n",
      "Max ERA: 6.428571428571429\n",
      "Min ERA: 0.0\n",
      "Index: 152, Year: 2013 Team: ATL, Level of Success: DS\n"
     ]
    },
    {
     "name": "stderr",
     "output_type": "stream",
     "text": [
      "/var/folders/fh/fzyqqz2s1vzcm3v06kz1h29w0000gp/T/ipykernel_2244/85417958.py:8: UserWarning: Boolean Series key will be reindexed to match DataFrame index.\n",
      "  temp_stats = all_pitching_stats[all_pitching_stats['team'] == team['Team']][all_pitching_stats['date'].astype(str).str.startswith(str(team['Year']))][all_pitching_stats['gametype'] == 'regular'][pitching_features]\n",
      "/var/folders/fh/fzyqqz2s1vzcm3v06kz1h29w0000gp/T/ipykernel_2244/85417958.py:8: UserWarning: Boolean Series key will be reindexed to match DataFrame index.\n",
      "  temp_stats = all_pitching_stats[all_pitching_stats['team'] == team['Team']][all_pitching_stats['date'].astype(str).str.startswith(str(team['Year']))][all_pitching_stats['gametype'] == 'regular'][pitching_features]\n"
     ]
    },
    {
     "name": "stdout",
     "output_type": "stream",
     "text": [
      "Max WHIP: 0.7142857142857143\n",
      "Min WHIP: 0.2935323383084577\n",
      "Max ERA: 2.6999999999999997\n",
      "Min ERA: 0.2727272727272727\n",
      "(21, 16)\n",
      "(1, 25, 16)\n",
      "Max WHIP: 0.7142857142857143\n",
      "Min WHIP: 0.0\n",
      "Max ERA: 2.6999999999999997\n",
      "Min ERA: 0.0\n",
      "Index: 153, Year: 2013 Team: LAN, Level of Success: LS\n"
     ]
    },
    {
     "name": "stderr",
     "output_type": "stream",
     "text": [
      "/var/folders/fh/fzyqqz2s1vzcm3v06kz1h29w0000gp/T/ipykernel_2244/85417958.py:8: UserWarning: Boolean Series key will be reindexed to match DataFrame index.\n",
      "  temp_stats = all_pitching_stats[all_pitching_stats['team'] == team['Team']][all_pitching_stats['date'].astype(str).str.startswith(str(team['Year']))][all_pitching_stats['gametype'] == 'regular'][pitching_features]\n",
      "/var/folders/fh/fzyqqz2s1vzcm3v06kz1h29w0000gp/T/ipykernel_2244/85417958.py:8: UserWarning: Boolean Series key will be reindexed to match DataFrame index.\n",
      "  temp_stats = all_pitching_stats[all_pitching_stats['team'] == team['Team']][all_pitching_stats['date'].astype(str).str.startswith(str(team['Year']))][all_pitching_stats['gametype'] == 'regular'][pitching_features]\n"
     ]
    },
    {
     "name": "stdout",
     "output_type": "stream",
     "text": [
      "Max WHIP: inf\n",
      "Min WHIP: 0.28695652173913044\n",
      "Max ERA: 6.0\n",
      "Min ERA: 0.0\n",
      "(27, 16)\n",
      "(1, 25, 16)\n",
      "Max WHIP: 1.0952380952380953\n",
      "Min WHIP: 0.28695652173913044\n",
      "Max ERA: 6.0\n",
      "Min ERA: 0.0\n",
      "Index: 154, Year: 2013 Team: PIT, Level of Success: DS\n"
     ]
    },
    {
     "name": "stderr",
     "output_type": "stream",
     "text": [
      "/var/folders/fh/fzyqqz2s1vzcm3v06kz1h29w0000gp/T/ipykernel_2244/85417958.py:8: UserWarning: Boolean Series key will be reindexed to match DataFrame index.\n",
      "  temp_stats = all_pitching_stats[all_pitching_stats['team'] == team['Team']][all_pitching_stats['date'].astype(str).str.startswith(str(team['Year']))][all_pitching_stats['gametype'] == 'regular'][pitching_features]\n",
      "/var/folders/fh/fzyqqz2s1vzcm3v06kz1h29w0000gp/T/ipykernel_2244/85417958.py:8: UserWarning: Boolean Series key will be reindexed to match DataFrame index.\n",
      "  temp_stats = all_pitching_stats[all_pitching_stats['team'] == team['Team']][all_pitching_stats['date'].astype(str).str.startswith(str(team['Year']))][all_pitching_stats['gametype'] == 'regular'][pitching_features]\n"
     ]
    },
    {
     "name": "stdout",
     "output_type": "stream",
     "text": [
      "Max WHIP: 1.0\n",
      "Min WHIP: 0.0\n",
      "Max ERA: 5.0\n",
      "Min ERA: 0.0\n",
      "(28, 16)\n",
      "(1, 25, 16)\n",
      "Max WHIP: 1.0\n",
      "Min WHIP: 0.2857142857142857\n",
      "Max ERA: 5.0\n",
      "Min ERA: 0.34615384615384615\n",
      "Index: 155, Year: 2013 Team: CIN, Level of Success: WC\n"
     ]
    },
    {
     "name": "stderr",
     "output_type": "stream",
     "text": [
      "/var/folders/fh/fzyqqz2s1vzcm3v06kz1h29w0000gp/T/ipykernel_2244/85417958.py:8: UserWarning: Boolean Series key will be reindexed to match DataFrame index.\n",
      "  temp_stats = all_pitching_stats[all_pitching_stats['team'] == team['Team']][all_pitching_stats['date'].astype(str).str.startswith(str(team['Year']))][all_pitching_stats['gametype'] == 'regular'][pitching_features]\n",
      "/var/folders/fh/fzyqqz2s1vzcm3v06kz1h29w0000gp/T/ipykernel_2244/85417958.py:8: UserWarning: Boolean Series key will be reindexed to match DataFrame index.\n",
      "  temp_stats = all_pitching_stats[all_pitching_stats['team'] == team['Team']][all_pitching_stats['date'].astype(str).str.startswith(str(team['Year']))][all_pitching_stats['gametype'] == 'regular'][pitching_features]\n"
     ]
    },
    {
     "name": "stdout",
     "output_type": "stream",
     "text": [
      "Max WHIP: 0.9411764705882353\n",
      "Min WHIP: 0.1935483870967742\n",
      "Max ERA: 6.0\n",
      "Min ERA: 0.28125\n",
      "(20, 16)\n",
      "(1, 25, 16)\n",
      "Max WHIP: 0.9411764705882353\n",
      "Min WHIP: 0.0\n",
      "Max ERA: 6.0\n",
      "Min ERA: 0.0\n",
      "Index: 156, Year: 2014 Team: ANA, Level of Success: DS\n"
     ]
    },
    {
     "name": "stderr",
     "output_type": "stream",
     "text": [
      "/var/folders/fh/fzyqqz2s1vzcm3v06kz1h29w0000gp/T/ipykernel_2244/85417958.py:8: UserWarning: Boolean Series key will be reindexed to match DataFrame index.\n",
      "  temp_stats = all_pitching_stats[all_pitching_stats['team'] == team['Team']][all_pitching_stats['date'].astype(str).str.startswith(str(team['Year']))][all_pitching_stats['gametype'] == 'regular'][pitching_features]\n",
      "/var/folders/fh/fzyqqz2s1vzcm3v06kz1h29w0000gp/T/ipykernel_2244/85417958.py:8: UserWarning: Boolean Series key will be reindexed to match DataFrame index.\n",
      "  temp_stats = all_pitching_stats[all_pitching_stats['team'] == team['Team']][all_pitching_stats['date'].astype(str).str.startswith(str(team['Year']))][all_pitching_stats['gametype'] == 'regular'][pitching_features]\n"
     ]
    },
    {
     "name": "stdout",
     "output_type": "stream",
     "text": [
      "Max WHIP: inf\n",
      "Min WHIP: 0.1111111111111111\n",
      "Max ERA: inf\n",
      "Min ERA: 0.0\n",
      "(31, 16)\n",
      "(1, 25, 16)\n",
      "Max WHIP: 1.0\n",
      "Min WHIP: 0.1111111111111111\n",
      "Max ERA: 4.263157894736842\n",
      "Min ERA: 0.0\n",
      "Index: 157, Year: 2014 Team: BAL, Level of Success: LS\n"
     ]
    },
    {
     "name": "stderr",
     "output_type": "stream",
     "text": [
      "/var/folders/fh/fzyqqz2s1vzcm3v06kz1h29w0000gp/T/ipykernel_2244/85417958.py:8: UserWarning: Boolean Series key will be reindexed to match DataFrame index.\n",
      "  temp_stats = all_pitching_stats[all_pitching_stats['team'] == team['Team']][all_pitching_stats['date'].astype(str).str.startswith(str(team['Year']))][all_pitching_stats['gametype'] == 'regular'][pitching_features]\n",
      "/var/folders/fh/fzyqqz2s1vzcm3v06kz1h29w0000gp/T/ipykernel_2244/85417958.py:8: UserWarning: Boolean Series key will be reindexed to match DataFrame index.\n",
      "  temp_stats = all_pitching_stats[all_pitching_stats['team'] == team['Team']][all_pitching_stats['date'].astype(str).str.startswith(str(team['Year']))][all_pitching_stats['gametype'] == 'regular'][pitching_features]\n"
     ]
    },
    {
     "name": "stdout",
     "output_type": "stream",
     "text": [
      "Max WHIP: 0.7\n",
      "Min WHIP: 0.2\n",
      "Max ERA: 4.5\n",
      "Min ERA: 0.0\n",
      "(20, 16)\n",
      "(1, 25, 16)\n",
      "Max WHIP: 0.7\n",
      "Min WHIP: 0.0\n",
      "Max ERA: 4.5\n",
      "Min ERA: 0.0\n",
      "Index: 158, Year: 2014 Team: DET, Level of Success: DS\n"
     ]
    },
    {
     "name": "stderr",
     "output_type": "stream",
     "text": [
      "/var/folders/fh/fzyqqz2s1vzcm3v06kz1h29w0000gp/T/ipykernel_2244/85417958.py:8: UserWarning: Boolean Series key will be reindexed to match DataFrame index.\n",
      "  temp_stats = all_pitching_stats[all_pitching_stats['team'] == team['Team']][all_pitching_stats['date'].astype(str).str.startswith(str(team['Year']))][all_pitching_stats['gametype'] == 'regular'][pitching_features]\n",
      "/var/folders/fh/fzyqqz2s1vzcm3v06kz1h29w0000gp/T/ipykernel_2244/85417958.py:8: UserWarning: Boolean Series key will be reindexed to match DataFrame index.\n",
      "  temp_stats = all_pitching_stats[all_pitching_stats['team'] == team['Team']][all_pitching_stats['date'].astype(str).str.startswith(str(team['Year']))][all_pitching_stats['gametype'] == 'regular'][pitching_features]\n"
     ]
    },
    {
     "name": "stdout",
     "output_type": "stream",
     "text": [
      "Max WHIP: 1.3333333333333333\n",
      "Min WHIP: 0.0\n",
      "Max ERA: 9.0\n",
      "Min ERA: 0.0\n",
      "(30, 16)\n",
      "(1, 25, 16)\n",
      "Max WHIP: 1.0\n",
      "Min WHIP: 0.36507936507936506\n",
      "Max ERA: 9.0\n",
      "Min ERA: 0.8372093023255813\n",
      "Index: 159, Year: 2014 Team: KCA, Level of Success: WS\n"
     ]
    },
    {
     "name": "stderr",
     "output_type": "stream",
     "text": [
      "/var/folders/fh/fzyqqz2s1vzcm3v06kz1h29w0000gp/T/ipykernel_2244/85417958.py:8: UserWarning: Boolean Series key will be reindexed to match DataFrame index.\n",
      "  temp_stats = all_pitching_stats[all_pitching_stats['team'] == team['Team']][all_pitching_stats['date'].astype(str).str.startswith(str(team['Year']))][all_pitching_stats['gametype'] == 'regular'][pitching_features]\n",
      "/var/folders/fh/fzyqqz2s1vzcm3v06kz1h29w0000gp/T/ipykernel_2244/85417958.py:8: UserWarning: Boolean Series key will be reindexed to match DataFrame index.\n",
      "  temp_stats = all_pitching_stats[all_pitching_stats['team'] == team['Team']][all_pitching_stats['date'].astype(str).str.startswith(str(team['Year']))][all_pitching_stats['gametype'] == 'regular'][pitching_features]\n"
     ]
    },
    {
     "name": "stdout",
     "output_type": "stream",
     "text": [
      "Max WHIP: 3.0\n",
      "Min WHIP: 0.2824074074074074\n",
      "Max ERA: 27.0\n",
      "Min ERA: 0.0\n",
      "(23, 16)\n",
      "(1, 25, 16)\n",
      "Max WHIP: 3.0\n",
      "Min WHIP: 0.0\n",
      "Max ERA: 27.0\n",
      "Min ERA: 0.0\n",
      "Index: 160, Year: 2014 Team: OAK, Level of Success: WC\n"
     ]
    },
    {
     "name": "stderr",
     "output_type": "stream",
     "text": [
      "/var/folders/fh/fzyqqz2s1vzcm3v06kz1h29w0000gp/T/ipykernel_2244/85417958.py:8: UserWarning: Boolean Series key will be reindexed to match DataFrame index.\n",
      "  temp_stats = all_pitching_stats[all_pitching_stats['team'] == team['Team']][all_pitching_stats['date'].astype(str).str.startswith(str(team['Year']))][all_pitching_stats['gametype'] == 'regular'][pitching_features]\n",
      "/var/folders/fh/fzyqqz2s1vzcm3v06kz1h29w0000gp/T/ipykernel_2244/85417958.py:8: UserWarning: Boolean Series key will be reindexed to match DataFrame index.\n",
      "  temp_stats = all_pitching_stats[all_pitching_stats['team'] == team['Team']][all_pitching_stats['date'].astype(str).str.startswith(str(team['Year']))][all_pitching_stats['gametype'] == 'regular'][pitching_features]\n"
     ]
    },
    {
     "name": "stdout",
     "output_type": "stream",
     "text": [
      "Max WHIP: 0.6859504132231405\n",
      "Min WHIP: 0.2222222222222222\n",
      "Max ERA: 2.3801652892561984\n",
      "Min ERA: 0.0\n",
      "(22, 16)\n",
      "(1, 25, 16)\n",
      "Max WHIP: 0.6859504132231405\n",
      "Min WHIP: 0.0\n",
      "Max ERA: 2.3801652892561984\n",
      "Min ERA: 0.0\n",
      "Index: 161, Year: 2014 Team: WAS, Level of Success: DS\n"
     ]
    },
    {
     "name": "stderr",
     "output_type": "stream",
     "text": [
      "/var/folders/fh/fzyqqz2s1vzcm3v06kz1h29w0000gp/T/ipykernel_2244/85417958.py:8: UserWarning: Boolean Series key will be reindexed to match DataFrame index.\n",
      "  temp_stats = all_pitching_stats[all_pitching_stats['team'] == team['Team']][all_pitching_stats['date'].astype(str).str.startswith(str(team['Year']))][all_pitching_stats['gametype'] == 'regular'][pitching_features]\n",
      "/var/folders/fh/fzyqqz2s1vzcm3v06kz1h29w0000gp/T/ipykernel_2244/85417958.py:8: UserWarning: Boolean Series key will be reindexed to match DataFrame index.\n",
      "  temp_stats = all_pitching_stats[all_pitching_stats['team'] == team['Team']][all_pitching_stats['date'].astype(str).str.startswith(str(team['Year']))][all_pitching_stats['gametype'] == 'regular'][pitching_features]\n"
     ]
    },
    {
     "name": "stdout",
     "output_type": "stream",
     "text": [
      "Max WHIP: 0.7037037037037037\n",
      "Min WHIP: 0.3254437869822485\n",
      "Max ERA: 3.0\n",
      "Min ERA: 0.0\n",
      "(18, 16)\n",
      "(1, 25, 16)\n",
      "Max WHIP: 0.7037037037037037\n",
      "Min WHIP: 0.0\n",
      "Max ERA: 3.0\n",
      "Min ERA: 0.0\n",
      "Index: 162, Year: 2014 Team: LAN, Level of Success: DS\n"
     ]
    },
    {
     "name": "stderr",
     "output_type": "stream",
     "text": [
      "/var/folders/fh/fzyqqz2s1vzcm3v06kz1h29w0000gp/T/ipykernel_2244/85417958.py:8: UserWarning: Boolean Series key will be reindexed to match DataFrame index.\n",
      "  temp_stats = all_pitching_stats[all_pitching_stats['team'] == team['Team']][all_pitching_stats['date'].astype(str).str.startswith(str(team['Year']))][all_pitching_stats['gametype'] == 'regular'][pitching_features]\n",
      "/var/folders/fh/fzyqqz2s1vzcm3v06kz1h29w0000gp/T/ipykernel_2244/85417958.py:8: UserWarning: Boolean Series key will be reindexed to match DataFrame index.\n",
      "  temp_stats = all_pitching_stats[all_pitching_stats['team'] == team['Team']][all_pitching_stats['date'].astype(str).str.startswith(str(team['Year']))][all_pitching_stats['gametype'] == 'regular'][pitching_features]\n"
     ]
    },
    {
     "name": "stdout",
     "output_type": "stream",
     "text": [
      "Max WHIP: 0.5675675675675675\n",
      "Min WHIP: 0.23333333333333334\n",
      "Max ERA: 3.789473684210526\n",
      "Min ERA: 0.5899159663865546\n",
      "(25, 16)\n",
      "(1, 25, 16)\n",
      "Max WHIP: 0.5675675675675675\n",
      "Min WHIP: 0.23333333333333334\n",
      "Max ERA: 3.789473684210526\n",
      "Min ERA: 0.5899159663865546\n",
      "Index: 163, Year: 2014 Team: SLN, Level of Success: LS\n"
     ]
    },
    {
     "name": "stderr",
     "output_type": "stream",
     "text": [
      "/var/folders/fh/fzyqqz2s1vzcm3v06kz1h29w0000gp/T/ipykernel_2244/85417958.py:8: UserWarning: Boolean Series key will be reindexed to match DataFrame index.\n",
      "  temp_stats = all_pitching_stats[all_pitching_stats['team'] == team['Team']][all_pitching_stats['date'].astype(str).str.startswith(str(team['Year']))][all_pitching_stats['gametype'] == 'regular'][pitching_features]\n",
      "/var/folders/fh/fzyqqz2s1vzcm3v06kz1h29w0000gp/T/ipykernel_2244/85417958.py:8: UserWarning: Boolean Series key will be reindexed to match DataFrame index.\n",
      "  temp_stats = all_pitching_stats[all_pitching_stats['team'] == team['Team']][all_pitching_stats['date'].astype(str).str.startswith(str(team['Year']))][all_pitching_stats['gametype'] == 'regular'][pitching_features]\n"
     ]
    },
    {
     "name": "stdout",
     "output_type": "stream",
     "text": [
      "Max WHIP: 2.3333333333333335\n",
      "Min WHIP: 0.0\n",
      "Max ERA: 12.0\n",
      "Min ERA: 0.0\n",
      "(24, 16)\n",
      "(1, 25, 16)\n",
      "Max WHIP: 2.3333333333333335\n",
      "Min WHIP: 0.0\n",
      "Max ERA: 12.0\n",
      "Min ERA: 0.0\n",
      "Index: 164, Year: 2014 Team: PIT, Level of Success: WC\n"
     ]
    },
    {
     "name": "stderr",
     "output_type": "stream",
     "text": [
      "/var/folders/fh/fzyqqz2s1vzcm3v06kz1h29w0000gp/T/ipykernel_2244/85417958.py:8: UserWarning: Boolean Series key will be reindexed to match DataFrame index.\n",
      "  temp_stats = all_pitching_stats[all_pitching_stats['team'] == team['Team']][all_pitching_stats['date'].astype(str).str.startswith(str(team['Year']))][all_pitching_stats['gametype'] == 'regular'][pitching_features]\n",
      "/var/folders/fh/fzyqqz2s1vzcm3v06kz1h29w0000gp/T/ipykernel_2244/85417958.py:8: UserWarning: Boolean Series key will be reindexed to match DataFrame index.\n",
      "  temp_stats = all_pitching_stats[all_pitching_stats['team'] == team['Team']][all_pitching_stats['date'].astype(str).str.startswith(str(team['Year']))][all_pitching_stats['gametype'] == 'regular'][pitching_features]\n"
     ]
    },
    {
     "name": "stdout",
     "output_type": "stream",
     "text": [
      "Max WHIP: 1.0\n",
      "Min WHIP: 0.2222222222222222\n",
      "Max ERA: 6.0\n",
      "Min ERA: 0.5431034482758621\n",
      "(23, 16)\n",
      "(1, 25, 16)\n",
      "Max WHIP: 1.0\n",
      "Min WHIP: 0.0\n",
      "Max ERA: 6.0\n",
      "Min ERA: 0.0\n",
      "Index: 165, Year: 2014 Team: SFN, Level of Success: C\n"
     ]
    },
    {
     "name": "stderr",
     "output_type": "stream",
     "text": [
      "/var/folders/fh/fzyqqz2s1vzcm3v06kz1h29w0000gp/T/ipykernel_2244/85417958.py:8: UserWarning: Boolean Series key will be reindexed to match DataFrame index.\n",
      "  temp_stats = all_pitching_stats[all_pitching_stats['team'] == team['Team']][all_pitching_stats['date'].astype(str).str.startswith(str(team['Year']))][all_pitching_stats['gametype'] == 'regular'][pitching_features]\n",
      "/var/folders/fh/fzyqqz2s1vzcm3v06kz1h29w0000gp/T/ipykernel_2244/85417958.py:8: UserWarning: Boolean Series key will be reindexed to match DataFrame index.\n",
      "  temp_stats = all_pitching_stats[all_pitching_stats['team'] == team['Team']][all_pitching_stats['date'].astype(str).str.startswith(str(team['Year']))][all_pitching_stats['gametype'] == 'regular'][pitching_features]\n"
     ]
    },
    {
     "name": "stdout",
     "output_type": "stream",
     "text": [
      "Max WHIP: 1.5\n",
      "Min WHIP: 0.23809523809523808\n",
      "Max ERA: 7.5\n",
      "Min ERA: 0.0\n",
      "(21, 16)\n",
      "(1, 25, 16)\n",
      "Max WHIP: 1.5\n",
      "Min WHIP: 0.0\n",
      "Max ERA: 7.5\n",
      "Min ERA: 0.0\n",
      "Index: 166, Year: 2015 Team: KCA, Level of Success: C\n"
     ]
    },
    {
     "name": "stderr",
     "output_type": "stream",
     "text": [
      "/var/folders/fh/fzyqqz2s1vzcm3v06kz1h29w0000gp/T/ipykernel_2244/85417958.py:8: UserWarning: Boolean Series key will be reindexed to match DataFrame index.\n",
      "  temp_stats = all_pitching_stats[all_pitching_stats['team'] == team['Team']][all_pitching_stats['date'].astype(str).str.startswith(str(team['Year']))][all_pitching_stats['gametype'] == 'regular'][pitching_features]\n",
      "/var/folders/fh/fzyqqz2s1vzcm3v06kz1h29w0000gp/T/ipykernel_2244/85417958.py:8: UserWarning: Boolean Series key will be reindexed to match DataFrame index.\n",
      "  temp_stats = all_pitching_stats[all_pitching_stats['team'] == team['Team']][all_pitching_stats['date'].astype(str).str.startswith(str(team['Year']))][all_pitching_stats['gametype'] == 'regular'][pitching_features]\n"
     ]
    },
    {
     "name": "stdout",
     "output_type": "stream",
     "text": [
      "Max WHIP: 0.5882352941176471\n",
      "Min WHIP: 0.2623762376237624\n",
      "Max ERA: 2.6470588235294117\n",
      "Min ERA: 0.0\n",
      "(24, 16)\n",
      "(1, 25, 16)\n",
      "Max WHIP: 0.5882352941176471\n",
      "Min WHIP: 0.0\n",
      "Max ERA: 2.6470588235294117\n",
      "Min ERA: 0.0\n",
      "Index: 167, Year: 2015 Team: TOR, Level of Success: LS\n"
     ]
    },
    {
     "name": "stderr",
     "output_type": "stream",
     "text": [
      "/var/folders/fh/fzyqqz2s1vzcm3v06kz1h29w0000gp/T/ipykernel_2244/85417958.py:8: UserWarning: Boolean Series key will be reindexed to match DataFrame index.\n",
      "  temp_stats = all_pitching_stats[all_pitching_stats['team'] == team['Team']][all_pitching_stats['date'].astype(str).str.startswith(str(team['Year']))][all_pitching_stats['gametype'] == 'regular'][pitching_features]\n",
      "/var/folders/fh/fzyqqz2s1vzcm3v06kz1h29w0000gp/T/ipykernel_2244/85417958.py:8: UserWarning: Boolean Series key will be reindexed to match DataFrame index.\n",
      "  temp_stats = all_pitching_stats[all_pitching_stats['team'] == team['Team']][all_pitching_stats['date'].astype(str).str.startswith(str(team['Year']))][all_pitching_stats['gametype'] == 'regular'][pitching_features]\n"
     ]
    },
    {
     "name": "stdout",
     "output_type": "stream",
     "text": [
      "Max WHIP: 1.1111111111111112\n",
      "Min WHIP: 0.2807017543859649\n",
      "Max ERA: 4.95\n",
      "Min ERA: 0.0\n",
      "(28, 16)\n",
      "(1, 25, 16)\n",
      "Max WHIP: 1.1111111111111112\n",
      "Min WHIP: 0.2807017543859649\n",
      "Max ERA: 4.95\n",
      "Min ERA: 0.5555555555555556\n",
      "Index: 168, Year: 2015 Team: TEX, Level of Success: DS\n"
     ]
    },
    {
     "name": "stderr",
     "output_type": "stream",
     "text": [
      "/var/folders/fh/fzyqqz2s1vzcm3v06kz1h29w0000gp/T/ipykernel_2244/85417958.py:8: UserWarning: Boolean Series key will be reindexed to match DataFrame index.\n",
      "  temp_stats = all_pitching_stats[all_pitching_stats['team'] == team['Team']][all_pitching_stats['date'].astype(str).str.startswith(str(team['Year']))][all_pitching_stats['gametype'] == 'regular'][pitching_features]\n",
      "/var/folders/fh/fzyqqz2s1vzcm3v06kz1h29w0000gp/T/ipykernel_2244/85417958.py:8: UserWarning: Boolean Series key will be reindexed to match DataFrame index.\n",
      "  temp_stats = all_pitching_stats[all_pitching_stats['team'] == team['Team']][all_pitching_stats['date'].astype(str).str.startswith(str(team['Year']))][all_pitching_stats['gametype'] == 'regular'][pitching_features]\n"
     ]
    },
    {
     "name": "stdout",
     "output_type": "stream",
     "text": [
      "Max WHIP: 0.7777777777777778\n",
      "Min WHIP: 0.2978723404255319\n",
      "Max ERA: 5.3999999999999995\n",
      "Min ERA: 0.3829787234042553\n",
      "(31, 16)\n",
      "(1, 25, 16)\n",
      "Max WHIP: 0.6356589147286822\n",
      "Min WHIP: 0.2978723404255319\n",
      "Max ERA: 3.0\n",
      "Min ERA: 0.3829787234042553\n",
      "Index: 169, Year: 2015 Team: NYA, Level of Success: WC\n"
     ]
    },
    {
     "name": "stderr",
     "output_type": "stream",
     "text": [
      "/var/folders/fh/fzyqqz2s1vzcm3v06kz1h29w0000gp/T/ipykernel_2244/85417958.py:8: UserWarning: Boolean Series key will be reindexed to match DataFrame index.\n",
      "  temp_stats = all_pitching_stats[all_pitching_stats['team'] == team['Team']][all_pitching_stats['date'].astype(str).str.startswith(str(team['Year']))][all_pitching_stats['gametype'] == 'regular'][pitching_features]\n",
      "/var/folders/fh/fzyqqz2s1vzcm3v06kz1h29w0000gp/T/ipykernel_2244/85417958.py:8: UserWarning: Boolean Series key will be reindexed to match DataFrame index.\n",
      "  temp_stats = all_pitching_stats[all_pitching_stats['team'] == team['Team']][all_pitching_stats['date'].astype(str).str.startswith(str(team['Year']))][all_pitching_stats['gametype'] == 'regular'][pitching_features]\n"
     ]
    },
    {
     "name": "stdout",
     "output_type": "stream",
     "text": [
      "Max WHIP: 2.0\n",
      "Min WHIP: 0.2864864864864865\n",
      "Max ERA: 18.0\n",
      "Min ERA: 0.0\n",
      "(33, 16)\n",
      "(1, 25, 16)\n",
      "Max WHIP: 0.6065573770491803\n",
      "Min WHIP: 0.2864864864864865\n",
      "Max ERA: 2.6557377049180326\n",
      "Min ERA: 0.0\n",
      "Index: 170, Year: 2015 Team: HOU, Level of Success: DS\n"
     ]
    },
    {
     "name": "stderr",
     "output_type": "stream",
     "text": [
      "/var/folders/fh/fzyqqz2s1vzcm3v06kz1h29w0000gp/T/ipykernel_2244/85417958.py:8: UserWarning: Boolean Series key will be reindexed to match DataFrame index.\n",
      "  temp_stats = all_pitching_stats[all_pitching_stats['team'] == team['Team']][all_pitching_stats['date'].astype(str).str.startswith(str(team['Year']))][all_pitching_stats['gametype'] == 'regular'][pitching_features]\n",
      "/var/folders/fh/fzyqqz2s1vzcm3v06kz1h29w0000gp/T/ipykernel_2244/85417958.py:8: UserWarning: Boolean Series key will be reindexed to match DataFrame index.\n",
      "  temp_stats = all_pitching_stats[all_pitching_stats['team'] == team['Team']][all_pitching_stats['date'].astype(str).str.startswith(str(team['Year']))][all_pitching_stats['gametype'] == 'regular'][pitching_features]\n"
     ]
    },
    {
     "name": "stdout",
     "output_type": "stream",
     "text": [
      "Max WHIP: 0.6122448979591837\n",
      "Min WHIP: 0.3004694835680751\n",
      "Max ERA: 2.625\n",
      "Min ERA: 0.6338028169014085\n",
      "(24, 16)\n",
      "(1, 25, 16)\n",
      "Max WHIP: 0.6122448979591837\n",
      "Min WHIP: 0.0\n",
      "Max ERA: 2.625\n",
      "Min ERA: 0.0\n",
      "Index: 171, Year: 2015 Team: SLN, Level of Success: DS\n"
     ]
    },
    {
     "name": "stderr",
     "output_type": "stream",
     "text": [
      "/var/folders/fh/fzyqqz2s1vzcm3v06kz1h29w0000gp/T/ipykernel_2244/85417958.py:8: UserWarning: Boolean Series key will be reindexed to match DataFrame index.\n",
      "  temp_stats = all_pitching_stats[all_pitching_stats['team'] == team['Team']][all_pitching_stats['date'].astype(str).str.startswith(str(team['Year']))][all_pitching_stats['gametype'] == 'regular'][pitching_features]\n",
      "/var/folders/fh/fzyqqz2s1vzcm3v06kz1h29w0000gp/T/ipykernel_2244/85417958.py:8: UserWarning: Boolean Series key will be reindexed to match DataFrame index.\n",
      "  temp_stats = all_pitching_stats[all_pitching_stats['team'] == team['Team']][all_pitching_stats['date'].astype(str).str.startswith(str(team['Year']))][all_pitching_stats['gametype'] == 'regular'][pitching_features]\n"
     ]
    },
    {
     "name": "stdout",
     "output_type": "stream",
     "text": [
      "Max WHIP: inf\n",
      "Min WHIP: 0.34523809523809523\n",
      "Max ERA: inf\n",
      "Min ERA: 0.0\n",
      "(23, 16)\n",
      "(1, 25, 16)\n",
      "Max WHIP: inf\n",
      "Min WHIP: 0.0\n",
      "Max ERA: inf\n",
      "Min ERA: 0.0\n",
      "Index: 172, Year: 2015 Team: LAN, Level of Success: DS\n"
     ]
    },
    {
     "name": "stderr",
     "output_type": "stream",
     "text": [
      "/var/folders/fh/fzyqqz2s1vzcm3v06kz1h29w0000gp/T/ipykernel_2244/85417958.py:8: UserWarning: Boolean Series key will be reindexed to match DataFrame index.\n",
      "  temp_stats = all_pitching_stats[all_pitching_stats['team'] == team['Team']][all_pitching_stats['date'].astype(str).str.startswith(str(team['Year']))][all_pitching_stats['gametype'] == 'regular'][pitching_features]\n",
      "/var/folders/fh/fzyqqz2s1vzcm3v06kz1h29w0000gp/T/ipykernel_2244/85417958.py:8: UserWarning: Boolean Series key will be reindexed to match DataFrame index.\n",
      "  temp_stats = all_pitching_stats[all_pitching_stats['team'] == team['Team']][all_pitching_stats['date'].astype(str).str.startswith(str(team['Year']))][all_pitching_stats['gametype'] == 'regular'][pitching_features]\n"
     ]
    },
    {
     "name": "stdout",
     "output_type": "stream",
     "text": [
      "Max WHIP: 0.8571428571428571\n",
      "Min WHIP: 0.2611464968152866\n",
      "Max ERA: 4.5\n",
      "Min ERA: 0.0\n",
      "(31, 16)\n",
      "(1, 25, 16)\n",
      "Max WHIP: 0.6785714285714286\n",
      "Min WHIP: 0.2611464968152866\n",
      "Max ERA: 3.375\n",
      "Min ERA: 0.4772727272727273\n",
      "Index: 173, Year: 2015 Team: NYN, Level of Success: WS\n"
     ]
    },
    {
     "name": "stderr",
     "output_type": "stream",
     "text": [
      "/var/folders/fh/fzyqqz2s1vzcm3v06kz1h29w0000gp/T/ipykernel_2244/85417958.py:8: UserWarning: Boolean Series key will be reindexed to match DataFrame index.\n",
      "  temp_stats = all_pitching_stats[all_pitching_stats['team'] == team['Team']][all_pitching_stats['date'].astype(str).str.startswith(str(team['Year']))][all_pitching_stats['gametype'] == 'regular'][pitching_features]\n",
      "/var/folders/fh/fzyqqz2s1vzcm3v06kz1h29w0000gp/T/ipykernel_2244/85417958.py:8: UserWarning: Boolean Series key will be reindexed to match DataFrame index.\n",
      "  temp_stats = all_pitching_stats[all_pitching_stats['team'] == team['Team']][all_pitching_stats['date'].astype(str).str.startswith(str(team['Year']))][all_pitching_stats['gametype'] == 'regular'][pitching_features]\n"
     ]
    },
    {
     "name": "stdout",
     "output_type": "stream",
     "text": [
      "Max WHIP: 3.0\n",
      "Min WHIP: 0.0\n",
      "Max ERA: 22.5\n",
      "Min ERA: 0.0\n",
      "(26, 16)\n",
      "(1, 25, 16)\n",
      "Max WHIP: 0.8846153846153846\n",
      "Min WHIP: 0.0\n",
      "Max ERA: 4.5\n",
      "Min ERA: 0.0\n",
      "Index: 174, Year: 2015 Team: PIT, Level of Success: WC\n"
     ]
    },
    {
     "name": "stderr",
     "output_type": "stream",
     "text": [
      "/var/folders/fh/fzyqqz2s1vzcm3v06kz1h29w0000gp/T/ipykernel_2244/85417958.py:8: UserWarning: Boolean Series key will be reindexed to match DataFrame index.\n",
      "  temp_stats = all_pitching_stats[all_pitching_stats['team'] == team['Team']][all_pitching_stats['date'].astype(str).str.startswith(str(team['Year']))][all_pitching_stats['gametype'] == 'regular'][pitching_features]\n",
      "/var/folders/fh/fzyqqz2s1vzcm3v06kz1h29w0000gp/T/ipykernel_2244/85417958.py:8: UserWarning: Boolean Series key will be reindexed to match DataFrame index.\n",
      "  temp_stats = all_pitching_stats[all_pitching_stats['team'] == team['Team']][all_pitching_stats['date'].astype(str).str.startswith(str(team['Year']))][all_pitching_stats['gametype'] == 'regular'][pitching_features]\n"
     ]
    },
    {
     "name": "stdout",
     "output_type": "stream",
     "text": [
      "Max WHIP: 0.6666666666666666\n",
      "Min WHIP: 0.25\n",
      "Max ERA: 2.16\n",
      "Min ERA: 0.0\n",
      "(21, 16)\n",
      "(1, 25, 16)\n",
      "Max WHIP: 0.6666666666666666\n",
      "Min WHIP: 0.0\n",
      "Max ERA: 2.16\n",
      "Min ERA: 0.0\n",
      "Index: 175, Year: 2015 Team: CHN, Level of Success: LS\n"
     ]
    },
    {
     "name": "stderr",
     "output_type": "stream",
     "text": [
      "/var/folders/fh/fzyqqz2s1vzcm3v06kz1h29w0000gp/T/ipykernel_2244/85417958.py:8: UserWarning: Boolean Series key will be reindexed to match DataFrame index.\n",
      "  temp_stats = all_pitching_stats[all_pitching_stats['team'] == team['Team']][all_pitching_stats['date'].astype(str).str.startswith(str(team['Year']))][all_pitching_stats['gametype'] == 'regular'][pitching_features]\n",
      "/var/folders/fh/fzyqqz2s1vzcm3v06kz1h29w0000gp/T/ipykernel_2244/85417958.py:8: UserWarning: Boolean Series key will be reindexed to match DataFrame index.\n",
      "  temp_stats = all_pitching_stats[all_pitching_stats['team'] == team['Team']][all_pitching_stats['date'].astype(str).str.startswith(str(team['Year']))][all_pitching_stats['gametype'] == 'regular'][pitching_features]\n"
     ]
    },
    {
     "name": "stdout",
     "output_type": "stream",
     "text": [
      "Max WHIP: 0.9\n",
      "Min WHIP: 0.0\n",
      "Max ERA: 3.6\n",
      "Min ERA: 0.0\n",
      "(29, 16)\n",
      "(1, 25, 16)\n",
      "Max WHIP: 0.84\n",
      "Min WHIP: 0.2549019607843137\n",
      "Max ERA: 3.2399999999999998\n",
      "Min ERA: 0.25\n",
      "Index: 176, Year: 2016 Team: TEX, Level of Success: DS\n"
     ]
    },
    {
     "name": "stderr",
     "output_type": "stream",
     "text": [
      "/var/folders/fh/fzyqqz2s1vzcm3v06kz1h29w0000gp/T/ipykernel_2244/85417958.py:8: UserWarning: Boolean Series key will be reindexed to match DataFrame index.\n",
      "  temp_stats = all_pitching_stats[all_pitching_stats['team'] == team['Team']][all_pitching_stats['date'].astype(str).str.startswith(str(team['Year']))][all_pitching_stats['gametype'] == 'regular'][pitching_features]\n",
      "/var/folders/fh/fzyqqz2s1vzcm3v06kz1h29w0000gp/T/ipykernel_2244/85417958.py:8: UserWarning: Boolean Series key will be reindexed to match DataFrame index.\n",
      "  temp_stats = all_pitching_stats[all_pitching_stats['team'] == team['Team']][all_pitching_stats['date'].astype(str).str.startswith(str(team['Year']))][all_pitching_stats['gametype'] == 'regular'][pitching_features]\n"
     ]
    },
    {
     "name": "stdout",
     "output_type": "stream",
     "text": [
      "Max WHIP: 1.0\n",
      "Min WHIP: 0.0\n",
      "Max ERA: 6.0\n",
      "Min ERA: 0.0\n",
      "(31, 16)\n",
      "(1, 25, 16)\n",
      "Max WHIP: 0.967741935483871\n",
      "Min WHIP: 0.31351351351351353\n",
      "Max ERA: 4.178571428571429\n",
      "Min ERA: 0.6\n",
      "Index: 177, Year: 2016 Team: CLE, Level of Success: WS\n"
     ]
    },
    {
     "name": "stderr",
     "output_type": "stream",
     "text": [
      "/var/folders/fh/fzyqqz2s1vzcm3v06kz1h29w0000gp/T/ipykernel_2244/85417958.py:8: UserWarning: Boolean Series key will be reindexed to match DataFrame index.\n",
      "  temp_stats = all_pitching_stats[all_pitching_stats['team'] == team['Team']][all_pitching_stats['date'].astype(str).str.startswith(str(team['Year']))][all_pitching_stats['gametype'] == 'regular'][pitching_features]\n",
      "/var/folders/fh/fzyqqz2s1vzcm3v06kz1h29w0000gp/T/ipykernel_2244/85417958.py:8: UserWarning: Boolean Series key will be reindexed to match DataFrame index.\n",
      "  temp_stats = all_pitching_stats[all_pitching_stats['team'] == team['Team']][all_pitching_stats['date'].astype(str).str.startswith(str(team['Year']))][all_pitching_stats['gametype'] == 'regular'][pitching_features]\n"
     ]
    },
    {
     "name": "stdout",
     "output_type": "stream",
     "text": [
      "Max WHIP: 1.0\n",
      "Min WHIP: 0.18181818181818182\n",
      "Max ERA: 7.0\n",
      "Min ERA: 0.5094339622641509\n",
      "(27, 16)\n",
      "(1, 25, 16)\n",
      "Max WHIP: 1.0\n",
      "Min WHIP: 0.18181818181818182\n",
      "Max ERA: 4.0\n",
      "Min ERA: 0.5094339622641509\n",
      "Index: 178, Year: 2016 Team: BOS, Level of Success: DS\n"
     ]
    },
    {
     "name": "stderr",
     "output_type": "stream",
     "text": [
      "/var/folders/fh/fzyqqz2s1vzcm3v06kz1h29w0000gp/T/ipykernel_2244/85417958.py:8: UserWarning: Boolean Series key will be reindexed to match DataFrame index.\n",
      "  temp_stats = all_pitching_stats[all_pitching_stats['team'] == team['Team']][all_pitching_stats['date'].astype(str).str.startswith(str(team['Year']))][all_pitching_stats['gametype'] == 'regular'][pitching_features]\n",
      "/var/folders/fh/fzyqqz2s1vzcm3v06kz1h29w0000gp/T/ipykernel_2244/85417958.py:8: UserWarning: Boolean Series key will be reindexed to match DataFrame index.\n",
      "  temp_stats = all_pitching_stats[all_pitching_stats['team'] == team['Team']][all_pitching_stats['date'].astype(str).str.startswith(str(team['Year']))][all_pitching_stats['gametype'] == 'regular'][pitching_features]\n"
     ]
    },
    {
     "name": "stdout",
     "output_type": "stream",
     "text": [
      "Max WHIP: 1.0\n",
      "Min WHIP: 0.3191489361702128\n",
      "Max ERA: 7.875\n",
      "Min ERA: 0.0\n",
      "(25, 16)\n",
      "(1, 25, 16)\n",
      "Max WHIP: 1.0\n",
      "Min WHIP: 0.3191489361702128\n",
      "Max ERA: 7.875\n",
      "Min ERA: 0.0\n",
      "Index: 179, Year: 2016 Team: TOR, Level of Success: LS\n"
     ]
    },
    {
     "name": "stderr",
     "output_type": "stream",
     "text": [
      "/var/folders/fh/fzyqqz2s1vzcm3v06kz1h29w0000gp/T/ipykernel_2244/85417958.py:8: UserWarning: Boolean Series key will be reindexed to match DataFrame index.\n",
      "  temp_stats = all_pitching_stats[all_pitching_stats['team'] == team['Team']][all_pitching_stats['date'].astype(str).str.startswith(str(team['Year']))][all_pitching_stats['gametype'] == 'regular'][pitching_features]\n",
      "/var/folders/fh/fzyqqz2s1vzcm3v06kz1h29w0000gp/T/ipykernel_2244/85417958.py:8: UserWarning: Boolean Series key will be reindexed to match DataFrame index.\n",
      "  temp_stats = all_pitching_stats[all_pitching_stats['team'] == team['Team']][all_pitching_stats['date'].astype(str).str.startswith(str(team['Year']))][all_pitching_stats['gametype'] == 'regular'][pitching_features]\n"
     ]
    },
    {
     "name": "stdout",
     "output_type": "stream",
     "text": [
      "Max WHIP: 1.3333333333333333\n",
      "Min WHIP: 0.3108108108108108\n",
      "Max ERA: 9.0\n",
      "Min ERA: 0.0\n",
      "(29, 16)\n",
      "(1, 25, 16)\n",
      "Max WHIP: 0.6666666666666666\n",
      "Min WHIP: 0.3108108108108108\n",
      "Max ERA: 4.0\n",
      "Min ERA: 0.1267605633802817\n",
      "Index: 180, Year: 2016 Team: BAL, Level of Success: WC\n"
     ]
    },
    {
     "name": "stderr",
     "output_type": "stream",
     "text": [
      "/var/folders/fh/fzyqqz2s1vzcm3v06kz1h29w0000gp/T/ipykernel_2244/85417958.py:8: UserWarning: Boolean Series key will be reindexed to match DataFrame index.\n",
      "  temp_stats = all_pitching_stats[all_pitching_stats['team'] == team['Team']][all_pitching_stats['date'].astype(str).str.startswith(str(team['Year']))][all_pitching_stats['gametype'] == 'regular'][pitching_features]\n",
      "/var/folders/fh/fzyqqz2s1vzcm3v06kz1h29w0000gp/T/ipykernel_2244/85417958.py:8: UserWarning: Boolean Series key will be reindexed to match DataFrame index.\n",
      "  temp_stats = all_pitching_stats[all_pitching_stats['team'] == team['Team']][all_pitching_stats['date'].astype(str).str.startswith(str(team['Year']))][all_pitching_stats['gametype'] == 'regular'][pitching_features]\n"
     ]
    },
    {
     "name": "stdout",
     "output_type": "stream",
     "text": [
      "Max WHIP: 1.0\n",
      "Min WHIP: 0.14285714285714285\n",
      "Max ERA: 6.0\n",
      "Min ERA: 0.0\n",
      "(27, 16)\n",
      "(1, 25, 16)\n",
      "Max WHIP: 1.0\n",
      "Min WHIP: 0.14285714285714285\n",
      "Max ERA: 4.5\n",
      "Min ERA: 0.0\n",
      "Index: 181, Year: 2016 Team: CHN, Level of Success: C\n"
     ]
    },
    {
     "name": "stderr",
     "output_type": "stream",
     "text": [
      "/var/folders/fh/fzyqqz2s1vzcm3v06kz1h29w0000gp/T/ipykernel_2244/85417958.py:8: UserWarning: Boolean Series key will be reindexed to match DataFrame index.\n",
      "  temp_stats = all_pitching_stats[all_pitching_stats['team'] == team['Team']][all_pitching_stats['date'].astype(str).str.startswith(str(team['Year']))][all_pitching_stats['gametype'] == 'regular'][pitching_features]\n",
      "/var/folders/fh/fzyqqz2s1vzcm3v06kz1h29w0000gp/T/ipykernel_2244/85417958.py:8: UserWarning: Boolean Series key will be reindexed to match DataFrame index.\n",
      "  temp_stats = all_pitching_stats[all_pitching_stats['team'] == team['Team']][all_pitching_stats['date'].astype(str).str.startswith(str(team['Year']))][all_pitching_stats['gametype'] == 'regular'][pitching_features]\n"
     ]
    },
    {
     "name": "stdout",
     "output_type": "stream",
     "text": [
      "Max WHIP: 1.0\n",
      "Min WHIP: 0.2222222222222222\n",
      "Max ERA: 6.0\n",
      "Min ERA: 0.0\n",
      "(26, 16)\n",
      "(1, 25, 16)\n",
      "Max WHIP: 0.8888888888888888\n",
      "Min WHIP: 0.2222222222222222\n",
      "Max ERA: 6.0\n",
      "Min ERA: 0.0\n",
      "Index: 182, Year: 2016 Team: WAS, Level of Success: DS\n"
     ]
    },
    {
     "name": "stderr",
     "output_type": "stream",
     "text": [
      "/var/folders/fh/fzyqqz2s1vzcm3v06kz1h29w0000gp/T/ipykernel_2244/85417958.py:8: UserWarning: Boolean Series key will be reindexed to match DataFrame index.\n",
      "  temp_stats = all_pitching_stats[all_pitching_stats['team'] == team['Team']][all_pitching_stats['date'].astype(str).str.startswith(str(team['Year']))][all_pitching_stats['gametype'] == 'regular'][pitching_features]\n",
      "/var/folders/fh/fzyqqz2s1vzcm3v06kz1h29w0000gp/T/ipykernel_2244/85417958.py:8: UserWarning: Boolean Series key will be reindexed to match DataFrame index.\n",
      "  temp_stats = all_pitching_stats[all_pitching_stats['team'] == team['Team']][all_pitching_stats['date'].astype(str).str.startswith(str(team['Year']))][all_pitching_stats['gametype'] == 'regular'][pitching_features]\n"
     ]
    },
    {
     "name": "stdout",
     "output_type": "stream",
     "text": [
      "Max WHIP: 0.59375\n",
      "Min WHIP: 0.09090909090909091\n",
      "Max ERA: 2.25\n",
      "Min ERA: 0.0\n",
      "(24, 16)\n",
      "(1, 25, 16)\n",
      "Max WHIP: 0.59375\n",
      "Min WHIP: 0.0\n",
      "Max ERA: 2.25\n",
      "Min ERA: 0.0\n",
      "Index: 183, Year: 2016 Team: LAN, Level of Success: LS\n"
     ]
    },
    {
     "name": "stderr",
     "output_type": "stream",
     "text": [
      "/var/folders/fh/fzyqqz2s1vzcm3v06kz1h29w0000gp/T/ipykernel_2244/85417958.py:8: UserWarning: Boolean Series key will be reindexed to match DataFrame index.\n",
      "  temp_stats = all_pitching_stats[all_pitching_stats['team'] == team['Team']][all_pitching_stats['date'].astype(str).str.startswith(str(team['Year']))][all_pitching_stats['gametype'] == 'regular'][pitching_features]\n",
      "/var/folders/fh/fzyqqz2s1vzcm3v06kz1h29w0000gp/T/ipykernel_2244/85417958.py:8: UserWarning: Boolean Series key will be reindexed to match DataFrame index.\n",
      "  temp_stats = all_pitching_stats[all_pitching_stats['team'] == team['Team']][all_pitching_stats['date'].astype(str).str.startswith(str(team['Year']))][all_pitching_stats['gametype'] == 'regular'][pitching_features]\n"
     ]
    },
    {
     "name": "stdout",
     "output_type": "stream",
     "text": [
      "Max WHIP: 0.8529411764705882\n",
      "Min WHIP: 0.20689655172413793\n",
      "Max ERA: 3.9705882352941178\n",
      "Min ERA: 0.0\n",
      "(31, 16)\n",
      "(1, 25, 16)\n",
      "Max WHIP: 0.8529411764705882\n",
      "Min WHIP: 0.22330097087378642\n",
      "Max ERA: 3.9705882352941178\n",
      "Min ERA: 0.563758389261745\n",
      "Index: 184, Year: 2016 Team: NYN, Level of Success: WC\n"
     ]
    },
    {
     "name": "stderr",
     "output_type": "stream",
     "text": [
      "/var/folders/fh/fzyqqz2s1vzcm3v06kz1h29w0000gp/T/ipykernel_2244/85417958.py:8: UserWarning: Boolean Series key will be reindexed to match DataFrame index.\n",
      "  temp_stats = all_pitching_stats[all_pitching_stats['team'] == team['Team']][all_pitching_stats['date'].astype(str).str.startswith(str(team['Year']))][all_pitching_stats['gametype'] == 'regular'][pitching_features]\n",
      "/var/folders/fh/fzyqqz2s1vzcm3v06kz1h29w0000gp/T/ipykernel_2244/85417958.py:8: UserWarning: Boolean Series key will be reindexed to match DataFrame index.\n",
      "  temp_stats = all_pitching_stats[all_pitching_stats['team'] == team['Team']][all_pitching_stats['date'].astype(str).str.startswith(str(team['Year']))][all_pitching_stats['gametype'] == 'regular'][pitching_features]\n"
     ]
    },
    {
     "name": "stdout",
     "output_type": "stream",
     "text": [
      "Max WHIP: 0.6842105263157895\n",
      "Min WHIP: 0.21153846153846154\n",
      "Max ERA: 3.8181818181818183\n",
      "Min ERA: 0.6566523605150215\n",
      "(22, 16)\n",
      "(1, 25, 16)\n",
      "Max WHIP: 0.6842105263157895\n",
      "Min WHIP: 0.0\n",
      "Max ERA: 3.8181818181818183\n",
      "Min ERA: 0.0\n",
      "Index: 185, Year: 2016 Team: SFN, Level of Success: DS\n"
     ]
    },
    {
     "name": "stderr",
     "output_type": "stream",
     "text": [
      "/var/folders/fh/fzyqqz2s1vzcm3v06kz1h29w0000gp/T/ipykernel_2244/85417958.py:8: UserWarning: Boolean Series key will be reindexed to match DataFrame index.\n",
      "  temp_stats = all_pitching_stats[all_pitching_stats['team'] == team['Team']][all_pitching_stats['date'].astype(str).str.startswith(str(team['Year']))][all_pitching_stats['gametype'] == 'regular'][pitching_features]\n",
      "/var/folders/fh/fzyqqz2s1vzcm3v06kz1h29w0000gp/T/ipykernel_2244/85417958.py:8: UserWarning: Boolean Series key will be reindexed to match DataFrame index.\n",
      "  temp_stats = all_pitching_stats[all_pitching_stats['team'] == team['Team']][all_pitching_stats['date'].astype(str).str.startswith(str(team['Year']))][all_pitching_stats['gametype'] == 'regular'][pitching_features]\n"
     ]
    },
    {
     "name": "stdout",
     "output_type": "stream",
     "text": [
      "Max WHIP: 2.6666666666666665\n",
      "Min WHIP: 0.2549019607843137\n",
      "Max ERA: 18.0\n",
      "Min ERA: 0.0\n",
      "(24, 16)\n",
      "(1, 25, 16)\n",
      "Max WHIP: 2.6666666666666665\n",
      "Min WHIP: 0.0\n",
      "Max ERA: 18.0\n",
      "Min ERA: 0.0\n",
      "Index: 186, Year: 2017 Team: CLE, Level of Success: DS\n"
     ]
    },
    {
     "name": "stderr",
     "output_type": "stream",
     "text": [
      "/var/folders/fh/fzyqqz2s1vzcm3v06kz1h29w0000gp/T/ipykernel_2244/85417958.py:8: UserWarning: Boolean Series key will be reindexed to match DataFrame index.\n",
      "  temp_stats = all_pitching_stats[all_pitching_stats['team'] == team['Team']][all_pitching_stats['date'].astype(str).str.startswith(str(team['Year']))][all_pitching_stats['gametype'] == 'regular'][pitching_features]\n",
      "/var/folders/fh/fzyqqz2s1vzcm3v06kz1h29w0000gp/T/ipykernel_2244/85417958.py:8: UserWarning: Boolean Series key will be reindexed to match DataFrame index.\n",
      "  temp_stats = all_pitching_stats[all_pitching_stats['team'] == team['Team']][all_pitching_stats['date'].astype(str).str.startswith(str(team['Year']))][all_pitching_stats['gametype'] == 'regular'][pitching_features]\n"
     ]
    },
    {
     "name": "stdout",
     "output_type": "stream",
     "text": [
      "Max WHIP: 1.0\n",
      "Min WHIP: 0.2765957446808511\n",
      "Max ERA: 3.6\n",
      "Min ERA: 0.0\n",
      "(20, 16)\n",
      "(1, 25, 16)\n",
      "Max WHIP: 1.0\n",
      "Min WHIP: 0.0\n",
      "Max ERA: 3.6\n",
      "Min ERA: 0.0\n",
      "Index: 187, Year: 2017 Team: HOU, Level of Success: C\n"
     ]
    },
    {
     "name": "stderr",
     "output_type": "stream",
     "text": [
      "/var/folders/fh/fzyqqz2s1vzcm3v06kz1h29w0000gp/T/ipykernel_2244/85417958.py:8: UserWarning: Boolean Series key will be reindexed to match DataFrame index.\n",
      "  temp_stats = all_pitching_stats[all_pitching_stats['team'] == team['Team']][all_pitching_stats['date'].astype(str).str.startswith(str(team['Year']))][all_pitching_stats['gametype'] == 'regular'][pitching_features]\n",
      "/var/folders/fh/fzyqqz2s1vzcm3v06kz1h29w0000gp/T/ipykernel_2244/85417958.py:8: UserWarning: Boolean Series key will be reindexed to match DataFrame index.\n",
      "  temp_stats = all_pitching_stats[all_pitching_stats['team'] == team['Team']][all_pitching_stats['date'].astype(str).str.startswith(str(team['Year']))][all_pitching_stats['gametype'] == 'regular'][pitching_features]\n"
     ]
    },
    {
     "name": "stdout",
     "output_type": "stream",
     "text": [
      "Max WHIP: 1.0\n",
      "Min WHIP: 0.21568627450980393\n",
      "Max ERA: 9.0\n",
      "Min ERA: 0.0\n",
      "(27, 16)\n",
      "(1, 25, 16)\n",
      "Max WHIP: 0.8\n",
      "Min WHIP: 0.21568627450980393\n",
      "Max ERA: 4.153846153846154\n",
      "Min ERA: 0.0\n",
      "Index: 188, Year: 2017 Team: BOS, Level of Success: DS\n"
     ]
    },
    {
     "name": "stderr",
     "output_type": "stream",
     "text": [
      "/var/folders/fh/fzyqqz2s1vzcm3v06kz1h29w0000gp/T/ipykernel_2244/85417958.py:8: UserWarning: Boolean Series key will be reindexed to match DataFrame index.\n",
      "  temp_stats = all_pitching_stats[all_pitching_stats['team'] == team['Team']][all_pitching_stats['date'].astype(str).str.startswith(str(team['Year']))][all_pitching_stats['gametype'] == 'regular'][pitching_features]\n",
      "/var/folders/fh/fzyqqz2s1vzcm3v06kz1h29w0000gp/T/ipykernel_2244/85417958.py:8: UserWarning: Boolean Series key will be reindexed to match DataFrame index.\n",
      "  temp_stats = all_pitching_stats[all_pitching_stats['team'] == team['Team']][all_pitching_stats['date'].astype(str).str.startswith(str(team['Year']))][all_pitching_stats['gametype'] == 'regular'][pitching_features]\n"
     ]
    },
    {
     "name": "stdout",
     "output_type": "stream",
     "text": [
      "Max WHIP: 1.0\n",
      "Min WHIP: 0.22705314009661837\n",
      "Max ERA: 4.32\n",
      "Min ERA: 0.0\n",
      "(27, 16)\n",
      "(1, 25, 16)\n",
      "Max WHIP: 0.84\n",
      "Min WHIP: 0.22705314009661837\n",
      "Max ERA: 4.32\n",
      "Min ERA: 0.17307692307692307\n",
      "Index: 189, Year: 2017 Team: NYA, Level of Success: LS\n"
     ]
    },
    {
     "name": "stderr",
     "output_type": "stream",
     "text": [
      "/var/folders/fh/fzyqqz2s1vzcm3v06kz1h29w0000gp/T/ipykernel_2244/85417958.py:8: UserWarning: Boolean Series key will be reindexed to match DataFrame index.\n",
      "  temp_stats = all_pitching_stats[all_pitching_stats['team'] == team['Team']][all_pitching_stats['date'].astype(str).str.startswith(str(team['Year']))][all_pitching_stats['gametype'] == 'regular'][pitching_features]\n",
      "/var/folders/fh/fzyqqz2s1vzcm3v06kz1h29w0000gp/T/ipykernel_2244/85417958.py:8: UserWarning: Boolean Series key will be reindexed to match DataFrame index.\n",
      "  temp_stats = all_pitching_stats[all_pitching_stats['team'] == team['Team']][all_pitching_stats['date'].astype(str).str.startswith(str(team['Year']))][all_pitching_stats['gametype'] == 'regular'][pitching_features]\n"
     ]
    },
    {
     "name": "stdout",
     "output_type": "stream",
     "text": [
      "Max WHIP: 0.6153846153846154\n",
      "Min WHIP: 0.2463768115942029\n",
      "Max ERA: 2.571428571428571\n",
      "Min ERA: 0.2727272727272727\n",
      "(25, 16)\n",
      "(1, 25, 16)\n",
      "Max WHIP: 0.6153846153846154\n",
      "Min WHIP: 0.2463768115942029\n",
      "Max ERA: 2.571428571428571\n",
      "Min ERA: 0.2727272727272727\n",
      "Index: 190, Year: 2017 Team: MIN, Level of Success: WC\n"
     ]
    },
    {
     "name": "stderr",
     "output_type": "stream",
     "text": [
      "/var/folders/fh/fzyqqz2s1vzcm3v06kz1h29w0000gp/T/ipykernel_2244/85417958.py:8: UserWarning: Boolean Series key will be reindexed to match DataFrame index.\n",
      "  temp_stats = all_pitching_stats[all_pitching_stats['team'] == team['Team']][all_pitching_stats['date'].astype(str).str.startswith(str(team['Year']))][all_pitching_stats['gametype'] == 'regular'][pitching_features]\n",
      "/var/folders/fh/fzyqqz2s1vzcm3v06kz1h29w0000gp/T/ipykernel_2244/85417958.py:8: UserWarning: Boolean Series key will be reindexed to match DataFrame index.\n",
      "  temp_stats = all_pitching_stats[all_pitching_stats['team'] == team['Team']][all_pitching_stats['date'].astype(str).str.startswith(str(team['Year']))][all_pitching_stats['gametype'] == 'regular'][pitching_features]\n"
     ]
    },
    {
     "name": "stdout",
     "output_type": "stream",
     "text": [
      "Max WHIP: 1.4\n",
      "Min WHIP: 0.3263157894736842\n",
      "Max ERA: 10.285714285714285\n",
      "Min ERA: 0.0\n",
      "(36, 16)\n",
      "(1, 25, 16)\n",
      "Max WHIP: 0.7741935483870968\n",
      "Min WHIP: 0.3263157894736842\n",
      "Max ERA: 3.7358490566037736\n",
      "Min ERA: 0.6631578947368421\n",
      "Index: 191, Year: 2017 Team: LAN, Level of Success: WS\n"
     ]
    },
    {
     "name": "stderr",
     "output_type": "stream",
     "text": [
      "/var/folders/fh/fzyqqz2s1vzcm3v06kz1h29w0000gp/T/ipykernel_2244/85417958.py:8: UserWarning: Boolean Series key will be reindexed to match DataFrame index.\n",
      "  temp_stats = all_pitching_stats[all_pitching_stats['team'] == team['Team']][all_pitching_stats['date'].astype(str).str.startswith(str(team['Year']))][all_pitching_stats['gametype'] == 'regular'][pitching_features]\n",
      "/var/folders/fh/fzyqqz2s1vzcm3v06kz1h29w0000gp/T/ipykernel_2244/85417958.py:8: UserWarning: Boolean Series key will be reindexed to match DataFrame index.\n",
      "  temp_stats = all_pitching_stats[all_pitching_stats['team'] == team['Team']][all_pitching_stats['date'].astype(str).str.startswith(str(team['Year']))][all_pitching_stats['gametype'] == 'regular'][pitching_features]\n"
     ]
    },
    {
     "name": "stdout",
     "output_type": "stream",
     "text": [
      "Max WHIP: 1.0\n",
      "Min WHIP: 0.24878048780487805\n",
      "Max ERA: 5.7272727272727275\n",
      "Min ERA: 0.43902439024390244\n",
      "(26, 16)\n",
      "(1, 25, 16)\n",
      "Max WHIP: 1.0\n",
      "Min WHIP: 0.24878048780487805\n",
      "Max ERA: 5.7272727272727275\n",
      "Min ERA: 0.43902439024390244\n",
      "Index: 192, Year: 2017 Team: WAS, Level of Success: DS\n"
     ]
    },
    {
     "name": "stderr",
     "output_type": "stream",
     "text": [
      "/var/folders/fh/fzyqqz2s1vzcm3v06kz1h29w0000gp/T/ipykernel_2244/85417958.py:8: UserWarning: Boolean Series key will be reindexed to match DataFrame index.\n",
      "  temp_stats = all_pitching_stats[all_pitching_stats['team'] == team['Team']][all_pitching_stats['date'].astype(str).str.startswith(str(team['Year']))][all_pitching_stats['gametype'] == 'regular'][pitching_features]\n",
      "/var/folders/fh/fzyqqz2s1vzcm3v06kz1h29w0000gp/T/ipykernel_2244/85417958.py:8: UserWarning: Boolean Series key will be reindexed to match DataFrame index.\n",
      "  temp_stats = all_pitching_stats[all_pitching_stats['team'] == team['Team']][all_pitching_stats['date'].astype(str).str.startswith(str(team['Year']))][all_pitching_stats['gametype'] == 'regular'][pitching_features]\n"
     ]
    },
    {
     "name": "stdout",
     "output_type": "stream",
     "text": [
      "Max WHIP: 5.0\n",
      "Min WHIP: 0.2711864406779661\n",
      "Max ERA: 45.0\n",
      "Min ERA: 0.4576271186440678\n",
      "(24, 16)\n",
      "(1, 25, 16)\n",
      "Max WHIP: 5.0\n",
      "Min WHIP: 0.0\n",
      "Max ERA: 45.0\n",
      "Min ERA: 0.0\n",
      "Index: 193, Year: 2017 Team: CHN, Level of Success: LS\n"
     ]
    },
    {
     "name": "stderr",
     "output_type": "stream",
     "text": [
      "/var/folders/fh/fzyqqz2s1vzcm3v06kz1h29w0000gp/T/ipykernel_2244/85417958.py:8: UserWarning: Boolean Series key will be reindexed to match DataFrame index.\n",
      "  temp_stats = all_pitching_stats[all_pitching_stats['team'] == team['Team']][all_pitching_stats['date'].astype(str).str.startswith(str(team['Year']))][all_pitching_stats['gametype'] == 'regular'][pitching_features]\n",
      "/var/folders/fh/fzyqqz2s1vzcm3v06kz1h29w0000gp/T/ipykernel_2244/85417958.py:8: UserWarning: Boolean Series key will be reindexed to match DataFrame index.\n",
      "  temp_stats = all_pitching_stats[all_pitching_stats['team'] == team['Team']][all_pitching_stats['date'].astype(str).str.startswith(str(team['Year']))][all_pitching_stats['gametype'] == 'regular'][pitching_features]\n"
     ]
    },
    {
     "name": "stdout",
     "output_type": "stream",
     "text": [
      "Max WHIP: 2.5\n",
      "Min WHIP: 0.0\n",
      "Max ERA: 9.0\n",
      "Min ERA: 0.0\n",
      "(28, 16)\n",
      "(1, 25, 16)\n",
      "Max WHIP: 1.0\n",
      "Min WHIP: 0.3333333333333333\n",
      "Max ERA: 3.375\n",
      "Min ERA: 0.0\n",
      "Index: 194, Year: 2017 Team: ARI, Level of Success: DS\n"
     ]
    },
    {
     "name": "stderr",
     "output_type": "stream",
     "text": [
      "/var/folders/fh/fzyqqz2s1vzcm3v06kz1h29w0000gp/T/ipykernel_2244/85417958.py:8: UserWarning: Boolean Series key will be reindexed to match DataFrame index.\n",
      "  temp_stats = all_pitching_stats[all_pitching_stats['team'] == team['Team']][all_pitching_stats['date'].astype(str).str.startswith(str(team['Year']))][all_pitching_stats['gametype'] == 'regular'][pitching_features]\n",
      "/var/folders/fh/fzyqqz2s1vzcm3v06kz1h29w0000gp/T/ipykernel_2244/85417958.py:8: UserWarning: Boolean Series key will be reindexed to match DataFrame index.\n",
      "  temp_stats = all_pitching_stats[all_pitching_stats['team'] == team['Team']][all_pitching_stats['date'].astype(str).str.startswith(str(team['Year']))][all_pitching_stats['gametype'] == 'regular'][pitching_features]\n"
     ]
    },
    {
     "name": "stdout",
     "output_type": "stream",
     "text": [
      "Max WHIP: inf\n",
      "Min WHIP: 0.0\n",
      "Max ERA: inf\n",
      "Min ERA: 0.0\n",
      "(23, 16)\n",
      "(1, 25, 16)\n",
      "Max WHIP: inf\n",
      "Min WHIP: 0.0\n",
      "Max ERA: inf\n",
      "Min ERA: 0.0\n",
      "Index: 195, Year: 2017 Team: COL, Level of Success: WC\n"
     ]
    },
    {
     "name": "stderr",
     "output_type": "stream",
     "text": [
      "/var/folders/fh/fzyqqz2s1vzcm3v06kz1h29w0000gp/T/ipykernel_2244/85417958.py:8: UserWarning: Boolean Series key will be reindexed to match DataFrame index.\n",
      "  temp_stats = all_pitching_stats[all_pitching_stats['team'] == team['Team']][all_pitching_stats['date'].astype(str).str.startswith(str(team['Year']))][all_pitching_stats['gametype'] == 'regular'][pitching_features]\n",
      "/var/folders/fh/fzyqqz2s1vzcm3v06kz1h29w0000gp/T/ipykernel_2244/85417958.py:8: UserWarning: Boolean Series key will be reindexed to match DataFrame index.\n",
      "  temp_stats = all_pitching_stats[all_pitching_stats['team'] == team['Team']][all_pitching_stats['date'].astype(str).str.startswith(str(team['Year']))][all_pitching_stats['gametype'] == 'regular'][pitching_features]\n"
     ]
    },
    {
     "name": "stdout",
     "output_type": "stream",
     "text": [
      "Max WHIP: 1.1333333333333333\n",
      "Min WHIP: 0.3181818181818182\n",
      "Max ERA: 3.0\n",
      "Min ERA: 0.8181818181818182\n",
      "(21, 16)\n",
      "(1, 25, 16)\n",
      "Max WHIP: 1.1333333333333333\n",
      "Min WHIP: 0.0\n",
      "Max ERA: 3.0\n",
      "Min ERA: 0.0\n",
      "Index: 196, Year: 2018 Team: BOS, Level of Success: C\n"
     ]
    },
    {
     "name": "stderr",
     "output_type": "stream",
     "text": [
      "/var/folders/fh/fzyqqz2s1vzcm3v06kz1h29w0000gp/T/ipykernel_2244/85417958.py:8: UserWarning: Boolean Series key will be reindexed to match DataFrame index.\n",
      "  temp_stats = all_pitching_stats[all_pitching_stats['team'] == team['Team']][all_pitching_stats['date'].astype(str).str.startswith(str(team['Year']))][all_pitching_stats['gametype'] == 'regular'][pitching_features]\n",
      "/var/folders/fh/fzyqqz2s1vzcm3v06kz1h29w0000gp/T/ipykernel_2244/85417958.py:8: UserWarning: Boolean Series key will be reindexed to match DataFrame index.\n",
      "  temp_stats = all_pitching_stats[all_pitching_stats['team'] == team['Team']][all_pitching_stats['date'].astype(str).str.startswith(str(team['Year']))][all_pitching_stats['gametype'] == 'regular'][pitching_features]\n"
     ]
    },
    {
     "name": "stdout",
     "output_type": "stream",
     "text": [
      "Max WHIP: 0.7894736842105263\n",
      "Min WHIP: 0.25742574257425743\n",
      "Max ERA: 4.263157894736842\n",
      "Min ERA: 0.5346534653465347\n",
      "(23, 16)\n",
      "(1, 25, 16)\n",
      "Max WHIP: 0.7894736842105263\n",
      "Min WHIP: 0.0\n",
      "Max ERA: 4.263157894736842\n",
      "Min ERA: 0.0\n",
      "Index: 197, Year: 2018 Team: HOU, Level of Success: LS\n"
     ]
    },
    {
     "name": "stderr",
     "output_type": "stream",
     "text": [
      "/var/folders/fh/fzyqqz2s1vzcm3v06kz1h29w0000gp/T/ipykernel_2244/85417958.py:8: UserWarning: Boolean Series key will be reindexed to match DataFrame index.\n",
      "  temp_stats = all_pitching_stats[all_pitching_stats['team'] == team['Team']][all_pitching_stats['date'].astype(str).str.startswith(str(team['Year']))][all_pitching_stats['gametype'] == 'regular'][pitching_features]\n",
      "/var/folders/fh/fzyqqz2s1vzcm3v06kz1h29w0000gp/T/ipykernel_2244/85417958.py:8: UserWarning: Boolean Series key will be reindexed to match DataFrame index.\n",
      "  temp_stats = all_pitching_stats[all_pitching_stats['team'] == team['Team']][all_pitching_stats['date'].astype(str).str.startswith(str(team['Year']))][all_pitching_stats['gametype'] == 'regular'][pitching_features]\n"
     ]
    },
    {
     "name": "stdout",
     "output_type": "stream",
     "text": [
      "Max WHIP: 2.0\n",
      "Min WHIP: 0.1\n",
      "Max ERA: 3.0\n",
      "Min ERA: 0.0\n",
      "(22, 16)\n",
      "(1, 25, 16)\n",
      "Max WHIP: 2.0\n",
      "Min WHIP: 0.0\n",
      "Max ERA: 3.0\n",
      "Min ERA: 0.0\n",
      "Index: 198, Year: 2018 Team: CLE, Level of Success: DS\n"
     ]
    },
    {
     "name": "stderr",
     "output_type": "stream",
     "text": [
      "/var/folders/fh/fzyqqz2s1vzcm3v06kz1h29w0000gp/T/ipykernel_2244/85417958.py:8: UserWarning: Boolean Series key will be reindexed to match DataFrame index.\n",
      "  temp_stats = all_pitching_stats[all_pitching_stats['team'] == team['Team']][all_pitching_stats['date'].astype(str).str.startswith(str(team['Year']))][all_pitching_stats['gametype'] == 'regular'][pitching_features]\n",
      "/var/folders/fh/fzyqqz2s1vzcm3v06kz1h29w0000gp/T/ipykernel_2244/85417958.py:8: UserWarning: Boolean Series key will be reindexed to match DataFrame index.\n",
      "  temp_stats = all_pitching_stats[all_pitching_stats['team'] == team['Team']][all_pitching_stats['date'].astype(str).str.startswith(str(team['Year']))][all_pitching_stats['gametype'] == 'regular'][pitching_features]\n"
     ]
    },
    {
     "name": "stdout",
     "output_type": "stream",
     "text": [
      "Max WHIP: 1.6666666666666667\n",
      "Min WHIP: 0.0\n",
      "Max ERA: 6.0\n",
      "Min ERA: 0.0\n",
      "(27, 16)\n",
      "(1, 25, 16)\n",
      "Max WHIP: 0.8571428571428571\n",
      "Min WHIP: 0.24742268041237114\n",
      "Max ERA: 4.153846153846154\n",
      "Min ERA: 0.0\n",
      "Index: 199, Year: 2018 Team: NYA, Level of Success: DS\n"
     ]
    },
    {
     "name": "stderr",
     "output_type": "stream",
     "text": [
      "/var/folders/fh/fzyqqz2s1vzcm3v06kz1h29w0000gp/T/ipykernel_2244/85417958.py:8: UserWarning: Boolean Series key will be reindexed to match DataFrame index.\n",
      "  temp_stats = all_pitching_stats[all_pitching_stats['team'] == team['Team']][all_pitching_stats['date'].astype(str).str.startswith(str(team['Year']))][all_pitching_stats['gametype'] == 'regular'][pitching_features]\n",
      "/var/folders/fh/fzyqqz2s1vzcm3v06kz1h29w0000gp/T/ipykernel_2244/85417958.py:8: UserWarning: Boolean Series key will be reindexed to match DataFrame index.\n",
      "  temp_stats = all_pitching_stats[all_pitching_stats['team'] == team['Team']][all_pitching_stats['date'].astype(str).str.startswith(str(team['Year']))][all_pitching_stats['gametype'] == 'regular'][pitching_features]\n"
     ]
    },
    {
     "name": "stdout",
     "output_type": "stream",
     "text": [
      "Max WHIP: 0.875\n",
      "Min WHIP: 0.2\n",
      "Max ERA: 3.375\n",
      "Min ERA: 0.0\n",
      "(26, 16)\n",
      "(1, 25, 16)\n",
      "Max WHIP: 0.875\n",
      "Min WHIP: 0.3444976076555024\n",
      "Max ERA: 3.375\n",
      "Min ERA: 0.8181818181818182\n",
      "Index: 200, Year: 2018 Team: OAK, Level of Success: WC\n"
     ]
    },
    {
     "name": "stderr",
     "output_type": "stream",
     "text": [
      "/var/folders/fh/fzyqqz2s1vzcm3v06kz1h29w0000gp/T/ipykernel_2244/85417958.py:8: UserWarning: Boolean Series key will be reindexed to match DataFrame index.\n",
      "  temp_stats = all_pitching_stats[all_pitching_stats['team'] == team['Team']][all_pitching_stats['date'].astype(str).str.startswith(str(team['Year']))][all_pitching_stats['gametype'] == 'regular'][pitching_features]\n",
      "/var/folders/fh/fzyqqz2s1vzcm3v06kz1h29w0000gp/T/ipykernel_2244/85417958.py:8: UserWarning: Boolean Series key will be reindexed to match DataFrame index.\n",
      "  temp_stats = all_pitching_stats[all_pitching_stats['team'] == team['Team']][all_pitching_stats['date'].astype(str).str.startswith(str(team['Year']))][all_pitching_stats['gametype'] == 'regular'][pitching_features]\n"
     ]
    },
    {
     "name": "stdout",
     "output_type": "stream",
     "text": [
      "Max WHIP: 2.0\n",
      "Min WHIP: 0.26\n",
      "Max ERA: 18.0\n",
      "Min ERA: 0.0\n",
      "(34, 16)\n",
      "(1, 25, 16)\n",
      "Max WHIP: 0.5533980582524272\n",
      "Min WHIP: 0.26\n",
      "Max ERA: 2.5339805825242716\n",
      "Min ERA: 0.18\n",
      "Index: 201, Year: 2018 Team: MIL, Level of Success: LS\n"
     ]
    },
    {
     "name": "stderr",
     "output_type": "stream",
     "text": [
      "/var/folders/fh/fzyqqz2s1vzcm3v06kz1h29w0000gp/T/ipykernel_2244/85417958.py:8: UserWarning: Boolean Series key will be reindexed to match DataFrame index.\n",
      "  temp_stats = all_pitching_stats[all_pitching_stats['team'] == team['Team']][all_pitching_stats['date'].astype(str).str.startswith(str(team['Year']))][all_pitching_stats['gametype'] == 'regular'][pitching_features]\n",
      "/var/folders/fh/fzyqqz2s1vzcm3v06kz1h29w0000gp/T/ipykernel_2244/85417958.py:8: UserWarning: Boolean Series key will be reindexed to match DataFrame index.\n",
      "  temp_stats = all_pitching_stats[all_pitching_stats['team'] == team['Team']][all_pitching_stats['date'].astype(str).str.startswith(str(team['Year']))][all_pitching_stats['gametype'] == 'regular'][pitching_features]\n"
     ]
    },
    {
     "name": "stdout",
     "output_type": "stream",
     "text": [
      "Max WHIP: 2.3333333333333335\n",
      "Min WHIP: 0.27310924369747897\n",
      "Max ERA: 21.0\n",
      "Min ERA: 0.0\n",
      "(30, 16)\n",
      "(1, 25, 16)\n",
      "Max WHIP: 0.78125\n",
      "Min WHIP: 0.27310924369747897\n",
      "Max ERA: 3.333333333333333\n",
      "Min ERA: 0.375\n",
      "Index: 202, Year: 2018 Team: LAN, Level of Success: WS\n"
     ]
    },
    {
     "name": "stderr",
     "output_type": "stream",
     "text": [
      "/var/folders/fh/fzyqqz2s1vzcm3v06kz1h29w0000gp/T/ipykernel_2244/85417958.py:8: UserWarning: Boolean Series key will be reindexed to match DataFrame index.\n",
      "  temp_stats = all_pitching_stats[all_pitching_stats['team'] == team['Team']][all_pitching_stats['date'].astype(str).str.startswith(str(team['Year']))][all_pitching_stats['gametype'] == 'regular'][pitching_features]\n",
      "/var/folders/fh/fzyqqz2s1vzcm3v06kz1h29w0000gp/T/ipykernel_2244/85417958.py:8: UserWarning: Boolean Series key will be reindexed to match DataFrame index.\n",
      "  temp_stats = all_pitching_stats[all_pitching_stats['team'] == team['Team']][all_pitching_stats['date'].astype(str).str.startswith(str(team['Year']))][all_pitching_stats['gametype'] == 'regular'][pitching_features]\n"
     ]
    },
    {
     "name": "stdout",
     "output_type": "stream",
     "text": [
      "Max WHIP: 3.0\n",
      "Min WHIP: 0.08333333333333333\n",
      "Max ERA: 27.0\n",
      "Min ERA: 0.0\n",
      "(31, 16)\n",
      "(1, 25, 16)\n",
      "Max WHIP: 0.6129032258064516\n",
      "Min WHIP: 0.3170731707317073\n",
      "Max ERA: 3.774193548387097\n",
      "Min ERA: 0.5421686746987951\n",
      "Index: 203, Year: 2018 Team: ATL, Level of Success: DS\n"
     ]
    },
    {
     "name": "stderr",
     "output_type": "stream",
     "text": [
      "/var/folders/fh/fzyqqz2s1vzcm3v06kz1h29w0000gp/T/ipykernel_2244/85417958.py:8: UserWarning: Boolean Series key will be reindexed to match DataFrame index.\n",
      "  temp_stats = all_pitching_stats[all_pitching_stats['team'] == team['Team']][all_pitching_stats['date'].astype(str).str.startswith(str(team['Year']))][all_pitching_stats['gametype'] == 'regular'][pitching_features]\n",
      "/var/folders/fh/fzyqqz2s1vzcm3v06kz1h29w0000gp/T/ipykernel_2244/85417958.py:8: UserWarning: Boolean Series key will be reindexed to match DataFrame index.\n",
      "  temp_stats = all_pitching_stats[all_pitching_stats['team'] == team['Team']][all_pitching_stats['date'].astype(str).str.startswith(str(team['Year']))][all_pitching_stats['gametype'] == 'regular'][pitching_features]\n"
     ]
    },
    {
     "name": "stdout",
     "output_type": "stream",
     "text": [
      "Max WHIP: inf\n",
      "Min WHIP: 0.32558139534883723\n",
      "Max ERA: inf\n",
      "Min ERA: 0.5070422535211268\n",
      "(35, 16)\n",
      "(1, 25, 16)\n",
      "Max WHIP: 0.9583333333333334\n",
      "Min WHIP: 0.32558139534883723\n",
      "Max ERA: 4.125\n",
      "Min ERA: 0.5070422535211268\n",
      "Index: 204, Year: 2018 Team: CHN, Level of Success: WC\n"
     ]
    },
    {
     "name": "stderr",
     "output_type": "stream",
     "text": [
      "/var/folders/fh/fzyqqz2s1vzcm3v06kz1h29w0000gp/T/ipykernel_2244/85417958.py:8: UserWarning: Boolean Series key will be reindexed to match DataFrame index.\n",
      "  temp_stats = all_pitching_stats[all_pitching_stats['team'] == team['Team']][all_pitching_stats['date'].astype(str).str.startswith(str(team['Year']))][all_pitching_stats['gametype'] == 'regular'][pitching_features]\n",
      "/var/folders/fh/fzyqqz2s1vzcm3v06kz1h29w0000gp/T/ipykernel_2244/85417958.py:8: UserWarning: Boolean Series key will be reindexed to match DataFrame index.\n",
      "  temp_stats = all_pitching_stats[all_pitching_stats['team'] == team['Team']][all_pitching_stats['date'].astype(str).str.startswith(str(team['Year']))][all_pitching_stats['gametype'] == 'regular'][pitching_features]\n"
     ]
    },
    {
     "name": "stdout",
     "output_type": "stream",
     "text": [
      "Max WHIP: 1.0\n",
      "Min WHIP: 0.0\n",
      "Max ERA: 9.0\n",
      "Min ERA: 0.0\n",
      "(35, 16)\n",
      "(1, 25, 16)\n",
      "Max WHIP: 0.6730769230769231\n",
      "Min WHIP: 0.27927927927927926\n",
      "Max ERA: 2.5486725663716814\n",
      "Min ERA: 0.34615384615384615\n",
      "Index: 205, Year: 2018 Team: COL, Level of Success: DS\n"
     ]
    },
    {
     "name": "stderr",
     "output_type": "stream",
     "text": [
      "/var/folders/fh/fzyqqz2s1vzcm3v06kz1h29w0000gp/T/ipykernel_2244/85417958.py:8: UserWarning: Boolean Series key will be reindexed to match DataFrame index.\n",
      "  temp_stats = all_pitching_stats[all_pitching_stats['team'] == team['Team']][all_pitching_stats['date'].astype(str).str.startswith(str(team['Year']))][all_pitching_stats['gametype'] == 'regular'][pitching_features]\n",
      "/var/folders/fh/fzyqqz2s1vzcm3v06kz1h29w0000gp/T/ipykernel_2244/85417958.py:8: UserWarning: Boolean Series key will be reindexed to match DataFrame index.\n",
      "  temp_stats = all_pitching_stats[all_pitching_stats['team'] == team['Team']][all_pitching_stats['date'].astype(str).str.startswith(str(team['Year']))][all_pitching_stats['gametype'] == 'regular'][pitching_features]\n"
     ]
    },
    {
     "name": "stdout",
     "output_type": "stream",
     "text": [
      "Max WHIP: 2.0\n",
      "Min WHIP: 0.3160919540229885\n",
      "Max ERA: 13.5\n",
      "Min ERA: 0.6136363636363635\n",
      "(21, 16)\n",
      "(1, 25, 16)\n",
      "Max WHIP: 2.0\n",
      "Min WHIP: 0.0\n",
      "Max ERA: 13.5\n",
      "Min ERA: 0.0\n",
      "Index: 206, Year: 2019 Team: HOU, Level of Success: WS\n"
     ]
    },
    {
     "name": "stderr",
     "output_type": "stream",
     "text": [
      "/var/folders/fh/fzyqqz2s1vzcm3v06kz1h29w0000gp/T/ipykernel_2244/85417958.py:8: UserWarning: Boolean Series key will be reindexed to match DataFrame index.\n",
      "  temp_stats = all_pitching_stats[all_pitching_stats['team'] == team['Team']][all_pitching_stats['date'].astype(str).str.startswith(str(team['Year']))][all_pitching_stats['gametype'] == 'regular'][pitching_features]\n",
      "/var/folders/fh/fzyqqz2s1vzcm3v06kz1h29w0000gp/T/ipykernel_2244/85417958.py:8: UserWarning: Boolean Series key will be reindexed to match DataFrame index.\n",
      "  temp_stats = all_pitching_stats[all_pitching_stats['team'] == team['Team']][all_pitching_stats['date'].astype(str).str.startswith(str(team['Year']))][all_pitching_stats['gametype'] == 'regular'][pitching_features]\n"
     ]
    },
    {
     "name": "stdout",
     "output_type": "stream",
     "text": [
      "Max WHIP: 1.2\n",
      "Min WHIP: 0.0\n",
      "Max ERA: 7.2\n",
      "Min ERA: 0.0\n",
      "(26, 16)\n",
      "(1, 25, 16)\n",
      "Max WHIP: 1.2\n",
      "Min WHIP: 0.26756352765321373\n",
      "Max ERA: 7.2\n",
      "Min ERA: 0.34615384615384615\n",
      "Index: 207, Year: 2019 Team: NYA, Level of Success: LS\n"
     ]
    },
    {
     "name": "stderr",
     "output_type": "stream",
     "text": [
      "/var/folders/fh/fzyqqz2s1vzcm3v06kz1h29w0000gp/T/ipykernel_2244/85417958.py:8: UserWarning: Boolean Series key will be reindexed to match DataFrame index.\n",
      "  temp_stats = all_pitching_stats[all_pitching_stats['team'] == team['Team']][all_pitching_stats['date'].astype(str).str.startswith(str(team['Year']))][all_pitching_stats['gametype'] == 'regular'][pitching_features]\n",
      "/var/folders/fh/fzyqqz2s1vzcm3v06kz1h29w0000gp/T/ipykernel_2244/85417958.py:8: UserWarning: Boolean Series key will be reindexed to match DataFrame index.\n",
      "  temp_stats = all_pitching_stats[all_pitching_stats['team'] == team['Team']][all_pitching_stats['date'].astype(str).str.startswith(str(team['Year']))][all_pitching_stats['gametype'] == 'regular'][pitching_features]\n"
     ]
    },
    {
     "name": "stdout",
     "output_type": "stream",
     "text": [
      "Max WHIP: 1.3333333333333333\n",
      "Min WHIP: 0.0\n",
      "Max ERA: 9.0\n",
      "Min ERA: 0.0\n",
      "(32, 16)\n",
      "(1, 25, 16)\n",
      "Max WHIP: 0.7272727272727273\n",
      "Min WHIP: 0.3333333333333333\n",
      "Max ERA: 4.909090909090908\n",
      "Min ERA: 0.4090909090909091\n",
      "Index: 208, Year: 2019 Team: MIN, Level of Success: DS\n"
     ]
    },
    {
     "name": "stderr",
     "output_type": "stream",
     "text": [
      "/var/folders/fh/fzyqqz2s1vzcm3v06kz1h29w0000gp/T/ipykernel_2244/85417958.py:8: UserWarning: Boolean Series key will be reindexed to match DataFrame index.\n",
      "  temp_stats = all_pitching_stats[all_pitching_stats['team'] == team['Team']][all_pitching_stats['date'].astype(str).str.startswith(str(team['Year']))][all_pitching_stats['gametype'] == 'regular'][pitching_features]\n",
      "/var/folders/fh/fzyqqz2s1vzcm3v06kz1h29w0000gp/T/ipykernel_2244/85417958.py:8: UserWarning: Boolean Series key will be reindexed to match DataFrame index.\n",
      "  temp_stats = all_pitching_stats[all_pitching_stats['team'] == team['Team']][all_pitching_stats['date'].astype(str).str.startswith(str(team['Year']))][all_pitching_stats['gametype'] == 'regular'][pitching_features]\n"
     ]
    },
    {
     "name": "stdout",
     "output_type": "stream",
     "text": [
      "Max WHIP: inf\n",
      "Min WHIP: 0.3088235294117647\n",
      "Max ERA: inf\n",
      "Min ERA: 0.0\n",
      "(31, 16)\n",
      "(1, 25, 16)\n",
      "Max WHIP: 0.7551020408163265\n",
      "Min WHIP: 0.3088235294117647\n",
      "Max ERA: 3.4897959183673466\n",
      "Min ERA: 0.5294117647058824\n",
      "Index: 209, Year: 2019 Team: OAK, Level of Success: WC\n"
     ]
    },
    {
     "name": "stderr",
     "output_type": "stream",
     "text": [
      "/var/folders/fh/fzyqqz2s1vzcm3v06kz1h29w0000gp/T/ipykernel_2244/85417958.py:8: UserWarning: Boolean Series key will be reindexed to match DataFrame index.\n",
      "  temp_stats = all_pitching_stats[all_pitching_stats['team'] == team['Team']][all_pitching_stats['date'].astype(str).str.startswith(str(team['Year']))][all_pitching_stats['gametype'] == 'regular'][pitching_features]\n",
      "/var/folders/fh/fzyqqz2s1vzcm3v06kz1h29w0000gp/T/ipykernel_2244/85417958.py:8: UserWarning: Boolean Series key will be reindexed to match DataFrame index.\n",
      "  temp_stats = all_pitching_stats[all_pitching_stats['team'] == team['Team']][all_pitching_stats['date'].astype(str).str.startswith(str(team['Year']))][all_pitching_stats['gametype'] == 'regular'][pitching_features]\n"
     ]
    },
    {
     "name": "stdout",
     "output_type": "stream",
     "text": [
      "Max WHIP: 1.0\n",
      "Min WHIP: 0.2222222222222222\n",
      "Max ERA: 4.0\n",
      "Min ERA: 0.0\n",
      "(28, 16)\n",
      "(1, 25, 16)\n",
      "Max WHIP: 0.7441860465116279\n",
      "Min WHIP: 0.2222222222222222\n",
      "Max ERA: 3.5454545454545454\n",
      "Min ERA: 0.4044943820224719\n",
      "Index: 210, Year: 2019 Team: TBA, Level of Success: DS\n"
     ]
    },
    {
     "name": "stderr",
     "output_type": "stream",
     "text": [
      "/var/folders/fh/fzyqqz2s1vzcm3v06kz1h29w0000gp/T/ipykernel_2244/85417958.py:8: UserWarning: Boolean Series key will be reindexed to match DataFrame index.\n",
      "  temp_stats = all_pitching_stats[all_pitching_stats['team'] == team['Team']][all_pitching_stats['date'].astype(str).str.startswith(str(team['Year']))][all_pitching_stats['gametype'] == 'regular'][pitching_features]\n",
      "/var/folders/fh/fzyqqz2s1vzcm3v06kz1h29w0000gp/T/ipykernel_2244/85417958.py:8: UserWarning: Boolean Series key will be reindexed to match DataFrame index.\n",
      "  temp_stats = all_pitching_stats[all_pitching_stats['team'] == team['Team']][all_pitching_stats['date'].astype(str).str.startswith(str(team['Year']))][all_pitching_stats['gametype'] == 'regular'][pitching_features]\n"
     ]
    },
    {
     "name": "stdout",
     "output_type": "stream",
     "text": [
      "Max WHIP: 0.8571428571428571\n",
      "Min WHIP: 0.21875\n",
      "Max ERA: 5.142857142857142\n",
      "Min ERA: 0.0\n",
      "(33, 16)\n",
      "(1, 25, 16)\n",
      "Max WHIP: 0.6222222222222222\n",
      "Min WHIP: 0.21875\n",
      "Max ERA: 1.9285714285714284\n",
      "Min ERA: 0.0\n",
      "Index: 211, Year: 2019 Team: LAN, Level of Success: DS\n"
     ]
    },
    {
     "name": "stderr",
     "output_type": "stream",
     "text": [
      "/var/folders/fh/fzyqqz2s1vzcm3v06kz1h29w0000gp/T/ipykernel_2244/85417958.py:8: UserWarning: Boolean Series key will be reindexed to match DataFrame index.\n",
      "  temp_stats = all_pitching_stats[all_pitching_stats['team'] == team['Team']][all_pitching_stats['date'].astype(str).str.startswith(str(team['Year']))][all_pitching_stats['gametype'] == 'regular'][pitching_features]\n",
      "/var/folders/fh/fzyqqz2s1vzcm3v06kz1h29w0000gp/T/ipykernel_2244/85417958.py:8: UserWarning: Boolean Series key will be reindexed to match DataFrame index.\n",
      "  temp_stats = all_pitching_stats[all_pitching_stats['team'] == team['Team']][all_pitching_stats['date'].astype(str).str.startswith(str(team['Year']))][all_pitching_stats['gametype'] == 'regular'][pitching_features]\n"
     ]
    },
    {
     "name": "stdout",
     "output_type": "stream",
     "text": [
      "Max WHIP: 1.0\n",
      "Min WHIP: 0.16666666666666666\n",
      "Max ERA: 6.0\n",
      "Min ERA: 0.0\n",
      "(25, 16)\n",
      "(1, 25, 16)\n",
      "Max WHIP: 1.0\n",
      "Min WHIP: 0.16666666666666666\n",
      "Max ERA: 6.0\n",
      "Min ERA: 0.0\n",
      "Index: 212, Year: 2019 Team: ATL, Level of Success: DS\n"
     ]
    },
    {
     "name": "stderr",
     "output_type": "stream",
     "text": [
      "/var/folders/fh/fzyqqz2s1vzcm3v06kz1h29w0000gp/T/ipykernel_2244/85417958.py:8: UserWarning: Boolean Series key will be reindexed to match DataFrame index.\n",
      "  temp_stats = all_pitching_stats[all_pitching_stats['team'] == team['Team']][all_pitching_stats['date'].astype(str).str.startswith(str(team['Year']))][all_pitching_stats['gametype'] == 'regular'][pitching_features]\n",
      "/var/folders/fh/fzyqqz2s1vzcm3v06kz1h29w0000gp/T/ipykernel_2244/85417958.py:8: UserWarning: Boolean Series key will be reindexed to match DataFrame index.\n",
      "  temp_stats = all_pitching_stats[all_pitching_stats['team'] == team['Team']][all_pitching_stats['date'].astype(str).str.startswith(str(team['Year']))][all_pitching_stats['gametype'] == 'regular'][pitching_features]\n"
     ]
    },
    {
     "name": "stdout",
     "output_type": "stream",
     "text": [
      "Max WHIP: 1.2142857142857142\n",
      "Min WHIP: 0.25\n",
      "Max ERA: 6.0\n",
      "Min ERA: 0.0\n",
      "(31, 16)\n",
      "(1, 25, 16)\n",
      "Max WHIP: 0.8\n",
      "Min WHIP: 0.33962264150943394\n",
      "Max ERA: 2.8983050847457625\n",
      "Min ERA: 0.46391752577319584\n",
      "Index: 213, Year: 2019 Team: SLN, Level of Success: LS\n"
     ]
    },
    {
     "name": "stderr",
     "output_type": "stream",
     "text": [
      "/var/folders/fh/fzyqqz2s1vzcm3v06kz1h29w0000gp/T/ipykernel_2244/85417958.py:8: UserWarning: Boolean Series key will be reindexed to match DataFrame index.\n",
      "  temp_stats = all_pitching_stats[all_pitching_stats['team'] == team['Team']][all_pitching_stats['date'].astype(str).str.startswith(str(team['Year']))][all_pitching_stats['gametype'] == 'regular'][pitching_features]\n",
      "/var/folders/fh/fzyqqz2s1vzcm3v06kz1h29w0000gp/T/ipykernel_2244/85417958.py:8: UserWarning: Boolean Series key will be reindexed to match DataFrame index.\n",
      "  temp_stats = all_pitching_stats[all_pitching_stats['team'] == team['Team']][all_pitching_stats['date'].astype(str).str.startswith(str(team['Year']))][all_pitching_stats['gametype'] == 'regular'][pitching_features]\n"
     ]
    },
    {
     "name": "stdout",
     "output_type": "stream",
     "text": [
      "Max WHIP: 1.0\n",
      "Min WHIP: 0.0\n",
      "Max ERA: 5.0\n",
      "Min ERA: 0.0\n",
      "(23, 16)\n",
      "(1, 25, 16)\n",
      "Max WHIP: 1.0\n",
      "Min WHIP: 0.0\n",
      "Max ERA: 5.0\n",
      "Min ERA: 0.0\n",
      "Index: 214, Year: 2019 Team: WAS, Level of Success: C\n"
     ]
    },
    {
     "name": "stderr",
     "output_type": "stream",
     "text": [
      "/var/folders/fh/fzyqqz2s1vzcm3v06kz1h29w0000gp/T/ipykernel_2244/85417958.py:8: UserWarning: Boolean Series key will be reindexed to match DataFrame index.\n",
      "  temp_stats = all_pitching_stats[all_pitching_stats['team'] == team['Team']][all_pitching_stats['date'].astype(str).str.startswith(str(team['Year']))][all_pitching_stats['gametype'] == 'regular'][pitching_features]\n",
      "/var/folders/fh/fzyqqz2s1vzcm3v06kz1h29w0000gp/T/ipykernel_2244/85417958.py:8: UserWarning: Boolean Series key will be reindexed to match DataFrame index.\n",
      "  temp_stats = all_pitching_stats[all_pitching_stats['team'] == team['Team']][all_pitching_stats['date'].astype(str).str.startswith(str(team['Year']))][all_pitching_stats['gametype'] == 'regular'][pitching_features]\n"
     ]
    },
    {
     "name": "stdout",
     "output_type": "stream",
     "text": [
      "Max WHIP: inf\n",
      "Min WHIP: 0.29333333333333333\n",
      "Max ERA: inf\n",
      "Min ERA: 0.48000000000000004\n",
      "(31, 16)\n",
      "(1, 25, 16)\n",
      "Max WHIP: 1.2105263157894737\n",
      "Min WHIP: 0.29333333333333333\n",
      "Max ERA: 7.578947368421052\n",
      "Min ERA: 0.48000000000000004\n",
      "Index: 215, Year: 2019 Team: MIL, Level of Success: WC\n"
     ]
    },
    {
     "name": "stderr",
     "output_type": "stream",
     "text": [
      "/var/folders/fh/fzyqqz2s1vzcm3v06kz1h29w0000gp/T/ipykernel_2244/85417958.py:8: UserWarning: Boolean Series key will be reindexed to match DataFrame index.\n",
      "  temp_stats = all_pitching_stats[all_pitching_stats['team'] == team['Team']][all_pitching_stats['date'].astype(str).str.startswith(str(team['Year']))][all_pitching_stats['gametype'] == 'regular'][pitching_features]\n",
      "/var/folders/fh/fzyqqz2s1vzcm3v06kz1h29w0000gp/T/ipykernel_2244/85417958.py:8: UserWarning: Boolean Series key will be reindexed to match DataFrame index.\n",
      "  temp_stats = all_pitching_stats[all_pitching_stats['team'] == team['Team']][all_pitching_stats['date'].astype(str).str.startswith(str(team['Year']))][all_pitching_stats['gametype'] == 'regular'][pitching_features]\n"
     ]
    },
    {
     "name": "stdout",
     "output_type": "stream",
     "text": [
      "Max WHIP: 2.0\n",
      "Min WHIP: 0.2\n",
      "Max ERA: 18.0\n",
      "Min ERA: 0.0\n",
      "(30, 16)\n",
      "(1, 25, 16)\n",
      "Max WHIP: 0.7083333333333334\n",
      "Min WHIP: 0.2\n",
      "Max ERA: 3.272727272727273\n",
      "Min ERA: 0.16363636363636364\n",
      "Index: 216, Year: 2020 Team: TBA, Level of Success: WS\n"
     ]
    },
    {
     "name": "stderr",
     "output_type": "stream",
     "text": [
      "/var/folders/fh/fzyqqz2s1vzcm3v06kz1h29w0000gp/T/ipykernel_2244/85417958.py:8: UserWarning: Boolean Series key will be reindexed to match DataFrame index.\n",
      "  temp_stats = all_pitching_stats[all_pitching_stats['team'] == team['Team']][all_pitching_stats['date'].astype(str).str.startswith(str(team['Year']))][all_pitching_stats['gametype'] == 'regular'][pitching_features]\n",
      "/var/folders/fh/fzyqqz2s1vzcm3v06kz1h29w0000gp/T/ipykernel_2244/85417958.py:8: UserWarning: Boolean Series key will be reindexed to match DataFrame index.\n",
      "  temp_stats = all_pitching_stats[all_pitching_stats['team'] == team['Team']][all_pitching_stats['date'].astype(str).str.startswith(str(team['Year']))][all_pitching_stats['gametype'] == 'regular'][pitching_features]\n"
     ]
    },
    {
     "name": "stdout",
     "output_type": "stream",
     "text": [
      "Max WHIP: 0.8461538461538461\n",
      "Min WHIP: 0.0\n",
      "Max ERA: 3.6\n",
      "Min ERA: 0.0\n",
      "(25, 16)\n",
      "(1, 25, 16)\n",
      "Max WHIP: 0.8461538461538461\n",
      "Min WHIP: 0.0\n",
      "Max ERA: 3.6\n",
      "Min ERA: 0.0\n",
      "Index: 217, Year: 2020 Team: OAK, Level of Success: DS\n"
     ]
    },
    {
     "name": "stderr",
     "output_type": "stream",
     "text": [
      "/var/folders/fh/fzyqqz2s1vzcm3v06kz1h29w0000gp/T/ipykernel_2244/85417958.py:8: UserWarning: Boolean Series key will be reindexed to match DataFrame index.\n",
      "  temp_stats = all_pitching_stats[all_pitching_stats['team'] == team['Team']][all_pitching_stats['date'].astype(str).str.startswith(str(team['Year']))][all_pitching_stats['gametype'] == 'regular'][pitching_features]\n",
      "/var/folders/fh/fzyqqz2s1vzcm3v06kz1h29w0000gp/T/ipykernel_2244/85417958.py:8: UserWarning: Boolean Series key will be reindexed to match DataFrame index.\n",
      "  temp_stats = all_pitching_stats[all_pitching_stats['team'] == team['Team']][all_pitching_stats['date'].astype(str).str.startswith(str(team['Year']))][all_pitching_stats['gametype'] == 'regular'][pitching_features]\n"
     ]
    },
    {
     "name": "stdout",
     "output_type": "stream",
     "text": [
      "Max WHIP: 1.1666666666666667\n",
      "Min WHIP: 0.2222222222222222\n",
      "Max ERA: 9.0\n",
      "Min ERA: 0.140625\n",
      "(19, 16)\n",
      "(1, 25, 16)\n",
      "Max WHIP: 1.1666666666666667\n",
      "Min WHIP: 0.0\n",
      "Max ERA: 9.0\n",
      "Min ERA: 0.0\n",
      "Index: 218, Year: 2020 Team: MIN, Level of Success: WC\n"
     ]
    },
    {
     "name": "stderr",
     "output_type": "stream",
     "text": [
      "/var/folders/fh/fzyqqz2s1vzcm3v06kz1h29w0000gp/T/ipykernel_2244/85417958.py:8: UserWarning: Boolean Series key will be reindexed to match DataFrame index.\n",
      "  temp_stats = all_pitching_stats[all_pitching_stats['team'] == team['Team']][all_pitching_stats['date'].astype(str).str.startswith(str(team['Year']))][all_pitching_stats['gametype'] == 'regular'][pitching_features]\n",
      "/var/folders/fh/fzyqqz2s1vzcm3v06kz1h29w0000gp/T/ipykernel_2244/85417958.py:8: UserWarning: Boolean Series key will be reindexed to match DataFrame index.\n",
      "  temp_stats = all_pitching_stats[all_pitching_stats['team'] == team['Team']][all_pitching_stats['date'].astype(str).str.startswith(str(team['Year']))][all_pitching_stats['gametype'] == 'regular'][pitching_features]\n"
     ]
    },
    {
     "name": "stdout",
     "output_type": "stream",
     "text": [
      "Max WHIP: 6.0\n",
      "Min WHIP: 0.25\n",
      "Max ERA: 27.0\n",
      "Min ERA: 0.0\n",
      "(24, 16)\n",
      "(1, 25, 16)\n",
      "Max WHIP: 6.0\n",
      "Min WHIP: 0.0\n",
      "Max ERA: 27.0\n",
      "Min ERA: 0.0\n",
      "Index: 219, Year: 2020 Team: CLE, Level of Success: WC\n"
     ]
    },
    {
     "name": "stderr",
     "output_type": "stream",
     "text": [
      "/var/folders/fh/fzyqqz2s1vzcm3v06kz1h29w0000gp/T/ipykernel_2244/85417958.py:8: UserWarning: Boolean Series key will be reindexed to match DataFrame index.\n",
      "  temp_stats = all_pitching_stats[all_pitching_stats['team'] == team['Team']][all_pitching_stats['date'].astype(str).str.startswith(str(team['Year']))][all_pitching_stats['gametype'] == 'regular'][pitching_features]\n",
      "/var/folders/fh/fzyqqz2s1vzcm3v06kz1h29w0000gp/T/ipykernel_2244/85417958.py:8: UserWarning: Boolean Series key will be reindexed to match DataFrame index.\n",
      "  temp_stats = all_pitching_stats[all_pitching_stats['team'] == team['Team']][all_pitching_stats['date'].astype(str).str.startswith(str(team['Year']))][all_pitching_stats['gametype'] == 'regular'][pitching_features]\n"
     ]
    },
    {
     "name": "stdout",
     "output_type": "stream",
     "text": [
      "Max WHIP: 2.0\n",
      "Min WHIP: 0.25757575757575757\n",
      "Max ERA: 18.0\n",
      "Min ERA: 0.5431034482758621\n",
      "(18, 16)\n",
      "(1, 25, 16)\n",
      "Max WHIP: 2.0\n",
      "Min WHIP: 0.0\n",
      "Max ERA: 18.0\n",
      "Min ERA: 0.0\n",
      "Index: 220, Year: 2020 Team: NYA, Level of Success: DS\n"
     ]
    },
    {
     "name": "stderr",
     "output_type": "stream",
     "text": [
      "/var/folders/fh/fzyqqz2s1vzcm3v06kz1h29w0000gp/T/ipykernel_2244/85417958.py:8: UserWarning: Boolean Series key will be reindexed to match DataFrame index.\n",
      "  temp_stats = all_pitching_stats[all_pitching_stats['team'] == team['Team']][all_pitching_stats['date'].astype(str).str.startswith(str(team['Year']))][all_pitching_stats['gametype'] == 'regular'][pitching_features]\n",
      "/var/folders/fh/fzyqqz2s1vzcm3v06kz1h29w0000gp/T/ipykernel_2244/85417958.py:8: UserWarning: Boolean Series key will be reindexed to match DataFrame index.\n",
      "  temp_stats = all_pitching_stats[all_pitching_stats['team'] == team['Team']][all_pitching_stats['date'].astype(str).str.startswith(str(team['Year']))][all_pitching_stats['gametype'] == 'regular'][pitching_features]\n"
     ]
    },
    {
     "name": "stdout",
     "output_type": "stream",
     "text": [
      "Max WHIP: 1.5\n",
      "Min WHIP: 0.2727272727272727\n",
      "Max ERA: 7.2\n",
      "Min ERA: 0.0\n",
      "(25, 16)\n",
      "(1, 25, 16)\n",
      "Max WHIP: 1.5\n",
      "Min WHIP: 0.2727272727272727\n",
      "Max ERA: 7.2\n",
      "Min ERA: 0.0\n",
      "Index: 221, Year: 2020 Team: HOU, Level of Success: LS\n"
     ]
    },
    {
     "name": "stderr",
     "output_type": "stream",
     "text": [
      "/var/folders/fh/fzyqqz2s1vzcm3v06kz1h29w0000gp/T/ipykernel_2244/85417958.py:8: UserWarning: Boolean Series key will be reindexed to match DataFrame index.\n",
      "  temp_stats = all_pitching_stats[all_pitching_stats['team'] == team['Team']][all_pitching_stats['date'].astype(str).str.startswith(str(team['Year']))][all_pitching_stats['gametype'] == 'regular'][pitching_features]\n",
      "/var/folders/fh/fzyqqz2s1vzcm3v06kz1h29w0000gp/T/ipykernel_2244/85417958.py:8: UserWarning: Boolean Series key will be reindexed to match DataFrame index.\n",
      "  temp_stats = all_pitching_stats[all_pitching_stats['team'] == team['Team']][all_pitching_stats['date'].astype(str).str.startswith(str(team['Year']))][all_pitching_stats['gametype'] == 'regular'][pitching_features]\n"
     ]
    },
    {
     "name": "stdout",
     "output_type": "stream",
     "text": [
      "Max WHIP: 1.0769230769230769\n",
      "Min WHIP: 0.2222222222222222\n",
      "Max ERA: 6.923076923076923\n",
      "Min ERA: 0.6338028169014085\n",
      "(26, 16)\n",
      "(1, 25, 16)\n",
      "Max WHIP: 1.0769230769230769\n",
      "Min WHIP: 0.2222222222222222\n",
      "Max ERA: 6.923076923076923\n",
      "Min ERA: 0.6338028169014085\n",
      "Index: 222, Year: 2020 Team: CHA, Level of Success: WC\n"
     ]
    },
    {
     "name": "stderr",
     "output_type": "stream",
     "text": [
      "/var/folders/fh/fzyqqz2s1vzcm3v06kz1h29w0000gp/T/ipykernel_2244/85417958.py:8: UserWarning: Boolean Series key will be reindexed to match DataFrame index.\n",
      "  temp_stats = all_pitching_stats[all_pitching_stats['team'] == team['Team']][all_pitching_stats['date'].astype(str).str.startswith(str(team['Year']))][all_pitching_stats['gametype'] == 'regular'][pitching_features]\n",
      "/var/folders/fh/fzyqqz2s1vzcm3v06kz1h29w0000gp/T/ipykernel_2244/85417958.py:8: UserWarning: Boolean Series key will be reindexed to match DataFrame index.\n",
      "  temp_stats = all_pitching_stats[all_pitching_stats['team'] == team['Team']][all_pitching_stats['date'].astype(str).str.startswith(str(team['Year']))][all_pitching_stats['gametype'] == 'regular'][pitching_features]\n"
     ]
    },
    {
     "name": "stdout",
     "output_type": "stream",
     "text": [
      "Max WHIP: 1.5\n",
      "Min WHIP: 0.1111111111111111\n",
      "Max ERA: 13.5\n",
      "Min ERA: 0.0\n",
      "(28, 16)\n",
      "(1, 25, 16)\n",
      "Max WHIP: 0.75\n",
      "Min WHIP: 0.1111111111111111\n",
      "Max ERA: 5.142857142857142\n",
      "Min ERA: 0.0\n",
      "Index: 223, Year: 2020 Team: TOR, Level of Success: WC\n"
     ]
    },
    {
     "name": "stderr",
     "output_type": "stream",
     "text": [
      "/var/folders/fh/fzyqqz2s1vzcm3v06kz1h29w0000gp/T/ipykernel_2244/85417958.py:8: UserWarning: Boolean Series key will be reindexed to match DataFrame index.\n",
      "  temp_stats = all_pitching_stats[all_pitching_stats['team'] == team['Team']][all_pitching_stats['date'].astype(str).str.startswith(str(team['Year']))][all_pitching_stats['gametype'] == 'regular'][pitching_features]\n",
      "/var/folders/fh/fzyqqz2s1vzcm3v06kz1h29w0000gp/T/ipykernel_2244/85417958.py:8: UserWarning: Boolean Series key will be reindexed to match DataFrame index.\n",
      "  temp_stats = all_pitching_stats[all_pitching_stats['team'] == team['Team']][all_pitching_stats['date'].astype(str).str.startswith(str(team['Year']))][all_pitching_stats['gametype'] == 'regular'][pitching_features]\n"
     ]
    },
    {
     "name": "stdout",
     "output_type": "stream",
     "text": [
      "Max WHIP: 1.2\n",
      "Min WHIP: 0.29545454545454547\n",
      "Max ERA: 3.705882352941176\n",
      "Min ERA: 0.0\n",
      "(29, 16)\n",
      "(1, 25, 16)\n",
      "Max WHIP: 1.0588235294117647\n",
      "Min WHIP: 0.29545454545454547\n",
      "Max ERA: 3.705882352941176\n",
      "Min ERA: 0.4090909090909091\n",
      "Index: 224, Year: 2020 Team: LAN, Level of Success: C\n"
     ]
    },
    {
     "name": "stderr",
     "output_type": "stream",
     "text": [
      "/var/folders/fh/fzyqqz2s1vzcm3v06kz1h29w0000gp/T/ipykernel_2244/85417958.py:8: UserWarning: Boolean Series key will be reindexed to match DataFrame index.\n",
      "  temp_stats = all_pitching_stats[all_pitching_stats['team'] == team['Team']][all_pitching_stats['date'].astype(str).str.startswith(str(team['Year']))][all_pitching_stats['gametype'] == 'regular'][pitching_features]\n",
      "/var/folders/fh/fzyqqz2s1vzcm3v06kz1h29w0000gp/T/ipykernel_2244/85417958.py:8: UserWarning: Boolean Series key will be reindexed to match DataFrame index.\n",
      "  temp_stats = all_pitching_stats[all_pitching_stats['team'] == team['Team']][all_pitching_stats['date'].astype(str).str.startswith(str(team['Year']))][all_pitching_stats['gametype'] == 'regular'][pitching_features]\n"
     ]
    },
    {
     "name": "stdout",
     "output_type": "stream",
     "text": [
      "Max WHIP: 0.6052631578947368\n",
      "Min WHIP: 0.2222222222222222\n",
      "Max ERA: 2.131578947368421\n",
      "Min ERA: 0.0\n",
      "(21, 16)\n",
      "(1, 25, 16)\n",
      "Max WHIP: 0.6052631578947368\n",
      "Min WHIP: 0.0\n",
      "Max ERA: 2.131578947368421\n",
      "Min ERA: 0.0\n",
      "Index: 225, Year: 2020 Team: ATL, Level of Success: LS\n"
     ]
    },
    {
     "name": "stderr",
     "output_type": "stream",
     "text": [
      "/var/folders/fh/fzyqqz2s1vzcm3v06kz1h29w0000gp/T/ipykernel_2244/85417958.py:8: UserWarning: Boolean Series key will be reindexed to match DataFrame index.\n",
      "  temp_stats = all_pitching_stats[all_pitching_stats['team'] == team['Team']][all_pitching_stats['date'].astype(str).str.startswith(str(team['Year']))][all_pitching_stats['gametype'] == 'regular'][pitching_features]\n",
      "/var/folders/fh/fzyqqz2s1vzcm3v06kz1h29w0000gp/T/ipykernel_2244/85417958.py:8: UserWarning: Boolean Series key will be reindexed to match DataFrame index.\n",
      "  temp_stats = all_pitching_stats[all_pitching_stats['team'] == team['Team']][all_pitching_stats['date'].astype(str).str.startswith(str(team['Year']))][all_pitching_stats['gametype'] == 'regular'][pitching_features]\n"
     ]
    },
    {
     "name": "stdout",
     "output_type": "stream",
     "text": [
      "Max WHIP: 2.5\n",
      "Min WHIP: 0.0\n",
      "Max ERA: 9.0\n",
      "Min ERA: 0.0\n",
      "(29, 16)\n",
      "(1, 25, 16)\n",
      "Max WHIP: 0.9\n",
      "Min WHIP: 0.2037037037037037\n",
      "Max ERA: 4.9655172413793105\n",
      "Min ERA: 0.0\n",
      "Index: 226, Year: 2020 Team: CHN, Level of Success: WC\n"
     ]
    },
    {
     "name": "stderr",
     "output_type": "stream",
     "text": [
      "/var/folders/fh/fzyqqz2s1vzcm3v06kz1h29w0000gp/T/ipykernel_2244/85417958.py:8: UserWarning: Boolean Series key will be reindexed to match DataFrame index.\n",
      "  temp_stats = all_pitching_stats[all_pitching_stats['team'] == team['Team']][all_pitching_stats['date'].astype(str).str.startswith(str(team['Year']))][all_pitching_stats['gametype'] == 'regular'][pitching_features]\n",
      "/var/folders/fh/fzyqqz2s1vzcm3v06kz1h29w0000gp/T/ipykernel_2244/85417958.py:8: UserWarning: Boolean Series key will be reindexed to match DataFrame index.\n",
      "  temp_stats = all_pitching_stats[all_pitching_stats['team'] == team['Team']][all_pitching_stats['date'].astype(str).str.startswith(str(team['Year']))][all_pitching_stats['gametype'] == 'regular'][pitching_features]\n"
     ]
    },
    {
     "name": "stdout",
     "output_type": "stream",
     "text": [
      "Max WHIP: 2.5\n",
      "Min WHIP: 0.0\n",
      "Max ERA: 22.5\n",
      "Min ERA: 0.0\n",
      "(26, 16)\n",
      "(1, 25, 16)\n",
      "Max WHIP: 1.6666666666666667\n",
      "Min WHIP: 0.0\n",
      "Max ERA: 6.0\n",
      "Min ERA: 0.0\n",
      "Index: 227, Year: 2020 Team: SDN, Level of Success: DS\n"
     ]
    },
    {
     "name": "stderr",
     "output_type": "stream",
     "text": [
      "/var/folders/fh/fzyqqz2s1vzcm3v06kz1h29w0000gp/T/ipykernel_2244/85417958.py:8: UserWarning: Boolean Series key will be reindexed to match DataFrame index.\n",
      "  temp_stats = all_pitching_stats[all_pitching_stats['team'] == team['Team']][all_pitching_stats['date'].astype(str).str.startswith(str(team['Year']))][all_pitching_stats['gametype'] == 'regular'][pitching_features]\n",
      "/var/folders/fh/fzyqqz2s1vzcm3v06kz1h29w0000gp/T/ipykernel_2244/85417958.py:8: UserWarning: Boolean Series key will be reindexed to match DataFrame index.\n",
      "  temp_stats = all_pitching_stats[all_pitching_stats['team'] == team['Team']][all_pitching_stats['date'].astype(str).str.startswith(str(team['Year']))][all_pitching_stats['gametype'] == 'regular'][pitching_features]\n"
     ]
    },
    {
     "name": "stdout",
     "output_type": "stream",
     "text": [
      "Max WHIP: 0.8823529411764706\n",
      "Min WHIP: 0.13333333333333333\n",
      "Max ERA: 4.153846153846154\n",
      "Min ERA: 0.0\n",
      "(24, 16)\n",
      "(1, 25, 16)\n",
      "Max WHIP: 0.8823529411764706\n",
      "Min WHIP: 0.0\n",
      "Max ERA: 4.153846153846154\n",
      "Min ERA: 0.0\n",
      "Index: 228, Year: 2020 Team: SLN, Level of Success: WC\n"
     ]
    },
    {
     "name": "stderr",
     "output_type": "stream",
     "text": [
      "/var/folders/fh/fzyqqz2s1vzcm3v06kz1h29w0000gp/T/ipykernel_2244/85417958.py:8: UserWarning: Boolean Series key will be reindexed to match DataFrame index.\n",
      "  temp_stats = all_pitching_stats[all_pitching_stats['team'] == team['Team']][all_pitching_stats['date'].astype(str).str.startswith(str(team['Year']))][all_pitching_stats['gametype'] == 'regular'][pitching_features]\n",
      "/var/folders/fh/fzyqqz2s1vzcm3v06kz1h29w0000gp/T/ipykernel_2244/85417958.py:8: UserWarning: Boolean Series key will be reindexed to match DataFrame index.\n",
      "  temp_stats = all_pitching_stats[all_pitching_stats['team'] == team['Team']][all_pitching_stats['date'].astype(str).str.startswith(str(team['Year']))][all_pitching_stats['gametype'] == 'regular'][pitching_features]\n"
     ]
    },
    {
     "name": "stdout",
     "output_type": "stream",
     "text": [
      "Max WHIP: 3.5\n",
      "Min WHIP: 0.0\n",
      "Max ERA: 27.0\n",
      "Min ERA: 0.0\n",
      "(26, 16)\n",
      "(1, 25, 16)\n",
      "Max WHIP: 1.3333333333333333\n",
      "Min WHIP: 0.0\n",
      "Max ERA: 6.0\n",
      "Min ERA: 0.0\n",
      "Index: 229, Year: 2020 Team: MIA, Level of Success: DS\n"
     ]
    },
    {
     "name": "stderr",
     "output_type": "stream",
     "text": [
      "/var/folders/fh/fzyqqz2s1vzcm3v06kz1h29w0000gp/T/ipykernel_2244/85417958.py:8: UserWarning: Boolean Series key will be reindexed to match DataFrame index.\n",
      "  temp_stats = all_pitching_stats[all_pitching_stats['team'] == team['Team']][all_pitching_stats['date'].astype(str).str.startswith(str(team['Year']))][all_pitching_stats['gametype'] == 'regular'][pitching_features]\n",
      "/var/folders/fh/fzyqqz2s1vzcm3v06kz1h29w0000gp/T/ipykernel_2244/85417958.py:8: UserWarning: Boolean Series key will be reindexed to match DataFrame index.\n",
      "  temp_stats = all_pitching_stats[all_pitching_stats['team'] == team['Team']][all_pitching_stats['date'].astype(str).str.startswith(str(team['Year']))][all_pitching_stats['gametype'] == 'regular'][pitching_features]\n"
     ]
    },
    {
     "name": "stdout",
     "output_type": "stream",
     "text": [
      "Max WHIP: 3.0\n",
      "Min WHIP: 0.07692307692307693\n",
      "Max ERA: 6.230769230769231\n",
      "Min ERA: 0.0\n",
      "(37, 16)\n",
      "(1, 25, 16)\n",
      "Max WHIP: 1.0\n",
      "Min WHIP: 0.2\n",
      "Max ERA: 6.088235294117648\n",
      "Min ERA: 0.0\n",
      "Index: 230, Year: 2020 Team: CIN, Level of Success: WC\n"
     ]
    },
    {
     "name": "stderr",
     "output_type": "stream",
     "text": [
      "/var/folders/fh/fzyqqz2s1vzcm3v06kz1h29w0000gp/T/ipykernel_2244/85417958.py:8: UserWarning: Boolean Series key will be reindexed to match DataFrame index.\n",
      "  temp_stats = all_pitching_stats[all_pitching_stats['team'] == team['Team']][all_pitching_stats['date'].astype(str).str.startswith(str(team['Year']))][all_pitching_stats['gametype'] == 'regular'][pitching_features]\n",
      "/var/folders/fh/fzyqqz2s1vzcm3v06kz1h29w0000gp/T/ipykernel_2244/85417958.py:8: UserWarning: Boolean Series key will be reindexed to match DataFrame index.\n",
      "  temp_stats = all_pitching_stats[all_pitching_stats['team'] == team['Team']][all_pitching_stats['date'].astype(str).str.startswith(str(team['Year']))][all_pitching_stats['gametype'] == 'regular'][pitching_features]\n"
     ]
    },
    {
     "name": "stdout",
     "output_type": "stream",
     "text": [
      "Max WHIP: 1.0\n",
      "Min WHIP: 0.0\n",
      "Max ERA: 6.0\n",
      "Min ERA: 0.0\n",
      "(23, 16)\n",
      "(1, 25, 16)\n",
      "Max WHIP: 1.0\n",
      "Min WHIP: 0.0\n",
      "Max ERA: 6.0\n",
      "Min ERA: 0.0\n",
      "Index: 231, Year: 2020 Team: MIL, Level of Success: WC\n"
     ]
    },
    {
     "name": "stderr",
     "output_type": "stream",
     "text": [
      "/var/folders/fh/fzyqqz2s1vzcm3v06kz1h29w0000gp/T/ipykernel_2244/85417958.py:8: UserWarning: Boolean Series key will be reindexed to match DataFrame index.\n",
      "  temp_stats = all_pitching_stats[all_pitching_stats['team'] == team['Team']][all_pitching_stats['date'].astype(str).str.startswith(str(team['Year']))][all_pitching_stats['gametype'] == 'regular'][pitching_features]\n",
      "/var/folders/fh/fzyqqz2s1vzcm3v06kz1h29w0000gp/T/ipykernel_2244/85417958.py:8: UserWarning: Boolean Series key will be reindexed to match DataFrame index.\n",
      "  temp_stats = all_pitching_stats[all_pitching_stats['team'] == team['Team']][all_pitching_stats['date'].astype(str).str.startswith(str(team['Year']))][all_pitching_stats['gametype'] == 'regular'][pitching_features]\n"
     ]
    },
    {
     "name": "stdout",
     "output_type": "stream",
     "text": [
      "Max WHIP: 1.3333333333333333\n",
      "Min WHIP: 0.20987654320987653\n",
      "Max ERA: 12.0\n",
      "Min ERA: 0.0\n",
      "(24, 16)\n",
      "(1, 25, 16)\n",
      "Max WHIP: 1.3333333333333333\n",
      "Min WHIP: 0.0\n",
      "Max ERA: 12.0\n",
      "Min ERA: 0.0\n",
      "Index: 232, Year: 2021 Team: TBA, Level of Success: DS\n"
     ]
    },
    {
     "name": "stderr",
     "output_type": "stream",
     "text": [
      "/var/folders/fh/fzyqqz2s1vzcm3v06kz1h29w0000gp/T/ipykernel_2244/85417958.py:8: UserWarning: Boolean Series key will be reindexed to match DataFrame index.\n",
      "  temp_stats = all_pitching_stats[all_pitching_stats['team'] == team['Team']][all_pitching_stats['date'].astype(str).str.startswith(str(team['Year']))][all_pitching_stats['gametype'] == 'regular'][pitching_features]\n",
      "/var/folders/fh/fzyqqz2s1vzcm3v06kz1h29w0000gp/T/ipykernel_2244/85417958.py:8: UserWarning: Boolean Series key will be reindexed to match DataFrame index.\n",
      "  temp_stats = all_pitching_stats[all_pitching_stats['team'] == team['Team']][all_pitching_stats['date'].astype(str).str.startswith(str(team['Year']))][all_pitching_stats['gametype'] == 'regular'][pitching_features]\n"
     ]
    },
    {
     "name": "stdout",
     "output_type": "stream",
     "text": [
      "Max WHIP: 1.5\n",
      "Min WHIP: 0.0\n",
      "Max ERA: 9.0\n",
      "Min ERA: 0.0\n",
      "(41, 16)\n",
      "(1, 25, 16)\n",
      "Max WHIP: 0.5227272727272727\n",
      "Min WHIP: 0.2857142857142857\n",
      "Max ERA: 1.840909090909091\n",
      "Min ERA: 0.515625\n",
      "Index: 233, Year: 2021 Team: HOU, Level of Success: WS\n"
     ]
    },
    {
     "name": "stderr",
     "output_type": "stream",
     "text": [
      "/var/folders/fh/fzyqqz2s1vzcm3v06kz1h29w0000gp/T/ipykernel_2244/85417958.py:8: UserWarning: Boolean Series key will be reindexed to match DataFrame index.\n",
      "  temp_stats = all_pitching_stats[all_pitching_stats['team'] == team['Team']][all_pitching_stats['date'].astype(str).str.startswith(str(team['Year']))][all_pitching_stats['gametype'] == 'regular'][pitching_features]\n",
      "/var/folders/fh/fzyqqz2s1vzcm3v06kz1h29w0000gp/T/ipykernel_2244/85417958.py:8: UserWarning: Boolean Series key will be reindexed to match DataFrame index.\n",
      "  temp_stats = all_pitching_stats[all_pitching_stats['team'] == team['Team']][all_pitching_stats['date'].astype(str).str.startswith(str(team['Year']))][all_pitching_stats['gametype'] == 'regular'][pitching_features]\n"
     ]
    },
    {
     "name": "stdout",
     "output_type": "stream",
     "text": [
      "Max WHIP: 1.6666666666666667\n",
      "Min WHIP: 0.23076923076923078\n",
      "Max ERA: 12.0\n",
      "Min ERA: 0.0\n",
      "(31, 16)\n",
      "(1, 25, 16)\n",
      "Max WHIP: 0.9230769230769231\n",
      "Min WHIP: 0.2777777777777778\n",
      "Max ERA: 2.4923076923076923\n",
      "Min ERA: 0.0\n",
      "Index: 234, Year: 2021 Team: CHA, Level of Success: DS\n"
     ]
    },
    {
     "name": "stderr",
     "output_type": "stream",
     "text": [
      "/var/folders/fh/fzyqqz2s1vzcm3v06kz1h29w0000gp/T/ipykernel_2244/85417958.py:8: UserWarning: Boolean Series key will be reindexed to match DataFrame index.\n",
      "  temp_stats = all_pitching_stats[all_pitching_stats['team'] == team['Team']][all_pitching_stats['date'].astype(str).str.startswith(str(team['Year']))][all_pitching_stats['gametype'] == 'regular'][pitching_features]\n",
      "/var/folders/fh/fzyqqz2s1vzcm3v06kz1h29w0000gp/T/ipykernel_2244/85417958.py:8: UserWarning: Boolean Series key will be reindexed to match DataFrame index.\n",
      "  temp_stats = all_pitching_stats[all_pitching_stats['team'] == team['Team']][all_pitching_stats['date'].astype(str).str.startswith(str(team['Year']))][all_pitching_stats['gametype'] == 'regular'][pitching_features]\n"
     ]
    },
    {
     "name": "stdout",
     "output_type": "stream",
     "text": [
      "Max WHIP: inf\n",
      "Min WHIP: 0.0\n",
      "Max ERA: inf\n",
      "Min ERA: 0.0\n",
      "(26, 16)\n",
      "(1, 25, 16)\n",
      "Max WHIP: 1.6666666666666667\n",
      "Min WHIP: 0.0\n",
      "Max ERA: 3.6\n",
      "Min ERA: 0.0\n",
      "Index: 235, Year: 2021 Team: BOS, Level of Success: LS\n"
     ]
    },
    {
     "name": "stderr",
     "output_type": "stream",
     "text": [
      "/var/folders/fh/fzyqqz2s1vzcm3v06kz1h29w0000gp/T/ipykernel_2244/85417958.py:8: UserWarning: Boolean Series key will be reindexed to match DataFrame index.\n",
      "  temp_stats = all_pitching_stats[all_pitching_stats['team'] == team['Team']][all_pitching_stats['date'].astype(str).str.startswith(str(team['Year']))][all_pitching_stats['gametype'] == 'regular'][pitching_features]\n",
      "/var/folders/fh/fzyqqz2s1vzcm3v06kz1h29w0000gp/T/ipykernel_2244/85417958.py:8: UserWarning: Boolean Series key will be reindexed to match DataFrame index.\n",
      "  temp_stats = all_pitching_stats[all_pitching_stats['team'] == team['Team']][all_pitching_stats['date'].astype(str).str.startswith(str(team['Year']))][all_pitching_stats['gametype'] == 'regular'][pitching_features]\n"
     ]
    },
    {
     "name": "stdout",
     "output_type": "stream",
     "text": [
      "Max WHIP: 2.3333333333333335\n",
      "Min WHIP: 0.0\n",
      "Max ERA: 12.0\n",
      "Min ERA: 0.0\n",
      "(37, 16)\n",
      "(1, 25, 16)\n",
      "Max WHIP: 0.8823529411764706\n",
      "Min WHIP: 0.3076923076923077\n",
      "Max ERA: 5.8235294117647065\n",
      "Min ERA: 0.5\n",
      "Index: 236, Year: 2021 Team: NYA, Level of Success: WC\n"
     ]
    },
    {
     "name": "stderr",
     "output_type": "stream",
     "text": [
      "/var/folders/fh/fzyqqz2s1vzcm3v06kz1h29w0000gp/T/ipykernel_2244/85417958.py:8: UserWarning: Boolean Series key will be reindexed to match DataFrame index.\n",
      "  temp_stats = all_pitching_stats[all_pitching_stats['team'] == team['Team']][all_pitching_stats['date'].astype(str).str.startswith(str(team['Year']))][all_pitching_stats['gametype'] == 'regular'][pitching_features]\n",
      "/var/folders/fh/fzyqqz2s1vzcm3v06kz1h29w0000gp/T/ipykernel_2244/85417958.py:8: UserWarning: Boolean Series key will be reindexed to match DataFrame index.\n",
      "  temp_stats = all_pitching_stats[all_pitching_stats['team'] == team['Team']][all_pitching_stats['date'].astype(str).str.startswith(str(team['Year']))][all_pitching_stats['gametype'] == 'regular'][pitching_features]\n"
     ]
    },
    {
     "name": "stdout",
     "output_type": "stream",
     "text": [
      "Max WHIP: 0.9\n",
      "Min WHIP: 0.16666666666666666\n",
      "Max ERA: 5.08695652173913\n",
      "Min ERA: 0.0\n",
      "(30, 16)\n",
      "(1, 25, 16)\n",
      "Max WHIP: 0.8421052631578947\n",
      "Min WHIP: 0.2619047619047619\n",
      "Max ERA: 5.08695652173913\n",
      "Min ERA: 0.5357142857142857\n",
      "Index: 237, Year: 2021 Team: SFN, Level of Success: DS\n"
     ]
    },
    {
     "name": "stderr",
     "output_type": "stream",
     "text": [
      "/var/folders/fh/fzyqqz2s1vzcm3v06kz1h29w0000gp/T/ipykernel_2244/85417958.py:8: UserWarning: Boolean Series key will be reindexed to match DataFrame index.\n",
      "  temp_stats = all_pitching_stats[all_pitching_stats['team'] == team['Team']][all_pitching_stats['date'].astype(str).str.startswith(str(team['Year']))][all_pitching_stats['gametype'] == 'regular'][pitching_features]\n",
      "/var/folders/fh/fzyqqz2s1vzcm3v06kz1h29w0000gp/T/ipykernel_2244/85417958.py:8: UserWarning: Boolean Series key will be reindexed to match DataFrame index.\n",
      "  temp_stats = all_pitching_stats[all_pitching_stats['team'] == team['Team']][all_pitching_stats['date'].astype(str).str.startswith(str(team['Year']))][all_pitching_stats['gametype'] == 'regular'][pitching_features]\n"
     ]
    },
    {
     "name": "stdout",
     "output_type": "stream",
     "text": [
      "Max WHIP: 1.1666666666666667\n",
      "Min WHIP: 0.08333333333333333\n",
      "Max ERA: 9.0\n",
      "Min ERA: 0.0\n",
      "(34, 16)\n",
      "(1, 25, 16)\n",
      "Max WHIP: 0.6176470588235294\n",
      "Min WHIP: 0.2602739726027397\n",
      "Max ERA: 2.1176470588235294\n",
      "Min ERA: 0.0\n",
      "Index: 238, Year: 2021 Team: MIL, Level of Success: DS\n"
     ]
    },
    {
     "name": "stderr",
     "output_type": "stream",
     "text": [
      "/var/folders/fh/fzyqqz2s1vzcm3v06kz1h29w0000gp/T/ipykernel_2244/85417958.py:8: UserWarning: Boolean Series key will be reindexed to match DataFrame index.\n",
      "  temp_stats = all_pitching_stats[all_pitching_stats['team'] == team['Team']][all_pitching_stats['date'].astype(str).str.startswith(str(team['Year']))][all_pitching_stats['gametype'] == 'regular'][pitching_features]\n",
      "/var/folders/fh/fzyqqz2s1vzcm3v06kz1h29w0000gp/T/ipykernel_2244/85417958.py:8: UserWarning: Boolean Series key will be reindexed to match DataFrame index.\n",
      "  temp_stats = all_pitching_stats[all_pitching_stats['team'] == team['Team']][all_pitching_stats['date'].astype(str).str.startswith(str(team['Year']))][all_pitching_stats['gametype'] == 'regular'][pitching_features]\n"
     ]
    },
    {
     "name": "stdout",
     "output_type": "stream",
     "text": [
      "Max WHIP: 3.0\n",
      "Min WHIP: 0.2784090909090909\n",
      "Max ERA: 18.0\n",
      "Min ERA: 0.0\n",
      "(38, 16)\n",
      "(1, 25, 16)\n",
      "Max WHIP: 0.7\n",
      "Min WHIP: 0.2784090909090909\n",
      "Max ERA: 4.5\n",
      "Min ERA: 0.4090909090909091\n",
      "Index: 239, Year: 2021 Team: ATL, Level of Success: C\n"
     ]
    },
    {
     "name": "stderr",
     "output_type": "stream",
     "text": [
      "/var/folders/fh/fzyqqz2s1vzcm3v06kz1h29w0000gp/T/ipykernel_2244/85417958.py:8: UserWarning: Boolean Series key will be reindexed to match DataFrame index.\n",
      "  temp_stats = all_pitching_stats[all_pitching_stats['team'] == team['Team']][all_pitching_stats['date'].astype(str).str.startswith(str(team['Year']))][all_pitching_stats['gametype'] == 'regular'][pitching_features]\n",
      "/var/folders/fh/fzyqqz2s1vzcm3v06kz1h29w0000gp/T/ipykernel_2244/85417958.py:8: UserWarning: Boolean Series key will be reindexed to match DataFrame index.\n",
      "  temp_stats = all_pitching_stats[all_pitching_stats['team'] == team['Team']][all_pitching_stats['date'].astype(str).str.startswith(str(team['Year']))][all_pitching_stats['gametype'] == 'regular'][pitching_features]\n"
     ]
    },
    {
     "name": "stdout",
     "output_type": "stream",
     "text": [
      "Max WHIP: 4.0\n",
      "Min WHIP: 0.33663366336633666\n",
      "Max ERA: 27.0\n",
      "Min ERA: 0.0\n",
      "(30, 16)\n",
      "(1, 25, 16)\n",
      "Max WHIP: 0.631578947368421\n",
      "Min WHIP: 0.33663366336633666\n",
      "Max ERA: 3.31578947368421\n",
      "Min ERA: 0.6596858638743455\n",
      "Index: 240, Year: 2021 Team: LAN, Level of Success: LS\n"
     ]
    },
    {
     "name": "stderr",
     "output_type": "stream",
     "text": [
      "/var/folders/fh/fzyqqz2s1vzcm3v06kz1h29w0000gp/T/ipykernel_2244/85417958.py:8: UserWarning: Boolean Series key will be reindexed to match DataFrame index.\n",
      "  temp_stats = all_pitching_stats[all_pitching_stats['team'] == team['Team']][all_pitching_stats['date'].astype(str).str.startswith(str(team['Year']))][all_pitching_stats['gametype'] == 'regular'][pitching_features]\n",
      "/var/folders/fh/fzyqqz2s1vzcm3v06kz1h29w0000gp/T/ipykernel_2244/85417958.py:8: UserWarning: Boolean Series key will be reindexed to match DataFrame index.\n",
      "  temp_stats = all_pitching_stats[all_pitching_stats['team'] == team['Team']][all_pitching_stats['date'].astype(str).str.startswith(str(team['Year']))][all_pitching_stats['gametype'] == 'regular'][pitching_features]\n"
     ]
    },
    {
     "name": "stdout",
     "output_type": "stream",
     "text": [
      "Max WHIP: 3.0\n",
      "Min WHIP: 0.1111111111111111\n",
      "Max ERA: 9.0\n",
      "Min ERA: 0.0\n",
      "(39, 16)\n",
      "(1, 25, 16)\n",
      "Max WHIP: 0.6444444444444445\n",
      "Min WHIP: 0.2731707317073171\n",
      "Max ERA: 2.2131147540983607\n",
      "Min ERA: 0.6206896551724138\n",
      "Index: 241, Year: 2021 Team: SLN, Level of Success: WC\n"
     ]
    },
    {
     "name": "stderr",
     "output_type": "stream",
     "text": [
      "/var/folders/fh/fzyqqz2s1vzcm3v06kz1h29w0000gp/T/ipykernel_2244/85417958.py:8: UserWarning: Boolean Series key will be reindexed to match DataFrame index.\n",
      "  temp_stats = all_pitching_stats[all_pitching_stats['team'] == team['Team']][all_pitching_stats['date'].astype(str).str.startswith(str(team['Year']))][all_pitching_stats['gametype'] == 'regular'][pitching_features]\n",
      "/var/folders/fh/fzyqqz2s1vzcm3v06kz1h29w0000gp/T/ipykernel_2244/85417958.py:8: UserWarning: Boolean Series key will be reindexed to match DataFrame index.\n",
      "  temp_stats = all_pitching_stats[all_pitching_stats['team'] == team['Team']][all_pitching_stats['date'].astype(str).str.startswith(str(team['Year']))][all_pitching_stats['gametype'] == 'regular'][pitching_features]\n"
     ]
    },
    {
     "name": "stdout",
     "output_type": "stream",
     "text": [
      "Max WHIP: inf\n",
      "Min WHIP: 0.2946058091286307\n",
      "Max ERA: inf\n",
      "Min ERA: 0.0\n",
      "(32, 16)\n",
      "(1, 25, 16)\n",
      "Max WHIP: 0.8367346938775511\n",
      "Min WHIP: 0.2946058091286307\n",
      "Max ERA: 4.408163265306122\n",
      "Min ERA: 0.8289473684210525\n",
      "Index: 242, Year: 2022 Team: HOU, Level of Success: C\n"
     ]
    },
    {
     "name": "stderr",
     "output_type": "stream",
     "text": [
      "/var/folders/fh/fzyqqz2s1vzcm3v06kz1h29w0000gp/T/ipykernel_2244/85417958.py:8: UserWarning: Boolean Series key will be reindexed to match DataFrame index.\n",
      "  temp_stats = all_pitching_stats[all_pitching_stats['team'] == team['Team']][all_pitching_stats['date'].astype(str).str.startswith(str(team['Year']))][all_pitching_stats['gametype'] == 'regular'][pitching_features]\n",
      "/var/folders/fh/fzyqqz2s1vzcm3v06kz1h29w0000gp/T/ipykernel_2244/85417958.py:8: UserWarning: Boolean Series key will be reindexed to match DataFrame index.\n",
      "  temp_stats = all_pitching_stats[all_pitching_stats['team'] == team['Team']][all_pitching_stats['date'].astype(str).str.startswith(str(team['Year']))][all_pitching_stats['gametype'] == 'regular'][pitching_features]\n"
     ]
    },
    {
     "name": "stdout",
     "output_type": "stream",
     "text": [
      "Max WHIP: 1.1428571428571428\n",
      "Min WHIP: 0.2761904761904762\n",
      "Max ERA: 3.8571428571428568\n",
      "Min ERA: 0.29508196721311475\n",
      "(22, 16)\n",
      "(1, 25, 16)\n",
      "Max WHIP: 1.1428571428571428\n",
      "Min WHIP: 0.0\n",
      "Max ERA: 3.8571428571428568\n",
      "Min ERA: 0.0\n",
      "Index: 243, Year: 2022 Team: NYA, Level of Success: LS\n"
     ]
    },
    {
     "name": "stderr",
     "output_type": "stream",
     "text": [
      "/var/folders/fh/fzyqqz2s1vzcm3v06kz1h29w0000gp/T/ipykernel_2244/85417958.py:8: UserWarning: Boolean Series key will be reindexed to match DataFrame index.\n",
      "  temp_stats = all_pitching_stats[all_pitching_stats['team'] == team['Team']][all_pitching_stats['date'].astype(str).str.startswith(str(team['Year']))][all_pitching_stats['gametype'] == 'regular'][pitching_features]\n",
      "/var/folders/fh/fzyqqz2s1vzcm3v06kz1h29w0000gp/T/ipykernel_2244/85417958.py:8: UserWarning: Boolean Series key will be reindexed to match DataFrame index.\n",
      "  temp_stats = all_pitching_stats[all_pitching_stats['team'] == team['Team']][all_pitching_stats['date'].astype(str).str.startswith(str(team['Year']))][all_pitching_stats['gametype'] == 'regular'][pitching_features]\n"
     ]
    },
    {
     "name": "stdout",
     "output_type": "stream",
     "text": [
      "Max WHIP: 3.5\n",
      "Min WHIP: 0.0\n",
      "Max ERA: 13.5\n",
      "Min ERA: 0.0\n",
      "(33, 16)\n",
      "(1, 25, 16)\n",
      "Max WHIP: 0.5126050420168067\n",
      "Min WHIP: 0.21875\n",
      "Max ERA: 2.1176470588235294\n",
      "Min ERA: 0.28125\n",
      "Index: 244, Year: 2022 Team: CLE, Level of Success: DS\n"
     ]
    },
    {
     "name": "stderr",
     "output_type": "stream",
     "text": [
      "/var/folders/fh/fzyqqz2s1vzcm3v06kz1h29w0000gp/T/ipykernel_2244/85417958.py:8: UserWarning: Boolean Series key will be reindexed to match DataFrame index.\n",
      "  temp_stats = all_pitching_stats[all_pitching_stats['team'] == team['Team']][all_pitching_stats['date'].astype(str).str.startswith(str(team['Year']))][all_pitching_stats['gametype'] == 'regular'][pitching_features]\n",
      "/var/folders/fh/fzyqqz2s1vzcm3v06kz1h29w0000gp/T/ipykernel_2244/85417958.py:8: UserWarning: Boolean Series key will be reindexed to match DataFrame index.\n",
      "  temp_stats = all_pitching_stats[all_pitching_stats['team'] == team['Team']][all_pitching_stats['date'].astype(str).str.startswith(str(team['Year']))][all_pitching_stats['gametype'] == 'regular'][pitching_features]\n"
     ]
    },
    {
     "name": "stdout",
     "output_type": "stream",
     "text": [
      "Max WHIP: 1.0\n",
      "Min WHIP: 0.0\n",
      "Max ERA: 6.136363636363636\n",
      "Min ERA: 0.0\n",
      "(27, 16)\n",
      "(1, 25, 16)\n",
      "Max WHIP: 1.0\n",
      "Min WHIP: 0.0\n",
      "Max ERA: 6.136363636363636\n",
      "Min ERA: 0.0\n",
      "Index: 245, Year: 2022 Team: TOR, Level of Success: WC\n"
     ]
    },
    {
     "name": "stderr",
     "output_type": "stream",
     "text": [
      "/var/folders/fh/fzyqqz2s1vzcm3v06kz1h29w0000gp/T/ipykernel_2244/85417958.py:8: UserWarning: Boolean Series key will be reindexed to match DataFrame index.\n",
      "  temp_stats = all_pitching_stats[all_pitching_stats['team'] == team['Team']][all_pitching_stats['date'].astype(str).str.startswith(str(team['Year']))][all_pitching_stats['gametype'] == 'regular'][pitching_features]\n",
      "/var/folders/fh/fzyqqz2s1vzcm3v06kz1h29w0000gp/T/ipykernel_2244/85417958.py:8: UserWarning: Boolean Series key will be reindexed to match DataFrame index.\n",
      "  temp_stats = all_pitching_stats[all_pitching_stats['team'] == team['Team']][all_pitching_stats['date'].astype(str).str.startswith(str(team['Year']))][all_pitching_stats['gametype'] == 'regular'][pitching_features]\n"
     ]
    },
    {
     "name": "stdout",
     "output_type": "stream",
     "text": [
      "Max WHIP: 1.3333333333333333\n",
      "Min WHIP: 0.2727272727272727\n",
      "Max ERA: 6.428571428571429\n",
      "Min ERA: 0.0\n",
      "(32, 16)\n",
      "(1, 25, 16)\n",
      "Max WHIP: 1.0\n",
      "Min WHIP: 0.3076923076923077\n",
      "Max ERA: 6.428571428571429\n",
      "Min ERA: 0.4615384615384615\n",
      "Index: 246, Year: 2022 Team: SEA, Level of Success: DS\n"
     ]
    },
    {
     "name": "stderr",
     "output_type": "stream",
     "text": [
      "/var/folders/fh/fzyqqz2s1vzcm3v06kz1h29w0000gp/T/ipykernel_2244/85417958.py:8: UserWarning: Boolean Series key will be reindexed to match DataFrame index.\n",
      "  temp_stats = all_pitching_stats[all_pitching_stats['team'] == team['Team']][all_pitching_stats['date'].astype(str).str.startswith(str(team['Year']))][all_pitching_stats['gametype'] == 'regular'][pitching_features]\n",
      "/var/folders/fh/fzyqqz2s1vzcm3v06kz1h29w0000gp/T/ipykernel_2244/85417958.py:8: UserWarning: Boolean Series key will be reindexed to match DataFrame index.\n",
      "  temp_stats = all_pitching_stats[all_pitching_stats['team'] == team['Team']][all_pitching_stats['date'].astype(str).str.startswith(str(team['Year']))][all_pitching_stats['gametype'] == 'regular'][pitching_features]\n"
     ]
    },
    {
     "name": "stdout",
     "output_type": "stream",
     "text": [
      "Max WHIP: 0.8181818181818182\n",
      "Min WHIP: 0.2552083333333333\n",
      "Max ERA: 2.769230769230769\n",
      "Min ERA: 0.0\n",
      "(29, 16)\n",
      "(1, 25, 16)\n",
      "Max WHIP: 0.6046511627906976\n",
      "Min WHIP: 0.2552083333333333\n",
      "Max ERA: 2.769230769230769\n",
      "Min ERA: 0.0\n",
      "Index: 247, Year: 2022 Team: TBA, Level of Success: WC\n"
     ]
    },
    {
     "name": "stderr",
     "output_type": "stream",
     "text": [
      "/var/folders/fh/fzyqqz2s1vzcm3v06kz1h29w0000gp/T/ipykernel_2244/85417958.py:8: UserWarning: Boolean Series key will be reindexed to match DataFrame index.\n",
      "  temp_stats = all_pitching_stats[all_pitching_stats['team'] == team['Team']][all_pitching_stats['date'].astype(str).str.startswith(str(team['Year']))][all_pitching_stats['gametype'] == 'regular'][pitching_features]\n",
      "/var/folders/fh/fzyqqz2s1vzcm3v06kz1h29w0000gp/T/ipykernel_2244/85417958.py:8: UserWarning: Boolean Series key will be reindexed to match DataFrame index.\n",
      "  temp_stats = all_pitching_stats[all_pitching_stats['team'] == team['Team']][all_pitching_stats['date'].astype(str).str.startswith(str(team['Year']))][all_pitching_stats['gametype'] == 'regular'][pitching_features]\n"
     ]
    },
    {
     "name": "stdout",
     "output_type": "stream",
     "text": [
      "Max WHIP: 1.0\n",
      "Min WHIP: 0.1643835616438356\n",
      "Max ERA: 6.0\n",
      "Min ERA: 0.0\n",
      "(40, 16)\n",
      "(1, 25, 16)\n",
      "Max WHIP: 0.65\n",
      "Min WHIP: 0.1643835616438356\n",
      "Max ERA: 2.6999999999999997\n",
      "Min ERA: 0.0\n",
      "Index: 248, Year: 2022 Team: LAN, Level of Success: DS\n"
     ]
    },
    {
     "name": "stderr",
     "output_type": "stream",
     "text": [
      "/var/folders/fh/fzyqqz2s1vzcm3v06kz1h29w0000gp/T/ipykernel_2244/85417958.py:8: UserWarning: Boolean Series key will be reindexed to match DataFrame index.\n",
      "  temp_stats = all_pitching_stats[all_pitching_stats['team'] == team['Team']][all_pitching_stats['date'].astype(str).str.startswith(str(team['Year']))][all_pitching_stats['gametype'] == 'regular'][pitching_features]\n",
      "/var/folders/fh/fzyqqz2s1vzcm3v06kz1h29w0000gp/T/ipykernel_2244/85417958.py:8: UserWarning: Boolean Series key will be reindexed to match DataFrame index.\n",
      "  temp_stats = all_pitching_stats[all_pitching_stats['team'] == team['Team']][all_pitching_stats['date'].astype(str).str.startswith(str(team['Year']))][all_pitching_stats['gametype'] == 'regular'][pitching_features]\n"
     ]
    },
    {
     "name": "stdout",
     "output_type": "stream",
     "text": [
      "Max WHIP: 0.7058823529411765\n",
      "Min WHIP: 0.13333333333333333\n",
      "Max ERA: 3.4615384615384617\n",
      "Min ERA: 0.0\n",
      "(31, 16)\n",
      "(1, 25, 16)\n",
      "Max WHIP: 0.48623853211009177\n",
      "Min WHIP: 0.17567567567567569\n",
      "Max ERA: 1.5737704918032787\n",
      "Min ERA: 0.33962264150943394\n",
      "Index: 249, Year: 2022 Team: ATL, Level of Success: DS\n"
     ]
    },
    {
     "name": "stderr",
     "output_type": "stream",
     "text": [
      "/var/folders/fh/fzyqqz2s1vzcm3v06kz1h29w0000gp/T/ipykernel_2244/85417958.py:8: UserWarning: Boolean Series key will be reindexed to match DataFrame index.\n",
      "  temp_stats = all_pitching_stats[all_pitching_stats['team'] == team['Team']][all_pitching_stats['date'].astype(str).str.startswith(str(team['Year']))][all_pitching_stats['gametype'] == 'regular'][pitching_features]\n",
      "/var/folders/fh/fzyqqz2s1vzcm3v06kz1h29w0000gp/T/ipykernel_2244/85417958.py:8: UserWarning: Boolean Series key will be reindexed to match DataFrame index.\n",
      "  temp_stats = all_pitching_stats[all_pitching_stats['team'] == team['Team']][all_pitching_stats['date'].astype(str).str.startswith(str(team['Year']))][all_pitching_stats['gametype'] == 'regular'][pitching_features]\n"
     ]
    },
    {
     "name": "stdout",
     "output_type": "stream",
     "text": [
      "Max WHIP: 0.85\n",
      "Min WHIP: 0.25\n",
      "Max ERA: 6.0\n",
      "Min ERA: 0.0\n",
      "(31, 16)\n",
      "(1, 25, 16)\n",
      "Max WHIP: 0.85\n",
      "Min WHIP: 0.27848101265822783\n",
      "Max ERA: 4.5\n",
      "Min ERA: 0.11392405063291139\n",
      "Index: 250, Year: 2022 Team: SLN, Level of Success: WC\n"
     ]
    },
    {
     "name": "stderr",
     "output_type": "stream",
     "text": [
      "/var/folders/fh/fzyqqz2s1vzcm3v06kz1h29w0000gp/T/ipykernel_2244/85417958.py:8: UserWarning: Boolean Series key will be reindexed to match DataFrame index.\n",
      "  temp_stats = all_pitching_stats[all_pitching_stats['team'] == team['Team']][all_pitching_stats['date'].astype(str).str.startswith(str(team['Year']))][all_pitching_stats['gametype'] == 'regular'][pitching_features]\n",
      "/var/folders/fh/fzyqqz2s1vzcm3v06kz1h29w0000gp/T/ipykernel_2244/85417958.py:8: UserWarning: Boolean Series key will be reindexed to match DataFrame index.\n",
      "  temp_stats = all_pitching_stats[all_pitching_stats['team'] == team['Team']][all_pitching_stats['date'].astype(str).str.startswith(str(team['Year']))][all_pitching_stats['gametype'] == 'regular'][pitching_features]\n"
     ]
    },
    {
     "name": "stdout",
     "output_type": "stream",
     "text": [
      "Max WHIP: 1.3333333333333333\n",
      "Min WHIP: 0.24742268041237114\n",
      "Max ERA: 12.0\n",
      "Min ERA: 0.0\n",
      "(32, 16)\n",
      "(1, 25, 16)\n",
      "Max WHIP: 0.6307692307692307\n",
      "Min WHIP: 0.24742268041237114\n",
      "Max ERA: 2.571428571428571\n",
      "Min ERA: 0.4175257731958763\n",
      "Index: 251, Year: 2022 Team: NYN, Level of Success: WC\n"
     ]
    },
    {
     "name": "stderr",
     "output_type": "stream",
     "text": [
      "/var/folders/fh/fzyqqz2s1vzcm3v06kz1h29w0000gp/T/ipykernel_2244/85417958.py:8: UserWarning: Boolean Series key will be reindexed to match DataFrame index.\n",
      "  temp_stats = all_pitching_stats[all_pitching_stats['team'] == team['Team']][all_pitching_stats['date'].astype(str).str.startswith(str(team['Year']))][all_pitching_stats['gametype'] == 'regular'][pitching_features]\n",
      "/var/folders/fh/fzyqqz2s1vzcm3v06kz1h29w0000gp/T/ipykernel_2244/85417958.py:8: UserWarning: Boolean Series key will be reindexed to match DataFrame index.\n",
      "  temp_stats = all_pitching_stats[all_pitching_stats['team'] == team['Team']][all_pitching_stats['date'].astype(str).str.startswith(str(team['Year']))][all_pitching_stats['gametype'] == 'regular'][pitching_features]\n"
     ]
    },
    {
     "name": "stdout",
     "output_type": "stream",
     "text": [
      "Max WHIP: 2.5\n",
      "Min WHIP: 0.16666666666666666\n",
      "Max ERA: 20.25\n",
      "Min ERA: 0.0\n",
      "(32, 16)\n",
      "(1, 25, 16)\n",
      "Max WHIP: 0.9166666666666666\n",
      "Min WHIP: 0.24870466321243523\n",
      "Max ERA: 5.25\n",
      "Min ERA: 0.0\n",
      "Index: 252, Year: 2022 Team: SDN, Level of Success: LS\n"
     ]
    },
    {
     "name": "stderr",
     "output_type": "stream",
     "text": [
      "/var/folders/fh/fzyqqz2s1vzcm3v06kz1h29w0000gp/T/ipykernel_2244/85417958.py:8: UserWarning: Boolean Series key will be reindexed to match DataFrame index.\n",
      "  temp_stats = all_pitching_stats[all_pitching_stats['team'] == team['Team']][all_pitching_stats['date'].astype(str).str.startswith(str(team['Year']))][all_pitching_stats['gametype'] == 'regular'][pitching_features]\n",
      "/var/folders/fh/fzyqqz2s1vzcm3v06kz1h29w0000gp/T/ipykernel_2244/85417958.py:8: UserWarning: Boolean Series key will be reindexed to match DataFrame index.\n",
      "  temp_stats = all_pitching_stats[all_pitching_stats['team'] == team['Team']][all_pitching_stats['date'].astype(str).str.startswith(str(team['Year']))][all_pitching_stats['gametype'] == 'regular'][pitching_features]\n"
     ]
    },
    {
     "name": "stdout",
     "output_type": "stream",
     "text": [
      "Max WHIP: 1.0\n",
      "Min WHIP: 0.16666666666666666\n",
      "Max ERA: 6.0\n",
      "Min ERA: 0.0\n",
      "(30, 16)\n",
      "(1, 25, 16)\n",
      "Max WHIP: 0.9090909090909091\n",
      "Min WHIP: 0.25\n",
      "Max ERA: 3.272727272727273\n",
      "Min ERA: 0.0\n",
      "Index: 253, Year: 2022 Team: PHI, Level of Success: WS\n"
     ]
    },
    {
     "name": "stderr",
     "output_type": "stream",
     "text": [
      "/var/folders/fh/fzyqqz2s1vzcm3v06kz1h29w0000gp/T/ipykernel_2244/85417958.py:8: UserWarning: Boolean Series key will be reindexed to match DataFrame index.\n",
      "  temp_stats = all_pitching_stats[all_pitching_stats['team'] == team['Team']][all_pitching_stats['date'].astype(str).str.startswith(str(team['Year']))][all_pitching_stats['gametype'] == 'regular'][pitching_features]\n",
      "/var/folders/fh/fzyqqz2s1vzcm3v06kz1h29w0000gp/T/ipykernel_2244/85417958.py:8: UserWarning: Boolean Series key will be reindexed to match DataFrame index.\n",
      "  temp_stats = all_pitching_stats[all_pitching_stats['team'] == team['Team']][all_pitching_stats['date'].astype(str).str.startswith(str(team['Year']))][all_pitching_stats['gametype'] == 'regular'][pitching_features]\n"
     ]
    },
    {
     "name": "stdout",
     "output_type": "stream",
     "text": [
      "Max WHIP: 2.0\n",
      "Min WHIP: 0.16666666666666666\n",
      "Max ERA: 9.0\n",
      "Min ERA: 0.0\n",
      "(33, 16)\n",
      "(1, 25, 16)\n",
      "Max WHIP: 0.6428571428571429\n",
      "Min WHIP: 0.3203252032520325\n",
      "Max ERA: 3.75\n",
      "Min ERA: 0.5806451612903225\n",
      "Index: 254, Year: 2023 Team: BAL, Level of Success: DS\n"
     ]
    },
    {
     "name": "stderr",
     "output_type": "stream",
     "text": [
      "/var/folders/fh/fzyqqz2s1vzcm3v06kz1h29w0000gp/T/ipykernel_2244/85417958.py:8: UserWarning: Boolean Series key will be reindexed to match DataFrame index.\n",
      "  temp_stats = all_pitching_stats[all_pitching_stats['team'] == team['Team']][all_pitching_stats['date'].astype(str).str.startswith(str(team['Year']))][all_pitching_stats['gametype'] == 'regular'][pitching_features]\n",
      "/var/folders/fh/fzyqqz2s1vzcm3v06kz1h29w0000gp/T/ipykernel_2244/85417958.py:8: UserWarning: Boolean Series key will be reindexed to match DataFrame index.\n",
      "  temp_stats = all_pitching_stats[all_pitching_stats['team'] == team['Team']][all_pitching_stats['date'].astype(str).str.startswith(str(team['Year']))][all_pitching_stats['gametype'] == 'regular'][pitching_features]\n"
     ]
    },
    {
     "name": "stdout",
     "output_type": "stream",
     "text": [
      "Max WHIP: 1.3333333333333333\n",
      "Min WHIP: 0.23943661971830985\n",
      "Max ERA: 6.0\n",
      "Min ERA: 0.0\n",
      "(31, 16)\n",
      "(1, 25, 16)\n",
      "Max WHIP: 0.8333333333333334\n",
      "Min WHIP: 0.23943661971830985\n",
      "Max ERA: 3.75\n",
      "Min ERA: 0.4918032786885246\n",
      "Index: 255, Year: 2023 Team: HOU, Level of Success: LS\n"
     ]
    },
    {
     "name": "stderr",
     "output_type": "stream",
     "text": [
      "/var/folders/fh/fzyqqz2s1vzcm3v06kz1h29w0000gp/T/ipykernel_2244/85417958.py:8: UserWarning: Boolean Series key will be reindexed to match DataFrame index.\n",
      "  temp_stats = all_pitching_stats[all_pitching_stats['team'] == team['Team']][all_pitching_stats['date'].astype(str).str.startswith(str(team['Year']))][all_pitching_stats['gametype'] == 'regular'][pitching_features]\n",
      "/var/folders/fh/fzyqqz2s1vzcm3v06kz1h29w0000gp/T/ipykernel_2244/85417958.py:8: UserWarning: Boolean Series key will be reindexed to match DataFrame index.\n",
      "  temp_stats = all_pitching_stats[all_pitching_stats['team'] == team['Team']][all_pitching_stats['date'].astype(str).str.startswith(str(team['Year']))][all_pitching_stats['gametype'] == 'regular'][pitching_features]\n"
     ]
    },
    {
     "name": "stdout",
     "output_type": "stream",
     "text": [
      "Max WHIP: 2.0\n",
      "Min WHIP: 0.05263157894736842\n",
      "Max ERA: 12.0\n",
      "Min ERA: 0.0\n",
      "(24, 16)\n",
      "(1, 25, 16)\n",
      "Max WHIP: 2.0\n",
      "Min WHIP: 0.0\n",
      "Max ERA: 12.0\n",
      "Min ERA: 0.0\n",
      "Index: 256, Year: 2023 Team: MIN, Level of Success: DS\n"
     ]
    },
    {
     "name": "stderr",
     "output_type": "stream",
     "text": [
      "/var/folders/fh/fzyqqz2s1vzcm3v06kz1h29w0000gp/T/ipykernel_2244/85417958.py:8: UserWarning: Boolean Series key will be reindexed to match DataFrame index.\n",
      "  temp_stats = all_pitching_stats[all_pitching_stats['team'] == team['Team']][all_pitching_stats['date'].astype(str).str.startswith(str(team['Year']))][all_pitching_stats['gametype'] == 'regular'][pitching_features]\n",
      "/var/folders/fh/fzyqqz2s1vzcm3v06kz1h29w0000gp/T/ipykernel_2244/85417958.py:8: UserWarning: Boolean Series key will be reindexed to match DataFrame index.\n",
      "  temp_stats = all_pitching_stats[all_pitching_stats['team'] == team['Team']][all_pitching_stats['date'].astype(str).str.startswith(str(team['Year']))][all_pitching_stats['gametype'] == 'regular'][pitching_features]\n"
     ]
    },
    {
     "name": "stdout",
     "output_type": "stream",
     "text": [
      "Max WHIP: 1.0\n",
      "Min WHIP: 0.25\n",
      "Max ERA: 4.5\n",
      "Min ERA: 0.21686746987951808\n",
      "(29, 16)\n",
      "(1, 25, 16)\n",
      "Max WHIP: 0.5575221238938053\n",
      "Min WHIP: 0.3055555555555556\n",
      "Max ERA: 2.103896103896104\n",
      "Min ERA: 0.21686746987951808\n",
      "Index: 257, Year: 2023 Team: TBA, Level of Success: WC\n"
     ]
    },
    {
     "name": "stderr",
     "output_type": "stream",
     "text": [
      "/var/folders/fh/fzyqqz2s1vzcm3v06kz1h29w0000gp/T/ipykernel_2244/85417958.py:8: UserWarning: Boolean Series key will be reindexed to match DataFrame index.\n",
      "  temp_stats = all_pitching_stats[all_pitching_stats['team'] == team['Team']][all_pitching_stats['date'].astype(str).str.startswith(str(team['Year']))][all_pitching_stats['gametype'] == 'regular'][pitching_features]\n",
      "/var/folders/fh/fzyqqz2s1vzcm3v06kz1h29w0000gp/T/ipykernel_2244/85417958.py:8: UserWarning: Boolean Series key will be reindexed to match DataFrame index.\n",
      "  temp_stats = all_pitching_stats[all_pitching_stats['team'] == team['Team']][all_pitching_stats['date'].astype(str).str.startswith(str(team['Year']))][all_pitching_stats['gametype'] == 'regular'][pitching_features]\n"
     ]
    },
    {
     "name": "stdout",
     "output_type": "stream",
     "text": [
      "Max WHIP: 4.0\n",
      "Min WHIP: 0.0\n",
      "Max ERA: 27.0\n",
      "Min ERA: 0.0\n",
      "(40, 16)\n",
      "(1, 25, 16)\n",
      "Max WHIP: 0.5584415584415584\n",
      "Min WHIP: 0.16666666666666666\n",
      "Max ERA: 2.3376623376623376\n",
      "Min ERA: 0.1875\n",
      "Index: 258, Year: 2023 Team: TEX, Level of Success: C\n"
     ]
    },
    {
     "name": "stderr",
     "output_type": "stream",
     "text": [
      "/var/folders/fh/fzyqqz2s1vzcm3v06kz1h29w0000gp/T/ipykernel_2244/85417958.py:8: UserWarning: Boolean Series key will be reindexed to match DataFrame index.\n",
      "  temp_stats = all_pitching_stats[all_pitching_stats['team'] == team['Team']][all_pitching_stats['date'].astype(str).str.startswith(str(team['Year']))][all_pitching_stats['gametype'] == 'regular'][pitching_features]\n",
      "/var/folders/fh/fzyqqz2s1vzcm3v06kz1h29w0000gp/T/ipykernel_2244/85417958.py:8: UserWarning: Boolean Series key will be reindexed to match DataFrame index.\n",
      "  temp_stats = all_pitching_stats[all_pitching_stats['team'] == team['Team']][all_pitching_stats['date'].astype(str).str.startswith(str(team['Year']))][all_pitching_stats['gametype'] == 'regular'][pitching_features]\n"
     ]
    },
    {
     "name": "stdout",
     "output_type": "stream",
     "text": [
      "Max WHIP: 1.1666666666666667\n",
      "Min WHIP: 0.21052631578947367\n",
      "Max ERA: 6.0\n",
      "Min ERA: 0.0\n",
      "(31, 16)\n",
      "(1, 25, 16)\n",
      "Max WHIP: 0.6341463414634146\n",
      "Min WHIP: 0.21052631578947367\n",
      "Max ERA: 3.4285714285714284\n",
      "Min ERA: 0.0\n",
      "Index: 259, Year: 2023 Team: TOR, Level of Success: WC\n"
     ]
    },
    {
     "name": "stderr",
     "output_type": "stream",
     "text": [
      "/var/folders/fh/fzyqqz2s1vzcm3v06kz1h29w0000gp/T/ipykernel_2244/85417958.py:8: UserWarning: Boolean Series key will be reindexed to match DataFrame index.\n",
      "  temp_stats = all_pitching_stats[all_pitching_stats['team'] == team['Team']][all_pitching_stats['date'].astype(str).str.startswith(str(team['Year']))][all_pitching_stats['gametype'] == 'regular'][pitching_features]\n",
      "/var/folders/fh/fzyqqz2s1vzcm3v06kz1h29w0000gp/T/ipykernel_2244/85417958.py:8: UserWarning: Boolean Series key will be reindexed to match DataFrame index.\n",
      "  temp_stats = all_pitching_stats[all_pitching_stats['team'] == team['Team']][all_pitching_stats['date'].astype(str).str.startswith(str(team['Year']))][all_pitching_stats['gametype'] == 'regular'][pitching_features]\n"
     ]
    },
    {
     "name": "stdout",
     "output_type": "stream",
     "text": [
      "Max WHIP: 1.0833333333333333\n",
      "Min WHIP: 0.0\n",
      "Max ERA: 6.75\n",
      "Min ERA: 0.0\n",
      "(26, 16)\n",
      "(1, 25, 16)\n",
      "Max WHIP: 1.0833333333333333\n",
      "Min WHIP: 0.27522935779816515\n",
      "Max ERA: 6.75\n",
      "Min ERA: 0.50625\n",
      "Index: 260, Year: 2023 Team: ATL, Level of Success: DS\n"
     ]
    },
    {
     "name": "stderr",
     "output_type": "stream",
     "text": [
      "/var/folders/fh/fzyqqz2s1vzcm3v06kz1h29w0000gp/T/ipykernel_2244/85417958.py:8: UserWarning: Boolean Series key will be reindexed to match DataFrame index.\n",
      "  temp_stats = all_pitching_stats[all_pitching_stats['team'] == team['Team']][all_pitching_stats['date'].astype(str).str.startswith(str(team['Year']))][all_pitching_stats['gametype'] == 'regular'][pitching_features]\n",
      "/var/folders/fh/fzyqqz2s1vzcm3v06kz1h29w0000gp/T/ipykernel_2244/85417958.py:8: UserWarning: Boolean Series key will be reindexed to match DataFrame index.\n",
      "  temp_stats = all_pitching_stats[all_pitching_stats['team'] == team['Team']][all_pitching_stats['date'].astype(str).str.startswith(str(team['Year']))][all_pitching_stats['gametype'] == 'regular'][pitching_features]\n"
     ]
    },
    {
     "name": "stdout",
     "output_type": "stream",
     "text": [
      "Max WHIP: 4.0\n",
      "Min WHIP: 0.29577464788732394\n",
      "Max ERA: 36.0\n",
      "Min ERA: 0.2535211267605634\n",
      "(32, 16)\n",
      "(1, 25, 16)\n",
      "Max WHIP: 0.6310679611650486\n",
      "Min WHIP: 0.29577464788732394\n",
      "Max ERA: 3.08955223880597\n",
      "Min ERA: 0.2535211267605634\n",
      "Index: 261, Year: 2023 Team: LAN, Level of Success: DS\n"
     ]
    },
    {
     "name": "stderr",
     "output_type": "stream",
     "text": [
      "/var/folders/fh/fzyqqz2s1vzcm3v06kz1h29w0000gp/T/ipykernel_2244/85417958.py:8: UserWarning: Boolean Series key will be reindexed to match DataFrame index.\n",
      "  temp_stats = all_pitching_stats[all_pitching_stats['team'] == team['Team']][all_pitching_stats['date'].astype(str).str.startswith(str(team['Year']))][all_pitching_stats['gametype'] == 'regular'][pitching_features]\n",
      "/var/folders/fh/fzyqqz2s1vzcm3v06kz1h29w0000gp/T/ipykernel_2244/85417958.py:8: UserWarning: Boolean Series key will be reindexed to match DataFrame index.\n",
      "  temp_stats = all_pitching_stats[all_pitching_stats['team'] == team['Team']][all_pitching_stats['date'].astype(str).str.startswith(str(team['Year']))][all_pitching_stats['gametype'] == 'regular'][pitching_features]\n"
     ]
    },
    {
     "name": "stdout",
     "output_type": "stream",
     "text": [
      "Max WHIP: 3.0\n",
      "Min WHIP: 0.0\n",
      "Max ERA: 27.0\n",
      "Min ERA: 0.0\n",
      "(39, 16)\n",
      "(1, 25, 16)\n",
      "Max WHIP: 0.6344086021505376\n",
      "Min WHIP: 0.2413793103448276\n",
      "Max ERA: 3.0\n",
      "Min ERA: 0.23275862068965517\n",
      "Index: 262, Year: 2023 Team: MIL, Level of Success: WC\n"
     ]
    },
    {
     "name": "stderr",
     "output_type": "stream",
     "text": [
      "/var/folders/fh/fzyqqz2s1vzcm3v06kz1h29w0000gp/T/ipykernel_2244/85417958.py:8: UserWarning: Boolean Series key will be reindexed to match DataFrame index.\n",
      "  temp_stats = all_pitching_stats[all_pitching_stats['team'] == team['Team']][all_pitching_stats['date'].astype(str).str.startswith(str(team['Year']))][all_pitching_stats['gametype'] == 'regular'][pitching_features]\n",
      "/var/folders/fh/fzyqqz2s1vzcm3v06kz1h29w0000gp/T/ipykernel_2244/85417958.py:8: UserWarning: Boolean Series key will be reindexed to match DataFrame index.\n",
      "  temp_stats = all_pitching_stats[all_pitching_stats['team'] == team['Team']][all_pitching_stats['date'].astype(str).str.startswith(str(team['Year']))][all_pitching_stats['gametype'] == 'regular'][pitching_features]\n"
     ]
    },
    {
     "name": "stdout",
     "output_type": "stream",
     "text": [
      "Max WHIP: 2.0\n",
      "Min WHIP: 0.1111111111111111\n",
      "Max ERA: 9.0\n",
      "Min ERA: 0.0\n",
      "(34, 16)\n",
      "(1, 25, 16)\n",
      "Max WHIP: 0.8846153846153846\n",
      "Min WHIP: 0.2736318407960199\n",
      "Max ERA: 3.8076923076923075\n",
      "Min ERA: 0.0\n",
      "Index: 263, Year: 2023 Team: PHI, Level of Success: LS\n"
     ]
    },
    {
     "name": "stderr",
     "output_type": "stream",
     "text": [
      "/var/folders/fh/fzyqqz2s1vzcm3v06kz1h29w0000gp/T/ipykernel_2244/85417958.py:8: UserWarning: Boolean Series key will be reindexed to match DataFrame index.\n",
      "  temp_stats = all_pitching_stats[all_pitching_stats['team'] == team['Team']][all_pitching_stats['date'].astype(str).str.startswith(str(team['Year']))][all_pitching_stats['gametype'] == 'regular'][pitching_features]\n",
      "/var/folders/fh/fzyqqz2s1vzcm3v06kz1h29w0000gp/T/ipykernel_2244/85417958.py:8: UserWarning: Boolean Series key will be reindexed to match DataFrame index.\n",
      "  temp_stats = all_pitching_stats[all_pitching_stats['team'] == team['Team']][all_pitching_stats['date'].astype(str).str.startswith(str(team['Year']))][all_pitching_stats['gametype'] == 'regular'][pitching_features]\n"
     ]
    },
    {
     "name": "stdout",
     "output_type": "stream",
     "text": [
      "Max WHIP: 2.0\n",
      "Min WHIP: 0.25\n",
      "Max ERA: 12.0\n",
      "Min ERA: 0.5625\n",
      "(26, 16)\n",
      "(1, 25, 16)\n",
      "Max WHIP: 2.0\n",
      "Min WHIP: 0.25\n",
      "Max ERA: 9.0\n",
      "Min ERA: 0.5625\n",
      "Index: 264, Year: 2023 Team: MIA, Level of Success: WC\n"
     ]
    },
    {
     "name": "stderr",
     "output_type": "stream",
     "text": [
      "/var/folders/fh/fzyqqz2s1vzcm3v06kz1h29w0000gp/T/ipykernel_2244/85417958.py:8: UserWarning: Boolean Series key will be reindexed to match DataFrame index.\n",
      "  temp_stats = all_pitching_stats[all_pitching_stats['team'] == team['Team']][all_pitching_stats['date'].astype(str).str.startswith(str(team['Year']))][all_pitching_stats['gametype'] == 'regular'][pitching_features]\n",
      "/var/folders/fh/fzyqqz2s1vzcm3v06kz1h29w0000gp/T/ipykernel_2244/85417958.py:8: UserWarning: Boolean Series key will be reindexed to match DataFrame index.\n",
      "  temp_stats = all_pitching_stats[all_pitching_stats['team'] == team['Team']][all_pitching_stats['date'].astype(str).str.startswith(str(team['Year']))][all_pitching_stats['gametype'] == 'regular'][pitching_features]\n"
     ]
    },
    {
     "name": "stdout",
     "output_type": "stream",
     "text": [
      "Max WHIP: 3.0\n",
      "Min WHIP: 0.32905982905982906\n",
      "Max ERA: 13.5\n",
      "Min ERA: 0.0\n",
      "(32, 16)\n",
      "(1, 25, 16)\n",
      "Max WHIP: 0.8285714285714286\n",
      "Min WHIP: 0.32905982905982906\n",
      "Max ERA: 3.789473684210526\n",
      "Min ERA: 0.7692307692307693\n",
      "Index: 265, Year: 2023 Team: ARI, Level of Success: WS\n",
      "Max WHIP: 1.1666666666666667\n",
      "Min WHIP: 0.0\n",
      "Max ERA: 6.0\n",
      "Min ERA: 0.0\n",
      "(34, 16)\n",
      "(1, 25, 16)\n",
      "Max WHIP: 0.8\n",
      "Min WHIP: 0.1794871794871795\n",
      "Max ERA: 4.2\n",
      "Min ERA: 0.0\n"
     ]
    },
    {
     "name": "stderr",
     "output_type": "stream",
     "text": [
      "/var/folders/fh/fzyqqz2s1vzcm3v06kz1h29w0000gp/T/ipykernel_2244/85417958.py:8: UserWarning: Boolean Series key will be reindexed to match DataFrame index.\n",
      "  temp_stats = all_pitching_stats[all_pitching_stats['team'] == team['Team']][all_pitching_stats['date'].astype(str).str.startswith(str(team['Year']))][all_pitching_stats['gametype'] == 'regular'][pitching_features]\n",
      "/var/folders/fh/fzyqqz2s1vzcm3v06kz1h29w0000gp/T/ipykernel_2244/85417958.py:8: UserWarning: Boolean Series key will be reindexed to match DataFrame index.\n",
      "  temp_stats = all_pitching_stats[all_pitching_stats['team'] == team['Team']][all_pitching_stats['date'].astype(str).str.startswith(str(team['Year']))][all_pitching_stats['gametype'] == 'regular'][pitching_features]\n"
     ]
    }
   ],
   "source": [
    "max_players = 25\n",
    "num_features = len(pitching_features_final)\n",
    "\n",
    "all_seasons = np.empty([0, max_players, num_features])\n",
    "\n",
    "for index, team in teams.iterrows():\n",
    "    print(f\"Index: {index}, Year: {team['Year']} Team: {team['Team']}, Level of Success: {team['Level of Success']}\")\n",
    "    temp_stats = all_pitching_stats[all_pitching_stats['team'] == team['Team']][all_pitching_stats['date'].astype(str).str.startswith(str(team['Year']))][all_pitching_stats['gametype'] == 'regular'][pitching_features]\n",
    "    temp_stats = temp_stats.groupby(by='id').sum()\n",
    "\n",
    "    # (Total number of walks + Total number of hits) / Total number of innings pitched\n",
    "    temp_stats['whip'] = (temp_stats['p_w'] + temp_stats['p_h']) / temp_stats['p_ipouts']\n",
    "    # (Earned Runs / Innings Pitched) x 9\n",
    "    temp_stats['era'] = (temp_stats['p_er'] / temp_stats['p_ipouts']) * 9\n",
    "\n",
    "    temp_stats = temp_stats.sort_values(by=['p_ipouts', 'era'], ascending=[False, True])\n",
    "    temp_stats = temp_stats.drop(columns=['p_ipouts', 'p_er', 'p_h', 'p_w'])\n",
    "    print('Max WHIP:', np.max(temp_stats['whip']))\n",
    "    print('Min WHIP:', np.min(temp_stats['whip']))\n",
    "    print('Max ERA:', np.max(temp_stats['era']))\n",
    "    print('Min ERA:', np.min(temp_stats['era']))\n",
    "    # print(temp_stats.columns)\n",
    "    temp_stats = temp_stats.to_numpy()\n",
    "    print(temp_stats.shape)\n",
    "\n",
    "    padding = max_players - temp_stats.shape[0]\n",
    "    if padding > 0:\n",
    "        temp_stats = np.pad(temp_stats, ((0, padding), (0, 0)), mode='constant')\n",
    "    elif padding < 0:\n",
    "        temp_stats = temp_stats[:max_players,]\n",
    "    temp_stats = np.reshape(temp_stats, (1, max_players, num_features))\n",
    "\n",
    "    print(temp_stats.shape)\n",
    "    print('Max WHIP:', np.max(temp_stats[0,:,-2]))\n",
    "    print('Min WHIP:', np.min(temp_stats[0,:,-2]))\n",
    "    print('Max ERA:', np.max(temp_stats[0,:,-1]))\n",
    "    print('Min ERA:', np.min(temp_stats[0,:,-1]))\n",
    "    all_seasons = np.vstack((all_seasons, temp_stats))\n",
    "\n",
    "# with open('all_pitching_data.pkl', 'wb') as file:\n",
    "#     pickle.dump(all_seasons, file)\n",
    "\n",
    "# print(\"Data saved to 'all_pitching_data.pkl'\")"
   ]
  },
  {
   "cell_type": "code",
   "execution_count": null,
   "metadata": {},
   "outputs": [],
   "source": []
  }
 ],
 "metadata": {
  "kernelspec": {
   "display_name": "stat486venv",
   "language": "python",
   "name": "python3"
  },
  "language_info": {
   "codemirror_mode": {
    "name": "ipython",
    "version": 3
   },
   "file_extension": ".py",
   "mimetype": "text/x-python",
   "name": "python",
   "nbconvert_exporter": "python",
   "pygments_lexer": "ipython3",
   "version": "3.11.5"
  }
 },
 "nbformat": 4,
 "nbformat_minor": 2
}
