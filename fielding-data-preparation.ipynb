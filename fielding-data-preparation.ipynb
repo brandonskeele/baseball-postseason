{
 "cells": [
  {
   "cell_type": "code",
   "execution_count": 1,
   "metadata": {},
   "outputs": [],
   "source": [
    "### Import Packages\n",
    "\n",
    "import pandas as pd\n",
    "import numpy as np\n",
    "import os\n",
    "import pickle"
   ]
  },
  {
   "cell_type": "code",
   "execution_count": 2,
   "metadata": {},
   "outputs": [
    {
     "name": "stderr",
     "output_type": "stream",
     "text": [
      "/var/folders/fh/fzyqqz2s1vzcm3v06kz1h29w0000gp/T/ipykernel_8324/2140893708.py:2: DtypeWarning: Columns (3,4,19) have mixed types. Specify dtype option on import or set low_memory=False.\n",
      "  all_fielding_stats = pd.read_csv('baseball_data/fielding.csv')\n"
     ]
    }
   ],
   "source": [
    "### Read in all fielding data\n",
    "\n",
    "teams = pd.read_csv('playoff_teams.csv')\n",
    "all_fielding_stats = pd.read_csv('baseball_data/fielding.csv')"
   ]
  },
  {
   "cell_type": "code",
   "execution_count": 3,
   "metadata": {},
   "outputs": [],
   "source": [
    "### Select features\n",
    "\n",
    "# Features used before feature engineering\n",
    "fielding_features = ['id', 'd_pos', 'd_ifouts', 'd_po', 'd_a', 'd_e', 'd_dp', 'd_tp', 'd_pb', 'd_sb', 'd_cs']\n",
    "# Final feature selection\n",
    "fielding_features_final = ['d_ifouts', 'd_po', 'd_a', 'd_e', 'd_dp', 'd_tp', 'd_pb', 'd_sb', 'd_cs', 'n_pos']"
   ]
  },
  {
   "cell_type": "code",
   "execution_count": null,
   "metadata": {},
   "outputs": [],
   "source": [
    "### Loop through all playoff teams and save data\n",
    "\n",
    "# Define number of players in list\n",
    "max_players = 25\n",
    "num_features = len(fielding_features_final)\n",
    "\n",
    "all_seasons = np.empty([0, max_players, num_features])\n",
    "\n",
    "## Start loop\n",
    "for index, team in teams.iterrows():\n",
    "    print(f\"Index: {index}, Year: {team['Year']} Team: {team['Team']}, Level of Success: {team['Level of Success']}\")\n",
    "    # Filter all stats to appropriate team\n",
    "    temp_stats = all_fielding_stats[all_fielding_stats['team'] == team['Team']][all_fielding_stats['date'].astype(str).str.startswith(str(team['Year']))][all_fielding_stats['gametype'] == 'regular'][fielding_features]\n",
    "    n_pos = temp_stats[['id', 'd_pos']].groupby(by='id').nunique()\n",
    "    temp_stats = temp_stats.groupby(by='id').sum()\n",
    "\n",
    "    ## Feature Engineering\n",
    "    # Total number of hits / Total number of at-bats\n",
    "    temp_stats['n_pos'] = n_pos\n",
    "\n",
    "    # Sort players by total number of outs played and then by total number of errors\n",
    "    # This will place the most-used players at the top of the list and the worst performing players on top in case of a tie.\n",
    "    temp_stats = temp_stats.sort_values(by=['d_ifouts', 'd_e'], ascending=[False, False])\n",
    "    temp_stats = temp_stats.drop(columns=['d_pos'])\n",
    "    temp_stats = temp_stats.to_numpy()\n",
    "\n",
    "    # Adding padding to teams which used fewer than max_players for fielding throughout the season\n",
    "    padding = max_players - temp_stats.shape[0]\n",
    "    if padding > 0:\n",
    "        temp_stats = np.pad(temp_stats, ((0, padding), (0, 0)), mode='constant')\n",
    "    elif padding < 0:\n",
    "        temp_stats = temp_stats[:max_players,]\n",
    "    temp_stats = np.reshape(temp_stats, (1, max_players, num_features))\n",
    "\n",
    "    all_seasons = np.vstack((all_seasons, temp_stats))\n",
    "\n",
    "# Save data to .pkl file\n",
    "with open('all_fielding_data.pkl', 'wb') as file:\n",
    "    pickle.dump(all_seasons, file)\n",
    "\n",
    "print(\"Data saved to 'all_fielding_data.pkl'\")"
   ]
  },
  {
   "cell_type": "code",
   "execution_count": null,
   "metadata": {},
   "outputs": [],
   "source": []
  }
 ],
 "metadata": {
  "kernelspec": {
   "display_name": "stat486venv",
   "language": "python",
   "name": "python3"
  },
  "language_info": {
   "codemirror_mode": {
    "name": "ipython",
    "version": 3
   },
   "file_extension": ".py",
   "mimetype": "text/x-python",
   "name": "python",
   "nbconvert_exporter": "python",
   "pygments_lexer": "ipython3",
   "version": "3.11.5"
  }
 },
 "nbformat": 4,
 "nbformat_minor": 2
}
