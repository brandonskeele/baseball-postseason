{
 "cells": [
  {
   "cell_type": "code",
   "execution_count": 77,
   "metadata": {},
   "outputs": [],
   "source": [
    "# Import Packages\n",
    "\n",
    "import pandas as pd\n",
    "import numpy as np\n",
    "import os\n",
    "import pickle"
   ]
  },
  {
   "cell_type": "code",
   "execution_count": 22,
   "metadata": {},
   "outputs": [],
   "source": [
    "# # Defining Playoff Teams and Success\n",
    "# information = [[1995, 'Boston Red Sox', 'DS'],\n",
    "#                [1995, 'Cleveland Indians', 'WS'],\n",
    "#                [1995, 'Seattle Mariners', 'LS'],\n",
    "#                [1995, 'New York Yankees', 'DS'],\n",
    "#                [1995, 'Atlanta Braves', 'C'],\n",
    "#                [1995, 'Cincinnati Reds', 'LS'],\n",
    "#                [1995, 'Los Angeles Dodgers', 'DS'], \n",
    "#                [1995, 'Colorado Rockies', 'DS'],\n",
    "#                [1996, 'New York Yankees', 'C'],\n",
    "#                [1996, 'Cleveland Indians', 'DS'],\n",
    "#                [1996, 'Texas Rangers', 'DS'],\n",
    "#                [1996, 'Baltimore Orioles', 'LS'],\n",
    "#                [1996, 'Atlanta Braves', 'WS'],\n",
    "#                [1996, 'St. Louis Cardinals', 'LS'],\n",
    "#                [1996, 'San Diego Padres', 'DS'],\n",
    "#                [1996, 'Los Angeles Dodgers', 'DS'],\n",
    "#                [1997, 'Baltimore Orioles', 'LS'],\n",
    "#                [1997, 'Cleveland Indians', 'WS'],\n",
    "#                [1997, 'Seattle Mariners', 'DS'],\n",
    "#                [1997, 'New York Yankees', 'DS'],\n",
    "#                [1997, 'Atlanta Braves', 'LS'],\n",
    "#                [1997, 'Houston Astros', 'DS'],\n",
    "#                [1997, 'San Francisco Giants', 'DS'],\n",
    "#                [1997, 'Florida Marlins', 'C'],\n",
    "#                [1998, 'New York Yankees', 'C'],\n",
    "#                [1998, 'Cleveland Indians', 'LS'],\n",
    "#                [1998, 'Texas Rangers', 'DS'],\n",
    "#                [1998, 'Boston Red Sox', 'DS'],\n",
    "#                [1998, 'Atlanta Braves', 'LS'],\n",
    "#                [1998, 'Houston Astros', 'DS'],\n",
    "#                [1998, 'San Diego Padres', 'WS'],\n",
    "#                [1998, 'Chicago Cubs', 'DS'],\n",
    "#                [1999, 'New York Yankees', 'C'],\n",
    "#                [1999, 'Cleveland Indians', 'DS'],\n",
    "#                [1999, 'Texas Rangers', 'DS'],\n",
    "#                [1999, 'Boston Red Sox', 'LS'],\n",
    "#                [1999, 'Atlanta Braves', 'WS'],\n",
    "#                [1999, 'Arizona Diamondbacks', 'DS'],\n",
    "#                [1999, 'Houston Astros', 'DS'],\n",
    "#                [1999, 'New York Mets', 'LS'],\n",
    "#                [2000, 'Chicago White Sox', 'DS'],\n",
    "#                [2000, 'Oakland Athletics', 'DS'],\n",
    "#                [2000, 'New York Yankees', 'C'],\n",
    "#                [2000, 'Seattle Mariners', 'LS'],\n",
    "#                [2000, 'San Francisco Giants', 'DS'],\n",
    "#                [2000, 'St. Louis Cardinals', 'LS'],\n",
    "#                [2000, 'Atlanta Braves', 'DS'],\n",
    "#                [2000, 'New York Mets', 'WS'],\n",
    "#                [2001, 'Seattle Mariners', 'LS'],\n",
    "#                [2001, 'Cleveland Indians', 'DS'],\n",
    "#                [2001, 'New York Yankees', 'WS'],\n",
    "#                [2001, 'Oakland Athletics', 'DS'],\n",
    "#                [2001, 'Houston Astros', 'DS'],\n",
    "#                [2001, 'Arizona Diamondbacks', 'C'],\n",
    "#                [2001, 'Atlanta Braves', 'LS'],\n",
    "#                [2001, 'St. Louis Cardinals', 'DS'],\n",
    "#                [2002, 'New York Yankees', 'DS'],\n",
    "#                [2002, 'Oakland Athletics', 'DS'],\n",
    "#                [2002, 'Minnesota Twins', 'LS'],\n",
    "#                [2002, 'Los Angeles Angels', 'C'],\n",
    "#                [2002, 'Atlanta Braves', 'DS'],\n",
    "#                [2002, 'Arizona Diamondbacks', 'DS'],\n",
    "#                [2002, 'St. Louis Cardinals', 'LS'],\n",
    "#                [2002, 'San Francisco Giants', 'WS'],\n",
    "#                [2003, 'New York Yankees', 'WS'],\n",
    "#                [2003, 'Oakland Athletics', 'DS'],\n",
    "#                [2003, 'Minnesota Twins', 'DS'],\n",
    "#                [2003, 'Boston Red Sox', 'LS'],\n",
    "#                [2003, 'Atlanta Braves', 'DS'],\n",
    "#                [2003, 'San Francisco Giants', 'DS'],\n",
    "#                [2003, 'Chicago Cubs', 'LS'],\n",
    "#                [2003, 'Florida Marlins', 'C'],\n",
    "#                [2004, 'New York Yankees', 'LS'],\n",
    "#                [2004, 'Los Angeles Angels', 'DS'],\n",
    "#                [2004, 'Minnesota Twins', 'DS'],\n",
    "#                [2004, 'Boston Red Sox', 'C'],\n",
    "#                [2004, 'St. Louis Cardinals', 'WS'],\n",
    "#                [2004, 'Atlanta Braves', 'DS'],\n",
    "#                [2004, 'Los Angeles Dodgers', 'DS'],\n",
    "#                [2004, 'Houston Astros', 'LS'],\n",
    "#                [2005, 'Chicago White Sox', 'C'],\n",
    "#                [2005, 'Los Angeles Angels', 'LS'],\n",
    "#                [2005, 'New York Yankees', 'DS'],\n",
    "#                [2005, 'Boston Red Sox', 'DS'],\n",
    "#                [2005, 'St. Louis Cardinals', 'LS'],\n",
    "#                [2005, 'Atlanta Braves', 'DS'],\n",
    "#                [2005, 'San Diego Padres', 'DS'],\n",
    "#                [2005, 'Houston Astros', 'WS'],\n",
    "#                [2006, 'New York Yankees', 'DS'],\n",
    "#                [2006, 'Minnesota Twins', 'DS'],\n",
    "#                [2006, 'Oakland Athletics', 'LS'],\n",
    "#                [2006, 'Detroit Tigers', 'WS'],\n",
    "#                [2006, 'New York Mets', 'LS'],\n",
    "#                [2006, 'San Diego Padres', 'DS'],\n",
    "#                [2006, 'St. Louis Cardinals', 'C'],\n",
    "#                [2006, 'Los Angeles Dodgers', 'DS'],\n",
    "#                [2007, 'Boston Red Sox', 'C'],\n",
    "#                [2007, 'Cleveland Indians', 'LS'],\n",
    "#                [2007, 'Los Angeles Angels', 'DS'],\n",
    "#                [2007, 'New York Yankees', 'DS'],\n",
    "#                [2007, 'Arizona Diamondbacks', 'LS'],\n",
    "#                [2007, 'Philadelphia Phillies', 'DS'],\n",
    "#                [2007, 'Chicago Cubs', 'DS'],\n",
    "#                [2007, 'Colorado Rockies', 'WS'],\n",
    "#                [2008, 'Los Angeles Angels', 'DS'],\n",
    "#                [2008, 'Tampa Bay Rays', 'WS'],\n",
    "#                [2008, 'Chicago White Sox', 'DS'],\n",
    "#                [2008, 'Boston Red Sox', 'LS'],\n",
    "#                [2008, 'Chicago Cubs', 'DS'],\n",
    "#                [2008, 'Philadelphia Phillies', 'C'],\n",
    "#                [2008, 'Los Angeles Dodgers', 'LS'],\n",
    "#                [2008, 'Milwaukee Brewers', 'DS'],\n",
    "#                [2009, 'New York Yankees', 'C'],\n",
    "#                [2009, 'Los Angeles Angels', 'LS'],\n",
    "#                [2009, 'Minnesota Twins', 'DS'],\n",
    "#                [2009, 'Boston Red Sox', 'DS'],\n",
    "#                [2009, 'Los Angeles Dodgers', 'LS'],\n",
    "#                [2009, 'Philadelphia Phillies', 'WS'],\n",
    "#                [2009, 'St. Louis Cardinals', 'DS'],\n",
    "#                [2009, 'Colorado Rockies', 'DS'],\n",
    "#                [2010, 'Tampa Bay Rays', 'DS'],\n",
    "#                [2010, 'Minnesota Twins', 'DS'],\n",
    "#                [2010, 'Texas Rangers', 'WS'],\n",
    "#                [2010, 'New York Yankees', 'LS'],\n",
    "#                [2010, 'Philadelphia Phillies', 'LS'],\n",
    "#                [2010, 'San Francisco Giants', 'C'],\n",
    "#                [2010, 'Cincinnati Reds', 'DS'],\n",
    "#                [2010, 'Atlanta Braves', 'DS'],\n",
    "#                [2011, 'New York Yankees', 'DS'],\n",
    "#                [2011, 'Texas Rangers', 'WS'],\n",
    "#                [2011, 'Detroit Tigers', 'LS'],\n",
    "#                [2011, 'Tampa Bay Rays', 'DS'],\n",
    "#                [2011, 'Philadelphia Phillies', 'DS'],\n",
    "#                [2011, 'Milwaukee Brewers', 'LS'],\n",
    "#                [2011, 'Arizona Diamondbacks', 'DS'],\n",
    "#                [2011, 'St. Louis Cardinals', 'C'],\n",
    "#                [2012, 'New York Yankees', 'LS'],\n",
    "#                [2012, 'Oakland Athletics', 'DS'],\n",
    "#                [2012, 'Detroit Tigers', 'WS'],\n",
    "#                [2012, 'Texas Rangers', 'WC'],\n",
    "#                [2012, 'Baltimore Orioles', 'DS'],\n",
    "#                [2012, 'Washington Nationals', 'DS'],\n",
    "#                [2012, 'Cincinnati Reds', 'DS'],\n",
    "#                [2012, 'San Francisco Giants', 'C'],\n",
    "#                [2012, 'Atlanta Braves', 'WC'],\n",
    "#                [2012, 'St. Louis Cardinals', 'LS'],\n",
    "#                [2013, 'Boston Red Sox', 'C'],\n",
    "#                [2013, 'Oakland Athletics', 'DS'],\n",
    "#                [2013, 'Detroit Tigers', 'LS'],\n",
    "#                [2013, 'Cleveland Indians', 'WC'],\n",
    "#                [2013, 'Tampa Bay Rays', 'DS'],\n",
    "#                [2013, 'St. Louis Cardinals', 'WS'],\n",
    "#                [2013, 'Atlanta Braves', 'DS'],\n",
    "#                [2013, 'Los Angeles Dodgers', 'LS'],\n",
    "#                [2013, 'Pittsburgh Pirates', 'DS'],\n",
    "#                [2013, 'Cincinnati Reds', 'WC'],\n",
    "#                [2014, 'Los Angeles Angels', 'DS'],\n",
    "#                [2014, 'Baltimore Orioles', 'LS'],\n",
    "#                [2014, 'Detroit Tigers', 'DS'],\n",
    "#                [2014, 'Kansas City Royals', 'WS'],\n",
    "#                [2014, 'Oakland Athletics', 'WC'],\n",
    "#                [2014, 'Washington Nationals', 'DS'],\n",
    "#                [2014, 'Los Angeles Dodgers', 'DS'],\n",
    "#                [2014, 'St. Louis Cardinals', 'LS'],\n",
    "#                [2014, 'Pittsburgh Pirates', 'WC'],\n",
    "#                [2014, 'San Francisco Giants', 'C'],\n",
    "#                [2015, 'Kansas City Royals', 'C'],\n",
    "#                [2015, 'Toronto Blue Jays', 'LS'],\n",
    "#                [2015, 'Texas Rangers', 'DS'],\n",
    "#                [2015, 'New York Yankees', 'WC'],\n",
    "#                [2015, 'Houston Astros', 'DS'],\n",
    "#                [2015, 'St. Louis Cardinals', 'DS'],\n",
    "#                [2015, 'Los Angeles Dodgers', 'DS'],\n",
    "#                [2015, 'New York Mets', 'WS'],\n",
    "#                [2015, 'Pittsburgh Pirates', 'WC'],\n",
    "#                [2015, 'Chicago Cubs', 'LS'],\n",
    "#                [2016, 'Texas Rangers', 'DS'],\n",
    "#                [2016, 'Cleveland Indians', 'WS'],\n",
    "#                [2016, 'Boston Red Sox', 'DS'],\n",
    "#                [2016, 'Toronto Blue Jays', 'LS'],\n",
    "#                [2016, 'Baltimore Orioles', 'WC'],\n",
    "#                [2016, 'Chicago Cubs', 'C'],\n",
    "#                [2016, 'Washington Nationals', 'DS'],\n",
    "#                [2016, 'Los Angeles Dodgers', 'LS'],\n",
    "#                [2016, 'New York Mets', 'WC'],\n",
    "#                [2016, 'San Francisco Giants', 'DS'],\n",
    "#                [2017, 'Cleveland Indians', 'DS'],\n",
    "#                [2017, 'Houston Astros', 'C'],\n",
    "#                [2017, 'Boston Red Sox', 'DS'],\n",
    "#                [2017, 'New York Yankees', 'LS'],\n",
    "#                [2017, 'Minnesota Twins', 'WC'],\n",
    "#                [2017, 'Los Angeles Dodgers', 'WS'],\n",
    "#                [2017, 'Washington Nationals', 'DS'],\n",
    "#                [2017, 'Chicago Cubs', 'LS'],\n",
    "#                [2017, 'Arizona Diamondbacks', 'DS'],\n",
    "#                [2017, 'Colorado Rockies', 'WC'],\n",
    "#                [2018, 'Boston Red Sox', 'C'],\n",
    "#                [2018, 'Houston Astros', 'LS'],\n",
    "#                [2018, 'Cleveland Indians', 'DS'],\n",
    "#                [2018, 'New York Yankees', 'DS'],\n",
    "#                [2018, 'Oakland Athletics', 'WC'],\n",
    "#                [2018, 'Milwaukee Brewers', 'LS'],\n",
    "#                [2018, 'Los Angeles Dodgers', 'WS'],\n",
    "#                [2018, 'Atlanta Braves', 'DS'],\n",
    "#                [2018, 'Chicago Cubs', 'WC'],\n",
    "#                [2018, 'Colorado Rockies', 'DS'],\n",
    "#                [2019, 'Houston Astros', 'WS'],\n",
    "#                [2019, 'New York Yankees', 'LS'],\n",
    "#                [2019, 'Minnesota Twins', 'DS'],\n",
    "#                [2019, 'Oakland Athletics', 'WC'],\n",
    "#                [2019, 'Tampa Bay Rays', 'DS'],\n",
    "#                [2019, 'Los Angeles Dodgers', 'DS'],\n",
    "#                [2019, 'Atlanta Braves', 'DS'],\n",
    "#                [2019, 'St. Louis Cardinals', 'LS'],\n",
    "#                [2019, 'Washington Nationals', 'C'],\n",
    "#                [2019, 'Milwaukee Brewers', 'WC'],\n",
    "#                [2020, 'Tampa Bay Rays', 'WS'],\n",
    "#                [2020, 'Oakland Athletics', 'DS'],\n",
    "#                [2020, 'Minnesota Twins', 'WC'],\n",
    "#                [2020, 'Cleveland Indians', 'WC'],\n",
    "#                [2020, 'New York Yankees', 'DS'],\n",
    "#                [2020, 'Houston Astros', 'LS'],\n",
    "#                [2020, 'Chicago White Sox', 'WC'],\n",
    "#                [2020, 'Toronto Blue Jays', 'WC'],\n",
    "#                [2020, 'Los Angeles Dodgers', 'C'],\n",
    "#                [2020, 'Atlanta Braves', 'LS'],\n",
    "#                [2020, 'Chicago Cubs', 'WC'],\n",
    "#                [2020, 'San Diego Padres', 'DS'],\n",
    "#                [2020, 'St. Louis Cardinals', 'WC'],\n",
    "#                [2020, 'Miami Marlins', 'DS'],\n",
    "#                [2020, 'Cincinnati Reds', 'WC'], \n",
    "#                [2020, 'Milwaukee Brewers', 'WC'],\n",
    "#                [2021, 'Tampa Bay Rays', 'DS'],\n",
    "#                [2021, 'Houston Astros', 'WS'],\n",
    "#                [2021, 'Chicago White Sox', 'DS'],\n",
    "#                [2021, 'Boston Red Sox', 'LS'],\n",
    "#                [2021, 'New York Yankees', 'WC'],\n",
    "#                [2021, 'San Francisco Giants', 'DS'],\n",
    "#                [2021, 'Milwaukee Brewers', 'DS'],\n",
    "#                [2021, 'Atlanta Braves', 'C'],\n",
    "#                [2021, 'Los Angeles Dodgers', 'LS'],\n",
    "#                [2021, 'St. Louis Cardinals', 'WC'],\n",
    "#                [2022, 'Houston Astros', 'C'],\n",
    "#                [2022, 'New York Yankees', 'LS'],\n",
    "#                [2022, 'Cleveland Guardians', 'DS'],\n",
    "#                [2022, 'Toronto Blue Jays', 'WC'],\n",
    "#                [2022, 'Seattle Mariners', 'DS'],\n",
    "#                [2022, 'Tampa Bay Rays', 'WC'],\n",
    "#                [2022, 'Los Angeles Dodgers', 'DS'],\n",
    "#                [2022, 'Atlanta Braves', 'DS'],\n",
    "#                [2022, 'St. Louis Cardinals', 'WC'],\n",
    "#                [2022, 'New York Mets', 'WC'],\n",
    "#                [2022, 'San Diego Padres', 'LS'],\n",
    "#                [2022, 'Philadelphia Phillies', 'WS'],\n",
    "#                [2023, 'Baltimore Orioles', 'DS'],\n",
    "#                [2023, 'Houston Astros', 'LS'],\n",
    "#                [2023, 'Minnesota Twins', 'DS'],\n",
    "#                [2023, 'Tampa Bay Rays', 'WC'],\n",
    "#                [2023, 'Texas Rangers', 'C'],\n",
    "#                [2023, 'Toronto Blue Jays', 'WC'],\n",
    "#                [2023, 'Atlanta Braves', 'DS'],\n",
    "#                [2023, 'Los Angeles Dodgers', 'DS'],\n",
    "#                [2023, 'Milwaukee Brewers', 'WC'],\n",
    "#                [2023, 'Philadelphia Phillies', 'LS'],\n",
    "#                [2023, 'Miami Marlins', 'WC'],\n",
    "#                [2023, 'Arizona Diamondbacks', 'WS']]\n",
    "# teams = pd.DataFrame(information, columns=['Year', 'Team Name', 'Level of Success'])\n",
    "\n",
    "# abbreviations = {'Los Angeles Angels': 'ANA', 'Arizona Diamondbacks': 'ARI', 'Atlanta Braves': 'ATL', 'Baltimore Orioles': 'BAL', 'Boston Red Sox': 'BOS',\n",
    "#                  'Chicago White Sox': 'CHA', 'Chicago Cubs': 'CHN', 'Cincinnati Reds': 'CIN', 'Cleveland Indians': 'CLE', 'Cleveland Guardians': 'CLE', 'Colorado Rockies': 'COL',\n",
    "#                  'Detroit Tigers': 'DET', 'Florida Marlins': 'FLO', 'Houston Astros': 'HOU', 'Kansas City Royals': 'KCA', 'Los Angeles Dodgers': 'LAN', 'Miami Marlins': 'MIA',\n",
    "#                  'Milwaukee Brewers': 'MIL', 'Minnesota Twins': 'MIN', 'New York Yankees': 'NYA', 'New York Mets': 'NYN', 'Oakland Athletics': 'OAK', 'Philadelphia Phillies': 'PHI',\n",
    "#                  'Pittsburgh Pirates': 'PIT', 'San Diego Padres': 'SDN', 'Seattle Mariners': 'SEA', 'San Francisco Giants': 'SFN', 'St. Louis Cardinals': 'SLN',\n",
    "#                  'Tampa Bay Rays': 'TBA', 'Texas Rangers': 'TEX', 'Toronto Blue Jays': 'TOR', 'Washington Nationals': 'WAS'}\n",
    "\n",
    "# teams['Team'] = teams['Team Name'].map(abbreviations)\n",
    "\n",
    "# teams.to_csv('playoff_teams.csv', index=False)"
   ]
  },
  {
   "cell_type": "code",
   "execution_count": 24,
   "metadata": {},
   "outputs": [],
   "source": [
    "teams = pd.read_csv('playoff_teams.csv')\n",
    "all_team_stats = pd.read_csv('baseball_data/teamstats.csv')"
   ]
  },
  {
   "cell_type": "code",
   "execution_count": 59,
   "metadata": {},
   "outputs": [],
   "source": [
    "all_team_stats['inne'] = 0\n",
    "for i in range(9, 30):\n",
    "    if f'inn{i}' in all_team_stats.columns:\n",
    "        all_team_stats[f'inn{i}'] = all_team_stats[f'inn{i}'].fillna(0)\n",
    "        if i != 9:\n",
    "            all_team_stats['inne'] = all_team_stats['inne'] + all_team_stats[f'inn{i}']"
   ]
  },
  {
   "cell_type": "code",
   "execution_count": 55,
   "metadata": {},
   "outputs": [],
   "source": [
    "teams[teams['Year'] == 2022]\n",
    "\n",
    "team_features = ['inn1', 'inn2', 'inn3', 'inn4', 'inn5', 'inn6', 'inn7', 'inn8', 'inn9', 'inne', 'lob',\n",
    "                 'b_pa', 'b_ab', 'b_r', 'b_h', 'b_d', 'b_t', 'b_hr', 'b_rbi', 'b_sh', 'b_sf', 'b_hbp', 'b_w', 'b_iw', 'b_k', 'b_sb', 'b_cs', 'b_gdp',\n",
    "                 'p_bfp', 'p_h', 'p_d', 'p_t', 'p_hr', 'p_r', 'p_er', 'p_w', 'p_iw', 'p_k', 'p_hbp', 'p_wp', 'p_bk', 'p_sh', 'p_sf', 'p_sb', 'p_cs', 'p_pb',\n",
    "                 'd_a', 'd_e', 'd_dp', 'd_tp', 'wl']"
   ]
  },
  {
   "cell_type": "code",
   "execution_count": 74,
   "metadata": {},
   "outputs": [
    {
     "name": "stdout",
     "output_type": "stream",
     "text": [
      "Index: 0, Year: 1995 Team: BOS, Level of Success: DS\n"
     ]
    },
    {
     "name": "stderr",
     "output_type": "stream",
     "text": [
      "/var/folders/fh/fzyqqz2s1vzcm3v06kz1h29w0000gp/T/ipykernel_93107/1933854811.py:8: UserWarning: Boolean Series key will be reindexed to match DataFrame index.\n",
      "  temp_stats = all_team_stats[all_team_stats['team'] == team['Team']][all_team_stats['date'].astype(str).str.startswith(str(team['Year']))][all_team_stats['gametype'] == 'regular'][team_features]\n",
      "/var/folders/fh/fzyqqz2s1vzcm3v06kz1h29w0000gp/T/ipykernel_93107/1933854811.py:8: UserWarning: Boolean Series key will be reindexed to match DataFrame index.\n",
      "  temp_stats = all_team_stats[all_team_stats['team'] == team['Team']][all_team_stats['date'].astype(str).str.startswith(str(team['Year']))][all_team_stats['gametype'] == 'regular'][team_features]\n"
     ]
    },
    {
     "name": "stdout",
     "output_type": "stream",
     "text": [
      "Index: 1, Year: 1995 Team: CLE, Level of Success: WS\n"
     ]
    },
    {
     "name": "stderr",
     "output_type": "stream",
     "text": [
      "/var/folders/fh/fzyqqz2s1vzcm3v06kz1h29w0000gp/T/ipykernel_93107/1933854811.py:8: UserWarning: Boolean Series key will be reindexed to match DataFrame index.\n",
      "  temp_stats = all_team_stats[all_team_stats['team'] == team['Team']][all_team_stats['date'].astype(str).str.startswith(str(team['Year']))][all_team_stats['gametype'] == 'regular'][team_features]\n",
      "/var/folders/fh/fzyqqz2s1vzcm3v06kz1h29w0000gp/T/ipykernel_93107/1933854811.py:8: UserWarning: Boolean Series key will be reindexed to match DataFrame index.\n",
      "  temp_stats = all_team_stats[all_team_stats['team'] == team['Team']][all_team_stats['date'].astype(str).str.startswith(str(team['Year']))][all_team_stats['gametype'] == 'regular'][team_features]\n"
     ]
    },
    {
     "name": "stdout",
     "output_type": "stream",
     "text": [
      "Index: 2, Year: 1995 Team: SEA, Level of Success: LS\n"
     ]
    },
    {
     "name": "stderr",
     "output_type": "stream",
     "text": [
      "/var/folders/fh/fzyqqz2s1vzcm3v06kz1h29w0000gp/T/ipykernel_93107/1933854811.py:8: UserWarning: Boolean Series key will be reindexed to match DataFrame index.\n",
      "  temp_stats = all_team_stats[all_team_stats['team'] == team['Team']][all_team_stats['date'].astype(str).str.startswith(str(team['Year']))][all_team_stats['gametype'] == 'regular'][team_features]\n",
      "/var/folders/fh/fzyqqz2s1vzcm3v06kz1h29w0000gp/T/ipykernel_93107/1933854811.py:8: UserWarning: Boolean Series key will be reindexed to match DataFrame index.\n",
      "  temp_stats = all_team_stats[all_team_stats['team'] == team['Team']][all_team_stats['date'].astype(str).str.startswith(str(team['Year']))][all_team_stats['gametype'] == 'regular'][team_features]\n"
     ]
    },
    {
     "name": "stdout",
     "output_type": "stream",
     "text": [
      "Index: 3, Year: 1995 Team: NYA, Level of Success: DS\n"
     ]
    },
    {
     "name": "stderr",
     "output_type": "stream",
     "text": [
      "/var/folders/fh/fzyqqz2s1vzcm3v06kz1h29w0000gp/T/ipykernel_93107/1933854811.py:8: UserWarning: Boolean Series key will be reindexed to match DataFrame index.\n",
      "  temp_stats = all_team_stats[all_team_stats['team'] == team['Team']][all_team_stats['date'].astype(str).str.startswith(str(team['Year']))][all_team_stats['gametype'] == 'regular'][team_features]\n",
      "/var/folders/fh/fzyqqz2s1vzcm3v06kz1h29w0000gp/T/ipykernel_93107/1933854811.py:8: UserWarning: Boolean Series key will be reindexed to match DataFrame index.\n",
      "  temp_stats = all_team_stats[all_team_stats['team'] == team['Team']][all_team_stats['date'].astype(str).str.startswith(str(team['Year']))][all_team_stats['gametype'] == 'regular'][team_features]\n"
     ]
    },
    {
     "name": "stdout",
     "output_type": "stream",
     "text": [
      "Index: 4, Year: 1995 Team: ATL, Level of Success: C\n"
     ]
    },
    {
     "name": "stderr",
     "output_type": "stream",
     "text": [
      "/var/folders/fh/fzyqqz2s1vzcm3v06kz1h29w0000gp/T/ipykernel_93107/1933854811.py:8: UserWarning: Boolean Series key will be reindexed to match DataFrame index.\n",
      "  temp_stats = all_team_stats[all_team_stats['team'] == team['Team']][all_team_stats['date'].astype(str).str.startswith(str(team['Year']))][all_team_stats['gametype'] == 'regular'][team_features]\n",
      "/var/folders/fh/fzyqqz2s1vzcm3v06kz1h29w0000gp/T/ipykernel_93107/1933854811.py:8: UserWarning: Boolean Series key will be reindexed to match DataFrame index.\n",
      "  temp_stats = all_team_stats[all_team_stats['team'] == team['Team']][all_team_stats['date'].astype(str).str.startswith(str(team['Year']))][all_team_stats['gametype'] == 'regular'][team_features]\n"
     ]
    },
    {
     "name": "stdout",
     "output_type": "stream",
     "text": [
      "Index: 5, Year: 1995 Team: CIN, Level of Success: LS\n"
     ]
    },
    {
     "name": "stderr",
     "output_type": "stream",
     "text": [
      "/var/folders/fh/fzyqqz2s1vzcm3v06kz1h29w0000gp/T/ipykernel_93107/1933854811.py:8: UserWarning: Boolean Series key will be reindexed to match DataFrame index.\n",
      "  temp_stats = all_team_stats[all_team_stats['team'] == team['Team']][all_team_stats['date'].astype(str).str.startswith(str(team['Year']))][all_team_stats['gametype'] == 'regular'][team_features]\n",
      "/var/folders/fh/fzyqqz2s1vzcm3v06kz1h29w0000gp/T/ipykernel_93107/1933854811.py:8: UserWarning: Boolean Series key will be reindexed to match DataFrame index.\n",
      "  temp_stats = all_team_stats[all_team_stats['team'] == team['Team']][all_team_stats['date'].astype(str).str.startswith(str(team['Year']))][all_team_stats['gametype'] == 'regular'][team_features]\n"
     ]
    },
    {
     "name": "stdout",
     "output_type": "stream",
     "text": [
      "Index: 6, Year: 1995 Team: LAN, Level of Success: DS\n"
     ]
    },
    {
     "name": "stderr",
     "output_type": "stream",
     "text": [
      "/var/folders/fh/fzyqqz2s1vzcm3v06kz1h29w0000gp/T/ipykernel_93107/1933854811.py:8: UserWarning: Boolean Series key will be reindexed to match DataFrame index.\n",
      "  temp_stats = all_team_stats[all_team_stats['team'] == team['Team']][all_team_stats['date'].astype(str).str.startswith(str(team['Year']))][all_team_stats['gametype'] == 'regular'][team_features]\n",
      "/var/folders/fh/fzyqqz2s1vzcm3v06kz1h29w0000gp/T/ipykernel_93107/1933854811.py:8: UserWarning: Boolean Series key will be reindexed to match DataFrame index.\n",
      "  temp_stats = all_team_stats[all_team_stats['team'] == team['Team']][all_team_stats['date'].astype(str).str.startswith(str(team['Year']))][all_team_stats['gametype'] == 'regular'][team_features]\n"
     ]
    },
    {
     "name": "stdout",
     "output_type": "stream",
     "text": [
      "Index: 7, Year: 1995 Team: COL, Level of Success: DS\n"
     ]
    },
    {
     "name": "stderr",
     "output_type": "stream",
     "text": [
      "/var/folders/fh/fzyqqz2s1vzcm3v06kz1h29w0000gp/T/ipykernel_93107/1933854811.py:8: UserWarning: Boolean Series key will be reindexed to match DataFrame index.\n",
      "  temp_stats = all_team_stats[all_team_stats['team'] == team['Team']][all_team_stats['date'].astype(str).str.startswith(str(team['Year']))][all_team_stats['gametype'] == 'regular'][team_features]\n",
      "/var/folders/fh/fzyqqz2s1vzcm3v06kz1h29w0000gp/T/ipykernel_93107/1933854811.py:8: UserWarning: Boolean Series key will be reindexed to match DataFrame index.\n",
      "  temp_stats = all_team_stats[all_team_stats['team'] == team['Team']][all_team_stats['date'].astype(str).str.startswith(str(team['Year']))][all_team_stats['gametype'] == 'regular'][team_features]\n"
     ]
    },
    {
     "name": "stdout",
     "output_type": "stream",
     "text": [
      "Index: 8, Year: 1996 Team: NYA, Level of Success: C\n"
     ]
    },
    {
     "name": "stderr",
     "output_type": "stream",
     "text": [
      "/var/folders/fh/fzyqqz2s1vzcm3v06kz1h29w0000gp/T/ipykernel_93107/1933854811.py:8: UserWarning: Boolean Series key will be reindexed to match DataFrame index.\n",
      "  temp_stats = all_team_stats[all_team_stats['team'] == team['Team']][all_team_stats['date'].astype(str).str.startswith(str(team['Year']))][all_team_stats['gametype'] == 'regular'][team_features]\n",
      "/var/folders/fh/fzyqqz2s1vzcm3v06kz1h29w0000gp/T/ipykernel_93107/1933854811.py:8: UserWarning: Boolean Series key will be reindexed to match DataFrame index.\n",
      "  temp_stats = all_team_stats[all_team_stats['team'] == team['Team']][all_team_stats['date'].astype(str).str.startswith(str(team['Year']))][all_team_stats['gametype'] == 'regular'][team_features]\n"
     ]
    },
    {
     "name": "stdout",
     "output_type": "stream",
     "text": [
      "Index: 9, Year: 1996 Team: CLE, Level of Success: DS\n"
     ]
    },
    {
     "name": "stderr",
     "output_type": "stream",
     "text": [
      "/var/folders/fh/fzyqqz2s1vzcm3v06kz1h29w0000gp/T/ipykernel_93107/1933854811.py:8: UserWarning: Boolean Series key will be reindexed to match DataFrame index.\n",
      "  temp_stats = all_team_stats[all_team_stats['team'] == team['Team']][all_team_stats['date'].astype(str).str.startswith(str(team['Year']))][all_team_stats['gametype'] == 'regular'][team_features]\n",
      "/var/folders/fh/fzyqqz2s1vzcm3v06kz1h29w0000gp/T/ipykernel_93107/1933854811.py:8: UserWarning: Boolean Series key will be reindexed to match DataFrame index.\n",
      "  temp_stats = all_team_stats[all_team_stats['team'] == team['Team']][all_team_stats['date'].astype(str).str.startswith(str(team['Year']))][all_team_stats['gametype'] == 'regular'][team_features]\n"
     ]
    },
    {
     "name": "stdout",
     "output_type": "stream",
     "text": [
      "Index: 10, Year: 1996 Team: TEX, Level of Success: DS\n"
     ]
    },
    {
     "name": "stderr",
     "output_type": "stream",
     "text": [
      "/var/folders/fh/fzyqqz2s1vzcm3v06kz1h29w0000gp/T/ipykernel_93107/1933854811.py:8: UserWarning: Boolean Series key will be reindexed to match DataFrame index.\n",
      "  temp_stats = all_team_stats[all_team_stats['team'] == team['Team']][all_team_stats['date'].astype(str).str.startswith(str(team['Year']))][all_team_stats['gametype'] == 'regular'][team_features]\n",
      "/var/folders/fh/fzyqqz2s1vzcm3v06kz1h29w0000gp/T/ipykernel_93107/1933854811.py:8: UserWarning: Boolean Series key will be reindexed to match DataFrame index.\n",
      "  temp_stats = all_team_stats[all_team_stats['team'] == team['Team']][all_team_stats['date'].astype(str).str.startswith(str(team['Year']))][all_team_stats['gametype'] == 'regular'][team_features]\n"
     ]
    },
    {
     "name": "stdout",
     "output_type": "stream",
     "text": [
      "Index: 11, Year: 1996 Team: BAL, Level of Success: LS\n"
     ]
    },
    {
     "name": "stderr",
     "output_type": "stream",
     "text": [
      "/var/folders/fh/fzyqqz2s1vzcm3v06kz1h29w0000gp/T/ipykernel_93107/1933854811.py:8: UserWarning: Boolean Series key will be reindexed to match DataFrame index.\n",
      "  temp_stats = all_team_stats[all_team_stats['team'] == team['Team']][all_team_stats['date'].astype(str).str.startswith(str(team['Year']))][all_team_stats['gametype'] == 'regular'][team_features]\n",
      "/var/folders/fh/fzyqqz2s1vzcm3v06kz1h29w0000gp/T/ipykernel_93107/1933854811.py:8: UserWarning: Boolean Series key will be reindexed to match DataFrame index.\n",
      "  temp_stats = all_team_stats[all_team_stats['team'] == team['Team']][all_team_stats['date'].astype(str).str.startswith(str(team['Year']))][all_team_stats['gametype'] == 'regular'][team_features]\n"
     ]
    },
    {
     "name": "stdout",
     "output_type": "stream",
     "text": [
      "Index: 12, Year: 1996 Team: ATL, Level of Success: WS\n"
     ]
    },
    {
     "name": "stderr",
     "output_type": "stream",
     "text": [
      "/var/folders/fh/fzyqqz2s1vzcm3v06kz1h29w0000gp/T/ipykernel_93107/1933854811.py:8: UserWarning: Boolean Series key will be reindexed to match DataFrame index.\n",
      "  temp_stats = all_team_stats[all_team_stats['team'] == team['Team']][all_team_stats['date'].astype(str).str.startswith(str(team['Year']))][all_team_stats['gametype'] == 'regular'][team_features]\n",
      "/var/folders/fh/fzyqqz2s1vzcm3v06kz1h29w0000gp/T/ipykernel_93107/1933854811.py:8: UserWarning: Boolean Series key will be reindexed to match DataFrame index.\n",
      "  temp_stats = all_team_stats[all_team_stats['team'] == team['Team']][all_team_stats['date'].astype(str).str.startswith(str(team['Year']))][all_team_stats['gametype'] == 'regular'][team_features]\n"
     ]
    },
    {
     "name": "stdout",
     "output_type": "stream",
     "text": [
      "Index: 13, Year: 1996 Team: SLN, Level of Success: LS\n"
     ]
    },
    {
     "name": "stderr",
     "output_type": "stream",
     "text": [
      "/var/folders/fh/fzyqqz2s1vzcm3v06kz1h29w0000gp/T/ipykernel_93107/1933854811.py:8: UserWarning: Boolean Series key will be reindexed to match DataFrame index.\n",
      "  temp_stats = all_team_stats[all_team_stats['team'] == team['Team']][all_team_stats['date'].astype(str).str.startswith(str(team['Year']))][all_team_stats['gametype'] == 'regular'][team_features]\n",
      "/var/folders/fh/fzyqqz2s1vzcm3v06kz1h29w0000gp/T/ipykernel_93107/1933854811.py:8: UserWarning: Boolean Series key will be reindexed to match DataFrame index.\n",
      "  temp_stats = all_team_stats[all_team_stats['team'] == team['Team']][all_team_stats['date'].astype(str).str.startswith(str(team['Year']))][all_team_stats['gametype'] == 'regular'][team_features]\n"
     ]
    },
    {
     "name": "stdout",
     "output_type": "stream",
     "text": [
      "Index: 14, Year: 1996 Team: SDN, Level of Success: DS\n"
     ]
    },
    {
     "name": "stderr",
     "output_type": "stream",
     "text": [
      "/var/folders/fh/fzyqqz2s1vzcm3v06kz1h29w0000gp/T/ipykernel_93107/1933854811.py:8: UserWarning: Boolean Series key will be reindexed to match DataFrame index.\n",
      "  temp_stats = all_team_stats[all_team_stats['team'] == team['Team']][all_team_stats['date'].astype(str).str.startswith(str(team['Year']))][all_team_stats['gametype'] == 'regular'][team_features]\n",
      "/var/folders/fh/fzyqqz2s1vzcm3v06kz1h29w0000gp/T/ipykernel_93107/1933854811.py:8: UserWarning: Boolean Series key will be reindexed to match DataFrame index.\n",
      "  temp_stats = all_team_stats[all_team_stats['team'] == team['Team']][all_team_stats['date'].astype(str).str.startswith(str(team['Year']))][all_team_stats['gametype'] == 'regular'][team_features]\n"
     ]
    },
    {
     "name": "stdout",
     "output_type": "stream",
     "text": [
      "Index: 15, Year: 1996 Team: LAN, Level of Success: DS\n"
     ]
    },
    {
     "name": "stderr",
     "output_type": "stream",
     "text": [
      "/var/folders/fh/fzyqqz2s1vzcm3v06kz1h29w0000gp/T/ipykernel_93107/1933854811.py:8: UserWarning: Boolean Series key will be reindexed to match DataFrame index.\n",
      "  temp_stats = all_team_stats[all_team_stats['team'] == team['Team']][all_team_stats['date'].astype(str).str.startswith(str(team['Year']))][all_team_stats['gametype'] == 'regular'][team_features]\n",
      "/var/folders/fh/fzyqqz2s1vzcm3v06kz1h29w0000gp/T/ipykernel_93107/1933854811.py:8: UserWarning: Boolean Series key will be reindexed to match DataFrame index.\n",
      "  temp_stats = all_team_stats[all_team_stats['team'] == team['Team']][all_team_stats['date'].astype(str).str.startswith(str(team['Year']))][all_team_stats['gametype'] == 'regular'][team_features]\n"
     ]
    },
    {
     "name": "stdout",
     "output_type": "stream",
     "text": [
      "Index: 16, Year: 1997 Team: BAL, Level of Success: LS\n"
     ]
    },
    {
     "name": "stderr",
     "output_type": "stream",
     "text": [
      "/var/folders/fh/fzyqqz2s1vzcm3v06kz1h29w0000gp/T/ipykernel_93107/1933854811.py:8: UserWarning: Boolean Series key will be reindexed to match DataFrame index.\n",
      "  temp_stats = all_team_stats[all_team_stats['team'] == team['Team']][all_team_stats['date'].astype(str).str.startswith(str(team['Year']))][all_team_stats['gametype'] == 'regular'][team_features]\n",
      "/var/folders/fh/fzyqqz2s1vzcm3v06kz1h29w0000gp/T/ipykernel_93107/1933854811.py:8: UserWarning: Boolean Series key will be reindexed to match DataFrame index.\n",
      "  temp_stats = all_team_stats[all_team_stats['team'] == team['Team']][all_team_stats['date'].astype(str).str.startswith(str(team['Year']))][all_team_stats['gametype'] == 'regular'][team_features]\n"
     ]
    },
    {
     "name": "stdout",
     "output_type": "stream",
     "text": [
      "Index: 17, Year: 1997 Team: CLE, Level of Success: WS\n"
     ]
    },
    {
     "name": "stderr",
     "output_type": "stream",
     "text": [
      "/var/folders/fh/fzyqqz2s1vzcm3v06kz1h29w0000gp/T/ipykernel_93107/1933854811.py:8: UserWarning: Boolean Series key will be reindexed to match DataFrame index.\n",
      "  temp_stats = all_team_stats[all_team_stats['team'] == team['Team']][all_team_stats['date'].astype(str).str.startswith(str(team['Year']))][all_team_stats['gametype'] == 'regular'][team_features]\n",
      "/var/folders/fh/fzyqqz2s1vzcm3v06kz1h29w0000gp/T/ipykernel_93107/1933854811.py:8: UserWarning: Boolean Series key will be reindexed to match DataFrame index.\n",
      "  temp_stats = all_team_stats[all_team_stats['team'] == team['Team']][all_team_stats['date'].astype(str).str.startswith(str(team['Year']))][all_team_stats['gametype'] == 'regular'][team_features]\n"
     ]
    },
    {
     "name": "stdout",
     "output_type": "stream",
     "text": [
      "Index: 18, Year: 1997 Team: SEA, Level of Success: DS\n"
     ]
    },
    {
     "name": "stderr",
     "output_type": "stream",
     "text": [
      "/var/folders/fh/fzyqqz2s1vzcm3v06kz1h29w0000gp/T/ipykernel_93107/1933854811.py:8: UserWarning: Boolean Series key will be reindexed to match DataFrame index.\n",
      "  temp_stats = all_team_stats[all_team_stats['team'] == team['Team']][all_team_stats['date'].astype(str).str.startswith(str(team['Year']))][all_team_stats['gametype'] == 'regular'][team_features]\n",
      "/var/folders/fh/fzyqqz2s1vzcm3v06kz1h29w0000gp/T/ipykernel_93107/1933854811.py:8: UserWarning: Boolean Series key will be reindexed to match DataFrame index.\n",
      "  temp_stats = all_team_stats[all_team_stats['team'] == team['Team']][all_team_stats['date'].astype(str).str.startswith(str(team['Year']))][all_team_stats['gametype'] == 'regular'][team_features]\n"
     ]
    },
    {
     "name": "stdout",
     "output_type": "stream",
     "text": [
      "Index: 19, Year: 1997 Team: NYA, Level of Success: DS\n"
     ]
    },
    {
     "name": "stderr",
     "output_type": "stream",
     "text": [
      "/var/folders/fh/fzyqqz2s1vzcm3v06kz1h29w0000gp/T/ipykernel_93107/1933854811.py:8: UserWarning: Boolean Series key will be reindexed to match DataFrame index.\n",
      "  temp_stats = all_team_stats[all_team_stats['team'] == team['Team']][all_team_stats['date'].astype(str).str.startswith(str(team['Year']))][all_team_stats['gametype'] == 'regular'][team_features]\n",
      "/var/folders/fh/fzyqqz2s1vzcm3v06kz1h29w0000gp/T/ipykernel_93107/1933854811.py:8: UserWarning: Boolean Series key will be reindexed to match DataFrame index.\n",
      "  temp_stats = all_team_stats[all_team_stats['team'] == team['Team']][all_team_stats['date'].astype(str).str.startswith(str(team['Year']))][all_team_stats['gametype'] == 'regular'][team_features]\n"
     ]
    },
    {
     "name": "stdout",
     "output_type": "stream",
     "text": [
      "Index: 20, Year: 1997 Team: ATL, Level of Success: LS\n"
     ]
    },
    {
     "ename": "KeyboardInterrupt",
     "evalue": "",
     "output_type": "error",
     "traceback": [
      "\u001b[0;31m---------------------------------------------------------------------------\u001b[0m",
      "\u001b[0;31mKeyboardInterrupt\u001b[0m                         Traceback (most recent call last)",
      "Cell \u001b[0;32mIn[74], line 8\u001b[0m\n\u001b[1;32m      6\u001b[0m \u001b[38;5;28;01mfor\u001b[39;00m index, team \u001b[38;5;129;01min\u001b[39;00m teams\u001b[38;5;241m.\u001b[39miterrows():\n\u001b[1;32m      7\u001b[0m     \u001b[38;5;28mprint\u001b[39m(\u001b[38;5;124mf\u001b[39m\u001b[38;5;124m\"\u001b[39m\u001b[38;5;124mIndex: \u001b[39m\u001b[38;5;132;01m{\u001b[39;00mindex\u001b[38;5;132;01m}\u001b[39;00m\u001b[38;5;124m, Year: \u001b[39m\u001b[38;5;132;01m{\u001b[39;00mteam[\u001b[38;5;124m'\u001b[39m\u001b[38;5;124mYear\u001b[39m\u001b[38;5;124m'\u001b[39m]\u001b[38;5;132;01m}\u001b[39;00m\u001b[38;5;124m Team: \u001b[39m\u001b[38;5;132;01m{\u001b[39;00mteam[\u001b[38;5;124m'\u001b[39m\u001b[38;5;124mTeam\u001b[39m\u001b[38;5;124m'\u001b[39m]\u001b[38;5;132;01m}\u001b[39;00m\u001b[38;5;124m, Level of Success: \u001b[39m\u001b[38;5;132;01m{\u001b[39;00mteam[\u001b[38;5;124m'\u001b[39m\u001b[38;5;124mLevel of Success\u001b[39m\u001b[38;5;124m'\u001b[39m]\u001b[38;5;132;01m}\u001b[39;00m\u001b[38;5;124m\"\u001b[39m)\n\u001b[0;32m----> 8\u001b[0m     temp_stats \u001b[38;5;241m=\u001b[39m all_team_stats[all_team_stats[\u001b[38;5;124m'\u001b[39m\u001b[38;5;124mteam\u001b[39m\u001b[38;5;124m'\u001b[39m] \u001b[38;5;241m==\u001b[39m team[\u001b[38;5;124m'\u001b[39m\u001b[38;5;124mTeam\u001b[39m\u001b[38;5;124m'\u001b[39m]][\u001b[43mall_team_stats\u001b[49m\u001b[43m[\u001b[49m\u001b[38;5;124;43m'\u001b[39;49m\u001b[38;5;124;43mdate\u001b[39;49m\u001b[38;5;124;43m'\u001b[39;49m\u001b[43m]\u001b[49m\u001b[38;5;241;43m.\u001b[39;49m\u001b[43mastype\u001b[49m\u001b[43m(\u001b[49m\u001b[38;5;28;43mstr\u001b[39;49m\u001b[43m)\u001b[49m\u001b[38;5;241;43m.\u001b[39;49m\u001b[43mstr\u001b[49m\u001b[38;5;241;43m.\u001b[39;49m\u001b[43mstartswith\u001b[49m\u001b[43m(\u001b[49m\u001b[38;5;28;43mstr\u001b[39;49m\u001b[43m(\u001b[49m\u001b[43mteam\u001b[49m\u001b[43m[\u001b[49m\u001b[38;5;124;43m'\u001b[39;49m\u001b[38;5;124;43mYear\u001b[39;49m\u001b[38;5;124;43m'\u001b[39;49m\u001b[43m]\u001b[49m\u001b[43m)\u001b[49m\u001b[43m)\u001b[49m][all_team_stats[\u001b[38;5;124m'\u001b[39m\u001b[38;5;124mgametype\u001b[39m\u001b[38;5;124m'\u001b[39m] \u001b[38;5;241m==\u001b[39m \u001b[38;5;124m'\u001b[39m\u001b[38;5;124mregular\u001b[39m\u001b[38;5;124m'\u001b[39m][team_features]\n\u001b[1;32m      9\u001b[0m     temp_stats[\u001b[38;5;124m'\u001b[39m\u001b[38;5;124mwl\u001b[39m\u001b[38;5;124m'\u001b[39m] \u001b[38;5;241m=\u001b[39m temp_stats[\u001b[38;5;124m'\u001b[39m\u001b[38;5;124mwl\u001b[39m\u001b[38;5;124m'\u001b[39m]\u001b[38;5;241m.\u001b[39mmap({\u001b[38;5;124m'\u001b[39m\u001b[38;5;124mw\u001b[39m\u001b[38;5;124m'\u001b[39m: \u001b[38;5;241m1\u001b[39m, \u001b[38;5;124m'\u001b[39m\u001b[38;5;124ml\u001b[39m\u001b[38;5;124m'\u001b[39m: \u001b[38;5;241m0\u001b[39m})\n\u001b[1;32m     10\u001b[0m     temp_stats \u001b[38;5;241m=\u001b[39m temp_stats\u001b[38;5;241m.\u001b[39mto_numpy()\n",
      "File \u001b[0;32m~/Desktop/School/Stat 486/stat486venv/lib/python3.11/site-packages/pandas/core/strings/accessor.py:137\u001b[0m, in \u001b[0;36mforbid_nonstring_types.<locals>._forbid_nonstring_types.<locals>.wrapper\u001b[0;34m(self, *args, **kwargs)\u001b[0m\n\u001b[1;32m    132\u001b[0m     msg \u001b[38;5;241m=\u001b[39m (\n\u001b[1;32m    133\u001b[0m         \u001b[38;5;124mf\u001b[39m\u001b[38;5;124m\"\u001b[39m\u001b[38;5;124mCannot use .str.\u001b[39m\u001b[38;5;132;01m{\u001b[39;00mfunc_name\u001b[38;5;132;01m}\u001b[39;00m\u001b[38;5;124m with values of \u001b[39m\u001b[38;5;124m\"\u001b[39m\n\u001b[1;32m    134\u001b[0m         \u001b[38;5;124mf\u001b[39m\u001b[38;5;124m\"\u001b[39m\u001b[38;5;124minferred dtype \u001b[39m\u001b[38;5;124m'\u001b[39m\u001b[38;5;132;01m{\u001b[39;00m\u001b[38;5;28mself\u001b[39m\u001b[38;5;241m.\u001b[39m_inferred_dtype\u001b[38;5;132;01m}\u001b[39;00m\u001b[38;5;124m'\u001b[39m\u001b[38;5;124m.\u001b[39m\u001b[38;5;124m\"\u001b[39m\n\u001b[1;32m    135\u001b[0m     )\n\u001b[1;32m    136\u001b[0m     \u001b[38;5;28;01mraise\u001b[39;00m \u001b[38;5;167;01mTypeError\u001b[39;00m(msg)\n\u001b[0;32m--> 137\u001b[0m \u001b[38;5;28;01mreturn\u001b[39;00m \u001b[43mfunc\u001b[49m\u001b[43m(\u001b[49m\u001b[38;5;28;43mself\u001b[39;49m\u001b[43m,\u001b[49m\u001b[43m \u001b[49m\u001b[38;5;241;43m*\u001b[39;49m\u001b[43margs\u001b[49m\u001b[43m,\u001b[49m\u001b[43m \u001b[49m\u001b[38;5;241;43m*\u001b[39;49m\u001b[38;5;241;43m*\u001b[39;49m\u001b[43mkwargs\u001b[49m\u001b[43m)\u001b[49m\n",
      "File \u001b[0;32m~/Desktop/School/Stat 486/stat486venv/lib/python3.11/site-packages/pandas/core/strings/accessor.py:2483\u001b[0m, in \u001b[0;36mStringMethods.startswith\u001b[0;34m(self, pat, na)\u001b[0m\n\u001b[1;32m   2481\u001b[0m     msg \u001b[38;5;241m=\u001b[39m \u001b[38;5;124mf\u001b[39m\u001b[38;5;124m\"\u001b[39m\u001b[38;5;124mexpected a string or tuple, not \u001b[39m\u001b[38;5;132;01m{\u001b[39;00m\u001b[38;5;28mtype\u001b[39m(pat)\u001b[38;5;241m.\u001b[39m\u001b[38;5;18m__name__\u001b[39m\u001b[38;5;132;01m}\u001b[39;00m\u001b[38;5;124m\"\u001b[39m\n\u001b[1;32m   2482\u001b[0m     \u001b[38;5;28;01mraise\u001b[39;00m \u001b[38;5;167;01mTypeError\u001b[39;00m(msg)\n\u001b[0;32m-> 2483\u001b[0m result \u001b[38;5;241m=\u001b[39m \u001b[38;5;28;43mself\u001b[39;49m\u001b[38;5;241;43m.\u001b[39;49m\u001b[43m_data\u001b[49m\u001b[38;5;241;43m.\u001b[39;49m\u001b[43marray\u001b[49m\u001b[38;5;241;43m.\u001b[39;49m\u001b[43m_str_startswith\u001b[49m\u001b[43m(\u001b[49m\u001b[43mpat\u001b[49m\u001b[43m,\u001b[49m\u001b[43m \u001b[49m\u001b[43mna\u001b[49m\u001b[38;5;241;43m=\u001b[39;49m\u001b[43mna\u001b[49m\u001b[43m)\u001b[49m\n\u001b[1;32m   2484\u001b[0m \u001b[38;5;28;01mreturn\u001b[39;00m \u001b[38;5;28mself\u001b[39m\u001b[38;5;241m.\u001b[39m_wrap_result(result, returns_string\u001b[38;5;241m=\u001b[39m\u001b[38;5;28;01mFalse\u001b[39;00m)\n",
      "File \u001b[0;32m~/Desktop/School/Stat 486/stat486venv/lib/python3.11/site-packages/pandas/core/strings/object_array.py:149\u001b[0m, in \u001b[0;36mObjectStringArrayMixin._str_startswith\u001b[0;34m(self, pat, na)\u001b[0m\n\u001b[1;32m    147\u001b[0m \u001b[38;5;28;01mdef\u001b[39;00m \u001b[38;5;21m_str_startswith\u001b[39m(\u001b[38;5;28mself\u001b[39m, pat, na\u001b[38;5;241m=\u001b[39m\u001b[38;5;28;01mNone\u001b[39;00m):\n\u001b[1;32m    148\u001b[0m     f \u001b[38;5;241m=\u001b[39m \u001b[38;5;28;01mlambda\u001b[39;00m x: x\u001b[38;5;241m.\u001b[39mstartswith(pat)\n\u001b[0;32m--> 149\u001b[0m     \u001b[38;5;28;01mreturn\u001b[39;00m \u001b[38;5;28;43mself\u001b[39;49m\u001b[38;5;241;43m.\u001b[39;49m\u001b[43m_str_map\u001b[49m\u001b[43m(\u001b[49m\u001b[43mf\u001b[49m\u001b[43m,\u001b[49m\u001b[43m \u001b[49m\u001b[43mna_value\u001b[49m\u001b[38;5;241;43m=\u001b[39;49m\u001b[43mna\u001b[49m\u001b[43m,\u001b[49m\u001b[43m \u001b[49m\u001b[43mdtype\u001b[49m\u001b[38;5;241;43m=\u001b[39;49m\u001b[43mnp\u001b[49m\u001b[38;5;241;43m.\u001b[39;49m\u001b[43mdtype\u001b[49m\u001b[43m(\u001b[49m\u001b[38;5;28;43mbool\u001b[39;49m\u001b[43m)\u001b[49m\u001b[43m)\u001b[49m\n",
      "File \u001b[0;32m~/Desktop/School/Stat 486/stat486venv/lib/python3.11/site-packages/pandas/core/strings/object_array.py:78\u001b[0m, in \u001b[0;36mObjectStringArrayMixin._str_map\u001b[0;34m(self, f, na_value, dtype, convert)\u001b[0m\n\u001b[1;32m     76\u001b[0m map_convert \u001b[38;5;241m=\u001b[39m convert \u001b[38;5;129;01mand\u001b[39;00m \u001b[38;5;129;01mnot\u001b[39;00m np\u001b[38;5;241m.\u001b[39mall(mask)\n\u001b[1;32m     77\u001b[0m \u001b[38;5;28;01mtry\u001b[39;00m:\n\u001b[0;32m---> 78\u001b[0m     result \u001b[38;5;241m=\u001b[39m \u001b[43mlib\u001b[49m\u001b[38;5;241;43m.\u001b[39;49m\u001b[43mmap_infer_mask\u001b[49m\u001b[43m(\u001b[49m\u001b[43marr\u001b[49m\u001b[43m,\u001b[49m\u001b[43m \u001b[49m\u001b[43mf\u001b[49m\u001b[43m,\u001b[49m\u001b[43m \u001b[49m\u001b[43mmask\u001b[49m\u001b[38;5;241;43m.\u001b[39;49m\u001b[43mview\u001b[49m\u001b[43m(\u001b[49m\u001b[43mnp\u001b[49m\u001b[38;5;241;43m.\u001b[39;49m\u001b[43muint8\u001b[49m\u001b[43m)\u001b[49m\u001b[43m,\u001b[49m\u001b[43m \u001b[49m\u001b[43mmap_convert\u001b[49m\u001b[43m)\u001b[49m\n\u001b[1;32m     79\u001b[0m \u001b[38;5;28;01mexcept\u001b[39;00m (\u001b[38;5;167;01mTypeError\u001b[39;00m, \u001b[38;5;167;01mAttributeError\u001b[39;00m) \u001b[38;5;28;01mas\u001b[39;00m err:\n\u001b[1;32m     80\u001b[0m     \u001b[38;5;66;03m# Reraise the exception if callable `f` got wrong number of args.\u001b[39;00m\n\u001b[1;32m     81\u001b[0m     \u001b[38;5;66;03m# The user may want to be warned by this, instead of getting NaN\u001b[39;00m\n\u001b[1;32m     82\u001b[0m     p_err \u001b[38;5;241m=\u001b[39m (\n\u001b[1;32m     83\u001b[0m         \u001b[38;5;124mr\u001b[39m\u001b[38;5;124m\"\u001b[39m\u001b[38;5;124m((takes)|(missing)) (?(2)from \u001b[39m\u001b[38;5;124m\\\u001b[39m\u001b[38;5;124md+ to )?\u001b[39m\u001b[38;5;124m\\\u001b[39m\u001b[38;5;124md+ \u001b[39m\u001b[38;5;124m\"\u001b[39m\n\u001b[1;32m     84\u001b[0m         \u001b[38;5;124mr\u001b[39m\u001b[38;5;124m\"\u001b[39m\u001b[38;5;124m(?(3)required )positional arguments?\u001b[39m\u001b[38;5;124m\"\u001b[39m\n\u001b[1;32m     85\u001b[0m     )\n",
      "File \u001b[0;32mlib.pyx:2895\u001b[0m, in \u001b[0;36mpandas._libs.lib.map_infer_mask\u001b[0;34m()\u001b[0m\n",
      "File \u001b[0;32mlib.pyx:2932\u001b[0m, in \u001b[0;36mpandas._libs.lib._map_infer_mask\u001b[0;34m()\u001b[0m\n",
      "File \u001b[0;32m~/Desktop/School/Stat 486/stat486venv/lib/python3.11/site-packages/pandas/core/strings/object_array.py:148\u001b[0m, in \u001b[0;36mObjectStringArrayMixin._str_startswith.<locals>.<lambda>\u001b[0;34m(x)\u001b[0m\n\u001b[1;32m    147\u001b[0m \u001b[38;5;28;01mdef\u001b[39;00m \u001b[38;5;21m_str_startswith\u001b[39m(\u001b[38;5;28mself\u001b[39m, pat, na\u001b[38;5;241m=\u001b[39m\u001b[38;5;28;01mNone\u001b[39;00m):\n\u001b[0;32m--> 148\u001b[0m     f \u001b[38;5;241m=\u001b[39m \u001b[38;5;28;01mlambda\u001b[39;00m x: \u001b[43mx\u001b[49m\u001b[38;5;241;43m.\u001b[39;49m\u001b[43mstartswith\u001b[49m\u001b[43m(\u001b[49m\u001b[43mpat\u001b[49m\u001b[43m)\u001b[49m\n\u001b[1;32m    149\u001b[0m     \u001b[38;5;28;01mreturn\u001b[39;00m \u001b[38;5;28mself\u001b[39m\u001b[38;5;241m.\u001b[39m_str_map(f, na_value\u001b[38;5;241m=\u001b[39mna, dtype\u001b[38;5;241m=\u001b[39mnp\u001b[38;5;241m.\u001b[39mdtype(\u001b[38;5;28mbool\u001b[39m))\n",
      "\u001b[0;31mKeyboardInterrupt\u001b[0m: "
     ]
    }
   ],
   "source": [
    "max_games = 163\n",
    "num_features = len(team_features)\n",
    "\n",
    "all_seasons = np.empty([0, max_games, num_features])\n",
    "\n",
    "for index, team in teams.iterrows():\n",
    "    print(f\"Index: {index}, Year: {team['Year']} Team: {team['Team']}, Level of Success: {team['Level of Success']}\")\n",
    "    temp_stats = all_team_stats[all_team_stats['team'] == team['Team']][all_team_stats['date'].astype(str).str.startswith(str(team['Year']))][all_team_stats['gametype'] == 'regular'][team_features]\n",
    "    temp_stats['wl'] = temp_stats['wl'].map({'w': 1, 'l': 0})\n",
    "    temp_stats = temp_stats.to_numpy()\n",
    "\n",
    "    padding = max_games - temp_stats.shape[0]\n",
    "    if padding > 0:\n",
    "        temp_stats = np.pad(temp_stats, ((0, padding), (0, 0)), mode='constant')\n",
    "    \n",
    "    temp_stats = np.reshape(temp_stats, (1, max_games, num_features))\n",
    "\n",
    "    all_seasons = np.vstack((all_seasons, temp_stats))\n",
    "\n",
    "with open('all_teams_data.pkl', 'wb') as file:\n",
    "    pickle.dump(all_seasons, file)\n",
    "\n",
    "print(\"Array saved to 'all_teams_data.pkl'\")"
   ]
  },
  {
   "cell_type": "code",
   "execution_count": null,
   "metadata": {},
   "outputs": [],
   "source": []
  }
 ],
 "metadata": {
  "kernelspec": {
   "display_name": "stat486venv",
   "language": "python",
   "name": "python3"
  },
  "language_info": {
   "codemirror_mode": {
    "name": "ipython",
    "version": 3
   },
   "file_extension": ".py",
   "mimetype": "text/x-python",
   "name": "python",
   "nbconvert_exporter": "python",
   "pygments_lexer": "ipython3",
   "version": "3.11.5"
  }
 },
 "nbformat": 4,
 "nbformat_minor": 2
}
