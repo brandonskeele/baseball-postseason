{
 "cells": [
  {
   "cell_type": "code",
   "execution_count": 1,
   "metadata": {},
   "outputs": [],
   "source": [
    "# Import Packages\n",
    "\n",
    "import pandas as pd\n",
    "import numpy as np\n",
    "import os\n",
    "import pickle"
   ]
  },
  {
   "cell_type": "code",
   "execution_count": 22,
   "metadata": {},
   "outputs": [],
   "source": [
    "# # Defining Playoff Teams and Success\n",
    "# information = [[1995, 'Boston Red Sox', 'DS'],\n",
    "#                [1995, 'Cleveland Indians', 'WS'],\n",
    "#                [1995, 'Seattle Mariners', 'LS'],\n",
    "#                [1995, 'New York Yankees', 'DS'],\n",
    "#                [1995, 'Atlanta Braves', 'C'],\n",
    "#                [1995, 'Cincinnati Reds', 'LS'],\n",
    "#                [1995, 'Los Angeles Dodgers', 'DS'], \n",
    "#                [1995, 'Colorado Rockies', 'DS'],\n",
    "#                [1996, 'New York Yankees', 'C'],\n",
    "#                [1996, 'Cleveland Indians', 'DS'],\n",
    "#                [1996, 'Texas Rangers', 'DS'],\n",
    "#                [1996, 'Baltimore Orioles', 'LS'],\n",
    "#                [1996, 'Atlanta Braves', 'WS'],\n",
    "#                [1996, 'St. Louis Cardinals', 'LS'],\n",
    "#                [1996, 'San Diego Padres', 'DS'],\n",
    "#                [1996, 'Los Angeles Dodgers', 'DS'],\n",
    "#                [1997, 'Baltimore Orioles', 'LS'],\n",
    "#                [1997, 'Cleveland Indians', 'WS'],\n",
    "#                [1997, 'Seattle Mariners', 'DS'],\n",
    "#                [1997, 'New York Yankees', 'DS'],\n",
    "#                [1997, 'Atlanta Braves', 'LS'],\n",
    "#                [1997, 'Houston Astros', 'DS'],\n",
    "#                [1997, 'San Francisco Giants', 'DS'],\n",
    "#                [1997, 'Florida Marlins', 'C'],\n",
    "#                [1998, 'New York Yankees', 'C'],\n",
    "#                [1998, 'Cleveland Indians', 'LS'],\n",
    "#                [1998, 'Texas Rangers', 'DS'],\n",
    "#                [1998, 'Boston Red Sox', 'DS'],\n",
    "#                [1998, 'Atlanta Braves', 'LS'],\n",
    "#                [1998, 'Houston Astros', 'DS'],\n",
    "#                [1998, 'San Diego Padres', 'WS'],\n",
    "#                [1998, 'Chicago Cubs', 'DS'],\n",
    "#                [1999, 'New York Yankees', 'C'],\n",
    "#                [1999, 'Cleveland Indians', 'DS'],\n",
    "#                [1999, 'Texas Rangers', 'DS'],\n",
    "#                [1999, 'Boston Red Sox', 'LS'],\n",
    "#                [1999, 'Atlanta Braves', 'WS'],\n",
    "#                [1999, 'Arizona Diamondbacks', 'DS'],\n",
    "#                [1999, 'Houston Astros', 'DS'],\n",
    "#                [1999, 'New York Mets', 'LS'],\n",
    "#                [2000, 'Chicago White Sox', 'DS'],\n",
    "#                [2000, 'Oakland Athletics', 'DS'],\n",
    "#                [2000, 'New York Yankees', 'C'],\n",
    "#                [2000, 'Seattle Mariners', 'LS'],\n",
    "#                [2000, 'San Francisco Giants', 'DS'],\n",
    "#                [2000, 'St. Louis Cardinals', 'LS'],\n",
    "#                [2000, 'Atlanta Braves', 'DS'],\n",
    "#                [2000, 'New York Mets', 'WS'],\n",
    "#                [2001, 'Seattle Mariners', 'LS'],\n",
    "#                [2001, 'Cleveland Indians', 'DS'],\n",
    "#                [2001, 'New York Yankees', 'WS'],\n",
    "#                [2001, 'Oakland Athletics', 'DS'],\n",
    "#                [2001, 'Houston Astros', 'DS'],\n",
    "#                [2001, 'Arizona Diamondbacks', 'C'],\n",
    "#                [2001, 'Atlanta Braves', 'LS'],\n",
    "#                [2001, 'St. Louis Cardinals', 'DS'],\n",
    "#                [2002, 'New York Yankees', 'DS'],\n",
    "#                [2002, 'Oakland Athletics', 'DS'],\n",
    "#                [2002, 'Minnesota Twins', 'LS'],\n",
    "#                [2002, 'Los Angeles Angels', 'C'],\n",
    "#                [2002, 'Atlanta Braves', 'DS'],\n",
    "#                [2002, 'Arizona Diamondbacks', 'DS'],\n",
    "#                [2002, 'St. Louis Cardinals', 'LS'],\n",
    "#                [2002, 'San Francisco Giants', 'WS'],\n",
    "#                [2003, 'New York Yankees', 'WS'],\n",
    "#                [2003, 'Oakland Athletics', 'DS'],\n",
    "#                [2003, 'Minnesota Twins', 'DS'],\n",
    "#                [2003, 'Boston Red Sox', 'LS'],\n",
    "#                [2003, 'Atlanta Braves', 'DS'],\n",
    "#                [2003, 'San Francisco Giants', 'DS'],\n",
    "#                [2003, 'Chicago Cubs', 'LS'],\n",
    "#                [2003, 'Florida Marlins', 'C'],\n",
    "#                [2004, 'New York Yankees', 'LS'],\n",
    "#                [2004, 'Los Angeles Angels', 'DS'],\n",
    "#                [2004, 'Minnesota Twins', 'DS'],\n",
    "#                [2004, 'Boston Red Sox', 'C'],\n",
    "#                [2004, 'St. Louis Cardinals', 'WS'],\n",
    "#                [2004, 'Atlanta Braves', 'DS'],\n",
    "#                [2004, 'Los Angeles Dodgers', 'DS'],\n",
    "#                [2004, 'Houston Astros', 'LS'],\n",
    "#                [2005, 'Chicago White Sox', 'C'],\n",
    "#                [2005, 'Los Angeles Angels', 'LS'],\n",
    "#                [2005, 'New York Yankees', 'DS'],\n",
    "#                [2005, 'Boston Red Sox', 'DS'],\n",
    "#                [2005, 'St. Louis Cardinals', 'LS'],\n",
    "#                [2005, 'Atlanta Braves', 'DS'],\n",
    "#                [2005, 'San Diego Padres', 'DS'],\n",
    "#                [2005, 'Houston Astros', 'WS'],\n",
    "#                [2006, 'New York Yankees', 'DS'],\n",
    "#                [2006, 'Minnesota Twins', 'DS'],\n",
    "#                [2006, 'Oakland Athletics', 'LS'],\n",
    "#                [2006, 'Detroit Tigers', 'WS'],\n",
    "#                [2006, 'New York Mets', 'LS'],\n",
    "#                [2006, 'San Diego Padres', 'DS'],\n",
    "#                [2006, 'St. Louis Cardinals', 'C'],\n",
    "#                [2006, 'Los Angeles Dodgers', 'DS'],\n",
    "#                [2007, 'Boston Red Sox', 'C'],\n",
    "#                [2007, 'Cleveland Indians', 'LS'],\n",
    "#                [2007, 'Los Angeles Angels', 'DS'],\n",
    "#                [2007, 'New York Yankees', 'DS'],\n",
    "#                [2007, 'Arizona Diamondbacks', 'LS'],\n",
    "#                [2007, 'Philadelphia Phillies', 'DS'],\n",
    "#                [2007, 'Chicago Cubs', 'DS'],\n",
    "#                [2007, 'Colorado Rockies', 'WS'],\n",
    "#                [2008, 'Los Angeles Angels', 'DS'],\n",
    "#                [2008, 'Tampa Bay Rays', 'WS'],\n",
    "#                [2008, 'Chicago White Sox', 'DS'],\n",
    "#                [2008, 'Boston Red Sox', 'LS'],\n",
    "#                [2008, 'Chicago Cubs', 'DS'],\n",
    "#                [2008, 'Philadelphia Phillies', 'C'],\n",
    "#                [2008, 'Los Angeles Dodgers', 'LS'],\n",
    "#                [2008, 'Milwaukee Brewers', 'DS'],\n",
    "#                [2009, 'New York Yankees', 'C'],\n",
    "#                [2009, 'Los Angeles Angels', 'LS'],\n",
    "#                [2009, 'Minnesota Twins', 'DS'],\n",
    "#                [2009, 'Boston Red Sox', 'DS'],\n",
    "#                [2009, 'Los Angeles Dodgers', 'LS'],\n",
    "#                [2009, 'Philadelphia Phillies', 'WS'],\n",
    "#                [2009, 'St. Louis Cardinals', 'DS'],\n",
    "#                [2009, 'Colorado Rockies', 'DS'],\n",
    "#                [2010, 'Tampa Bay Rays', 'DS'],\n",
    "#                [2010, 'Minnesota Twins', 'DS'],\n",
    "#                [2010, 'Texas Rangers', 'WS'],\n",
    "#                [2010, 'New York Yankees', 'LS'],\n",
    "#                [2010, 'Philadelphia Phillies', 'LS'],\n",
    "#                [2010, 'San Francisco Giants', 'C'],\n",
    "#                [2010, 'Cincinnati Reds', 'DS'],\n",
    "#                [2010, 'Atlanta Braves', 'DS'],\n",
    "#                [2011, 'New York Yankees', 'DS'],\n",
    "#                [2011, 'Texas Rangers', 'WS'],\n",
    "#                [2011, 'Detroit Tigers', 'LS'],\n",
    "#                [2011, 'Tampa Bay Rays', 'DS'],\n",
    "#                [2011, 'Philadelphia Phillies', 'DS'],\n",
    "#                [2011, 'Milwaukee Brewers', 'LS'],\n",
    "#                [2011, 'Arizona Diamondbacks', 'DS'],\n",
    "#                [2011, 'St. Louis Cardinals', 'C'],\n",
    "#                [2012, 'New York Yankees', 'LS'],\n",
    "#                [2012, 'Oakland Athletics', 'DS'],\n",
    "#                [2012, 'Detroit Tigers', 'WS'],\n",
    "#                [2012, 'Texas Rangers', 'WC'],\n",
    "#                [2012, 'Baltimore Orioles', 'DS'],\n",
    "#                [2012, 'Washington Nationals', 'DS'],\n",
    "#                [2012, 'Cincinnati Reds', 'DS'],\n",
    "#                [2012, 'San Francisco Giants', 'C'],\n",
    "#                [2012, 'Atlanta Braves', 'WC'],\n",
    "#                [2012, 'St. Louis Cardinals', 'LS'],\n",
    "#                [2013, 'Boston Red Sox', 'C'],\n",
    "#                [2013, 'Oakland Athletics', 'DS'],\n",
    "#                [2013, 'Detroit Tigers', 'LS'],\n",
    "#                [2013, 'Cleveland Indians', 'WC'],\n",
    "#                [2013, 'Tampa Bay Rays', 'DS'],\n",
    "#                [2013, 'St. Louis Cardinals', 'WS'],\n",
    "#                [2013, 'Atlanta Braves', 'DS'],\n",
    "#                [2013, 'Los Angeles Dodgers', 'LS'],\n",
    "#                [2013, 'Pittsburgh Pirates', 'DS'],\n",
    "#                [2013, 'Cincinnati Reds', 'WC'],\n",
    "#                [2014, 'Los Angeles Angels', 'DS'],\n",
    "#                [2014, 'Baltimore Orioles', 'LS'],\n",
    "#                [2014, 'Detroit Tigers', 'DS'],\n",
    "#                [2014, 'Kansas City Royals', 'WS'],\n",
    "#                [2014, 'Oakland Athletics', 'WC'],\n",
    "#                [2014, 'Washington Nationals', 'DS'],\n",
    "#                [2014, 'Los Angeles Dodgers', 'DS'],\n",
    "#                [2014, 'St. Louis Cardinals', 'LS'],\n",
    "#                [2014, 'Pittsburgh Pirates', 'WC'],\n",
    "#                [2014, 'San Francisco Giants', 'C'],\n",
    "#                [2015, 'Kansas City Royals', 'C'],\n",
    "#                [2015, 'Toronto Blue Jays', 'LS'],\n",
    "#                [2015, 'Texas Rangers', 'DS'],\n",
    "#                [2015, 'New York Yankees', 'WC'],\n",
    "#                [2015, 'Houston Astros', 'DS'],\n",
    "#                [2015, 'St. Louis Cardinals', 'DS'],\n",
    "#                [2015, 'Los Angeles Dodgers', 'DS'],\n",
    "#                [2015, 'New York Mets', 'WS'],\n",
    "#                [2015, 'Pittsburgh Pirates', 'WC'],\n",
    "#                [2015, 'Chicago Cubs', 'LS'],\n",
    "#                [2016, 'Texas Rangers', 'DS'],\n",
    "#                [2016, 'Cleveland Indians', 'WS'],\n",
    "#                [2016, 'Boston Red Sox', 'DS'],\n",
    "#                [2016, 'Toronto Blue Jays', 'LS'],\n",
    "#                [2016, 'Baltimore Orioles', 'WC'],\n",
    "#                [2016, 'Chicago Cubs', 'C'],\n",
    "#                [2016, 'Washington Nationals', 'DS'],\n",
    "#                [2016, 'Los Angeles Dodgers', 'LS'],\n",
    "#                [2016, 'New York Mets', 'WC'],\n",
    "#                [2016, 'San Francisco Giants', 'DS'],\n",
    "#                [2017, 'Cleveland Indians', 'DS'],\n",
    "#                [2017, 'Houston Astros', 'C'],\n",
    "#                [2017, 'Boston Red Sox', 'DS'],\n",
    "#                [2017, 'New York Yankees', 'LS'],\n",
    "#                [2017, 'Minnesota Twins', 'WC'],\n",
    "#                [2017, 'Los Angeles Dodgers', 'WS'],\n",
    "#                [2017, 'Washington Nationals', 'DS'],\n",
    "#                [2017, 'Chicago Cubs', 'LS'],\n",
    "#                [2017, 'Arizona Diamondbacks', 'DS'],\n",
    "#                [2017, 'Colorado Rockies', 'WC'],\n",
    "#                [2018, 'Boston Red Sox', 'C'],\n",
    "#                [2018, 'Houston Astros', 'LS'],\n",
    "#                [2018, 'Cleveland Indians', 'DS'],\n",
    "#                [2018, 'New York Yankees', 'DS'],\n",
    "#                [2018, 'Oakland Athletics', 'WC'],\n",
    "#                [2018, 'Milwaukee Brewers', 'LS'],\n",
    "#                [2018, 'Los Angeles Dodgers', 'WS'],\n",
    "#                [2018, 'Atlanta Braves', 'DS'],\n",
    "#                [2018, 'Chicago Cubs', 'WC'],\n",
    "#                [2018, 'Colorado Rockies', 'DS'],\n",
    "#                [2019, 'Houston Astros', 'WS'],\n",
    "#                [2019, 'New York Yankees', 'LS'],\n",
    "#                [2019, 'Minnesota Twins', 'DS'],\n",
    "#                [2019, 'Oakland Athletics', 'WC'],\n",
    "#                [2019, 'Tampa Bay Rays', 'DS'],\n",
    "#                [2019, 'Los Angeles Dodgers', 'DS'],\n",
    "#                [2019, 'Atlanta Braves', 'DS'],\n",
    "#                [2019, 'St. Louis Cardinals', 'LS'],\n",
    "#                [2019, 'Washington Nationals', 'C'],\n",
    "#                [2019, 'Milwaukee Brewers', 'WC'],\n",
    "#                [2020, 'Tampa Bay Rays', 'WS'],\n",
    "#                [2020, 'Oakland Athletics', 'DS'],\n",
    "#                [2020, 'Minnesota Twins', 'WC'],\n",
    "#                [2020, 'Cleveland Indians', 'WC'],\n",
    "#                [2020, 'New York Yankees', 'DS'],\n",
    "#                [2020, 'Houston Astros', 'LS'],\n",
    "#                [2020, 'Chicago White Sox', 'WC'],\n",
    "#                [2020, 'Toronto Blue Jays', 'WC'],\n",
    "#                [2020, 'Los Angeles Dodgers', 'C'],\n",
    "#                [2020, 'Atlanta Braves', 'LS'],\n",
    "#                [2020, 'Chicago Cubs', 'WC'],\n",
    "#                [2020, 'San Diego Padres', 'DS'],\n",
    "#                [2020, 'St. Louis Cardinals', 'WC'],\n",
    "#                [2020, 'Miami Marlins', 'DS'],\n",
    "#                [2020, 'Cincinnati Reds', 'WC'], \n",
    "#                [2020, 'Milwaukee Brewers', 'WC'],\n",
    "#                [2021, 'Tampa Bay Rays', 'DS'],\n",
    "#                [2021, 'Houston Astros', 'WS'],\n",
    "#                [2021, 'Chicago White Sox', 'DS'],\n",
    "#                [2021, 'Boston Red Sox', 'LS'],\n",
    "#                [2021, 'New York Yankees', 'WC'],\n",
    "#                [2021, 'San Francisco Giants', 'DS'],\n",
    "#                [2021, 'Milwaukee Brewers', 'DS'],\n",
    "#                [2021, 'Atlanta Braves', 'C'],\n",
    "#                [2021, 'Los Angeles Dodgers', 'LS'],\n",
    "#                [2021, 'St. Louis Cardinals', 'WC'],\n",
    "#                [2022, 'Houston Astros', 'C'],\n",
    "#                [2022, 'New York Yankees', 'LS'],\n",
    "#                [2022, 'Cleveland Guardians', 'DS'],\n",
    "#                [2022, 'Toronto Blue Jays', 'WC'],\n",
    "#                [2022, 'Seattle Mariners', 'DS'],\n",
    "#                [2022, 'Tampa Bay Rays', 'WC'],\n",
    "#                [2022, 'Los Angeles Dodgers', 'DS'],\n",
    "#                [2022, 'Atlanta Braves', 'DS'],\n",
    "#                [2022, 'St. Louis Cardinals', 'WC'],\n",
    "#                [2022, 'New York Mets', 'WC'],\n",
    "#                [2022, 'San Diego Padres', 'LS'],\n",
    "#                [2022, 'Philadelphia Phillies', 'WS'],\n",
    "#                [2023, 'Baltimore Orioles', 'DS'],\n",
    "#                [2023, 'Houston Astros', 'LS'],\n",
    "#                [2023, 'Minnesota Twins', 'DS'],\n",
    "#                [2023, 'Tampa Bay Rays', 'WC'],\n",
    "#                [2023, 'Texas Rangers', 'C'],\n",
    "#                [2023, 'Toronto Blue Jays', 'WC'],\n",
    "#                [2023, 'Atlanta Braves', 'DS'],\n",
    "#                [2023, 'Los Angeles Dodgers', 'DS'],\n",
    "#                [2023, 'Milwaukee Brewers', 'WC'],\n",
    "#                [2023, 'Philadelphia Phillies', 'LS'],\n",
    "#                [2023, 'Miami Marlins', 'WC'],\n",
    "#                [2023, 'Arizona Diamondbacks', 'WS']]\n",
    "# teams = pd.DataFrame(information, columns=['Year', 'Team Name', 'Level of Success'])\n",
    "\n",
    "# abbreviations = {'Los Angeles Angels': 'ANA', 'Arizona Diamondbacks': 'ARI', 'Atlanta Braves': 'ATL', 'Baltimore Orioles': 'BAL', 'Boston Red Sox': 'BOS',\n",
    "#                  'Chicago White Sox': 'CHA', 'Chicago Cubs': 'CHN', 'Cincinnati Reds': 'CIN', 'Cleveland Indians': 'CLE', 'Cleveland Guardians': 'CLE', 'Colorado Rockies': 'COL',\n",
    "#                  'Detroit Tigers': 'DET', 'Florida Marlins': 'FLO', 'Houston Astros': 'HOU', 'Kansas City Royals': 'KCA', 'Los Angeles Dodgers': 'LAN', 'Miami Marlins': 'MIA',\n",
    "#                  'Milwaukee Brewers': 'MIL', 'Minnesota Twins': 'MIN', 'New York Yankees': 'NYA', 'New York Mets': 'NYN', 'Oakland Athletics': 'OAK', 'Philadelphia Phillies': 'PHI',\n",
    "#                  'Pittsburgh Pirates': 'PIT', 'San Diego Padres': 'SDN', 'Seattle Mariners': 'SEA', 'San Francisco Giants': 'SFN', 'St. Louis Cardinals': 'SLN',\n",
    "#                  'Tampa Bay Rays': 'TBA', 'Texas Rangers': 'TEX', 'Toronto Blue Jays': 'TOR', 'Washington Nationals': 'WAS'}\n",
    "\n",
    "# teams['Team'] = teams['Team Name'].map(abbreviations)\n",
    "\n",
    "# teams.to_csv('playoff_teams.csv', index=False)"
   ]
  },
  {
   "cell_type": "code",
   "execution_count": 24,
   "metadata": {},
   "outputs": [],
   "source": [
    "teams = pd.read_csv('playoff_teams.csv')\n",
    "all_team_stats = pd.read_csv('baseball_data/teamstats.csv')"
   ]
  },
  {
   "cell_type": "code",
   "execution_count": 59,
   "metadata": {},
   "outputs": [],
   "source": [
    "all_team_stats['inne'] = 0\n",
    "for i in range(9, 30):\n",
    "    if f'inn{i}' in all_team_stats.columns:\n",
    "        all_team_stats[f'inn{i}'] = all_team_stats[f'inn{i}'].fillna(0)\n",
    "        if i != 9:\n",
    "            all_team_stats['inne'] = all_team_stats['inne'] + all_team_stats[f'inn{i}']"
   ]
  },
  {
   "cell_type": "code",
   "execution_count": 55,
   "metadata": {},
   "outputs": [],
   "source": [
    "# teams[teams['Year'] == 2022]\n",
    "\n",
    "team_features = ['inn1', 'inn2', 'inn3', 'inn4', 'inn5', 'inn6', 'inn7', 'inn8', 'inn9', 'inne', 'lob',\n",
    "                 'b_pa', 'b_ab', 'b_r', 'b_h', 'b_d', 'b_t', 'b_hr', 'b_rbi', 'b_sh', 'b_sf', 'b_hbp', 'b_w', 'b_iw', 'b_k', 'b_sb', 'b_cs', 'b_gdp',\n",
    "                 'p_bfp', 'p_h', 'p_d', 'p_t', 'p_hr', 'p_r', 'p_er', 'p_w', 'p_iw', 'p_k', 'p_hbp', 'p_wp', 'p_bk', 'p_sh', 'p_sf', 'p_sb', 'p_cs', 'p_pb',\n",
    "                 'd_a', 'd_e', 'd_dp', 'd_tp', 'wl']"
   ]
  },
  {
   "cell_type": "code",
   "execution_count": 78,
   "metadata": {},
   "outputs": [
    {
     "name": "stdout",
     "output_type": "stream",
     "text": [
      "Index: 0, Year: 1995 Team: BOS, Level of Success: DS\n"
     ]
    },
    {
     "name": "stderr",
     "output_type": "stream",
     "text": [
      "/var/folders/fh/fzyqqz2s1vzcm3v06kz1h29w0000gp/T/ipykernel_93107/521324885.py:8: UserWarning: Boolean Series key will be reindexed to match DataFrame index.\n",
      "  temp_stats = all_team_stats[all_team_stats['team'] == team['Team']][all_team_stats['date'].astype(str).str.startswith(str(team['Year']))][all_team_stats['gametype'] == 'regular'][team_features]\n",
      "/var/folders/fh/fzyqqz2s1vzcm3v06kz1h29w0000gp/T/ipykernel_93107/521324885.py:8: UserWarning: Boolean Series key will be reindexed to match DataFrame index.\n",
      "  temp_stats = all_team_stats[all_team_stats['team'] == team['Team']][all_team_stats['date'].astype(str).str.startswith(str(team['Year']))][all_team_stats['gametype'] == 'regular'][team_features]\n"
     ]
    },
    {
     "name": "stdout",
     "output_type": "stream",
     "text": [
      "Index: 1, Year: 1995 Team: CLE, Level of Success: WS\n"
     ]
    },
    {
     "name": "stderr",
     "output_type": "stream",
     "text": [
      "/var/folders/fh/fzyqqz2s1vzcm3v06kz1h29w0000gp/T/ipykernel_93107/521324885.py:8: UserWarning: Boolean Series key will be reindexed to match DataFrame index.\n",
      "  temp_stats = all_team_stats[all_team_stats['team'] == team['Team']][all_team_stats['date'].astype(str).str.startswith(str(team['Year']))][all_team_stats['gametype'] == 'regular'][team_features]\n",
      "/var/folders/fh/fzyqqz2s1vzcm3v06kz1h29w0000gp/T/ipykernel_93107/521324885.py:8: UserWarning: Boolean Series key will be reindexed to match DataFrame index.\n",
      "  temp_stats = all_team_stats[all_team_stats['team'] == team['Team']][all_team_stats['date'].astype(str).str.startswith(str(team['Year']))][all_team_stats['gametype'] == 'regular'][team_features]\n"
     ]
    },
    {
     "name": "stdout",
     "output_type": "stream",
     "text": [
      "Index: 2, Year: 1995 Team: SEA, Level of Success: LS\n"
     ]
    },
    {
     "name": "stderr",
     "output_type": "stream",
     "text": [
      "/var/folders/fh/fzyqqz2s1vzcm3v06kz1h29w0000gp/T/ipykernel_93107/521324885.py:8: UserWarning: Boolean Series key will be reindexed to match DataFrame index.\n",
      "  temp_stats = all_team_stats[all_team_stats['team'] == team['Team']][all_team_stats['date'].astype(str).str.startswith(str(team['Year']))][all_team_stats['gametype'] == 'regular'][team_features]\n",
      "/var/folders/fh/fzyqqz2s1vzcm3v06kz1h29w0000gp/T/ipykernel_93107/521324885.py:8: UserWarning: Boolean Series key will be reindexed to match DataFrame index.\n",
      "  temp_stats = all_team_stats[all_team_stats['team'] == team['Team']][all_team_stats['date'].astype(str).str.startswith(str(team['Year']))][all_team_stats['gametype'] == 'regular'][team_features]\n"
     ]
    },
    {
     "name": "stdout",
     "output_type": "stream",
     "text": [
      "Index: 3, Year: 1995 Team: NYA, Level of Success: DS\n"
     ]
    },
    {
     "name": "stderr",
     "output_type": "stream",
     "text": [
      "/var/folders/fh/fzyqqz2s1vzcm3v06kz1h29w0000gp/T/ipykernel_93107/521324885.py:8: UserWarning: Boolean Series key will be reindexed to match DataFrame index.\n",
      "  temp_stats = all_team_stats[all_team_stats['team'] == team['Team']][all_team_stats['date'].astype(str).str.startswith(str(team['Year']))][all_team_stats['gametype'] == 'regular'][team_features]\n",
      "/var/folders/fh/fzyqqz2s1vzcm3v06kz1h29w0000gp/T/ipykernel_93107/521324885.py:8: UserWarning: Boolean Series key will be reindexed to match DataFrame index.\n",
      "  temp_stats = all_team_stats[all_team_stats['team'] == team['Team']][all_team_stats['date'].astype(str).str.startswith(str(team['Year']))][all_team_stats['gametype'] == 'regular'][team_features]\n"
     ]
    },
    {
     "name": "stdout",
     "output_type": "stream",
     "text": [
      "Index: 4, Year: 1995 Team: ATL, Level of Success: C\n"
     ]
    },
    {
     "name": "stderr",
     "output_type": "stream",
     "text": [
      "/var/folders/fh/fzyqqz2s1vzcm3v06kz1h29w0000gp/T/ipykernel_93107/521324885.py:8: UserWarning: Boolean Series key will be reindexed to match DataFrame index.\n",
      "  temp_stats = all_team_stats[all_team_stats['team'] == team['Team']][all_team_stats['date'].astype(str).str.startswith(str(team['Year']))][all_team_stats['gametype'] == 'regular'][team_features]\n",
      "/var/folders/fh/fzyqqz2s1vzcm3v06kz1h29w0000gp/T/ipykernel_93107/521324885.py:8: UserWarning: Boolean Series key will be reindexed to match DataFrame index.\n",
      "  temp_stats = all_team_stats[all_team_stats['team'] == team['Team']][all_team_stats['date'].astype(str).str.startswith(str(team['Year']))][all_team_stats['gametype'] == 'regular'][team_features]\n"
     ]
    },
    {
     "name": "stdout",
     "output_type": "stream",
     "text": [
      "Index: 5, Year: 1995 Team: CIN, Level of Success: LS\n"
     ]
    },
    {
     "name": "stderr",
     "output_type": "stream",
     "text": [
      "/var/folders/fh/fzyqqz2s1vzcm3v06kz1h29w0000gp/T/ipykernel_93107/521324885.py:8: UserWarning: Boolean Series key will be reindexed to match DataFrame index.\n",
      "  temp_stats = all_team_stats[all_team_stats['team'] == team['Team']][all_team_stats['date'].astype(str).str.startswith(str(team['Year']))][all_team_stats['gametype'] == 'regular'][team_features]\n",
      "/var/folders/fh/fzyqqz2s1vzcm3v06kz1h29w0000gp/T/ipykernel_93107/521324885.py:8: UserWarning: Boolean Series key will be reindexed to match DataFrame index.\n",
      "  temp_stats = all_team_stats[all_team_stats['team'] == team['Team']][all_team_stats['date'].astype(str).str.startswith(str(team['Year']))][all_team_stats['gametype'] == 'regular'][team_features]\n"
     ]
    },
    {
     "name": "stdout",
     "output_type": "stream",
     "text": [
      "Index: 6, Year: 1995 Team: LAN, Level of Success: DS\n"
     ]
    },
    {
     "name": "stderr",
     "output_type": "stream",
     "text": [
      "/var/folders/fh/fzyqqz2s1vzcm3v06kz1h29w0000gp/T/ipykernel_93107/521324885.py:8: UserWarning: Boolean Series key will be reindexed to match DataFrame index.\n",
      "  temp_stats = all_team_stats[all_team_stats['team'] == team['Team']][all_team_stats['date'].astype(str).str.startswith(str(team['Year']))][all_team_stats['gametype'] == 'regular'][team_features]\n",
      "/var/folders/fh/fzyqqz2s1vzcm3v06kz1h29w0000gp/T/ipykernel_93107/521324885.py:8: UserWarning: Boolean Series key will be reindexed to match DataFrame index.\n",
      "  temp_stats = all_team_stats[all_team_stats['team'] == team['Team']][all_team_stats['date'].astype(str).str.startswith(str(team['Year']))][all_team_stats['gametype'] == 'regular'][team_features]\n"
     ]
    },
    {
     "name": "stdout",
     "output_type": "stream",
     "text": [
      "Index: 7, Year: 1995 Team: COL, Level of Success: DS\n"
     ]
    },
    {
     "name": "stderr",
     "output_type": "stream",
     "text": [
      "/var/folders/fh/fzyqqz2s1vzcm3v06kz1h29w0000gp/T/ipykernel_93107/521324885.py:8: UserWarning: Boolean Series key will be reindexed to match DataFrame index.\n",
      "  temp_stats = all_team_stats[all_team_stats['team'] == team['Team']][all_team_stats['date'].astype(str).str.startswith(str(team['Year']))][all_team_stats['gametype'] == 'regular'][team_features]\n",
      "/var/folders/fh/fzyqqz2s1vzcm3v06kz1h29w0000gp/T/ipykernel_93107/521324885.py:8: UserWarning: Boolean Series key will be reindexed to match DataFrame index.\n",
      "  temp_stats = all_team_stats[all_team_stats['team'] == team['Team']][all_team_stats['date'].astype(str).str.startswith(str(team['Year']))][all_team_stats['gametype'] == 'regular'][team_features]\n"
     ]
    },
    {
     "name": "stdout",
     "output_type": "stream",
     "text": [
      "Index: 8, Year: 1996 Team: NYA, Level of Success: C\n"
     ]
    },
    {
     "name": "stderr",
     "output_type": "stream",
     "text": [
      "/var/folders/fh/fzyqqz2s1vzcm3v06kz1h29w0000gp/T/ipykernel_93107/521324885.py:8: UserWarning: Boolean Series key will be reindexed to match DataFrame index.\n",
      "  temp_stats = all_team_stats[all_team_stats['team'] == team['Team']][all_team_stats['date'].astype(str).str.startswith(str(team['Year']))][all_team_stats['gametype'] == 'regular'][team_features]\n",
      "/var/folders/fh/fzyqqz2s1vzcm3v06kz1h29w0000gp/T/ipykernel_93107/521324885.py:8: UserWarning: Boolean Series key will be reindexed to match DataFrame index.\n",
      "  temp_stats = all_team_stats[all_team_stats['team'] == team['Team']][all_team_stats['date'].astype(str).str.startswith(str(team['Year']))][all_team_stats['gametype'] == 'regular'][team_features]\n"
     ]
    },
    {
     "name": "stdout",
     "output_type": "stream",
     "text": [
      "Index: 9, Year: 1996 Team: CLE, Level of Success: DS\n"
     ]
    },
    {
     "name": "stderr",
     "output_type": "stream",
     "text": [
      "/var/folders/fh/fzyqqz2s1vzcm3v06kz1h29w0000gp/T/ipykernel_93107/521324885.py:8: UserWarning: Boolean Series key will be reindexed to match DataFrame index.\n",
      "  temp_stats = all_team_stats[all_team_stats['team'] == team['Team']][all_team_stats['date'].astype(str).str.startswith(str(team['Year']))][all_team_stats['gametype'] == 'regular'][team_features]\n",
      "/var/folders/fh/fzyqqz2s1vzcm3v06kz1h29w0000gp/T/ipykernel_93107/521324885.py:8: UserWarning: Boolean Series key will be reindexed to match DataFrame index.\n",
      "  temp_stats = all_team_stats[all_team_stats['team'] == team['Team']][all_team_stats['date'].astype(str).str.startswith(str(team['Year']))][all_team_stats['gametype'] == 'regular'][team_features]\n"
     ]
    },
    {
     "name": "stdout",
     "output_type": "stream",
     "text": [
      "Index: 10, Year: 1996 Team: TEX, Level of Success: DS\n"
     ]
    },
    {
     "name": "stderr",
     "output_type": "stream",
     "text": [
      "/var/folders/fh/fzyqqz2s1vzcm3v06kz1h29w0000gp/T/ipykernel_93107/521324885.py:8: UserWarning: Boolean Series key will be reindexed to match DataFrame index.\n",
      "  temp_stats = all_team_stats[all_team_stats['team'] == team['Team']][all_team_stats['date'].astype(str).str.startswith(str(team['Year']))][all_team_stats['gametype'] == 'regular'][team_features]\n",
      "/var/folders/fh/fzyqqz2s1vzcm3v06kz1h29w0000gp/T/ipykernel_93107/521324885.py:8: UserWarning: Boolean Series key will be reindexed to match DataFrame index.\n",
      "  temp_stats = all_team_stats[all_team_stats['team'] == team['Team']][all_team_stats['date'].astype(str).str.startswith(str(team['Year']))][all_team_stats['gametype'] == 'regular'][team_features]\n"
     ]
    },
    {
     "name": "stdout",
     "output_type": "stream",
     "text": [
      "Index: 11, Year: 1996 Team: BAL, Level of Success: LS\n"
     ]
    },
    {
     "name": "stderr",
     "output_type": "stream",
     "text": [
      "/var/folders/fh/fzyqqz2s1vzcm3v06kz1h29w0000gp/T/ipykernel_93107/521324885.py:8: UserWarning: Boolean Series key will be reindexed to match DataFrame index.\n",
      "  temp_stats = all_team_stats[all_team_stats['team'] == team['Team']][all_team_stats['date'].astype(str).str.startswith(str(team['Year']))][all_team_stats['gametype'] == 'regular'][team_features]\n",
      "/var/folders/fh/fzyqqz2s1vzcm3v06kz1h29w0000gp/T/ipykernel_93107/521324885.py:8: UserWarning: Boolean Series key will be reindexed to match DataFrame index.\n",
      "  temp_stats = all_team_stats[all_team_stats['team'] == team['Team']][all_team_stats['date'].astype(str).str.startswith(str(team['Year']))][all_team_stats['gametype'] == 'regular'][team_features]\n"
     ]
    },
    {
     "name": "stdout",
     "output_type": "stream",
     "text": [
      "Index: 12, Year: 1996 Team: ATL, Level of Success: WS\n"
     ]
    },
    {
     "name": "stderr",
     "output_type": "stream",
     "text": [
      "/var/folders/fh/fzyqqz2s1vzcm3v06kz1h29w0000gp/T/ipykernel_93107/521324885.py:8: UserWarning: Boolean Series key will be reindexed to match DataFrame index.\n",
      "  temp_stats = all_team_stats[all_team_stats['team'] == team['Team']][all_team_stats['date'].astype(str).str.startswith(str(team['Year']))][all_team_stats['gametype'] == 'regular'][team_features]\n",
      "/var/folders/fh/fzyqqz2s1vzcm3v06kz1h29w0000gp/T/ipykernel_93107/521324885.py:8: UserWarning: Boolean Series key will be reindexed to match DataFrame index.\n",
      "  temp_stats = all_team_stats[all_team_stats['team'] == team['Team']][all_team_stats['date'].astype(str).str.startswith(str(team['Year']))][all_team_stats['gametype'] == 'regular'][team_features]\n"
     ]
    },
    {
     "name": "stdout",
     "output_type": "stream",
     "text": [
      "Index: 13, Year: 1996 Team: SLN, Level of Success: LS\n"
     ]
    },
    {
     "name": "stderr",
     "output_type": "stream",
     "text": [
      "/var/folders/fh/fzyqqz2s1vzcm3v06kz1h29w0000gp/T/ipykernel_93107/521324885.py:8: UserWarning: Boolean Series key will be reindexed to match DataFrame index.\n",
      "  temp_stats = all_team_stats[all_team_stats['team'] == team['Team']][all_team_stats['date'].astype(str).str.startswith(str(team['Year']))][all_team_stats['gametype'] == 'regular'][team_features]\n",
      "/var/folders/fh/fzyqqz2s1vzcm3v06kz1h29w0000gp/T/ipykernel_93107/521324885.py:8: UserWarning: Boolean Series key will be reindexed to match DataFrame index.\n",
      "  temp_stats = all_team_stats[all_team_stats['team'] == team['Team']][all_team_stats['date'].astype(str).str.startswith(str(team['Year']))][all_team_stats['gametype'] == 'regular'][team_features]\n"
     ]
    },
    {
     "name": "stdout",
     "output_type": "stream",
     "text": [
      "Index: 14, Year: 1996 Team: SDN, Level of Success: DS\n"
     ]
    },
    {
     "name": "stderr",
     "output_type": "stream",
     "text": [
      "/var/folders/fh/fzyqqz2s1vzcm3v06kz1h29w0000gp/T/ipykernel_93107/521324885.py:8: UserWarning: Boolean Series key will be reindexed to match DataFrame index.\n",
      "  temp_stats = all_team_stats[all_team_stats['team'] == team['Team']][all_team_stats['date'].astype(str).str.startswith(str(team['Year']))][all_team_stats['gametype'] == 'regular'][team_features]\n",
      "/var/folders/fh/fzyqqz2s1vzcm3v06kz1h29w0000gp/T/ipykernel_93107/521324885.py:8: UserWarning: Boolean Series key will be reindexed to match DataFrame index.\n",
      "  temp_stats = all_team_stats[all_team_stats['team'] == team['Team']][all_team_stats['date'].astype(str).str.startswith(str(team['Year']))][all_team_stats['gametype'] == 'regular'][team_features]\n"
     ]
    },
    {
     "name": "stdout",
     "output_type": "stream",
     "text": [
      "Index: 15, Year: 1996 Team: LAN, Level of Success: DS\n"
     ]
    },
    {
     "name": "stderr",
     "output_type": "stream",
     "text": [
      "/var/folders/fh/fzyqqz2s1vzcm3v06kz1h29w0000gp/T/ipykernel_93107/521324885.py:8: UserWarning: Boolean Series key will be reindexed to match DataFrame index.\n",
      "  temp_stats = all_team_stats[all_team_stats['team'] == team['Team']][all_team_stats['date'].astype(str).str.startswith(str(team['Year']))][all_team_stats['gametype'] == 'regular'][team_features]\n",
      "/var/folders/fh/fzyqqz2s1vzcm3v06kz1h29w0000gp/T/ipykernel_93107/521324885.py:8: UserWarning: Boolean Series key will be reindexed to match DataFrame index.\n",
      "  temp_stats = all_team_stats[all_team_stats['team'] == team['Team']][all_team_stats['date'].astype(str).str.startswith(str(team['Year']))][all_team_stats['gametype'] == 'regular'][team_features]\n"
     ]
    },
    {
     "name": "stdout",
     "output_type": "stream",
     "text": [
      "Index: 16, Year: 1997 Team: BAL, Level of Success: LS\n"
     ]
    },
    {
     "name": "stderr",
     "output_type": "stream",
     "text": [
      "/var/folders/fh/fzyqqz2s1vzcm3v06kz1h29w0000gp/T/ipykernel_93107/521324885.py:8: UserWarning: Boolean Series key will be reindexed to match DataFrame index.\n",
      "  temp_stats = all_team_stats[all_team_stats['team'] == team['Team']][all_team_stats['date'].astype(str).str.startswith(str(team['Year']))][all_team_stats['gametype'] == 'regular'][team_features]\n",
      "/var/folders/fh/fzyqqz2s1vzcm3v06kz1h29w0000gp/T/ipykernel_93107/521324885.py:8: UserWarning: Boolean Series key will be reindexed to match DataFrame index.\n",
      "  temp_stats = all_team_stats[all_team_stats['team'] == team['Team']][all_team_stats['date'].astype(str).str.startswith(str(team['Year']))][all_team_stats['gametype'] == 'regular'][team_features]\n"
     ]
    },
    {
     "name": "stdout",
     "output_type": "stream",
     "text": [
      "Index: 17, Year: 1997 Team: CLE, Level of Success: WS\n"
     ]
    },
    {
     "name": "stderr",
     "output_type": "stream",
     "text": [
      "/var/folders/fh/fzyqqz2s1vzcm3v06kz1h29w0000gp/T/ipykernel_93107/521324885.py:8: UserWarning: Boolean Series key will be reindexed to match DataFrame index.\n",
      "  temp_stats = all_team_stats[all_team_stats['team'] == team['Team']][all_team_stats['date'].astype(str).str.startswith(str(team['Year']))][all_team_stats['gametype'] == 'regular'][team_features]\n",
      "/var/folders/fh/fzyqqz2s1vzcm3v06kz1h29w0000gp/T/ipykernel_93107/521324885.py:8: UserWarning: Boolean Series key will be reindexed to match DataFrame index.\n",
      "  temp_stats = all_team_stats[all_team_stats['team'] == team['Team']][all_team_stats['date'].astype(str).str.startswith(str(team['Year']))][all_team_stats['gametype'] == 'regular'][team_features]\n"
     ]
    },
    {
     "name": "stdout",
     "output_type": "stream",
     "text": [
      "Index: 18, Year: 1997 Team: SEA, Level of Success: DS\n"
     ]
    },
    {
     "name": "stderr",
     "output_type": "stream",
     "text": [
      "/var/folders/fh/fzyqqz2s1vzcm3v06kz1h29w0000gp/T/ipykernel_93107/521324885.py:8: UserWarning: Boolean Series key will be reindexed to match DataFrame index.\n",
      "  temp_stats = all_team_stats[all_team_stats['team'] == team['Team']][all_team_stats['date'].astype(str).str.startswith(str(team['Year']))][all_team_stats['gametype'] == 'regular'][team_features]\n",
      "/var/folders/fh/fzyqqz2s1vzcm3v06kz1h29w0000gp/T/ipykernel_93107/521324885.py:8: UserWarning: Boolean Series key will be reindexed to match DataFrame index.\n",
      "  temp_stats = all_team_stats[all_team_stats['team'] == team['Team']][all_team_stats['date'].astype(str).str.startswith(str(team['Year']))][all_team_stats['gametype'] == 'regular'][team_features]\n"
     ]
    },
    {
     "name": "stdout",
     "output_type": "stream",
     "text": [
      "Index: 19, Year: 1997 Team: NYA, Level of Success: DS\n"
     ]
    },
    {
     "name": "stderr",
     "output_type": "stream",
     "text": [
      "/var/folders/fh/fzyqqz2s1vzcm3v06kz1h29w0000gp/T/ipykernel_93107/521324885.py:8: UserWarning: Boolean Series key will be reindexed to match DataFrame index.\n",
      "  temp_stats = all_team_stats[all_team_stats['team'] == team['Team']][all_team_stats['date'].astype(str).str.startswith(str(team['Year']))][all_team_stats['gametype'] == 'regular'][team_features]\n",
      "/var/folders/fh/fzyqqz2s1vzcm3v06kz1h29w0000gp/T/ipykernel_93107/521324885.py:8: UserWarning: Boolean Series key will be reindexed to match DataFrame index.\n",
      "  temp_stats = all_team_stats[all_team_stats['team'] == team['Team']][all_team_stats['date'].astype(str).str.startswith(str(team['Year']))][all_team_stats['gametype'] == 'regular'][team_features]\n"
     ]
    },
    {
     "name": "stdout",
     "output_type": "stream",
     "text": [
      "Index: 20, Year: 1997 Team: ATL, Level of Success: LS\n"
     ]
    },
    {
     "name": "stderr",
     "output_type": "stream",
     "text": [
      "/var/folders/fh/fzyqqz2s1vzcm3v06kz1h29w0000gp/T/ipykernel_93107/521324885.py:8: UserWarning: Boolean Series key will be reindexed to match DataFrame index.\n",
      "  temp_stats = all_team_stats[all_team_stats['team'] == team['Team']][all_team_stats['date'].astype(str).str.startswith(str(team['Year']))][all_team_stats['gametype'] == 'regular'][team_features]\n",
      "/var/folders/fh/fzyqqz2s1vzcm3v06kz1h29w0000gp/T/ipykernel_93107/521324885.py:8: UserWarning: Boolean Series key will be reindexed to match DataFrame index.\n",
      "  temp_stats = all_team_stats[all_team_stats['team'] == team['Team']][all_team_stats['date'].astype(str).str.startswith(str(team['Year']))][all_team_stats['gametype'] == 'regular'][team_features]\n"
     ]
    },
    {
     "name": "stdout",
     "output_type": "stream",
     "text": [
      "Index: 21, Year: 1997 Team: HOU, Level of Success: DS\n"
     ]
    },
    {
     "name": "stderr",
     "output_type": "stream",
     "text": [
      "/var/folders/fh/fzyqqz2s1vzcm3v06kz1h29w0000gp/T/ipykernel_93107/521324885.py:8: UserWarning: Boolean Series key will be reindexed to match DataFrame index.\n",
      "  temp_stats = all_team_stats[all_team_stats['team'] == team['Team']][all_team_stats['date'].astype(str).str.startswith(str(team['Year']))][all_team_stats['gametype'] == 'regular'][team_features]\n",
      "/var/folders/fh/fzyqqz2s1vzcm3v06kz1h29w0000gp/T/ipykernel_93107/521324885.py:8: UserWarning: Boolean Series key will be reindexed to match DataFrame index.\n",
      "  temp_stats = all_team_stats[all_team_stats['team'] == team['Team']][all_team_stats['date'].astype(str).str.startswith(str(team['Year']))][all_team_stats['gametype'] == 'regular'][team_features]\n"
     ]
    },
    {
     "name": "stdout",
     "output_type": "stream",
     "text": [
      "Index: 22, Year: 1997 Team: SFN, Level of Success: DS\n"
     ]
    },
    {
     "name": "stderr",
     "output_type": "stream",
     "text": [
      "/var/folders/fh/fzyqqz2s1vzcm3v06kz1h29w0000gp/T/ipykernel_93107/521324885.py:8: UserWarning: Boolean Series key will be reindexed to match DataFrame index.\n",
      "  temp_stats = all_team_stats[all_team_stats['team'] == team['Team']][all_team_stats['date'].astype(str).str.startswith(str(team['Year']))][all_team_stats['gametype'] == 'regular'][team_features]\n",
      "/var/folders/fh/fzyqqz2s1vzcm3v06kz1h29w0000gp/T/ipykernel_93107/521324885.py:8: UserWarning: Boolean Series key will be reindexed to match DataFrame index.\n",
      "  temp_stats = all_team_stats[all_team_stats['team'] == team['Team']][all_team_stats['date'].astype(str).str.startswith(str(team['Year']))][all_team_stats['gametype'] == 'regular'][team_features]\n"
     ]
    },
    {
     "name": "stdout",
     "output_type": "stream",
     "text": [
      "Index: 23, Year: 1997 Team: FLO, Level of Success: C\n"
     ]
    },
    {
     "name": "stderr",
     "output_type": "stream",
     "text": [
      "/var/folders/fh/fzyqqz2s1vzcm3v06kz1h29w0000gp/T/ipykernel_93107/521324885.py:8: UserWarning: Boolean Series key will be reindexed to match DataFrame index.\n",
      "  temp_stats = all_team_stats[all_team_stats['team'] == team['Team']][all_team_stats['date'].astype(str).str.startswith(str(team['Year']))][all_team_stats['gametype'] == 'regular'][team_features]\n",
      "/var/folders/fh/fzyqqz2s1vzcm3v06kz1h29w0000gp/T/ipykernel_93107/521324885.py:8: UserWarning: Boolean Series key will be reindexed to match DataFrame index.\n",
      "  temp_stats = all_team_stats[all_team_stats['team'] == team['Team']][all_team_stats['date'].astype(str).str.startswith(str(team['Year']))][all_team_stats['gametype'] == 'regular'][team_features]\n"
     ]
    },
    {
     "name": "stdout",
     "output_type": "stream",
     "text": [
      "Index: 24, Year: 1998 Team: NYA, Level of Success: C\n"
     ]
    },
    {
     "name": "stderr",
     "output_type": "stream",
     "text": [
      "/var/folders/fh/fzyqqz2s1vzcm3v06kz1h29w0000gp/T/ipykernel_93107/521324885.py:8: UserWarning: Boolean Series key will be reindexed to match DataFrame index.\n",
      "  temp_stats = all_team_stats[all_team_stats['team'] == team['Team']][all_team_stats['date'].astype(str).str.startswith(str(team['Year']))][all_team_stats['gametype'] == 'regular'][team_features]\n",
      "/var/folders/fh/fzyqqz2s1vzcm3v06kz1h29w0000gp/T/ipykernel_93107/521324885.py:8: UserWarning: Boolean Series key will be reindexed to match DataFrame index.\n",
      "  temp_stats = all_team_stats[all_team_stats['team'] == team['Team']][all_team_stats['date'].astype(str).str.startswith(str(team['Year']))][all_team_stats['gametype'] == 'regular'][team_features]\n"
     ]
    },
    {
     "name": "stdout",
     "output_type": "stream",
     "text": [
      "Index: 25, Year: 1998 Team: CLE, Level of Success: LS\n"
     ]
    },
    {
     "name": "stderr",
     "output_type": "stream",
     "text": [
      "/var/folders/fh/fzyqqz2s1vzcm3v06kz1h29w0000gp/T/ipykernel_93107/521324885.py:8: UserWarning: Boolean Series key will be reindexed to match DataFrame index.\n",
      "  temp_stats = all_team_stats[all_team_stats['team'] == team['Team']][all_team_stats['date'].astype(str).str.startswith(str(team['Year']))][all_team_stats['gametype'] == 'regular'][team_features]\n",
      "/var/folders/fh/fzyqqz2s1vzcm3v06kz1h29w0000gp/T/ipykernel_93107/521324885.py:8: UserWarning: Boolean Series key will be reindexed to match DataFrame index.\n",
      "  temp_stats = all_team_stats[all_team_stats['team'] == team['Team']][all_team_stats['date'].astype(str).str.startswith(str(team['Year']))][all_team_stats['gametype'] == 'regular'][team_features]\n"
     ]
    },
    {
     "name": "stdout",
     "output_type": "stream",
     "text": [
      "Index: 26, Year: 1998 Team: TEX, Level of Success: DS\n"
     ]
    },
    {
     "name": "stderr",
     "output_type": "stream",
     "text": [
      "/var/folders/fh/fzyqqz2s1vzcm3v06kz1h29w0000gp/T/ipykernel_93107/521324885.py:8: UserWarning: Boolean Series key will be reindexed to match DataFrame index.\n",
      "  temp_stats = all_team_stats[all_team_stats['team'] == team['Team']][all_team_stats['date'].astype(str).str.startswith(str(team['Year']))][all_team_stats['gametype'] == 'regular'][team_features]\n",
      "/var/folders/fh/fzyqqz2s1vzcm3v06kz1h29w0000gp/T/ipykernel_93107/521324885.py:8: UserWarning: Boolean Series key will be reindexed to match DataFrame index.\n",
      "  temp_stats = all_team_stats[all_team_stats['team'] == team['Team']][all_team_stats['date'].astype(str).str.startswith(str(team['Year']))][all_team_stats['gametype'] == 'regular'][team_features]\n"
     ]
    },
    {
     "name": "stdout",
     "output_type": "stream",
     "text": [
      "Index: 27, Year: 1998 Team: BOS, Level of Success: DS\n"
     ]
    },
    {
     "name": "stderr",
     "output_type": "stream",
     "text": [
      "/var/folders/fh/fzyqqz2s1vzcm3v06kz1h29w0000gp/T/ipykernel_93107/521324885.py:8: UserWarning: Boolean Series key will be reindexed to match DataFrame index.\n",
      "  temp_stats = all_team_stats[all_team_stats['team'] == team['Team']][all_team_stats['date'].astype(str).str.startswith(str(team['Year']))][all_team_stats['gametype'] == 'regular'][team_features]\n",
      "/var/folders/fh/fzyqqz2s1vzcm3v06kz1h29w0000gp/T/ipykernel_93107/521324885.py:8: UserWarning: Boolean Series key will be reindexed to match DataFrame index.\n",
      "  temp_stats = all_team_stats[all_team_stats['team'] == team['Team']][all_team_stats['date'].astype(str).str.startswith(str(team['Year']))][all_team_stats['gametype'] == 'regular'][team_features]\n"
     ]
    },
    {
     "name": "stdout",
     "output_type": "stream",
     "text": [
      "Index: 28, Year: 1998 Team: ATL, Level of Success: LS\n"
     ]
    },
    {
     "name": "stderr",
     "output_type": "stream",
     "text": [
      "/var/folders/fh/fzyqqz2s1vzcm3v06kz1h29w0000gp/T/ipykernel_93107/521324885.py:8: UserWarning: Boolean Series key will be reindexed to match DataFrame index.\n",
      "  temp_stats = all_team_stats[all_team_stats['team'] == team['Team']][all_team_stats['date'].astype(str).str.startswith(str(team['Year']))][all_team_stats['gametype'] == 'regular'][team_features]\n",
      "/var/folders/fh/fzyqqz2s1vzcm3v06kz1h29w0000gp/T/ipykernel_93107/521324885.py:8: UserWarning: Boolean Series key will be reindexed to match DataFrame index.\n",
      "  temp_stats = all_team_stats[all_team_stats['team'] == team['Team']][all_team_stats['date'].astype(str).str.startswith(str(team['Year']))][all_team_stats['gametype'] == 'regular'][team_features]\n"
     ]
    },
    {
     "name": "stdout",
     "output_type": "stream",
     "text": [
      "Index: 29, Year: 1998 Team: HOU, Level of Success: DS\n"
     ]
    },
    {
     "name": "stderr",
     "output_type": "stream",
     "text": [
      "/var/folders/fh/fzyqqz2s1vzcm3v06kz1h29w0000gp/T/ipykernel_93107/521324885.py:8: UserWarning: Boolean Series key will be reindexed to match DataFrame index.\n",
      "  temp_stats = all_team_stats[all_team_stats['team'] == team['Team']][all_team_stats['date'].astype(str).str.startswith(str(team['Year']))][all_team_stats['gametype'] == 'regular'][team_features]\n",
      "/var/folders/fh/fzyqqz2s1vzcm3v06kz1h29w0000gp/T/ipykernel_93107/521324885.py:8: UserWarning: Boolean Series key will be reindexed to match DataFrame index.\n",
      "  temp_stats = all_team_stats[all_team_stats['team'] == team['Team']][all_team_stats['date'].astype(str).str.startswith(str(team['Year']))][all_team_stats['gametype'] == 'regular'][team_features]\n"
     ]
    },
    {
     "name": "stdout",
     "output_type": "stream",
     "text": [
      "Index: 30, Year: 1998 Team: SDN, Level of Success: WS\n"
     ]
    },
    {
     "name": "stderr",
     "output_type": "stream",
     "text": [
      "/var/folders/fh/fzyqqz2s1vzcm3v06kz1h29w0000gp/T/ipykernel_93107/521324885.py:8: UserWarning: Boolean Series key will be reindexed to match DataFrame index.\n",
      "  temp_stats = all_team_stats[all_team_stats['team'] == team['Team']][all_team_stats['date'].astype(str).str.startswith(str(team['Year']))][all_team_stats['gametype'] == 'regular'][team_features]\n",
      "/var/folders/fh/fzyqqz2s1vzcm3v06kz1h29w0000gp/T/ipykernel_93107/521324885.py:8: UserWarning: Boolean Series key will be reindexed to match DataFrame index.\n",
      "  temp_stats = all_team_stats[all_team_stats['team'] == team['Team']][all_team_stats['date'].astype(str).str.startswith(str(team['Year']))][all_team_stats['gametype'] == 'regular'][team_features]\n"
     ]
    },
    {
     "name": "stdout",
     "output_type": "stream",
     "text": [
      "Index: 31, Year: 1998 Team: CHN, Level of Success: DS\n"
     ]
    },
    {
     "name": "stderr",
     "output_type": "stream",
     "text": [
      "/var/folders/fh/fzyqqz2s1vzcm3v06kz1h29w0000gp/T/ipykernel_93107/521324885.py:8: UserWarning: Boolean Series key will be reindexed to match DataFrame index.\n",
      "  temp_stats = all_team_stats[all_team_stats['team'] == team['Team']][all_team_stats['date'].astype(str).str.startswith(str(team['Year']))][all_team_stats['gametype'] == 'regular'][team_features]\n",
      "/var/folders/fh/fzyqqz2s1vzcm3v06kz1h29w0000gp/T/ipykernel_93107/521324885.py:8: UserWarning: Boolean Series key will be reindexed to match DataFrame index.\n",
      "  temp_stats = all_team_stats[all_team_stats['team'] == team['Team']][all_team_stats['date'].astype(str).str.startswith(str(team['Year']))][all_team_stats['gametype'] == 'regular'][team_features]\n"
     ]
    },
    {
     "name": "stdout",
     "output_type": "stream",
     "text": [
      "Index: 32, Year: 1999 Team: NYA, Level of Success: C\n"
     ]
    },
    {
     "name": "stderr",
     "output_type": "stream",
     "text": [
      "/var/folders/fh/fzyqqz2s1vzcm3v06kz1h29w0000gp/T/ipykernel_93107/521324885.py:8: UserWarning: Boolean Series key will be reindexed to match DataFrame index.\n",
      "  temp_stats = all_team_stats[all_team_stats['team'] == team['Team']][all_team_stats['date'].astype(str).str.startswith(str(team['Year']))][all_team_stats['gametype'] == 'regular'][team_features]\n",
      "/var/folders/fh/fzyqqz2s1vzcm3v06kz1h29w0000gp/T/ipykernel_93107/521324885.py:8: UserWarning: Boolean Series key will be reindexed to match DataFrame index.\n",
      "  temp_stats = all_team_stats[all_team_stats['team'] == team['Team']][all_team_stats['date'].astype(str).str.startswith(str(team['Year']))][all_team_stats['gametype'] == 'regular'][team_features]\n"
     ]
    },
    {
     "name": "stdout",
     "output_type": "stream",
     "text": [
      "Index: 33, Year: 1999 Team: CLE, Level of Success: DS\n"
     ]
    },
    {
     "name": "stderr",
     "output_type": "stream",
     "text": [
      "/var/folders/fh/fzyqqz2s1vzcm3v06kz1h29w0000gp/T/ipykernel_93107/521324885.py:8: UserWarning: Boolean Series key will be reindexed to match DataFrame index.\n",
      "  temp_stats = all_team_stats[all_team_stats['team'] == team['Team']][all_team_stats['date'].astype(str).str.startswith(str(team['Year']))][all_team_stats['gametype'] == 'regular'][team_features]\n",
      "/var/folders/fh/fzyqqz2s1vzcm3v06kz1h29w0000gp/T/ipykernel_93107/521324885.py:8: UserWarning: Boolean Series key will be reindexed to match DataFrame index.\n",
      "  temp_stats = all_team_stats[all_team_stats['team'] == team['Team']][all_team_stats['date'].astype(str).str.startswith(str(team['Year']))][all_team_stats['gametype'] == 'regular'][team_features]\n"
     ]
    },
    {
     "name": "stdout",
     "output_type": "stream",
     "text": [
      "Index: 34, Year: 1999 Team: TEX, Level of Success: DS\n"
     ]
    },
    {
     "name": "stderr",
     "output_type": "stream",
     "text": [
      "/var/folders/fh/fzyqqz2s1vzcm3v06kz1h29w0000gp/T/ipykernel_93107/521324885.py:8: UserWarning: Boolean Series key will be reindexed to match DataFrame index.\n",
      "  temp_stats = all_team_stats[all_team_stats['team'] == team['Team']][all_team_stats['date'].astype(str).str.startswith(str(team['Year']))][all_team_stats['gametype'] == 'regular'][team_features]\n",
      "/var/folders/fh/fzyqqz2s1vzcm3v06kz1h29w0000gp/T/ipykernel_93107/521324885.py:8: UserWarning: Boolean Series key will be reindexed to match DataFrame index.\n",
      "  temp_stats = all_team_stats[all_team_stats['team'] == team['Team']][all_team_stats['date'].astype(str).str.startswith(str(team['Year']))][all_team_stats['gametype'] == 'regular'][team_features]\n"
     ]
    },
    {
     "name": "stdout",
     "output_type": "stream",
     "text": [
      "Index: 35, Year: 1999 Team: BOS, Level of Success: LS\n"
     ]
    },
    {
     "name": "stderr",
     "output_type": "stream",
     "text": [
      "/var/folders/fh/fzyqqz2s1vzcm3v06kz1h29w0000gp/T/ipykernel_93107/521324885.py:8: UserWarning: Boolean Series key will be reindexed to match DataFrame index.\n",
      "  temp_stats = all_team_stats[all_team_stats['team'] == team['Team']][all_team_stats['date'].astype(str).str.startswith(str(team['Year']))][all_team_stats['gametype'] == 'regular'][team_features]\n",
      "/var/folders/fh/fzyqqz2s1vzcm3v06kz1h29w0000gp/T/ipykernel_93107/521324885.py:8: UserWarning: Boolean Series key will be reindexed to match DataFrame index.\n",
      "  temp_stats = all_team_stats[all_team_stats['team'] == team['Team']][all_team_stats['date'].astype(str).str.startswith(str(team['Year']))][all_team_stats['gametype'] == 'regular'][team_features]\n"
     ]
    },
    {
     "name": "stdout",
     "output_type": "stream",
     "text": [
      "Index: 36, Year: 1999 Team: ATL, Level of Success: WS\n"
     ]
    },
    {
     "name": "stderr",
     "output_type": "stream",
     "text": [
      "/var/folders/fh/fzyqqz2s1vzcm3v06kz1h29w0000gp/T/ipykernel_93107/521324885.py:8: UserWarning: Boolean Series key will be reindexed to match DataFrame index.\n",
      "  temp_stats = all_team_stats[all_team_stats['team'] == team['Team']][all_team_stats['date'].astype(str).str.startswith(str(team['Year']))][all_team_stats['gametype'] == 'regular'][team_features]\n",
      "/var/folders/fh/fzyqqz2s1vzcm3v06kz1h29w0000gp/T/ipykernel_93107/521324885.py:8: UserWarning: Boolean Series key will be reindexed to match DataFrame index.\n",
      "  temp_stats = all_team_stats[all_team_stats['team'] == team['Team']][all_team_stats['date'].astype(str).str.startswith(str(team['Year']))][all_team_stats['gametype'] == 'regular'][team_features]\n"
     ]
    },
    {
     "name": "stdout",
     "output_type": "stream",
     "text": [
      "Index: 37, Year: 1999 Team: ARI, Level of Success: DS\n"
     ]
    },
    {
     "name": "stderr",
     "output_type": "stream",
     "text": [
      "/var/folders/fh/fzyqqz2s1vzcm3v06kz1h29w0000gp/T/ipykernel_93107/521324885.py:8: UserWarning: Boolean Series key will be reindexed to match DataFrame index.\n",
      "  temp_stats = all_team_stats[all_team_stats['team'] == team['Team']][all_team_stats['date'].astype(str).str.startswith(str(team['Year']))][all_team_stats['gametype'] == 'regular'][team_features]\n",
      "/var/folders/fh/fzyqqz2s1vzcm3v06kz1h29w0000gp/T/ipykernel_93107/521324885.py:8: UserWarning: Boolean Series key will be reindexed to match DataFrame index.\n",
      "  temp_stats = all_team_stats[all_team_stats['team'] == team['Team']][all_team_stats['date'].astype(str).str.startswith(str(team['Year']))][all_team_stats['gametype'] == 'regular'][team_features]\n"
     ]
    },
    {
     "name": "stdout",
     "output_type": "stream",
     "text": [
      "Index: 38, Year: 1999 Team: HOU, Level of Success: DS\n"
     ]
    },
    {
     "name": "stderr",
     "output_type": "stream",
     "text": [
      "/var/folders/fh/fzyqqz2s1vzcm3v06kz1h29w0000gp/T/ipykernel_93107/521324885.py:8: UserWarning: Boolean Series key will be reindexed to match DataFrame index.\n",
      "  temp_stats = all_team_stats[all_team_stats['team'] == team['Team']][all_team_stats['date'].astype(str).str.startswith(str(team['Year']))][all_team_stats['gametype'] == 'regular'][team_features]\n",
      "/var/folders/fh/fzyqqz2s1vzcm3v06kz1h29w0000gp/T/ipykernel_93107/521324885.py:8: UserWarning: Boolean Series key will be reindexed to match DataFrame index.\n",
      "  temp_stats = all_team_stats[all_team_stats['team'] == team['Team']][all_team_stats['date'].astype(str).str.startswith(str(team['Year']))][all_team_stats['gametype'] == 'regular'][team_features]\n"
     ]
    },
    {
     "name": "stdout",
     "output_type": "stream",
     "text": [
      "Index: 39, Year: 1999 Team: NYN, Level of Success: LS\n"
     ]
    },
    {
     "name": "stderr",
     "output_type": "stream",
     "text": [
      "/var/folders/fh/fzyqqz2s1vzcm3v06kz1h29w0000gp/T/ipykernel_93107/521324885.py:8: UserWarning: Boolean Series key will be reindexed to match DataFrame index.\n",
      "  temp_stats = all_team_stats[all_team_stats['team'] == team['Team']][all_team_stats['date'].astype(str).str.startswith(str(team['Year']))][all_team_stats['gametype'] == 'regular'][team_features]\n",
      "/var/folders/fh/fzyqqz2s1vzcm3v06kz1h29w0000gp/T/ipykernel_93107/521324885.py:8: UserWarning: Boolean Series key will be reindexed to match DataFrame index.\n",
      "  temp_stats = all_team_stats[all_team_stats['team'] == team['Team']][all_team_stats['date'].astype(str).str.startswith(str(team['Year']))][all_team_stats['gametype'] == 'regular'][team_features]\n"
     ]
    },
    {
     "name": "stdout",
     "output_type": "stream",
     "text": [
      "Index: 40, Year: 2000 Team: CHA, Level of Success: DS\n"
     ]
    },
    {
     "name": "stderr",
     "output_type": "stream",
     "text": [
      "/var/folders/fh/fzyqqz2s1vzcm3v06kz1h29w0000gp/T/ipykernel_93107/521324885.py:8: UserWarning: Boolean Series key will be reindexed to match DataFrame index.\n",
      "  temp_stats = all_team_stats[all_team_stats['team'] == team['Team']][all_team_stats['date'].astype(str).str.startswith(str(team['Year']))][all_team_stats['gametype'] == 'regular'][team_features]\n",
      "/var/folders/fh/fzyqqz2s1vzcm3v06kz1h29w0000gp/T/ipykernel_93107/521324885.py:8: UserWarning: Boolean Series key will be reindexed to match DataFrame index.\n",
      "  temp_stats = all_team_stats[all_team_stats['team'] == team['Team']][all_team_stats['date'].astype(str).str.startswith(str(team['Year']))][all_team_stats['gametype'] == 'regular'][team_features]\n"
     ]
    },
    {
     "name": "stdout",
     "output_type": "stream",
     "text": [
      "Index: 41, Year: 2000 Team: OAK, Level of Success: DS\n"
     ]
    },
    {
     "name": "stderr",
     "output_type": "stream",
     "text": [
      "/var/folders/fh/fzyqqz2s1vzcm3v06kz1h29w0000gp/T/ipykernel_93107/521324885.py:8: UserWarning: Boolean Series key will be reindexed to match DataFrame index.\n",
      "  temp_stats = all_team_stats[all_team_stats['team'] == team['Team']][all_team_stats['date'].astype(str).str.startswith(str(team['Year']))][all_team_stats['gametype'] == 'regular'][team_features]\n",
      "/var/folders/fh/fzyqqz2s1vzcm3v06kz1h29w0000gp/T/ipykernel_93107/521324885.py:8: UserWarning: Boolean Series key will be reindexed to match DataFrame index.\n",
      "  temp_stats = all_team_stats[all_team_stats['team'] == team['Team']][all_team_stats['date'].astype(str).str.startswith(str(team['Year']))][all_team_stats['gametype'] == 'regular'][team_features]\n"
     ]
    },
    {
     "name": "stdout",
     "output_type": "stream",
     "text": [
      "Index: 42, Year: 2000 Team: NYA, Level of Success: C\n"
     ]
    },
    {
     "name": "stderr",
     "output_type": "stream",
     "text": [
      "/var/folders/fh/fzyqqz2s1vzcm3v06kz1h29w0000gp/T/ipykernel_93107/521324885.py:8: UserWarning: Boolean Series key will be reindexed to match DataFrame index.\n",
      "  temp_stats = all_team_stats[all_team_stats['team'] == team['Team']][all_team_stats['date'].astype(str).str.startswith(str(team['Year']))][all_team_stats['gametype'] == 'regular'][team_features]\n",
      "/var/folders/fh/fzyqqz2s1vzcm3v06kz1h29w0000gp/T/ipykernel_93107/521324885.py:8: UserWarning: Boolean Series key will be reindexed to match DataFrame index.\n",
      "  temp_stats = all_team_stats[all_team_stats['team'] == team['Team']][all_team_stats['date'].astype(str).str.startswith(str(team['Year']))][all_team_stats['gametype'] == 'regular'][team_features]\n"
     ]
    },
    {
     "name": "stdout",
     "output_type": "stream",
     "text": [
      "Index: 43, Year: 2000 Team: SEA, Level of Success: LS\n"
     ]
    },
    {
     "name": "stderr",
     "output_type": "stream",
     "text": [
      "/var/folders/fh/fzyqqz2s1vzcm3v06kz1h29w0000gp/T/ipykernel_93107/521324885.py:8: UserWarning: Boolean Series key will be reindexed to match DataFrame index.\n",
      "  temp_stats = all_team_stats[all_team_stats['team'] == team['Team']][all_team_stats['date'].astype(str).str.startswith(str(team['Year']))][all_team_stats['gametype'] == 'regular'][team_features]\n",
      "/var/folders/fh/fzyqqz2s1vzcm3v06kz1h29w0000gp/T/ipykernel_93107/521324885.py:8: UserWarning: Boolean Series key will be reindexed to match DataFrame index.\n",
      "  temp_stats = all_team_stats[all_team_stats['team'] == team['Team']][all_team_stats['date'].astype(str).str.startswith(str(team['Year']))][all_team_stats['gametype'] == 'regular'][team_features]\n"
     ]
    },
    {
     "name": "stdout",
     "output_type": "stream",
     "text": [
      "Index: 44, Year: 2000 Team: SFN, Level of Success: DS\n"
     ]
    },
    {
     "name": "stderr",
     "output_type": "stream",
     "text": [
      "/var/folders/fh/fzyqqz2s1vzcm3v06kz1h29w0000gp/T/ipykernel_93107/521324885.py:8: UserWarning: Boolean Series key will be reindexed to match DataFrame index.\n",
      "  temp_stats = all_team_stats[all_team_stats['team'] == team['Team']][all_team_stats['date'].astype(str).str.startswith(str(team['Year']))][all_team_stats['gametype'] == 'regular'][team_features]\n",
      "/var/folders/fh/fzyqqz2s1vzcm3v06kz1h29w0000gp/T/ipykernel_93107/521324885.py:8: UserWarning: Boolean Series key will be reindexed to match DataFrame index.\n",
      "  temp_stats = all_team_stats[all_team_stats['team'] == team['Team']][all_team_stats['date'].astype(str).str.startswith(str(team['Year']))][all_team_stats['gametype'] == 'regular'][team_features]\n"
     ]
    },
    {
     "name": "stdout",
     "output_type": "stream",
     "text": [
      "Index: 45, Year: 2000 Team: SLN, Level of Success: LS\n"
     ]
    },
    {
     "name": "stderr",
     "output_type": "stream",
     "text": [
      "/var/folders/fh/fzyqqz2s1vzcm3v06kz1h29w0000gp/T/ipykernel_93107/521324885.py:8: UserWarning: Boolean Series key will be reindexed to match DataFrame index.\n",
      "  temp_stats = all_team_stats[all_team_stats['team'] == team['Team']][all_team_stats['date'].astype(str).str.startswith(str(team['Year']))][all_team_stats['gametype'] == 'regular'][team_features]\n",
      "/var/folders/fh/fzyqqz2s1vzcm3v06kz1h29w0000gp/T/ipykernel_93107/521324885.py:8: UserWarning: Boolean Series key will be reindexed to match DataFrame index.\n",
      "  temp_stats = all_team_stats[all_team_stats['team'] == team['Team']][all_team_stats['date'].astype(str).str.startswith(str(team['Year']))][all_team_stats['gametype'] == 'regular'][team_features]\n"
     ]
    },
    {
     "name": "stdout",
     "output_type": "stream",
     "text": [
      "Index: 46, Year: 2000 Team: ATL, Level of Success: DS\n"
     ]
    },
    {
     "name": "stderr",
     "output_type": "stream",
     "text": [
      "/var/folders/fh/fzyqqz2s1vzcm3v06kz1h29w0000gp/T/ipykernel_93107/521324885.py:8: UserWarning: Boolean Series key will be reindexed to match DataFrame index.\n",
      "  temp_stats = all_team_stats[all_team_stats['team'] == team['Team']][all_team_stats['date'].astype(str).str.startswith(str(team['Year']))][all_team_stats['gametype'] == 'regular'][team_features]\n",
      "/var/folders/fh/fzyqqz2s1vzcm3v06kz1h29w0000gp/T/ipykernel_93107/521324885.py:8: UserWarning: Boolean Series key will be reindexed to match DataFrame index.\n",
      "  temp_stats = all_team_stats[all_team_stats['team'] == team['Team']][all_team_stats['date'].astype(str).str.startswith(str(team['Year']))][all_team_stats['gametype'] == 'regular'][team_features]\n"
     ]
    },
    {
     "name": "stdout",
     "output_type": "stream",
     "text": [
      "Index: 47, Year: 2000 Team: NYN, Level of Success: WS\n"
     ]
    },
    {
     "name": "stderr",
     "output_type": "stream",
     "text": [
      "/var/folders/fh/fzyqqz2s1vzcm3v06kz1h29w0000gp/T/ipykernel_93107/521324885.py:8: UserWarning: Boolean Series key will be reindexed to match DataFrame index.\n",
      "  temp_stats = all_team_stats[all_team_stats['team'] == team['Team']][all_team_stats['date'].astype(str).str.startswith(str(team['Year']))][all_team_stats['gametype'] == 'regular'][team_features]\n",
      "/var/folders/fh/fzyqqz2s1vzcm3v06kz1h29w0000gp/T/ipykernel_93107/521324885.py:8: UserWarning: Boolean Series key will be reindexed to match DataFrame index.\n",
      "  temp_stats = all_team_stats[all_team_stats['team'] == team['Team']][all_team_stats['date'].astype(str).str.startswith(str(team['Year']))][all_team_stats['gametype'] == 'regular'][team_features]\n"
     ]
    },
    {
     "name": "stdout",
     "output_type": "stream",
     "text": [
      "Index: 48, Year: 2001 Team: SEA, Level of Success: LS\n"
     ]
    },
    {
     "name": "stderr",
     "output_type": "stream",
     "text": [
      "/var/folders/fh/fzyqqz2s1vzcm3v06kz1h29w0000gp/T/ipykernel_93107/521324885.py:8: UserWarning: Boolean Series key will be reindexed to match DataFrame index.\n",
      "  temp_stats = all_team_stats[all_team_stats['team'] == team['Team']][all_team_stats['date'].astype(str).str.startswith(str(team['Year']))][all_team_stats['gametype'] == 'regular'][team_features]\n",
      "/var/folders/fh/fzyqqz2s1vzcm3v06kz1h29w0000gp/T/ipykernel_93107/521324885.py:8: UserWarning: Boolean Series key will be reindexed to match DataFrame index.\n",
      "  temp_stats = all_team_stats[all_team_stats['team'] == team['Team']][all_team_stats['date'].astype(str).str.startswith(str(team['Year']))][all_team_stats['gametype'] == 'regular'][team_features]\n"
     ]
    },
    {
     "name": "stdout",
     "output_type": "stream",
     "text": [
      "Index: 49, Year: 2001 Team: CLE, Level of Success: DS\n"
     ]
    },
    {
     "name": "stderr",
     "output_type": "stream",
     "text": [
      "/var/folders/fh/fzyqqz2s1vzcm3v06kz1h29w0000gp/T/ipykernel_93107/521324885.py:8: UserWarning: Boolean Series key will be reindexed to match DataFrame index.\n",
      "  temp_stats = all_team_stats[all_team_stats['team'] == team['Team']][all_team_stats['date'].astype(str).str.startswith(str(team['Year']))][all_team_stats['gametype'] == 'regular'][team_features]\n",
      "/var/folders/fh/fzyqqz2s1vzcm3v06kz1h29w0000gp/T/ipykernel_93107/521324885.py:8: UserWarning: Boolean Series key will be reindexed to match DataFrame index.\n",
      "  temp_stats = all_team_stats[all_team_stats['team'] == team['Team']][all_team_stats['date'].astype(str).str.startswith(str(team['Year']))][all_team_stats['gametype'] == 'regular'][team_features]\n"
     ]
    },
    {
     "name": "stdout",
     "output_type": "stream",
     "text": [
      "Index: 50, Year: 2001 Team: NYA, Level of Success: WS\n"
     ]
    },
    {
     "name": "stderr",
     "output_type": "stream",
     "text": [
      "/var/folders/fh/fzyqqz2s1vzcm3v06kz1h29w0000gp/T/ipykernel_93107/521324885.py:8: UserWarning: Boolean Series key will be reindexed to match DataFrame index.\n",
      "  temp_stats = all_team_stats[all_team_stats['team'] == team['Team']][all_team_stats['date'].astype(str).str.startswith(str(team['Year']))][all_team_stats['gametype'] == 'regular'][team_features]\n",
      "/var/folders/fh/fzyqqz2s1vzcm3v06kz1h29w0000gp/T/ipykernel_93107/521324885.py:8: UserWarning: Boolean Series key will be reindexed to match DataFrame index.\n",
      "  temp_stats = all_team_stats[all_team_stats['team'] == team['Team']][all_team_stats['date'].astype(str).str.startswith(str(team['Year']))][all_team_stats['gametype'] == 'regular'][team_features]\n"
     ]
    },
    {
     "name": "stdout",
     "output_type": "stream",
     "text": [
      "Index: 51, Year: 2001 Team: OAK, Level of Success: DS\n"
     ]
    },
    {
     "name": "stderr",
     "output_type": "stream",
     "text": [
      "/var/folders/fh/fzyqqz2s1vzcm3v06kz1h29w0000gp/T/ipykernel_93107/521324885.py:8: UserWarning: Boolean Series key will be reindexed to match DataFrame index.\n",
      "  temp_stats = all_team_stats[all_team_stats['team'] == team['Team']][all_team_stats['date'].astype(str).str.startswith(str(team['Year']))][all_team_stats['gametype'] == 'regular'][team_features]\n",
      "/var/folders/fh/fzyqqz2s1vzcm3v06kz1h29w0000gp/T/ipykernel_93107/521324885.py:8: UserWarning: Boolean Series key will be reindexed to match DataFrame index.\n",
      "  temp_stats = all_team_stats[all_team_stats['team'] == team['Team']][all_team_stats['date'].astype(str).str.startswith(str(team['Year']))][all_team_stats['gametype'] == 'regular'][team_features]\n"
     ]
    },
    {
     "name": "stdout",
     "output_type": "stream",
     "text": [
      "Index: 52, Year: 2001 Team: HOU, Level of Success: DS\n"
     ]
    },
    {
     "name": "stderr",
     "output_type": "stream",
     "text": [
      "/var/folders/fh/fzyqqz2s1vzcm3v06kz1h29w0000gp/T/ipykernel_93107/521324885.py:8: UserWarning: Boolean Series key will be reindexed to match DataFrame index.\n",
      "  temp_stats = all_team_stats[all_team_stats['team'] == team['Team']][all_team_stats['date'].astype(str).str.startswith(str(team['Year']))][all_team_stats['gametype'] == 'regular'][team_features]\n",
      "/var/folders/fh/fzyqqz2s1vzcm3v06kz1h29w0000gp/T/ipykernel_93107/521324885.py:8: UserWarning: Boolean Series key will be reindexed to match DataFrame index.\n",
      "  temp_stats = all_team_stats[all_team_stats['team'] == team['Team']][all_team_stats['date'].astype(str).str.startswith(str(team['Year']))][all_team_stats['gametype'] == 'regular'][team_features]\n"
     ]
    },
    {
     "name": "stdout",
     "output_type": "stream",
     "text": [
      "Index: 53, Year: 2001 Team: ARI, Level of Success: C\n"
     ]
    },
    {
     "name": "stderr",
     "output_type": "stream",
     "text": [
      "/var/folders/fh/fzyqqz2s1vzcm3v06kz1h29w0000gp/T/ipykernel_93107/521324885.py:8: UserWarning: Boolean Series key will be reindexed to match DataFrame index.\n",
      "  temp_stats = all_team_stats[all_team_stats['team'] == team['Team']][all_team_stats['date'].astype(str).str.startswith(str(team['Year']))][all_team_stats['gametype'] == 'regular'][team_features]\n",
      "/var/folders/fh/fzyqqz2s1vzcm3v06kz1h29w0000gp/T/ipykernel_93107/521324885.py:8: UserWarning: Boolean Series key will be reindexed to match DataFrame index.\n",
      "  temp_stats = all_team_stats[all_team_stats['team'] == team['Team']][all_team_stats['date'].astype(str).str.startswith(str(team['Year']))][all_team_stats['gametype'] == 'regular'][team_features]\n"
     ]
    },
    {
     "name": "stdout",
     "output_type": "stream",
     "text": [
      "Index: 54, Year: 2001 Team: ATL, Level of Success: LS\n"
     ]
    },
    {
     "name": "stderr",
     "output_type": "stream",
     "text": [
      "/var/folders/fh/fzyqqz2s1vzcm3v06kz1h29w0000gp/T/ipykernel_93107/521324885.py:8: UserWarning: Boolean Series key will be reindexed to match DataFrame index.\n",
      "  temp_stats = all_team_stats[all_team_stats['team'] == team['Team']][all_team_stats['date'].astype(str).str.startswith(str(team['Year']))][all_team_stats['gametype'] == 'regular'][team_features]\n",
      "/var/folders/fh/fzyqqz2s1vzcm3v06kz1h29w0000gp/T/ipykernel_93107/521324885.py:8: UserWarning: Boolean Series key will be reindexed to match DataFrame index.\n",
      "  temp_stats = all_team_stats[all_team_stats['team'] == team['Team']][all_team_stats['date'].astype(str).str.startswith(str(team['Year']))][all_team_stats['gametype'] == 'regular'][team_features]\n"
     ]
    },
    {
     "name": "stdout",
     "output_type": "stream",
     "text": [
      "Index: 55, Year: 2001 Team: SLN, Level of Success: DS\n"
     ]
    },
    {
     "name": "stderr",
     "output_type": "stream",
     "text": [
      "/var/folders/fh/fzyqqz2s1vzcm3v06kz1h29w0000gp/T/ipykernel_93107/521324885.py:8: UserWarning: Boolean Series key will be reindexed to match DataFrame index.\n",
      "  temp_stats = all_team_stats[all_team_stats['team'] == team['Team']][all_team_stats['date'].astype(str).str.startswith(str(team['Year']))][all_team_stats['gametype'] == 'regular'][team_features]\n",
      "/var/folders/fh/fzyqqz2s1vzcm3v06kz1h29w0000gp/T/ipykernel_93107/521324885.py:8: UserWarning: Boolean Series key will be reindexed to match DataFrame index.\n",
      "  temp_stats = all_team_stats[all_team_stats['team'] == team['Team']][all_team_stats['date'].astype(str).str.startswith(str(team['Year']))][all_team_stats['gametype'] == 'regular'][team_features]\n"
     ]
    },
    {
     "name": "stdout",
     "output_type": "stream",
     "text": [
      "Index: 56, Year: 2002 Team: NYA, Level of Success: DS\n"
     ]
    },
    {
     "name": "stderr",
     "output_type": "stream",
     "text": [
      "/var/folders/fh/fzyqqz2s1vzcm3v06kz1h29w0000gp/T/ipykernel_93107/521324885.py:8: UserWarning: Boolean Series key will be reindexed to match DataFrame index.\n",
      "  temp_stats = all_team_stats[all_team_stats['team'] == team['Team']][all_team_stats['date'].astype(str).str.startswith(str(team['Year']))][all_team_stats['gametype'] == 'regular'][team_features]\n",
      "/var/folders/fh/fzyqqz2s1vzcm3v06kz1h29w0000gp/T/ipykernel_93107/521324885.py:8: UserWarning: Boolean Series key will be reindexed to match DataFrame index.\n",
      "  temp_stats = all_team_stats[all_team_stats['team'] == team['Team']][all_team_stats['date'].astype(str).str.startswith(str(team['Year']))][all_team_stats['gametype'] == 'regular'][team_features]\n"
     ]
    },
    {
     "name": "stdout",
     "output_type": "stream",
     "text": [
      "Index: 57, Year: 2002 Team: OAK, Level of Success: DS\n"
     ]
    },
    {
     "name": "stderr",
     "output_type": "stream",
     "text": [
      "/var/folders/fh/fzyqqz2s1vzcm3v06kz1h29w0000gp/T/ipykernel_93107/521324885.py:8: UserWarning: Boolean Series key will be reindexed to match DataFrame index.\n",
      "  temp_stats = all_team_stats[all_team_stats['team'] == team['Team']][all_team_stats['date'].astype(str).str.startswith(str(team['Year']))][all_team_stats['gametype'] == 'regular'][team_features]\n",
      "/var/folders/fh/fzyqqz2s1vzcm3v06kz1h29w0000gp/T/ipykernel_93107/521324885.py:8: UserWarning: Boolean Series key will be reindexed to match DataFrame index.\n",
      "  temp_stats = all_team_stats[all_team_stats['team'] == team['Team']][all_team_stats['date'].astype(str).str.startswith(str(team['Year']))][all_team_stats['gametype'] == 'regular'][team_features]\n"
     ]
    },
    {
     "name": "stdout",
     "output_type": "stream",
     "text": [
      "Index: 58, Year: 2002 Team: MIN, Level of Success: LS\n"
     ]
    },
    {
     "name": "stderr",
     "output_type": "stream",
     "text": [
      "/var/folders/fh/fzyqqz2s1vzcm3v06kz1h29w0000gp/T/ipykernel_93107/521324885.py:8: UserWarning: Boolean Series key will be reindexed to match DataFrame index.\n",
      "  temp_stats = all_team_stats[all_team_stats['team'] == team['Team']][all_team_stats['date'].astype(str).str.startswith(str(team['Year']))][all_team_stats['gametype'] == 'regular'][team_features]\n",
      "/var/folders/fh/fzyqqz2s1vzcm3v06kz1h29w0000gp/T/ipykernel_93107/521324885.py:8: UserWarning: Boolean Series key will be reindexed to match DataFrame index.\n",
      "  temp_stats = all_team_stats[all_team_stats['team'] == team['Team']][all_team_stats['date'].astype(str).str.startswith(str(team['Year']))][all_team_stats['gametype'] == 'regular'][team_features]\n"
     ]
    },
    {
     "name": "stdout",
     "output_type": "stream",
     "text": [
      "Index: 59, Year: 2002 Team: ANA, Level of Success: C\n"
     ]
    },
    {
     "name": "stderr",
     "output_type": "stream",
     "text": [
      "/var/folders/fh/fzyqqz2s1vzcm3v06kz1h29w0000gp/T/ipykernel_93107/521324885.py:8: UserWarning: Boolean Series key will be reindexed to match DataFrame index.\n",
      "  temp_stats = all_team_stats[all_team_stats['team'] == team['Team']][all_team_stats['date'].astype(str).str.startswith(str(team['Year']))][all_team_stats['gametype'] == 'regular'][team_features]\n",
      "/var/folders/fh/fzyqqz2s1vzcm3v06kz1h29w0000gp/T/ipykernel_93107/521324885.py:8: UserWarning: Boolean Series key will be reindexed to match DataFrame index.\n",
      "  temp_stats = all_team_stats[all_team_stats['team'] == team['Team']][all_team_stats['date'].astype(str).str.startswith(str(team['Year']))][all_team_stats['gametype'] == 'regular'][team_features]\n"
     ]
    },
    {
     "name": "stdout",
     "output_type": "stream",
     "text": [
      "Index: 60, Year: 2002 Team: ATL, Level of Success: DS\n"
     ]
    },
    {
     "name": "stderr",
     "output_type": "stream",
     "text": [
      "/var/folders/fh/fzyqqz2s1vzcm3v06kz1h29w0000gp/T/ipykernel_93107/521324885.py:8: UserWarning: Boolean Series key will be reindexed to match DataFrame index.\n",
      "  temp_stats = all_team_stats[all_team_stats['team'] == team['Team']][all_team_stats['date'].astype(str).str.startswith(str(team['Year']))][all_team_stats['gametype'] == 'regular'][team_features]\n",
      "/var/folders/fh/fzyqqz2s1vzcm3v06kz1h29w0000gp/T/ipykernel_93107/521324885.py:8: UserWarning: Boolean Series key will be reindexed to match DataFrame index.\n",
      "  temp_stats = all_team_stats[all_team_stats['team'] == team['Team']][all_team_stats['date'].astype(str).str.startswith(str(team['Year']))][all_team_stats['gametype'] == 'regular'][team_features]\n"
     ]
    },
    {
     "name": "stdout",
     "output_type": "stream",
     "text": [
      "Index: 61, Year: 2002 Team: ARI, Level of Success: DS\n"
     ]
    },
    {
     "name": "stderr",
     "output_type": "stream",
     "text": [
      "/var/folders/fh/fzyqqz2s1vzcm3v06kz1h29w0000gp/T/ipykernel_93107/521324885.py:8: UserWarning: Boolean Series key will be reindexed to match DataFrame index.\n",
      "  temp_stats = all_team_stats[all_team_stats['team'] == team['Team']][all_team_stats['date'].astype(str).str.startswith(str(team['Year']))][all_team_stats['gametype'] == 'regular'][team_features]\n",
      "/var/folders/fh/fzyqqz2s1vzcm3v06kz1h29w0000gp/T/ipykernel_93107/521324885.py:8: UserWarning: Boolean Series key will be reindexed to match DataFrame index.\n",
      "  temp_stats = all_team_stats[all_team_stats['team'] == team['Team']][all_team_stats['date'].astype(str).str.startswith(str(team['Year']))][all_team_stats['gametype'] == 'regular'][team_features]\n"
     ]
    },
    {
     "name": "stdout",
     "output_type": "stream",
     "text": [
      "Index: 62, Year: 2002 Team: SLN, Level of Success: LS\n"
     ]
    },
    {
     "name": "stderr",
     "output_type": "stream",
     "text": [
      "/var/folders/fh/fzyqqz2s1vzcm3v06kz1h29w0000gp/T/ipykernel_93107/521324885.py:8: UserWarning: Boolean Series key will be reindexed to match DataFrame index.\n",
      "  temp_stats = all_team_stats[all_team_stats['team'] == team['Team']][all_team_stats['date'].astype(str).str.startswith(str(team['Year']))][all_team_stats['gametype'] == 'regular'][team_features]\n",
      "/var/folders/fh/fzyqqz2s1vzcm3v06kz1h29w0000gp/T/ipykernel_93107/521324885.py:8: UserWarning: Boolean Series key will be reindexed to match DataFrame index.\n",
      "  temp_stats = all_team_stats[all_team_stats['team'] == team['Team']][all_team_stats['date'].astype(str).str.startswith(str(team['Year']))][all_team_stats['gametype'] == 'regular'][team_features]\n"
     ]
    },
    {
     "name": "stdout",
     "output_type": "stream",
     "text": [
      "Index: 63, Year: 2002 Team: SFN, Level of Success: WS\n"
     ]
    },
    {
     "name": "stderr",
     "output_type": "stream",
     "text": [
      "/var/folders/fh/fzyqqz2s1vzcm3v06kz1h29w0000gp/T/ipykernel_93107/521324885.py:8: UserWarning: Boolean Series key will be reindexed to match DataFrame index.\n",
      "  temp_stats = all_team_stats[all_team_stats['team'] == team['Team']][all_team_stats['date'].astype(str).str.startswith(str(team['Year']))][all_team_stats['gametype'] == 'regular'][team_features]\n",
      "/var/folders/fh/fzyqqz2s1vzcm3v06kz1h29w0000gp/T/ipykernel_93107/521324885.py:8: UserWarning: Boolean Series key will be reindexed to match DataFrame index.\n",
      "  temp_stats = all_team_stats[all_team_stats['team'] == team['Team']][all_team_stats['date'].astype(str).str.startswith(str(team['Year']))][all_team_stats['gametype'] == 'regular'][team_features]\n"
     ]
    },
    {
     "name": "stdout",
     "output_type": "stream",
     "text": [
      "Index: 64, Year: 2003 Team: NYA, Level of Success: WS\n"
     ]
    },
    {
     "name": "stderr",
     "output_type": "stream",
     "text": [
      "/var/folders/fh/fzyqqz2s1vzcm3v06kz1h29w0000gp/T/ipykernel_93107/521324885.py:8: UserWarning: Boolean Series key will be reindexed to match DataFrame index.\n",
      "  temp_stats = all_team_stats[all_team_stats['team'] == team['Team']][all_team_stats['date'].astype(str).str.startswith(str(team['Year']))][all_team_stats['gametype'] == 'regular'][team_features]\n",
      "/var/folders/fh/fzyqqz2s1vzcm3v06kz1h29w0000gp/T/ipykernel_93107/521324885.py:8: UserWarning: Boolean Series key will be reindexed to match DataFrame index.\n",
      "  temp_stats = all_team_stats[all_team_stats['team'] == team['Team']][all_team_stats['date'].astype(str).str.startswith(str(team['Year']))][all_team_stats['gametype'] == 'regular'][team_features]\n"
     ]
    },
    {
     "name": "stdout",
     "output_type": "stream",
     "text": [
      "Index: 65, Year: 2003 Team: OAK, Level of Success: DS\n"
     ]
    },
    {
     "name": "stderr",
     "output_type": "stream",
     "text": [
      "/var/folders/fh/fzyqqz2s1vzcm3v06kz1h29w0000gp/T/ipykernel_93107/521324885.py:8: UserWarning: Boolean Series key will be reindexed to match DataFrame index.\n",
      "  temp_stats = all_team_stats[all_team_stats['team'] == team['Team']][all_team_stats['date'].astype(str).str.startswith(str(team['Year']))][all_team_stats['gametype'] == 'regular'][team_features]\n",
      "/var/folders/fh/fzyqqz2s1vzcm3v06kz1h29w0000gp/T/ipykernel_93107/521324885.py:8: UserWarning: Boolean Series key will be reindexed to match DataFrame index.\n",
      "  temp_stats = all_team_stats[all_team_stats['team'] == team['Team']][all_team_stats['date'].astype(str).str.startswith(str(team['Year']))][all_team_stats['gametype'] == 'regular'][team_features]\n"
     ]
    },
    {
     "name": "stdout",
     "output_type": "stream",
     "text": [
      "Index: 66, Year: 2003 Team: MIN, Level of Success: DS\n"
     ]
    },
    {
     "name": "stderr",
     "output_type": "stream",
     "text": [
      "/var/folders/fh/fzyqqz2s1vzcm3v06kz1h29w0000gp/T/ipykernel_93107/521324885.py:8: UserWarning: Boolean Series key will be reindexed to match DataFrame index.\n",
      "  temp_stats = all_team_stats[all_team_stats['team'] == team['Team']][all_team_stats['date'].astype(str).str.startswith(str(team['Year']))][all_team_stats['gametype'] == 'regular'][team_features]\n",
      "/var/folders/fh/fzyqqz2s1vzcm3v06kz1h29w0000gp/T/ipykernel_93107/521324885.py:8: UserWarning: Boolean Series key will be reindexed to match DataFrame index.\n",
      "  temp_stats = all_team_stats[all_team_stats['team'] == team['Team']][all_team_stats['date'].astype(str).str.startswith(str(team['Year']))][all_team_stats['gametype'] == 'regular'][team_features]\n"
     ]
    },
    {
     "name": "stdout",
     "output_type": "stream",
     "text": [
      "Index: 67, Year: 2003 Team: BOS, Level of Success: LS\n"
     ]
    },
    {
     "name": "stderr",
     "output_type": "stream",
     "text": [
      "/var/folders/fh/fzyqqz2s1vzcm3v06kz1h29w0000gp/T/ipykernel_93107/521324885.py:8: UserWarning: Boolean Series key will be reindexed to match DataFrame index.\n",
      "  temp_stats = all_team_stats[all_team_stats['team'] == team['Team']][all_team_stats['date'].astype(str).str.startswith(str(team['Year']))][all_team_stats['gametype'] == 'regular'][team_features]\n",
      "/var/folders/fh/fzyqqz2s1vzcm3v06kz1h29w0000gp/T/ipykernel_93107/521324885.py:8: UserWarning: Boolean Series key will be reindexed to match DataFrame index.\n",
      "  temp_stats = all_team_stats[all_team_stats['team'] == team['Team']][all_team_stats['date'].astype(str).str.startswith(str(team['Year']))][all_team_stats['gametype'] == 'regular'][team_features]\n"
     ]
    },
    {
     "name": "stdout",
     "output_type": "stream",
     "text": [
      "Index: 68, Year: 2003 Team: ATL, Level of Success: DS\n"
     ]
    },
    {
     "name": "stderr",
     "output_type": "stream",
     "text": [
      "/var/folders/fh/fzyqqz2s1vzcm3v06kz1h29w0000gp/T/ipykernel_93107/521324885.py:8: UserWarning: Boolean Series key will be reindexed to match DataFrame index.\n",
      "  temp_stats = all_team_stats[all_team_stats['team'] == team['Team']][all_team_stats['date'].astype(str).str.startswith(str(team['Year']))][all_team_stats['gametype'] == 'regular'][team_features]\n",
      "/var/folders/fh/fzyqqz2s1vzcm3v06kz1h29w0000gp/T/ipykernel_93107/521324885.py:8: UserWarning: Boolean Series key will be reindexed to match DataFrame index.\n",
      "  temp_stats = all_team_stats[all_team_stats['team'] == team['Team']][all_team_stats['date'].astype(str).str.startswith(str(team['Year']))][all_team_stats['gametype'] == 'regular'][team_features]\n"
     ]
    },
    {
     "name": "stdout",
     "output_type": "stream",
     "text": [
      "Index: 69, Year: 2003 Team: SFN, Level of Success: DS\n"
     ]
    },
    {
     "name": "stderr",
     "output_type": "stream",
     "text": [
      "/var/folders/fh/fzyqqz2s1vzcm3v06kz1h29w0000gp/T/ipykernel_93107/521324885.py:8: UserWarning: Boolean Series key will be reindexed to match DataFrame index.\n",
      "  temp_stats = all_team_stats[all_team_stats['team'] == team['Team']][all_team_stats['date'].astype(str).str.startswith(str(team['Year']))][all_team_stats['gametype'] == 'regular'][team_features]\n",
      "/var/folders/fh/fzyqqz2s1vzcm3v06kz1h29w0000gp/T/ipykernel_93107/521324885.py:8: UserWarning: Boolean Series key will be reindexed to match DataFrame index.\n",
      "  temp_stats = all_team_stats[all_team_stats['team'] == team['Team']][all_team_stats['date'].astype(str).str.startswith(str(team['Year']))][all_team_stats['gametype'] == 'regular'][team_features]\n"
     ]
    },
    {
     "name": "stdout",
     "output_type": "stream",
     "text": [
      "Index: 70, Year: 2003 Team: CHN, Level of Success: LS\n"
     ]
    },
    {
     "name": "stderr",
     "output_type": "stream",
     "text": [
      "/var/folders/fh/fzyqqz2s1vzcm3v06kz1h29w0000gp/T/ipykernel_93107/521324885.py:8: UserWarning: Boolean Series key will be reindexed to match DataFrame index.\n",
      "  temp_stats = all_team_stats[all_team_stats['team'] == team['Team']][all_team_stats['date'].astype(str).str.startswith(str(team['Year']))][all_team_stats['gametype'] == 'regular'][team_features]\n",
      "/var/folders/fh/fzyqqz2s1vzcm3v06kz1h29w0000gp/T/ipykernel_93107/521324885.py:8: UserWarning: Boolean Series key will be reindexed to match DataFrame index.\n",
      "  temp_stats = all_team_stats[all_team_stats['team'] == team['Team']][all_team_stats['date'].astype(str).str.startswith(str(team['Year']))][all_team_stats['gametype'] == 'regular'][team_features]\n"
     ]
    },
    {
     "name": "stdout",
     "output_type": "stream",
     "text": [
      "Index: 71, Year: 2003 Team: FLO, Level of Success: C\n"
     ]
    },
    {
     "name": "stderr",
     "output_type": "stream",
     "text": [
      "/var/folders/fh/fzyqqz2s1vzcm3v06kz1h29w0000gp/T/ipykernel_93107/521324885.py:8: UserWarning: Boolean Series key will be reindexed to match DataFrame index.\n",
      "  temp_stats = all_team_stats[all_team_stats['team'] == team['Team']][all_team_stats['date'].astype(str).str.startswith(str(team['Year']))][all_team_stats['gametype'] == 'regular'][team_features]\n",
      "/var/folders/fh/fzyqqz2s1vzcm3v06kz1h29w0000gp/T/ipykernel_93107/521324885.py:8: UserWarning: Boolean Series key will be reindexed to match DataFrame index.\n",
      "  temp_stats = all_team_stats[all_team_stats['team'] == team['Team']][all_team_stats['date'].astype(str).str.startswith(str(team['Year']))][all_team_stats['gametype'] == 'regular'][team_features]\n"
     ]
    },
    {
     "name": "stdout",
     "output_type": "stream",
     "text": [
      "Index: 72, Year: 2004 Team: NYA, Level of Success: LS\n"
     ]
    },
    {
     "name": "stderr",
     "output_type": "stream",
     "text": [
      "/var/folders/fh/fzyqqz2s1vzcm3v06kz1h29w0000gp/T/ipykernel_93107/521324885.py:8: UserWarning: Boolean Series key will be reindexed to match DataFrame index.\n",
      "  temp_stats = all_team_stats[all_team_stats['team'] == team['Team']][all_team_stats['date'].astype(str).str.startswith(str(team['Year']))][all_team_stats['gametype'] == 'regular'][team_features]\n",
      "/var/folders/fh/fzyqqz2s1vzcm3v06kz1h29w0000gp/T/ipykernel_93107/521324885.py:8: UserWarning: Boolean Series key will be reindexed to match DataFrame index.\n",
      "  temp_stats = all_team_stats[all_team_stats['team'] == team['Team']][all_team_stats['date'].astype(str).str.startswith(str(team['Year']))][all_team_stats['gametype'] == 'regular'][team_features]\n"
     ]
    },
    {
     "name": "stdout",
     "output_type": "stream",
     "text": [
      "Index: 73, Year: 2004 Team: ANA, Level of Success: DS\n"
     ]
    },
    {
     "name": "stderr",
     "output_type": "stream",
     "text": [
      "/var/folders/fh/fzyqqz2s1vzcm3v06kz1h29w0000gp/T/ipykernel_93107/521324885.py:8: UserWarning: Boolean Series key will be reindexed to match DataFrame index.\n",
      "  temp_stats = all_team_stats[all_team_stats['team'] == team['Team']][all_team_stats['date'].astype(str).str.startswith(str(team['Year']))][all_team_stats['gametype'] == 'regular'][team_features]\n",
      "/var/folders/fh/fzyqqz2s1vzcm3v06kz1h29w0000gp/T/ipykernel_93107/521324885.py:8: UserWarning: Boolean Series key will be reindexed to match DataFrame index.\n",
      "  temp_stats = all_team_stats[all_team_stats['team'] == team['Team']][all_team_stats['date'].astype(str).str.startswith(str(team['Year']))][all_team_stats['gametype'] == 'regular'][team_features]\n"
     ]
    },
    {
     "name": "stdout",
     "output_type": "stream",
     "text": [
      "Index: 74, Year: 2004 Team: MIN, Level of Success: DS\n"
     ]
    },
    {
     "name": "stderr",
     "output_type": "stream",
     "text": [
      "/var/folders/fh/fzyqqz2s1vzcm3v06kz1h29w0000gp/T/ipykernel_93107/521324885.py:8: UserWarning: Boolean Series key will be reindexed to match DataFrame index.\n",
      "  temp_stats = all_team_stats[all_team_stats['team'] == team['Team']][all_team_stats['date'].astype(str).str.startswith(str(team['Year']))][all_team_stats['gametype'] == 'regular'][team_features]\n",
      "/var/folders/fh/fzyqqz2s1vzcm3v06kz1h29w0000gp/T/ipykernel_93107/521324885.py:8: UserWarning: Boolean Series key will be reindexed to match DataFrame index.\n",
      "  temp_stats = all_team_stats[all_team_stats['team'] == team['Team']][all_team_stats['date'].astype(str).str.startswith(str(team['Year']))][all_team_stats['gametype'] == 'regular'][team_features]\n"
     ]
    },
    {
     "name": "stdout",
     "output_type": "stream",
     "text": [
      "Index: 75, Year: 2004 Team: BOS, Level of Success: C\n"
     ]
    },
    {
     "name": "stderr",
     "output_type": "stream",
     "text": [
      "/var/folders/fh/fzyqqz2s1vzcm3v06kz1h29w0000gp/T/ipykernel_93107/521324885.py:8: UserWarning: Boolean Series key will be reindexed to match DataFrame index.\n",
      "  temp_stats = all_team_stats[all_team_stats['team'] == team['Team']][all_team_stats['date'].astype(str).str.startswith(str(team['Year']))][all_team_stats['gametype'] == 'regular'][team_features]\n",
      "/var/folders/fh/fzyqqz2s1vzcm3v06kz1h29w0000gp/T/ipykernel_93107/521324885.py:8: UserWarning: Boolean Series key will be reindexed to match DataFrame index.\n",
      "  temp_stats = all_team_stats[all_team_stats['team'] == team['Team']][all_team_stats['date'].astype(str).str.startswith(str(team['Year']))][all_team_stats['gametype'] == 'regular'][team_features]\n"
     ]
    },
    {
     "name": "stdout",
     "output_type": "stream",
     "text": [
      "Index: 76, Year: 2004 Team: SLN, Level of Success: WS\n"
     ]
    },
    {
     "name": "stderr",
     "output_type": "stream",
     "text": [
      "/var/folders/fh/fzyqqz2s1vzcm3v06kz1h29w0000gp/T/ipykernel_93107/521324885.py:8: UserWarning: Boolean Series key will be reindexed to match DataFrame index.\n",
      "  temp_stats = all_team_stats[all_team_stats['team'] == team['Team']][all_team_stats['date'].astype(str).str.startswith(str(team['Year']))][all_team_stats['gametype'] == 'regular'][team_features]\n",
      "/var/folders/fh/fzyqqz2s1vzcm3v06kz1h29w0000gp/T/ipykernel_93107/521324885.py:8: UserWarning: Boolean Series key will be reindexed to match DataFrame index.\n",
      "  temp_stats = all_team_stats[all_team_stats['team'] == team['Team']][all_team_stats['date'].astype(str).str.startswith(str(team['Year']))][all_team_stats['gametype'] == 'regular'][team_features]\n"
     ]
    },
    {
     "name": "stdout",
     "output_type": "stream",
     "text": [
      "Index: 77, Year: 2004 Team: ATL, Level of Success: DS\n"
     ]
    },
    {
     "name": "stderr",
     "output_type": "stream",
     "text": [
      "/var/folders/fh/fzyqqz2s1vzcm3v06kz1h29w0000gp/T/ipykernel_93107/521324885.py:8: UserWarning: Boolean Series key will be reindexed to match DataFrame index.\n",
      "  temp_stats = all_team_stats[all_team_stats['team'] == team['Team']][all_team_stats['date'].astype(str).str.startswith(str(team['Year']))][all_team_stats['gametype'] == 'regular'][team_features]\n",
      "/var/folders/fh/fzyqqz2s1vzcm3v06kz1h29w0000gp/T/ipykernel_93107/521324885.py:8: UserWarning: Boolean Series key will be reindexed to match DataFrame index.\n",
      "  temp_stats = all_team_stats[all_team_stats['team'] == team['Team']][all_team_stats['date'].astype(str).str.startswith(str(team['Year']))][all_team_stats['gametype'] == 'regular'][team_features]\n"
     ]
    },
    {
     "name": "stdout",
     "output_type": "stream",
     "text": [
      "Index: 78, Year: 2004 Team: LAN, Level of Success: DS\n"
     ]
    },
    {
     "name": "stderr",
     "output_type": "stream",
     "text": [
      "/var/folders/fh/fzyqqz2s1vzcm3v06kz1h29w0000gp/T/ipykernel_93107/521324885.py:8: UserWarning: Boolean Series key will be reindexed to match DataFrame index.\n",
      "  temp_stats = all_team_stats[all_team_stats['team'] == team['Team']][all_team_stats['date'].astype(str).str.startswith(str(team['Year']))][all_team_stats['gametype'] == 'regular'][team_features]\n",
      "/var/folders/fh/fzyqqz2s1vzcm3v06kz1h29w0000gp/T/ipykernel_93107/521324885.py:8: UserWarning: Boolean Series key will be reindexed to match DataFrame index.\n",
      "  temp_stats = all_team_stats[all_team_stats['team'] == team['Team']][all_team_stats['date'].astype(str).str.startswith(str(team['Year']))][all_team_stats['gametype'] == 'regular'][team_features]\n"
     ]
    },
    {
     "name": "stdout",
     "output_type": "stream",
     "text": [
      "Index: 79, Year: 2004 Team: HOU, Level of Success: LS\n"
     ]
    },
    {
     "name": "stderr",
     "output_type": "stream",
     "text": [
      "/var/folders/fh/fzyqqz2s1vzcm3v06kz1h29w0000gp/T/ipykernel_93107/521324885.py:8: UserWarning: Boolean Series key will be reindexed to match DataFrame index.\n",
      "  temp_stats = all_team_stats[all_team_stats['team'] == team['Team']][all_team_stats['date'].astype(str).str.startswith(str(team['Year']))][all_team_stats['gametype'] == 'regular'][team_features]\n",
      "/var/folders/fh/fzyqqz2s1vzcm3v06kz1h29w0000gp/T/ipykernel_93107/521324885.py:8: UserWarning: Boolean Series key will be reindexed to match DataFrame index.\n",
      "  temp_stats = all_team_stats[all_team_stats['team'] == team['Team']][all_team_stats['date'].astype(str).str.startswith(str(team['Year']))][all_team_stats['gametype'] == 'regular'][team_features]\n"
     ]
    },
    {
     "name": "stdout",
     "output_type": "stream",
     "text": [
      "Index: 80, Year: 2005 Team: CHA, Level of Success: C\n"
     ]
    },
    {
     "name": "stderr",
     "output_type": "stream",
     "text": [
      "/var/folders/fh/fzyqqz2s1vzcm3v06kz1h29w0000gp/T/ipykernel_93107/521324885.py:8: UserWarning: Boolean Series key will be reindexed to match DataFrame index.\n",
      "  temp_stats = all_team_stats[all_team_stats['team'] == team['Team']][all_team_stats['date'].astype(str).str.startswith(str(team['Year']))][all_team_stats['gametype'] == 'regular'][team_features]\n",
      "/var/folders/fh/fzyqqz2s1vzcm3v06kz1h29w0000gp/T/ipykernel_93107/521324885.py:8: UserWarning: Boolean Series key will be reindexed to match DataFrame index.\n",
      "  temp_stats = all_team_stats[all_team_stats['team'] == team['Team']][all_team_stats['date'].astype(str).str.startswith(str(team['Year']))][all_team_stats['gametype'] == 'regular'][team_features]\n"
     ]
    },
    {
     "name": "stdout",
     "output_type": "stream",
     "text": [
      "Index: 81, Year: 2005 Team: ANA, Level of Success: LS\n"
     ]
    },
    {
     "name": "stderr",
     "output_type": "stream",
     "text": [
      "/var/folders/fh/fzyqqz2s1vzcm3v06kz1h29w0000gp/T/ipykernel_93107/521324885.py:8: UserWarning: Boolean Series key will be reindexed to match DataFrame index.\n",
      "  temp_stats = all_team_stats[all_team_stats['team'] == team['Team']][all_team_stats['date'].astype(str).str.startswith(str(team['Year']))][all_team_stats['gametype'] == 'regular'][team_features]\n",
      "/var/folders/fh/fzyqqz2s1vzcm3v06kz1h29w0000gp/T/ipykernel_93107/521324885.py:8: UserWarning: Boolean Series key will be reindexed to match DataFrame index.\n",
      "  temp_stats = all_team_stats[all_team_stats['team'] == team['Team']][all_team_stats['date'].astype(str).str.startswith(str(team['Year']))][all_team_stats['gametype'] == 'regular'][team_features]\n"
     ]
    },
    {
     "name": "stdout",
     "output_type": "stream",
     "text": [
      "Index: 82, Year: 2005 Team: NYA, Level of Success: DS\n"
     ]
    },
    {
     "name": "stderr",
     "output_type": "stream",
     "text": [
      "/var/folders/fh/fzyqqz2s1vzcm3v06kz1h29w0000gp/T/ipykernel_93107/521324885.py:8: UserWarning: Boolean Series key will be reindexed to match DataFrame index.\n",
      "  temp_stats = all_team_stats[all_team_stats['team'] == team['Team']][all_team_stats['date'].astype(str).str.startswith(str(team['Year']))][all_team_stats['gametype'] == 'regular'][team_features]\n",
      "/var/folders/fh/fzyqqz2s1vzcm3v06kz1h29w0000gp/T/ipykernel_93107/521324885.py:8: UserWarning: Boolean Series key will be reindexed to match DataFrame index.\n",
      "  temp_stats = all_team_stats[all_team_stats['team'] == team['Team']][all_team_stats['date'].astype(str).str.startswith(str(team['Year']))][all_team_stats['gametype'] == 'regular'][team_features]\n"
     ]
    },
    {
     "name": "stdout",
     "output_type": "stream",
     "text": [
      "Index: 83, Year: 2005 Team: BOS, Level of Success: DS\n"
     ]
    },
    {
     "name": "stderr",
     "output_type": "stream",
     "text": [
      "/var/folders/fh/fzyqqz2s1vzcm3v06kz1h29w0000gp/T/ipykernel_93107/521324885.py:8: UserWarning: Boolean Series key will be reindexed to match DataFrame index.\n",
      "  temp_stats = all_team_stats[all_team_stats['team'] == team['Team']][all_team_stats['date'].astype(str).str.startswith(str(team['Year']))][all_team_stats['gametype'] == 'regular'][team_features]\n",
      "/var/folders/fh/fzyqqz2s1vzcm3v06kz1h29w0000gp/T/ipykernel_93107/521324885.py:8: UserWarning: Boolean Series key will be reindexed to match DataFrame index.\n",
      "  temp_stats = all_team_stats[all_team_stats['team'] == team['Team']][all_team_stats['date'].astype(str).str.startswith(str(team['Year']))][all_team_stats['gametype'] == 'regular'][team_features]\n"
     ]
    },
    {
     "name": "stdout",
     "output_type": "stream",
     "text": [
      "Index: 84, Year: 2005 Team: SLN, Level of Success: LS\n"
     ]
    },
    {
     "name": "stderr",
     "output_type": "stream",
     "text": [
      "/var/folders/fh/fzyqqz2s1vzcm3v06kz1h29w0000gp/T/ipykernel_93107/521324885.py:8: UserWarning: Boolean Series key will be reindexed to match DataFrame index.\n",
      "  temp_stats = all_team_stats[all_team_stats['team'] == team['Team']][all_team_stats['date'].astype(str).str.startswith(str(team['Year']))][all_team_stats['gametype'] == 'regular'][team_features]\n",
      "/var/folders/fh/fzyqqz2s1vzcm3v06kz1h29w0000gp/T/ipykernel_93107/521324885.py:8: UserWarning: Boolean Series key will be reindexed to match DataFrame index.\n",
      "  temp_stats = all_team_stats[all_team_stats['team'] == team['Team']][all_team_stats['date'].astype(str).str.startswith(str(team['Year']))][all_team_stats['gametype'] == 'regular'][team_features]\n"
     ]
    },
    {
     "name": "stdout",
     "output_type": "stream",
     "text": [
      "Index: 85, Year: 2005 Team: ATL, Level of Success: DS\n"
     ]
    },
    {
     "name": "stderr",
     "output_type": "stream",
     "text": [
      "/var/folders/fh/fzyqqz2s1vzcm3v06kz1h29w0000gp/T/ipykernel_93107/521324885.py:8: UserWarning: Boolean Series key will be reindexed to match DataFrame index.\n",
      "  temp_stats = all_team_stats[all_team_stats['team'] == team['Team']][all_team_stats['date'].astype(str).str.startswith(str(team['Year']))][all_team_stats['gametype'] == 'regular'][team_features]\n",
      "/var/folders/fh/fzyqqz2s1vzcm3v06kz1h29w0000gp/T/ipykernel_93107/521324885.py:8: UserWarning: Boolean Series key will be reindexed to match DataFrame index.\n",
      "  temp_stats = all_team_stats[all_team_stats['team'] == team['Team']][all_team_stats['date'].astype(str).str.startswith(str(team['Year']))][all_team_stats['gametype'] == 'regular'][team_features]\n"
     ]
    },
    {
     "name": "stdout",
     "output_type": "stream",
     "text": [
      "Index: 86, Year: 2005 Team: SDN, Level of Success: DS\n"
     ]
    },
    {
     "name": "stderr",
     "output_type": "stream",
     "text": [
      "/var/folders/fh/fzyqqz2s1vzcm3v06kz1h29w0000gp/T/ipykernel_93107/521324885.py:8: UserWarning: Boolean Series key will be reindexed to match DataFrame index.\n",
      "  temp_stats = all_team_stats[all_team_stats['team'] == team['Team']][all_team_stats['date'].astype(str).str.startswith(str(team['Year']))][all_team_stats['gametype'] == 'regular'][team_features]\n",
      "/var/folders/fh/fzyqqz2s1vzcm3v06kz1h29w0000gp/T/ipykernel_93107/521324885.py:8: UserWarning: Boolean Series key will be reindexed to match DataFrame index.\n",
      "  temp_stats = all_team_stats[all_team_stats['team'] == team['Team']][all_team_stats['date'].astype(str).str.startswith(str(team['Year']))][all_team_stats['gametype'] == 'regular'][team_features]\n"
     ]
    },
    {
     "name": "stdout",
     "output_type": "stream",
     "text": [
      "Index: 87, Year: 2005 Team: HOU, Level of Success: WS\n"
     ]
    },
    {
     "name": "stderr",
     "output_type": "stream",
     "text": [
      "/var/folders/fh/fzyqqz2s1vzcm3v06kz1h29w0000gp/T/ipykernel_93107/521324885.py:8: UserWarning: Boolean Series key will be reindexed to match DataFrame index.\n",
      "  temp_stats = all_team_stats[all_team_stats['team'] == team['Team']][all_team_stats['date'].astype(str).str.startswith(str(team['Year']))][all_team_stats['gametype'] == 'regular'][team_features]\n",
      "/var/folders/fh/fzyqqz2s1vzcm3v06kz1h29w0000gp/T/ipykernel_93107/521324885.py:8: UserWarning: Boolean Series key will be reindexed to match DataFrame index.\n",
      "  temp_stats = all_team_stats[all_team_stats['team'] == team['Team']][all_team_stats['date'].astype(str).str.startswith(str(team['Year']))][all_team_stats['gametype'] == 'regular'][team_features]\n"
     ]
    },
    {
     "name": "stdout",
     "output_type": "stream",
     "text": [
      "Index: 88, Year: 2006 Team: NYA, Level of Success: DS\n"
     ]
    },
    {
     "name": "stderr",
     "output_type": "stream",
     "text": [
      "/var/folders/fh/fzyqqz2s1vzcm3v06kz1h29w0000gp/T/ipykernel_93107/521324885.py:8: UserWarning: Boolean Series key will be reindexed to match DataFrame index.\n",
      "  temp_stats = all_team_stats[all_team_stats['team'] == team['Team']][all_team_stats['date'].astype(str).str.startswith(str(team['Year']))][all_team_stats['gametype'] == 'regular'][team_features]\n",
      "/var/folders/fh/fzyqqz2s1vzcm3v06kz1h29w0000gp/T/ipykernel_93107/521324885.py:8: UserWarning: Boolean Series key will be reindexed to match DataFrame index.\n",
      "  temp_stats = all_team_stats[all_team_stats['team'] == team['Team']][all_team_stats['date'].astype(str).str.startswith(str(team['Year']))][all_team_stats['gametype'] == 'regular'][team_features]\n"
     ]
    },
    {
     "name": "stdout",
     "output_type": "stream",
     "text": [
      "Index: 89, Year: 2006 Team: MIN, Level of Success: DS\n"
     ]
    },
    {
     "name": "stderr",
     "output_type": "stream",
     "text": [
      "/var/folders/fh/fzyqqz2s1vzcm3v06kz1h29w0000gp/T/ipykernel_93107/521324885.py:8: UserWarning: Boolean Series key will be reindexed to match DataFrame index.\n",
      "  temp_stats = all_team_stats[all_team_stats['team'] == team['Team']][all_team_stats['date'].astype(str).str.startswith(str(team['Year']))][all_team_stats['gametype'] == 'regular'][team_features]\n",
      "/var/folders/fh/fzyqqz2s1vzcm3v06kz1h29w0000gp/T/ipykernel_93107/521324885.py:8: UserWarning: Boolean Series key will be reindexed to match DataFrame index.\n",
      "  temp_stats = all_team_stats[all_team_stats['team'] == team['Team']][all_team_stats['date'].astype(str).str.startswith(str(team['Year']))][all_team_stats['gametype'] == 'regular'][team_features]\n"
     ]
    },
    {
     "name": "stdout",
     "output_type": "stream",
     "text": [
      "Index: 90, Year: 2006 Team: OAK, Level of Success: LS\n"
     ]
    },
    {
     "name": "stderr",
     "output_type": "stream",
     "text": [
      "/var/folders/fh/fzyqqz2s1vzcm3v06kz1h29w0000gp/T/ipykernel_93107/521324885.py:8: UserWarning: Boolean Series key will be reindexed to match DataFrame index.\n",
      "  temp_stats = all_team_stats[all_team_stats['team'] == team['Team']][all_team_stats['date'].astype(str).str.startswith(str(team['Year']))][all_team_stats['gametype'] == 'regular'][team_features]\n",
      "/var/folders/fh/fzyqqz2s1vzcm3v06kz1h29w0000gp/T/ipykernel_93107/521324885.py:8: UserWarning: Boolean Series key will be reindexed to match DataFrame index.\n",
      "  temp_stats = all_team_stats[all_team_stats['team'] == team['Team']][all_team_stats['date'].astype(str).str.startswith(str(team['Year']))][all_team_stats['gametype'] == 'regular'][team_features]\n"
     ]
    },
    {
     "name": "stdout",
     "output_type": "stream",
     "text": [
      "Index: 91, Year: 2006 Team: DET, Level of Success: WS\n"
     ]
    },
    {
     "name": "stderr",
     "output_type": "stream",
     "text": [
      "/var/folders/fh/fzyqqz2s1vzcm3v06kz1h29w0000gp/T/ipykernel_93107/521324885.py:8: UserWarning: Boolean Series key will be reindexed to match DataFrame index.\n",
      "  temp_stats = all_team_stats[all_team_stats['team'] == team['Team']][all_team_stats['date'].astype(str).str.startswith(str(team['Year']))][all_team_stats['gametype'] == 'regular'][team_features]\n",
      "/var/folders/fh/fzyqqz2s1vzcm3v06kz1h29w0000gp/T/ipykernel_93107/521324885.py:8: UserWarning: Boolean Series key will be reindexed to match DataFrame index.\n",
      "  temp_stats = all_team_stats[all_team_stats['team'] == team['Team']][all_team_stats['date'].astype(str).str.startswith(str(team['Year']))][all_team_stats['gametype'] == 'regular'][team_features]\n"
     ]
    },
    {
     "name": "stdout",
     "output_type": "stream",
     "text": [
      "Index: 92, Year: 2006 Team: NYN, Level of Success: LS\n"
     ]
    },
    {
     "name": "stderr",
     "output_type": "stream",
     "text": [
      "/var/folders/fh/fzyqqz2s1vzcm3v06kz1h29w0000gp/T/ipykernel_93107/521324885.py:8: UserWarning: Boolean Series key will be reindexed to match DataFrame index.\n",
      "  temp_stats = all_team_stats[all_team_stats['team'] == team['Team']][all_team_stats['date'].astype(str).str.startswith(str(team['Year']))][all_team_stats['gametype'] == 'regular'][team_features]\n",
      "/var/folders/fh/fzyqqz2s1vzcm3v06kz1h29w0000gp/T/ipykernel_93107/521324885.py:8: UserWarning: Boolean Series key will be reindexed to match DataFrame index.\n",
      "  temp_stats = all_team_stats[all_team_stats['team'] == team['Team']][all_team_stats['date'].astype(str).str.startswith(str(team['Year']))][all_team_stats['gametype'] == 'regular'][team_features]\n"
     ]
    },
    {
     "name": "stdout",
     "output_type": "stream",
     "text": [
      "Index: 93, Year: 2006 Team: SDN, Level of Success: DS\n"
     ]
    },
    {
     "name": "stderr",
     "output_type": "stream",
     "text": [
      "/var/folders/fh/fzyqqz2s1vzcm3v06kz1h29w0000gp/T/ipykernel_93107/521324885.py:8: UserWarning: Boolean Series key will be reindexed to match DataFrame index.\n",
      "  temp_stats = all_team_stats[all_team_stats['team'] == team['Team']][all_team_stats['date'].astype(str).str.startswith(str(team['Year']))][all_team_stats['gametype'] == 'regular'][team_features]\n",
      "/var/folders/fh/fzyqqz2s1vzcm3v06kz1h29w0000gp/T/ipykernel_93107/521324885.py:8: UserWarning: Boolean Series key will be reindexed to match DataFrame index.\n",
      "  temp_stats = all_team_stats[all_team_stats['team'] == team['Team']][all_team_stats['date'].astype(str).str.startswith(str(team['Year']))][all_team_stats['gametype'] == 'regular'][team_features]\n"
     ]
    },
    {
     "name": "stdout",
     "output_type": "stream",
     "text": [
      "Index: 94, Year: 2006 Team: SLN, Level of Success: C\n"
     ]
    },
    {
     "name": "stderr",
     "output_type": "stream",
     "text": [
      "/var/folders/fh/fzyqqz2s1vzcm3v06kz1h29w0000gp/T/ipykernel_93107/521324885.py:8: UserWarning: Boolean Series key will be reindexed to match DataFrame index.\n",
      "  temp_stats = all_team_stats[all_team_stats['team'] == team['Team']][all_team_stats['date'].astype(str).str.startswith(str(team['Year']))][all_team_stats['gametype'] == 'regular'][team_features]\n",
      "/var/folders/fh/fzyqqz2s1vzcm3v06kz1h29w0000gp/T/ipykernel_93107/521324885.py:8: UserWarning: Boolean Series key will be reindexed to match DataFrame index.\n",
      "  temp_stats = all_team_stats[all_team_stats['team'] == team['Team']][all_team_stats['date'].astype(str).str.startswith(str(team['Year']))][all_team_stats['gametype'] == 'regular'][team_features]\n"
     ]
    },
    {
     "name": "stdout",
     "output_type": "stream",
     "text": [
      "Index: 95, Year: 2006 Team: LAN, Level of Success: DS\n"
     ]
    },
    {
     "name": "stderr",
     "output_type": "stream",
     "text": [
      "/var/folders/fh/fzyqqz2s1vzcm3v06kz1h29w0000gp/T/ipykernel_93107/521324885.py:8: UserWarning: Boolean Series key will be reindexed to match DataFrame index.\n",
      "  temp_stats = all_team_stats[all_team_stats['team'] == team['Team']][all_team_stats['date'].astype(str).str.startswith(str(team['Year']))][all_team_stats['gametype'] == 'regular'][team_features]\n",
      "/var/folders/fh/fzyqqz2s1vzcm3v06kz1h29w0000gp/T/ipykernel_93107/521324885.py:8: UserWarning: Boolean Series key will be reindexed to match DataFrame index.\n",
      "  temp_stats = all_team_stats[all_team_stats['team'] == team['Team']][all_team_stats['date'].astype(str).str.startswith(str(team['Year']))][all_team_stats['gametype'] == 'regular'][team_features]\n"
     ]
    },
    {
     "name": "stdout",
     "output_type": "stream",
     "text": [
      "Index: 96, Year: 2007 Team: BOS, Level of Success: C\n"
     ]
    },
    {
     "name": "stderr",
     "output_type": "stream",
     "text": [
      "/var/folders/fh/fzyqqz2s1vzcm3v06kz1h29w0000gp/T/ipykernel_93107/521324885.py:8: UserWarning: Boolean Series key will be reindexed to match DataFrame index.\n",
      "  temp_stats = all_team_stats[all_team_stats['team'] == team['Team']][all_team_stats['date'].astype(str).str.startswith(str(team['Year']))][all_team_stats['gametype'] == 'regular'][team_features]\n",
      "/var/folders/fh/fzyqqz2s1vzcm3v06kz1h29w0000gp/T/ipykernel_93107/521324885.py:8: UserWarning: Boolean Series key will be reindexed to match DataFrame index.\n",
      "  temp_stats = all_team_stats[all_team_stats['team'] == team['Team']][all_team_stats['date'].astype(str).str.startswith(str(team['Year']))][all_team_stats['gametype'] == 'regular'][team_features]\n"
     ]
    },
    {
     "name": "stdout",
     "output_type": "stream",
     "text": [
      "Index: 97, Year: 2007 Team: CLE, Level of Success: LS\n"
     ]
    },
    {
     "name": "stderr",
     "output_type": "stream",
     "text": [
      "/var/folders/fh/fzyqqz2s1vzcm3v06kz1h29w0000gp/T/ipykernel_93107/521324885.py:8: UserWarning: Boolean Series key will be reindexed to match DataFrame index.\n",
      "  temp_stats = all_team_stats[all_team_stats['team'] == team['Team']][all_team_stats['date'].astype(str).str.startswith(str(team['Year']))][all_team_stats['gametype'] == 'regular'][team_features]\n",
      "/var/folders/fh/fzyqqz2s1vzcm3v06kz1h29w0000gp/T/ipykernel_93107/521324885.py:8: UserWarning: Boolean Series key will be reindexed to match DataFrame index.\n",
      "  temp_stats = all_team_stats[all_team_stats['team'] == team['Team']][all_team_stats['date'].astype(str).str.startswith(str(team['Year']))][all_team_stats['gametype'] == 'regular'][team_features]\n"
     ]
    },
    {
     "name": "stdout",
     "output_type": "stream",
     "text": [
      "Index: 98, Year: 2007 Team: ANA, Level of Success: DS\n"
     ]
    },
    {
     "name": "stderr",
     "output_type": "stream",
     "text": [
      "/var/folders/fh/fzyqqz2s1vzcm3v06kz1h29w0000gp/T/ipykernel_93107/521324885.py:8: UserWarning: Boolean Series key will be reindexed to match DataFrame index.\n",
      "  temp_stats = all_team_stats[all_team_stats['team'] == team['Team']][all_team_stats['date'].astype(str).str.startswith(str(team['Year']))][all_team_stats['gametype'] == 'regular'][team_features]\n",
      "/var/folders/fh/fzyqqz2s1vzcm3v06kz1h29w0000gp/T/ipykernel_93107/521324885.py:8: UserWarning: Boolean Series key will be reindexed to match DataFrame index.\n",
      "  temp_stats = all_team_stats[all_team_stats['team'] == team['Team']][all_team_stats['date'].astype(str).str.startswith(str(team['Year']))][all_team_stats['gametype'] == 'regular'][team_features]\n"
     ]
    },
    {
     "name": "stdout",
     "output_type": "stream",
     "text": [
      "Index: 99, Year: 2007 Team: NYA, Level of Success: DS\n"
     ]
    },
    {
     "name": "stderr",
     "output_type": "stream",
     "text": [
      "/var/folders/fh/fzyqqz2s1vzcm3v06kz1h29w0000gp/T/ipykernel_93107/521324885.py:8: UserWarning: Boolean Series key will be reindexed to match DataFrame index.\n",
      "  temp_stats = all_team_stats[all_team_stats['team'] == team['Team']][all_team_stats['date'].astype(str).str.startswith(str(team['Year']))][all_team_stats['gametype'] == 'regular'][team_features]\n",
      "/var/folders/fh/fzyqqz2s1vzcm3v06kz1h29w0000gp/T/ipykernel_93107/521324885.py:8: UserWarning: Boolean Series key will be reindexed to match DataFrame index.\n",
      "  temp_stats = all_team_stats[all_team_stats['team'] == team['Team']][all_team_stats['date'].astype(str).str.startswith(str(team['Year']))][all_team_stats['gametype'] == 'regular'][team_features]\n"
     ]
    },
    {
     "name": "stdout",
     "output_type": "stream",
     "text": [
      "Index: 100, Year: 2007 Team: ARI, Level of Success: LS\n"
     ]
    },
    {
     "name": "stderr",
     "output_type": "stream",
     "text": [
      "/var/folders/fh/fzyqqz2s1vzcm3v06kz1h29w0000gp/T/ipykernel_93107/521324885.py:8: UserWarning: Boolean Series key will be reindexed to match DataFrame index.\n",
      "  temp_stats = all_team_stats[all_team_stats['team'] == team['Team']][all_team_stats['date'].astype(str).str.startswith(str(team['Year']))][all_team_stats['gametype'] == 'regular'][team_features]\n",
      "/var/folders/fh/fzyqqz2s1vzcm3v06kz1h29w0000gp/T/ipykernel_93107/521324885.py:8: UserWarning: Boolean Series key will be reindexed to match DataFrame index.\n",
      "  temp_stats = all_team_stats[all_team_stats['team'] == team['Team']][all_team_stats['date'].astype(str).str.startswith(str(team['Year']))][all_team_stats['gametype'] == 'regular'][team_features]\n"
     ]
    },
    {
     "name": "stdout",
     "output_type": "stream",
     "text": [
      "Index: 101, Year: 2007 Team: PHI, Level of Success: DS\n"
     ]
    },
    {
     "name": "stderr",
     "output_type": "stream",
     "text": [
      "/var/folders/fh/fzyqqz2s1vzcm3v06kz1h29w0000gp/T/ipykernel_93107/521324885.py:8: UserWarning: Boolean Series key will be reindexed to match DataFrame index.\n",
      "  temp_stats = all_team_stats[all_team_stats['team'] == team['Team']][all_team_stats['date'].astype(str).str.startswith(str(team['Year']))][all_team_stats['gametype'] == 'regular'][team_features]\n",
      "/var/folders/fh/fzyqqz2s1vzcm3v06kz1h29w0000gp/T/ipykernel_93107/521324885.py:8: UserWarning: Boolean Series key will be reindexed to match DataFrame index.\n",
      "  temp_stats = all_team_stats[all_team_stats['team'] == team['Team']][all_team_stats['date'].astype(str).str.startswith(str(team['Year']))][all_team_stats['gametype'] == 'regular'][team_features]\n"
     ]
    },
    {
     "name": "stdout",
     "output_type": "stream",
     "text": [
      "Index: 102, Year: 2007 Team: CHN, Level of Success: DS\n"
     ]
    },
    {
     "name": "stderr",
     "output_type": "stream",
     "text": [
      "/var/folders/fh/fzyqqz2s1vzcm3v06kz1h29w0000gp/T/ipykernel_93107/521324885.py:8: UserWarning: Boolean Series key will be reindexed to match DataFrame index.\n",
      "  temp_stats = all_team_stats[all_team_stats['team'] == team['Team']][all_team_stats['date'].astype(str).str.startswith(str(team['Year']))][all_team_stats['gametype'] == 'regular'][team_features]\n",
      "/var/folders/fh/fzyqqz2s1vzcm3v06kz1h29w0000gp/T/ipykernel_93107/521324885.py:8: UserWarning: Boolean Series key will be reindexed to match DataFrame index.\n",
      "  temp_stats = all_team_stats[all_team_stats['team'] == team['Team']][all_team_stats['date'].astype(str).str.startswith(str(team['Year']))][all_team_stats['gametype'] == 'regular'][team_features]\n"
     ]
    },
    {
     "name": "stdout",
     "output_type": "stream",
     "text": [
      "Index: 103, Year: 2007 Team: COL, Level of Success: WS\n"
     ]
    },
    {
     "name": "stderr",
     "output_type": "stream",
     "text": [
      "/var/folders/fh/fzyqqz2s1vzcm3v06kz1h29w0000gp/T/ipykernel_93107/521324885.py:8: UserWarning: Boolean Series key will be reindexed to match DataFrame index.\n",
      "  temp_stats = all_team_stats[all_team_stats['team'] == team['Team']][all_team_stats['date'].astype(str).str.startswith(str(team['Year']))][all_team_stats['gametype'] == 'regular'][team_features]\n",
      "/var/folders/fh/fzyqqz2s1vzcm3v06kz1h29w0000gp/T/ipykernel_93107/521324885.py:8: UserWarning: Boolean Series key will be reindexed to match DataFrame index.\n",
      "  temp_stats = all_team_stats[all_team_stats['team'] == team['Team']][all_team_stats['date'].astype(str).str.startswith(str(team['Year']))][all_team_stats['gametype'] == 'regular'][team_features]\n"
     ]
    },
    {
     "name": "stdout",
     "output_type": "stream",
     "text": [
      "Index: 104, Year: 2008 Team: ANA, Level of Success: DS\n"
     ]
    },
    {
     "name": "stderr",
     "output_type": "stream",
     "text": [
      "/var/folders/fh/fzyqqz2s1vzcm3v06kz1h29w0000gp/T/ipykernel_93107/521324885.py:8: UserWarning: Boolean Series key will be reindexed to match DataFrame index.\n",
      "  temp_stats = all_team_stats[all_team_stats['team'] == team['Team']][all_team_stats['date'].astype(str).str.startswith(str(team['Year']))][all_team_stats['gametype'] == 'regular'][team_features]\n",
      "/var/folders/fh/fzyqqz2s1vzcm3v06kz1h29w0000gp/T/ipykernel_93107/521324885.py:8: UserWarning: Boolean Series key will be reindexed to match DataFrame index.\n",
      "  temp_stats = all_team_stats[all_team_stats['team'] == team['Team']][all_team_stats['date'].astype(str).str.startswith(str(team['Year']))][all_team_stats['gametype'] == 'regular'][team_features]\n"
     ]
    },
    {
     "name": "stdout",
     "output_type": "stream",
     "text": [
      "Index: 105, Year: 2008 Team: TBA, Level of Success: WS\n"
     ]
    },
    {
     "name": "stderr",
     "output_type": "stream",
     "text": [
      "/var/folders/fh/fzyqqz2s1vzcm3v06kz1h29w0000gp/T/ipykernel_93107/521324885.py:8: UserWarning: Boolean Series key will be reindexed to match DataFrame index.\n",
      "  temp_stats = all_team_stats[all_team_stats['team'] == team['Team']][all_team_stats['date'].astype(str).str.startswith(str(team['Year']))][all_team_stats['gametype'] == 'regular'][team_features]\n",
      "/var/folders/fh/fzyqqz2s1vzcm3v06kz1h29w0000gp/T/ipykernel_93107/521324885.py:8: UserWarning: Boolean Series key will be reindexed to match DataFrame index.\n",
      "  temp_stats = all_team_stats[all_team_stats['team'] == team['Team']][all_team_stats['date'].astype(str).str.startswith(str(team['Year']))][all_team_stats['gametype'] == 'regular'][team_features]\n"
     ]
    },
    {
     "name": "stdout",
     "output_type": "stream",
     "text": [
      "Index: 106, Year: 2008 Team: CHA, Level of Success: DS\n"
     ]
    },
    {
     "name": "stderr",
     "output_type": "stream",
     "text": [
      "/var/folders/fh/fzyqqz2s1vzcm3v06kz1h29w0000gp/T/ipykernel_93107/521324885.py:8: UserWarning: Boolean Series key will be reindexed to match DataFrame index.\n",
      "  temp_stats = all_team_stats[all_team_stats['team'] == team['Team']][all_team_stats['date'].astype(str).str.startswith(str(team['Year']))][all_team_stats['gametype'] == 'regular'][team_features]\n",
      "/var/folders/fh/fzyqqz2s1vzcm3v06kz1h29w0000gp/T/ipykernel_93107/521324885.py:8: UserWarning: Boolean Series key will be reindexed to match DataFrame index.\n",
      "  temp_stats = all_team_stats[all_team_stats['team'] == team['Team']][all_team_stats['date'].astype(str).str.startswith(str(team['Year']))][all_team_stats['gametype'] == 'regular'][team_features]\n"
     ]
    },
    {
     "name": "stdout",
     "output_type": "stream",
     "text": [
      "Index: 107, Year: 2008 Team: BOS, Level of Success: LS\n"
     ]
    },
    {
     "name": "stderr",
     "output_type": "stream",
     "text": [
      "/var/folders/fh/fzyqqz2s1vzcm3v06kz1h29w0000gp/T/ipykernel_93107/521324885.py:8: UserWarning: Boolean Series key will be reindexed to match DataFrame index.\n",
      "  temp_stats = all_team_stats[all_team_stats['team'] == team['Team']][all_team_stats['date'].astype(str).str.startswith(str(team['Year']))][all_team_stats['gametype'] == 'regular'][team_features]\n",
      "/var/folders/fh/fzyqqz2s1vzcm3v06kz1h29w0000gp/T/ipykernel_93107/521324885.py:8: UserWarning: Boolean Series key will be reindexed to match DataFrame index.\n",
      "  temp_stats = all_team_stats[all_team_stats['team'] == team['Team']][all_team_stats['date'].astype(str).str.startswith(str(team['Year']))][all_team_stats['gametype'] == 'regular'][team_features]\n"
     ]
    },
    {
     "name": "stdout",
     "output_type": "stream",
     "text": [
      "Index: 108, Year: 2008 Team: CHN, Level of Success: DS\n"
     ]
    },
    {
     "name": "stderr",
     "output_type": "stream",
     "text": [
      "/var/folders/fh/fzyqqz2s1vzcm3v06kz1h29w0000gp/T/ipykernel_93107/521324885.py:8: UserWarning: Boolean Series key will be reindexed to match DataFrame index.\n",
      "  temp_stats = all_team_stats[all_team_stats['team'] == team['Team']][all_team_stats['date'].astype(str).str.startswith(str(team['Year']))][all_team_stats['gametype'] == 'regular'][team_features]\n",
      "/var/folders/fh/fzyqqz2s1vzcm3v06kz1h29w0000gp/T/ipykernel_93107/521324885.py:8: UserWarning: Boolean Series key will be reindexed to match DataFrame index.\n",
      "  temp_stats = all_team_stats[all_team_stats['team'] == team['Team']][all_team_stats['date'].astype(str).str.startswith(str(team['Year']))][all_team_stats['gametype'] == 'regular'][team_features]\n"
     ]
    },
    {
     "name": "stdout",
     "output_type": "stream",
     "text": [
      "Index: 109, Year: 2008 Team: PHI, Level of Success: C\n"
     ]
    },
    {
     "name": "stderr",
     "output_type": "stream",
     "text": [
      "/var/folders/fh/fzyqqz2s1vzcm3v06kz1h29w0000gp/T/ipykernel_93107/521324885.py:8: UserWarning: Boolean Series key will be reindexed to match DataFrame index.\n",
      "  temp_stats = all_team_stats[all_team_stats['team'] == team['Team']][all_team_stats['date'].astype(str).str.startswith(str(team['Year']))][all_team_stats['gametype'] == 'regular'][team_features]\n",
      "/var/folders/fh/fzyqqz2s1vzcm3v06kz1h29w0000gp/T/ipykernel_93107/521324885.py:8: UserWarning: Boolean Series key will be reindexed to match DataFrame index.\n",
      "  temp_stats = all_team_stats[all_team_stats['team'] == team['Team']][all_team_stats['date'].astype(str).str.startswith(str(team['Year']))][all_team_stats['gametype'] == 'regular'][team_features]\n"
     ]
    },
    {
     "name": "stdout",
     "output_type": "stream",
     "text": [
      "Index: 110, Year: 2008 Team: LAN, Level of Success: LS\n"
     ]
    },
    {
     "name": "stderr",
     "output_type": "stream",
     "text": [
      "/var/folders/fh/fzyqqz2s1vzcm3v06kz1h29w0000gp/T/ipykernel_93107/521324885.py:8: UserWarning: Boolean Series key will be reindexed to match DataFrame index.\n",
      "  temp_stats = all_team_stats[all_team_stats['team'] == team['Team']][all_team_stats['date'].astype(str).str.startswith(str(team['Year']))][all_team_stats['gametype'] == 'regular'][team_features]\n",
      "/var/folders/fh/fzyqqz2s1vzcm3v06kz1h29w0000gp/T/ipykernel_93107/521324885.py:8: UserWarning: Boolean Series key will be reindexed to match DataFrame index.\n",
      "  temp_stats = all_team_stats[all_team_stats['team'] == team['Team']][all_team_stats['date'].astype(str).str.startswith(str(team['Year']))][all_team_stats['gametype'] == 'regular'][team_features]\n"
     ]
    },
    {
     "name": "stdout",
     "output_type": "stream",
     "text": [
      "Index: 111, Year: 2008 Team: MIL, Level of Success: DS\n"
     ]
    },
    {
     "name": "stderr",
     "output_type": "stream",
     "text": [
      "/var/folders/fh/fzyqqz2s1vzcm3v06kz1h29w0000gp/T/ipykernel_93107/521324885.py:8: UserWarning: Boolean Series key will be reindexed to match DataFrame index.\n",
      "  temp_stats = all_team_stats[all_team_stats['team'] == team['Team']][all_team_stats['date'].astype(str).str.startswith(str(team['Year']))][all_team_stats['gametype'] == 'regular'][team_features]\n",
      "/var/folders/fh/fzyqqz2s1vzcm3v06kz1h29w0000gp/T/ipykernel_93107/521324885.py:8: UserWarning: Boolean Series key will be reindexed to match DataFrame index.\n",
      "  temp_stats = all_team_stats[all_team_stats['team'] == team['Team']][all_team_stats['date'].astype(str).str.startswith(str(team['Year']))][all_team_stats['gametype'] == 'regular'][team_features]\n"
     ]
    },
    {
     "name": "stdout",
     "output_type": "stream",
     "text": [
      "Index: 112, Year: 2009 Team: NYA, Level of Success: C\n"
     ]
    },
    {
     "name": "stderr",
     "output_type": "stream",
     "text": [
      "/var/folders/fh/fzyqqz2s1vzcm3v06kz1h29w0000gp/T/ipykernel_93107/521324885.py:8: UserWarning: Boolean Series key will be reindexed to match DataFrame index.\n",
      "  temp_stats = all_team_stats[all_team_stats['team'] == team['Team']][all_team_stats['date'].astype(str).str.startswith(str(team['Year']))][all_team_stats['gametype'] == 'regular'][team_features]\n",
      "/var/folders/fh/fzyqqz2s1vzcm3v06kz1h29w0000gp/T/ipykernel_93107/521324885.py:8: UserWarning: Boolean Series key will be reindexed to match DataFrame index.\n",
      "  temp_stats = all_team_stats[all_team_stats['team'] == team['Team']][all_team_stats['date'].astype(str).str.startswith(str(team['Year']))][all_team_stats['gametype'] == 'regular'][team_features]\n"
     ]
    },
    {
     "name": "stdout",
     "output_type": "stream",
     "text": [
      "Index: 113, Year: 2009 Team: ANA, Level of Success: LS\n"
     ]
    },
    {
     "name": "stderr",
     "output_type": "stream",
     "text": [
      "/var/folders/fh/fzyqqz2s1vzcm3v06kz1h29w0000gp/T/ipykernel_93107/521324885.py:8: UserWarning: Boolean Series key will be reindexed to match DataFrame index.\n",
      "  temp_stats = all_team_stats[all_team_stats['team'] == team['Team']][all_team_stats['date'].astype(str).str.startswith(str(team['Year']))][all_team_stats['gametype'] == 'regular'][team_features]\n",
      "/var/folders/fh/fzyqqz2s1vzcm3v06kz1h29w0000gp/T/ipykernel_93107/521324885.py:8: UserWarning: Boolean Series key will be reindexed to match DataFrame index.\n",
      "  temp_stats = all_team_stats[all_team_stats['team'] == team['Team']][all_team_stats['date'].astype(str).str.startswith(str(team['Year']))][all_team_stats['gametype'] == 'regular'][team_features]\n"
     ]
    },
    {
     "name": "stdout",
     "output_type": "stream",
     "text": [
      "Index: 114, Year: 2009 Team: MIN, Level of Success: DS\n"
     ]
    },
    {
     "name": "stderr",
     "output_type": "stream",
     "text": [
      "/var/folders/fh/fzyqqz2s1vzcm3v06kz1h29w0000gp/T/ipykernel_93107/521324885.py:8: UserWarning: Boolean Series key will be reindexed to match DataFrame index.\n",
      "  temp_stats = all_team_stats[all_team_stats['team'] == team['Team']][all_team_stats['date'].astype(str).str.startswith(str(team['Year']))][all_team_stats['gametype'] == 'regular'][team_features]\n",
      "/var/folders/fh/fzyqqz2s1vzcm3v06kz1h29w0000gp/T/ipykernel_93107/521324885.py:8: UserWarning: Boolean Series key will be reindexed to match DataFrame index.\n",
      "  temp_stats = all_team_stats[all_team_stats['team'] == team['Team']][all_team_stats['date'].astype(str).str.startswith(str(team['Year']))][all_team_stats['gametype'] == 'regular'][team_features]\n"
     ]
    },
    {
     "name": "stdout",
     "output_type": "stream",
     "text": [
      "Index: 115, Year: 2009 Team: BOS, Level of Success: DS\n"
     ]
    },
    {
     "name": "stderr",
     "output_type": "stream",
     "text": [
      "/var/folders/fh/fzyqqz2s1vzcm3v06kz1h29w0000gp/T/ipykernel_93107/521324885.py:8: UserWarning: Boolean Series key will be reindexed to match DataFrame index.\n",
      "  temp_stats = all_team_stats[all_team_stats['team'] == team['Team']][all_team_stats['date'].astype(str).str.startswith(str(team['Year']))][all_team_stats['gametype'] == 'regular'][team_features]\n",
      "/var/folders/fh/fzyqqz2s1vzcm3v06kz1h29w0000gp/T/ipykernel_93107/521324885.py:8: UserWarning: Boolean Series key will be reindexed to match DataFrame index.\n",
      "  temp_stats = all_team_stats[all_team_stats['team'] == team['Team']][all_team_stats['date'].astype(str).str.startswith(str(team['Year']))][all_team_stats['gametype'] == 'regular'][team_features]\n"
     ]
    },
    {
     "name": "stdout",
     "output_type": "stream",
     "text": [
      "Index: 116, Year: 2009 Team: LAN, Level of Success: LS\n"
     ]
    },
    {
     "name": "stderr",
     "output_type": "stream",
     "text": [
      "/var/folders/fh/fzyqqz2s1vzcm3v06kz1h29w0000gp/T/ipykernel_93107/521324885.py:8: UserWarning: Boolean Series key will be reindexed to match DataFrame index.\n",
      "  temp_stats = all_team_stats[all_team_stats['team'] == team['Team']][all_team_stats['date'].astype(str).str.startswith(str(team['Year']))][all_team_stats['gametype'] == 'regular'][team_features]\n",
      "/var/folders/fh/fzyqqz2s1vzcm3v06kz1h29w0000gp/T/ipykernel_93107/521324885.py:8: UserWarning: Boolean Series key will be reindexed to match DataFrame index.\n",
      "  temp_stats = all_team_stats[all_team_stats['team'] == team['Team']][all_team_stats['date'].astype(str).str.startswith(str(team['Year']))][all_team_stats['gametype'] == 'regular'][team_features]\n"
     ]
    },
    {
     "name": "stdout",
     "output_type": "stream",
     "text": [
      "Index: 117, Year: 2009 Team: PHI, Level of Success: WS\n"
     ]
    },
    {
     "name": "stderr",
     "output_type": "stream",
     "text": [
      "/var/folders/fh/fzyqqz2s1vzcm3v06kz1h29w0000gp/T/ipykernel_93107/521324885.py:8: UserWarning: Boolean Series key will be reindexed to match DataFrame index.\n",
      "  temp_stats = all_team_stats[all_team_stats['team'] == team['Team']][all_team_stats['date'].astype(str).str.startswith(str(team['Year']))][all_team_stats['gametype'] == 'regular'][team_features]\n",
      "/var/folders/fh/fzyqqz2s1vzcm3v06kz1h29w0000gp/T/ipykernel_93107/521324885.py:8: UserWarning: Boolean Series key will be reindexed to match DataFrame index.\n",
      "  temp_stats = all_team_stats[all_team_stats['team'] == team['Team']][all_team_stats['date'].astype(str).str.startswith(str(team['Year']))][all_team_stats['gametype'] == 'regular'][team_features]\n"
     ]
    },
    {
     "name": "stdout",
     "output_type": "stream",
     "text": [
      "Index: 118, Year: 2009 Team: SLN, Level of Success: DS\n"
     ]
    },
    {
     "name": "stderr",
     "output_type": "stream",
     "text": [
      "/var/folders/fh/fzyqqz2s1vzcm3v06kz1h29w0000gp/T/ipykernel_93107/521324885.py:8: UserWarning: Boolean Series key will be reindexed to match DataFrame index.\n",
      "  temp_stats = all_team_stats[all_team_stats['team'] == team['Team']][all_team_stats['date'].astype(str).str.startswith(str(team['Year']))][all_team_stats['gametype'] == 'regular'][team_features]\n",
      "/var/folders/fh/fzyqqz2s1vzcm3v06kz1h29w0000gp/T/ipykernel_93107/521324885.py:8: UserWarning: Boolean Series key will be reindexed to match DataFrame index.\n",
      "  temp_stats = all_team_stats[all_team_stats['team'] == team['Team']][all_team_stats['date'].astype(str).str.startswith(str(team['Year']))][all_team_stats['gametype'] == 'regular'][team_features]\n"
     ]
    },
    {
     "name": "stdout",
     "output_type": "stream",
     "text": [
      "Index: 119, Year: 2009 Team: COL, Level of Success: DS\n"
     ]
    },
    {
     "name": "stderr",
     "output_type": "stream",
     "text": [
      "/var/folders/fh/fzyqqz2s1vzcm3v06kz1h29w0000gp/T/ipykernel_93107/521324885.py:8: UserWarning: Boolean Series key will be reindexed to match DataFrame index.\n",
      "  temp_stats = all_team_stats[all_team_stats['team'] == team['Team']][all_team_stats['date'].astype(str).str.startswith(str(team['Year']))][all_team_stats['gametype'] == 'regular'][team_features]\n",
      "/var/folders/fh/fzyqqz2s1vzcm3v06kz1h29w0000gp/T/ipykernel_93107/521324885.py:8: UserWarning: Boolean Series key will be reindexed to match DataFrame index.\n",
      "  temp_stats = all_team_stats[all_team_stats['team'] == team['Team']][all_team_stats['date'].astype(str).str.startswith(str(team['Year']))][all_team_stats['gametype'] == 'regular'][team_features]\n"
     ]
    },
    {
     "name": "stdout",
     "output_type": "stream",
     "text": [
      "Index: 120, Year: 2010 Team: TBA, Level of Success: DS\n"
     ]
    },
    {
     "name": "stderr",
     "output_type": "stream",
     "text": [
      "/var/folders/fh/fzyqqz2s1vzcm3v06kz1h29w0000gp/T/ipykernel_93107/521324885.py:8: UserWarning: Boolean Series key will be reindexed to match DataFrame index.\n",
      "  temp_stats = all_team_stats[all_team_stats['team'] == team['Team']][all_team_stats['date'].astype(str).str.startswith(str(team['Year']))][all_team_stats['gametype'] == 'regular'][team_features]\n",
      "/var/folders/fh/fzyqqz2s1vzcm3v06kz1h29w0000gp/T/ipykernel_93107/521324885.py:8: UserWarning: Boolean Series key will be reindexed to match DataFrame index.\n",
      "  temp_stats = all_team_stats[all_team_stats['team'] == team['Team']][all_team_stats['date'].astype(str).str.startswith(str(team['Year']))][all_team_stats['gametype'] == 'regular'][team_features]\n"
     ]
    },
    {
     "name": "stdout",
     "output_type": "stream",
     "text": [
      "Index: 121, Year: 2010 Team: MIN, Level of Success: DS\n"
     ]
    },
    {
     "name": "stderr",
     "output_type": "stream",
     "text": [
      "/var/folders/fh/fzyqqz2s1vzcm3v06kz1h29w0000gp/T/ipykernel_93107/521324885.py:8: UserWarning: Boolean Series key will be reindexed to match DataFrame index.\n",
      "  temp_stats = all_team_stats[all_team_stats['team'] == team['Team']][all_team_stats['date'].astype(str).str.startswith(str(team['Year']))][all_team_stats['gametype'] == 'regular'][team_features]\n",
      "/var/folders/fh/fzyqqz2s1vzcm3v06kz1h29w0000gp/T/ipykernel_93107/521324885.py:8: UserWarning: Boolean Series key will be reindexed to match DataFrame index.\n",
      "  temp_stats = all_team_stats[all_team_stats['team'] == team['Team']][all_team_stats['date'].astype(str).str.startswith(str(team['Year']))][all_team_stats['gametype'] == 'regular'][team_features]\n"
     ]
    },
    {
     "name": "stdout",
     "output_type": "stream",
     "text": [
      "Index: 122, Year: 2010 Team: TEX, Level of Success: WS\n"
     ]
    },
    {
     "name": "stderr",
     "output_type": "stream",
     "text": [
      "/var/folders/fh/fzyqqz2s1vzcm3v06kz1h29w0000gp/T/ipykernel_93107/521324885.py:8: UserWarning: Boolean Series key will be reindexed to match DataFrame index.\n",
      "  temp_stats = all_team_stats[all_team_stats['team'] == team['Team']][all_team_stats['date'].astype(str).str.startswith(str(team['Year']))][all_team_stats['gametype'] == 'regular'][team_features]\n",
      "/var/folders/fh/fzyqqz2s1vzcm3v06kz1h29w0000gp/T/ipykernel_93107/521324885.py:8: UserWarning: Boolean Series key will be reindexed to match DataFrame index.\n",
      "  temp_stats = all_team_stats[all_team_stats['team'] == team['Team']][all_team_stats['date'].astype(str).str.startswith(str(team['Year']))][all_team_stats['gametype'] == 'regular'][team_features]\n"
     ]
    },
    {
     "name": "stdout",
     "output_type": "stream",
     "text": [
      "Index: 123, Year: 2010 Team: NYA, Level of Success: LS\n"
     ]
    },
    {
     "name": "stderr",
     "output_type": "stream",
     "text": [
      "/var/folders/fh/fzyqqz2s1vzcm3v06kz1h29w0000gp/T/ipykernel_93107/521324885.py:8: UserWarning: Boolean Series key will be reindexed to match DataFrame index.\n",
      "  temp_stats = all_team_stats[all_team_stats['team'] == team['Team']][all_team_stats['date'].astype(str).str.startswith(str(team['Year']))][all_team_stats['gametype'] == 'regular'][team_features]\n",
      "/var/folders/fh/fzyqqz2s1vzcm3v06kz1h29w0000gp/T/ipykernel_93107/521324885.py:8: UserWarning: Boolean Series key will be reindexed to match DataFrame index.\n",
      "  temp_stats = all_team_stats[all_team_stats['team'] == team['Team']][all_team_stats['date'].astype(str).str.startswith(str(team['Year']))][all_team_stats['gametype'] == 'regular'][team_features]\n"
     ]
    },
    {
     "name": "stdout",
     "output_type": "stream",
     "text": [
      "Index: 124, Year: 2010 Team: PHI, Level of Success: LS\n"
     ]
    },
    {
     "name": "stderr",
     "output_type": "stream",
     "text": [
      "/var/folders/fh/fzyqqz2s1vzcm3v06kz1h29w0000gp/T/ipykernel_93107/521324885.py:8: UserWarning: Boolean Series key will be reindexed to match DataFrame index.\n",
      "  temp_stats = all_team_stats[all_team_stats['team'] == team['Team']][all_team_stats['date'].astype(str).str.startswith(str(team['Year']))][all_team_stats['gametype'] == 'regular'][team_features]\n",
      "/var/folders/fh/fzyqqz2s1vzcm3v06kz1h29w0000gp/T/ipykernel_93107/521324885.py:8: UserWarning: Boolean Series key will be reindexed to match DataFrame index.\n",
      "  temp_stats = all_team_stats[all_team_stats['team'] == team['Team']][all_team_stats['date'].astype(str).str.startswith(str(team['Year']))][all_team_stats['gametype'] == 'regular'][team_features]\n"
     ]
    },
    {
     "name": "stdout",
     "output_type": "stream",
     "text": [
      "Index: 125, Year: 2010 Team: SFN, Level of Success: C\n"
     ]
    },
    {
     "name": "stderr",
     "output_type": "stream",
     "text": [
      "/var/folders/fh/fzyqqz2s1vzcm3v06kz1h29w0000gp/T/ipykernel_93107/521324885.py:8: UserWarning: Boolean Series key will be reindexed to match DataFrame index.\n",
      "  temp_stats = all_team_stats[all_team_stats['team'] == team['Team']][all_team_stats['date'].astype(str).str.startswith(str(team['Year']))][all_team_stats['gametype'] == 'regular'][team_features]\n",
      "/var/folders/fh/fzyqqz2s1vzcm3v06kz1h29w0000gp/T/ipykernel_93107/521324885.py:8: UserWarning: Boolean Series key will be reindexed to match DataFrame index.\n",
      "  temp_stats = all_team_stats[all_team_stats['team'] == team['Team']][all_team_stats['date'].astype(str).str.startswith(str(team['Year']))][all_team_stats['gametype'] == 'regular'][team_features]\n"
     ]
    },
    {
     "name": "stdout",
     "output_type": "stream",
     "text": [
      "Index: 126, Year: 2010 Team: CIN, Level of Success: DS\n"
     ]
    },
    {
     "name": "stderr",
     "output_type": "stream",
     "text": [
      "/var/folders/fh/fzyqqz2s1vzcm3v06kz1h29w0000gp/T/ipykernel_93107/521324885.py:8: UserWarning: Boolean Series key will be reindexed to match DataFrame index.\n",
      "  temp_stats = all_team_stats[all_team_stats['team'] == team['Team']][all_team_stats['date'].astype(str).str.startswith(str(team['Year']))][all_team_stats['gametype'] == 'regular'][team_features]\n",
      "/var/folders/fh/fzyqqz2s1vzcm3v06kz1h29w0000gp/T/ipykernel_93107/521324885.py:8: UserWarning: Boolean Series key will be reindexed to match DataFrame index.\n",
      "  temp_stats = all_team_stats[all_team_stats['team'] == team['Team']][all_team_stats['date'].astype(str).str.startswith(str(team['Year']))][all_team_stats['gametype'] == 'regular'][team_features]\n"
     ]
    },
    {
     "name": "stdout",
     "output_type": "stream",
     "text": [
      "Index: 127, Year: 2010 Team: ATL, Level of Success: DS\n"
     ]
    },
    {
     "name": "stderr",
     "output_type": "stream",
     "text": [
      "/var/folders/fh/fzyqqz2s1vzcm3v06kz1h29w0000gp/T/ipykernel_93107/521324885.py:8: UserWarning: Boolean Series key will be reindexed to match DataFrame index.\n",
      "  temp_stats = all_team_stats[all_team_stats['team'] == team['Team']][all_team_stats['date'].astype(str).str.startswith(str(team['Year']))][all_team_stats['gametype'] == 'regular'][team_features]\n",
      "/var/folders/fh/fzyqqz2s1vzcm3v06kz1h29w0000gp/T/ipykernel_93107/521324885.py:8: UserWarning: Boolean Series key will be reindexed to match DataFrame index.\n",
      "  temp_stats = all_team_stats[all_team_stats['team'] == team['Team']][all_team_stats['date'].astype(str).str.startswith(str(team['Year']))][all_team_stats['gametype'] == 'regular'][team_features]\n"
     ]
    },
    {
     "name": "stdout",
     "output_type": "stream",
     "text": [
      "Index: 128, Year: 2011 Team: NYA, Level of Success: DS\n"
     ]
    },
    {
     "name": "stderr",
     "output_type": "stream",
     "text": [
      "/var/folders/fh/fzyqqz2s1vzcm3v06kz1h29w0000gp/T/ipykernel_93107/521324885.py:8: UserWarning: Boolean Series key will be reindexed to match DataFrame index.\n",
      "  temp_stats = all_team_stats[all_team_stats['team'] == team['Team']][all_team_stats['date'].astype(str).str.startswith(str(team['Year']))][all_team_stats['gametype'] == 'regular'][team_features]\n",
      "/var/folders/fh/fzyqqz2s1vzcm3v06kz1h29w0000gp/T/ipykernel_93107/521324885.py:8: UserWarning: Boolean Series key will be reindexed to match DataFrame index.\n",
      "  temp_stats = all_team_stats[all_team_stats['team'] == team['Team']][all_team_stats['date'].astype(str).str.startswith(str(team['Year']))][all_team_stats['gametype'] == 'regular'][team_features]\n"
     ]
    },
    {
     "name": "stdout",
     "output_type": "stream",
     "text": [
      "Index: 129, Year: 2011 Team: TEX, Level of Success: WS\n"
     ]
    },
    {
     "name": "stderr",
     "output_type": "stream",
     "text": [
      "/var/folders/fh/fzyqqz2s1vzcm3v06kz1h29w0000gp/T/ipykernel_93107/521324885.py:8: UserWarning: Boolean Series key will be reindexed to match DataFrame index.\n",
      "  temp_stats = all_team_stats[all_team_stats['team'] == team['Team']][all_team_stats['date'].astype(str).str.startswith(str(team['Year']))][all_team_stats['gametype'] == 'regular'][team_features]\n",
      "/var/folders/fh/fzyqqz2s1vzcm3v06kz1h29w0000gp/T/ipykernel_93107/521324885.py:8: UserWarning: Boolean Series key will be reindexed to match DataFrame index.\n",
      "  temp_stats = all_team_stats[all_team_stats['team'] == team['Team']][all_team_stats['date'].astype(str).str.startswith(str(team['Year']))][all_team_stats['gametype'] == 'regular'][team_features]\n"
     ]
    },
    {
     "name": "stdout",
     "output_type": "stream",
     "text": [
      "Index: 130, Year: 2011 Team: DET, Level of Success: LS\n"
     ]
    },
    {
     "name": "stderr",
     "output_type": "stream",
     "text": [
      "/var/folders/fh/fzyqqz2s1vzcm3v06kz1h29w0000gp/T/ipykernel_93107/521324885.py:8: UserWarning: Boolean Series key will be reindexed to match DataFrame index.\n",
      "  temp_stats = all_team_stats[all_team_stats['team'] == team['Team']][all_team_stats['date'].astype(str).str.startswith(str(team['Year']))][all_team_stats['gametype'] == 'regular'][team_features]\n",
      "/var/folders/fh/fzyqqz2s1vzcm3v06kz1h29w0000gp/T/ipykernel_93107/521324885.py:8: UserWarning: Boolean Series key will be reindexed to match DataFrame index.\n",
      "  temp_stats = all_team_stats[all_team_stats['team'] == team['Team']][all_team_stats['date'].astype(str).str.startswith(str(team['Year']))][all_team_stats['gametype'] == 'regular'][team_features]\n"
     ]
    },
    {
     "name": "stdout",
     "output_type": "stream",
     "text": [
      "Index: 131, Year: 2011 Team: TBA, Level of Success: DS\n"
     ]
    },
    {
     "name": "stderr",
     "output_type": "stream",
     "text": [
      "/var/folders/fh/fzyqqz2s1vzcm3v06kz1h29w0000gp/T/ipykernel_93107/521324885.py:8: UserWarning: Boolean Series key will be reindexed to match DataFrame index.\n",
      "  temp_stats = all_team_stats[all_team_stats['team'] == team['Team']][all_team_stats['date'].astype(str).str.startswith(str(team['Year']))][all_team_stats['gametype'] == 'regular'][team_features]\n",
      "/var/folders/fh/fzyqqz2s1vzcm3v06kz1h29w0000gp/T/ipykernel_93107/521324885.py:8: UserWarning: Boolean Series key will be reindexed to match DataFrame index.\n",
      "  temp_stats = all_team_stats[all_team_stats['team'] == team['Team']][all_team_stats['date'].astype(str).str.startswith(str(team['Year']))][all_team_stats['gametype'] == 'regular'][team_features]\n"
     ]
    },
    {
     "name": "stdout",
     "output_type": "stream",
     "text": [
      "Index: 132, Year: 2011 Team: PHI, Level of Success: DS\n"
     ]
    },
    {
     "name": "stderr",
     "output_type": "stream",
     "text": [
      "/var/folders/fh/fzyqqz2s1vzcm3v06kz1h29w0000gp/T/ipykernel_93107/521324885.py:8: UserWarning: Boolean Series key will be reindexed to match DataFrame index.\n",
      "  temp_stats = all_team_stats[all_team_stats['team'] == team['Team']][all_team_stats['date'].astype(str).str.startswith(str(team['Year']))][all_team_stats['gametype'] == 'regular'][team_features]\n",
      "/var/folders/fh/fzyqqz2s1vzcm3v06kz1h29w0000gp/T/ipykernel_93107/521324885.py:8: UserWarning: Boolean Series key will be reindexed to match DataFrame index.\n",
      "  temp_stats = all_team_stats[all_team_stats['team'] == team['Team']][all_team_stats['date'].astype(str).str.startswith(str(team['Year']))][all_team_stats['gametype'] == 'regular'][team_features]\n"
     ]
    },
    {
     "name": "stdout",
     "output_type": "stream",
     "text": [
      "Index: 133, Year: 2011 Team: MIL, Level of Success: LS\n"
     ]
    },
    {
     "name": "stderr",
     "output_type": "stream",
     "text": [
      "/var/folders/fh/fzyqqz2s1vzcm3v06kz1h29w0000gp/T/ipykernel_93107/521324885.py:8: UserWarning: Boolean Series key will be reindexed to match DataFrame index.\n",
      "  temp_stats = all_team_stats[all_team_stats['team'] == team['Team']][all_team_stats['date'].astype(str).str.startswith(str(team['Year']))][all_team_stats['gametype'] == 'regular'][team_features]\n",
      "/var/folders/fh/fzyqqz2s1vzcm3v06kz1h29w0000gp/T/ipykernel_93107/521324885.py:8: UserWarning: Boolean Series key will be reindexed to match DataFrame index.\n",
      "  temp_stats = all_team_stats[all_team_stats['team'] == team['Team']][all_team_stats['date'].astype(str).str.startswith(str(team['Year']))][all_team_stats['gametype'] == 'regular'][team_features]\n"
     ]
    },
    {
     "name": "stdout",
     "output_type": "stream",
     "text": [
      "Index: 134, Year: 2011 Team: ARI, Level of Success: DS\n"
     ]
    },
    {
     "name": "stderr",
     "output_type": "stream",
     "text": [
      "/var/folders/fh/fzyqqz2s1vzcm3v06kz1h29w0000gp/T/ipykernel_93107/521324885.py:8: UserWarning: Boolean Series key will be reindexed to match DataFrame index.\n",
      "  temp_stats = all_team_stats[all_team_stats['team'] == team['Team']][all_team_stats['date'].astype(str).str.startswith(str(team['Year']))][all_team_stats['gametype'] == 'regular'][team_features]\n",
      "/var/folders/fh/fzyqqz2s1vzcm3v06kz1h29w0000gp/T/ipykernel_93107/521324885.py:8: UserWarning: Boolean Series key will be reindexed to match DataFrame index.\n",
      "  temp_stats = all_team_stats[all_team_stats['team'] == team['Team']][all_team_stats['date'].astype(str).str.startswith(str(team['Year']))][all_team_stats['gametype'] == 'regular'][team_features]\n"
     ]
    },
    {
     "name": "stdout",
     "output_type": "stream",
     "text": [
      "Index: 135, Year: 2011 Team: SLN, Level of Success: C\n"
     ]
    },
    {
     "name": "stderr",
     "output_type": "stream",
     "text": [
      "/var/folders/fh/fzyqqz2s1vzcm3v06kz1h29w0000gp/T/ipykernel_93107/521324885.py:8: UserWarning: Boolean Series key will be reindexed to match DataFrame index.\n",
      "  temp_stats = all_team_stats[all_team_stats['team'] == team['Team']][all_team_stats['date'].astype(str).str.startswith(str(team['Year']))][all_team_stats['gametype'] == 'regular'][team_features]\n",
      "/var/folders/fh/fzyqqz2s1vzcm3v06kz1h29w0000gp/T/ipykernel_93107/521324885.py:8: UserWarning: Boolean Series key will be reindexed to match DataFrame index.\n",
      "  temp_stats = all_team_stats[all_team_stats['team'] == team['Team']][all_team_stats['date'].astype(str).str.startswith(str(team['Year']))][all_team_stats['gametype'] == 'regular'][team_features]\n"
     ]
    },
    {
     "name": "stdout",
     "output_type": "stream",
     "text": [
      "Index: 136, Year: 2012 Team: NYA, Level of Success: LS\n"
     ]
    },
    {
     "name": "stderr",
     "output_type": "stream",
     "text": [
      "/var/folders/fh/fzyqqz2s1vzcm3v06kz1h29w0000gp/T/ipykernel_93107/521324885.py:8: UserWarning: Boolean Series key will be reindexed to match DataFrame index.\n",
      "  temp_stats = all_team_stats[all_team_stats['team'] == team['Team']][all_team_stats['date'].astype(str).str.startswith(str(team['Year']))][all_team_stats['gametype'] == 'regular'][team_features]\n",
      "/var/folders/fh/fzyqqz2s1vzcm3v06kz1h29w0000gp/T/ipykernel_93107/521324885.py:8: UserWarning: Boolean Series key will be reindexed to match DataFrame index.\n",
      "  temp_stats = all_team_stats[all_team_stats['team'] == team['Team']][all_team_stats['date'].astype(str).str.startswith(str(team['Year']))][all_team_stats['gametype'] == 'regular'][team_features]\n"
     ]
    },
    {
     "name": "stdout",
     "output_type": "stream",
     "text": [
      "Index: 137, Year: 2012 Team: OAK, Level of Success: DS\n"
     ]
    },
    {
     "name": "stderr",
     "output_type": "stream",
     "text": [
      "/var/folders/fh/fzyqqz2s1vzcm3v06kz1h29w0000gp/T/ipykernel_93107/521324885.py:8: UserWarning: Boolean Series key will be reindexed to match DataFrame index.\n",
      "  temp_stats = all_team_stats[all_team_stats['team'] == team['Team']][all_team_stats['date'].astype(str).str.startswith(str(team['Year']))][all_team_stats['gametype'] == 'regular'][team_features]\n",
      "/var/folders/fh/fzyqqz2s1vzcm3v06kz1h29w0000gp/T/ipykernel_93107/521324885.py:8: UserWarning: Boolean Series key will be reindexed to match DataFrame index.\n",
      "  temp_stats = all_team_stats[all_team_stats['team'] == team['Team']][all_team_stats['date'].astype(str).str.startswith(str(team['Year']))][all_team_stats['gametype'] == 'regular'][team_features]\n"
     ]
    },
    {
     "name": "stdout",
     "output_type": "stream",
     "text": [
      "Index: 138, Year: 2012 Team: DET, Level of Success: WS\n"
     ]
    },
    {
     "name": "stderr",
     "output_type": "stream",
     "text": [
      "/var/folders/fh/fzyqqz2s1vzcm3v06kz1h29w0000gp/T/ipykernel_93107/521324885.py:8: UserWarning: Boolean Series key will be reindexed to match DataFrame index.\n",
      "  temp_stats = all_team_stats[all_team_stats['team'] == team['Team']][all_team_stats['date'].astype(str).str.startswith(str(team['Year']))][all_team_stats['gametype'] == 'regular'][team_features]\n",
      "/var/folders/fh/fzyqqz2s1vzcm3v06kz1h29w0000gp/T/ipykernel_93107/521324885.py:8: UserWarning: Boolean Series key will be reindexed to match DataFrame index.\n",
      "  temp_stats = all_team_stats[all_team_stats['team'] == team['Team']][all_team_stats['date'].astype(str).str.startswith(str(team['Year']))][all_team_stats['gametype'] == 'regular'][team_features]\n"
     ]
    },
    {
     "name": "stdout",
     "output_type": "stream",
     "text": [
      "Index: 139, Year: 2012 Team: TEX, Level of Success: WC\n"
     ]
    },
    {
     "name": "stderr",
     "output_type": "stream",
     "text": [
      "/var/folders/fh/fzyqqz2s1vzcm3v06kz1h29w0000gp/T/ipykernel_93107/521324885.py:8: UserWarning: Boolean Series key will be reindexed to match DataFrame index.\n",
      "  temp_stats = all_team_stats[all_team_stats['team'] == team['Team']][all_team_stats['date'].astype(str).str.startswith(str(team['Year']))][all_team_stats['gametype'] == 'regular'][team_features]\n",
      "/var/folders/fh/fzyqqz2s1vzcm3v06kz1h29w0000gp/T/ipykernel_93107/521324885.py:8: UserWarning: Boolean Series key will be reindexed to match DataFrame index.\n",
      "  temp_stats = all_team_stats[all_team_stats['team'] == team['Team']][all_team_stats['date'].astype(str).str.startswith(str(team['Year']))][all_team_stats['gametype'] == 'regular'][team_features]\n"
     ]
    },
    {
     "name": "stdout",
     "output_type": "stream",
     "text": [
      "Index: 140, Year: 2012 Team: BAL, Level of Success: DS\n"
     ]
    },
    {
     "name": "stderr",
     "output_type": "stream",
     "text": [
      "/var/folders/fh/fzyqqz2s1vzcm3v06kz1h29w0000gp/T/ipykernel_93107/521324885.py:8: UserWarning: Boolean Series key will be reindexed to match DataFrame index.\n",
      "  temp_stats = all_team_stats[all_team_stats['team'] == team['Team']][all_team_stats['date'].astype(str).str.startswith(str(team['Year']))][all_team_stats['gametype'] == 'regular'][team_features]\n",
      "/var/folders/fh/fzyqqz2s1vzcm3v06kz1h29w0000gp/T/ipykernel_93107/521324885.py:8: UserWarning: Boolean Series key will be reindexed to match DataFrame index.\n",
      "  temp_stats = all_team_stats[all_team_stats['team'] == team['Team']][all_team_stats['date'].astype(str).str.startswith(str(team['Year']))][all_team_stats['gametype'] == 'regular'][team_features]\n"
     ]
    },
    {
     "name": "stdout",
     "output_type": "stream",
     "text": [
      "Index: 141, Year: 2012 Team: WAS, Level of Success: DS\n"
     ]
    },
    {
     "name": "stderr",
     "output_type": "stream",
     "text": [
      "/var/folders/fh/fzyqqz2s1vzcm3v06kz1h29w0000gp/T/ipykernel_93107/521324885.py:8: UserWarning: Boolean Series key will be reindexed to match DataFrame index.\n",
      "  temp_stats = all_team_stats[all_team_stats['team'] == team['Team']][all_team_stats['date'].astype(str).str.startswith(str(team['Year']))][all_team_stats['gametype'] == 'regular'][team_features]\n",
      "/var/folders/fh/fzyqqz2s1vzcm3v06kz1h29w0000gp/T/ipykernel_93107/521324885.py:8: UserWarning: Boolean Series key will be reindexed to match DataFrame index.\n",
      "  temp_stats = all_team_stats[all_team_stats['team'] == team['Team']][all_team_stats['date'].astype(str).str.startswith(str(team['Year']))][all_team_stats['gametype'] == 'regular'][team_features]\n"
     ]
    },
    {
     "name": "stdout",
     "output_type": "stream",
     "text": [
      "Index: 142, Year: 2012 Team: CIN, Level of Success: DS\n"
     ]
    },
    {
     "name": "stderr",
     "output_type": "stream",
     "text": [
      "/var/folders/fh/fzyqqz2s1vzcm3v06kz1h29w0000gp/T/ipykernel_93107/521324885.py:8: UserWarning: Boolean Series key will be reindexed to match DataFrame index.\n",
      "  temp_stats = all_team_stats[all_team_stats['team'] == team['Team']][all_team_stats['date'].astype(str).str.startswith(str(team['Year']))][all_team_stats['gametype'] == 'regular'][team_features]\n",
      "/var/folders/fh/fzyqqz2s1vzcm3v06kz1h29w0000gp/T/ipykernel_93107/521324885.py:8: UserWarning: Boolean Series key will be reindexed to match DataFrame index.\n",
      "  temp_stats = all_team_stats[all_team_stats['team'] == team['Team']][all_team_stats['date'].astype(str).str.startswith(str(team['Year']))][all_team_stats['gametype'] == 'regular'][team_features]\n"
     ]
    },
    {
     "name": "stdout",
     "output_type": "stream",
     "text": [
      "Index: 143, Year: 2012 Team: SFN, Level of Success: C\n"
     ]
    },
    {
     "name": "stderr",
     "output_type": "stream",
     "text": [
      "/var/folders/fh/fzyqqz2s1vzcm3v06kz1h29w0000gp/T/ipykernel_93107/521324885.py:8: UserWarning: Boolean Series key will be reindexed to match DataFrame index.\n",
      "  temp_stats = all_team_stats[all_team_stats['team'] == team['Team']][all_team_stats['date'].astype(str).str.startswith(str(team['Year']))][all_team_stats['gametype'] == 'regular'][team_features]\n",
      "/var/folders/fh/fzyqqz2s1vzcm3v06kz1h29w0000gp/T/ipykernel_93107/521324885.py:8: UserWarning: Boolean Series key will be reindexed to match DataFrame index.\n",
      "  temp_stats = all_team_stats[all_team_stats['team'] == team['Team']][all_team_stats['date'].astype(str).str.startswith(str(team['Year']))][all_team_stats['gametype'] == 'regular'][team_features]\n"
     ]
    },
    {
     "name": "stdout",
     "output_type": "stream",
     "text": [
      "Index: 144, Year: 2012 Team: ATL, Level of Success: WC\n"
     ]
    },
    {
     "name": "stderr",
     "output_type": "stream",
     "text": [
      "/var/folders/fh/fzyqqz2s1vzcm3v06kz1h29w0000gp/T/ipykernel_93107/521324885.py:8: UserWarning: Boolean Series key will be reindexed to match DataFrame index.\n",
      "  temp_stats = all_team_stats[all_team_stats['team'] == team['Team']][all_team_stats['date'].astype(str).str.startswith(str(team['Year']))][all_team_stats['gametype'] == 'regular'][team_features]\n",
      "/var/folders/fh/fzyqqz2s1vzcm3v06kz1h29w0000gp/T/ipykernel_93107/521324885.py:8: UserWarning: Boolean Series key will be reindexed to match DataFrame index.\n",
      "  temp_stats = all_team_stats[all_team_stats['team'] == team['Team']][all_team_stats['date'].astype(str).str.startswith(str(team['Year']))][all_team_stats['gametype'] == 'regular'][team_features]\n"
     ]
    },
    {
     "name": "stdout",
     "output_type": "stream",
     "text": [
      "Index: 145, Year: 2012 Team: SLN, Level of Success: LS\n"
     ]
    },
    {
     "name": "stderr",
     "output_type": "stream",
     "text": [
      "/var/folders/fh/fzyqqz2s1vzcm3v06kz1h29w0000gp/T/ipykernel_93107/521324885.py:8: UserWarning: Boolean Series key will be reindexed to match DataFrame index.\n",
      "  temp_stats = all_team_stats[all_team_stats['team'] == team['Team']][all_team_stats['date'].astype(str).str.startswith(str(team['Year']))][all_team_stats['gametype'] == 'regular'][team_features]\n",
      "/var/folders/fh/fzyqqz2s1vzcm3v06kz1h29w0000gp/T/ipykernel_93107/521324885.py:8: UserWarning: Boolean Series key will be reindexed to match DataFrame index.\n",
      "  temp_stats = all_team_stats[all_team_stats['team'] == team['Team']][all_team_stats['date'].astype(str).str.startswith(str(team['Year']))][all_team_stats['gametype'] == 'regular'][team_features]\n"
     ]
    },
    {
     "name": "stdout",
     "output_type": "stream",
     "text": [
      "Index: 146, Year: 2013 Team: BOS, Level of Success: C\n"
     ]
    },
    {
     "name": "stderr",
     "output_type": "stream",
     "text": [
      "/var/folders/fh/fzyqqz2s1vzcm3v06kz1h29w0000gp/T/ipykernel_93107/521324885.py:8: UserWarning: Boolean Series key will be reindexed to match DataFrame index.\n",
      "  temp_stats = all_team_stats[all_team_stats['team'] == team['Team']][all_team_stats['date'].astype(str).str.startswith(str(team['Year']))][all_team_stats['gametype'] == 'regular'][team_features]\n",
      "/var/folders/fh/fzyqqz2s1vzcm3v06kz1h29w0000gp/T/ipykernel_93107/521324885.py:8: UserWarning: Boolean Series key will be reindexed to match DataFrame index.\n",
      "  temp_stats = all_team_stats[all_team_stats['team'] == team['Team']][all_team_stats['date'].astype(str).str.startswith(str(team['Year']))][all_team_stats['gametype'] == 'regular'][team_features]\n"
     ]
    },
    {
     "name": "stdout",
     "output_type": "stream",
     "text": [
      "Index: 147, Year: 2013 Team: OAK, Level of Success: DS\n"
     ]
    },
    {
     "name": "stderr",
     "output_type": "stream",
     "text": [
      "/var/folders/fh/fzyqqz2s1vzcm3v06kz1h29w0000gp/T/ipykernel_93107/521324885.py:8: UserWarning: Boolean Series key will be reindexed to match DataFrame index.\n",
      "  temp_stats = all_team_stats[all_team_stats['team'] == team['Team']][all_team_stats['date'].astype(str).str.startswith(str(team['Year']))][all_team_stats['gametype'] == 'regular'][team_features]\n",
      "/var/folders/fh/fzyqqz2s1vzcm3v06kz1h29w0000gp/T/ipykernel_93107/521324885.py:8: UserWarning: Boolean Series key will be reindexed to match DataFrame index.\n",
      "  temp_stats = all_team_stats[all_team_stats['team'] == team['Team']][all_team_stats['date'].astype(str).str.startswith(str(team['Year']))][all_team_stats['gametype'] == 'regular'][team_features]\n"
     ]
    },
    {
     "name": "stdout",
     "output_type": "stream",
     "text": [
      "Index: 148, Year: 2013 Team: DET, Level of Success: LS\n"
     ]
    },
    {
     "name": "stderr",
     "output_type": "stream",
     "text": [
      "/var/folders/fh/fzyqqz2s1vzcm3v06kz1h29w0000gp/T/ipykernel_93107/521324885.py:8: UserWarning: Boolean Series key will be reindexed to match DataFrame index.\n",
      "  temp_stats = all_team_stats[all_team_stats['team'] == team['Team']][all_team_stats['date'].astype(str).str.startswith(str(team['Year']))][all_team_stats['gametype'] == 'regular'][team_features]\n",
      "/var/folders/fh/fzyqqz2s1vzcm3v06kz1h29w0000gp/T/ipykernel_93107/521324885.py:8: UserWarning: Boolean Series key will be reindexed to match DataFrame index.\n",
      "  temp_stats = all_team_stats[all_team_stats['team'] == team['Team']][all_team_stats['date'].astype(str).str.startswith(str(team['Year']))][all_team_stats['gametype'] == 'regular'][team_features]\n"
     ]
    },
    {
     "name": "stdout",
     "output_type": "stream",
     "text": [
      "Index: 149, Year: 2013 Team: CLE, Level of Success: WC\n"
     ]
    },
    {
     "name": "stderr",
     "output_type": "stream",
     "text": [
      "/var/folders/fh/fzyqqz2s1vzcm3v06kz1h29w0000gp/T/ipykernel_93107/521324885.py:8: UserWarning: Boolean Series key will be reindexed to match DataFrame index.\n",
      "  temp_stats = all_team_stats[all_team_stats['team'] == team['Team']][all_team_stats['date'].astype(str).str.startswith(str(team['Year']))][all_team_stats['gametype'] == 'regular'][team_features]\n",
      "/var/folders/fh/fzyqqz2s1vzcm3v06kz1h29w0000gp/T/ipykernel_93107/521324885.py:8: UserWarning: Boolean Series key will be reindexed to match DataFrame index.\n",
      "  temp_stats = all_team_stats[all_team_stats['team'] == team['Team']][all_team_stats['date'].astype(str).str.startswith(str(team['Year']))][all_team_stats['gametype'] == 'regular'][team_features]\n"
     ]
    },
    {
     "name": "stdout",
     "output_type": "stream",
     "text": [
      "Index: 150, Year: 2013 Team: TBA, Level of Success: DS\n"
     ]
    },
    {
     "name": "stderr",
     "output_type": "stream",
     "text": [
      "/var/folders/fh/fzyqqz2s1vzcm3v06kz1h29w0000gp/T/ipykernel_93107/521324885.py:8: UserWarning: Boolean Series key will be reindexed to match DataFrame index.\n",
      "  temp_stats = all_team_stats[all_team_stats['team'] == team['Team']][all_team_stats['date'].astype(str).str.startswith(str(team['Year']))][all_team_stats['gametype'] == 'regular'][team_features]\n",
      "/var/folders/fh/fzyqqz2s1vzcm3v06kz1h29w0000gp/T/ipykernel_93107/521324885.py:8: UserWarning: Boolean Series key will be reindexed to match DataFrame index.\n",
      "  temp_stats = all_team_stats[all_team_stats['team'] == team['Team']][all_team_stats['date'].astype(str).str.startswith(str(team['Year']))][all_team_stats['gametype'] == 'regular'][team_features]\n"
     ]
    },
    {
     "name": "stdout",
     "output_type": "stream",
     "text": [
      "Index: 151, Year: 2013 Team: SLN, Level of Success: WS\n"
     ]
    },
    {
     "name": "stderr",
     "output_type": "stream",
     "text": [
      "/var/folders/fh/fzyqqz2s1vzcm3v06kz1h29w0000gp/T/ipykernel_93107/521324885.py:8: UserWarning: Boolean Series key will be reindexed to match DataFrame index.\n",
      "  temp_stats = all_team_stats[all_team_stats['team'] == team['Team']][all_team_stats['date'].astype(str).str.startswith(str(team['Year']))][all_team_stats['gametype'] == 'regular'][team_features]\n",
      "/var/folders/fh/fzyqqz2s1vzcm3v06kz1h29w0000gp/T/ipykernel_93107/521324885.py:8: UserWarning: Boolean Series key will be reindexed to match DataFrame index.\n",
      "  temp_stats = all_team_stats[all_team_stats['team'] == team['Team']][all_team_stats['date'].astype(str).str.startswith(str(team['Year']))][all_team_stats['gametype'] == 'regular'][team_features]\n"
     ]
    },
    {
     "name": "stdout",
     "output_type": "stream",
     "text": [
      "Index: 152, Year: 2013 Team: ATL, Level of Success: DS\n"
     ]
    },
    {
     "name": "stderr",
     "output_type": "stream",
     "text": [
      "/var/folders/fh/fzyqqz2s1vzcm3v06kz1h29w0000gp/T/ipykernel_93107/521324885.py:8: UserWarning: Boolean Series key will be reindexed to match DataFrame index.\n",
      "  temp_stats = all_team_stats[all_team_stats['team'] == team['Team']][all_team_stats['date'].astype(str).str.startswith(str(team['Year']))][all_team_stats['gametype'] == 'regular'][team_features]\n",
      "/var/folders/fh/fzyqqz2s1vzcm3v06kz1h29w0000gp/T/ipykernel_93107/521324885.py:8: UserWarning: Boolean Series key will be reindexed to match DataFrame index.\n",
      "  temp_stats = all_team_stats[all_team_stats['team'] == team['Team']][all_team_stats['date'].astype(str).str.startswith(str(team['Year']))][all_team_stats['gametype'] == 'regular'][team_features]\n"
     ]
    },
    {
     "name": "stdout",
     "output_type": "stream",
     "text": [
      "Index: 153, Year: 2013 Team: LAN, Level of Success: LS\n"
     ]
    },
    {
     "name": "stderr",
     "output_type": "stream",
     "text": [
      "/var/folders/fh/fzyqqz2s1vzcm3v06kz1h29w0000gp/T/ipykernel_93107/521324885.py:8: UserWarning: Boolean Series key will be reindexed to match DataFrame index.\n",
      "  temp_stats = all_team_stats[all_team_stats['team'] == team['Team']][all_team_stats['date'].astype(str).str.startswith(str(team['Year']))][all_team_stats['gametype'] == 'regular'][team_features]\n",
      "/var/folders/fh/fzyqqz2s1vzcm3v06kz1h29w0000gp/T/ipykernel_93107/521324885.py:8: UserWarning: Boolean Series key will be reindexed to match DataFrame index.\n",
      "  temp_stats = all_team_stats[all_team_stats['team'] == team['Team']][all_team_stats['date'].astype(str).str.startswith(str(team['Year']))][all_team_stats['gametype'] == 'regular'][team_features]\n"
     ]
    },
    {
     "name": "stdout",
     "output_type": "stream",
     "text": [
      "Index: 154, Year: 2013 Team: PIT, Level of Success: DS\n"
     ]
    },
    {
     "name": "stderr",
     "output_type": "stream",
     "text": [
      "/var/folders/fh/fzyqqz2s1vzcm3v06kz1h29w0000gp/T/ipykernel_93107/521324885.py:8: UserWarning: Boolean Series key will be reindexed to match DataFrame index.\n",
      "  temp_stats = all_team_stats[all_team_stats['team'] == team['Team']][all_team_stats['date'].astype(str).str.startswith(str(team['Year']))][all_team_stats['gametype'] == 'regular'][team_features]\n",
      "/var/folders/fh/fzyqqz2s1vzcm3v06kz1h29w0000gp/T/ipykernel_93107/521324885.py:8: UserWarning: Boolean Series key will be reindexed to match DataFrame index.\n",
      "  temp_stats = all_team_stats[all_team_stats['team'] == team['Team']][all_team_stats['date'].astype(str).str.startswith(str(team['Year']))][all_team_stats['gametype'] == 'regular'][team_features]\n"
     ]
    },
    {
     "name": "stdout",
     "output_type": "stream",
     "text": [
      "Index: 155, Year: 2013 Team: CIN, Level of Success: WC\n"
     ]
    },
    {
     "name": "stderr",
     "output_type": "stream",
     "text": [
      "/var/folders/fh/fzyqqz2s1vzcm3v06kz1h29w0000gp/T/ipykernel_93107/521324885.py:8: UserWarning: Boolean Series key will be reindexed to match DataFrame index.\n",
      "  temp_stats = all_team_stats[all_team_stats['team'] == team['Team']][all_team_stats['date'].astype(str).str.startswith(str(team['Year']))][all_team_stats['gametype'] == 'regular'][team_features]\n",
      "/var/folders/fh/fzyqqz2s1vzcm3v06kz1h29w0000gp/T/ipykernel_93107/521324885.py:8: UserWarning: Boolean Series key will be reindexed to match DataFrame index.\n",
      "  temp_stats = all_team_stats[all_team_stats['team'] == team['Team']][all_team_stats['date'].astype(str).str.startswith(str(team['Year']))][all_team_stats['gametype'] == 'regular'][team_features]\n"
     ]
    },
    {
     "name": "stdout",
     "output_type": "stream",
     "text": [
      "Index: 156, Year: 2014 Team: ANA, Level of Success: DS\n"
     ]
    },
    {
     "name": "stderr",
     "output_type": "stream",
     "text": [
      "/var/folders/fh/fzyqqz2s1vzcm3v06kz1h29w0000gp/T/ipykernel_93107/521324885.py:8: UserWarning: Boolean Series key will be reindexed to match DataFrame index.\n",
      "  temp_stats = all_team_stats[all_team_stats['team'] == team['Team']][all_team_stats['date'].astype(str).str.startswith(str(team['Year']))][all_team_stats['gametype'] == 'regular'][team_features]\n",
      "/var/folders/fh/fzyqqz2s1vzcm3v06kz1h29w0000gp/T/ipykernel_93107/521324885.py:8: UserWarning: Boolean Series key will be reindexed to match DataFrame index.\n",
      "  temp_stats = all_team_stats[all_team_stats['team'] == team['Team']][all_team_stats['date'].astype(str).str.startswith(str(team['Year']))][all_team_stats['gametype'] == 'regular'][team_features]\n"
     ]
    },
    {
     "name": "stdout",
     "output_type": "stream",
     "text": [
      "Index: 157, Year: 2014 Team: BAL, Level of Success: LS\n"
     ]
    },
    {
     "name": "stderr",
     "output_type": "stream",
     "text": [
      "/var/folders/fh/fzyqqz2s1vzcm3v06kz1h29w0000gp/T/ipykernel_93107/521324885.py:8: UserWarning: Boolean Series key will be reindexed to match DataFrame index.\n",
      "  temp_stats = all_team_stats[all_team_stats['team'] == team['Team']][all_team_stats['date'].astype(str).str.startswith(str(team['Year']))][all_team_stats['gametype'] == 'regular'][team_features]\n",
      "/var/folders/fh/fzyqqz2s1vzcm3v06kz1h29w0000gp/T/ipykernel_93107/521324885.py:8: UserWarning: Boolean Series key will be reindexed to match DataFrame index.\n",
      "  temp_stats = all_team_stats[all_team_stats['team'] == team['Team']][all_team_stats['date'].astype(str).str.startswith(str(team['Year']))][all_team_stats['gametype'] == 'regular'][team_features]\n"
     ]
    },
    {
     "name": "stdout",
     "output_type": "stream",
     "text": [
      "Index: 158, Year: 2014 Team: DET, Level of Success: DS\n"
     ]
    },
    {
     "name": "stderr",
     "output_type": "stream",
     "text": [
      "/var/folders/fh/fzyqqz2s1vzcm3v06kz1h29w0000gp/T/ipykernel_93107/521324885.py:8: UserWarning: Boolean Series key will be reindexed to match DataFrame index.\n",
      "  temp_stats = all_team_stats[all_team_stats['team'] == team['Team']][all_team_stats['date'].astype(str).str.startswith(str(team['Year']))][all_team_stats['gametype'] == 'regular'][team_features]\n",
      "/var/folders/fh/fzyqqz2s1vzcm3v06kz1h29w0000gp/T/ipykernel_93107/521324885.py:8: UserWarning: Boolean Series key will be reindexed to match DataFrame index.\n",
      "  temp_stats = all_team_stats[all_team_stats['team'] == team['Team']][all_team_stats['date'].astype(str).str.startswith(str(team['Year']))][all_team_stats['gametype'] == 'regular'][team_features]\n"
     ]
    },
    {
     "name": "stdout",
     "output_type": "stream",
     "text": [
      "Index: 159, Year: 2014 Team: KCA, Level of Success: WS\n"
     ]
    },
    {
     "name": "stderr",
     "output_type": "stream",
     "text": [
      "/var/folders/fh/fzyqqz2s1vzcm3v06kz1h29w0000gp/T/ipykernel_93107/521324885.py:8: UserWarning: Boolean Series key will be reindexed to match DataFrame index.\n",
      "  temp_stats = all_team_stats[all_team_stats['team'] == team['Team']][all_team_stats['date'].astype(str).str.startswith(str(team['Year']))][all_team_stats['gametype'] == 'regular'][team_features]\n",
      "/var/folders/fh/fzyqqz2s1vzcm3v06kz1h29w0000gp/T/ipykernel_93107/521324885.py:8: UserWarning: Boolean Series key will be reindexed to match DataFrame index.\n",
      "  temp_stats = all_team_stats[all_team_stats['team'] == team['Team']][all_team_stats['date'].astype(str).str.startswith(str(team['Year']))][all_team_stats['gametype'] == 'regular'][team_features]\n"
     ]
    },
    {
     "name": "stdout",
     "output_type": "stream",
     "text": [
      "Index: 160, Year: 2014 Team: OAK, Level of Success: WC\n"
     ]
    },
    {
     "name": "stderr",
     "output_type": "stream",
     "text": [
      "/var/folders/fh/fzyqqz2s1vzcm3v06kz1h29w0000gp/T/ipykernel_93107/521324885.py:8: UserWarning: Boolean Series key will be reindexed to match DataFrame index.\n",
      "  temp_stats = all_team_stats[all_team_stats['team'] == team['Team']][all_team_stats['date'].astype(str).str.startswith(str(team['Year']))][all_team_stats['gametype'] == 'regular'][team_features]\n",
      "/var/folders/fh/fzyqqz2s1vzcm3v06kz1h29w0000gp/T/ipykernel_93107/521324885.py:8: UserWarning: Boolean Series key will be reindexed to match DataFrame index.\n",
      "  temp_stats = all_team_stats[all_team_stats['team'] == team['Team']][all_team_stats['date'].astype(str).str.startswith(str(team['Year']))][all_team_stats['gametype'] == 'regular'][team_features]\n"
     ]
    },
    {
     "name": "stdout",
     "output_type": "stream",
     "text": [
      "Index: 161, Year: 2014 Team: WAS, Level of Success: DS\n"
     ]
    },
    {
     "name": "stderr",
     "output_type": "stream",
     "text": [
      "/var/folders/fh/fzyqqz2s1vzcm3v06kz1h29w0000gp/T/ipykernel_93107/521324885.py:8: UserWarning: Boolean Series key will be reindexed to match DataFrame index.\n",
      "  temp_stats = all_team_stats[all_team_stats['team'] == team['Team']][all_team_stats['date'].astype(str).str.startswith(str(team['Year']))][all_team_stats['gametype'] == 'regular'][team_features]\n",
      "/var/folders/fh/fzyqqz2s1vzcm3v06kz1h29w0000gp/T/ipykernel_93107/521324885.py:8: UserWarning: Boolean Series key will be reindexed to match DataFrame index.\n",
      "  temp_stats = all_team_stats[all_team_stats['team'] == team['Team']][all_team_stats['date'].astype(str).str.startswith(str(team['Year']))][all_team_stats['gametype'] == 'regular'][team_features]\n"
     ]
    },
    {
     "name": "stdout",
     "output_type": "stream",
     "text": [
      "Index: 162, Year: 2014 Team: LAN, Level of Success: DS\n"
     ]
    },
    {
     "name": "stderr",
     "output_type": "stream",
     "text": [
      "/var/folders/fh/fzyqqz2s1vzcm3v06kz1h29w0000gp/T/ipykernel_93107/521324885.py:8: UserWarning: Boolean Series key will be reindexed to match DataFrame index.\n",
      "  temp_stats = all_team_stats[all_team_stats['team'] == team['Team']][all_team_stats['date'].astype(str).str.startswith(str(team['Year']))][all_team_stats['gametype'] == 'regular'][team_features]\n",
      "/var/folders/fh/fzyqqz2s1vzcm3v06kz1h29w0000gp/T/ipykernel_93107/521324885.py:8: UserWarning: Boolean Series key will be reindexed to match DataFrame index.\n",
      "  temp_stats = all_team_stats[all_team_stats['team'] == team['Team']][all_team_stats['date'].astype(str).str.startswith(str(team['Year']))][all_team_stats['gametype'] == 'regular'][team_features]\n"
     ]
    },
    {
     "name": "stdout",
     "output_type": "stream",
     "text": [
      "Index: 163, Year: 2014 Team: SLN, Level of Success: LS\n"
     ]
    },
    {
     "name": "stderr",
     "output_type": "stream",
     "text": [
      "/var/folders/fh/fzyqqz2s1vzcm3v06kz1h29w0000gp/T/ipykernel_93107/521324885.py:8: UserWarning: Boolean Series key will be reindexed to match DataFrame index.\n",
      "  temp_stats = all_team_stats[all_team_stats['team'] == team['Team']][all_team_stats['date'].astype(str).str.startswith(str(team['Year']))][all_team_stats['gametype'] == 'regular'][team_features]\n",
      "/var/folders/fh/fzyqqz2s1vzcm3v06kz1h29w0000gp/T/ipykernel_93107/521324885.py:8: UserWarning: Boolean Series key will be reindexed to match DataFrame index.\n",
      "  temp_stats = all_team_stats[all_team_stats['team'] == team['Team']][all_team_stats['date'].astype(str).str.startswith(str(team['Year']))][all_team_stats['gametype'] == 'regular'][team_features]\n"
     ]
    },
    {
     "name": "stdout",
     "output_type": "stream",
     "text": [
      "Index: 164, Year: 2014 Team: PIT, Level of Success: WC\n"
     ]
    },
    {
     "name": "stderr",
     "output_type": "stream",
     "text": [
      "/var/folders/fh/fzyqqz2s1vzcm3v06kz1h29w0000gp/T/ipykernel_93107/521324885.py:8: UserWarning: Boolean Series key will be reindexed to match DataFrame index.\n",
      "  temp_stats = all_team_stats[all_team_stats['team'] == team['Team']][all_team_stats['date'].astype(str).str.startswith(str(team['Year']))][all_team_stats['gametype'] == 'regular'][team_features]\n",
      "/var/folders/fh/fzyqqz2s1vzcm3v06kz1h29w0000gp/T/ipykernel_93107/521324885.py:8: UserWarning: Boolean Series key will be reindexed to match DataFrame index.\n",
      "  temp_stats = all_team_stats[all_team_stats['team'] == team['Team']][all_team_stats['date'].astype(str).str.startswith(str(team['Year']))][all_team_stats['gametype'] == 'regular'][team_features]\n"
     ]
    },
    {
     "name": "stdout",
     "output_type": "stream",
     "text": [
      "Index: 165, Year: 2014 Team: SFN, Level of Success: C\n"
     ]
    },
    {
     "name": "stderr",
     "output_type": "stream",
     "text": [
      "/var/folders/fh/fzyqqz2s1vzcm3v06kz1h29w0000gp/T/ipykernel_93107/521324885.py:8: UserWarning: Boolean Series key will be reindexed to match DataFrame index.\n",
      "  temp_stats = all_team_stats[all_team_stats['team'] == team['Team']][all_team_stats['date'].astype(str).str.startswith(str(team['Year']))][all_team_stats['gametype'] == 'regular'][team_features]\n",
      "/var/folders/fh/fzyqqz2s1vzcm3v06kz1h29w0000gp/T/ipykernel_93107/521324885.py:8: UserWarning: Boolean Series key will be reindexed to match DataFrame index.\n",
      "  temp_stats = all_team_stats[all_team_stats['team'] == team['Team']][all_team_stats['date'].astype(str).str.startswith(str(team['Year']))][all_team_stats['gametype'] == 'regular'][team_features]\n"
     ]
    },
    {
     "name": "stdout",
     "output_type": "stream",
     "text": [
      "Index: 166, Year: 2015 Team: KCA, Level of Success: C\n"
     ]
    },
    {
     "name": "stderr",
     "output_type": "stream",
     "text": [
      "/var/folders/fh/fzyqqz2s1vzcm3v06kz1h29w0000gp/T/ipykernel_93107/521324885.py:8: UserWarning: Boolean Series key will be reindexed to match DataFrame index.\n",
      "  temp_stats = all_team_stats[all_team_stats['team'] == team['Team']][all_team_stats['date'].astype(str).str.startswith(str(team['Year']))][all_team_stats['gametype'] == 'regular'][team_features]\n",
      "/var/folders/fh/fzyqqz2s1vzcm3v06kz1h29w0000gp/T/ipykernel_93107/521324885.py:8: UserWarning: Boolean Series key will be reindexed to match DataFrame index.\n",
      "  temp_stats = all_team_stats[all_team_stats['team'] == team['Team']][all_team_stats['date'].astype(str).str.startswith(str(team['Year']))][all_team_stats['gametype'] == 'regular'][team_features]\n"
     ]
    },
    {
     "name": "stdout",
     "output_type": "stream",
     "text": [
      "Index: 167, Year: 2015 Team: TOR, Level of Success: LS\n"
     ]
    },
    {
     "name": "stderr",
     "output_type": "stream",
     "text": [
      "/var/folders/fh/fzyqqz2s1vzcm3v06kz1h29w0000gp/T/ipykernel_93107/521324885.py:8: UserWarning: Boolean Series key will be reindexed to match DataFrame index.\n",
      "  temp_stats = all_team_stats[all_team_stats['team'] == team['Team']][all_team_stats['date'].astype(str).str.startswith(str(team['Year']))][all_team_stats['gametype'] == 'regular'][team_features]\n",
      "/var/folders/fh/fzyqqz2s1vzcm3v06kz1h29w0000gp/T/ipykernel_93107/521324885.py:8: UserWarning: Boolean Series key will be reindexed to match DataFrame index.\n",
      "  temp_stats = all_team_stats[all_team_stats['team'] == team['Team']][all_team_stats['date'].astype(str).str.startswith(str(team['Year']))][all_team_stats['gametype'] == 'regular'][team_features]\n"
     ]
    },
    {
     "name": "stdout",
     "output_type": "stream",
     "text": [
      "Index: 168, Year: 2015 Team: TEX, Level of Success: DS\n"
     ]
    },
    {
     "name": "stderr",
     "output_type": "stream",
     "text": [
      "/var/folders/fh/fzyqqz2s1vzcm3v06kz1h29w0000gp/T/ipykernel_93107/521324885.py:8: UserWarning: Boolean Series key will be reindexed to match DataFrame index.\n",
      "  temp_stats = all_team_stats[all_team_stats['team'] == team['Team']][all_team_stats['date'].astype(str).str.startswith(str(team['Year']))][all_team_stats['gametype'] == 'regular'][team_features]\n",
      "/var/folders/fh/fzyqqz2s1vzcm3v06kz1h29w0000gp/T/ipykernel_93107/521324885.py:8: UserWarning: Boolean Series key will be reindexed to match DataFrame index.\n",
      "  temp_stats = all_team_stats[all_team_stats['team'] == team['Team']][all_team_stats['date'].astype(str).str.startswith(str(team['Year']))][all_team_stats['gametype'] == 'regular'][team_features]\n"
     ]
    },
    {
     "name": "stdout",
     "output_type": "stream",
     "text": [
      "Index: 169, Year: 2015 Team: NYA, Level of Success: WC\n"
     ]
    },
    {
     "name": "stderr",
     "output_type": "stream",
     "text": [
      "/var/folders/fh/fzyqqz2s1vzcm3v06kz1h29w0000gp/T/ipykernel_93107/521324885.py:8: UserWarning: Boolean Series key will be reindexed to match DataFrame index.\n",
      "  temp_stats = all_team_stats[all_team_stats['team'] == team['Team']][all_team_stats['date'].astype(str).str.startswith(str(team['Year']))][all_team_stats['gametype'] == 'regular'][team_features]\n",
      "/var/folders/fh/fzyqqz2s1vzcm3v06kz1h29w0000gp/T/ipykernel_93107/521324885.py:8: UserWarning: Boolean Series key will be reindexed to match DataFrame index.\n",
      "  temp_stats = all_team_stats[all_team_stats['team'] == team['Team']][all_team_stats['date'].astype(str).str.startswith(str(team['Year']))][all_team_stats['gametype'] == 'regular'][team_features]\n"
     ]
    },
    {
     "name": "stdout",
     "output_type": "stream",
     "text": [
      "Index: 170, Year: 2015 Team: HOU, Level of Success: DS\n"
     ]
    },
    {
     "name": "stderr",
     "output_type": "stream",
     "text": [
      "/var/folders/fh/fzyqqz2s1vzcm3v06kz1h29w0000gp/T/ipykernel_93107/521324885.py:8: UserWarning: Boolean Series key will be reindexed to match DataFrame index.\n",
      "  temp_stats = all_team_stats[all_team_stats['team'] == team['Team']][all_team_stats['date'].astype(str).str.startswith(str(team['Year']))][all_team_stats['gametype'] == 'regular'][team_features]\n",
      "/var/folders/fh/fzyqqz2s1vzcm3v06kz1h29w0000gp/T/ipykernel_93107/521324885.py:8: UserWarning: Boolean Series key will be reindexed to match DataFrame index.\n",
      "  temp_stats = all_team_stats[all_team_stats['team'] == team['Team']][all_team_stats['date'].astype(str).str.startswith(str(team['Year']))][all_team_stats['gametype'] == 'regular'][team_features]\n"
     ]
    },
    {
     "name": "stdout",
     "output_type": "stream",
     "text": [
      "Index: 171, Year: 2015 Team: SLN, Level of Success: DS\n"
     ]
    },
    {
     "name": "stderr",
     "output_type": "stream",
     "text": [
      "/var/folders/fh/fzyqqz2s1vzcm3v06kz1h29w0000gp/T/ipykernel_93107/521324885.py:8: UserWarning: Boolean Series key will be reindexed to match DataFrame index.\n",
      "  temp_stats = all_team_stats[all_team_stats['team'] == team['Team']][all_team_stats['date'].astype(str).str.startswith(str(team['Year']))][all_team_stats['gametype'] == 'regular'][team_features]\n",
      "/var/folders/fh/fzyqqz2s1vzcm3v06kz1h29w0000gp/T/ipykernel_93107/521324885.py:8: UserWarning: Boolean Series key will be reindexed to match DataFrame index.\n",
      "  temp_stats = all_team_stats[all_team_stats['team'] == team['Team']][all_team_stats['date'].astype(str).str.startswith(str(team['Year']))][all_team_stats['gametype'] == 'regular'][team_features]\n"
     ]
    },
    {
     "name": "stdout",
     "output_type": "stream",
     "text": [
      "Index: 172, Year: 2015 Team: LAN, Level of Success: DS\n"
     ]
    },
    {
     "name": "stderr",
     "output_type": "stream",
     "text": [
      "/var/folders/fh/fzyqqz2s1vzcm3v06kz1h29w0000gp/T/ipykernel_93107/521324885.py:8: UserWarning: Boolean Series key will be reindexed to match DataFrame index.\n",
      "  temp_stats = all_team_stats[all_team_stats['team'] == team['Team']][all_team_stats['date'].astype(str).str.startswith(str(team['Year']))][all_team_stats['gametype'] == 'regular'][team_features]\n",
      "/var/folders/fh/fzyqqz2s1vzcm3v06kz1h29w0000gp/T/ipykernel_93107/521324885.py:8: UserWarning: Boolean Series key will be reindexed to match DataFrame index.\n",
      "  temp_stats = all_team_stats[all_team_stats['team'] == team['Team']][all_team_stats['date'].astype(str).str.startswith(str(team['Year']))][all_team_stats['gametype'] == 'regular'][team_features]\n"
     ]
    },
    {
     "name": "stdout",
     "output_type": "stream",
     "text": [
      "Index: 173, Year: 2015 Team: NYN, Level of Success: WS\n"
     ]
    },
    {
     "name": "stderr",
     "output_type": "stream",
     "text": [
      "/var/folders/fh/fzyqqz2s1vzcm3v06kz1h29w0000gp/T/ipykernel_93107/521324885.py:8: UserWarning: Boolean Series key will be reindexed to match DataFrame index.\n",
      "  temp_stats = all_team_stats[all_team_stats['team'] == team['Team']][all_team_stats['date'].astype(str).str.startswith(str(team['Year']))][all_team_stats['gametype'] == 'regular'][team_features]\n",
      "/var/folders/fh/fzyqqz2s1vzcm3v06kz1h29w0000gp/T/ipykernel_93107/521324885.py:8: UserWarning: Boolean Series key will be reindexed to match DataFrame index.\n",
      "  temp_stats = all_team_stats[all_team_stats['team'] == team['Team']][all_team_stats['date'].astype(str).str.startswith(str(team['Year']))][all_team_stats['gametype'] == 'regular'][team_features]\n"
     ]
    },
    {
     "name": "stdout",
     "output_type": "stream",
     "text": [
      "Index: 174, Year: 2015 Team: PIT, Level of Success: WC\n"
     ]
    },
    {
     "name": "stderr",
     "output_type": "stream",
     "text": [
      "/var/folders/fh/fzyqqz2s1vzcm3v06kz1h29w0000gp/T/ipykernel_93107/521324885.py:8: UserWarning: Boolean Series key will be reindexed to match DataFrame index.\n",
      "  temp_stats = all_team_stats[all_team_stats['team'] == team['Team']][all_team_stats['date'].astype(str).str.startswith(str(team['Year']))][all_team_stats['gametype'] == 'regular'][team_features]\n",
      "/var/folders/fh/fzyqqz2s1vzcm3v06kz1h29w0000gp/T/ipykernel_93107/521324885.py:8: UserWarning: Boolean Series key will be reindexed to match DataFrame index.\n",
      "  temp_stats = all_team_stats[all_team_stats['team'] == team['Team']][all_team_stats['date'].astype(str).str.startswith(str(team['Year']))][all_team_stats['gametype'] == 'regular'][team_features]\n"
     ]
    },
    {
     "name": "stdout",
     "output_type": "stream",
     "text": [
      "Index: 175, Year: 2015 Team: CHN, Level of Success: LS\n"
     ]
    },
    {
     "name": "stderr",
     "output_type": "stream",
     "text": [
      "/var/folders/fh/fzyqqz2s1vzcm3v06kz1h29w0000gp/T/ipykernel_93107/521324885.py:8: UserWarning: Boolean Series key will be reindexed to match DataFrame index.\n",
      "  temp_stats = all_team_stats[all_team_stats['team'] == team['Team']][all_team_stats['date'].astype(str).str.startswith(str(team['Year']))][all_team_stats['gametype'] == 'regular'][team_features]\n",
      "/var/folders/fh/fzyqqz2s1vzcm3v06kz1h29w0000gp/T/ipykernel_93107/521324885.py:8: UserWarning: Boolean Series key will be reindexed to match DataFrame index.\n",
      "  temp_stats = all_team_stats[all_team_stats['team'] == team['Team']][all_team_stats['date'].astype(str).str.startswith(str(team['Year']))][all_team_stats['gametype'] == 'regular'][team_features]\n"
     ]
    },
    {
     "name": "stdout",
     "output_type": "stream",
     "text": [
      "Index: 176, Year: 2016 Team: TEX, Level of Success: DS\n"
     ]
    },
    {
     "name": "stderr",
     "output_type": "stream",
     "text": [
      "/var/folders/fh/fzyqqz2s1vzcm3v06kz1h29w0000gp/T/ipykernel_93107/521324885.py:8: UserWarning: Boolean Series key will be reindexed to match DataFrame index.\n",
      "  temp_stats = all_team_stats[all_team_stats['team'] == team['Team']][all_team_stats['date'].astype(str).str.startswith(str(team['Year']))][all_team_stats['gametype'] == 'regular'][team_features]\n",
      "/var/folders/fh/fzyqqz2s1vzcm3v06kz1h29w0000gp/T/ipykernel_93107/521324885.py:8: UserWarning: Boolean Series key will be reindexed to match DataFrame index.\n",
      "  temp_stats = all_team_stats[all_team_stats['team'] == team['Team']][all_team_stats['date'].astype(str).str.startswith(str(team['Year']))][all_team_stats['gametype'] == 'regular'][team_features]\n"
     ]
    },
    {
     "name": "stdout",
     "output_type": "stream",
     "text": [
      "Index: 177, Year: 2016 Team: CLE, Level of Success: WS\n"
     ]
    },
    {
     "name": "stderr",
     "output_type": "stream",
     "text": [
      "/var/folders/fh/fzyqqz2s1vzcm3v06kz1h29w0000gp/T/ipykernel_93107/521324885.py:8: UserWarning: Boolean Series key will be reindexed to match DataFrame index.\n",
      "  temp_stats = all_team_stats[all_team_stats['team'] == team['Team']][all_team_stats['date'].astype(str).str.startswith(str(team['Year']))][all_team_stats['gametype'] == 'regular'][team_features]\n",
      "/var/folders/fh/fzyqqz2s1vzcm3v06kz1h29w0000gp/T/ipykernel_93107/521324885.py:8: UserWarning: Boolean Series key will be reindexed to match DataFrame index.\n",
      "  temp_stats = all_team_stats[all_team_stats['team'] == team['Team']][all_team_stats['date'].astype(str).str.startswith(str(team['Year']))][all_team_stats['gametype'] == 'regular'][team_features]\n"
     ]
    },
    {
     "name": "stdout",
     "output_type": "stream",
     "text": [
      "Index: 178, Year: 2016 Team: BOS, Level of Success: DS\n"
     ]
    },
    {
     "name": "stderr",
     "output_type": "stream",
     "text": [
      "/var/folders/fh/fzyqqz2s1vzcm3v06kz1h29w0000gp/T/ipykernel_93107/521324885.py:8: UserWarning: Boolean Series key will be reindexed to match DataFrame index.\n",
      "  temp_stats = all_team_stats[all_team_stats['team'] == team['Team']][all_team_stats['date'].astype(str).str.startswith(str(team['Year']))][all_team_stats['gametype'] == 'regular'][team_features]\n",
      "/var/folders/fh/fzyqqz2s1vzcm3v06kz1h29w0000gp/T/ipykernel_93107/521324885.py:8: UserWarning: Boolean Series key will be reindexed to match DataFrame index.\n",
      "  temp_stats = all_team_stats[all_team_stats['team'] == team['Team']][all_team_stats['date'].astype(str).str.startswith(str(team['Year']))][all_team_stats['gametype'] == 'regular'][team_features]\n"
     ]
    },
    {
     "name": "stdout",
     "output_type": "stream",
     "text": [
      "Index: 179, Year: 2016 Team: TOR, Level of Success: LS\n"
     ]
    },
    {
     "name": "stderr",
     "output_type": "stream",
     "text": [
      "/var/folders/fh/fzyqqz2s1vzcm3v06kz1h29w0000gp/T/ipykernel_93107/521324885.py:8: UserWarning: Boolean Series key will be reindexed to match DataFrame index.\n",
      "  temp_stats = all_team_stats[all_team_stats['team'] == team['Team']][all_team_stats['date'].astype(str).str.startswith(str(team['Year']))][all_team_stats['gametype'] == 'regular'][team_features]\n",
      "/var/folders/fh/fzyqqz2s1vzcm3v06kz1h29w0000gp/T/ipykernel_93107/521324885.py:8: UserWarning: Boolean Series key will be reindexed to match DataFrame index.\n",
      "  temp_stats = all_team_stats[all_team_stats['team'] == team['Team']][all_team_stats['date'].astype(str).str.startswith(str(team['Year']))][all_team_stats['gametype'] == 'regular'][team_features]\n"
     ]
    },
    {
     "name": "stdout",
     "output_type": "stream",
     "text": [
      "Index: 180, Year: 2016 Team: BAL, Level of Success: WC\n"
     ]
    },
    {
     "name": "stderr",
     "output_type": "stream",
     "text": [
      "/var/folders/fh/fzyqqz2s1vzcm3v06kz1h29w0000gp/T/ipykernel_93107/521324885.py:8: UserWarning: Boolean Series key will be reindexed to match DataFrame index.\n",
      "  temp_stats = all_team_stats[all_team_stats['team'] == team['Team']][all_team_stats['date'].astype(str).str.startswith(str(team['Year']))][all_team_stats['gametype'] == 'regular'][team_features]\n",
      "/var/folders/fh/fzyqqz2s1vzcm3v06kz1h29w0000gp/T/ipykernel_93107/521324885.py:8: UserWarning: Boolean Series key will be reindexed to match DataFrame index.\n",
      "  temp_stats = all_team_stats[all_team_stats['team'] == team['Team']][all_team_stats['date'].astype(str).str.startswith(str(team['Year']))][all_team_stats['gametype'] == 'regular'][team_features]\n"
     ]
    },
    {
     "name": "stdout",
     "output_type": "stream",
     "text": [
      "Index: 181, Year: 2016 Team: CHN, Level of Success: C\n"
     ]
    },
    {
     "name": "stderr",
     "output_type": "stream",
     "text": [
      "/var/folders/fh/fzyqqz2s1vzcm3v06kz1h29w0000gp/T/ipykernel_93107/521324885.py:8: UserWarning: Boolean Series key will be reindexed to match DataFrame index.\n",
      "  temp_stats = all_team_stats[all_team_stats['team'] == team['Team']][all_team_stats['date'].astype(str).str.startswith(str(team['Year']))][all_team_stats['gametype'] == 'regular'][team_features]\n",
      "/var/folders/fh/fzyqqz2s1vzcm3v06kz1h29w0000gp/T/ipykernel_93107/521324885.py:8: UserWarning: Boolean Series key will be reindexed to match DataFrame index.\n",
      "  temp_stats = all_team_stats[all_team_stats['team'] == team['Team']][all_team_stats['date'].astype(str).str.startswith(str(team['Year']))][all_team_stats['gametype'] == 'regular'][team_features]\n"
     ]
    },
    {
     "name": "stdout",
     "output_type": "stream",
     "text": [
      "Index: 182, Year: 2016 Team: WAS, Level of Success: DS\n"
     ]
    },
    {
     "name": "stderr",
     "output_type": "stream",
     "text": [
      "/var/folders/fh/fzyqqz2s1vzcm3v06kz1h29w0000gp/T/ipykernel_93107/521324885.py:8: UserWarning: Boolean Series key will be reindexed to match DataFrame index.\n",
      "  temp_stats = all_team_stats[all_team_stats['team'] == team['Team']][all_team_stats['date'].astype(str).str.startswith(str(team['Year']))][all_team_stats['gametype'] == 'regular'][team_features]\n",
      "/var/folders/fh/fzyqqz2s1vzcm3v06kz1h29w0000gp/T/ipykernel_93107/521324885.py:8: UserWarning: Boolean Series key will be reindexed to match DataFrame index.\n",
      "  temp_stats = all_team_stats[all_team_stats['team'] == team['Team']][all_team_stats['date'].astype(str).str.startswith(str(team['Year']))][all_team_stats['gametype'] == 'regular'][team_features]\n"
     ]
    },
    {
     "name": "stdout",
     "output_type": "stream",
     "text": [
      "Index: 183, Year: 2016 Team: LAN, Level of Success: LS\n"
     ]
    },
    {
     "name": "stderr",
     "output_type": "stream",
     "text": [
      "/var/folders/fh/fzyqqz2s1vzcm3v06kz1h29w0000gp/T/ipykernel_93107/521324885.py:8: UserWarning: Boolean Series key will be reindexed to match DataFrame index.\n",
      "  temp_stats = all_team_stats[all_team_stats['team'] == team['Team']][all_team_stats['date'].astype(str).str.startswith(str(team['Year']))][all_team_stats['gametype'] == 'regular'][team_features]\n",
      "/var/folders/fh/fzyqqz2s1vzcm3v06kz1h29w0000gp/T/ipykernel_93107/521324885.py:8: UserWarning: Boolean Series key will be reindexed to match DataFrame index.\n",
      "  temp_stats = all_team_stats[all_team_stats['team'] == team['Team']][all_team_stats['date'].astype(str).str.startswith(str(team['Year']))][all_team_stats['gametype'] == 'regular'][team_features]\n"
     ]
    },
    {
     "name": "stdout",
     "output_type": "stream",
     "text": [
      "Index: 184, Year: 2016 Team: NYN, Level of Success: WC\n"
     ]
    },
    {
     "name": "stderr",
     "output_type": "stream",
     "text": [
      "/var/folders/fh/fzyqqz2s1vzcm3v06kz1h29w0000gp/T/ipykernel_93107/521324885.py:8: UserWarning: Boolean Series key will be reindexed to match DataFrame index.\n",
      "  temp_stats = all_team_stats[all_team_stats['team'] == team['Team']][all_team_stats['date'].astype(str).str.startswith(str(team['Year']))][all_team_stats['gametype'] == 'regular'][team_features]\n",
      "/var/folders/fh/fzyqqz2s1vzcm3v06kz1h29w0000gp/T/ipykernel_93107/521324885.py:8: UserWarning: Boolean Series key will be reindexed to match DataFrame index.\n",
      "  temp_stats = all_team_stats[all_team_stats['team'] == team['Team']][all_team_stats['date'].astype(str).str.startswith(str(team['Year']))][all_team_stats['gametype'] == 'regular'][team_features]\n"
     ]
    },
    {
     "name": "stdout",
     "output_type": "stream",
     "text": [
      "Index: 185, Year: 2016 Team: SFN, Level of Success: DS\n"
     ]
    },
    {
     "name": "stderr",
     "output_type": "stream",
     "text": [
      "/var/folders/fh/fzyqqz2s1vzcm3v06kz1h29w0000gp/T/ipykernel_93107/521324885.py:8: UserWarning: Boolean Series key will be reindexed to match DataFrame index.\n",
      "  temp_stats = all_team_stats[all_team_stats['team'] == team['Team']][all_team_stats['date'].astype(str).str.startswith(str(team['Year']))][all_team_stats['gametype'] == 'regular'][team_features]\n",
      "/var/folders/fh/fzyqqz2s1vzcm3v06kz1h29w0000gp/T/ipykernel_93107/521324885.py:8: UserWarning: Boolean Series key will be reindexed to match DataFrame index.\n",
      "  temp_stats = all_team_stats[all_team_stats['team'] == team['Team']][all_team_stats['date'].astype(str).str.startswith(str(team['Year']))][all_team_stats['gametype'] == 'regular'][team_features]\n"
     ]
    },
    {
     "name": "stdout",
     "output_type": "stream",
     "text": [
      "Index: 186, Year: 2017 Team: CLE, Level of Success: DS\n"
     ]
    },
    {
     "name": "stderr",
     "output_type": "stream",
     "text": [
      "/var/folders/fh/fzyqqz2s1vzcm3v06kz1h29w0000gp/T/ipykernel_93107/521324885.py:8: UserWarning: Boolean Series key will be reindexed to match DataFrame index.\n",
      "  temp_stats = all_team_stats[all_team_stats['team'] == team['Team']][all_team_stats['date'].astype(str).str.startswith(str(team['Year']))][all_team_stats['gametype'] == 'regular'][team_features]\n",
      "/var/folders/fh/fzyqqz2s1vzcm3v06kz1h29w0000gp/T/ipykernel_93107/521324885.py:8: UserWarning: Boolean Series key will be reindexed to match DataFrame index.\n",
      "  temp_stats = all_team_stats[all_team_stats['team'] == team['Team']][all_team_stats['date'].astype(str).str.startswith(str(team['Year']))][all_team_stats['gametype'] == 'regular'][team_features]\n"
     ]
    },
    {
     "name": "stdout",
     "output_type": "stream",
     "text": [
      "Index: 187, Year: 2017 Team: HOU, Level of Success: C\n"
     ]
    },
    {
     "name": "stderr",
     "output_type": "stream",
     "text": [
      "/var/folders/fh/fzyqqz2s1vzcm3v06kz1h29w0000gp/T/ipykernel_93107/521324885.py:8: UserWarning: Boolean Series key will be reindexed to match DataFrame index.\n",
      "  temp_stats = all_team_stats[all_team_stats['team'] == team['Team']][all_team_stats['date'].astype(str).str.startswith(str(team['Year']))][all_team_stats['gametype'] == 'regular'][team_features]\n",
      "/var/folders/fh/fzyqqz2s1vzcm3v06kz1h29w0000gp/T/ipykernel_93107/521324885.py:8: UserWarning: Boolean Series key will be reindexed to match DataFrame index.\n",
      "  temp_stats = all_team_stats[all_team_stats['team'] == team['Team']][all_team_stats['date'].astype(str).str.startswith(str(team['Year']))][all_team_stats['gametype'] == 'regular'][team_features]\n"
     ]
    },
    {
     "name": "stdout",
     "output_type": "stream",
     "text": [
      "Index: 188, Year: 2017 Team: BOS, Level of Success: DS\n"
     ]
    },
    {
     "name": "stderr",
     "output_type": "stream",
     "text": [
      "/var/folders/fh/fzyqqz2s1vzcm3v06kz1h29w0000gp/T/ipykernel_93107/521324885.py:8: UserWarning: Boolean Series key will be reindexed to match DataFrame index.\n",
      "  temp_stats = all_team_stats[all_team_stats['team'] == team['Team']][all_team_stats['date'].astype(str).str.startswith(str(team['Year']))][all_team_stats['gametype'] == 'regular'][team_features]\n",
      "/var/folders/fh/fzyqqz2s1vzcm3v06kz1h29w0000gp/T/ipykernel_93107/521324885.py:8: UserWarning: Boolean Series key will be reindexed to match DataFrame index.\n",
      "  temp_stats = all_team_stats[all_team_stats['team'] == team['Team']][all_team_stats['date'].astype(str).str.startswith(str(team['Year']))][all_team_stats['gametype'] == 'regular'][team_features]\n"
     ]
    },
    {
     "name": "stdout",
     "output_type": "stream",
     "text": [
      "Index: 189, Year: 2017 Team: NYA, Level of Success: LS\n"
     ]
    },
    {
     "name": "stderr",
     "output_type": "stream",
     "text": [
      "/var/folders/fh/fzyqqz2s1vzcm3v06kz1h29w0000gp/T/ipykernel_93107/521324885.py:8: UserWarning: Boolean Series key will be reindexed to match DataFrame index.\n",
      "  temp_stats = all_team_stats[all_team_stats['team'] == team['Team']][all_team_stats['date'].astype(str).str.startswith(str(team['Year']))][all_team_stats['gametype'] == 'regular'][team_features]\n",
      "/var/folders/fh/fzyqqz2s1vzcm3v06kz1h29w0000gp/T/ipykernel_93107/521324885.py:8: UserWarning: Boolean Series key will be reindexed to match DataFrame index.\n",
      "  temp_stats = all_team_stats[all_team_stats['team'] == team['Team']][all_team_stats['date'].astype(str).str.startswith(str(team['Year']))][all_team_stats['gametype'] == 'regular'][team_features]\n"
     ]
    },
    {
     "name": "stdout",
     "output_type": "stream",
     "text": [
      "Index: 190, Year: 2017 Team: MIN, Level of Success: WC\n"
     ]
    },
    {
     "name": "stderr",
     "output_type": "stream",
     "text": [
      "/var/folders/fh/fzyqqz2s1vzcm3v06kz1h29w0000gp/T/ipykernel_93107/521324885.py:8: UserWarning: Boolean Series key will be reindexed to match DataFrame index.\n",
      "  temp_stats = all_team_stats[all_team_stats['team'] == team['Team']][all_team_stats['date'].astype(str).str.startswith(str(team['Year']))][all_team_stats['gametype'] == 'regular'][team_features]\n",
      "/var/folders/fh/fzyqqz2s1vzcm3v06kz1h29w0000gp/T/ipykernel_93107/521324885.py:8: UserWarning: Boolean Series key will be reindexed to match DataFrame index.\n",
      "  temp_stats = all_team_stats[all_team_stats['team'] == team['Team']][all_team_stats['date'].astype(str).str.startswith(str(team['Year']))][all_team_stats['gametype'] == 'regular'][team_features]\n"
     ]
    },
    {
     "name": "stdout",
     "output_type": "stream",
     "text": [
      "Index: 191, Year: 2017 Team: LAN, Level of Success: WS\n"
     ]
    },
    {
     "name": "stderr",
     "output_type": "stream",
     "text": [
      "/var/folders/fh/fzyqqz2s1vzcm3v06kz1h29w0000gp/T/ipykernel_93107/521324885.py:8: UserWarning: Boolean Series key will be reindexed to match DataFrame index.\n",
      "  temp_stats = all_team_stats[all_team_stats['team'] == team['Team']][all_team_stats['date'].astype(str).str.startswith(str(team['Year']))][all_team_stats['gametype'] == 'regular'][team_features]\n",
      "/var/folders/fh/fzyqqz2s1vzcm3v06kz1h29w0000gp/T/ipykernel_93107/521324885.py:8: UserWarning: Boolean Series key will be reindexed to match DataFrame index.\n",
      "  temp_stats = all_team_stats[all_team_stats['team'] == team['Team']][all_team_stats['date'].astype(str).str.startswith(str(team['Year']))][all_team_stats['gametype'] == 'regular'][team_features]\n"
     ]
    },
    {
     "name": "stdout",
     "output_type": "stream",
     "text": [
      "Index: 192, Year: 2017 Team: WAS, Level of Success: DS\n"
     ]
    },
    {
     "name": "stderr",
     "output_type": "stream",
     "text": [
      "/var/folders/fh/fzyqqz2s1vzcm3v06kz1h29w0000gp/T/ipykernel_93107/521324885.py:8: UserWarning: Boolean Series key will be reindexed to match DataFrame index.\n",
      "  temp_stats = all_team_stats[all_team_stats['team'] == team['Team']][all_team_stats['date'].astype(str).str.startswith(str(team['Year']))][all_team_stats['gametype'] == 'regular'][team_features]\n",
      "/var/folders/fh/fzyqqz2s1vzcm3v06kz1h29w0000gp/T/ipykernel_93107/521324885.py:8: UserWarning: Boolean Series key will be reindexed to match DataFrame index.\n",
      "  temp_stats = all_team_stats[all_team_stats['team'] == team['Team']][all_team_stats['date'].astype(str).str.startswith(str(team['Year']))][all_team_stats['gametype'] == 'regular'][team_features]\n"
     ]
    },
    {
     "name": "stdout",
     "output_type": "stream",
     "text": [
      "Index: 193, Year: 2017 Team: CHN, Level of Success: LS\n"
     ]
    },
    {
     "name": "stderr",
     "output_type": "stream",
     "text": [
      "/var/folders/fh/fzyqqz2s1vzcm3v06kz1h29w0000gp/T/ipykernel_93107/521324885.py:8: UserWarning: Boolean Series key will be reindexed to match DataFrame index.\n",
      "  temp_stats = all_team_stats[all_team_stats['team'] == team['Team']][all_team_stats['date'].astype(str).str.startswith(str(team['Year']))][all_team_stats['gametype'] == 'regular'][team_features]\n",
      "/var/folders/fh/fzyqqz2s1vzcm3v06kz1h29w0000gp/T/ipykernel_93107/521324885.py:8: UserWarning: Boolean Series key will be reindexed to match DataFrame index.\n",
      "  temp_stats = all_team_stats[all_team_stats['team'] == team['Team']][all_team_stats['date'].astype(str).str.startswith(str(team['Year']))][all_team_stats['gametype'] == 'regular'][team_features]\n"
     ]
    },
    {
     "name": "stdout",
     "output_type": "stream",
     "text": [
      "Index: 194, Year: 2017 Team: ARI, Level of Success: DS\n"
     ]
    },
    {
     "name": "stderr",
     "output_type": "stream",
     "text": [
      "/var/folders/fh/fzyqqz2s1vzcm3v06kz1h29w0000gp/T/ipykernel_93107/521324885.py:8: UserWarning: Boolean Series key will be reindexed to match DataFrame index.\n",
      "  temp_stats = all_team_stats[all_team_stats['team'] == team['Team']][all_team_stats['date'].astype(str).str.startswith(str(team['Year']))][all_team_stats['gametype'] == 'regular'][team_features]\n",
      "/var/folders/fh/fzyqqz2s1vzcm3v06kz1h29w0000gp/T/ipykernel_93107/521324885.py:8: UserWarning: Boolean Series key will be reindexed to match DataFrame index.\n",
      "  temp_stats = all_team_stats[all_team_stats['team'] == team['Team']][all_team_stats['date'].astype(str).str.startswith(str(team['Year']))][all_team_stats['gametype'] == 'regular'][team_features]\n"
     ]
    },
    {
     "name": "stdout",
     "output_type": "stream",
     "text": [
      "Index: 195, Year: 2017 Team: COL, Level of Success: WC\n"
     ]
    },
    {
     "name": "stderr",
     "output_type": "stream",
     "text": [
      "/var/folders/fh/fzyqqz2s1vzcm3v06kz1h29w0000gp/T/ipykernel_93107/521324885.py:8: UserWarning: Boolean Series key will be reindexed to match DataFrame index.\n",
      "  temp_stats = all_team_stats[all_team_stats['team'] == team['Team']][all_team_stats['date'].astype(str).str.startswith(str(team['Year']))][all_team_stats['gametype'] == 'regular'][team_features]\n",
      "/var/folders/fh/fzyqqz2s1vzcm3v06kz1h29w0000gp/T/ipykernel_93107/521324885.py:8: UserWarning: Boolean Series key will be reindexed to match DataFrame index.\n",
      "  temp_stats = all_team_stats[all_team_stats['team'] == team['Team']][all_team_stats['date'].astype(str).str.startswith(str(team['Year']))][all_team_stats['gametype'] == 'regular'][team_features]\n"
     ]
    },
    {
     "name": "stdout",
     "output_type": "stream",
     "text": [
      "Index: 196, Year: 2018 Team: BOS, Level of Success: C\n"
     ]
    },
    {
     "name": "stderr",
     "output_type": "stream",
     "text": [
      "/var/folders/fh/fzyqqz2s1vzcm3v06kz1h29w0000gp/T/ipykernel_93107/521324885.py:8: UserWarning: Boolean Series key will be reindexed to match DataFrame index.\n",
      "  temp_stats = all_team_stats[all_team_stats['team'] == team['Team']][all_team_stats['date'].astype(str).str.startswith(str(team['Year']))][all_team_stats['gametype'] == 'regular'][team_features]\n",
      "/var/folders/fh/fzyqqz2s1vzcm3v06kz1h29w0000gp/T/ipykernel_93107/521324885.py:8: UserWarning: Boolean Series key will be reindexed to match DataFrame index.\n",
      "  temp_stats = all_team_stats[all_team_stats['team'] == team['Team']][all_team_stats['date'].astype(str).str.startswith(str(team['Year']))][all_team_stats['gametype'] == 'regular'][team_features]\n"
     ]
    },
    {
     "name": "stdout",
     "output_type": "stream",
     "text": [
      "Index: 197, Year: 2018 Team: HOU, Level of Success: LS\n"
     ]
    },
    {
     "name": "stderr",
     "output_type": "stream",
     "text": [
      "/var/folders/fh/fzyqqz2s1vzcm3v06kz1h29w0000gp/T/ipykernel_93107/521324885.py:8: UserWarning: Boolean Series key will be reindexed to match DataFrame index.\n",
      "  temp_stats = all_team_stats[all_team_stats['team'] == team['Team']][all_team_stats['date'].astype(str).str.startswith(str(team['Year']))][all_team_stats['gametype'] == 'regular'][team_features]\n",
      "/var/folders/fh/fzyqqz2s1vzcm3v06kz1h29w0000gp/T/ipykernel_93107/521324885.py:8: UserWarning: Boolean Series key will be reindexed to match DataFrame index.\n",
      "  temp_stats = all_team_stats[all_team_stats['team'] == team['Team']][all_team_stats['date'].astype(str).str.startswith(str(team['Year']))][all_team_stats['gametype'] == 'regular'][team_features]\n"
     ]
    },
    {
     "name": "stdout",
     "output_type": "stream",
     "text": [
      "Index: 198, Year: 2018 Team: CLE, Level of Success: DS\n"
     ]
    },
    {
     "name": "stderr",
     "output_type": "stream",
     "text": [
      "/var/folders/fh/fzyqqz2s1vzcm3v06kz1h29w0000gp/T/ipykernel_93107/521324885.py:8: UserWarning: Boolean Series key will be reindexed to match DataFrame index.\n",
      "  temp_stats = all_team_stats[all_team_stats['team'] == team['Team']][all_team_stats['date'].astype(str).str.startswith(str(team['Year']))][all_team_stats['gametype'] == 'regular'][team_features]\n",
      "/var/folders/fh/fzyqqz2s1vzcm3v06kz1h29w0000gp/T/ipykernel_93107/521324885.py:8: UserWarning: Boolean Series key will be reindexed to match DataFrame index.\n",
      "  temp_stats = all_team_stats[all_team_stats['team'] == team['Team']][all_team_stats['date'].astype(str).str.startswith(str(team['Year']))][all_team_stats['gametype'] == 'regular'][team_features]\n"
     ]
    },
    {
     "name": "stdout",
     "output_type": "stream",
     "text": [
      "Index: 199, Year: 2018 Team: NYA, Level of Success: DS\n"
     ]
    },
    {
     "name": "stderr",
     "output_type": "stream",
     "text": [
      "/var/folders/fh/fzyqqz2s1vzcm3v06kz1h29w0000gp/T/ipykernel_93107/521324885.py:8: UserWarning: Boolean Series key will be reindexed to match DataFrame index.\n",
      "  temp_stats = all_team_stats[all_team_stats['team'] == team['Team']][all_team_stats['date'].astype(str).str.startswith(str(team['Year']))][all_team_stats['gametype'] == 'regular'][team_features]\n",
      "/var/folders/fh/fzyqqz2s1vzcm3v06kz1h29w0000gp/T/ipykernel_93107/521324885.py:8: UserWarning: Boolean Series key will be reindexed to match DataFrame index.\n",
      "  temp_stats = all_team_stats[all_team_stats['team'] == team['Team']][all_team_stats['date'].astype(str).str.startswith(str(team['Year']))][all_team_stats['gametype'] == 'regular'][team_features]\n"
     ]
    },
    {
     "name": "stdout",
     "output_type": "stream",
     "text": [
      "Index: 200, Year: 2018 Team: OAK, Level of Success: WC\n"
     ]
    },
    {
     "name": "stderr",
     "output_type": "stream",
     "text": [
      "/var/folders/fh/fzyqqz2s1vzcm3v06kz1h29w0000gp/T/ipykernel_93107/521324885.py:8: UserWarning: Boolean Series key will be reindexed to match DataFrame index.\n",
      "  temp_stats = all_team_stats[all_team_stats['team'] == team['Team']][all_team_stats['date'].astype(str).str.startswith(str(team['Year']))][all_team_stats['gametype'] == 'regular'][team_features]\n",
      "/var/folders/fh/fzyqqz2s1vzcm3v06kz1h29w0000gp/T/ipykernel_93107/521324885.py:8: UserWarning: Boolean Series key will be reindexed to match DataFrame index.\n",
      "  temp_stats = all_team_stats[all_team_stats['team'] == team['Team']][all_team_stats['date'].astype(str).str.startswith(str(team['Year']))][all_team_stats['gametype'] == 'regular'][team_features]\n"
     ]
    },
    {
     "name": "stdout",
     "output_type": "stream",
     "text": [
      "Index: 201, Year: 2018 Team: MIL, Level of Success: LS\n"
     ]
    },
    {
     "name": "stderr",
     "output_type": "stream",
     "text": [
      "/var/folders/fh/fzyqqz2s1vzcm3v06kz1h29w0000gp/T/ipykernel_93107/521324885.py:8: UserWarning: Boolean Series key will be reindexed to match DataFrame index.\n",
      "  temp_stats = all_team_stats[all_team_stats['team'] == team['Team']][all_team_stats['date'].astype(str).str.startswith(str(team['Year']))][all_team_stats['gametype'] == 'regular'][team_features]\n",
      "/var/folders/fh/fzyqqz2s1vzcm3v06kz1h29w0000gp/T/ipykernel_93107/521324885.py:8: UserWarning: Boolean Series key will be reindexed to match DataFrame index.\n",
      "  temp_stats = all_team_stats[all_team_stats['team'] == team['Team']][all_team_stats['date'].astype(str).str.startswith(str(team['Year']))][all_team_stats['gametype'] == 'regular'][team_features]\n"
     ]
    },
    {
     "name": "stdout",
     "output_type": "stream",
     "text": [
      "Index: 202, Year: 2018 Team: LAN, Level of Success: WS\n"
     ]
    },
    {
     "name": "stderr",
     "output_type": "stream",
     "text": [
      "/var/folders/fh/fzyqqz2s1vzcm3v06kz1h29w0000gp/T/ipykernel_93107/521324885.py:8: UserWarning: Boolean Series key will be reindexed to match DataFrame index.\n",
      "  temp_stats = all_team_stats[all_team_stats['team'] == team['Team']][all_team_stats['date'].astype(str).str.startswith(str(team['Year']))][all_team_stats['gametype'] == 'regular'][team_features]\n",
      "/var/folders/fh/fzyqqz2s1vzcm3v06kz1h29w0000gp/T/ipykernel_93107/521324885.py:8: UserWarning: Boolean Series key will be reindexed to match DataFrame index.\n",
      "  temp_stats = all_team_stats[all_team_stats['team'] == team['Team']][all_team_stats['date'].astype(str).str.startswith(str(team['Year']))][all_team_stats['gametype'] == 'regular'][team_features]\n"
     ]
    },
    {
     "name": "stdout",
     "output_type": "stream",
     "text": [
      "Index: 203, Year: 2018 Team: ATL, Level of Success: DS\n"
     ]
    },
    {
     "name": "stderr",
     "output_type": "stream",
     "text": [
      "/var/folders/fh/fzyqqz2s1vzcm3v06kz1h29w0000gp/T/ipykernel_93107/521324885.py:8: UserWarning: Boolean Series key will be reindexed to match DataFrame index.\n",
      "  temp_stats = all_team_stats[all_team_stats['team'] == team['Team']][all_team_stats['date'].astype(str).str.startswith(str(team['Year']))][all_team_stats['gametype'] == 'regular'][team_features]\n",
      "/var/folders/fh/fzyqqz2s1vzcm3v06kz1h29w0000gp/T/ipykernel_93107/521324885.py:8: UserWarning: Boolean Series key will be reindexed to match DataFrame index.\n",
      "  temp_stats = all_team_stats[all_team_stats['team'] == team['Team']][all_team_stats['date'].astype(str).str.startswith(str(team['Year']))][all_team_stats['gametype'] == 'regular'][team_features]\n"
     ]
    },
    {
     "name": "stdout",
     "output_type": "stream",
     "text": [
      "Index: 204, Year: 2018 Team: CHN, Level of Success: WC\n"
     ]
    },
    {
     "name": "stderr",
     "output_type": "stream",
     "text": [
      "/var/folders/fh/fzyqqz2s1vzcm3v06kz1h29w0000gp/T/ipykernel_93107/521324885.py:8: UserWarning: Boolean Series key will be reindexed to match DataFrame index.\n",
      "  temp_stats = all_team_stats[all_team_stats['team'] == team['Team']][all_team_stats['date'].astype(str).str.startswith(str(team['Year']))][all_team_stats['gametype'] == 'regular'][team_features]\n",
      "/var/folders/fh/fzyqqz2s1vzcm3v06kz1h29w0000gp/T/ipykernel_93107/521324885.py:8: UserWarning: Boolean Series key will be reindexed to match DataFrame index.\n",
      "  temp_stats = all_team_stats[all_team_stats['team'] == team['Team']][all_team_stats['date'].astype(str).str.startswith(str(team['Year']))][all_team_stats['gametype'] == 'regular'][team_features]\n"
     ]
    },
    {
     "name": "stdout",
     "output_type": "stream",
     "text": [
      "Index: 205, Year: 2018 Team: COL, Level of Success: DS\n"
     ]
    },
    {
     "name": "stderr",
     "output_type": "stream",
     "text": [
      "/var/folders/fh/fzyqqz2s1vzcm3v06kz1h29w0000gp/T/ipykernel_93107/521324885.py:8: UserWarning: Boolean Series key will be reindexed to match DataFrame index.\n",
      "  temp_stats = all_team_stats[all_team_stats['team'] == team['Team']][all_team_stats['date'].astype(str).str.startswith(str(team['Year']))][all_team_stats['gametype'] == 'regular'][team_features]\n",
      "/var/folders/fh/fzyqqz2s1vzcm3v06kz1h29w0000gp/T/ipykernel_93107/521324885.py:8: UserWarning: Boolean Series key will be reindexed to match DataFrame index.\n",
      "  temp_stats = all_team_stats[all_team_stats['team'] == team['Team']][all_team_stats['date'].astype(str).str.startswith(str(team['Year']))][all_team_stats['gametype'] == 'regular'][team_features]\n"
     ]
    },
    {
     "name": "stdout",
     "output_type": "stream",
     "text": [
      "Index: 206, Year: 2019 Team: HOU, Level of Success: WS\n"
     ]
    },
    {
     "name": "stderr",
     "output_type": "stream",
     "text": [
      "/var/folders/fh/fzyqqz2s1vzcm3v06kz1h29w0000gp/T/ipykernel_93107/521324885.py:8: UserWarning: Boolean Series key will be reindexed to match DataFrame index.\n",
      "  temp_stats = all_team_stats[all_team_stats['team'] == team['Team']][all_team_stats['date'].astype(str).str.startswith(str(team['Year']))][all_team_stats['gametype'] == 'regular'][team_features]\n",
      "/var/folders/fh/fzyqqz2s1vzcm3v06kz1h29w0000gp/T/ipykernel_93107/521324885.py:8: UserWarning: Boolean Series key will be reindexed to match DataFrame index.\n",
      "  temp_stats = all_team_stats[all_team_stats['team'] == team['Team']][all_team_stats['date'].astype(str).str.startswith(str(team['Year']))][all_team_stats['gametype'] == 'regular'][team_features]\n"
     ]
    },
    {
     "name": "stdout",
     "output_type": "stream",
     "text": [
      "Index: 207, Year: 2019 Team: NYA, Level of Success: LS\n"
     ]
    },
    {
     "name": "stderr",
     "output_type": "stream",
     "text": [
      "/var/folders/fh/fzyqqz2s1vzcm3v06kz1h29w0000gp/T/ipykernel_93107/521324885.py:8: UserWarning: Boolean Series key will be reindexed to match DataFrame index.\n",
      "  temp_stats = all_team_stats[all_team_stats['team'] == team['Team']][all_team_stats['date'].astype(str).str.startswith(str(team['Year']))][all_team_stats['gametype'] == 'regular'][team_features]\n",
      "/var/folders/fh/fzyqqz2s1vzcm3v06kz1h29w0000gp/T/ipykernel_93107/521324885.py:8: UserWarning: Boolean Series key will be reindexed to match DataFrame index.\n",
      "  temp_stats = all_team_stats[all_team_stats['team'] == team['Team']][all_team_stats['date'].astype(str).str.startswith(str(team['Year']))][all_team_stats['gametype'] == 'regular'][team_features]\n"
     ]
    },
    {
     "name": "stdout",
     "output_type": "stream",
     "text": [
      "Index: 208, Year: 2019 Team: MIN, Level of Success: DS\n"
     ]
    },
    {
     "name": "stderr",
     "output_type": "stream",
     "text": [
      "/var/folders/fh/fzyqqz2s1vzcm3v06kz1h29w0000gp/T/ipykernel_93107/521324885.py:8: UserWarning: Boolean Series key will be reindexed to match DataFrame index.\n",
      "  temp_stats = all_team_stats[all_team_stats['team'] == team['Team']][all_team_stats['date'].astype(str).str.startswith(str(team['Year']))][all_team_stats['gametype'] == 'regular'][team_features]\n",
      "/var/folders/fh/fzyqqz2s1vzcm3v06kz1h29w0000gp/T/ipykernel_93107/521324885.py:8: UserWarning: Boolean Series key will be reindexed to match DataFrame index.\n",
      "  temp_stats = all_team_stats[all_team_stats['team'] == team['Team']][all_team_stats['date'].astype(str).str.startswith(str(team['Year']))][all_team_stats['gametype'] == 'regular'][team_features]\n"
     ]
    },
    {
     "name": "stdout",
     "output_type": "stream",
     "text": [
      "Index: 209, Year: 2019 Team: OAK, Level of Success: WC\n"
     ]
    },
    {
     "name": "stderr",
     "output_type": "stream",
     "text": [
      "/var/folders/fh/fzyqqz2s1vzcm3v06kz1h29w0000gp/T/ipykernel_93107/521324885.py:8: UserWarning: Boolean Series key will be reindexed to match DataFrame index.\n",
      "  temp_stats = all_team_stats[all_team_stats['team'] == team['Team']][all_team_stats['date'].astype(str).str.startswith(str(team['Year']))][all_team_stats['gametype'] == 'regular'][team_features]\n",
      "/var/folders/fh/fzyqqz2s1vzcm3v06kz1h29w0000gp/T/ipykernel_93107/521324885.py:8: UserWarning: Boolean Series key will be reindexed to match DataFrame index.\n",
      "  temp_stats = all_team_stats[all_team_stats['team'] == team['Team']][all_team_stats['date'].astype(str).str.startswith(str(team['Year']))][all_team_stats['gametype'] == 'regular'][team_features]\n"
     ]
    },
    {
     "name": "stdout",
     "output_type": "stream",
     "text": [
      "Index: 210, Year: 2019 Team: TBA, Level of Success: DS\n"
     ]
    },
    {
     "name": "stderr",
     "output_type": "stream",
     "text": [
      "/var/folders/fh/fzyqqz2s1vzcm3v06kz1h29w0000gp/T/ipykernel_93107/521324885.py:8: UserWarning: Boolean Series key will be reindexed to match DataFrame index.\n",
      "  temp_stats = all_team_stats[all_team_stats['team'] == team['Team']][all_team_stats['date'].astype(str).str.startswith(str(team['Year']))][all_team_stats['gametype'] == 'regular'][team_features]\n",
      "/var/folders/fh/fzyqqz2s1vzcm3v06kz1h29w0000gp/T/ipykernel_93107/521324885.py:8: UserWarning: Boolean Series key will be reindexed to match DataFrame index.\n",
      "  temp_stats = all_team_stats[all_team_stats['team'] == team['Team']][all_team_stats['date'].astype(str).str.startswith(str(team['Year']))][all_team_stats['gametype'] == 'regular'][team_features]\n"
     ]
    },
    {
     "name": "stdout",
     "output_type": "stream",
     "text": [
      "Index: 211, Year: 2019 Team: LAN, Level of Success: DS\n"
     ]
    },
    {
     "name": "stderr",
     "output_type": "stream",
     "text": [
      "/var/folders/fh/fzyqqz2s1vzcm3v06kz1h29w0000gp/T/ipykernel_93107/521324885.py:8: UserWarning: Boolean Series key will be reindexed to match DataFrame index.\n",
      "  temp_stats = all_team_stats[all_team_stats['team'] == team['Team']][all_team_stats['date'].astype(str).str.startswith(str(team['Year']))][all_team_stats['gametype'] == 'regular'][team_features]\n",
      "/var/folders/fh/fzyqqz2s1vzcm3v06kz1h29w0000gp/T/ipykernel_93107/521324885.py:8: UserWarning: Boolean Series key will be reindexed to match DataFrame index.\n",
      "  temp_stats = all_team_stats[all_team_stats['team'] == team['Team']][all_team_stats['date'].astype(str).str.startswith(str(team['Year']))][all_team_stats['gametype'] == 'regular'][team_features]\n"
     ]
    },
    {
     "name": "stdout",
     "output_type": "stream",
     "text": [
      "Index: 212, Year: 2019 Team: ATL, Level of Success: DS\n"
     ]
    },
    {
     "name": "stderr",
     "output_type": "stream",
     "text": [
      "/var/folders/fh/fzyqqz2s1vzcm3v06kz1h29w0000gp/T/ipykernel_93107/521324885.py:8: UserWarning: Boolean Series key will be reindexed to match DataFrame index.\n",
      "  temp_stats = all_team_stats[all_team_stats['team'] == team['Team']][all_team_stats['date'].astype(str).str.startswith(str(team['Year']))][all_team_stats['gametype'] == 'regular'][team_features]\n",
      "/var/folders/fh/fzyqqz2s1vzcm3v06kz1h29w0000gp/T/ipykernel_93107/521324885.py:8: UserWarning: Boolean Series key will be reindexed to match DataFrame index.\n",
      "  temp_stats = all_team_stats[all_team_stats['team'] == team['Team']][all_team_stats['date'].astype(str).str.startswith(str(team['Year']))][all_team_stats['gametype'] == 'regular'][team_features]\n"
     ]
    },
    {
     "name": "stdout",
     "output_type": "stream",
     "text": [
      "Index: 213, Year: 2019 Team: SLN, Level of Success: LS\n"
     ]
    },
    {
     "name": "stderr",
     "output_type": "stream",
     "text": [
      "/var/folders/fh/fzyqqz2s1vzcm3v06kz1h29w0000gp/T/ipykernel_93107/521324885.py:8: UserWarning: Boolean Series key will be reindexed to match DataFrame index.\n",
      "  temp_stats = all_team_stats[all_team_stats['team'] == team['Team']][all_team_stats['date'].astype(str).str.startswith(str(team['Year']))][all_team_stats['gametype'] == 'regular'][team_features]\n",
      "/var/folders/fh/fzyqqz2s1vzcm3v06kz1h29w0000gp/T/ipykernel_93107/521324885.py:8: UserWarning: Boolean Series key will be reindexed to match DataFrame index.\n",
      "  temp_stats = all_team_stats[all_team_stats['team'] == team['Team']][all_team_stats['date'].astype(str).str.startswith(str(team['Year']))][all_team_stats['gametype'] == 'regular'][team_features]\n"
     ]
    },
    {
     "name": "stdout",
     "output_type": "stream",
     "text": [
      "Index: 214, Year: 2019 Team: WAS, Level of Success: C\n"
     ]
    },
    {
     "name": "stderr",
     "output_type": "stream",
     "text": [
      "/var/folders/fh/fzyqqz2s1vzcm3v06kz1h29w0000gp/T/ipykernel_93107/521324885.py:8: UserWarning: Boolean Series key will be reindexed to match DataFrame index.\n",
      "  temp_stats = all_team_stats[all_team_stats['team'] == team['Team']][all_team_stats['date'].astype(str).str.startswith(str(team['Year']))][all_team_stats['gametype'] == 'regular'][team_features]\n",
      "/var/folders/fh/fzyqqz2s1vzcm3v06kz1h29w0000gp/T/ipykernel_93107/521324885.py:8: UserWarning: Boolean Series key will be reindexed to match DataFrame index.\n",
      "  temp_stats = all_team_stats[all_team_stats['team'] == team['Team']][all_team_stats['date'].astype(str).str.startswith(str(team['Year']))][all_team_stats['gametype'] == 'regular'][team_features]\n"
     ]
    },
    {
     "name": "stdout",
     "output_type": "stream",
     "text": [
      "Index: 215, Year: 2019 Team: MIL, Level of Success: WC\n"
     ]
    },
    {
     "name": "stderr",
     "output_type": "stream",
     "text": [
      "/var/folders/fh/fzyqqz2s1vzcm3v06kz1h29w0000gp/T/ipykernel_93107/521324885.py:8: UserWarning: Boolean Series key will be reindexed to match DataFrame index.\n",
      "  temp_stats = all_team_stats[all_team_stats['team'] == team['Team']][all_team_stats['date'].astype(str).str.startswith(str(team['Year']))][all_team_stats['gametype'] == 'regular'][team_features]\n",
      "/var/folders/fh/fzyqqz2s1vzcm3v06kz1h29w0000gp/T/ipykernel_93107/521324885.py:8: UserWarning: Boolean Series key will be reindexed to match DataFrame index.\n",
      "  temp_stats = all_team_stats[all_team_stats['team'] == team['Team']][all_team_stats['date'].astype(str).str.startswith(str(team['Year']))][all_team_stats['gametype'] == 'regular'][team_features]\n"
     ]
    },
    {
     "name": "stdout",
     "output_type": "stream",
     "text": [
      "Index: 216, Year: 2020 Team: TBA, Level of Success: WS\n"
     ]
    },
    {
     "name": "stderr",
     "output_type": "stream",
     "text": [
      "/var/folders/fh/fzyqqz2s1vzcm3v06kz1h29w0000gp/T/ipykernel_93107/521324885.py:8: UserWarning: Boolean Series key will be reindexed to match DataFrame index.\n",
      "  temp_stats = all_team_stats[all_team_stats['team'] == team['Team']][all_team_stats['date'].astype(str).str.startswith(str(team['Year']))][all_team_stats['gametype'] == 'regular'][team_features]\n",
      "/var/folders/fh/fzyqqz2s1vzcm3v06kz1h29w0000gp/T/ipykernel_93107/521324885.py:8: UserWarning: Boolean Series key will be reindexed to match DataFrame index.\n",
      "  temp_stats = all_team_stats[all_team_stats['team'] == team['Team']][all_team_stats['date'].astype(str).str.startswith(str(team['Year']))][all_team_stats['gametype'] == 'regular'][team_features]\n"
     ]
    },
    {
     "name": "stdout",
     "output_type": "stream",
     "text": [
      "Index: 217, Year: 2020 Team: OAK, Level of Success: DS\n"
     ]
    },
    {
     "name": "stderr",
     "output_type": "stream",
     "text": [
      "/var/folders/fh/fzyqqz2s1vzcm3v06kz1h29w0000gp/T/ipykernel_93107/521324885.py:8: UserWarning: Boolean Series key will be reindexed to match DataFrame index.\n",
      "  temp_stats = all_team_stats[all_team_stats['team'] == team['Team']][all_team_stats['date'].astype(str).str.startswith(str(team['Year']))][all_team_stats['gametype'] == 'regular'][team_features]\n",
      "/var/folders/fh/fzyqqz2s1vzcm3v06kz1h29w0000gp/T/ipykernel_93107/521324885.py:8: UserWarning: Boolean Series key will be reindexed to match DataFrame index.\n",
      "  temp_stats = all_team_stats[all_team_stats['team'] == team['Team']][all_team_stats['date'].astype(str).str.startswith(str(team['Year']))][all_team_stats['gametype'] == 'regular'][team_features]\n"
     ]
    },
    {
     "name": "stdout",
     "output_type": "stream",
     "text": [
      "Index: 218, Year: 2020 Team: MIN, Level of Success: WC\n"
     ]
    },
    {
     "name": "stderr",
     "output_type": "stream",
     "text": [
      "/var/folders/fh/fzyqqz2s1vzcm3v06kz1h29w0000gp/T/ipykernel_93107/521324885.py:8: UserWarning: Boolean Series key will be reindexed to match DataFrame index.\n",
      "  temp_stats = all_team_stats[all_team_stats['team'] == team['Team']][all_team_stats['date'].astype(str).str.startswith(str(team['Year']))][all_team_stats['gametype'] == 'regular'][team_features]\n",
      "/var/folders/fh/fzyqqz2s1vzcm3v06kz1h29w0000gp/T/ipykernel_93107/521324885.py:8: UserWarning: Boolean Series key will be reindexed to match DataFrame index.\n",
      "  temp_stats = all_team_stats[all_team_stats['team'] == team['Team']][all_team_stats['date'].astype(str).str.startswith(str(team['Year']))][all_team_stats['gametype'] == 'regular'][team_features]\n"
     ]
    },
    {
     "name": "stdout",
     "output_type": "stream",
     "text": [
      "Index: 219, Year: 2020 Team: CLE, Level of Success: WC\n"
     ]
    },
    {
     "name": "stderr",
     "output_type": "stream",
     "text": [
      "/var/folders/fh/fzyqqz2s1vzcm3v06kz1h29w0000gp/T/ipykernel_93107/521324885.py:8: UserWarning: Boolean Series key will be reindexed to match DataFrame index.\n",
      "  temp_stats = all_team_stats[all_team_stats['team'] == team['Team']][all_team_stats['date'].astype(str).str.startswith(str(team['Year']))][all_team_stats['gametype'] == 'regular'][team_features]\n",
      "/var/folders/fh/fzyqqz2s1vzcm3v06kz1h29w0000gp/T/ipykernel_93107/521324885.py:8: UserWarning: Boolean Series key will be reindexed to match DataFrame index.\n",
      "  temp_stats = all_team_stats[all_team_stats['team'] == team['Team']][all_team_stats['date'].astype(str).str.startswith(str(team['Year']))][all_team_stats['gametype'] == 'regular'][team_features]\n"
     ]
    },
    {
     "name": "stdout",
     "output_type": "stream",
     "text": [
      "Index: 220, Year: 2020 Team: NYA, Level of Success: DS\n"
     ]
    },
    {
     "name": "stderr",
     "output_type": "stream",
     "text": [
      "/var/folders/fh/fzyqqz2s1vzcm3v06kz1h29w0000gp/T/ipykernel_93107/521324885.py:8: UserWarning: Boolean Series key will be reindexed to match DataFrame index.\n",
      "  temp_stats = all_team_stats[all_team_stats['team'] == team['Team']][all_team_stats['date'].astype(str).str.startswith(str(team['Year']))][all_team_stats['gametype'] == 'regular'][team_features]\n",
      "/var/folders/fh/fzyqqz2s1vzcm3v06kz1h29w0000gp/T/ipykernel_93107/521324885.py:8: UserWarning: Boolean Series key will be reindexed to match DataFrame index.\n",
      "  temp_stats = all_team_stats[all_team_stats['team'] == team['Team']][all_team_stats['date'].astype(str).str.startswith(str(team['Year']))][all_team_stats['gametype'] == 'regular'][team_features]\n"
     ]
    },
    {
     "name": "stdout",
     "output_type": "stream",
     "text": [
      "Index: 221, Year: 2020 Team: HOU, Level of Success: LS\n"
     ]
    },
    {
     "name": "stderr",
     "output_type": "stream",
     "text": [
      "/var/folders/fh/fzyqqz2s1vzcm3v06kz1h29w0000gp/T/ipykernel_93107/521324885.py:8: UserWarning: Boolean Series key will be reindexed to match DataFrame index.\n",
      "  temp_stats = all_team_stats[all_team_stats['team'] == team['Team']][all_team_stats['date'].astype(str).str.startswith(str(team['Year']))][all_team_stats['gametype'] == 'regular'][team_features]\n",
      "/var/folders/fh/fzyqqz2s1vzcm3v06kz1h29w0000gp/T/ipykernel_93107/521324885.py:8: UserWarning: Boolean Series key will be reindexed to match DataFrame index.\n",
      "  temp_stats = all_team_stats[all_team_stats['team'] == team['Team']][all_team_stats['date'].astype(str).str.startswith(str(team['Year']))][all_team_stats['gametype'] == 'regular'][team_features]\n"
     ]
    },
    {
     "name": "stdout",
     "output_type": "stream",
     "text": [
      "Index: 222, Year: 2020 Team: CHA, Level of Success: WC\n"
     ]
    },
    {
     "name": "stderr",
     "output_type": "stream",
     "text": [
      "/var/folders/fh/fzyqqz2s1vzcm3v06kz1h29w0000gp/T/ipykernel_93107/521324885.py:8: UserWarning: Boolean Series key will be reindexed to match DataFrame index.\n",
      "  temp_stats = all_team_stats[all_team_stats['team'] == team['Team']][all_team_stats['date'].astype(str).str.startswith(str(team['Year']))][all_team_stats['gametype'] == 'regular'][team_features]\n",
      "/var/folders/fh/fzyqqz2s1vzcm3v06kz1h29w0000gp/T/ipykernel_93107/521324885.py:8: UserWarning: Boolean Series key will be reindexed to match DataFrame index.\n",
      "  temp_stats = all_team_stats[all_team_stats['team'] == team['Team']][all_team_stats['date'].astype(str).str.startswith(str(team['Year']))][all_team_stats['gametype'] == 'regular'][team_features]\n"
     ]
    },
    {
     "name": "stdout",
     "output_type": "stream",
     "text": [
      "Index: 223, Year: 2020 Team: TOR, Level of Success: WC\n"
     ]
    },
    {
     "name": "stderr",
     "output_type": "stream",
     "text": [
      "/var/folders/fh/fzyqqz2s1vzcm3v06kz1h29w0000gp/T/ipykernel_93107/521324885.py:8: UserWarning: Boolean Series key will be reindexed to match DataFrame index.\n",
      "  temp_stats = all_team_stats[all_team_stats['team'] == team['Team']][all_team_stats['date'].astype(str).str.startswith(str(team['Year']))][all_team_stats['gametype'] == 'regular'][team_features]\n",
      "/var/folders/fh/fzyqqz2s1vzcm3v06kz1h29w0000gp/T/ipykernel_93107/521324885.py:8: UserWarning: Boolean Series key will be reindexed to match DataFrame index.\n",
      "  temp_stats = all_team_stats[all_team_stats['team'] == team['Team']][all_team_stats['date'].astype(str).str.startswith(str(team['Year']))][all_team_stats['gametype'] == 'regular'][team_features]\n"
     ]
    },
    {
     "name": "stdout",
     "output_type": "stream",
     "text": [
      "Index: 224, Year: 2020 Team: LAN, Level of Success: C\n"
     ]
    },
    {
     "name": "stderr",
     "output_type": "stream",
     "text": [
      "/var/folders/fh/fzyqqz2s1vzcm3v06kz1h29w0000gp/T/ipykernel_93107/521324885.py:8: UserWarning: Boolean Series key will be reindexed to match DataFrame index.\n",
      "  temp_stats = all_team_stats[all_team_stats['team'] == team['Team']][all_team_stats['date'].astype(str).str.startswith(str(team['Year']))][all_team_stats['gametype'] == 'regular'][team_features]\n",
      "/var/folders/fh/fzyqqz2s1vzcm3v06kz1h29w0000gp/T/ipykernel_93107/521324885.py:8: UserWarning: Boolean Series key will be reindexed to match DataFrame index.\n",
      "  temp_stats = all_team_stats[all_team_stats['team'] == team['Team']][all_team_stats['date'].astype(str).str.startswith(str(team['Year']))][all_team_stats['gametype'] == 'regular'][team_features]\n"
     ]
    },
    {
     "name": "stdout",
     "output_type": "stream",
     "text": [
      "Index: 225, Year: 2020 Team: ATL, Level of Success: LS\n"
     ]
    },
    {
     "name": "stderr",
     "output_type": "stream",
     "text": [
      "/var/folders/fh/fzyqqz2s1vzcm3v06kz1h29w0000gp/T/ipykernel_93107/521324885.py:8: UserWarning: Boolean Series key will be reindexed to match DataFrame index.\n",
      "  temp_stats = all_team_stats[all_team_stats['team'] == team['Team']][all_team_stats['date'].astype(str).str.startswith(str(team['Year']))][all_team_stats['gametype'] == 'regular'][team_features]\n",
      "/var/folders/fh/fzyqqz2s1vzcm3v06kz1h29w0000gp/T/ipykernel_93107/521324885.py:8: UserWarning: Boolean Series key will be reindexed to match DataFrame index.\n",
      "  temp_stats = all_team_stats[all_team_stats['team'] == team['Team']][all_team_stats['date'].astype(str).str.startswith(str(team['Year']))][all_team_stats['gametype'] == 'regular'][team_features]\n"
     ]
    },
    {
     "name": "stdout",
     "output_type": "stream",
     "text": [
      "Index: 226, Year: 2020 Team: CHN, Level of Success: WC\n"
     ]
    },
    {
     "name": "stderr",
     "output_type": "stream",
     "text": [
      "/var/folders/fh/fzyqqz2s1vzcm3v06kz1h29w0000gp/T/ipykernel_93107/521324885.py:8: UserWarning: Boolean Series key will be reindexed to match DataFrame index.\n",
      "  temp_stats = all_team_stats[all_team_stats['team'] == team['Team']][all_team_stats['date'].astype(str).str.startswith(str(team['Year']))][all_team_stats['gametype'] == 'regular'][team_features]\n",
      "/var/folders/fh/fzyqqz2s1vzcm3v06kz1h29w0000gp/T/ipykernel_93107/521324885.py:8: UserWarning: Boolean Series key will be reindexed to match DataFrame index.\n",
      "  temp_stats = all_team_stats[all_team_stats['team'] == team['Team']][all_team_stats['date'].astype(str).str.startswith(str(team['Year']))][all_team_stats['gametype'] == 'regular'][team_features]\n"
     ]
    },
    {
     "name": "stdout",
     "output_type": "stream",
     "text": [
      "Index: 227, Year: 2020 Team: SDN, Level of Success: DS\n"
     ]
    },
    {
     "name": "stderr",
     "output_type": "stream",
     "text": [
      "/var/folders/fh/fzyqqz2s1vzcm3v06kz1h29w0000gp/T/ipykernel_93107/521324885.py:8: UserWarning: Boolean Series key will be reindexed to match DataFrame index.\n",
      "  temp_stats = all_team_stats[all_team_stats['team'] == team['Team']][all_team_stats['date'].astype(str).str.startswith(str(team['Year']))][all_team_stats['gametype'] == 'regular'][team_features]\n",
      "/var/folders/fh/fzyqqz2s1vzcm3v06kz1h29w0000gp/T/ipykernel_93107/521324885.py:8: UserWarning: Boolean Series key will be reindexed to match DataFrame index.\n",
      "  temp_stats = all_team_stats[all_team_stats['team'] == team['Team']][all_team_stats['date'].astype(str).str.startswith(str(team['Year']))][all_team_stats['gametype'] == 'regular'][team_features]\n"
     ]
    },
    {
     "name": "stdout",
     "output_type": "stream",
     "text": [
      "Index: 228, Year: 2020 Team: SLN, Level of Success: WC\n"
     ]
    },
    {
     "name": "stderr",
     "output_type": "stream",
     "text": [
      "/var/folders/fh/fzyqqz2s1vzcm3v06kz1h29w0000gp/T/ipykernel_93107/521324885.py:8: UserWarning: Boolean Series key will be reindexed to match DataFrame index.\n",
      "  temp_stats = all_team_stats[all_team_stats['team'] == team['Team']][all_team_stats['date'].astype(str).str.startswith(str(team['Year']))][all_team_stats['gametype'] == 'regular'][team_features]\n",
      "/var/folders/fh/fzyqqz2s1vzcm3v06kz1h29w0000gp/T/ipykernel_93107/521324885.py:8: UserWarning: Boolean Series key will be reindexed to match DataFrame index.\n",
      "  temp_stats = all_team_stats[all_team_stats['team'] == team['Team']][all_team_stats['date'].astype(str).str.startswith(str(team['Year']))][all_team_stats['gametype'] == 'regular'][team_features]\n"
     ]
    },
    {
     "name": "stdout",
     "output_type": "stream",
     "text": [
      "Index: 229, Year: 2020 Team: MIA, Level of Success: DS\n"
     ]
    },
    {
     "name": "stderr",
     "output_type": "stream",
     "text": [
      "/var/folders/fh/fzyqqz2s1vzcm3v06kz1h29w0000gp/T/ipykernel_93107/521324885.py:8: UserWarning: Boolean Series key will be reindexed to match DataFrame index.\n",
      "  temp_stats = all_team_stats[all_team_stats['team'] == team['Team']][all_team_stats['date'].astype(str).str.startswith(str(team['Year']))][all_team_stats['gametype'] == 'regular'][team_features]\n",
      "/var/folders/fh/fzyqqz2s1vzcm3v06kz1h29w0000gp/T/ipykernel_93107/521324885.py:8: UserWarning: Boolean Series key will be reindexed to match DataFrame index.\n",
      "  temp_stats = all_team_stats[all_team_stats['team'] == team['Team']][all_team_stats['date'].astype(str).str.startswith(str(team['Year']))][all_team_stats['gametype'] == 'regular'][team_features]\n"
     ]
    },
    {
     "name": "stdout",
     "output_type": "stream",
     "text": [
      "Index: 230, Year: 2020 Team: CIN, Level of Success: WC\n"
     ]
    },
    {
     "name": "stderr",
     "output_type": "stream",
     "text": [
      "/var/folders/fh/fzyqqz2s1vzcm3v06kz1h29w0000gp/T/ipykernel_93107/521324885.py:8: UserWarning: Boolean Series key will be reindexed to match DataFrame index.\n",
      "  temp_stats = all_team_stats[all_team_stats['team'] == team['Team']][all_team_stats['date'].astype(str).str.startswith(str(team['Year']))][all_team_stats['gametype'] == 'regular'][team_features]\n",
      "/var/folders/fh/fzyqqz2s1vzcm3v06kz1h29w0000gp/T/ipykernel_93107/521324885.py:8: UserWarning: Boolean Series key will be reindexed to match DataFrame index.\n",
      "  temp_stats = all_team_stats[all_team_stats['team'] == team['Team']][all_team_stats['date'].astype(str).str.startswith(str(team['Year']))][all_team_stats['gametype'] == 'regular'][team_features]\n"
     ]
    },
    {
     "name": "stdout",
     "output_type": "stream",
     "text": [
      "Index: 231, Year: 2020 Team: MIL, Level of Success: WC\n"
     ]
    },
    {
     "name": "stderr",
     "output_type": "stream",
     "text": [
      "/var/folders/fh/fzyqqz2s1vzcm3v06kz1h29w0000gp/T/ipykernel_93107/521324885.py:8: UserWarning: Boolean Series key will be reindexed to match DataFrame index.\n",
      "  temp_stats = all_team_stats[all_team_stats['team'] == team['Team']][all_team_stats['date'].astype(str).str.startswith(str(team['Year']))][all_team_stats['gametype'] == 'regular'][team_features]\n",
      "/var/folders/fh/fzyqqz2s1vzcm3v06kz1h29w0000gp/T/ipykernel_93107/521324885.py:8: UserWarning: Boolean Series key will be reindexed to match DataFrame index.\n",
      "  temp_stats = all_team_stats[all_team_stats['team'] == team['Team']][all_team_stats['date'].astype(str).str.startswith(str(team['Year']))][all_team_stats['gametype'] == 'regular'][team_features]\n"
     ]
    },
    {
     "name": "stdout",
     "output_type": "stream",
     "text": [
      "Index: 232, Year: 2021 Team: TBA, Level of Success: DS\n"
     ]
    },
    {
     "name": "stderr",
     "output_type": "stream",
     "text": [
      "/var/folders/fh/fzyqqz2s1vzcm3v06kz1h29w0000gp/T/ipykernel_93107/521324885.py:8: UserWarning: Boolean Series key will be reindexed to match DataFrame index.\n",
      "  temp_stats = all_team_stats[all_team_stats['team'] == team['Team']][all_team_stats['date'].astype(str).str.startswith(str(team['Year']))][all_team_stats['gametype'] == 'regular'][team_features]\n",
      "/var/folders/fh/fzyqqz2s1vzcm3v06kz1h29w0000gp/T/ipykernel_93107/521324885.py:8: UserWarning: Boolean Series key will be reindexed to match DataFrame index.\n",
      "  temp_stats = all_team_stats[all_team_stats['team'] == team['Team']][all_team_stats['date'].astype(str).str.startswith(str(team['Year']))][all_team_stats['gametype'] == 'regular'][team_features]\n"
     ]
    },
    {
     "name": "stdout",
     "output_type": "stream",
     "text": [
      "Index: 233, Year: 2021 Team: HOU, Level of Success: WS\n"
     ]
    },
    {
     "name": "stderr",
     "output_type": "stream",
     "text": [
      "/var/folders/fh/fzyqqz2s1vzcm3v06kz1h29w0000gp/T/ipykernel_93107/521324885.py:8: UserWarning: Boolean Series key will be reindexed to match DataFrame index.\n",
      "  temp_stats = all_team_stats[all_team_stats['team'] == team['Team']][all_team_stats['date'].astype(str).str.startswith(str(team['Year']))][all_team_stats['gametype'] == 'regular'][team_features]\n",
      "/var/folders/fh/fzyqqz2s1vzcm3v06kz1h29w0000gp/T/ipykernel_93107/521324885.py:8: UserWarning: Boolean Series key will be reindexed to match DataFrame index.\n",
      "  temp_stats = all_team_stats[all_team_stats['team'] == team['Team']][all_team_stats['date'].astype(str).str.startswith(str(team['Year']))][all_team_stats['gametype'] == 'regular'][team_features]\n"
     ]
    },
    {
     "name": "stdout",
     "output_type": "stream",
     "text": [
      "Index: 234, Year: 2021 Team: CHA, Level of Success: DS\n"
     ]
    },
    {
     "name": "stderr",
     "output_type": "stream",
     "text": [
      "/var/folders/fh/fzyqqz2s1vzcm3v06kz1h29w0000gp/T/ipykernel_93107/521324885.py:8: UserWarning: Boolean Series key will be reindexed to match DataFrame index.\n",
      "  temp_stats = all_team_stats[all_team_stats['team'] == team['Team']][all_team_stats['date'].astype(str).str.startswith(str(team['Year']))][all_team_stats['gametype'] == 'regular'][team_features]\n",
      "/var/folders/fh/fzyqqz2s1vzcm3v06kz1h29w0000gp/T/ipykernel_93107/521324885.py:8: UserWarning: Boolean Series key will be reindexed to match DataFrame index.\n",
      "  temp_stats = all_team_stats[all_team_stats['team'] == team['Team']][all_team_stats['date'].astype(str).str.startswith(str(team['Year']))][all_team_stats['gametype'] == 'regular'][team_features]\n"
     ]
    },
    {
     "name": "stdout",
     "output_type": "stream",
     "text": [
      "Index: 235, Year: 2021 Team: BOS, Level of Success: LS\n"
     ]
    },
    {
     "name": "stderr",
     "output_type": "stream",
     "text": [
      "/var/folders/fh/fzyqqz2s1vzcm3v06kz1h29w0000gp/T/ipykernel_93107/521324885.py:8: UserWarning: Boolean Series key will be reindexed to match DataFrame index.\n",
      "  temp_stats = all_team_stats[all_team_stats['team'] == team['Team']][all_team_stats['date'].astype(str).str.startswith(str(team['Year']))][all_team_stats['gametype'] == 'regular'][team_features]\n",
      "/var/folders/fh/fzyqqz2s1vzcm3v06kz1h29w0000gp/T/ipykernel_93107/521324885.py:8: UserWarning: Boolean Series key will be reindexed to match DataFrame index.\n",
      "  temp_stats = all_team_stats[all_team_stats['team'] == team['Team']][all_team_stats['date'].astype(str).str.startswith(str(team['Year']))][all_team_stats['gametype'] == 'regular'][team_features]\n"
     ]
    },
    {
     "name": "stdout",
     "output_type": "stream",
     "text": [
      "Index: 236, Year: 2021 Team: NYA, Level of Success: WC\n"
     ]
    },
    {
     "name": "stderr",
     "output_type": "stream",
     "text": [
      "/var/folders/fh/fzyqqz2s1vzcm3v06kz1h29w0000gp/T/ipykernel_93107/521324885.py:8: UserWarning: Boolean Series key will be reindexed to match DataFrame index.\n",
      "  temp_stats = all_team_stats[all_team_stats['team'] == team['Team']][all_team_stats['date'].astype(str).str.startswith(str(team['Year']))][all_team_stats['gametype'] == 'regular'][team_features]\n",
      "/var/folders/fh/fzyqqz2s1vzcm3v06kz1h29w0000gp/T/ipykernel_93107/521324885.py:8: UserWarning: Boolean Series key will be reindexed to match DataFrame index.\n",
      "  temp_stats = all_team_stats[all_team_stats['team'] == team['Team']][all_team_stats['date'].astype(str).str.startswith(str(team['Year']))][all_team_stats['gametype'] == 'regular'][team_features]\n"
     ]
    },
    {
     "name": "stdout",
     "output_type": "stream",
     "text": [
      "Index: 237, Year: 2021 Team: SFN, Level of Success: DS\n"
     ]
    },
    {
     "name": "stderr",
     "output_type": "stream",
     "text": [
      "/var/folders/fh/fzyqqz2s1vzcm3v06kz1h29w0000gp/T/ipykernel_93107/521324885.py:8: UserWarning: Boolean Series key will be reindexed to match DataFrame index.\n",
      "  temp_stats = all_team_stats[all_team_stats['team'] == team['Team']][all_team_stats['date'].astype(str).str.startswith(str(team['Year']))][all_team_stats['gametype'] == 'regular'][team_features]\n",
      "/var/folders/fh/fzyqqz2s1vzcm3v06kz1h29w0000gp/T/ipykernel_93107/521324885.py:8: UserWarning: Boolean Series key will be reindexed to match DataFrame index.\n",
      "  temp_stats = all_team_stats[all_team_stats['team'] == team['Team']][all_team_stats['date'].astype(str).str.startswith(str(team['Year']))][all_team_stats['gametype'] == 'regular'][team_features]\n"
     ]
    },
    {
     "name": "stdout",
     "output_type": "stream",
     "text": [
      "Index: 238, Year: 2021 Team: MIL, Level of Success: DS\n"
     ]
    },
    {
     "name": "stderr",
     "output_type": "stream",
     "text": [
      "/var/folders/fh/fzyqqz2s1vzcm3v06kz1h29w0000gp/T/ipykernel_93107/521324885.py:8: UserWarning: Boolean Series key will be reindexed to match DataFrame index.\n",
      "  temp_stats = all_team_stats[all_team_stats['team'] == team['Team']][all_team_stats['date'].astype(str).str.startswith(str(team['Year']))][all_team_stats['gametype'] == 'regular'][team_features]\n",
      "/var/folders/fh/fzyqqz2s1vzcm3v06kz1h29w0000gp/T/ipykernel_93107/521324885.py:8: UserWarning: Boolean Series key will be reindexed to match DataFrame index.\n",
      "  temp_stats = all_team_stats[all_team_stats['team'] == team['Team']][all_team_stats['date'].astype(str).str.startswith(str(team['Year']))][all_team_stats['gametype'] == 'regular'][team_features]\n"
     ]
    },
    {
     "name": "stdout",
     "output_type": "stream",
     "text": [
      "Index: 239, Year: 2021 Team: ATL, Level of Success: C\n"
     ]
    },
    {
     "name": "stderr",
     "output_type": "stream",
     "text": [
      "/var/folders/fh/fzyqqz2s1vzcm3v06kz1h29w0000gp/T/ipykernel_93107/521324885.py:8: UserWarning: Boolean Series key will be reindexed to match DataFrame index.\n",
      "  temp_stats = all_team_stats[all_team_stats['team'] == team['Team']][all_team_stats['date'].astype(str).str.startswith(str(team['Year']))][all_team_stats['gametype'] == 'regular'][team_features]\n",
      "/var/folders/fh/fzyqqz2s1vzcm3v06kz1h29w0000gp/T/ipykernel_93107/521324885.py:8: UserWarning: Boolean Series key will be reindexed to match DataFrame index.\n",
      "  temp_stats = all_team_stats[all_team_stats['team'] == team['Team']][all_team_stats['date'].astype(str).str.startswith(str(team['Year']))][all_team_stats['gametype'] == 'regular'][team_features]\n"
     ]
    },
    {
     "name": "stdout",
     "output_type": "stream",
     "text": [
      "Index: 240, Year: 2021 Team: LAN, Level of Success: LS\n"
     ]
    },
    {
     "name": "stderr",
     "output_type": "stream",
     "text": [
      "/var/folders/fh/fzyqqz2s1vzcm3v06kz1h29w0000gp/T/ipykernel_93107/521324885.py:8: UserWarning: Boolean Series key will be reindexed to match DataFrame index.\n",
      "  temp_stats = all_team_stats[all_team_stats['team'] == team['Team']][all_team_stats['date'].astype(str).str.startswith(str(team['Year']))][all_team_stats['gametype'] == 'regular'][team_features]\n",
      "/var/folders/fh/fzyqqz2s1vzcm3v06kz1h29w0000gp/T/ipykernel_93107/521324885.py:8: UserWarning: Boolean Series key will be reindexed to match DataFrame index.\n",
      "  temp_stats = all_team_stats[all_team_stats['team'] == team['Team']][all_team_stats['date'].astype(str).str.startswith(str(team['Year']))][all_team_stats['gametype'] == 'regular'][team_features]\n"
     ]
    },
    {
     "name": "stdout",
     "output_type": "stream",
     "text": [
      "Index: 241, Year: 2021 Team: SLN, Level of Success: WC\n"
     ]
    },
    {
     "name": "stderr",
     "output_type": "stream",
     "text": [
      "/var/folders/fh/fzyqqz2s1vzcm3v06kz1h29w0000gp/T/ipykernel_93107/521324885.py:8: UserWarning: Boolean Series key will be reindexed to match DataFrame index.\n",
      "  temp_stats = all_team_stats[all_team_stats['team'] == team['Team']][all_team_stats['date'].astype(str).str.startswith(str(team['Year']))][all_team_stats['gametype'] == 'regular'][team_features]\n",
      "/var/folders/fh/fzyqqz2s1vzcm3v06kz1h29w0000gp/T/ipykernel_93107/521324885.py:8: UserWarning: Boolean Series key will be reindexed to match DataFrame index.\n",
      "  temp_stats = all_team_stats[all_team_stats['team'] == team['Team']][all_team_stats['date'].astype(str).str.startswith(str(team['Year']))][all_team_stats['gametype'] == 'regular'][team_features]\n"
     ]
    },
    {
     "name": "stdout",
     "output_type": "stream",
     "text": [
      "Index: 242, Year: 2022 Team: HOU, Level of Success: C\n"
     ]
    },
    {
     "name": "stderr",
     "output_type": "stream",
     "text": [
      "/var/folders/fh/fzyqqz2s1vzcm3v06kz1h29w0000gp/T/ipykernel_93107/521324885.py:8: UserWarning: Boolean Series key will be reindexed to match DataFrame index.\n",
      "  temp_stats = all_team_stats[all_team_stats['team'] == team['Team']][all_team_stats['date'].astype(str).str.startswith(str(team['Year']))][all_team_stats['gametype'] == 'regular'][team_features]\n",
      "/var/folders/fh/fzyqqz2s1vzcm3v06kz1h29w0000gp/T/ipykernel_93107/521324885.py:8: UserWarning: Boolean Series key will be reindexed to match DataFrame index.\n",
      "  temp_stats = all_team_stats[all_team_stats['team'] == team['Team']][all_team_stats['date'].astype(str).str.startswith(str(team['Year']))][all_team_stats['gametype'] == 'regular'][team_features]\n"
     ]
    },
    {
     "name": "stdout",
     "output_type": "stream",
     "text": [
      "Index: 243, Year: 2022 Team: NYA, Level of Success: LS\n"
     ]
    },
    {
     "name": "stderr",
     "output_type": "stream",
     "text": [
      "/var/folders/fh/fzyqqz2s1vzcm3v06kz1h29w0000gp/T/ipykernel_93107/521324885.py:8: UserWarning: Boolean Series key will be reindexed to match DataFrame index.\n",
      "  temp_stats = all_team_stats[all_team_stats['team'] == team['Team']][all_team_stats['date'].astype(str).str.startswith(str(team['Year']))][all_team_stats['gametype'] == 'regular'][team_features]\n",
      "/var/folders/fh/fzyqqz2s1vzcm3v06kz1h29w0000gp/T/ipykernel_93107/521324885.py:8: UserWarning: Boolean Series key will be reindexed to match DataFrame index.\n",
      "  temp_stats = all_team_stats[all_team_stats['team'] == team['Team']][all_team_stats['date'].astype(str).str.startswith(str(team['Year']))][all_team_stats['gametype'] == 'regular'][team_features]\n"
     ]
    },
    {
     "name": "stdout",
     "output_type": "stream",
     "text": [
      "Index: 244, Year: 2022 Team: CLE, Level of Success: DS\n"
     ]
    },
    {
     "name": "stderr",
     "output_type": "stream",
     "text": [
      "/var/folders/fh/fzyqqz2s1vzcm3v06kz1h29w0000gp/T/ipykernel_93107/521324885.py:8: UserWarning: Boolean Series key will be reindexed to match DataFrame index.\n",
      "  temp_stats = all_team_stats[all_team_stats['team'] == team['Team']][all_team_stats['date'].astype(str).str.startswith(str(team['Year']))][all_team_stats['gametype'] == 'regular'][team_features]\n",
      "/var/folders/fh/fzyqqz2s1vzcm3v06kz1h29w0000gp/T/ipykernel_93107/521324885.py:8: UserWarning: Boolean Series key will be reindexed to match DataFrame index.\n",
      "  temp_stats = all_team_stats[all_team_stats['team'] == team['Team']][all_team_stats['date'].astype(str).str.startswith(str(team['Year']))][all_team_stats['gametype'] == 'regular'][team_features]\n"
     ]
    },
    {
     "name": "stdout",
     "output_type": "stream",
     "text": [
      "Index: 245, Year: 2022 Team: TOR, Level of Success: WC\n"
     ]
    },
    {
     "name": "stderr",
     "output_type": "stream",
     "text": [
      "/var/folders/fh/fzyqqz2s1vzcm3v06kz1h29w0000gp/T/ipykernel_93107/521324885.py:8: UserWarning: Boolean Series key will be reindexed to match DataFrame index.\n",
      "  temp_stats = all_team_stats[all_team_stats['team'] == team['Team']][all_team_stats['date'].astype(str).str.startswith(str(team['Year']))][all_team_stats['gametype'] == 'regular'][team_features]\n",
      "/var/folders/fh/fzyqqz2s1vzcm3v06kz1h29w0000gp/T/ipykernel_93107/521324885.py:8: UserWarning: Boolean Series key will be reindexed to match DataFrame index.\n",
      "  temp_stats = all_team_stats[all_team_stats['team'] == team['Team']][all_team_stats['date'].astype(str).str.startswith(str(team['Year']))][all_team_stats['gametype'] == 'regular'][team_features]\n"
     ]
    },
    {
     "name": "stdout",
     "output_type": "stream",
     "text": [
      "Index: 246, Year: 2022 Team: SEA, Level of Success: DS\n"
     ]
    },
    {
     "name": "stderr",
     "output_type": "stream",
     "text": [
      "/var/folders/fh/fzyqqz2s1vzcm3v06kz1h29w0000gp/T/ipykernel_93107/521324885.py:8: UserWarning: Boolean Series key will be reindexed to match DataFrame index.\n",
      "  temp_stats = all_team_stats[all_team_stats['team'] == team['Team']][all_team_stats['date'].astype(str).str.startswith(str(team['Year']))][all_team_stats['gametype'] == 'regular'][team_features]\n",
      "/var/folders/fh/fzyqqz2s1vzcm3v06kz1h29w0000gp/T/ipykernel_93107/521324885.py:8: UserWarning: Boolean Series key will be reindexed to match DataFrame index.\n",
      "  temp_stats = all_team_stats[all_team_stats['team'] == team['Team']][all_team_stats['date'].astype(str).str.startswith(str(team['Year']))][all_team_stats['gametype'] == 'regular'][team_features]\n"
     ]
    },
    {
     "name": "stdout",
     "output_type": "stream",
     "text": [
      "Index: 247, Year: 2022 Team: TBA, Level of Success: WC\n"
     ]
    },
    {
     "name": "stderr",
     "output_type": "stream",
     "text": [
      "/var/folders/fh/fzyqqz2s1vzcm3v06kz1h29w0000gp/T/ipykernel_93107/521324885.py:8: UserWarning: Boolean Series key will be reindexed to match DataFrame index.\n",
      "  temp_stats = all_team_stats[all_team_stats['team'] == team['Team']][all_team_stats['date'].astype(str).str.startswith(str(team['Year']))][all_team_stats['gametype'] == 'regular'][team_features]\n",
      "/var/folders/fh/fzyqqz2s1vzcm3v06kz1h29w0000gp/T/ipykernel_93107/521324885.py:8: UserWarning: Boolean Series key will be reindexed to match DataFrame index.\n",
      "  temp_stats = all_team_stats[all_team_stats['team'] == team['Team']][all_team_stats['date'].astype(str).str.startswith(str(team['Year']))][all_team_stats['gametype'] == 'regular'][team_features]\n"
     ]
    },
    {
     "name": "stdout",
     "output_type": "stream",
     "text": [
      "Index: 248, Year: 2022 Team: LAN, Level of Success: DS\n"
     ]
    },
    {
     "name": "stderr",
     "output_type": "stream",
     "text": [
      "/var/folders/fh/fzyqqz2s1vzcm3v06kz1h29w0000gp/T/ipykernel_93107/521324885.py:8: UserWarning: Boolean Series key will be reindexed to match DataFrame index.\n",
      "  temp_stats = all_team_stats[all_team_stats['team'] == team['Team']][all_team_stats['date'].astype(str).str.startswith(str(team['Year']))][all_team_stats['gametype'] == 'regular'][team_features]\n",
      "/var/folders/fh/fzyqqz2s1vzcm3v06kz1h29w0000gp/T/ipykernel_93107/521324885.py:8: UserWarning: Boolean Series key will be reindexed to match DataFrame index.\n",
      "  temp_stats = all_team_stats[all_team_stats['team'] == team['Team']][all_team_stats['date'].astype(str).str.startswith(str(team['Year']))][all_team_stats['gametype'] == 'regular'][team_features]\n"
     ]
    },
    {
     "name": "stdout",
     "output_type": "stream",
     "text": [
      "Index: 249, Year: 2022 Team: ATL, Level of Success: DS\n"
     ]
    },
    {
     "name": "stderr",
     "output_type": "stream",
     "text": [
      "/var/folders/fh/fzyqqz2s1vzcm3v06kz1h29w0000gp/T/ipykernel_93107/521324885.py:8: UserWarning: Boolean Series key will be reindexed to match DataFrame index.\n",
      "  temp_stats = all_team_stats[all_team_stats['team'] == team['Team']][all_team_stats['date'].astype(str).str.startswith(str(team['Year']))][all_team_stats['gametype'] == 'regular'][team_features]\n",
      "/var/folders/fh/fzyqqz2s1vzcm3v06kz1h29w0000gp/T/ipykernel_93107/521324885.py:8: UserWarning: Boolean Series key will be reindexed to match DataFrame index.\n",
      "  temp_stats = all_team_stats[all_team_stats['team'] == team['Team']][all_team_stats['date'].astype(str).str.startswith(str(team['Year']))][all_team_stats['gametype'] == 'regular'][team_features]\n"
     ]
    },
    {
     "name": "stdout",
     "output_type": "stream",
     "text": [
      "Index: 250, Year: 2022 Team: SLN, Level of Success: WC\n"
     ]
    },
    {
     "name": "stderr",
     "output_type": "stream",
     "text": [
      "/var/folders/fh/fzyqqz2s1vzcm3v06kz1h29w0000gp/T/ipykernel_93107/521324885.py:8: UserWarning: Boolean Series key will be reindexed to match DataFrame index.\n",
      "  temp_stats = all_team_stats[all_team_stats['team'] == team['Team']][all_team_stats['date'].astype(str).str.startswith(str(team['Year']))][all_team_stats['gametype'] == 'regular'][team_features]\n",
      "/var/folders/fh/fzyqqz2s1vzcm3v06kz1h29w0000gp/T/ipykernel_93107/521324885.py:8: UserWarning: Boolean Series key will be reindexed to match DataFrame index.\n",
      "  temp_stats = all_team_stats[all_team_stats['team'] == team['Team']][all_team_stats['date'].astype(str).str.startswith(str(team['Year']))][all_team_stats['gametype'] == 'regular'][team_features]\n"
     ]
    },
    {
     "name": "stdout",
     "output_type": "stream",
     "text": [
      "Index: 251, Year: 2022 Team: NYN, Level of Success: WC\n"
     ]
    },
    {
     "name": "stderr",
     "output_type": "stream",
     "text": [
      "/var/folders/fh/fzyqqz2s1vzcm3v06kz1h29w0000gp/T/ipykernel_93107/521324885.py:8: UserWarning: Boolean Series key will be reindexed to match DataFrame index.\n",
      "  temp_stats = all_team_stats[all_team_stats['team'] == team['Team']][all_team_stats['date'].astype(str).str.startswith(str(team['Year']))][all_team_stats['gametype'] == 'regular'][team_features]\n",
      "/var/folders/fh/fzyqqz2s1vzcm3v06kz1h29w0000gp/T/ipykernel_93107/521324885.py:8: UserWarning: Boolean Series key will be reindexed to match DataFrame index.\n",
      "  temp_stats = all_team_stats[all_team_stats['team'] == team['Team']][all_team_stats['date'].astype(str).str.startswith(str(team['Year']))][all_team_stats['gametype'] == 'regular'][team_features]\n"
     ]
    },
    {
     "name": "stdout",
     "output_type": "stream",
     "text": [
      "Index: 252, Year: 2022 Team: SDN, Level of Success: LS\n"
     ]
    },
    {
     "name": "stderr",
     "output_type": "stream",
     "text": [
      "/var/folders/fh/fzyqqz2s1vzcm3v06kz1h29w0000gp/T/ipykernel_93107/521324885.py:8: UserWarning: Boolean Series key will be reindexed to match DataFrame index.\n",
      "  temp_stats = all_team_stats[all_team_stats['team'] == team['Team']][all_team_stats['date'].astype(str).str.startswith(str(team['Year']))][all_team_stats['gametype'] == 'regular'][team_features]\n",
      "/var/folders/fh/fzyqqz2s1vzcm3v06kz1h29w0000gp/T/ipykernel_93107/521324885.py:8: UserWarning: Boolean Series key will be reindexed to match DataFrame index.\n",
      "  temp_stats = all_team_stats[all_team_stats['team'] == team['Team']][all_team_stats['date'].astype(str).str.startswith(str(team['Year']))][all_team_stats['gametype'] == 'regular'][team_features]\n"
     ]
    },
    {
     "name": "stdout",
     "output_type": "stream",
     "text": [
      "Index: 253, Year: 2022 Team: PHI, Level of Success: WS\n"
     ]
    },
    {
     "name": "stderr",
     "output_type": "stream",
     "text": [
      "/var/folders/fh/fzyqqz2s1vzcm3v06kz1h29w0000gp/T/ipykernel_93107/521324885.py:8: UserWarning: Boolean Series key will be reindexed to match DataFrame index.\n",
      "  temp_stats = all_team_stats[all_team_stats['team'] == team['Team']][all_team_stats['date'].astype(str).str.startswith(str(team['Year']))][all_team_stats['gametype'] == 'regular'][team_features]\n",
      "/var/folders/fh/fzyqqz2s1vzcm3v06kz1h29w0000gp/T/ipykernel_93107/521324885.py:8: UserWarning: Boolean Series key will be reindexed to match DataFrame index.\n",
      "  temp_stats = all_team_stats[all_team_stats['team'] == team['Team']][all_team_stats['date'].astype(str).str.startswith(str(team['Year']))][all_team_stats['gametype'] == 'regular'][team_features]\n"
     ]
    },
    {
     "name": "stdout",
     "output_type": "stream",
     "text": [
      "Index: 254, Year: 2023 Team: BAL, Level of Success: DS\n"
     ]
    },
    {
     "name": "stderr",
     "output_type": "stream",
     "text": [
      "/var/folders/fh/fzyqqz2s1vzcm3v06kz1h29w0000gp/T/ipykernel_93107/521324885.py:8: UserWarning: Boolean Series key will be reindexed to match DataFrame index.\n",
      "  temp_stats = all_team_stats[all_team_stats['team'] == team['Team']][all_team_stats['date'].astype(str).str.startswith(str(team['Year']))][all_team_stats['gametype'] == 'regular'][team_features]\n",
      "/var/folders/fh/fzyqqz2s1vzcm3v06kz1h29w0000gp/T/ipykernel_93107/521324885.py:8: UserWarning: Boolean Series key will be reindexed to match DataFrame index.\n",
      "  temp_stats = all_team_stats[all_team_stats['team'] == team['Team']][all_team_stats['date'].astype(str).str.startswith(str(team['Year']))][all_team_stats['gametype'] == 'regular'][team_features]\n"
     ]
    },
    {
     "name": "stdout",
     "output_type": "stream",
     "text": [
      "Index: 255, Year: 2023 Team: HOU, Level of Success: LS\n"
     ]
    },
    {
     "name": "stderr",
     "output_type": "stream",
     "text": [
      "/var/folders/fh/fzyqqz2s1vzcm3v06kz1h29w0000gp/T/ipykernel_93107/521324885.py:8: UserWarning: Boolean Series key will be reindexed to match DataFrame index.\n",
      "  temp_stats = all_team_stats[all_team_stats['team'] == team['Team']][all_team_stats['date'].astype(str).str.startswith(str(team['Year']))][all_team_stats['gametype'] == 'regular'][team_features]\n",
      "/var/folders/fh/fzyqqz2s1vzcm3v06kz1h29w0000gp/T/ipykernel_93107/521324885.py:8: UserWarning: Boolean Series key will be reindexed to match DataFrame index.\n",
      "  temp_stats = all_team_stats[all_team_stats['team'] == team['Team']][all_team_stats['date'].astype(str).str.startswith(str(team['Year']))][all_team_stats['gametype'] == 'regular'][team_features]\n"
     ]
    },
    {
     "name": "stdout",
     "output_type": "stream",
     "text": [
      "Index: 256, Year: 2023 Team: MIN, Level of Success: DS\n"
     ]
    },
    {
     "name": "stderr",
     "output_type": "stream",
     "text": [
      "/var/folders/fh/fzyqqz2s1vzcm3v06kz1h29w0000gp/T/ipykernel_93107/521324885.py:8: UserWarning: Boolean Series key will be reindexed to match DataFrame index.\n",
      "  temp_stats = all_team_stats[all_team_stats['team'] == team['Team']][all_team_stats['date'].astype(str).str.startswith(str(team['Year']))][all_team_stats['gametype'] == 'regular'][team_features]\n",
      "/var/folders/fh/fzyqqz2s1vzcm3v06kz1h29w0000gp/T/ipykernel_93107/521324885.py:8: UserWarning: Boolean Series key will be reindexed to match DataFrame index.\n",
      "  temp_stats = all_team_stats[all_team_stats['team'] == team['Team']][all_team_stats['date'].astype(str).str.startswith(str(team['Year']))][all_team_stats['gametype'] == 'regular'][team_features]\n"
     ]
    },
    {
     "name": "stdout",
     "output_type": "stream",
     "text": [
      "Index: 257, Year: 2023 Team: TBA, Level of Success: WC\n"
     ]
    },
    {
     "name": "stderr",
     "output_type": "stream",
     "text": [
      "/var/folders/fh/fzyqqz2s1vzcm3v06kz1h29w0000gp/T/ipykernel_93107/521324885.py:8: UserWarning: Boolean Series key will be reindexed to match DataFrame index.\n",
      "  temp_stats = all_team_stats[all_team_stats['team'] == team['Team']][all_team_stats['date'].astype(str).str.startswith(str(team['Year']))][all_team_stats['gametype'] == 'regular'][team_features]\n",
      "/var/folders/fh/fzyqqz2s1vzcm3v06kz1h29w0000gp/T/ipykernel_93107/521324885.py:8: UserWarning: Boolean Series key will be reindexed to match DataFrame index.\n",
      "  temp_stats = all_team_stats[all_team_stats['team'] == team['Team']][all_team_stats['date'].astype(str).str.startswith(str(team['Year']))][all_team_stats['gametype'] == 'regular'][team_features]\n"
     ]
    },
    {
     "name": "stdout",
     "output_type": "stream",
     "text": [
      "Index: 258, Year: 2023 Team: TEX, Level of Success: C\n"
     ]
    },
    {
     "name": "stderr",
     "output_type": "stream",
     "text": [
      "/var/folders/fh/fzyqqz2s1vzcm3v06kz1h29w0000gp/T/ipykernel_93107/521324885.py:8: UserWarning: Boolean Series key will be reindexed to match DataFrame index.\n",
      "  temp_stats = all_team_stats[all_team_stats['team'] == team['Team']][all_team_stats['date'].astype(str).str.startswith(str(team['Year']))][all_team_stats['gametype'] == 'regular'][team_features]\n",
      "/var/folders/fh/fzyqqz2s1vzcm3v06kz1h29w0000gp/T/ipykernel_93107/521324885.py:8: UserWarning: Boolean Series key will be reindexed to match DataFrame index.\n",
      "  temp_stats = all_team_stats[all_team_stats['team'] == team['Team']][all_team_stats['date'].astype(str).str.startswith(str(team['Year']))][all_team_stats['gametype'] == 'regular'][team_features]\n"
     ]
    },
    {
     "name": "stdout",
     "output_type": "stream",
     "text": [
      "Index: 259, Year: 2023 Team: TOR, Level of Success: WC\n"
     ]
    },
    {
     "name": "stderr",
     "output_type": "stream",
     "text": [
      "/var/folders/fh/fzyqqz2s1vzcm3v06kz1h29w0000gp/T/ipykernel_93107/521324885.py:8: UserWarning: Boolean Series key will be reindexed to match DataFrame index.\n",
      "  temp_stats = all_team_stats[all_team_stats['team'] == team['Team']][all_team_stats['date'].astype(str).str.startswith(str(team['Year']))][all_team_stats['gametype'] == 'regular'][team_features]\n",
      "/var/folders/fh/fzyqqz2s1vzcm3v06kz1h29w0000gp/T/ipykernel_93107/521324885.py:8: UserWarning: Boolean Series key will be reindexed to match DataFrame index.\n",
      "  temp_stats = all_team_stats[all_team_stats['team'] == team['Team']][all_team_stats['date'].astype(str).str.startswith(str(team['Year']))][all_team_stats['gametype'] == 'regular'][team_features]\n"
     ]
    },
    {
     "name": "stdout",
     "output_type": "stream",
     "text": [
      "Index: 260, Year: 2023 Team: ATL, Level of Success: DS\n"
     ]
    },
    {
     "name": "stderr",
     "output_type": "stream",
     "text": [
      "/var/folders/fh/fzyqqz2s1vzcm3v06kz1h29w0000gp/T/ipykernel_93107/521324885.py:8: UserWarning: Boolean Series key will be reindexed to match DataFrame index.\n",
      "  temp_stats = all_team_stats[all_team_stats['team'] == team['Team']][all_team_stats['date'].astype(str).str.startswith(str(team['Year']))][all_team_stats['gametype'] == 'regular'][team_features]\n",
      "/var/folders/fh/fzyqqz2s1vzcm3v06kz1h29w0000gp/T/ipykernel_93107/521324885.py:8: UserWarning: Boolean Series key will be reindexed to match DataFrame index.\n",
      "  temp_stats = all_team_stats[all_team_stats['team'] == team['Team']][all_team_stats['date'].astype(str).str.startswith(str(team['Year']))][all_team_stats['gametype'] == 'regular'][team_features]\n"
     ]
    },
    {
     "name": "stdout",
     "output_type": "stream",
     "text": [
      "Index: 261, Year: 2023 Team: LAN, Level of Success: DS\n"
     ]
    },
    {
     "name": "stderr",
     "output_type": "stream",
     "text": [
      "/var/folders/fh/fzyqqz2s1vzcm3v06kz1h29w0000gp/T/ipykernel_93107/521324885.py:8: UserWarning: Boolean Series key will be reindexed to match DataFrame index.\n",
      "  temp_stats = all_team_stats[all_team_stats['team'] == team['Team']][all_team_stats['date'].astype(str).str.startswith(str(team['Year']))][all_team_stats['gametype'] == 'regular'][team_features]\n",
      "/var/folders/fh/fzyqqz2s1vzcm3v06kz1h29w0000gp/T/ipykernel_93107/521324885.py:8: UserWarning: Boolean Series key will be reindexed to match DataFrame index.\n",
      "  temp_stats = all_team_stats[all_team_stats['team'] == team['Team']][all_team_stats['date'].astype(str).str.startswith(str(team['Year']))][all_team_stats['gametype'] == 'regular'][team_features]\n"
     ]
    },
    {
     "name": "stdout",
     "output_type": "stream",
     "text": [
      "Index: 262, Year: 2023 Team: MIL, Level of Success: WC\n"
     ]
    },
    {
     "name": "stderr",
     "output_type": "stream",
     "text": [
      "/var/folders/fh/fzyqqz2s1vzcm3v06kz1h29w0000gp/T/ipykernel_93107/521324885.py:8: UserWarning: Boolean Series key will be reindexed to match DataFrame index.\n",
      "  temp_stats = all_team_stats[all_team_stats['team'] == team['Team']][all_team_stats['date'].astype(str).str.startswith(str(team['Year']))][all_team_stats['gametype'] == 'regular'][team_features]\n",
      "/var/folders/fh/fzyqqz2s1vzcm3v06kz1h29w0000gp/T/ipykernel_93107/521324885.py:8: UserWarning: Boolean Series key will be reindexed to match DataFrame index.\n",
      "  temp_stats = all_team_stats[all_team_stats['team'] == team['Team']][all_team_stats['date'].astype(str).str.startswith(str(team['Year']))][all_team_stats['gametype'] == 'regular'][team_features]\n"
     ]
    },
    {
     "name": "stdout",
     "output_type": "stream",
     "text": [
      "Index: 263, Year: 2023 Team: PHI, Level of Success: LS\n"
     ]
    },
    {
     "name": "stderr",
     "output_type": "stream",
     "text": [
      "/var/folders/fh/fzyqqz2s1vzcm3v06kz1h29w0000gp/T/ipykernel_93107/521324885.py:8: UserWarning: Boolean Series key will be reindexed to match DataFrame index.\n",
      "  temp_stats = all_team_stats[all_team_stats['team'] == team['Team']][all_team_stats['date'].astype(str).str.startswith(str(team['Year']))][all_team_stats['gametype'] == 'regular'][team_features]\n",
      "/var/folders/fh/fzyqqz2s1vzcm3v06kz1h29w0000gp/T/ipykernel_93107/521324885.py:8: UserWarning: Boolean Series key will be reindexed to match DataFrame index.\n",
      "  temp_stats = all_team_stats[all_team_stats['team'] == team['Team']][all_team_stats['date'].astype(str).str.startswith(str(team['Year']))][all_team_stats['gametype'] == 'regular'][team_features]\n"
     ]
    },
    {
     "name": "stdout",
     "output_type": "stream",
     "text": [
      "Index: 264, Year: 2023 Team: MIA, Level of Success: WC\n"
     ]
    },
    {
     "name": "stderr",
     "output_type": "stream",
     "text": [
      "/var/folders/fh/fzyqqz2s1vzcm3v06kz1h29w0000gp/T/ipykernel_93107/521324885.py:8: UserWarning: Boolean Series key will be reindexed to match DataFrame index.\n",
      "  temp_stats = all_team_stats[all_team_stats['team'] == team['Team']][all_team_stats['date'].astype(str).str.startswith(str(team['Year']))][all_team_stats['gametype'] == 'regular'][team_features]\n",
      "/var/folders/fh/fzyqqz2s1vzcm3v06kz1h29w0000gp/T/ipykernel_93107/521324885.py:8: UserWarning: Boolean Series key will be reindexed to match DataFrame index.\n",
      "  temp_stats = all_team_stats[all_team_stats['team'] == team['Team']][all_team_stats['date'].astype(str).str.startswith(str(team['Year']))][all_team_stats['gametype'] == 'regular'][team_features]\n"
     ]
    },
    {
     "name": "stdout",
     "output_type": "stream",
     "text": [
      "Index: 265, Year: 2023 Team: ARI, Level of Success: WS\n"
     ]
    },
    {
     "name": "stderr",
     "output_type": "stream",
     "text": [
      "/var/folders/fh/fzyqqz2s1vzcm3v06kz1h29w0000gp/T/ipykernel_93107/521324885.py:8: UserWarning: Boolean Series key will be reindexed to match DataFrame index.\n",
      "  temp_stats = all_team_stats[all_team_stats['team'] == team['Team']][all_team_stats['date'].astype(str).str.startswith(str(team['Year']))][all_team_stats['gametype'] == 'regular'][team_features]\n",
      "/var/folders/fh/fzyqqz2s1vzcm3v06kz1h29w0000gp/T/ipykernel_93107/521324885.py:8: UserWarning: Boolean Series key will be reindexed to match DataFrame index.\n",
      "  temp_stats = all_team_stats[all_team_stats['team'] == team['Team']][all_team_stats['date'].astype(str).str.startswith(str(team['Year']))][all_team_stats['gametype'] == 'regular'][team_features]\n"
     ]
    },
    {
     "name": "stdout",
     "output_type": "stream",
     "text": [
      "Data saved to 'all_teams_data.pkl'\n"
     ]
    }
   ],
   "source": [
    "max_games = 163\n",
    "num_features = len(team_features)\n",
    "\n",
    "all_seasons = np.empty([0, max_games, num_features])\n",
    "\n",
    "for index, team in teams.iterrows():\n",
    "    print(f\"Index: {index}, Year: {team['Year']} Team: {team['Team']}, Level of Success: {team['Level of Success']}\")\n",
    "    temp_stats = all_team_stats[all_team_stats['team'] == team['Team']][all_team_stats['date'].astype(str).str.startswith(str(team['Year']))][all_team_stats['gametype'] == 'regular'][team_features]\n",
    "    temp_stats['wl'] = temp_stats['wl'].map({'w': 1, 'l': 0})\n",
    "    temp_stats = temp_stats.to_numpy()\n",
    "\n",
    "    padding = max_games - temp_stats.shape[0]\n",
    "    if padding > 0:\n",
    "        temp_stats = np.pad(temp_stats, ((0, padding), (0, 0)), mode='constant')\n",
    "    \n",
    "    temp_stats = np.reshape(temp_stats, (1, max_games, num_features))\n",
    "\n",
    "    all_seasons = np.vstack((all_seasons, temp_stats))\n",
    "\n",
    "with open('all_teams_data.pkl', 'wb') as file:\n",
    "    pickle.dump(all_seasons, file)\n",
    "\n",
    "print(\"Data saved to 'all_teams_data.pkl'\")"
   ]
  },
  {
   "cell_type": "code",
   "execution_count": null,
   "metadata": {},
   "outputs": [],
   "source": []
  }
 ],
 "metadata": {
  "kernelspec": {
   "display_name": "stat486venv",
   "language": "python",
   "name": "python3"
  },
  "language_info": {
   "codemirror_mode": {
    "name": "ipython",
    "version": 3
   },
   "file_extension": ".py",
   "mimetype": "text/x-python",
   "name": "python",
   "nbconvert_exporter": "python",
   "pygments_lexer": "ipython3",
   "version": "3.11.5"
  }
 },
 "nbformat": 4,
 "nbformat_minor": 2
}
